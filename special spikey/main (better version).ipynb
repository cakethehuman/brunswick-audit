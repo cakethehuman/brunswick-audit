{
 "cells": [
  {
   "cell_type": "code",
   "execution_count": 17,
   "metadata": {},
   "outputs": [],
   "source": [
    "import pandas as pd\n",
    "import numpy as np\n",
    "import matplotlib.pyplot as plt\n",
    "import seaborn as sns\n",
    "import scipy.stats as stats"
   ]
  },
  {
   "cell_type": "markdown",
   "metadata": {},
   "source": [
    "# We read the data first"
   ]
  },
  {
   "cell_type": "code",
   "execution_count": 18,
   "metadata": {},
   "outputs": [],
   "source": [
    "df = pd.read_csv('data.csv')"
   ]
  },
  {
   "cell_type": "code",
   "execution_count": 19,
   "metadata": {},
   "outputs": [
    {
     "data": {
      "application/vnd.microsoft.datawrangler.viewer.v0+json": {
       "columns": [
        {
         "name": "index",
         "rawType": "int64",
         "type": "integer"
        },
        {
         "name": "name",
         "rawType": "object",
         "type": "string"
        },
        {
         "name": "kills",
         "rawType": "int64",
         "type": "integer"
        }
       ],
       "conversionMethod": "pd.DataFrame",
       "ref": "3abf0ca2-f3f2-4c7a-92e9-991da8324a70",
       "rows": [
        [
         "0",
         "Oscarchoyzy24",
         "17"
        ],
        [
         "1",
         "Kazuyuki_Owen",
         "51"
        ],
        [
         "2",
         "Indonesia_ofMalaysia",
         "45"
        ],
        [
         "3",
         "jgwen19",
         "49"
        ],
        [
         "4",
         "Croezg",
         "46"
        ],
        [
         "5",
         "chanmeme1",
         "36"
        ],
        [
         "6",
         "jesterproandnoob",
         "50"
        ],
        [
         "7",
         "mrflipsflapz",
         "53"
        ],
        [
         "8",
         "SeaV1per1224",
         "59"
        ],
        [
         "9",
         "Luqman_indo",
         "46"
        ],
        [
         "10",
         "Dawnftb",
         "26"
        ],
        [
         "11",
         "AERBUTE1",
         "47"
        ],
        [
         "12",
         "camper8903",
         "57"
        ],
        [
         "13",
         "ConesOdebrecht",
         "84"
        ],
        [
         "14",
         "CommanderHikari",
         "37"
        ],
        [
         "15",
         "aryafariziii160",
         "33"
        ],
        [
         "16",
         "hotdoges142",
         "25"
        ],
        [
         "17",
         "ckpoa20",
         "45"
        ],
        [
         "18",
         "Liklyboos221",
         "68"
        ],
        [
         "19",
         "Shadow_bringer200",
         "27"
        ],
        [
         "20",
         "kite_167",
         "27"
        ],
        [
         "21",
         "IceBlox_Officical",
         "17"
        ],
        [
         "22",
         "spikey_001",
         "45"
        ],
        [
         "23",
         "Zweihvnders",
         "84"
        ],
        [
         "24",
         "pancake_w1",
         "31"
        ],
        [
         "25",
         "Gariksz",
         "65"
        ],
        [
         "26",
         "Cx_vt",
         "32"
        ],
        [
         "27",
         "nickthegodrider1289",
         "44"
        ],
        [
         "28",
         "raka6792",
         "29"
        ],
        [
         "29",
         "Jok_jok1234",
         "51"
        ],
        [
         "30",
         "commander_cookie1234",
         "39"
        ],
        [
         "31",
         "Lord_Emerald1",
         "19"
        ],
        [
         "32",
         "Dawnftb",
         "38"
        ],
        [
         "33",
         "jamesplayztv1",
         "2"
        ],
        [
         "34",
         "Luqman_indo",
         "37"
        ],
        [
         "35",
         "Croezg",
         "45"
        ],
        [
         "36",
         "Cogus_0828",
         "37"
        ],
        [
         "37",
         "GGXDArusha",
         "40"
        ],
        [
         "38",
         "Oscarchoyzy24",
         "82"
        ],
        [
         "39",
         "spikey_001",
         "53"
        ],
        [
         "40",
         "anathaliakdc",
         "38"
        ],
        [
         "41",
         "star_dustriver",
         "59"
        ],
        [
         "42",
         "Haloinqsss",
         "24"
        ],
        [
         "43",
         "nickthegodrider1289",
         "57"
        ],
        [
         "44",
         "CommanderHikari",
         "33"
        ],
        [
         "45",
         "UnknownWarrior144",
         "12"
        ],
        [
         "46",
         "Cx_vt",
         "42"
        ],
        [
         "47",
         "jiajun129",
         "38"
        ],
        [
         "48",
         "ER_CHANGED",
         "36"
        ],
        [
         "49",
         "aryafariziii160",
         "41"
        ]
       ],
       "shape": {
        "columns": 2,
        "rows": 154
       }
      },
      "text/html": [
       "<div>\n",
       "<style scoped>\n",
       "    .dataframe tbody tr th:only-of-type {\n",
       "        vertical-align: middle;\n",
       "    }\n",
       "\n",
       "    .dataframe tbody tr th {\n",
       "        vertical-align: top;\n",
       "    }\n",
       "\n",
       "    .dataframe thead th {\n",
       "        text-align: right;\n",
       "    }\n",
       "</style>\n",
       "<table border=\"1\" class=\"dataframe\">\n",
       "  <thead>\n",
       "    <tr style=\"text-align: right;\">\n",
       "      <th></th>\n",
       "      <th>name</th>\n",
       "      <th>kills</th>\n",
       "    </tr>\n",
       "  </thead>\n",
       "  <tbody>\n",
       "    <tr>\n",
       "      <th>0</th>\n",
       "      <td>Oscarchoyzy24</td>\n",
       "      <td>17</td>\n",
       "    </tr>\n",
       "    <tr>\n",
       "      <th>1</th>\n",
       "      <td>Kazuyuki_Owen</td>\n",
       "      <td>51</td>\n",
       "    </tr>\n",
       "    <tr>\n",
       "      <th>2</th>\n",
       "      <td>Indonesia_ofMalaysia</td>\n",
       "      <td>45</td>\n",
       "    </tr>\n",
       "    <tr>\n",
       "      <th>3</th>\n",
       "      <td>jgwen19</td>\n",
       "      <td>49</td>\n",
       "    </tr>\n",
       "    <tr>\n",
       "      <th>4</th>\n",
       "      <td>Croezg</td>\n",
       "      <td>46</td>\n",
       "    </tr>\n",
       "    <tr>\n",
       "      <th>...</th>\n",
       "      <td>...</td>\n",
       "      <td>...</td>\n",
       "    </tr>\n",
       "    <tr>\n",
       "      <th>149</th>\n",
       "      <td>David_Theusless</td>\n",
       "      <td>22</td>\n",
       "    </tr>\n",
       "    <tr>\n",
       "      <th>150</th>\n",
       "      <td>Cx_vt</td>\n",
       "      <td>50</td>\n",
       "    </tr>\n",
       "    <tr>\n",
       "      <th>151</th>\n",
       "      <td>CommanderHikari</td>\n",
       "      <td>36</td>\n",
       "    </tr>\n",
       "    <tr>\n",
       "      <th>152</th>\n",
       "      <td>SANS00_SIXX</td>\n",
       "      <td>57</td>\n",
       "    </tr>\n",
       "    <tr>\n",
       "      <th>153</th>\n",
       "      <td>Indonesia_ofMalaysia</td>\n",
       "      <td>49</td>\n",
       "    </tr>\n",
       "  </tbody>\n",
       "</table>\n",
       "<p>154 rows × 2 columns</p>\n",
       "</div>"
      ],
      "text/plain": [
       "                     name  kills\n",
       "0           Oscarchoyzy24     17\n",
       "1           Kazuyuki_Owen     51\n",
       "2    Indonesia_ofMalaysia     45\n",
       "3                 jgwen19     49\n",
       "4                  Croezg     46\n",
       "..                    ...    ...\n",
       "149       David_Theusless     22\n",
       "150                 Cx_vt     50\n",
       "151       CommanderHikari     36\n",
       "152           SANS00_SIXX     57\n",
       "153  Indonesia_ofMalaysia     49\n",
       "\n",
       "[154 rows x 2 columns]"
      ]
     },
     "execution_count": 19,
     "metadata": {},
     "output_type": "execute_result"
    }
   ],
   "source": [
    "df"
   ]
  },
  {
   "cell_type": "markdown",
   "metadata": {},
   "source": [
    "# Top 10 attandence all time"
   ]
  },
  {
   "cell_type": "code",
   "execution_count": 20,
   "metadata": {},
   "outputs": [
    {
     "data": {
      "image/png": "[encoded data removed]",
      "text/plain": [
       "<Figure size 640x480 with 1 Axes>"
      ]
     },
     "metadata": {},
     "output_type": "display_data"
    }
   ],
   "source": [
    "df[\"name\"].value_counts().nlargest(10).plot(kind='bar',colormap='viridis')\n",
    "plt.title(\"Attendance by Name\")\n",
    "plt.xlabel(\"Name\")\n",
    "plt.ylabel(\"Attendance\")\n",
    "plt.show()"
   ]
  },
  {
   "cell_type": "markdown",
   "metadata": {},
   "source": [
    "# avg attadance"
   ]
  },
  {
   "cell_type": "code",
   "execution_count": 21,
   "metadata": {},
   "outputs": [
    {
     "data": {
      "text/plain": [
       "2"
      ]
     },
     "execution_count": 21,
     "metadata": {},
     "output_type": "execute_result"
    }
   ],
   "source": [
    "round(df[\"name\"].value_counts().mean())"
   ]
  },
  {
   "cell_type": "markdown",
   "metadata": {},
   "source": [
    "# find there attadance"
   ]
  },
  {
   "cell_type": "code",
   "execution_count": 22,
   "metadata": {},
   "outputs": [
    {
     "data": {
      "application/vnd.microsoft.datawrangler.viewer.v0+json": {
       "columns": [
        {
         "name": "index",
         "rawType": "int64",
         "type": "integer"
        },
        {
         "name": "name",
         "rawType": "object",
         "type": "string"
        },
        {
         "name": "kills",
         "rawType": "int64",
         "type": "integer"
        }
       ],
       "conversionMethod": "pd.DataFrame",
       "ref": "7b2e3879-230a-4d2e-b2f2-8280f0811e5c",
       "rows": [
        [
         "7",
         "mrflipsflapz",
         "53"
        ],
        [
         "85",
         "mrflipsflapz",
         "61"
        ],
        [
         "116",
         "mrflipsflapz",
         "48"
        ],
        [
         "134",
         "mrflipsflapz",
         "51"
        ]
       ],
       "shape": {
        "columns": 2,
        "rows": 4
       }
      },
      "text/html": [
       "<div>\n",
       "<style scoped>\n",
       "    .dataframe tbody tr th:only-of-type {\n",
       "        vertical-align: middle;\n",
       "    }\n",
       "\n",
       "    .dataframe tbody tr th {\n",
       "        vertical-align: top;\n",
       "    }\n",
       "\n",
       "    .dataframe thead th {\n",
       "        text-align: right;\n",
       "    }\n",
       "</style>\n",
       "<table border=\"1\" class=\"dataframe\">\n",
       "  <thead>\n",
       "    <tr style=\"text-align: right;\">\n",
       "      <th></th>\n",
       "      <th>name</th>\n",
       "      <th>kills</th>\n",
       "    </tr>\n",
       "  </thead>\n",
       "  <tbody>\n",
       "    <tr>\n",
       "      <th>7</th>\n",
       "      <td>mrflipsflapz</td>\n",
       "      <td>53</td>\n",
       "    </tr>\n",
       "    <tr>\n",
       "      <th>85</th>\n",
       "      <td>mrflipsflapz</td>\n",
       "      <td>61</td>\n",
       "    </tr>\n",
       "    <tr>\n",
       "      <th>116</th>\n",
       "      <td>mrflipsflapz</td>\n",
       "      <td>48</td>\n",
       "    </tr>\n",
       "    <tr>\n",
       "      <th>134</th>\n",
       "      <td>mrflipsflapz</td>\n",
       "      <td>51</td>\n",
       "    </tr>\n",
       "  </tbody>\n",
       "</table>\n",
       "</div>"
      ],
      "text/plain": [
       "             name  kills\n",
       "7    mrflipsflapz     53\n",
       "85   mrflipsflapz     61\n",
       "116  mrflipsflapz     48\n",
       "134  mrflipsflapz     51"
      ]
     },
     "execution_count": 22,
     "metadata": {},
     "output_type": "execute_result"
    }
   ],
   "source": [
    "df[df['name'] == \"mrflipsflapz\"]\n"
   ]
  },
  {
   "cell_type": "markdown",
   "metadata": {},
   "source": [
    "# attadance for 1 week that is x >= 3\n",
    "\n"
   ]
  },
  {
   "cell_type": "code",
   "execution_count": 23,
   "metadata": {},
   "outputs": [
    {
     "data": {
      "text/plain": [
       "np.int64(4)"
      ]
     },
     "execution_count": 23,
     "metadata": {},
     "output_type": "execute_result"
    }
   ],
   "source": [
    "df[df[\"name\"] == \"mrflipsflapz\"].value_counts().sum()"
   ]
  },
  {
   "cell_type": "code",
   "execution_count": 24,
   "metadata": {},
   "outputs": [],
   "source": [
    "attandace = df[df[\"name\"] == \"mrflipsflapz\"].value_counts().sum()"
   ]
  },
  {
   "cell_type": "code",
   "execution_count": 25,
   "metadata": {},
   "outputs": [
    {
     "data": {
      "text/plain": [
       "name\n",
       "Oscarchoyzy24           True\n",
       "aryafariziii160         True\n",
       "Luqman_indo             True\n",
       "Dawnftb                 True\n",
       "nickthegodrider1289     True\n",
       "Cx_vt                   True\n",
       "Kazuyuki_Owen           True\n",
       "jgwen19                 True\n",
       "Liklyboos221            True\n",
       "CommanderHikari         True\n",
       "ckpoa20                 True\n",
       "Croezg                  True\n",
       "pancake_w1              True\n",
       "spikey_001              True\n",
       "camper8903              True\n",
       "mrflipsflapz            True\n",
       "Indonesia_ofMalaysia    True\n",
       "ConesOdebrecht          True\n",
       "chanmeme1               True\n",
       "SeaV1per1224            True\n",
       "anathaliakdc            True\n",
       "Zweihvnders             True\n",
       "commander_cookie1234    True\n",
       "raka6792                True\n",
       "kite_167                True\n",
       "polkomgyy44             True\n",
       "jellyy112345            True\n",
       "Name: count, dtype: bool"
      ]
     },
     "execution_count": 25,
     "metadata": {},
     "output_type": "execute_result"
    }
   ],
   "source": [
    "check_attadance = df[\"name\"].value_counts() >= 3\n",
    "check_attadance.map({True: 1, False: 0})\n",
    "check_attadance[check_attadance == 1]\n"
   ]
  },
  {
   "cell_type": "markdown",
   "metadata": {},
   "source": [
    "# kills info"
   ]
  },
  {
   "cell_type": "code",
   "execution_count": 26,
   "metadata": {},
   "outputs": [
    {
     "name": "stdout",
     "output_type": "stream",
     "text": [
      "The average kills for everyone is:  48.2\n"
     ]
    }
   ],
   "source": [
    "avg_kills_everyone = df[\"kills\"].mean()\n",
    "print(\"The average kills for everyone is: \", round(avg_kills_everyone,1))"
   ]
  },
  {
   "cell_type": "code",
   "execution_count": 27,
   "metadata": {},
   "outputs": [
    {
     "data": {
      "application/vnd.microsoft.datawrangler.viewer.v0+json": {
       "columns": [
        {
         "name": "index",
         "rawType": "int64",
         "type": "integer"
        },
        {
         "name": "name",
         "rawType": "object",
         "type": "string"
        },
        {
         "name": "kills",
         "rawType": "int64",
         "type": "integer"
        }
       ],
       "conversionMethod": "pd.DataFrame",
       "ref": "e42591e2-09fc-4e0a-8d8b-a0cc30cb26fd",
       "rows": [
        [
         "75",
         "polkomgyy44",
         "71"
        ],
        [
         "101",
         "polkomgyy44",
         "64"
        ],
        [
         "138",
         "polkomgyy44",
         "67"
        ]
       ],
       "shape": {
        "columns": 2,
        "rows": 3
       }
      },
      "text/html": [
       "<div>\n",
       "<style scoped>\n",
       "    .dataframe tbody tr th:only-of-type {\n",
       "        vertical-align: middle;\n",
       "    }\n",
       "\n",
       "    .dataframe tbody tr th {\n",
       "        vertical-align: top;\n",
       "    }\n",
       "\n",
       "    .dataframe thead th {\n",
       "        text-align: right;\n",
       "    }\n",
       "</style>\n",
       "<table border=\"1\" class=\"dataframe\">\n",
       "  <thead>\n",
       "    <tr style=\"text-align: right;\">\n",
       "      <th></th>\n",
       "      <th>name</th>\n",
       "      <th>kills</th>\n",
       "    </tr>\n",
       "  </thead>\n",
       "  <tbody>\n",
       "    <tr>\n",
       "      <th>75</th>\n",
       "      <td>polkomgyy44</td>\n",
       "      <td>71</td>\n",
       "    </tr>\n",
       "    <tr>\n",
       "      <th>101</th>\n",
       "      <td>polkomgyy44</td>\n",
       "      <td>64</td>\n",
       "    </tr>\n",
       "    <tr>\n",
       "      <th>138</th>\n",
       "      <td>polkomgyy44</td>\n",
       "      <td>67</td>\n",
       "    </tr>\n",
       "  </tbody>\n",
       "</table>\n",
       "</div>"
      ],
      "text/plain": [
       "            name  kills\n",
       "75   polkomgyy44     71\n",
       "101  polkomgyy44     64\n",
       "138  polkomgyy44     67"
      ]
     },
     "execution_count": 27,
     "metadata": {},
     "output_type": "execute_result"
    }
   ],
   "source": [
    "df[df[\"name\"] == \"polkomgyy44\"]"
   ]
  },
  {
   "cell_type": "code",
   "execution_count": 28,
   "metadata": {},
   "outputs": [
    {
     "data": {
      "application/vnd.microsoft.datawrangler.viewer.v0+json": {
       "columns": [
        {
         "name": "index",
         "rawType": "int64",
         "type": "integer"
        },
        {
         "name": "name",
         "rawType": "object",
         "type": "string"
        },
        {
         "name": "kills",
         "rawType": "int64",
         "type": "integer"
        }
       ],
       "conversionMethod": "pd.DataFrame",
       "ref": "8ab996ca-97c9-4369-8191-939e942c2479",
       "rows": [
        [
         "0",
         "Oscarchoyzy24",
         "17"
        ],
        [
         "1",
         "Kazuyuki_Owen",
         "51"
        ],
        [
         "2",
         "Indonesia_ofMalaysia",
         "45"
        ],
        [
         "3",
         "jgwen19",
         "49"
        ],
        [
         "4",
         "Croezg",
         "46"
        ],
        [
         "5",
         "chanmeme1",
         "36"
        ],
        [
         "6",
         "jesterproandnoob",
         "50"
        ],
        [
         "7",
         "mrflipsflapz",
         "53"
        ],
        [
         "8",
         "SeaV1per1224",
         "59"
        ],
        [
         "9",
         "Luqman_indo",
         "46"
        ],
        [
         "10",
         "Dawnftb",
         "26"
        ],
        [
         "11",
         "AERBUTE1",
         "47"
        ],
        [
         "12",
         "camper8903",
         "57"
        ],
        [
         "13",
         "ConesOdebrecht",
         "84"
        ],
        [
         "14",
         "CommanderHikari",
         "37"
        ],
        [
         "15",
         "aryafariziii160",
         "33"
        ],
        [
         "16",
         "hotdoges142",
         "25"
        ],
        [
         "17",
         "ckpoa20",
         "45"
        ],
        [
         "18",
         "Liklyboos221",
         "68"
        ],
        [
         "19",
         "Shadow_bringer200",
         "27"
        ],
        [
         "20",
         "kite_167",
         "27"
        ],
        [
         "21",
         "IceBlox_Officical",
         "17"
        ],
        [
         "22",
         "spikey_001",
         "45"
        ],
        [
         "23",
         "Zweihvnders",
         "84"
        ],
        [
         "24",
         "pancake_w1",
         "31"
        ],
        [
         "25",
         "Gariksz",
         "65"
        ],
        [
         "26",
         "Cx_vt",
         "32"
        ],
        [
         "27",
         "nickthegodrider1289",
         "44"
        ],
        [
         "28",
         "raka6792",
         "29"
        ],
        [
         "29",
         "Jok_jok1234",
         "51"
        ],
        [
         "30",
         "commander_cookie1234",
         "39"
        ],
        [
         "31",
         "Lord_Emerald1",
         "19"
        ],
        [
         "32",
         "Dawnftb",
         "38"
        ],
        [
         "33",
         "jamesplayztv1",
         "2"
        ],
        [
         "34",
         "Luqman_indo",
         "37"
        ],
        [
         "35",
         "Croezg",
         "45"
        ],
        [
         "36",
         "Cogus_0828",
         "37"
        ],
        [
         "37",
         "GGXDArusha",
         "40"
        ],
        [
         "38",
         "Oscarchoyzy24",
         "82"
        ],
        [
         "39",
         "spikey_001",
         "53"
        ],
        [
         "40",
         "anathaliakdc",
         "38"
        ],
        [
         "41",
         "star_dustriver",
         "59"
        ],
        [
         "42",
         "Haloinqsss",
         "24"
        ],
        [
         "43",
         "nickthegodrider1289",
         "57"
        ],
        [
         "44",
         "CommanderHikari",
         "33"
        ],
        [
         "45",
         "UnknownWarrior144",
         "12"
        ],
        [
         "46",
         "Cx_vt",
         "42"
        ],
        [
         "47",
         "jiajun129",
         "38"
        ],
        [
         "48",
         "ER_CHANGED",
         "36"
        ],
        [
         "49",
         "aryafariziii160",
         "41"
        ]
       ],
       "shape": {
        "columns": 2,
        "rows": 154
       }
      },
      "text/html": [
       "<div>\n",
       "<style scoped>\n",
       "    .dataframe tbody tr th:only-of-type {\n",
       "        vertical-align: middle;\n",
       "    }\n",
       "\n",
       "    .dataframe tbody tr th {\n",
       "        vertical-align: top;\n",
       "    }\n",
       "\n",
       "    .dataframe thead th {\n",
       "        text-align: right;\n",
       "    }\n",
       "</style>\n",
       "<table border=\"1\" class=\"dataframe\">\n",
       "  <thead>\n",
       "    <tr style=\"text-align: right;\">\n",
       "      <th></th>\n",
       "      <th>name</th>\n",
       "      <th>kills</th>\n",
       "    </tr>\n",
       "  </thead>\n",
       "  <tbody>\n",
       "    <tr>\n",
       "      <th>0</th>\n",
       "      <td>Oscarchoyzy24</td>\n",
       "      <td>17</td>\n",
       "    </tr>\n",
       "    <tr>\n",
       "      <th>1</th>\n",
       "      <td>Kazuyuki_Owen</td>\n",
       "      <td>51</td>\n",
       "    </tr>\n",
       "    <tr>\n",
       "      <th>2</th>\n",
       "      <td>Indonesia_ofMalaysia</td>\n",
       "      <td>45</td>\n",
       "    </tr>\n",
       "    <tr>\n",
       "      <th>3</th>\n",
       "      <td>jgwen19</td>\n",
       "      <td>49</td>\n",
       "    </tr>\n",
       "    <tr>\n",
       "      <th>4</th>\n",
       "      <td>Croezg</td>\n",
       "      <td>46</td>\n",
       "    </tr>\n",
       "    <tr>\n",
       "      <th>...</th>\n",
       "      <td>...</td>\n",
       "      <td>...</td>\n",
       "    </tr>\n",
       "    <tr>\n",
       "      <th>149</th>\n",
       "      <td>David_Theusless</td>\n",
       "      <td>22</td>\n",
       "    </tr>\n",
       "    <tr>\n",
       "      <th>150</th>\n",
       "      <td>Cx_vt</td>\n",
       "      <td>50</td>\n",
       "    </tr>\n",
       "    <tr>\n",
       "      <th>151</th>\n",
       "      <td>CommanderHikari</td>\n",
       "      <td>36</td>\n",
       "    </tr>\n",
       "    <tr>\n",
       "      <th>152</th>\n",
       "      <td>SANS00_SIXX</td>\n",
       "      <td>57</td>\n",
       "    </tr>\n",
       "    <tr>\n",
       "      <th>153</th>\n",
       "      <td>Indonesia_ofMalaysia</td>\n",
       "      <td>49</td>\n",
       "    </tr>\n",
       "  </tbody>\n",
       "</table>\n",
       "<p>154 rows × 2 columns</p>\n",
       "</div>"
      ],
      "text/plain": [
       "                     name  kills\n",
       "0           Oscarchoyzy24     17\n",
       "1           Kazuyuki_Owen     51\n",
       "2    Indonesia_ofMalaysia     45\n",
       "3                 jgwen19     49\n",
       "4                  Croezg     46\n",
       "..                    ...    ...\n",
       "149       David_Theusless     22\n",
       "150                 Cx_vt     50\n",
       "151       CommanderHikari     36\n",
       "152           SANS00_SIXX     57\n",
       "153  Indonesia_ofMalaysia     49\n",
       "\n",
       "[154 rows x 2 columns]"
      ]
     },
     "execution_count": 28,
     "metadata": {},
     "output_type": "execute_result"
    }
   ],
   "source": [
    "df"
   ]
  },
  {
   "cell_type": "code",
   "execution_count": 29,
   "metadata": {},
   "outputs": [
    {
     "data": {
      "text/plain": [
       "kills\n",
       "53    1\n",
       "61    1\n",
       "48    1\n",
       "51    1\n",
       "Name: count, dtype: int64"
      ]
     },
     "execution_count": 29,
     "metadata": {},
     "output_type": "execute_result"
    }
   ],
   "source": [
    "x = df[df[\"name\"] == \"mrflipsflapz\"]\n",
    "x[\"kills\"].value_counts()"
   ]
  },
  {
   "cell_type": "code",
   "execution_count": 30,
   "metadata": {},
   "outputs": [
    {
     "data": {
      "text/plain": [
       "Text(0.5, 1.0, 'Kills by Name')"
      ]
     },
     "execution_count": 30,
     "metadata": {},
     "output_type": "execute_result"
    },
    {
     "data": {
      "image/png": "[encoded data removed]",
      "text/plain": [
       "<Figure size 640x480 with 1 Axes>"
      ]
     },
     "metadata": {},
     "output_type": "display_data"
    }
   ],
   "source": [
    "plt.bar(x[\"name\"], x[\"kills\"])\n",
    "plt.title(\"Kills by Name\")"
   ]
  },
  {
   "cell_type": "markdown",
   "metadata": {},
   "source": [
    "# everyone avg"
   ]
  },
  {
   "cell_type": "code",
   "execution_count": 31,
   "metadata": {},
   "outputs": [
    {
     "name": "stdout",
     "output_type": "stream",
     "text": [
      "Oscarchoyzy24:🔵62.0\n",
      "Kazuyuki_Owen:🔵60.2\n",
      "Indonesia_ofMalaysia:🟢50.3\n",
      "jgwen19:🟢53.8\n",
      "Croezg:🟡42.5\n",
      "chanmeme1:🔵56.0\n",
      "jesterproandnoob:🔵56.5\n",
      "mrflipsflapz:🟢53.2\n",
      "SeaV1per1224:🔵72.3\n",
      "Luqman_indo:🟡37.8\n",
      "Dawnftb:🟠34.2\n",
      "AERBUTE1:🟢47.0\n",
      "camper8903:🔵61.0\n",
      "ConesOdebrecht:🔵90.7\n",
      "CommanderHikari:🟡37.8\n",
      "aryafariziii160:🟡43.8\n",
      "hotdoges142:🟠25.0\n",
      "ckpoa20:🟡42.8\n",
      "Liklyboos221:🔵65.8\n",
      "Shadow_bringer200:🟠27.0\n",
      "kite_167:🟡39.7\n",
      "IceBlox_Officical:🔴17.0\n",
      "spikey_001:🟢50.2\n",
      "Zweihvnders:🔵90.7\n",
      "pancake_w1:🟡38.5\n",
      "Gariksz:🔵65.0\n",
      "Cx_vt:🟡41.8\n",
      "nickthegodrider1289:🔵56.8\n",
      "raka6792:🟠31.7\n",
      "Jok_jok1234:🟢51.0\n",
      "commander_cookie1234:🟡39.3\n",
      "Lord_Emerald1:🟠22.5\n",
      "jamesplayztv1:🟠29.0\n",
      "Cogus_0828:🟡37.0\n",
      "GGXDArusha:🟡44.0\n",
      "anathaliakdc:🟡39.3\n",
      "star_dustriver:🔵59.0\n",
      "Haloinqsss:🟡40.5\n",
      "UnknownWarrior144:🔴12.0\n",
      "jiajun129:🟡38.0\n",
      "ER_CHANGED:🟡36.0\n",
      "Sunfull1:🟠31.0\n",
      "Nero_Kauko:🟠27.5\n",
      "Ferrum26_8:🔴11.0\n",
      "O56IsHere:🔴1.0\n",
      "kurtdylan1111:🟡42.0\n",
      "gtmsgamerG:🔵59.0\n",
      "jellyy112345:🟢46.0\n",
      "polkomgyy44:🔵67.3\n",
      "MarioUlici200702:🟡36.5\n",
      "Chanseoni:🟢55.0\n",
      "wninju:🟢50.0\n",
      "PeterPlayZYoutube:🔴20.0\n",
      "GRADE4092:🟢54.0\n",
      "chickenkampong:🟡42.0\n",
      "Chloemay2930:🔴18.0\n",
      "SomeRandomBucketName:🔵77.0\n",
      "BigBoiTrades96:🔵81.0\n",
      "poopoo19396:🟠30.0\n",
      "NothenInvicta:🔵73.0\n",
      "shield_4545:🔴19.0\n",
      "DRDanger46:🔵59.0\n",
      "aphexic:🔵85.0\n",
      "Skyler_Sentinal:🟢53.0\n",
      "Scornful_X:🔵58.0\n",
      "HoundVonSurrey:🔵68.0\n",
      "David_Theusless:🟠22.0\n",
      "SANS00_SIXX:🔵57.0\n"
     ]
    }
   ],
   "source": [
    "names = df[\"name\"].unique()\n",
    "for i in names:\n",
    "    find_avg_everyone = df[df[\"name\"] == i]\n",
    "    if find_avg_everyone['kills'].mean() <= 20:\n",
    "        print(f\"{i}:🔴{round(find_avg_everyone['kills'].mean(),1)}\")\n",
    "    elif find_avg_everyone['kills'].mean() < 35:\n",
    "        print(f\"{i}:🟠{round(find_avg_everyone['kills'].mean(),1)}\")\n",
    "    elif find_avg_everyone['kills'].mean() >= 35 and find_avg_everyone['kills'].mean() < 45:\n",
    "        print(f\"{i}:🟡{round(find_avg_everyone['kills'].mean(),1)}\")\n",
    "    elif find_avg_everyone['kills'].mean() >= 45 and find_avg_everyone['kills'].mean() <= 55:\n",
    "        print(f\"{i}:🟢{round(find_avg_everyone['kills'].mean(),1)}\")\n",
    "    elif find_avg_everyone['kills'].mean() >= 55:\n",
    "            print(f\"{i}:🔵{round(find_avg_everyone['kills'].mean(),1)}\")\n",
    "    else:\n",
    "        print(f\"{i}:❤️{round(find_avg_everyone['kills'].mean(),1)}\")\n",
    "        \n",
    "        \n",
    "        \n",
    " # Create a new csv file with the average kills,attandance and color code\n",
    " # hi spikey      \n",
    "        \n",
    "    \n",
    "with open(\"avg.csv\",\"w\") as file:\n",
    "    file.write(\"color_code,name,avg,atd\\n\")\n",
    "    \n",
    "    for i in names:\n",
    "        attandace = df[df[\"name\"] == i].value_counts().sum()\n",
    "        find_avg_everyone = df[df[\"name\"] == i]\n",
    "        \n",
    "        if find_avg_everyone['kills'].mean() <= 20:\n",
    "            file.write(f\":red_circle:,{i},{round(find_avg_everyone['kills'].mean(),1)},{attandace}\\n\")\n",
    "            \n",
    "        elif find_avg_everyone['kills'].mean() < 35:\n",
    "            file.write(f\":orange_circle:,{i},{round(find_avg_everyone['kills'].mean(),1)},{attandace}\\n\")\n",
    "            \n",
    "        elif find_avg_everyone['kills'].mean() >= 35 and find_avg_everyone['kills'].mean() < 45:\n",
    "            file.write(f\":yellow_circle:,{i},{round(find_avg_everyone['kills'].mean(),1)},{attandace}\\n\")\n",
    "            \n",
    "        elif find_avg_everyone['kills'].mean() >= 45 and find_avg_everyone['kills'].mean() <= 55:\n",
    "            file.write(f\":green_circle:,{i},{round(find_avg_everyone['kills'].mean(),1)},{attandace}\\n\")\n",
    "        elif find_avg_everyone['kills'].mean() >= 55:\n",
    "            file.write(f\":blue_circle:,{i},{round(find_avg_everyone['kills'].mean(),1)},{attandace}\\n\")\n",
    "        else:\n",
    "            file.write(f\":pink_heart:,{i},{round(find_avg_everyone['kills'].mean(),1)},{attandace}\\n\")\n",
    "            \n",
    "    #file.write(\"The meaning of the colors are:\\n :red_circle: = 0-20\\n :orange_circle: = 20-34\\n :yellow_circle: = 35-44\\n :green_circle: = 45-55\\n :blue_circle: = 56-100\")\n",
    "    \n",
    "    "
   ]
  },
  {
   "cell_type": "code",
   "execution_count": 32,
   "metadata": {},
   "outputs": [
    {
     "data": {
      "application/vnd.microsoft.datawrangler.viewer.v0+json": {
       "columns": [
        {
         "name": "index",
         "rawType": "int64",
         "type": "integer"
        },
        {
         "name": "color_code",
         "rawType": "object",
         "type": "string"
        },
        {
         "name": "name",
         "rawType": "object",
         "type": "string"
        },
        {
         "name": "avg",
         "rawType": "float64",
         "type": "float"
        },
        {
         "name": "atd",
         "rawType": "int64",
         "type": "integer"
        }
       ],
       "conversionMethod": "pd.DataFrame",
       "ref": "a1d26eb6-f4ef-4047-848f-a7a099a15bb3",
       "rows": [
        [
         "0",
         ":blue_circle:",
         "Oscarchoyzy24",
         "62.0",
         "5"
        ],
        [
         "1",
         ":blue_circle:",
         "Kazuyuki_Owen",
         "60.2",
         "4"
        ],
        [
         "2",
         ":green_circle:",
         "Indonesia_ofMalaysia",
         "50.3",
         "3"
        ],
        [
         "3",
         ":green_circle:",
         "jgwen19",
         "53.8",
         "4"
        ],
        [
         "4",
         ":yellow_circle:",
         "Croezg",
         "42.5",
         "4"
        ],
        [
         "5",
         ":blue_circle:",
         "chanmeme1",
         "56.0",
         "3"
        ],
        [
         "6",
         ":blue_circle:",
         "jesterproandnoob",
         "56.5",
         "2"
        ],
        [
         "7",
         ":green_circle:",
         "mrflipsflapz",
         "53.2",
         "4"
        ],
        [
         "8",
         ":blue_circle:",
         "SeaV1per1224",
         "72.3",
         "3"
        ],
        [
         "9",
         ":yellow_circle:",
         "Luqman_indo",
         "37.8",
         "5"
        ],
        [
         "10",
         ":orange_circle:",
         "Dawnftb",
         "34.2",
         "5"
        ],
        [
         "11",
         ":green_circle:",
         "AERBUTE1",
         "47.0",
         "1"
        ],
        [
         "12",
         ":blue_circle:",
         "camper8903",
         "61.0",
         "4"
        ],
        [
         "13",
         ":blue_circle:",
         "ConesOdebrecht",
         "90.7",
         "3"
        ],
        [
         "14",
         ":yellow_circle:",
         "CommanderHikari",
         "37.8",
         "4"
        ],
        [
         "15",
         ":yellow_circle:",
         "aryafariziii160",
         "43.8",
         "5"
        ],
        [
         "16",
         ":orange_circle:",
         "hotdoges142",
         "25.0",
         "1"
        ],
        [
         "17",
         ":yellow_circle:",
         "ckpoa20",
         "42.8",
         "4"
        ],
        [
         "18",
         ":blue_circle:",
         "Liklyboos221",
         "65.8",
         "4"
        ],
        [
         "19",
         ":orange_circle:",
         "Shadow_bringer200",
         "27.0",
         "1"
        ],
        [
         "20",
         ":yellow_circle:",
         "kite_167",
         "39.7",
         "3"
        ],
        [
         "21",
         ":red_circle:",
         "IceBlox_Officical",
         "17.0",
         "1"
        ],
        [
         "22",
         ":green_circle:",
         "spikey_001",
         "50.2",
         "4"
        ],
        [
         "23",
         ":blue_circle:",
         "Zweihvnders",
         "90.7",
         "3"
        ],
        [
         "24",
         ":yellow_circle:",
         "pancake_w1",
         "38.5",
         "4"
        ],
        [
         "25",
         ":blue_circle:",
         "Gariksz",
         "65.0",
         "1"
        ],
        [
         "26",
         ":yellow_circle:",
         "Cx_vt",
         "41.8",
         "5"
        ],
        [
         "27",
         ":blue_circle:",
         "nickthegodrider1289",
         "56.8",
         "5"
        ],
        [
         "28",
         ":orange_circle:",
         "raka6792",
         "31.7",
         "3"
        ],
        [
         "29",
         ":green_circle:",
         "Jok_jok1234",
         "51.0",
         "1"
        ],
        [
         "30",
         ":yellow_circle:",
         "commander_cookie1234",
         "39.3",
         "3"
        ],
        [
         "31",
         ":orange_circle:",
         "Lord_Emerald1",
         "22.5",
         "2"
        ],
        [
         "32",
         ":orange_circle:",
         "jamesplayztv1",
         "29.0",
         "2"
        ],
        [
         "33",
         ":yellow_circle:",
         "Cogus_0828",
         "37.0",
         "1"
        ],
        [
         "34",
         ":yellow_circle:",
         "GGXDArusha",
         "44.0",
         "2"
        ],
        [
         "35",
         ":yellow_circle:",
         "anathaliakdc",
         "39.3",
         "3"
        ],
        [
         "36",
         ":blue_circle:",
         "star_dustriver",
         "59.0",
         "1"
        ],
        [
         "37",
         ":yellow_circle:",
         "Haloinqsss",
         "40.5",
         "2"
        ],
        [
         "38",
         ":red_circle:",
         "UnknownWarrior144",
         "12.0",
         "1"
        ],
        [
         "39",
         ":yellow_circle:",
         "jiajun129",
         "38.0",
         "1"
        ],
        [
         "40",
         ":yellow_circle:",
         "ER_CHANGED",
         "36.0",
         "1"
        ],
        [
         "41",
         ":orange_circle:",
         "Sunfull1",
         "31.0",
         "1"
        ],
        [
         "42",
         ":orange_circle:",
         "Nero_Kauko",
         "27.5",
         "2"
        ],
        [
         "43",
         ":red_circle:",
         "Ferrum26_8",
         "11.0",
         "1"
        ],
        [
         "44",
         ":red_circle:",
         "O56IsHere",
         "1.0",
         "1"
        ],
        [
         "45",
         ":yellow_circle:",
         "kurtdylan1111",
         "42.0",
         "1"
        ],
        [
         "46",
         ":blue_circle:",
         "gtmsgamerG",
         "59.0",
         "2"
        ],
        [
         "47",
         ":green_circle:",
         "jellyy112345",
         "46.0",
         "3"
        ],
        [
         "48",
         ":blue_circle:",
         "polkomgyy44",
         "67.3",
         "3"
        ],
        [
         "49",
         ":yellow_circle:",
         "MarioUlici200702",
         "36.5",
         "2"
        ]
       ],
       "shape": {
        "columns": 4,
        "rows": 68
       }
      },
      "text/html": [
       "<div>\n",
       "<style scoped>\n",
       "    .dataframe tbody tr th:only-of-type {\n",
       "        vertical-align: middle;\n",
       "    }\n",
       "\n",
       "    .dataframe tbody tr th {\n",
       "        vertical-align: top;\n",
       "    }\n",
       "\n",
       "    .dataframe thead th {\n",
       "        text-align: right;\n",
       "    }\n",
       "</style>\n",
       "<table border=\"1\" class=\"dataframe\">\n",
       "  <thead>\n",
       "    <tr style=\"text-align: right;\">\n",
       "      <th></th>\n",
       "      <th>color_code</th>\n",
       "      <th>name</th>\n",
       "      <th>avg</th>\n",
       "      <th>atd</th>\n",
       "    </tr>\n",
       "  </thead>\n",
       "  <tbody>\n",
       "    <tr>\n",
       "      <th>0</th>\n",
       "      <td>:blue_circle:</td>\n",
       "      <td>Oscarchoyzy24</td>\n",
       "      <td>62.0</td>\n",
       "      <td>5</td>\n",
       "    </tr>\n",
       "    <tr>\n",
       "      <th>1</th>\n",
       "      <td>:blue_circle:</td>\n",
       "      <td>Kazuyuki_Owen</td>\n",
       "      <td>60.2</td>\n",
       "      <td>4</td>\n",
       "    </tr>\n",
       "    <tr>\n",
       "      <th>2</th>\n",
       "      <td>:green_circle:</td>\n",
       "      <td>Indonesia_ofMalaysia</td>\n",
       "      <td>50.3</td>\n",
       "      <td>3</td>\n",
       "    </tr>\n",
       "    <tr>\n",
       "      <th>3</th>\n",
       "      <td>:green_circle:</td>\n",
       "      <td>jgwen19</td>\n",
       "      <td>53.8</td>\n",
       "      <td>4</td>\n",
       "    </tr>\n",
       "    <tr>\n",
       "      <th>4</th>\n",
       "      <td>:yellow_circle:</td>\n",
       "      <td>Croezg</td>\n",
       "      <td>42.5</td>\n",
       "      <td>4</td>\n",
       "    </tr>\n",
       "    <tr>\n",
       "      <th>...</th>\n",
       "      <td>...</td>\n",
       "      <td>...</td>\n",
       "      <td>...</td>\n",
       "      <td>...</td>\n",
       "    </tr>\n",
       "    <tr>\n",
       "      <th>63</th>\n",
       "      <td>:green_circle:</td>\n",
       "      <td>Skyler_Sentinal</td>\n",
       "      <td>53.0</td>\n",
       "      <td>1</td>\n",
       "    </tr>\n",
       "    <tr>\n",
       "      <th>64</th>\n",
       "      <td>:blue_circle:</td>\n",
       "      <td>Scornful_X</td>\n",
       "      <td>58.0</td>\n",
       "      <td>1</td>\n",
       "    </tr>\n",
       "    <tr>\n",
       "      <th>65</th>\n",
       "      <td>:blue_circle:</td>\n",
       "      <td>HoundVonSurrey</td>\n",
       "      <td>68.0</td>\n",
       "      <td>1</td>\n",
       "    </tr>\n",
       "    <tr>\n",
       "      <th>66</th>\n",
       "      <td>:orange_circle:</td>\n",
       "      <td>David_Theusless</td>\n",
       "      <td>22.0</td>\n",
       "      <td>1</td>\n",
       "    </tr>\n",
       "    <tr>\n",
       "      <th>67</th>\n",
       "      <td>:blue_circle:</td>\n",
       "      <td>SANS00_SIXX</td>\n",
       "      <td>57.0</td>\n",
       "      <td>1</td>\n",
       "    </tr>\n",
       "  </tbody>\n",
       "</table>\n",
       "<p>68 rows × 4 columns</p>\n",
       "</div>"
      ],
      "text/plain": [
       "         color_code                  name   avg  atd\n",
       "0     :blue_circle:         Oscarchoyzy24  62.0    5\n",
       "1     :blue_circle:         Kazuyuki_Owen  60.2    4\n",
       "2    :green_circle:  Indonesia_ofMalaysia  50.3    3\n",
       "3    :green_circle:               jgwen19  53.8    4\n",
       "4   :yellow_circle:                Croezg  42.5    4\n",
       "..              ...                   ...   ...  ...\n",
       "63   :green_circle:       Skyler_Sentinal  53.0    1\n",
       "64    :blue_circle:            Scornful_X  58.0    1\n",
       "65    :blue_circle:        HoundVonSurrey  68.0    1\n",
       "66  :orange_circle:       David_Theusless  22.0    1\n",
       "67    :blue_circle:           SANS00_SIXX  57.0    1\n",
       "\n",
       "[68 rows x 4 columns]"
      ]
     },
     "execution_count": 32,
     "metadata": {},
     "output_type": "execute_result"
    }
   ],
   "source": [
    "df2 = pd.read_csv('avg.csv')\n",
    "df2"
   ]
  },
  {
   "cell_type": "code",
   "execution_count": 49,
   "metadata": {},
   "outputs": [],
   "source": [
    "df2.sort_values(ascending=False,by=\"avg\").to_csv(\"avg2.csv\",index=False)"
   ]
  }
 ],
 "metadata": {
  "kernelspec": {
   "display_name": "Python 3",
   "language": "python",
   "name": "python3"
  },
  "language_info": {
   "codemirror_mode": {
    "name": "ipython",
    "version": 3
   },
   "file_extension": ".py",
   "mimetype": "text/x-python",
   "name": "python",
   "nbconvert_exporter": "python",
   "pygments_lexer": "ipython3",
   "version": "3.11.9"
  }
 },
 "nbformat": 4,
 "nbformat_minor": 2
}
