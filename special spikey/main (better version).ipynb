{
 "cells": [
  {
   "cell_type": "code",
   "execution_count": 96,
   "metadata": {},
   "outputs": [],
   "source": [
    "import pandas as pd\n",
    "import numpy as np\n",
    "import matplotlib.pyplot as plt\n",
    "import seaborn as sns\n",
    "import scipy.stats as stats"
   ]
  },
  {
   "cell_type": "markdown",
   "metadata": {},
   "source": [
    "# We read the data first"
   ]
  },
  {
   "cell_type": "code",
   "execution_count": 97,
   "metadata": {},
   "outputs": [],
   "source": [
    "df = pd.read_csv('lazy2.csv')"
   ]
  },
  {
   "cell_type": "code",
   "execution_count": 98,
   "metadata": {},
   "outputs": [
    {
     "data": {
      "application/vnd.microsoft.datawrangler.viewer.v0+json": {
       "columns": [
        {
         "name": "index",
         "rawType": "int64",
         "type": "integer"
        },
        {
         "name": "name",
         "rawType": "object",
         "type": "string"
        },
        {
         "name": "kills",
         "rawType": "int64",
         "type": "integer"
        }
       ],
       "conversionMethod": "pd.DataFrame",
       "ref": "733755fa-d598-446d-9b7e-a6b192e940ab",
       "rows": [
        [
         "0",
         "polkomgyy44",
         "57"
        ],
        [
         "1",
         "commander_cookie1234",
         "10"
        ],
        [
         "2",
         "aphexic",
         "71"
        ],
        [
         "3",
         "Croezg",
         "23"
        ],
        [
         "4",
         "Mitsubira_Aratoshi",
         "63"
        ],
        [
         "5",
         "spikey_001",
         "46"
        ],
        [
         "6",
         "burnfield1k22",
         "61"
        ],
        [
         "7",
         "kite_167",
         "17"
        ],
        [
         "8",
         "Oscarchoyzy24",
         "88"
        ],
        [
         "9",
         "Zweihvnders",
         "73"
        ],
        [
         "10",
         "Kazuyuki_Owen",
         "44"
        ],
        [
         "11",
         "SeaV1per1224",
         "56"
        ],
        [
         "12",
         "eiltene123",
         "41"
        ],
        [
         "13",
         "mrflipsflapz",
         "49"
        ],
        [
         "14",
         "diwdwoa",
         "49"
        ],
        [
         "15",
         "Liklyboos221",
         "63"
        ],
        [
         "16",
         "jamesplayztv1",
         "52"
        ],
        [
         "17",
         "SomeRandomBucketName",
         "60"
        ],
        [
         "18",
         "gtmsgamerG",
         "24"
        ],
        [
         "19",
         "HarArkhichen",
         "63"
        ],
        [
         "20",
         "buddyboil1",
         "72"
        ],
        [
         "21",
         "chickenkampong",
         "30"
        ],
        [
         "22",
         "Dawnftb",
         "26"
        ],
        [
         "23",
         "darkenians",
         "52"
        ],
        [
         "24",
         "pancake_w1",
         "26"
        ],
        [
         "25",
         "nickthegodrider1289",
         "54"
        ],
        [
         "26",
         "jesterproandnoob",
         "53"
        ],
        [
         "27",
         "Haloinqsss",
         "48"
        ],
        [
         "28",
         "WazibaXD",
         "53"
        ],
        [
         "29",
         "HoundVonSurrey",
         "58"
        ],
        [
         "30",
         "Dawnftb",
         "51"
        ],
        [
         "31",
         "Oscarchoyzy24",
         "72"
        ],
        [
         "32",
         "spikey_001",
         "46"
        ],
        [
         "33",
         "jamesplayztv1",
         "0"
        ],
        [
         "34",
         "Mitsubira_Aratoshi",
         "67"
        ],
        [
         "35",
         "anathaliakdc",
         "45"
        ],
        [
         "36",
         "jgwen19",
         "56"
        ],
        [
         "37",
         "FrailBailen",
         "52"
        ],
        [
         "38",
         "mrflipsflapz",
         "52"
        ],
        [
         "39",
         "HarArkhichen",
         "30"
        ],
        [
         "40",
         "SeaV1per1224",
         "52"
        ],
        [
         "41",
         "O56IsHere",
         "29"
        ],
        [
         "42",
         "jiajun129",
         "47"
        ],
        [
         "43",
         "zoommine0423",
         "22"
        ],
        [
         "44",
         "polkomgyy44",
         "44"
        ],
        [
         "45",
         "kite_167",
         "22"
        ],
        [
         "46",
         "nickthegodrider1289",
         "42"
        ],
        [
         "47",
         "commander_cookie1234",
         "29"
        ],
        [
         "48",
         "HAPPY27259",
         "73"
        ],
        [
         "49",
         "AERBUTE1",
         "41"
        ]
       ],
       "shape": {
        "columns": 2,
        "rows": 149
       }
      },
      "text/html": [
       "<div>\n",
       "<style scoped>\n",
       "    .dataframe tbody tr th:only-of-type {\n",
       "        vertical-align: middle;\n",
       "    }\n",
       "\n",
       "    .dataframe tbody tr th {\n",
       "        vertical-align: top;\n",
       "    }\n",
       "\n",
       "    .dataframe thead th {\n",
       "        text-align: right;\n",
       "    }\n",
       "</style>\n",
       "<table border=\"1\" class=\"dataframe\">\n",
       "  <thead>\n",
       "    <tr style=\"text-align: right;\">\n",
       "      <th></th>\n",
       "      <th>name</th>\n",
       "      <th>kills</th>\n",
       "    </tr>\n",
       "  </thead>\n",
       "  <tbody>\n",
       "    <tr>\n",
       "      <th>0</th>\n",
       "      <td>polkomgyy44</td>\n",
       "      <td>57</td>\n",
       "    </tr>\n",
       "    <tr>\n",
       "      <th>1</th>\n",
       "      <td>commander_cookie1234</td>\n",
       "      <td>10</td>\n",
       "    </tr>\n",
       "    <tr>\n",
       "      <th>2</th>\n",
       "      <td>aphexic</td>\n",
       "      <td>71</td>\n",
       "    </tr>\n",
       "    <tr>\n",
       "      <th>3</th>\n",
       "      <td>Croezg</td>\n",
       "      <td>23</td>\n",
       "    </tr>\n",
       "    <tr>\n",
       "      <th>4</th>\n",
       "      <td>Mitsubira_Aratoshi</td>\n",
       "      <td>63</td>\n",
       "    </tr>\n",
       "    <tr>\n",
       "      <th>...</th>\n",
       "      <td>...</td>\n",
       "      <td>...</td>\n",
       "    </tr>\n",
       "    <tr>\n",
       "      <th>144</th>\n",
       "      <td>1owo164</td>\n",
       "      <td>32</td>\n",
       "    </tr>\n",
       "    <tr>\n",
       "      <th>145</th>\n",
       "      <td>muzman33</td>\n",
       "      <td>27</td>\n",
       "    </tr>\n",
       "    <tr>\n",
       "      <th>146</th>\n",
       "      <td>uzuhama9731</td>\n",
       "      <td>21</td>\n",
       "    </tr>\n",
       "    <tr>\n",
       "      <th>147</th>\n",
       "      <td>mekeyroberto</td>\n",
       "      <td>31</td>\n",
       "    </tr>\n",
       "    <tr>\n",
       "      <th>148</th>\n",
       "      <td>korea_67453</td>\n",
       "      <td>28</td>\n",
       "    </tr>\n",
       "  </tbody>\n",
       "</table>\n",
       "<p>149 rows × 2 columns</p>\n",
       "</div>"
      ],
      "text/plain": [
       "                     name  kills\n",
       "0             polkomgyy44     57\n",
       "1    commander_cookie1234     10\n",
       "2                 aphexic     71\n",
       "3                  Croezg     23\n",
       "4      Mitsubira_Aratoshi     63\n",
       "..                    ...    ...\n",
       "144               1owo164     32\n",
       "145              muzman33     27\n",
       "146           uzuhama9731     21\n",
       "147          mekeyroberto     31\n",
       "148           korea_67453     28\n",
       "\n",
       "[149 rows x 2 columns]"
      ]
     },
     "execution_count": 98,
     "metadata": {},
     "output_type": "execute_result"
    }
   ],
   "source": [
    "df"
   ]
  },
  {
   "cell_type": "markdown",
   "metadata": {},
   "source": [
    "# Top 10 attandence all time"
   ]
  },
  {
   "cell_type": "code",
   "execution_count": 99,
   "metadata": {},
   "outputs": [
    {
     "data": {
      "image/png": "[encoded data removed]",
      "text/plain": [
       "<Figure size 640x480 with 1 Axes>"
      ]
     },
     "metadata": {},
     "output_type": "display_data"
    }
   ],
   "source": [
    "df[\"name\"].value_counts().nlargest(10).plot(kind='bar',colormap='viridis')\n",
    "plt.title(\"Attendance by Name\")\n",
    "plt.xlabel(\"Name\")\n",
    "plt.ylabel(\"Attendance\")\n",
    "plt.show()"
   ]
  },
  {
   "cell_type": "markdown",
   "metadata": {},
   "source": [
    "# avg attadance"
   ]
  },
  {
   "cell_type": "code",
   "execution_count": 100,
   "metadata": {},
   "outputs": [
    {
     "data": {
      "text/plain": [
       "2"
      ]
     },
     "execution_count": 100,
     "metadata": {},
     "output_type": "execute_result"
    }
   ],
   "source": [
    "round(df[\"name\"].value_counts().mean())"
   ]
  },
  {
   "cell_type": "markdown",
   "metadata": {},
   "source": [
    "# find there attadance"
   ]
  },
  {
   "cell_type": "code",
   "execution_count": 101,
   "metadata": {},
   "outputs": [
    {
     "data": {
      "application/vnd.microsoft.datawrangler.viewer.v0+json": {
       "columns": [
        {
         "name": "index",
         "rawType": "int64",
         "type": "integer"
        },
        {
         "name": "name",
         "rawType": "object",
         "type": "string"
        },
        {
         "name": "kills",
         "rawType": "int64",
         "type": "integer"
        }
       ],
       "conversionMethod": "pd.DataFrame",
       "ref": "521cdf53-3f7c-4bda-a9ef-068c796faf57",
       "rows": [
        [
         "13",
         "mrflipsflapz",
         "49"
        ],
        [
         "38",
         "mrflipsflapz",
         "52"
        ],
        [
         "58",
         "mrflipsflapz",
         "49"
        ]
       ],
       "shape": {
        "columns": 2,
        "rows": 3
       }
      },
      "text/html": [
       "<div>\n",
       "<style scoped>\n",
       "    .dataframe tbody tr th:only-of-type {\n",
       "        vertical-align: middle;\n",
       "    }\n",
       "\n",
       "    .dataframe tbody tr th {\n",
       "        vertical-align: top;\n",
       "    }\n",
       "\n",
       "    .dataframe thead th {\n",
       "        text-align: right;\n",
       "    }\n",
       "</style>\n",
       "<table border=\"1\" class=\"dataframe\">\n",
       "  <thead>\n",
       "    <tr style=\"text-align: right;\">\n",
       "      <th></th>\n",
       "      <th>name</th>\n",
       "      <th>kills</th>\n",
       "    </tr>\n",
       "  </thead>\n",
       "  <tbody>\n",
       "    <tr>\n",
       "      <th>13</th>\n",
       "      <td>mrflipsflapz</td>\n",
       "      <td>49</td>\n",
       "    </tr>\n",
       "    <tr>\n",
       "      <th>38</th>\n",
       "      <td>mrflipsflapz</td>\n",
       "      <td>52</td>\n",
       "    </tr>\n",
       "    <tr>\n",
       "      <th>58</th>\n",
       "      <td>mrflipsflapz</td>\n",
       "      <td>49</td>\n",
       "    </tr>\n",
       "  </tbody>\n",
       "</table>\n",
       "</div>"
      ],
      "text/plain": [
       "            name  kills\n",
       "13  mrflipsflapz     49\n",
       "38  mrflipsflapz     52\n",
       "58  mrflipsflapz     49"
      ]
     },
     "execution_count": 101,
     "metadata": {},
     "output_type": "execute_result"
    }
   ],
   "source": [
    "df[df['name'] == \"mrflipsflapz\"]\n"
   ]
  },
  {
   "cell_type": "markdown",
   "metadata": {},
   "source": [
    "# attadance for 1 week that is x >= 3\n",
    "\n"
   ]
  },
  {
   "cell_type": "code",
   "execution_count": 102,
   "metadata": {},
   "outputs": [
    {
     "data": {
      "text/plain": [
       "np.int64(3)"
      ]
     },
     "execution_count": 102,
     "metadata": {},
     "output_type": "execute_result"
    }
   ],
   "source": [
    "df[df[\"name\"] == \"mrflipsflapz\"].value_counts().sum()"
   ]
  },
  {
   "cell_type": "code",
   "execution_count": 103,
   "metadata": {},
   "outputs": [],
   "source": [
    "attandace = df[df[\"name\"] == \"mrflipsflapz\"].value_counts().sum()"
   ]
  },
  {
   "cell_type": "code",
   "execution_count": 104,
   "metadata": {},
   "outputs": [
    {
     "data": {
      "text/plain": [
       "name\n",
       "commander_cookie1234    True\n",
       "kite_167                True\n",
       "Oscarchoyzy24           True\n",
       "nickthegodrider1289     True\n",
       "jamesplayztv1           True\n",
       "Mitsubira_Aratoshi      True\n",
       "polkomgyy44             True\n",
       "Liklyboos221            True\n",
       "Dawnftb                 True\n",
       "chanmeme1               True\n",
       "jesterproandnoob        True\n",
       "jiajun129               True\n",
       "anathaliakdc            True\n",
       "pancake_w1              True\n",
       "HarArkhichen            True\n",
       "spikey_001              True\n",
       "Kazuyuki_Owen           True\n",
       "mrflipsflapz            True\n",
       "Gariksz                 True\n",
       "FrailBailen             True\n",
       "gtmsgamerG              True\n",
       "SeaV1per1224            True\n",
       "eiltene123              True\n",
       "Name: count, dtype: bool"
      ]
     },
     "execution_count": 104,
     "metadata": {},
     "output_type": "execute_result"
    }
   ],
   "source": [
    "check_attadance = df[\"name\"].value_counts() >= 3\n",
    "check_attadance.map({True: 1, False: 0})\n",
    "check_attadance[check_attadance == 1]\n"
   ]
  },
  {
   "cell_type": "markdown",
   "metadata": {},
   "source": [
    "# kills info"
   ]
  },
  {
   "cell_type": "code",
   "execution_count": 105,
   "metadata": {},
   "outputs": [
    {
     "name": "stdout",
     "output_type": "stream",
     "text": [
      "The average kills for everyone is:  44.9\n"
     ]
    }
   ],
   "source": [
    "avg_kills_everyone = df[\"kills\"].mean()\n",
    "print(\"The average kills for everyone is: \", round(avg_kills_everyone,1))"
   ]
  },
  {
   "cell_type": "code",
   "execution_count": 106,
   "metadata": {},
   "outputs": [
    {
     "data": {
      "application/vnd.microsoft.datawrangler.viewer.v0+json": {
       "columns": [
        {
         "name": "index",
         "rawType": "int64",
         "type": "integer"
        },
        {
         "name": "name",
         "rawType": "object",
         "type": "string"
        },
        {
         "name": "kills",
         "rawType": "int64",
         "type": "integer"
        }
       ],
       "conversionMethod": "pd.DataFrame",
       "ref": "58203f12-7d23-4fef-b533-7ee88dface8b",
       "rows": [
        [
         "0",
         "polkomgyy44",
         "57"
        ],
        [
         "44",
         "polkomgyy44",
         "44"
        ],
        [
         "56",
         "polkomgyy44",
         "48"
        ],
        [
         "88",
         "polkomgyy44",
         "50"
        ]
       ],
       "shape": {
        "columns": 2,
        "rows": 4
       }
      },
      "text/html": [
       "<div>\n",
       "<style scoped>\n",
       "    .dataframe tbody tr th:only-of-type {\n",
       "        vertical-align: middle;\n",
       "    }\n",
       "\n",
       "    .dataframe tbody tr th {\n",
       "        vertical-align: top;\n",
       "    }\n",
       "\n",
       "    .dataframe thead th {\n",
       "        text-align: right;\n",
       "    }\n",
       "</style>\n",
       "<table border=\"1\" class=\"dataframe\">\n",
       "  <thead>\n",
       "    <tr style=\"text-align: right;\">\n",
       "      <th></th>\n",
       "      <th>name</th>\n",
       "      <th>kills</th>\n",
       "    </tr>\n",
       "  </thead>\n",
       "  <tbody>\n",
       "    <tr>\n",
       "      <th>0</th>\n",
       "      <td>polkomgyy44</td>\n",
       "      <td>57</td>\n",
       "    </tr>\n",
       "    <tr>\n",
       "      <th>44</th>\n",
       "      <td>polkomgyy44</td>\n",
       "      <td>44</td>\n",
       "    </tr>\n",
       "    <tr>\n",
       "      <th>56</th>\n",
       "      <td>polkomgyy44</td>\n",
       "      <td>48</td>\n",
       "    </tr>\n",
       "    <tr>\n",
       "      <th>88</th>\n",
       "      <td>polkomgyy44</td>\n",
       "      <td>50</td>\n",
       "    </tr>\n",
       "  </tbody>\n",
       "</table>\n",
       "</div>"
      ],
      "text/plain": [
       "           name  kills\n",
       "0   polkomgyy44     57\n",
       "44  polkomgyy44     44\n",
       "56  polkomgyy44     48\n",
       "88  polkomgyy44     50"
      ]
     },
     "execution_count": 106,
     "metadata": {},
     "output_type": "execute_result"
    }
   ],
   "source": [
    "df[df[\"name\"] == \"polkomgyy44\"]"
   ]
  },
  {
   "cell_type": "markdown",
   "metadata": {},
   "source": [
    "# everyone avg"
   ]
  },
  {
   "cell_type": "code",
   "execution_count": 107,
   "metadata": {},
   "outputs": [
    {
     "name": "stdout",
     "output_type": "stream",
     "text": [
      "polkomgyy44:49.8\n",
      "commander_cookie1234:33.0\n",
      "aphexic:71.0\n",
      "Croezg:30.0\n",
      "Mitsubira_Aratoshi:71.8\n",
      "spikey_001:48.3\n",
      "burnfield1k22:61.0\n",
      "kite_167:27.8\n",
      "Oscarchoyzy24:80.4\n",
      "Zweihvnders:73.0\n",
      "Kazuyuki_Owen:54.7\n",
      "SeaV1per1224:58.3\n",
      "eiltene123:48.0\n",
      "mrflipsflapz:50.0\n",
      "diwdwoa:31.0\n",
      "Liklyboos221:65.0\n",
      "jamesplayztv1:41.6\n",
      "SomeRandomBucketName:71.0\n",
      "gtmsgamerG:31.7\n",
      "HarArkhichen:55.3\n",
      "buddyboil1:75.5\n",
      "chickenkampong:30.0\n",
      "Dawnftb:33.8\n",
      "darkenians:52.0\n",
      "pancake_w1:36.7\n",
      "nickthegodrider1289:46.6\n",
      "jesterproandnoob:49.2\n",
      "Haloinqsss:48.0\n",
      "WazibaXD:53.0\n",
      "HoundVonSurrey:58.0\n",
      "anathaliakdc:33.0\n",
      "jgwen19:55.0\n",
      "FrailBailen:48.3\n",
      "O56IsHere:29.0\n",
      "jiajun129:42.0\n",
      "zoommine0423:22.0\n",
      "HAPPY27259:69.0\n",
      "AERBUTE1:56.5\n",
      "Gariksz:58.7\n",
      "chanmeme1:49.0\n",
      "SireHalo:23.0\n",
      "raka6792:27.0\n",
      "dsastetmfvm:71.0\n",
      "NovaGlyp:52.0\n",
      "Xernicus:23.5\n",
      "Not_short5151:5.0\n",
      "GeorgeDroidMaxngFent:82.0\n",
      "Nero_Kauko:12.0\n",
      "wninju:30.0\n",
      "Indonesia_ofMalaysia:47.0\n",
      "kurtdylan1111:37.0\n",
      "TomMiaorblx:27.5\n",
      "CharIotteReis:89.0\n",
      "hanker583:1.0\n",
      "jellyy112345:46.0\n",
      "Luqman_indo:34.0\n",
      "spartansudais14:25.0\n",
      "XxGusiolxX:49.0\n",
      "aryafariziii160:35.0\n",
      "ckpoa20:38.0\n",
      "lightie5252:25.0\n",
      "100gnoo:23.0\n",
      "amazingdkfewi1024:35.0\n",
      "Kangcheon24:23.0\n",
      "Fight_Strategy:18.0\n",
      "JEJU_0P3RAT0R:41.0\n",
      "KOREASKRR0:19.0\n",
      "Sunfull1:22.0\n",
      "PixelMangos:17.0\n",
      "Ryiodelia:25.0\n",
      "1owo164:32.0\n",
      "muzman33:27.0\n",
      "uzuhama9731:21.0\n",
      "mekeyroberto:31.0\n",
      "korea_67453:28.0\n"
     ]
    }
   ],
   "source": [
    "names = df[\"name\"].unique()\n",
    "for i in names:\n",
    "    find_avg_everyone = df[df[\"name\"] == i]\n",
    "    print(f\"{i}:{round(find_avg_everyone['kills'].mean(),1)}\")\n",
    "    \n",
    "with open(\"avg2.csv\",\"w\") as file:\n",
    "    file.write(\"name,avg,atd\\n\")\n",
    "    for i in names:\n",
    "        attandace = df[df[\"name\"] == i].value_counts().sum()\n",
    "        find_avg_everyone = df[df[\"name\"] == i]\n",
    "        file.write(f\"{i},{round(find_avg_everyone['kills'].mean(),1)},{attandace}\\n\")\n",
    "    "
   ]
  },
  {
   "cell_type": "markdown",
   "metadata": {},
   "source": [
    "# check the second csv btw this is for this week\n",
    "we read the data"
   ]
  },
  {
   "cell_type": "code",
   "execution_count": 108,
   "metadata": {},
   "outputs": [],
   "source": [
    "df2 = pd.read_csv('avg2.csv')"
   ]
  },
  {
   "cell_type": "code",
   "execution_count": 109,
   "metadata": {},
   "outputs": [
    {
     "data": {
      "application/vnd.microsoft.datawrangler.viewer.v0+json": {
       "columns": [
        {
         "name": "index",
         "rawType": "int64",
         "type": "integer"
        },
        {
         "name": "name",
         "rawType": "object",
         "type": "string"
        },
        {
         "name": "avg",
         "rawType": "float64",
         "type": "float"
        },
        {
         "name": "atd",
         "rawType": "int64",
         "type": "integer"
        }
       ],
       "conversionMethod": "pd.DataFrame",
       "ref": "6e269153-e85c-4614-9e4e-a3b3aeb0ea86",
       "rows": [
        [
         "0",
         "polkomgyy44",
         "49.8",
         "4"
        ],
        [
         "1",
         "commander_cookie1234",
         "33.0",
         "5"
        ],
        [
         "2",
         "aphexic",
         "71.0",
         "1"
        ],
        [
         "3",
         "Croezg",
         "30.0",
         "2"
        ],
        [
         "4",
         "Mitsubira_Aratoshi",
         "71.8",
         "4"
        ],
        [
         "5",
         "spikey_001",
         "48.3",
         "3"
        ],
        [
         "6",
         "burnfield1k22",
         "61.0",
         "1"
        ],
        [
         "7",
         "kite_167",
         "27.8",
         "5"
        ],
        [
         "8",
         "Oscarchoyzy24",
         "80.4",
         "5"
        ],
        [
         "9",
         "Zweihvnders",
         "73.0",
         "1"
        ],
        [
         "10",
         "Kazuyuki_Owen",
         "54.7",
         "3"
        ],
        [
         "11",
         "SeaV1per1224",
         "58.3",
         "3"
        ],
        [
         "12",
         "eiltene123",
         "48.0",
         "3"
        ],
        [
         "13",
         "mrflipsflapz",
         "50.0",
         "3"
        ],
        [
         "14",
         "diwdwoa",
         "31.0",
         "2"
        ],
        [
         "15",
         "Liklyboos221",
         "65.0",
         "4"
        ],
        [
         "16",
         "jamesplayztv1",
         "41.6",
         "5"
        ],
        [
         "17",
         "SomeRandomBucketName",
         "71.0",
         "2"
        ],
        [
         "18",
         "gtmsgamerG",
         "31.7",
         "3"
        ],
        [
         "19",
         "HarArkhichen",
         "55.3",
         "3"
        ],
        [
         "20",
         "buddyboil1",
         "75.5",
         "2"
        ],
        [
         "21",
         "chickenkampong",
         "30.0",
         "1"
        ],
        [
         "22",
         "Dawnftb",
         "33.8",
         "4"
        ],
        [
         "23",
         "darkenians",
         "52.0",
         "1"
        ],
        [
         "24",
         "pancake_w1",
         "36.7",
         "3"
        ],
        [
         "25",
         "nickthegodrider1289",
         "46.6",
         "5"
        ],
        [
         "26",
         "jesterproandnoob",
         "49.2",
         "4"
        ],
        [
         "27",
         "Haloinqsss",
         "48.0",
         "1"
        ],
        [
         "28",
         "WazibaXD",
         "53.0",
         "1"
        ],
        [
         "29",
         "HoundVonSurrey",
         "58.0",
         "1"
        ],
        [
         "30",
         "anathaliakdc",
         "33.0",
         "4"
        ],
        [
         "31",
         "jgwen19",
         "55.0",
         "2"
        ],
        [
         "32",
         "FrailBailen",
         "48.3",
         "3"
        ],
        [
         "33",
         "O56IsHere",
         "29.0",
         "1"
        ],
        [
         "34",
         "jiajun129",
         "42.0",
         "4"
        ],
        [
         "35",
         "zoommine0423",
         "22.0",
         "1"
        ],
        [
         "36",
         "HAPPY27259",
         "69.0",
         "2"
        ],
        [
         "37",
         "AERBUTE1",
         "56.5",
         "2"
        ],
        [
         "38",
         "Gariksz",
         "58.7",
         "3"
        ],
        [
         "39",
         "chanmeme1",
         "49.0",
         "4"
        ],
        [
         "40",
         "SireHalo",
         "23.0",
         "1"
        ],
        [
         "41",
         "raka6792",
         "27.0",
         "2"
        ],
        [
         "42",
         "dsastetmfvm",
         "71.0",
         "1"
        ],
        [
         "43",
         "NovaGlyp",
         "52.0",
         "1"
        ],
        [
         "44",
         "Xernicus",
         "23.5",
         "2"
        ],
        [
         "45",
         "Not_short5151",
         "5.0",
         "1"
        ],
        [
         "46",
         "GeorgeDroidMaxngFent",
         "82.0",
         "1"
        ],
        [
         "47",
         "Nero_Kauko",
         "12.0",
         "1"
        ],
        [
         "48",
         "wninju",
         "30.0",
         "1"
        ],
        [
         "49",
         "Indonesia_ofMalaysia",
         "47.0",
         "1"
        ]
       ],
       "shape": {
        "columns": 3,
        "rows": 75
       }
      },
      "text/html": [
       "<div>\n",
       "<style scoped>\n",
       "    .dataframe tbody tr th:only-of-type {\n",
       "        vertical-align: middle;\n",
       "    }\n",
       "\n",
       "    .dataframe tbody tr th {\n",
       "        vertical-align: top;\n",
       "    }\n",
       "\n",
       "    .dataframe thead th {\n",
       "        text-align: right;\n",
       "    }\n",
       "</style>\n",
       "<table border=\"1\" class=\"dataframe\">\n",
       "  <thead>\n",
       "    <tr style=\"text-align: right;\">\n",
       "      <th></th>\n",
       "      <th>name</th>\n",
       "      <th>avg</th>\n",
       "      <th>atd</th>\n",
       "    </tr>\n",
       "  </thead>\n",
       "  <tbody>\n",
       "    <tr>\n",
       "      <th>0</th>\n",
       "      <td>polkomgyy44</td>\n",
       "      <td>49.8</td>\n",
       "      <td>4</td>\n",
       "    </tr>\n",
       "    <tr>\n",
       "      <th>1</th>\n",
       "      <td>commander_cookie1234</td>\n",
       "      <td>33.0</td>\n",
       "      <td>5</td>\n",
       "    </tr>\n",
       "    <tr>\n",
       "      <th>2</th>\n",
       "      <td>aphexic</td>\n",
       "      <td>71.0</td>\n",
       "      <td>1</td>\n",
       "    </tr>\n",
       "    <tr>\n",
       "      <th>3</th>\n",
       "      <td>Croezg</td>\n",
       "      <td>30.0</td>\n",
       "      <td>2</td>\n",
       "    </tr>\n",
       "    <tr>\n",
       "      <th>4</th>\n",
       "      <td>Mitsubira_Aratoshi</td>\n",
       "      <td>71.8</td>\n",
       "      <td>4</td>\n",
       "    </tr>\n",
       "    <tr>\n",
       "      <th>...</th>\n",
       "      <td>...</td>\n",
       "      <td>...</td>\n",
       "      <td>...</td>\n",
       "    </tr>\n",
       "    <tr>\n",
       "      <th>70</th>\n",
       "      <td>1owo164</td>\n",
       "      <td>32.0</td>\n",
       "      <td>1</td>\n",
       "    </tr>\n",
       "    <tr>\n",
       "      <th>71</th>\n",
       "      <td>muzman33</td>\n",
       "      <td>27.0</td>\n",
       "      <td>1</td>\n",
       "    </tr>\n",
       "    <tr>\n",
       "      <th>72</th>\n",
       "      <td>uzuhama9731</td>\n",
       "      <td>21.0</td>\n",
       "      <td>1</td>\n",
       "    </tr>\n",
       "    <tr>\n",
       "      <th>73</th>\n",
       "      <td>mekeyroberto</td>\n",
       "      <td>31.0</td>\n",
       "      <td>1</td>\n",
       "    </tr>\n",
       "    <tr>\n",
       "      <th>74</th>\n",
       "      <td>korea_67453</td>\n",
       "      <td>28.0</td>\n",
       "      <td>1</td>\n",
       "    </tr>\n",
       "  </tbody>\n",
       "</table>\n",
       "<p>75 rows × 3 columns</p>\n",
       "</div>"
      ],
      "text/plain": [
       "                    name   avg  atd\n",
       "0            polkomgyy44  49.8    4\n",
       "1   commander_cookie1234  33.0    5\n",
       "2                aphexic  71.0    1\n",
       "3                 Croezg  30.0    2\n",
       "4     Mitsubira_Aratoshi  71.8    4\n",
       "..                   ...   ...  ...\n",
       "70               1owo164  32.0    1\n",
       "71              muzman33  27.0    1\n",
       "72           uzuhama9731  21.0    1\n",
       "73          mekeyroberto  31.0    1\n",
       "74           korea_67453  28.0    1\n",
       "\n",
       "[75 rows x 3 columns]"
      ]
     },
     "execution_count": 109,
     "metadata": {},
     "output_type": "execute_result"
    }
   ],
   "source": [
    "df2"
   ]
  },
  {
   "cell_type": "markdown",
   "metadata": {},
   "source": [
    "# Top avg"
   ]
  },
  {
   "cell_type": "code",
   "execution_count": 110,
   "metadata": {},
   "outputs": [
    {
     "data": {
      "application/vnd.microsoft.datawrangler.viewer.v0+json": {
       "columns": [
        {
         "name": "index",
         "rawType": "int64",
         "type": "integer"
        },
        {
         "name": "name",
         "rawType": "object",
         "type": "string"
        },
        {
         "name": "avg",
         "rawType": "float64",
         "type": "float"
        },
        {
         "name": "atd",
         "rawType": "int64",
         "type": "integer"
        }
       ],
       "conversionMethod": "pd.DataFrame",
       "ref": "1d757d77-9aa9-419b-9e98-93e7ccb6d5ce",
       "rows": [
        [
         "52",
         "CharIotteReis",
         "89.0",
         "1"
        ],
        [
         "46",
         "GeorgeDroidMaxngFent",
         "82.0",
         "1"
        ],
        [
         "8",
         "Oscarchoyzy24",
         "80.4",
         "5"
        ],
        [
         "20",
         "buddyboil1",
         "75.5",
         "2"
        ],
        [
         "9",
         "Zweihvnders",
         "73.0",
         "1"
        ],
        [
         "4",
         "Mitsubira_Aratoshi",
         "71.8",
         "4"
        ],
        [
         "2",
         "aphexic",
         "71.0",
         "1"
        ],
        [
         "17",
         "SomeRandomBucketName",
         "71.0",
         "2"
        ],
        [
         "42",
         "dsastetmfvm",
         "71.0",
         "1"
        ],
        [
         "36",
         "HAPPY27259",
         "69.0",
         "2"
        ],
        [
         "15",
         "Liklyboos221",
         "65.0",
         "4"
        ],
        [
         "6",
         "burnfield1k22",
         "61.0",
         "1"
        ],
        [
         "38",
         "Gariksz",
         "58.7",
         "3"
        ],
        [
         "11",
         "SeaV1per1224",
         "58.3",
         "3"
        ],
        [
         "29",
         "HoundVonSurrey",
         "58.0",
         "1"
        ],
        [
         "37",
         "AERBUTE1",
         "56.5",
         "2"
        ],
        [
         "19",
         "HarArkhichen",
         "55.3",
         "3"
        ],
        [
         "31",
         "jgwen19",
         "55.0",
         "2"
        ],
        [
         "10",
         "Kazuyuki_Owen",
         "54.7",
         "3"
        ],
        [
         "28",
         "WazibaXD",
         "53.0",
         "1"
        ],
        [
         "23",
         "darkenians",
         "52.0",
         "1"
        ],
        [
         "43",
         "NovaGlyp",
         "52.0",
         "1"
        ],
        [
         "13",
         "mrflipsflapz",
         "50.0",
         "3"
        ],
        [
         "0",
         "polkomgyy44",
         "49.8",
         "4"
        ],
        [
         "26",
         "jesterproandnoob",
         "49.2",
         "4"
        ],
        [
         "57",
         "XxGusiolxX",
         "49.0",
         "1"
        ],
        [
         "39",
         "chanmeme1",
         "49.0",
         "4"
        ],
        [
         "32",
         "FrailBailen",
         "48.3",
         "3"
        ],
        [
         "5",
         "spikey_001",
         "48.3",
         "3"
        ],
        [
         "12",
         "eiltene123",
         "48.0",
         "3"
        ],
        [
         "27",
         "Haloinqsss",
         "48.0",
         "1"
        ],
        [
         "49",
         "Indonesia_ofMalaysia",
         "47.0",
         "1"
        ],
        [
         "25",
         "nickthegodrider1289",
         "46.6",
         "5"
        ],
        [
         "54",
         "jellyy112345",
         "46.0",
         "1"
        ],
        [
         "34",
         "jiajun129",
         "42.0",
         "4"
        ],
        [
         "16",
         "jamesplayztv1",
         "41.6",
         "5"
        ],
        [
         "65",
         "JEJU_0P3RAT0R",
         "41.0",
         "1"
        ],
        [
         "59",
         "ckpoa20",
         "38.0",
         "1"
        ],
        [
         "50",
         "kurtdylan1111",
         "37.0",
         "1"
        ],
        [
         "24",
         "pancake_w1",
         "36.7",
         "3"
        ],
        [
         "58",
         "aryafariziii160",
         "35.0",
         "1"
        ],
        [
         "62",
         "amazingdkfewi1024",
         "35.0",
         "1"
        ],
        [
         "55",
         "Luqman_indo",
         "34.0",
         "1"
        ],
        [
         "22",
         "Dawnftb",
         "33.8",
         "4"
        ],
        [
         "30",
         "anathaliakdc",
         "33.0",
         "4"
        ],
        [
         "1",
         "commander_cookie1234",
         "33.0",
         "5"
        ],
        [
         "70",
         "1owo164",
         "32.0",
         "1"
        ],
        [
         "18",
         "gtmsgamerG",
         "31.7",
         "3"
        ],
        [
         "14",
         "diwdwoa",
         "31.0",
         "2"
        ],
        [
         "73",
         "mekeyroberto",
         "31.0",
         "1"
        ]
       ],
       "shape": {
        "columns": 3,
        "rows": 75
       }
      },
      "text/html": [
       "<div>\n",
       "<style scoped>\n",
       "    .dataframe tbody tr th:only-of-type {\n",
       "        vertical-align: middle;\n",
       "    }\n",
       "\n",
       "    .dataframe tbody tr th {\n",
       "        vertical-align: top;\n",
       "    }\n",
       "\n",
       "    .dataframe thead th {\n",
       "        text-align: right;\n",
       "    }\n",
       "</style>\n",
       "<table border=\"1\" class=\"dataframe\">\n",
       "  <thead>\n",
       "    <tr style=\"text-align: right;\">\n",
       "      <th></th>\n",
       "      <th>name</th>\n",
       "      <th>avg</th>\n",
       "      <th>atd</th>\n",
       "    </tr>\n",
       "  </thead>\n",
       "  <tbody>\n",
       "    <tr>\n",
       "      <th>52</th>\n",
       "      <td>CharIotteReis</td>\n",
       "      <td>89.0</td>\n",
       "      <td>1</td>\n",
       "    </tr>\n",
       "    <tr>\n",
       "      <th>46</th>\n",
       "      <td>GeorgeDroidMaxngFent</td>\n",
       "      <td>82.0</td>\n",
       "      <td>1</td>\n",
       "    </tr>\n",
       "    <tr>\n",
       "      <th>8</th>\n",
       "      <td>Oscarchoyzy24</td>\n",
       "      <td>80.4</td>\n",
       "      <td>5</td>\n",
       "    </tr>\n",
       "    <tr>\n",
       "      <th>20</th>\n",
       "      <td>buddyboil1</td>\n",
       "      <td>75.5</td>\n",
       "      <td>2</td>\n",
       "    </tr>\n",
       "    <tr>\n",
       "      <th>9</th>\n",
       "      <td>Zweihvnders</td>\n",
       "      <td>73.0</td>\n",
       "      <td>1</td>\n",
       "    </tr>\n",
       "    <tr>\n",
       "      <th>...</th>\n",
       "      <td>...</td>\n",
       "      <td>...</td>\n",
       "      <td>...</td>\n",
       "    </tr>\n",
       "    <tr>\n",
       "      <th>64</th>\n",
       "      <td>Fight_Strategy</td>\n",
       "      <td>18.0</td>\n",
       "      <td>1</td>\n",
       "    </tr>\n",
       "    <tr>\n",
       "      <th>68</th>\n",
       "      <td>PixelMangos</td>\n",
       "      <td>17.0</td>\n",
       "      <td>1</td>\n",
       "    </tr>\n",
       "    <tr>\n",
       "      <th>47</th>\n",
       "      <td>Nero_Kauko</td>\n",
       "      <td>12.0</td>\n",
       "      <td>1</td>\n",
       "    </tr>\n",
       "    <tr>\n",
       "      <th>45</th>\n",
       "      <td>Not_short5151</td>\n",
       "      <td>5.0</td>\n",
       "      <td>1</td>\n",
       "    </tr>\n",
       "    <tr>\n",
       "      <th>53</th>\n",
       "      <td>hanker583</td>\n",
       "      <td>1.0</td>\n",
       "      <td>1</td>\n",
       "    </tr>\n",
       "  </tbody>\n",
       "</table>\n",
       "<p>75 rows × 3 columns</p>\n",
       "</div>"
      ],
      "text/plain": [
       "                    name   avg  atd\n",
       "52         CharIotteReis  89.0    1\n",
       "46  GeorgeDroidMaxngFent  82.0    1\n",
       "8          Oscarchoyzy24  80.4    5\n",
       "20            buddyboil1  75.5    2\n",
       "9            Zweihvnders  73.0    1\n",
       "..                   ...   ...  ...\n",
       "64        Fight_Strategy  18.0    1\n",
       "68           PixelMangos  17.0    1\n",
       "47            Nero_Kauko  12.0    1\n",
       "45         Not_short5151   5.0    1\n",
       "53             hanker583   1.0    1\n",
       "\n",
       "[75 rows x 3 columns]"
      ]
     },
     "execution_count": 110,
     "metadata": {},
     "output_type": "execute_result"
    }
   ],
   "source": [
    "df2.sort_values(by=\"avg\", ascending=False)"
   ]
  },
  {
   "cell_type": "markdown",
   "metadata": {},
   "source": [
    "# more or = 45"
   ]
  },
  {
   "cell_type": "code",
   "execution_count": 111,
   "metadata": {},
   "outputs": [
    {
     "name": "stdout",
     "output_type": "stream",
     "text": [
      "<class 'pandas.core.frame.DataFrame'>\n",
      "RangeIndex: 75 entries, 0 to 74\n",
      "Data columns (total 3 columns):\n",
      " #   Column  Non-Null Count  Dtype  \n",
      "---  ------  --------------  -----  \n",
      " 0   name    75 non-null     object \n",
      " 1   avg     75 non-null     float64\n",
      " 2   atd     75 non-null     int64  \n",
      "dtypes: float64(1), int64(1), object(1)\n",
      "memory usage: 1.9+ KB\n"
     ]
    }
   ],
   "source": [
    "df2.info()"
   ]
  },
  {
   "cell_type": "code",
   "execution_count": 112,
   "metadata": {},
   "outputs": [
    {
     "data": {
      "application/vnd.microsoft.datawrangler.viewer.v0+json": {
       "columns": [
        {
         "name": "index",
         "rawType": "int64",
         "type": "integer"
        },
        {
         "name": "name",
         "rawType": "object",
         "type": "string"
        },
        {
         "name": "avg",
         "rawType": "float64",
         "type": "float"
        },
        {
         "name": "atd",
         "rawType": "int64",
         "type": "integer"
        }
       ],
       "conversionMethod": "pd.DataFrame",
       "ref": "ca5dd8c7-8b39-4ebf-b2c7-6a0bb689d26f",
       "rows": [
        [
         "0",
         "polkomgyy44",
         "49.8",
         "4"
        ],
        [
         "1",
         "commander_cookie1234",
         "33.0",
         "5"
        ],
        [
         "3",
         "Croezg",
         "30.0",
         "2"
        ],
        [
         "5",
         "spikey_001",
         "48.3",
         "3"
        ],
        [
         "7",
         "kite_167",
         "27.8",
         "5"
        ],
        [
         "10",
         "Kazuyuki_Owen",
         "54.7",
         "3"
        ],
        [
         "12",
         "eiltene123",
         "48.0",
         "3"
        ],
        [
         "13",
         "mrflipsflapz",
         "50.0",
         "3"
        ],
        [
         "14",
         "diwdwoa",
         "31.0",
         "2"
        ],
        [
         "16",
         "jamesplayztv1",
         "41.6",
         "5"
        ],
        [
         "18",
         "gtmsgamerG",
         "31.7",
         "3"
        ],
        [
         "21",
         "chickenkampong",
         "30.0",
         "1"
        ],
        [
         "22",
         "Dawnftb",
         "33.8",
         "4"
        ],
        [
         "23",
         "darkenians",
         "52.0",
         "1"
        ],
        [
         "24",
         "pancake_w1",
         "36.7",
         "3"
        ],
        [
         "25",
         "nickthegodrider1289",
         "46.6",
         "5"
        ],
        [
         "26",
         "jesterproandnoob",
         "49.2",
         "4"
        ],
        [
         "27",
         "Haloinqsss",
         "48.0",
         "1"
        ],
        [
         "28",
         "WazibaXD",
         "53.0",
         "1"
        ],
        [
         "30",
         "anathaliakdc",
         "33.0",
         "4"
        ],
        [
         "32",
         "FrailBailen",
         "48.3",
         "3"
        ],
        [
         "33",
         "O56IsHere",
         "29.0",
         "1"
        ],
        [
         "34",
         "jiajun129",
         "42.0",
         "4"
        ],
        [
         "35",
         "zoommine0423",
         "22.0",
         "1"
        ],
        [
         "39",
         "chanmeme1",
         "49.0",
         "4"
        ],
        [
         "40",
         "SireHalo",
         "23.0",
         "1"
        ],
        [
         "41",
         "raka6792",
         "27.0",
         "2"
        ],
        [
         "43",
         "NovaGlyp",
         "52.0",
         "1"
        ],
        [
         "44",
         "Xernicus",
         "23.5",
         "2"
        ],
        [
         "45",
         "Not_short5151",
         "5.0",
         "1"
        ],
        [
         "47",
         "Nero_Kauko",
         "12.0",
         "1"
        ],
        [
         "48",
         "wninju",
         "30.0",
         "1"
        ],
        [
         "49",
         "Indonesia_ofMalaysia",
         "47.0",
         "1"
        ],
        [
         "50",
         "kurtdylan1111",
         "37.0",
         "1"
        ],
        [
         "51",
         "TomMiaorblx",
         "27.5",
         "2"
        ],
        [
         "53",
         "hanker583",
         "1.0",
         "1"
        ],
        [
         "54",
         "jellyy112345",
         "46.0",
         "1"
        ],
        [
         "55",
         "Luqman_indo",
         "34.0",
         "1"
        ],
        [
         "56",
         "spartansudais14",
         "25.0",
         "1"
        ],
        [
         "57",
         "XxGusiolxX",
         "49.0",
         "1"
        ],
        [
         "58",
         "aryafariziii160",
         "35.0",
         "1"
        ],
        [
         "59",
         "ckpoa20",
         "38.0",
         "1"
        ],
        [
         "60",
         "lightie5252",
         "25.0",
         "1"
        ],
        [
         "61",
         "100gnoo",
         "23.0",
         "1"
        ],
        [
         "62",
         "amazingdkfewi1024",
         "35.0",
         "1"
        ],
        [
         "63",
         "Kangcheon24",
         "23.0",
         "1"
        ],
        [
         "64",
         "Fight_Strategy",
         "18.0",
         "1"
        ],
        [
         "65",
         "JEJU_0P3RAT0R",
         "41.0",
         "1"
        ],
        [
         "66",
         "KOREASKRR0",
         "19.0",
         "1"
        ],
        [
         "67",
         "Sunfull1",
         "22.0",
         "1"
        ]
       ],
       "shape": {
        "columns": 3,
        "rows": 57
       }
      },
      "text/html": [
       "<div>\n",
       "<style scoped>\n",
       "    .dataframe tbody tr th:only-of-type {\n",
       "        vertical-align: middle;\n",
       "    }\n",
       "\n",
       "    .dataframe tbody tr th {\n",
       "        vertical-align: top;\n",
       "    }\n",
       "\n",
       "    .dataframe thead th {\n",
       "        text-align: right;\n",
       "    }\n",
       "</style>\n",
       "<table border=\"1\" class=\"dataframe\">\n",
       "  <thead>\n",
       "    <tr style=\"text-align: right;\">\n",
       "      <th></th>\n",
       "      <th>name</th>\n",
       "      <th>avg</th>\n",
       "      <th>atd</th>\n",
       "    </tr>\n",
       "  </thead>\n",
       "  <tbody>\n",
       "    <tr>\n",
       "      <th>0</th>\n",
       "      <td>polkomgyy44</td>\n",
       "      <td>49.8</td>\n",
       "      <td>4</td>\n",
       "    </tr>\n",
       "    <tr>\n",
       "      <th>1</th>\n",
       "      <td>commander_cookie1234</td>\n",
       "      <td>33.0</td>\n",
       "      <td>5</td>\n",
       "    </tr>\n",
       "    <tr>\n",
       "      <th>3</th>\n",
       "      <td>Croezg</td>\n",
       "      <td>30.0</td>\n",
       "      <td>2</td>\n",
       "    </tr>\n",
       "    <tr>\n",
       "      <th>5</th>\n",
       "      <td>spikey_001</td>\n",
       "      <td>48.3</td>\n",
       "      <td>3</td>\n",
       "    </tr>\n",
       "    <tr>\n",
       "      <th>7</th>\n",
       "      <td>kite_167</td>\n",
       "      <td>27.8</td>\n",
       "      <td>5</td>\n",
       "    </tr>\n",
       "    <tr>\n",
       "      <th>10</th>\n",
       "      <td>Kazuyuki_Owen</td>\n",
       "      <td>54.7</td>\n",
       "      <td>3</td>\n",
       "    </tr>\n",
       "    <tr>\n",
       "      <th>12</th>\n",
       "      <td>eiltene123</td>\n",
       "      <td>48.0</td>\n",
       "      <td>3</td>\n",
       "    </tr>\n",
       "    <tr>\n",
       "      <th>13</th>\n",
       "      <td>mrflipsflapz</td>\n",
       "      <td>50.0</td>\n",
       "      <td>3</td>\n",
       "    </tr>\n",
       "    <tr>\n",
       "      <th>14</th>\n",
       "      <td>diwdwoa</td>\n",
       "      <td>31.0</td>\n",
       "      <td>2</td>\n",
       "    </tr>\n",
       "    <tr>\n",
       "      <th>16</th>\n",
       "      <td>jamesplayztv1</td>\n",
       "      <td>41.6</td>\n",
       "      <td>5</td>\n",
       "    </tr>\n",
       "    <tr>\n",
       "      <th>18</th>\n",
       "      <td>gtmsgamerG</td>\n",
       "      <td>31.7</td>\n",
       "      <td>3</td>\n",
       "    </tr>\n",
       "    <tr>\n",
       "      <th>21</th>\n",
       "      <td>chickenkampong</td>\n",
       "      <td>30.0</td>\n",
       "      <td>1</td>\n",
       "    </tr>\n",
       "    <tr>\n",
       "      <th>22</th>\n",
       "      <td>Dawnftb</td>\n",
       "      <td>33.8</td>\n",
       "      <td>4</td>\n",
       "    </tr>\n",
       "    <tr>\n",
       "      <th>23</th>\n",
       "      <td>darkenians</td>\n",
       "      <td>52.0</td>\n",
       "      <td>1</td>\n",
       "    </tr>\n",
       "    <tr>\n",
       "      <th>24</th>\n",
       "      <td>pancake_w1</td>\n",
       "      <td>36.7</td>\n",
       "      <td>3</td>\n",
       "    </tr>\n",
       "    <tr>\n",
       "      <th>25</th>\n",
       "      <td>nickthegodrider1289</td>\n",
       "      <td>46.6</td>\n",
       "      <td>5</td>\n",
       "    </tr>\n",
       "    <tr>\n",
       "      <th>26</th>\n",
       "      <td>jesterproandnoob</td>\n",
       "      <td>49.2</td>\n",
       "      <td>4</td>\n",
       "    </tr>\n",
       "    <tr>\n",
       "      <th>27</th>\n",
       "      <td>Haloinqsss</td>\n",
       "      <td>48.0</td>\n",
       "      <td>1</td>\n",
       "    </tr>\n",
       "    <tr>\n",
       "      <th>28</th>\n",
       "      <td>WazibaXD</td>\n",
       "      <td>53.0</td>\n",
       "      <td>1</td>\n",
       "    </tr>\n",
       "    <tr>\n",
       "      <th>30</th>\n",
       "      <td>anathaliakdc</td>\n",
       "      <td>33.0</td>\n",
       "      <td>4</td>\n",
       "    </tr>\n",
       "    <tr>\n",
       "      <th>32</th>\n",
       "      <td>FrailBailen</td>\n",
       "      <td>48.3</td>\n",
       "      <td>3</td>\n",
       "    </tr>\n",
       "    <tr>\n",
       "      <th>33</th>\n",
       "      <td>O56IsHere</td>\n",
       "      <td>29.0</td>\n",
       "      <td>1</td>\n",
       "    </tr>\n",
       "    <tr>\n",
       "      <th>34</th>\n",
       "      <td>jiajun129</td>\n",
       "      <td>42.0</td>\n",
       "      <td>4</td>\n",
       "    </tr>\n",
       "    <tr>\n",
       "      <th>35</th>\n",
       "      <td>zoommine0423</td>\n",
       "      <td>22.0</td>\n",
       "      <td>1</td>\n",
       "    </tr>\n",
       "    <tr>\n",
       "      <th>39</th>\n",
       "      <td>chanmeme1</td>\n",
       "      <td>49.0</td>\n",
       "      <td>4</td>\n",
       "    </tr>\n",
       "    <tr>\n",
       "      <th>40</th>\n",
       "      <td>SireHalo</td>\n",
       "      <td>23.0</td>\n",
       "      <td>1</td>\n",
       "    </tr>\n",
       "    <tr>\n",
       "      <th>41</th>\n",
       "      <td>raka6792</td>\n",
       "      <td>27.0</td>\n",
       "      <td>2</td>\n",
       "    </tr>\n",
       "    <tr>\n",
       "      <th>43</th>\n",
       "      <td>NovaGlyp</td>\n",
       "      <td>52.0</td>\n",
       "      <td>1</td>\n",
       "    </tr>\n",
       "    <tr>\n",
       "      <th>44</th>\n",
       "      <td>Xernicus</td>\n",
       "      <td>23.5</td>\n",
       "      <td>2</td>\n",
       "    </tr>\n",
       "    <tr>\n",
       "      <th>45</th>\n",
       "      <td>Not_short5151</td>\n",
       "      <td>5.0</td>\n",
       "      <td>1</td>\n",
       "    </tr>\n",
       "    <tr>\n",
       "      <th>47</th>\n",
       "      <td>Nero_Kauko</td>\n",
       "      <td>12.0</td>\n",
       "      <td>1</td>\n",
       "    </tr>\n",
       "    <tr>\n",
       "      <th>48</th>\n",
       "      <td>wninju</td>\n",
       "      <td>30.0</td>\n",
       "      <td>1</td>\n",
       "    </tr>\n",
       "    <tr>\n",
       "      <th>49</th>\n",
       "      <td>Indonesia_ofMalaysia</td>\n",
       "      <td>47.0</td>\n",
       "      <td>1</td>\n",
       "    </tr>\n",
       "    <tr>\n",
       "      <th>50</th>\n",
       "      <td>kurtdylan1111</td>\n",
       "      <td>37.0</td>\n",
       "      <td>1</td>\n",
       "    </tr>\n",
       "    <tr>\n",
       "      <th>51</th>\n",
       "      <td>TomMiaorblx</td>\n",
       "      <td>27.5</td>\n",
       "      <td>2</td>\n",
       "    </tr>\n",
       "    <tr>\n",
       "      <th>53</th>\n",
       "      <td>hanker583</td>\n",
       "      <td>1.0</td>\n",
       "      <td>1</td>\n",
       "    </tr>\n",
       "    <tr>\n",
       "      <th>54</th>\n",
       "      <td>jellyy112345</td>\n",
       "      <td>46.0</td>\n",
       "      <td>1</td>\n",
       "    </tr>\n",
       "    <tr>\n",
       "      <th>55</th>\n",
       "      <td>Luqman_indo</td>\n",
       "      <td>34.0</td>\n",
       "      <td>1</td>\n",
       "    </tr>\n",
       "    <tr>\n",
       "      <th>56</th>\n",
       "      <td>spartansudais14</td>\n",
       "      <td>25.0</td>\n",
       "      <td>1</td>\n",
       "    </tr>\n",
       "    <tr>\n",
       "      <th>57</th>\n",
       "      <td>XxGusiolxX</td>\n",
       "      <td>49.0</td>\n",
       "      <td>1</td>\n",
       "    </tr>\n",
       "    <tr>\n",
       "      <th>58</th>\n",
       "      <td>aryafariziii160</td>\n",
       "      <td>35.0</td>\n",
       "      <td>1</td>\n",
       "    </tr>\n",
       "    <tr>\n",
       "      <th>59</th>\n",
       "      <td>ckpoa20</td>\n",
       "      <td>38.0</td>\n",
       "      <td>1</td>\n",
       "    </tr>\n",
       "    <tr>\n",
       "      <th>60</th>\n",
       "      <td>lightie5252</td>\n",
       "      <td>25.0</td>\n",
       "      <td>1</td>\n",
       "    </tr>\n",
       "    <tr>\n",
       "      <th>61</th>\n",
       "      <td>100gnoo</td>\n",
       "      <td>23.0</td>\n",
       "      <td>1</td>\n",
       "    </tr>\n",
       "    <tr>\n",
       "      <th>62</th>\n",
       "      <td>amazingdkfewi1024</td>\n",
       "      <td>35.0</td>\n",
       "      <td>1</td>\n",
       "    </tr>\n",
       "    <tr>\n",
       "      <th>63</th>\n",
       "      <td>Kangcheon24</td>\n",
       "      <td>23.0</td>\n",
       "      <td>1</td>\n",
       "    </tr>\n",
       "    <tr>\n",
       "      <th>64</th>\n",
       "      <td>Fight_Strategy</td>\n",
       "      <td>18.0</td>\n",
       "      <td>1</td>\n",
       "    </tr>\n",
       "    <tr>\n",
       "      <th>65</th>\n",
       "      <td>JEJU_0P3RAT0R</td>\n",
       "      <td>41.0</td>\n",
       "      <td>1</td>\n",
       "    </tr>\n",
       "    <tr>\n",
       "      <th>66</th>\n",
       "      <td>KOREASKRR0</td>\n",
       "      <td>19.0</td>\n",
       "      <td>1</td>\n",
       "    </tr>\n",
       "    <tr>\n",
       "      <th>67</th>\n",
       "      <td>Sunfull1</td>\n",
       "      <td>22.0</td>\n",
       "      <td>1</td>\n",
       "    </tr>\n",
       "    <tr>\n",
       "      <th>68</th>\n",
       "      <td>PixelMangos</td>\n",
       "      <td>17.0</td>\n",
       "      <td>1</td>\n",
       "    </tr>\n",
       "    <tr>\n",
       "      <th>69</th>\n",
       "      <td>Ryiodelia</td>\n",
       "      <td>25.0</td>\n",
       "      <td>1</td>\n",
       "    </tr>\n",
       "    <tr>\n",
       "      <th>70</th>\n",
       "      <td>1owo164</td>\n",
       "      <td>32.0</td>\n",
       "      <td>1</td>\n",
       "    </tr>\n",
       "    <tr>\n",
       "      <th>71</th>\n",
       "      <td>muzman33</td>\n",
       "      <td>27.0</td>\n",
       "      <td>1</td>\n",
       "    </tr>\n",
       "    <tr>\n",
       "      <th>72</th>\n",
       "      <td>uzuhama9731</td>\n",
       "      <td>21.0</td>\n",
       "      <td>1</td>\n",
       "    </tr>\n",
       "    <tr>\n",
       "      <th>73</th>\n",
       "      <td>mekeyroberto</td>\n",
       "      <td>31.0</td>\n",
       "      <td>1</td>\n",
       "    </tr>\n",
       "    <tr>\n",
       "      <th>74</th>\n",
       "      <td>korea_67453</td>\n",
       "      <td>28.0</td>\n",
       "      <td>1</td>\n",
       "    </tr>\n",
       "  </tbody>\n",
       "</table>\n",
       "</div>"
      ],
      "text/plain": [
       "                    name   avg  atd\n",
       "0            polkomgyy44  49.8    4\n",
       "1   commander_cookie1234  33.0    5\n",
       "3                 Croezg  30.0    2\n",
       "5             spikey_001  48.3    3\n",
       "7               kite_167  27.8    5\n",
       "10         Kazuyuki_Owen  54.7    3\n",
       "12            eiltene123  48.0    3\n",
       "13          mrflipsflapz  50.0    3\n",
       "14               diwdwoa  31.0    2\n",
       "16         jamesplayztv1  41.6    5\n",
       "18            gtmsgamerG  31.7    3\n",
       "21        chickenkampong  30.0    1\n",
       "22               Dawnftb  33.8    4\n",
       "23            darkenians  52.0    1\n",
       "24            pancake_w1  36.7    3\n",
       "25   nickthegodrider1289  46.6    5\n",
       "26      jesterproandnoob  49.2    4\n",
       "27            Haloinqsss  48.0    1\n",
       "28              WazibaXD  53.0    1\n",
       "30          anathaliakdc  33.0    4\n",
       "32           FrailBailen  48.3    3\n",
       "33             O56IsHere  29.0    1\n",
       "34             jiajun129  42.0    4\n",
       "35          zoommine0423  22.0    1\n",
       "39             chanmeme1  49.0    4\n",
       "40              SireHalo  23.0    1\n",
       "41              raka6792  27.0    2\n",
       "43              NovaGlyp  52.0    1\n",
       "44              Xernicus  23.5    2\n",
       "45         Not_short5151   5.0    1\n",
       "47            Nero_Kauko  12.0    1\n",
       "48                wninju  30.0    1\n",
       "49  Indonesia_ofMalaysia  47.0    1\n",
       "50         kurtdylan1111  37.0    1\n",
       "51           TomMiaorblx  27.5    2\n",
       "53             hanker583   1.0    1\n",
       "54          jellyy112345  46.0    1\n",
       "55           Luqman_indo  34.0    1\n",
       "56       spartansudais14  25.0    1\n",
       "57            XxGusiolxX  49.0    1\n",
       "58       aryafariziii160  35.0    1\n",
       "59               ckpoa20  38.0    1\n",
       "60           lightie5252  25.0    1\n",
       "61               100gnoo  23.0    1\n",
       "62     amazingdkfewi1024  35.0    1\n",
       "63           Kangcheon24  23.0    1\n",
       "64        Fight_Strategy  18.0    1\n",
       "65         JEJU_0P3RAT0R  41.0    1\n",
       "66            KOREASKRR0  19.0    1\n",
       "67              Sunfull1  22.0    1\n",
       "68           PixelMangos  17.0    1\n",
       "69             Ryiodelia  25.0    1\n",
       "70               1owo164  32.0    1\n",
       "71              muzman33  27.0    1\n",
       "72           uzuhama9731  21.0    1\n",
       "73          mekeyroberto  31.0    1\n",
       "74           korea_67453  28.0    1"
      ]
     },
     "execution_count": 112,
     "metadata": {},
     "output_type": "execute_result"
    }
   ],
   "source": [
    "df2[df2[\"avg\"] < 55]"
   ]
  },
  {
   "cell_type": "code",
   "execution_count": 113,
   "metadata": {},
   "outputs": [],
   "source": [
    "\n",
    "#display(df.loc[(df2[df2[\"avg\"] >= 45])])"
   ]
  },
  {
   "cell_type": "code",
   "execution_count": 114,
   "metadata": {},
   "outputs": [
    {
     "data": {
      "application/vnd.microsoft.datawrangler.viewer.v0+json": {
       "columns": [
        {
         "name": "index",
         "rawType": "int64",
         "type": "integer"
        },
        {
         "name": "name",
         "rawType": "object",
         "type": "string"
        },
        {
         "name": "avg",
         "rawType": "float64",
         "type": "float"
        },
        {
         "name": "atd",
         "rawType": "int64",
         "type": "integer"
        }
       ],
       "conversionMethod": "pd.DataFrame",
       "ref": "d6aa7dc2-ff7e-4c16-a655-65399ac0bf24",
       "rows": [
        [
         "0",
         "polkomgyy44",
         "49.8",
         "4"
        ],
        [
         "2",
         "aphexic",
         "71.0",
         "1"
        ],
        [
         "4",
         "Mitsubira_Aratoshi",
         "71.8",
         "4"
        ],
        [
         "5",
         "spikey_001",
         "48.3",
         "3"
        ],
        [
         "6",
         "burnfield1k22",
         "61.0",
         "1"
        ],
        [
         "8",
         "Oscarchoyzy24",
         "80.4",
         "5"
        ],
        [
         "9",
         "Zweihvnders",
         "73.0",
         "1"
        ],
        [
         "10",
         "Kazuyuki_Owen",
         "54.7",
         "3"
        ],
        [
         "11",
         "SeaV1per1224",
         "58.3",
         "3"
        ],
        [
         "12",
         "eiltene123",
         "48.0",
         "3"
        ],
        [
         "13",
         "mrflipsflapz",
         "50.0",
         "3"
        ],
        [
         "15",
         "Liklyboos221",
         "65.0",
         "4"
        ],
        [
         "17",
         "SomeRandomBucketName",
         "71.0",
         "2"
        ],
        [
         "19",
         "HarArkhichen",
         "55.3",
         "3"
        ],
        [
         "20",
         "buddyboil1",
         "75.5",
         "2"
        ],
        [
         "23",
         "darkenians",
         "52.0",
         "1"
        ],
        [
         "25",
         "nickthegodrider1289",
         "46.6",
         "5"
        ],
        [
         "26",
         "jesterproandnoob",
         "49.2",
         "4"
        ],
        [
         "27",
         "Haloinqsss",
         "48.0",
         "1"
        ],
        [
         "28",
         "WazibaXD",
         "53.0",
         "1"
        ],
        [
         "29",
         "HoundVonSurrey",
         "58.0",
         "1"
        ],
        [
         "31",
         "jgwen19",
         "55.0",
         "2"
        ],
        [
         "32",
         "FrailBailen",
         "48.3",
         "3"
        ],
        [
         "36",
         "HAPPY27259",
         "69.0",
         "2"
        ],
        [
         "37",
         "AERBUTE1",
         "56.5",
         "2"
        ],
        [
         "38",
         "Gariksz",
         "58.7",
         "3"
        ],
        [
         "39",
         "chanmeme1",
         "49.0",
         "4"
        ],
        [
         "42",
         "dsastetmfvm",
         "71.0",
         "1"
        ],
        [
         "43",
         "NovaGlyp",
         "52.0",
         "1"
        ],
        [
         "46",
         "GeorgeDroidMaxngFent",
         "82.0",
         "1"
        ],
        [
         "49",
         "Indonesia_ofMalaysia",
         "47.0",
         "1"
        ],
        [
         "52",
         "CharIotteReis",
         "89.0",
         "1"
        ],
        [
         "54",
         "jellyy112345",
         "46.0",
         "1"
        ],
        [
         "57",
         "XxGusiolxX",
         "49.0",
         "1"
        ]
       ],
       "shape": {
        "columns": 3,
        "rows": 34
       }
      },
      "text/html": [
       "<div>\n",
       "<style scoped>\n",
       "    .dataframe tbody tr th:only-of-type {\n",
       "        vertical-align: middle;\n",
       "    }\n",
       "\n",
       "    .dataframe tbody tr th {\n",
       "        vertical-align: top;\n",
       "    }\n",
       "\n",
       "    .dataframe thead th {\n",
       "        text-align: right;\n",
       "    }\n",
       "</style>\n",
       "<table border=\"1\" class=\"dataframe\">\n",
       "  <thead>\n",
       "    <tr style=\"text-align: right;\">\n",
       "      <th></th>\n",
       "      <th>name</th>\n",
       "      <th>avg</th>\n",
       "      <th>atd</th>\n",
       "    </tr>\n",
       "  </thead>\n",
       "  <tbody>\n",
       "    <tr>\n",
       "      <th>0</th>\n",
       "      <td>polkomgyy44</td>\n",
       "      <td>49.8</td>\n",
       "      <td>4</td>\n",
       "    </tr>\n",
       "    <tr>\n",
       "      <th>2</th>\n",
       "      <td>aphexic</td>\n",
       "      <td>71.0</td>\n",
       "      <td>1</td>\n",
       "    </tr>\n",
       "    <tr>\n",
       "      <th>4</th>\n",
       "      <td>Mitsubira_Aratoshi</td>\n",
       "      <td>71.8</td>\n",
       "      <td>4</td>\n",
       "    </tr>\n",
       "    <tr>\n",
       "      <th>5</th>\n",
       "      <td>spikey_001</td>\n",
       "      <td>48.3</td>\n",
       "      <td>3</td>\n",
       "    </tr>\n",
       "    <tr>\n",
       "      <th>6</th>\n",
       "      <td>burnfield1k22</td>\n",
       "      <td>61.0</td>\n",
       "      <td>1</td>\n",
       "    </tr>\n",
       "    <tr>\n",
       "      <th>8</th>\n",
       "      <td>Oscarchoyzy24</td>\n",
       "      <td>80.4</td>\n",
       "      <td>5</td>\n",
       "    </tr>\n",
       "    <tr>\n",
       "      <th>9</th>\n",
       "      <td>Zweihvnders</td>\n",
       "      <td>73.0</td>\n",
       "      <td>1</td>\n",
       "    </tr>\n",
       "    <tr>\n",
       "      <th>10</th>\n",
       "      <td>Kazuyuki_Owen</td>\n",
       "      <td>54.7</td>\n",
       "      <td>3</td>\n",
       "    </tr>\n",
       "    <tr>\n",
       "      <th>11</th>\n",
       "      <td>SeaV1per1224</td>\n",
       "      <td>58.3</td>\n",
       "      <td>3</td>\n",
       "    </tr>\n",
       "    <tr>\n",
       "      <th>12</th>\n",
       "      <td>eiltene123</td>\n",
       "      <td>48.0</td>\n",
       "      <td>3</td>\n",
       "    </tr>\n",
       "    <tr>\n",
       "      <th>13</th>\n",
       "      <td>mrflipsflapz</td>\n",
       "      <td>50.0</td>\n",
       "      <td>3</td>\n",
       "    </tr>\n",
       "    <tr>\n",
       "      <th>15</th>\n",
       "      <td>Liklyboos221</td>\n",
       "      <td>65.0</td>\n",
       "      <td>4</td>\n",
       "    </tr>\n",
       "    <tr>\n",
       "      <th>17</th>\n",
       "      <td>SomeRandomBucketName</td>\n",
       "      <td>71.0</td>\n",
       "      <td>2</td>\n",
       "    </tr>\n",
       "    <tr>\n",
       "      <th>19</th>\n",
       "      <td>HarArkhichen</td>\n",
       "      <td>55.3</td>\n",
       "      <td>3</td>\n",
       "    </tr>\n",
       "    <tr>\n",
       "      <th>20</th>\n",
       "      <td>buddyboil1</td>\n",
       "      <td>75.5</td>\n",
       "      <td>2</td>\n",
       "    </tr>\n",
       "    <tr>\n",
       "      <th>23</th>\n",
       "      <td>darkenians</td>\n",
       "      <td>52.0</td>\n",
       "      <td>1</td>\n",
       "    </tr>\n",
       "    <tr>\n",
       "      <th>25</th>\n",
       "      <td>nickthegodrider1289</td>\n",
       "      <td>46.6</td>\n",
       "      <td>5</td>\n",
       "    </tr>\n",
       "    <tr>\n",
       "      <th>26</th>\n",
       "      <td>jesterproandnoob</td>\n",
       "      <td>49.2</td>\n",
       "      <td>4</td>\n",
       "    </tr>\n",
       "    <tr>\n",
       "      <th>27</th>\n",
       "      <td>Haloinqsss</td>\n",
       "      <td>48.0</td>\n",
       "      <td>1</td>\n",
       "    </tr>\n",
       "    <tr>\n",
       "      <th>28</th>\n",
       "      <td>WazibaXD</td>\n",
       "      <td>53.0</td>\n",
       "      <td>1</td>\n",
       "    </tr>\n",
       "    <tr>\n",
       "      <th>29</th>\n",
       "      <td>HoundVonSurrey</td>\n",
       "      <td>58.0</td>\n",
       "      <td>1</td>\n",
       "    </tr>\n",
       "    <tr>\n",
       "      <th>31</th>\n",
       "      <td>jgwen19</td>\n",
       "      <td>55.0</td>\n",
       "      <td>2</td>\n",
       "    </tr>\n",
       "    <tr>\n",
       "      <th>32</th>\n",
       "      <td>FrailBailen</td>\n",
       "      <td>48.3</td>\n",
       "      <td>3</td>\n",
       "    </tr>\n",
       "    <tr>\n",
       "      <th>36</th>\n",
       "      <td>HAPPY27259</td>\n",
       "      <td>69.0</td>\n",
       "      <td>2</td>\n",
       "    </tr>\n",
       "    <tr>\n",
       "      <th>37</th>\n",
       "      <td>AERBUTE1</td>\n",
       "      <td>56.5</td>\n",
       "      <td>2</td>\n",
       "    </tr>\n",
       "    <tr>\n",
       "      <th>38</th>\n",
       "      <td>Gariksz</td>\n",
       "      <td>58.7</td>\n",
       "      <td>3</td>\n",
       "    </tr>\n",
       "    <tr>\n",
       "      <th>39</th>\n",
       "      <td>chanmeme1</td>\n",
       "      <td>49.0</td>\n",
       "      <td>4</td>\n",
       "    </tr>\n",
       "    <tr>\n",
       "      <th>42</th>\n",
       "      <td>dsastetmfvm</td>\n",
       "      <td>71.0</td>\n",
       "      <td>1</td>\n",
       "    </tr>\n",
       "    <tr>\n",
       "      <th>43</th>\n",
       "      <td>NovaGlyp</td>\n",
       "      <td>52.0</td>\n",
       "      <td>1</td>\n",
       "    </tr>\n",
       "    <tr>\n",
       "      <th>46</th>\n",
       "      <td>GeorgeDroidMaxngFent</td>\n",
       "      <td>82.0</td>\n",
       "      <td>1</td>\n",
       "    </tr>\n",
       "    <tr>\n",
       "      <th>49</th>\n",
       "      <td>Indonesia_ofMalaysia</td>\n",
       "      <td>47.0</td>\n",
       "      <td>1</td>\n",
       "    </tr>\n",
       "    <tr>\n",
       "      <th>52</th>\n",
       "      <td>CharIotteReis</td>\n",
       "      <td>89.0</td>\n",
       "      <td>1</td>\n",
       "    </tr>\n",
       "    <tr>\n",
       "      <th>54</th>\n",
       "      <td>jellyy112345</td>\n",
       "      <td>46.0</td>\n",
       "      <td>1</td>\n",
       "    </tr>\n",
       "    <tr>\n",
       "      <th>57</th>\n",
       "      <td>XxGusiolxX</td>\n",
       "      <td>49.0</td>\n",
       "      <td>1</td>\n",
       "    </tr>\n",
       "  </tbody>\n",
       "</table>\n",
       "</div>"
      ],
      "text/plain": [
       "                    name   avg  atd\n",
       "0            polkomgyy44  49.8    4\n",
       "2                aphexic  71.0    1\n",
       "4     Mitsubira_Aratoshi  71.8    4\n",
       "5             spikey_001  48.3    3\n",
       "6          burnfield1k22  61.0    1\n",
       "8          Oscarchoyzy24  80.4    5\n",
       "9            Zweihvnders  73.0    1\n",
       "10         Kazuyuki_Owen  54.7    3\n",
       "11          SeaV1per1224  58.3    3\n",
       "12            eiltene123  48.0    3\n",
       "13          mrflipsflapz  50.0    3\n",
       "15          Liklyboos221  65.0    4\n",
       "17  SomeRandomBucketName  71.0    2\n",
       "19          HarArkhichen  55.3    3\n",
       "20            buddyboil1  75.5    2\n",
       "23            darkenians  52.0    1\n",
       "25   nickthegodrider1289  46.6    5\n",
       "26      jesterproandnoob  49.2    4\n",
       "27            Haloinqsss  48.0    1\n",
       "28              WazibaXD  53.0    1\n",
       "29        HoundVonSurrey  58.0    1\n",
       "31               jgwen19  55.0    2\n",
       "32           FrailBailen  48.3    3\n",
       "36            HAPPY27259  69.0    2\n",
       "37              AERBUTE1  56.5    2\n",
       "38               Gariksz  58.7    3\n",
       "39             chanmeme1  49.0    4\n",
       "42           dsastetmfvm  71.0    1\n",
       "43              NovaGlyp  52.0    1\n",
       "46  GeorgeDroidMaxngFent  82.0    1\n",
       "49  Indonesia_ofMalaysia  47.0    1\n",
       "52         CharIotteReis  89.0    1\n",
       "54          jellyy112345  46.0    1\n",
       "57            XxGusiolxX  49.0    1"
      ]
     },
     "execution_count": 114,
     "metadata": {},
     "output_type": "execute_result"
    }
   ],
   "source": [
    "with open(\"report.txt\",\"w\") as file:\n",
    "    for i in df2[df2[\"avg\"] >= 45][\"name\"]:\n",
    "        file.write(f\"more than 45 = {i}\\n\")\n",
    "\n",
    "\n",
    "df2[df2[\"avg\"] >= 45]"
   ]
  },
  {
   "cell_type": "markdown",
   "metadata": {},
   "source": [
    "# more than 55 or = 55"
   ]
  },
  {
   "cell_type": "code",
   "execution_count": 115,
   "metadata": {},
   "outputs": [
    {
     "data": {
      "application/vnd.microsoft.datawrangler.viewer.v0+json": {
       "columns": [
        {
         "name": "index",
         "rawType": "int64",
         "type": "integer"
        },
        {
         "name": "name",
         "rawType": "object",
         "type": "string"
        },
        {
         "name": "avg",
         "rawType": "float64",
         "type": "float"
        },
        {
         "name": "atd",
         "rawType": "int64",
         "type": "integer"
        }
       ],
       "conversionMethod": "pd.DataFrame",
       "ref": "5c85c0fc-19da-4840-b6ff-8349718b4233",
       "rows": [
        [
         "2",
         "aphexic",
         "71.0",
         "1"
        ],
        [
         "4",
         "Mitsubira_Aratoshi",
         "71.8",
         "4"
        ],
        [
         "6",
         "burnfield1k22",
         "61.0",
         "1"
        ],
        [
         "8",
         "Oscarchoyzy24",
         "80.4",
         "5"
        ],
        [
         "9",
         "Zweihvnders",
         "73.0",
         "1"
        ],
        [
         "11",
         "SeaV1per1224",
         "58.3",
         "3"
        ],
        [
         "15",
         "Liklyboos221",
         "65.0",
         "4"
        ],
        [
         "17",
         "SomeRandomBucketName",
         "71.0",
         "2"
        ],
        [
         "19",
         "HarArkhichen",
         "55.3",
         "3"
        ],
        [
         "20",
         "buddyboil1",
         "75.5",
         "2"
        ],
        [
         "29",
         "HoundVonSurrey",
         "58.0",
         "1"
        ],
        [
         "31",
         "jgwen19",
         "55.0",
         "2"
        ],
        [
         "36",
         "HAPPY27259",
         "69.0",
         "2"
        ],
        [
         "37",
         "AERBUTE1",
         "56.5",
         "2"
        ],
        [
         "38",
         "Gariksz",
         "58.7",
         "3"
        ],
        [
         "42",
         "dsastetmfvm",
         "71.0",
         "1"
        ],
        [
         "46",
         "GeorgeDroidMaxngFent",
         "82.0",
         "1"
        ],
        [
         "52",
         "CharIotteReis",
         "89.0",
         "1"
        ]
       ],
       "shape": {
        "columns": 3,
        "rows": 18
       }
      },
      "text/html": [
       "<div>\n",
       "<style scoped>\n",
       "    .dataframe tbody tr th:only-of-type {\n",
       "        vertical-align: middle;\n",
       "    }\n",
       "\n",
       "    .dataframe tbody tr th {\n",
       "        vertical-align: top;\n",
       "    }\n",
       "\n",
       "    .dataframe thead th {\n",
       "        text-align: right;\n",
       "    }\n",
       "</style>\n",
       "<table border=\"1\" class=\"dataframe\">\n",
       "  <thead>\n",
       "    <tr style=\"text-align: right;\">\n",
       "      <th></th>\n",
       "      <th>name</th>\n",
       "      <th>avg</th>\n",
       "      <th>atd</th>\n",
       "    </tr>\n",
       "  </thead>\n",
       "  <tbody>\n",
       "    <tr>\n",
       "      <th>2</th>\n",
       "      <td>aphexic</td>\n",
       "      <td>71.0</td>\n",
       "      <td>1</td>\n",
       "    </tr>\n",
       "    <tr>\n",
       "      <th>4</th>\n",
       "      <td>Mitsubira_Aratoshi</td>\n",
       "      <td>71.8</td>\n",
       "      <td>4</td>\n",
       "    </tr>\n",
       "    <tr>\n",
       "      <th>6</th>\n",
       "      <td>burnfield1k22</td>\n",
       "      <td>61.0</td>\n",
       "      <td>1</td>\n",
       "    </tr>\n",
       "    <tr>\n",
       "      <th>8</th>\n",
       "      <td>Oscarchoyzy24</td>\n",
       "      <td>80.4</td>\n",
       "      <td>5</td>\n",
       "    </tr>\n",
       "    <tr>\n",
       "      <th>9</th>\n",
       "      <td>Zweihvnders</td>\n",
       "      <td>73.0</td>\n",
       "      <td>1</td>\n",
       "    </tr>\n",
       "    <tr>\n",
       "      <th>11</th>\n",
       "      <td>SeaV1per1224</td>\n",
       "      <td>58.3</td>\n",
       "      <td>3</td>\n",
       "    </tr>\n",
       "    <tr>\n",
       "      <th>15</th>\n",
       "      <td>Liklyboos221</td>\n",
       "      <td>65.0</td>\n",
       "      <td>4</td>\n",
       "    </tr>\n",
       "    <tr>\n",
       "      <th>17</th>\n",
       "      <td>SomeRandomBucketName</td>\n",
       "      <td>71.0</td>\n",
       "      <td>2</td>\n",
       "    </tr>\n",
       "    <tr>\n",
       "      <th>19</th>\n",
       "      <td>HarArkhichen</td>\n",
       "      <td>55.3</td>\n",
       "      <td>3</td>\n",
       "    </tr>\n",
       "    <tr>\n",
       "      <th>20</th>\n",
       "      <td>buddyboil1</td>\n",
       "      <td>75.5</td>\n",
       "      <td>2</td>\n",
       "    </tr>\n",
       "    <tr>\n",
       "      <th>29</th>\n",
       "      <td>HoundVonSurrey</td>\n",
       "      <td>58.0</td>\n",
       "      <td>1</td>\n",
       "    </tr>\n",
       "    <tr>\n",
       "      <th>31</th>\n",
       "      <td>jgwen19</td>\n",
       "      <td>55.0</td>\n",
       "      <td>2</td>\n",
       "    </tr>\n",
       "    <tr>\n",
       "      <th>36</th>\n",
       "      <td>HAPPY27259</td>\n",
       "      <td>69.0</td>\n",
       "      <td>2</td>\n",
       "    </tr>\n",
       "    <tr>\n",
       "      <th>37</th>\n",
       "      <td>AERBUTE1</td>\n",
       "      <td>56.5</td>\n",
       "      <td>2</td>\n",
       "    </tr>\n",
       "    <tr>\n",
       "      <th>38</th>\n",
       "      <td>Gariksz</td>\n",
       "      <td>58.7</td>\n",
       "      <td>3</td>\n",
       "    </tr>\n",
       "    <tr>\n",
       "      <th>42</th>\n",
       "      <td>dsastetmfvm</td>\n",
       "      <td>71.0</td>\n",
       "      <td>1</td>\n",
       "    </tr>\n",
       "    <tr>\n",
       "      <th>46</th>\n",
       "      <td>GeorgeDroidMaxngFent</td>\n",
       "      <td>82.0</td>\n",
       "      <td>1</td>\n",
       "    </tr>\n",
       "    <tr>\n",
       "      <th>52</th>\n",
       "      <td>CharIotteReis</td>\n",
       "      <td>89.0</td>\n",
       "      <td>1</td>\n",
       "    </tr>\n",
       "  </tbody>\n",
       "</table>\n",
       "</div>"
      ],
      "text/plain": [
       "                    name   avg  atd\n",
       "2                aphexic  71.0    1\n",
       "4     Mitsubira_Aratoshi  71.8    4\n",
       "6          burnfield1k22  61.0    1\n",
       "8          Oscarchoyzy24  80.4    5\n",
       "9            Zweihvnders  73.0    1\n",
       "11          SeaV1per1224  58.3    3\n",
       "15          Liklyboos221  65.0    4\n",
       "17  SomeRandomBucketName  71.0    2\n",
       "19          HarArkhichen  55.3    3\n",
       "20            buddyboil1  75.5    2\n",
       "29        HoundVonSurrey  58.0    1\n",
       "31               jgwen19  55.0    2\n",
       "36            HAPPY27259  69.0    2\n",
       "37              AERBUTE1  56.5    2\n",
       "38               Gariksz  58.7    3\n",
       "42           dsastetmfvm  71.0    1\n",
       "46  GeorgeDroidMaxngFent  82.0    1\n",
       "52         CharIotteReis  89.0    1"
      ]
     },
     "execution_count": 115,
     "metadata": {},
     "output_type": "execute_result"
    }
   ],
   "source": [
    "with open(\"report.txt\",\"a+\") as file:\n",
    "    for i in df2[df2[\"avg\"] >= 55][\"name\"]:\n",
    "        file.write(f\"more than 55 = {i}\\n\")\n",
    "\n",
    "df2[df2[\"avg\"] >= 55]"
   ]
  },
  {
   "cell_type": "code",
   "execution_count": null,
   "metadata": {},
   "outputs": [],
   "source": []
  }
 ],
 "metadata": {
  "kernelspec": {
   "display_name": "Python 3",
   "language": "python",
   "name": "python3"
  },
  "language_info": {
   "codemirror_mode": {
    "name": "ipython",
    "version": 3
   },
   "file_extension": ".py",
   "mimetype": "text/x-python",
   "name": "python",
   "nbconvert_exporter": "python",
   "pygments_lexer": "ipython3",
   "version": "3.11.9"
  }
 },
 "nbformat": 4,
 "nbformat_minor": 2
}
