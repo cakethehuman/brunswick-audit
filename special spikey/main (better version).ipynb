{
 "cells": [
  {
   "cell_type": "code",
   "execution_count": 273,
   "metadata": {},
   "outputs": [],
   "source": [
    "import pandas as pd\n",
    "import numpy as np\n",
    "import matplotlib.pyplot as plt\n",
    "import seaborn as sns\n",
    "import scipy.stats as stats"
   ]
  },
  {
   "cell_type": "markdown",
   "metadata": {},
   "source": [
    "# We read the data first"
   ]
  },
  {
   "cell_type": "code",
   "execution_count": 274,
   "metadata": {},
   "outputs": [],
   "source": [
    "df = pd.read_csv('data.csv')"
   ]
  },
  {
   "cell_type": "code",
   "execution_count": 275,
   "metadata": {},
   "outputs": [
    {
     "data": {
      "application/vnd.microsoft.datawrangler.viewer.v0+json": {
       "columns": [
        {
         "name": "index",
         "rawType": "int64",
         "type": "integer"
        },
        {
         "name": "name",
         "rawType": "object",
         "type": "string"
        },
        {
         "name": "kills",
         "rawType": "int64",
         "type": "integer"
        }
       ],
       "conversionMethod": "pd.DataFrame",
       "ref": "ae30dcb1-89cc-40e2-b54f-b39b81ad865c",
       "rows": [
        [
         "0",
         "Oscarchoyzy24",
         "17"
        ],
        [
         "1",
         "Kazuyuki_Owen",
         "51"
        ],
        [
         "2",
         "Indonesia_ofMalaysia",
         "45"
        ],
        [
         "3",
         "jgwen19",
         "49"
        ],
        [
         "4",
         "Croezg",
         "46"
        ],
        [
         "5",
         "chanmeme1",
         "36"
        ],
        [
         "6",
         "jesterproandnoob",
         "50"
        ],
        [
         "7",
         "mrflipsflapz",
         "53"
        ],
        [
         "8",
         "SeaV1per1224",
         "59"
        ],
        [
         "9",
         "Luqman_indo",
         "46"
        ],
        [
         "10",
         "Dawnftb",
         "26"
        ],
        [
         "11",
         "AERBUTE1",
         "47"
        ],
        [
         "12",
         "camper8903",
         "57"
        ],
        [
         "13",
         "ConesOdebrecht",
         "84"
        ],
        [
         "14",
         "CommanderHikari",
         "37"
        ],
        [
         "15",
         "aryafariziii160",
         "33"
        ],
        [
         "16",
         "hotdoges142",
         "25"
        ],
        [
         "17",
         "ckpoa20",
         "45"
        ],
        [
         "18",
         "Liklyboos221",
         "68"
        ],
        [
         "19",
         "Shadow_bringer200",
         "27"
        ],
        [
         "20",
         "kite_167",
         "27"
        ],
        [
         "21",
         "IceBlox_Officical",
         "17"
        ],
        [
         "22",
         "spikey_001",
         "45"
        ],
        [
         "23",
         "Zweihvnders",
         "84"
        ],
        [
         "24",
         "pancake_w1",
         "31"
        ],
        [
         "25",
         "Gariksz",
         "65"
        ],
        [
         "26",
         "Cx_vt",
         "32"
        ],
        [
         "27",
         "nickthegodrider1289",
         "44"
        ],
        [
         "28",
         "raka6792",
         "29"
        ],
        [
         "29",
         "Jok_jok1234",
         "51"
        ],
        [
         "30",
         "commander_cookie1234",
         "39"
        ],
        [
         "31",
         "Lord_Emerald1",
         "19"
        ],
        [
         "32",
         "Dawnftb",
         "38"
        ],
        [
         "33",
         "jamesplayztv1",
         "2"
        ],
        [
         "34",
         "Luqman_indo",
         "37"
        ],
        [
         "35",
         "Croezg",
         "45"
        ],
        [
         "36",
         "Cogus_0828",
         "37"
        ],
        [
         "37",
         "GGXDArusha",
         "40"
        ],
        [
         "38",
         "Oscarchoyzy24",
         "82"
        ],
        [
         "39",
         "spikey_001",
         "53"
        ],
        [
         "40",
         "anathaliakdc",
         "38"
        ],
        [
         "41",
         "star_dustriver",
         "59"
        ],
        [
         "42",
         "Haloinqsss",
         "24"
        ],
        [
         "43",
         "nickthegodrider1289",
         "57"
        ],
        [
         "44",
         "CommanderHikari",
         "33"
        ],
        [
         "45",
         "UnknownWarrior144",
         "12"
        ],
        [
         "46",
         "Cx_vt",
         "42"
        ],
        [
         "47",
         "jiajun129",
         "38"
        ],
        [
         "48",
         "ER_CHANGED",
         "36"
        ],
        [
         "49",
         "aryafariziii160",
         "41"
        ]
       ],
       "shape": {
        "columns": 2,
        "rows": 90
       }
      },
      "text/html": [
       "<div>\n",
       "<style scoped>\n",
       "    .dataframe tbody tr th:only-of-type {\n",
       "        vertical-align: middle;\n",
       "    }\n",
       "\n",
       "    .dataframe tbody tr th {\n",
       "        vertical-align: top;\n",
       "    }\n",
       "\n",
       "    .dataframe thead th {\n",
       "        text-align: right;\n",
       "    }\n",
       "</style>\n",
       "<table border=\"1\" class=\"dataframe\">\n",
       "  <thead>\n",
       "    <tr style=\"text-align: right;\">\n",
       "      <th></th>\n",
       "      <th>name</th>\n",
       "      <th>kills</th>\n",
       "    </tr>\n",
       "  </thead>\n",
       "  <tbody>\n",
       "    <tr>\n",
       "      <th>0</th>\n",
       "      <td>Oscarchoyzy24</td>\n",
       "      <td>17</td>\n",
       "    </tr>\n",
       "    <tr>\n",
       "      <th>1</th>\n",
       "      <td>Kazuyuki_Owen</td>\n",
       "      <td>51</td>\n",
       "    </tr>\n",
       "    <tr>\n",
       "      <th>2</th>\n",
       "      <td>Indonesia_ofMalaysia</td>\n",
       "      <td>45</td>\n",
       "    </tr>\n",
       "    <tr>\n",
       "      <th>3</th>\n",
       "      <td>jgwen19</td>\n",
       "      <td>49</td>\n",
       "    </tr>\n",
       "    <tr>\n",
       "      <th>4</th>\n",
       "      <td>Croezg</td>\n",
       "      <td>46</td>\n",
       "    </tr>\n",
       "    <tr>\n",
       "      <th>...</th>\n",
       "      <td>...</td>\n",
       "      <td>...</td>\n",
       "    </tr>\n",
       "    <tr>\n",
       "      <th>85</th>\n",
       "      <td>mrflipsflapz</td>\n",
       "      <td>61</td>\n",
       "    </tr>\n",
       "    <tr>\n",
       "      <th>86</th>\n",
       "      <td>PeterPlayZYoutube</td>\n",
       "      <td>20</td>\n",
       "    </tr>\n",
       "    <tr>\n",
       "      <th>87</th>\n",
       "      <td>Luqman_indo</td>\n",
       "      <td>45</td>\n",
       "    </tr>\n",
       "    <tr>\n",
       "      <th>88</th>\n",
       "      <td>GRADE4092</td>\n",
       "      <td>54</td>\n",
       "    </tr>\n",
       "    <tr>\n",
       "      <th>89</th>\n",
       "      <td>Oscarchoyzy24</td>\n",
       "      <td>22</td>\n",
       "    </tr>\n",
       "  </tbody>\n",
       "</table>\n",
       "<p>90 rows × 2 columns</p>\n",
       "</div>"
      ],
      "text/plain": [
       "                    name  kills\n",
       "0          Oscarchoyzy24     17\n",
       "1          Kazuyuki_Owen     51\n",
       "2   Indonesia_ofMalaysia     45\n",
       "3                jgwen19     49\n",
       "4                 Croezg     46\n",
       "..                   ...    ...\n",
       "85          mrflipsflapz     61\n",
       "86     PeterPlayZYoutube     20\n",
       "87           Luqman_indo     45\n",
       "88             GRADE4092     54\n",
       "89         Oscarchoyzy24     22\n",
       "\n",
       "[90 rows x 2 columns]"
      ]
     },
     "execution_count": 275,
     "metadata": {},
     "output_type": "execute_result"
    }
   ],
   "source": [
    "df"
   ]
  },
  {
   "cell_type": "markdown",
   "metadata": {},
   "source": [
    "# Top 10 attandence all time"
   ]
  },
  {
   "cell_type": "code",
   "execution_count": 276,
   "metadata": {},
   "outputs": [
    {
     "data": {
      "image/png": "[encoded data removed]",
      "text/plain": [
       "<Figure size 640x480 with 1 Axes>"
      ]
     },
     "metadata": {},
     "output_type": "display_data"
    }
   ],
   "source": [
    "df[\"name\"].value_counts().nlargest(10).plot(kind='bar',colormap='viridis')\n",
    "plt.title(\"Attendance by Name\")\n",
    "plt.xlabel(\"Name\")\n",
    "plt.ylabel(\"Attendance\")\n",
    "plt.show()"
   ]
  },
  {
   "cell_type": "markdown",
   "metadata": {},
   "source": [
    "# avg attadance"
   ]
  },
  {
   "cell_type": "code",
   "execution_count": 277,
   "metadata": {},
   "outputs": [
    {
     "data": {
      "text/plain": [
       "2"
      ]
     },
     "execution_count": 277,
     "metadata": {},
     "output_type": "execute_result"
    }
   ],
   "source": [
    "round(df[\"name\"].value_counts().mean())"
   ]
  },
  {
   "cell_type": "markdown",
   "metadata": {},
   "source": [
    "# find there attadance"
   ]
  },
  {
   "cell_type": "code",
   "execution_count": 278,
   "metadata": {},
   "outputs": [
    {
     "data": {
      "application/vnd.microsoft.datawrangler.viewer.v0+json": {
       "columns": [
        {
         "name": "index",
         "rawType": "int64",
         "type": "integer"
        },
        {
         "name": "name",
         "rawType": "object",
         "type": "string"
        },
        {
         "name": "kills",
         "rawType": "int64",
         "type": "integer"
        }
       ],
       "conversionMethod": "pd.DataFrame",
       "ref": "17924ad7-756b-4efc-bef4-1dd06b3d9378",
       "rows": [
        [
         "7",
         "mrflipsflapz",
         "53"
        ],
        [
         "85",
         "mrflipsflapz",
         "61"
        ]
       ],
       "shape": {
        "columns": 2,
        "rows": 2
       }
      },
      "text/html": [
       "<div>\n",
       "<style scoped>\n",
       "    .dataframe tbody tr th:only-of-type {\n",
       "        vertical-align: middle;\n",
       "    }\n",
       "\n",
       "    .dataframe tbody tr th {\n",
       "        vertical-align: top;\n",
       "    }\n",
       "\n",
       "    .dataframe thead th {\n",
       "        text-align: right;\n",
       "    }\n",
       "</style>\n",
       "<table border=\"1\" class=\"dataframe\">\n",
       "  <thead>\n",
       "    <tr style=\"text-align: right;\">\n",
       "      <th></th>\n",
       "      <th>name</th>\n",
       "      <th>kills</th>\n",
       "    </tr>\n",
       "  </thead>\n",
       "  <tbody>\n",
       "    <tr>\n",
       "      <th>7</th>\n",
       "      <td>mrflipsflapz</td>\n",
       "      <td>53</td>\n",
       "    </tr>\n",
       "    <tr>\n",
       "      <th>85</th>\n",
       "      <td>mrflipsflapz</td>\n",
       "      <td>61</td>\n",
       "    </tr>\n",
       "  </tbody>\n",
       "</table>\n",
       "</div>"
      ],
      "text/plain": [
       "            name  kills\n",
       "7   mrflipsflapz     53\n",
       "85  mrflipsflapz     61"
      ]
     },
     "execution_count": 278,
     "metadata": {},
     "output_type": "execute_result"
    }
   ],
   "source": [
    "df[df['name'] == \"mrflipsflapz\"]\n"
   ]
  },
  {
   "cell_type": "markdown",
   "metadata": {},
   "source": [
    "# attadance for 1 week that is x >= 3\n",
    "\n"
   ]
  },
  {
   "cell_type": "code",
   "execution_count": 279,
   "metadata": {},
   "outputs": [
    {
     "data": {
      "text/plain": [
       "np.int64(2)"
      ]
     },
     "execution_count": 279,
     "metadata": {},
     "output_type": "execute_result"
    }
   ],
   "source": [
    "df[df[\"name\"] == \"mrflipsflapz\"].value_counts().sum()"
   ]
  },
  {
   "cell_type": "code",
   "execution_count": 280,
   "metadata": {},
   "outputs": [],
   "source": [
    "attandace = df[df[\"name\"] == \"mrflipsflapz\"].value_counts().sum()"
   ]
  },
  {
   "cell_type": "code",
   "execution_count": 281,
   "metadata": {},
   "outputs": [
    {
     "data": {
      "text/plain": [
       "name\n",
       "Oscarchoyzy24          True\n",
       "Croezg                 True\n",
       "CommanderHikari        True\n",
       "camper8903             True\n",
       "Dawnftb                True\n",
       "Luqman_indo            True\n",
       "aryafariziii160        True\n",
       "nickthegodrider1289    True\n",
       "Cx_vt                  True\n",
       "spikey_001             True\n",
       "Name: count, dtype: bool"
      ]
     },
     "execution_count": 281,
     "metadata": {},
     "output_type": "execute_result"
    }
   ],
   "source": [
    "check_attadance = df[\"name\"].value_counts() >= 3\n",
    "check_attadance.map({True: 1, False: 0})\n",
    "check_attadance[check_attadance == 1]\n"
   ]
  },
  {
   "cell_type": "markdown",
   "metadata": {},
   "source": [
    "# kills info"
   ]
  },
  {
   "cell_type": "code",
   "execution_count": 282,
   "metadata": {},
   "outputs": [
    {
     "name": "stdout",
     "output_type": "stream",
     "text": [
      "The average kills for everyone is:  44.8\n"
     ]
    }
   ],
   "source": [
    "avg_kills_everyone = df[\"kills\"].mean()\n",
    "print(\"The average kills for everyone is: \", round(avg_kills_everyone,1))"
   ]
  },
  {
   "cell_type": "code",
   "execution_count": 283,
   "metadata": {},
   "outputs": [
    {
     "data": {
      "application/vnd.microsoft.datawrangler.viewer.v0+json": {
       "columns": [
        {
         "name": "index",
         "rawType": "int64",
         "type": "integer"
        },
        {
         "name": "name",
         "rawType": "object",
         "type": "string"
        },
        {
         "name": "kills",
         "rawType": "int64",
         "type": "integer"
        }
       ],
       "conversionMethod": "pd.DataFrame",
       "ref": "31082342-0d6d-47b8-8bc3-11d49ebd483b",
       "rows": [
        [
         "75",
         "polkomgyy44",
         "71"
        ]
       ],
       "shape": {
        "columns": 2,
        "rows": 1
       }
      },
      "text/html": [
       "<div>\n",
       "<style scoped>\n",
       "    .dataframe tbody tr th:only-of-type {\n",
       "        vertical-align: middle;\n",
       "    }\n",
       "\n",
       "    .dataframe tbody tr th {\n",
       "        vertical-align: top;\n",
       "    }\n",
       "\n",
       "    .dataframe thead th {\n",
       "        text-align: right;\n",
       "    }\n",
       "</style>\n",
       "<table border=\"1\" class=\"dataframe\">\n",
       "  <thead>\n",
       "    <tr style=\"text-align: right;\">\n",
       "      <th></th>\n",
       "      <th>name</th>\n",
       "      <th>kills</th>\n",
       "    </tr>\n",
       "  </thead>\n",
       "  <tbody>\n",
       "    <tr>\n",
       "      <th>75</th>\n",
       "      <td>polkomgyy44</td>\n",
       "      <td>71</td>\n",
       "    </tr>\n",
       "  </tbody>\n",
       "</table>\n",
       "</div>"
      ],
      "text/plain": [
       "           name  kills\n",
       "75  polkomgyy44     71"
      ]
     },
     "execution_count": 283,
     "metadata": {},
     "output_type": "execute_result"
    }
   ],
   "source": [
    "df[df[\"name\"] == \"polkomgyy44\"]"
   ]
  },
  {
   "cell_type": "code",
   "execution_count": 284,
   "metadata": {},
   "outputs": [
    {
     "data": {
      "application/vnd.microsoft.datawrangler.viewer.v0+json": {
       "columns": [
        {
         "name": "index",
         "rawType": "int64",
         "type": "integer"
        },
        {
         "name": "name",
         "rawType": "object",
         "type": "string"
        },
        {
         "name": "kills",
         "rawType": "int64",
         "type": "integer"
        }
       ],
       "conversionMethod": "pd.DataFrame",
       "ref": "9a775ba1-f545-441a-b175-6913ba3164ca",
       "rows": [
        [
         "0",
         "Oscarchoyzy24",
         "17"
        ],
        [
         "1",
         "Kazuyuki_Owen",
         "51"
        ],
        [
         "2",
         "Indonesia_ofMalaysia",
         "45"
        ],
        [
         "3",
         "jgwen19",
         "49"
        ],
        [
         "4",
         "Croezg",
         "46"
        ],
        [
         "5",
         "chanmeme1",
         "36"
        ],
        [
         "6",
         "jesterproandnoob",
         "50"
        ],
        [
         "7",
         "mrflipsflapz",
         "53"
        ],
        [
         "8",
         "SeaV1per1224",
         "59"
        ],
        [
         "9",
         "Luqman_indo",
         "46"
        ],
        [
         "10",
         "Dawnftb",
         "26"
        ],
        [
         "11",
         "AERBUTE1",
         "47"
        ],
        [
         "12",
         "camper8903",
         "57"
        ],
        [
         "13",
         "ConesOdebrecht",
         "84"
        ],
        [
         "14",
         "CommanderHikari",
         "37"
        ],
        [
         "15",
         "aryafariziii160",
         "33"
        ],
        [
         "16",
         "hotdoges142",
         "25"
        ],
        [
         "17",
         "ckpoa20",
         "45"
        ],
        [
         "18",
         "Liklyboos221",
         "68"
        ],
        [
         "19",
         "Shadow_bringer200",
         "27"
        ],
        [
         "20",
         "kite_167",
         "27"
        ],
        [
         "21",
         "IceBlox_Officical",
         "17"
        ],
        [
         "22",
         "spikey_001",
         "45"
        ],
        [
         "23",
         "Zweihvnders",
         "84"
        ],
        [
         "24",
         "pancake_w1",
         "31"
        ],
        [
         "25",
         "Gariksz",
         "65"
        ],
        [
         "26",
         "Cx_vt",
         "32"
        ],
        [
         "27",
         "nickthegodrider1289",
         "44"
        ],
        [
         "28",
         "raka6792",
         "29"
        ],
        [
         "29",
         "Jok_jok1234",
         "51"
        ],
        [
         "30",
         "commander_cookie1234",
         "39"
        ],
        [
         "31",
         "Lord_Emerald1",
         "19"
        ],
        [
         "32",
         "Dawnftb",
         "38"
        ],
        [
         "33",
         "jamesplayztv1",
         "2"
        ],
        [
         "34",
         "Luqman_indo",
         "37"
        ],
        [
         "35",
         "Croezg",
         "45"
        ],
        [
         "36",
         "Cogus_0828",
         "37"
        ],
        [
         "37",
         "GGXDArusha",
         "40"
        ],
        [
         "38",
         "Oscarchoyzy24",
         "82"
        ],
        [
         "39",
         "spikey_001",
         "53"
        ],
        [
         "40",
         "anathaliakdc",
         "38"
        ],
        [
         "41",
         "star_dustriver",
         "59"
        ],
        [
         "42",
         "Haloinqsss",
         "24"
        ],
        [
         "43",
         "nickthegodrider1289",
         "57"
        ],
        [
         "44",
         "CommanderHikari",
         "33"
        ],
        [
         "45",
         "UnknownWarrior144",
         "12"
        ],
        [
         "46",
         "Cx_vt",
         "42"
        ],
        [
         "47",
         "jiajun129",
         "38"
        ],
        [
         "48",
         "ER_CHANGED",
         "36"
        ],
        [
         "49",
         "aryafariziii160",
         "41"
        ]
       ],
       "shape": {
        "columns": 2,
        "rows": 90
       }
      },
      "text/html": [
       "<div>\n",
       "<style scoped>\n",
       "    .dataframe tbody tr th:only-of-type {\n",
       "        vertical-align: middle;\n",
       "    }\n",
       "\n",
       "    .dataframe tbody tr th {\n",
       "        vertical-align: top;\n",
       "    }\n",
       "\n",
       "    .dataframe thead th {\n",
       "        text-align: right;\n",
       "    }\n",
       "</style>\n",
       "<table border=\"1\" class=\"dataframe\">\n",
       "  <thead>\n",
       "    <tr style=\"text-align: right;\">\n",
       "      <th></th>\n",
       "      <th>name</th>\n",
       "      <th>kills</th>\n",
       "    </tr>\n",
       "  </thead>\n",
       "  <tbody>\n",
       "    <tr>\n",
       "      <th>0</th>\n",
       "      <td>Oscarchoyzy24</td>\n",
       "      <td>17</td>\n",
       "    </tr>\n",
       "    <tr>\n",
       "      <th>1</th>\n",
       "      <td>Kazuyuki_Owen</td>\n",
       "      <td>51</td>\n",
       "    </tr>\n",
       "    <tr>\n",
       "      <th>2</th>\n",
       "      <td>Indonesia_ofMalaysia</td>\n",
       "      <td>45</td>\n",
       "    </tr>\n",
       "    <tr>\n",
       "      <th>3</th>\n",
       "      <td>jgwen19</td>\n",
       "      <td>49</td>\n",
       "    </tr>\n",
       "    <tr>\n",
       "      <th>4</th>\n",
       "      <td>Croezg</td>\n",
       "      <td>46</td>\n",
       "    </tr>\n",
       "    <tr>\n",
       "      <th>...</th>\n",
       "      <td>...</td>\n",
       "      <td>...</td>\n",
       "    </tr>\n",
       "    <tr>\n",
       "      <th>85</th>\n",
       "      <td>mrflipsflapz</td>\n",
       "      <td>61</td>\n",
       "    </tr>\n",
       "    <tr>\n",
       "      <th>86</th>\n",
       "      <td>PeterPlayZYoutube</td>\n",
       "      <td>20</td>\n",
       "    </tr>\n",
       "    <tr>\n",
       "      <th>87</th>\n",
       "      <td>Luqman_indo</td>\n",
       "      <td>45</td>\n",
       "    </tr>\n",
       "    <tr>\n",
       "      <th>88</th>\n",
       "      <td>GRADE4092</td>\n",
       "      <td>54</td>\n",
       "    </tr>\n",
       "    <tr>\n",
       "      <th>89</th>\n",
       "      <td>Oscarchoyzy24</td>\n",
       "      <td>22</td>\n",
       "    </tr>\n",
       "  </tbody>\n",
       "</table>\n",
       "<p>90 rows × 2 columns</p>\n",
       "</div>"
      ],
      "text/plain": [
       "                    name  kills\n",
       "0          Oscarchoyzy24     17\n",
       "1          Kazuyuki_Owen     51\n",
       "2   Indonesia_ofMalaysia     45\n",
       "3                jgwen19     49\n",
       "4                 Croezg     46\n",
       "..                   ...    ...\n",
       "85          mrflipsflapz     61\n",
       "86     PeterPlayZYoutube     20\n",
       "87           Luqman_indo     45\n",
       "88             GRADE4092     54\n",
       "89         Oscarchoyzy24     22\n",
       "\n",
       "[90 rows x 2 columns]"
      ]
     },
     "execution_count": 284,
     "metadata": {},
     "output_type": "execute_result"
    }
   ],
   "source": [
    "df"
   ]
  },
  {
   "cell_type": "code",
   "execution_count": 285,
   "metadata": {},
   "outputs": [
    {
     "data": {
      "text/plain": [
       "kills\n",
       "53    1\n",
       "61    1\n",
       "Name: count, dtype: int64"
      ]
     },
     "execution_count": 285,
     "metadata": {},
     "output_type": "execute_result"
    }
   ],
   "source": [
    "x = df[df[\"name\"] == \"mrflipsflapz\"]\n",
    "x[\"kills\"].value_counts()"
   ]
  },
  {
   "cell_type": "code",
   "execution_count": 286,
   "metadata": {},
   "outputs": [
    {
     "data": {
      "text/plain": [
       "Text(0.5, 1.0, 'Kills by Name')"
      ]
     },
     "execution_count": 286,
     "metadata": {},
     "output_type": "execute_result"
    },
    {
     "data": {
      "image/png": "[encoded data removed]",
      "text/plain": [
       "<Figure size 640x480 with 1 Axes>"
      ]
     },
     "metadata": {},
     "output_type": "display_data"
    }
   ],
   "source": [
    "plt.bar(x[\"name\"], x[\"kills\"])\n",
    "plt.title(\"Kills by Name\")"
   ]
  },
  {
   "cell_type": "markdown",
   "metadata": {},
   "source": [
    "# everyone avg"
   ]
  },
  {
   "cell_type": "code",
   "execution_count": 287,
   "metadata": {},
   "outputs": [
    {
     "name": "stdout",
     "output_type": "stream",
     "text": [
      "Oscarchoyzy24:🟡40.3\n",
      "Kazuyuki_Owen:🟢51.0\n",
      "Indonesia_ofMalaysia:🟢51.0\n",
      "jgwen19:🟢51.0\n",
      "Croezg:🟡42.7\n",
      "chanmeme1:🟢52.5\n",
      "jesterproandnoob:🟢50.0\n",
      "mrflipsflapz:🔵57.0\n",
      "SeaV1per1224:🔵59.0\n",
      "Luqman_indo:🟡42.7\n",
      "Dawnftb:🔵35.7\n",
      "AERBUTE1:🟢47.0\n",
      "camper8903:🔵63.3\n",
      "ConesOdebrecht:🔵85.0\n",
      "CommanderHikari:🔵38.3\n",
      "aryafariziii160:🟡43.3\n",
      "hotdoges142:🟠25.0\n",
      "ckpoa20:🟡43.0\n",
      "Liklyboos221:🔵64.5\n",
      "Shadow_bringer200:🟠27.0\n",
      "kite_167:🔵35.5\n",
      "IceBlox_Officical:🔴17.0\n",
      "spikey_001:🟢52.0\n",
      "Zweihvnders:🔵88.0\n",
      "pancake_w1:🟡40.5\n",
      "Gariksz:🔵65.0\n",
      "Cx_vt:🔵38.3\n",
      "nickthegodrider1289:🟢53.0\n",
      "raka6792:🟠35.0\n",
      "Jok_jok1234:🟢51.0\n",
      "commander_cookie1234:🟡42.0\n",
      "Lord_Emerald1:🟠22.5\n",
      "jamesplayztv1:🔴2.0\n",
      "Cogus_0828:🔵37.0\n",
      "GGXDArusha:🟡40.0\n",
      "anathaliakdc:🟡41.5\n",
      "star_dustriver:🔵59.0\n",
      "Haloinqsss:🟠24.0\n",
      "UnknownWarrior144:🔴12.0\n",
      "jiajun129:🔵38.0\n",
      "ER_CHANGED:🔵36.0\n",
      "Sunfull1:🟠31.0\n",
      "Nero_Kauko:🟠27.5\n",
      "Ferrum26_8:🔴11.0\n",
      "O56IsHere:🔴1.0\n",
      "kurtdylan1111:🟡42.0\n",
      "gtmsgamerG:🔵78.0\n",
      "jellyy112345:🔵58.0\n",
      "polkomgyy44:🔵71.0\n",
      "MarioUlici200702:🟢45.0\n",
      "Chanseoni:🟢55.0\n",
      "wninju:🟢49.0\n",
      "PeterPlayZYoutube:🔴20.0\n",
      "GRADE4092:🟢54.0\n"
     ]
    }
   ],
   "source": [
    "names = df[\"name\"].unique()\n",
    "for i in names:\n",
    "    find_avg_everyone = df[df[\"name\"] == i]\n",
    "    if find_avg_everyone['kills'].mean() <= 20:\n",
    "        print(f\"{i}:🔴{round(find_avg_everyone['kills'].mean(),1)}\")\n",
    "    elif find_avg_everyone['kills'].mean() <= 35:\n",
    "        print(f\"{i}:🟠{round(find_avg_everyone['kills'].mean(),1)}\")\n",
    "    elif find_avg_everyone['kills'].mean() >= 40 and find_avg_everyone['kills'].mean() < 45:\n",
    "        print(f\"{i}:🟡{round(find_avg_everyone['kills'].mean(),1)}\")\n",
    "    elif find_avg_everyone['kills'].mean() >= 45 and find_avg_everyone['kills'].mean() <= 55:\n",
    "        print(f\"{i}:🟢{round(find_avg_everyone['kills'].mean(),1)}\")\n",
    "    else:\n",
    "        print(f\"{i}:🔵{round(find_avg_everyone['kills'].mean(),1)}\")\n",
    "        \n",
    "        \n",
    "        \n",
    " # Create a new csv file with the average kills,attandance and color code\n",
    " # hi spikey      \n",
    "        \n",
    "    \n",
    "with open(\"avg.csv\",\"w\") as file:\n",
    "    file.write(\"color_code,name,avg,atd\\n\")\n",
    "    \n",
    "    for i in names:\n",
    "        attandace = df[df[\"name\"] == i].value_counts().sum()\n",
    "        find_avg_everyone = df[df[\"name\"] == i]\n",
    "        \n",
    "        if find_avg_everyone['kills'].mean() <= 20:\n",
    "            file.write(f\":red_circle: {i},{round(find_avg_everyone['kills'].mean(),1)},{attandace}\\n\")\n",
    "            \n",
    "        elif find_avg_everyone['kills'].mean() <= 35:\n",
    "            file.write(f\":orange_circle: {i},{round(find_avg_everyone['kills'].mean(),1)},{attandace}\\n\")\n",
    "            \n",
    "        elif find_avg_everyone['kills'].mean() >= 40 and find_avg_everyone['kills'].mean() < 45:\n",
    "            file.write(f\":yellow_circle: {i},{round(find_avg_everyone['kills'].mean(),1)},{attandace}\\n\")\n",
    "            \n",
    "        elif find_avg_everyone['kills'].mean() >= 45 and find_avg_everyone['kills'].mean() <= 55:\n",
    "            file.write(f\":green_circle: {i},{round(find_avg_everyone['kills'].mean(),1)},{attandace}\\n\")\n",
    "            \n",
    "        else:\n",
    "            file.write(f\":blue_circle: {i},{round(find_avg_everyone['kills'].mean(),1)},{attandace}\\n\")\n",
    "            \n",
    "    file.write(\"The meaning of the colors are:\\n :red_circle: = 0-20\\n :orange_circle: = 20-35\\n :yellow_circle: = 40-44\\n :green_circle: = 45-55\\n :blue_circle: = 56-100\")\n",
    "    \n",
    "    "
   ]
  }
 ],
 "metadata": {
  "kernelspec": {
   "display_name": "Python 3",
   "language": "python",
   "name": "python3"
  },
  "language_info": {
   "codemirror_mode": {
    "name": "ipython",
    "version": 3
   },
   "file_extension": ".py",
   "mimetype": "text/x-python",
   "name": "python",
   "nbconvert_exporter": "python",
   "pygments_lexer": "ipython3",
   "version": "3.11.9"
  }
 },
 "nbformat": 4,
 "nbformat_minor": 2
}
