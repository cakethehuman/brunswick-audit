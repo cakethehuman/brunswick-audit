{
 "cells": [
  {
   "cell_type": "code",
   "execution_count": 2,
   "metadata": {},
   "outputs": [],
   "source": [
    "import pandas as pd\n",
    "import numpy as np\n",
    "import matplotlib.pyplot as plt\n",
    "import seaborn as sns\n",
    "import scipy.stats as stats"
   ]
  },
  {
   "cell_type": "markdown",
   "metadata": {},
   "source": [
    "# reading the data"
   ]
  },
  {
   "cell_type": "code",
   "execution_count": 1,
   "metadata": {},
   "outputs": [
    {
     "ename": "NameError",
     "evalue": "name 'pd' is not defined",
     "output_type": "error",
     "traceback": [
      "\u001b[1;31m---------------------------------------------------------------------------\u001b[0m",
      "\u001b[1;31mNameError\u001b[0m                                 Traceback (most recent call last)",
      "Cell \u001b[1;32mIn[1], line 1\u001b[0m\n\u001b[1;32m----> 1\u001b[0m df \u001b[38;5;241m=\u001b[39m \u001b[43mpd\u001b[49m\u001b[38;5;241m.\u001b[39mread_csv(\u001b[38;5;124m'\u001b[39m\u001b[38;5;124mdata.csv\u001b[39m\u001b[38;5;124m'\u001b[39m)\n",
      "\u001b[1;31mNameError\u001b[0m: name 'pd' is not defined"
     ]
    }
   ],
   "source": [
    "df = pd.read_csv('data.csv')"
   ]
  },
  {
   "cell_type": "code",
   "execution_count": null,
   "metadata": {},
   "outputs": [
    {
     "data": {
      "application/vnd.microsoft.datawrangler.viewer.v0+json": {
       "columns": [
        {
         "name": "index",
         "rawType": "int64",
         "type": "integer"
        },
        {
         "name": "name",
         "rawType": "object",
         "type": "string"
        },
        {
         "name": "kills",
         "rawType": "int64",
         "type": "integer"
        }
       ],
       "conversionMethod": "pd.DataFrame",
       "ref": "6ef10b2b-beb4-4ca2-8867-96c12063be97",
       "rows": [
        [
         "0",
         "polkomgyy44",
         "60"
        ],
        [
         "1",
         "Dawnftb",
         "25"
        ],
        [
         "2",
         "star_dustriver",
         "61"
        ],
        [
         "3",
         "spikey_001",
         "53"
        ],
        [
         "4",
         "Zweihvnders",
         "88"
        ],
        [
         "5",
         "lnconvenience1",
         "21"
        ],
        [
         "6",
         "pancake_w1",
         "41"
        ],
        [
         "7",
         "Luqman_indo",
         "33"
        ],
        [
         "8",
         "Liklyboos221",
         "57"
        ],
        [
         "9",
         "chickenkampong",
         "35"
        ],
        [
         "10",
         "Indonesia_ofMalaysia",
         "56"
        ],
        [
         "11",
         "Cogus_0828",
         "35"
        ],
        [
         "12",
         "Xernicus",
         "50"
        ],
        [
         "13",
         "Cx_vt",
         "44"
        ],
        [
         "14",
         "aryafariziii160",
         "55"
        ],
        [
         "15",
         "rttt_1234567",
         "40"
        ],
        [
         "16",
         "5xmars",
         "77"
        ],
        [
         "17",
         "nickthegodrider1289",
         "54"
        ],
        [
         "18",
         "jesterproandnoob",
         "55"
        ],
        [
         "19",
         "Oscarchoyzy24",
         "31"
        ],
        [
         "20",
         "raka6792",
         "38"
        ],
        [
         "21",
         "Scornful_X",
         "48"
        ],
        [
         "22",
         "commander_cookie1234",
         "22"
        ],
        [
         "23",
         "kite_167",
         "38"
        ],
        [
         "24",
         "David_Theusless",
         "35"
        ],
        [
         "25",
         "anathaliakdc",
         "51"
        ],
        [
         "26",
         "Dawnftb",
         "48"
        ],
        [
         "27",
         "Kazuyuki_Owen",
         "69"
        ],
        [
         "28",
         "commander_cookie1234",
         "50"
        ],
        [
         "29",
         "ViktorInvicta",
         "42"
        ],
        [
         "30",
         "jamesplayztv1",
         "6"
        ],
        [
         "31",
         "aryafariziii160",
         "56"
        ],
        [
         "32",
         "polkomgyy44",
         "53"
        ],
        [
         "33",
         "MarioUlici200702",
         "59"
        ],
        [
         "34",
         "Haloinqsss",
         "51"
        ],
        [
         "35",
         "David_Theusless",
         "31"
        ],
        [
         "36",
         "Cogus_0828",
         "48"
        ],
        [
         "37",
         "rttt_1234567",
         "54"
        ],
        [
         "38",
         "TonnelTonkla",
         "5"
        ],
        [
         "39",
         "Liklyboos221",
         "73"
        ],
        [
         "40",
         "chanmeme1",
         "61"
        ],
        [
         "41",
         "PixelMangos",
         "31"
        ],
        [
         "42",
         "Gariksz",
         "85"
        ],
        [
         "43",
         "mahoney134",
         "85"
        ],
        [
         "44",
         "jesterproandnoob",
         "70"
        ],
        [
         "45",
         "CommanderHikari",
         "51"
        ],
        [
         "46",
         "5xmars",
         "90"
        ],
        [
         "47",
         "Oscarchoyzy24",
         "99"
        ],
        [
         "48",
         "kite_167",
         "50"
        ],
        [
         "49",
         "Sunfull1",
         "37"
        ]
       ],
       "shape": {
        "columns": 2,
        "rows": 159
       }
      },
      "text/html": [
       "<div>\n",
       "<style scoped>\n",
       "    .dataframe tbody tr th:only-of-type {\n",
       "        vertical-align: middle;\n",
       "    }\n",
       "\n",
       "    .dataframe tbody tr th {\n",
       "        vertical-align: top;\n",
       "    }\n",
       "\n",
       "    .dataframe thead th {\n",
       "        text-align: right;\n",
       "    }\n",
       "</style>\n",
       "<table border=\"1\" class=\"dataframe\">\n",
       "  <thead>\n",
       "    <tr style=\"text-align: right;\">\n",
       "      <th></th>\n",
       "      <th>name</th>\n",
       "      <th>kills</th>\n",
       "    </tr>\n",
       "  </thead>\n",
       "  <tbody>\n",
       "    <tr>\n",
       "      <th>0</th>\n",
       "      <td>polkomgyy44</td>\n",
       "      <td>60</td>\n",
       "    </tr>\n",
       "    <tr>\n",
       "      <th>1</th>\n",
       "      <td>Dawnftb</td>\n",
       "      <td>25</td>\n",
       "    </tr>\n",
       "    <tr>\n",
       "      <th>2</th>\n",
       "      <td>star_dustriver</td>\n",
       "      <td>61</td>\n",
       "    </tr>\n",
       "    <tr>\n",
       "      <th>3</th>\n",
       "      <td>spikey_001</td>\n",
       "      <td>53</td>\n",
       "    </tr>\n",
       "    <tr>\n",
       "      <th>4</th>\n",
       "      <td>Zweihvnders</td>\n",
       "      <td>88</td>\n",
       "    </tr>\n",
       "    <tr>\n",
       "      <th>...</th>\n",
       "      <td>...</td>\n",
       "      <td>...</td>\n",
       "    </tr>\n",
       "    <tr>\n",
       "      <th>154</th>\n",
       "      <td>Mrbombinleipzig</td>\n",
       "      <td>55</td>\n",
       "    </tr>\n",
       "    <tr>\n",
       "      <th>155</th>\n",
       "      <td>jellyy112345</td>\n",
       "      <td>53</td>\n",
       "    </tr>\n",
       "    <tr>\n",
       "      <th>156</th>\n",
       "      <td>Luqman_indo</td>\n",
       "      <td>29</td>\n",
       "    </tr>\n",
       "    <tr>\n",
       "      <th>157</th>\n",
       "      <td>anathaliakdc</td>\n",
       "      <td>37</td>\n",
       "    </tr>\n",
       "    <tr>\n",
       "      <th>158</th>\n",
       "      <td>ConesOdebrecht</td>\n",
       "      <td>65</td>\n",
       "    </tr>\n",
       "  </tbody>\n",
       "</table>\n",
       "<p>159 rows × 2 columns</p>\n",
       "</div>"
      ],
      "text/plain": [
       "                name  kills\n",
       "0        polkomgyy44     60\n",
       "1            Dawnftb     25\n",
       "2     star_dustriver     61\n",
       "3         spikey_001     53\n",
       "4        Zweihvnders     88\n",
       "..               ...    ...\n",
       "154  Mrbombinleipzig     55\n",
       "155     jellyy112345     53\n",
       "156      Luqman_indo     29\n",
       "157     anathaliakdc     37\n",
       "158   ConesOdebrecht     65\n",
       "\n",
       "[159 rows x 2 columns]"
      ]
     },
     "execution_count": 21,
     "metadata": {},
     "output_type": "execute_result"
    }
   ],
   "source": [
    "df"
   ]
  },
  {
   "cell_type": "markdown",
   "metadata": {},
   "source": [
    "# Top 10 attandence in the week"
   ]
  },
  {
   "cell_type": "code",
   "execution_count": null,
   "metadata": {},
   "outputs": [
    {
     "data": {
      "image/png": "[encoded data removed]",
      "text/plain": [
       "<Figure size 640x480 with 1 Axes>"
      ]
     },
     "metadata": {},
     "output_type": "display_data"
    }
   ],
   "source": [
    "df[\"name\"].value_counts().nlargest(10).plot(kind='bar',colormap='viridis')\n",
    "plt.title(\"Attendance by Name\")\n",
    "plt.xlabel(\"Name\")\n",
    "plt.ylabel(\"Attendance\")\n",
    "plt.show()"
   ]
  },
  {
   "cell_type": "markdown",
   "metadata": {},
   "source": [
    "# avg attadance for the week"
   ]
  },
  {
   "cell_type": "code",
   "execution_count": null,
   "metadata": {},
   "outputs": [
    {
     "data": {
      "text/plain": [
       "2"
      ]
     },
     "execution_count": 23,
     "metadata": {},
     "output_type": "execute_result"
    }
   ],
   "source": [
    "round(df[\"name\"].value_counts().mean())"
   ]
  },
  {
   "cell_type": "markdown",
   "metadata": {},
   "source": [
    "# find a {user} there attadance"
   ]
  },
  {
   "cell_type": "code",
   "execution_count": null,
   "metadata": {},
   "outputs": [
    {
     "data": {
      "application/vnd.microsoft.datawrangler.viewer.v0+json": {
       "columns": [
        {
         "name": "index",
         "rawType": "int64",
         "type": "integer"
        },
        {
         "name": "name",
         "rawType": "object",
         "type": "string"
        },
        {
         "name": "kills",
         "rawType": "int64",
         "type": "integer"
        }
       ],
       "conversionMethod": "pd.DataFrame",
       "ref": "61e9dc17-0c17-4879-9fc8-c64917aaf873",
       "rows": [
        [
         "96",
         "mrflipsflapz",
         "41"
        ],
        [
         "138",
         "mrflipsflapz",
         "53"
        ]
       ],
       "shape": {
        "columns": 2,
        "rows": 2
       }
      },
      "text/html": [
       "<div>\n",
       "<style scoped>\n",
       "    .dataframe tbody tr th:only-of-type {\n",
       "        vertical-align: middle;\n",
       "    }\n",
       "\n",
       "    .dataframe tbody tr th {\n",
       "        vertical-align: top;\n",
       "    }\n",
       "\n",
       "    .dataframe thead th {\n",
       "        text-align: right;\n",
       "    }\n",
       "</style>\n",
       "<table border=\"1\" class=\"dataframe\">\n",
       "  <thead>\n",
       "    <tr style=\"text-align: right;\">\n",
       "      <th></th>\n",
       "      <th>name</th>\n",
       "      <th>kills</th>\n",
       "    </tr>\n",
       "  </thead>\n",
       "  <tbody>\n",
       "    <tr>\n",
       "      <th>96</th>\n",
       "      <td>mrflipsflapz</td>\n",
       "      <td>41</td>\n",
       "    </tr>\n",
       "    <tr>\n",
       "      <th>138</th>\n",
       "      <td>mrflipsflapz</td>\n",
       "      <td>53</td>\n",
       "    </tr>\n",
       "  </tbody>\n",
       "</table>\n",
       "</div>"
      ],
      "text/plain": [
       "             name  kills\n",
       "96   mrflipsflapz     41\n",
       "138  mrflipsflapz     53"
      ]
     },
     "execution_count": 24,
     "metadata": {},
     "output_type": "execute_result"
    }
   ],
   "source": [
    "df[df['name'] == \"mrflipsflapz\"]\n"
   ]
  },
  {
   "cell_type": "markdown",
   "metadata": {},
   "source": [
    "# attadance for 1 week that is x >= 3\n",
    "\n"
   ]
  },
  {
   "cell_type": "code",
   "execution_count": null,
   "metadata": {},
   "outputs": [
    {
     "data": {
      "text/plain": [
       "np.int64(2)"
      ]
     },
     "execution_count": 25,
     "metadata": {},
     "output_type": "execute_result"
    }
   ],
   "source": [
    "df[df[\"name\"] == \"mrflipsflapz\"].value_counts().sum()"
   ]
  },
  {
   "cell_type": "code",
   "execution_count": null,
   "metadata": {},
   "outputs": [],
   "source": [
    "attandace = df[df[\"name\"] == \"mrflipsflapz\"].value_counts().sum()"
   ]
  },
  {
   "cell_type": "code",
   "execution_count": null,
   "metadata": {},
   "outputs": [
    {
     "data": {
      "text/plain": [
       "name\n",
       "polkomgyy44             True\n",
       "Dawnftb                 True\n",
       "kite_167                True\n",
       "commander_cookie1234    True\n",
       "nickthegodrider1289     True\n",
       "Cogus_0828              True\n",
       "jesterproandnoob        True\n",
       "David_Theusless         True\n",
       "raka6792                True\n",
       "aryafariziii160         True\n",
       "spikey_001              True\n",
       "Indonesia_ofMalaysia    True\n",
       "pancake_w1              True\n",
       "Kazuyuki_Owen           True\n",
       "anathaliakdc            True\n",
       "rttt_1234567            True\n",
       "Oscarchoyzy24           True\n",
       "PixelMangos             True\n",
       "Xernicus                True\n",
       "chickenkampong          True\n",
       "CommanderHikari         True\n",
       "Sunfull1                True\n",
       "Name: count, dtype: bool"
      ]
     },
     "execution_count": 27,
     "metadata": {},
     "output_type": "execute_result"
    }
   ],
   "source": [
    "check_attadance = df[\"name\"].value_counts() >= 3\n",
    "check_attadance.map({True: 1, False: 0})\n",
    "check_attadance[check_attadance == 1]\n"
   ]
  },
  {
   "cell_type": "markdown",
   "metadata": {},
   "source": [
    "# kills info"
   ]
  },
  {
   "cell_type": "code",
   "execution_count": null,
   "metadata": {},
   "outputs": [
    {
     "name": "stdout",
     "output_type": "stream",
     "text": [
      "The average kills for everyone is:  43.3\n"
     ]
    }
   ],
   "source": [
    "avg_kills_everyone = df[\"kills\"].mean()\n",
    "print(\"The average kills for everyone is: \", round(avg_kills_everyone,1))"
   ]
  },
  {
   "cell_type": "code",
   "execution_count": null,
   "metadata": {},
   "outputs": [
    {
     "data": {
      "application/vnd.microsoft.datawrangler.viewer.v0+json": {
       "columns": [
        {
         "name": "index",
         "rawType": "int64",
         "type": "integer"
        },
        {
         "name": "name",
         "rawType": "object",
         "type": "string"
        },
        {
         "name": "kills",
         "rawType": "int64",
         "type": "integer"
        }
       ],
       "conversionMethod": "pd.DataFrame",
       "ref": "99ba081c-91f1-4456-b86a-5d5b9c9a19cb",
       "rows": [
        [
         "0",
         "polkomgyy44",
         "60"
        ],
        [
         "32",
         "polkomgyy44",
         "53"
        ],
        [
         "76",
         "polkomgyy44",
         "65"
        ],
        [
         "97",
         "polkomgyy44",
         "28"
        ],
        [
         "141",
         "polkomgyy44",
         "69"
        ]
       ],
       "shape": {
        "columns": 2,
        "rows": 5
       }
      },
      "text/html": [
       "<div>\n",
       "<style scoped>\n",
       "    .dataframe tbody tr th:only-of-type {\n",
       "        vertical-align: middle;\n",
       "    }\n",
       "\n",
       "    .dataframe tbody tr th {\n",
       "        vertical-align: top;\n",
       "    }\n",
       "\n",
       "    .dataframe thead th {\n",
       "        text-align: right;\n",
       "    }\n",
       "</style>\n",
       "<table border=\"1\" class=\"dataframe\">\n",
       "  <thead>\n",
       "    <tr style=\"text-align: right;\">\n",
       "      <th></th>\n",
       "      <th>name</th>\n",
       "      <th>kills</th>\n",
       "    </tr>\n",
       "  </thead>\n",
       "  <tbody>\n",
       "    <tr>\n",
       "      <th>0</th>\n",
       "      <td>polkomgyy44</td>\n",
       "      <td>60</td>\n",
       "    </tr>\n",
       "    <tr>\n",
       "      <th>32</th>\n",
       "      <td>polkomgyy44</td>\n",
       "      <td>53</td>\n",
       "    </tr>\n",
       "    <tr>\n",
       "      <th>76</th>\n",
       "      <td>polkomgyy44</td>\n",
       "      <td>65</td>\n",
       "    </tr>\n",
       "    <tr>\n",
       "      <th>97</th>\n",
       "      <td>polkomgyy44</td>\n",
       "      <td>28</td>\n",
       "    </tr>\n",
       "    <tr>\n",
       "      <th>141</th>\n",
       "      <td>polkomgyy44</td>\n",
       "      <td>69</td>\n",
       "    </tr>\n",
       "  </tbody>\n",
       "</table>\n",
       "</div>"
      ],
      "text/plain": [
       "            name  kills\n",
       "0    polkomgyy44     60\n",
       "32   polkomgyy44     53\n",
       "76   polkomgyy44     65\n",
       "97   polkomgyy44     28\n",
       "141  polkomgyy44     69"
      ]
     },
     "execution_count": 29,
     "metadata": {},
     "output_type": "execute_result"
    }
   ],
   "source": [
    "df[df[\"name\"] == \"polkomgyy44\"]"
   ]
  },
  {
   "cell_type": "code",
   "execution_count": null,
   "metadata": {},
   "outputs": [
    {
     "data": {
      "application/vnd.microsoft.datawrangler.viewer.v0+json": {
       "columns": [
        {
         "name": "index",
         "rawType": "int64",
         "type": "integer"
        },
        {
         "name": "name",
         "rawType": "object",
         "type": "string"
        },
        {
         "name": "kills",
         "rawType": "int64",
         "type": "integer"
        }
       ],
       "conversionMethod": "pd.DataFrame",
       "ref": "d47516d1-91a2-45d7-84c0-7f9027084f49",
       "rows": [
        [
         "0",
         "polkomgyy44",
         "60"
        ],
        [
         "1",
         "Dawnftb",
         "25"
        ],
        [
         "2",
         "star_dustriver",
         "61"
        ],
        [
         "3",
         "spikey_001",
         "53"
        ],
        [
         "4",
         "Zweihvnders",
         "88"
        ],
        [
         "5",
         "lnconvenience1",
         "21"
        ],
        [
         "6",
         "pancake_w1",
         "41"
        ],
        [
         "7",
         "Luqman_indo",
         "33"
        ],
        [
         "8",
         "Liklyboos221",
         "57"
        ],
        [
         "9",
         "chickenkampong",
         "35"
        ],
        [
         "10",
         "Indonesia_ofMalaysia",
         "56"
        ],
        [
         "11",
         "Cogus_0828",
         "35"
        ],
        [
         "12",
         "Xernicus",
         "50"
        ],
        [
         "13",
         "Cx_vt",
         "44"
        ],
        [
         "14",
         "aryafariziii160",
         "55"
        ],
        [
         "15",
         "rttt_1234567",
         "40"
        ],
        [
         "16",
         "5xmars",
         "77"
        ],
        [
         "17",
         "nickthegodrider1289",
         "54"
        ],
        [
         "18",
         "jesterproandnoob",
         "55"
        ],
        [
         "19",
         "Oscarchoyzy24",
         "31"
        ],
        [
         "20",
         "raka6792",
         "38"
        ],
        [
         "21",
         "Scornful_X",
         "48"
        ],
        [
         "22",
         "commander_cookie1234",
         "22"
        ],
        [
         "23",
         "kite_167",
         "38"
        ],
        [
         "24",
         "David_Theusless",
         "35"
        ],
        [
         "25",
         "anathaliakdc",
         "51"
        ],
        [
         "26",
         "Dawnftb",
         "48"
        ],
        [
         "27",
         "Kazuyuki_Owen",
         "69"
        ],
        [
         "28",
         "commander_cookie1234",
         "50"
        ],
        [
         "29",
         "ViktorInvicta",
         "42"
        ],
        [
         "30",
         "jamesplayztv1",
         "6"
        ],
        [
         "31",
         "aryafariziii160",
         "56"
        ],
        [
         "32",
         "polkomgyy44",
         "53"
        ],
        [
         "33",
         "MarioUlici200702",
         "59"
        ],
        [
         "34",
         "Haloinqsss",
         "51"
        ],
        [
         "35",
         "David_Theusless",
         "31"
        ],
        [
         "36",
         "Cogus_0828",
         "48"
        ],
        [
         "37",
         "rttt_1234567",
         "54"
        ],
        [
         "38",
         "TonnelTonkla",
         "5"
        ],
        [
         "39",
         "Liklyboos221",
         "73"
        ],
        [
         "40",
         "chanmeme1",
         "61"
        ],
        [
         "41",
         "PixelMangos",
         "31"
        ],
        [
         "42",
         "Gariksz",
         "85"
        ],
        [
         "43",
         "mahoney134",
         "85"
        ],
        [
         "44",
         "jesterproandnoob",
         "70"
        ],
        [
         "45",
         "CommanderHikari",
         "51"
        ],
        [
         "46",
         "5xmars",
         "90"
        ],
        [
         "47",
         "Oscarchoyzy24",
         "99"
        ],
        [
         "48",
         "kite_167",
         "50"
        ],
        [
         "49",
         "Sunfull1",
         "37"
        ]
       ],
       "shape": {
        "columns": 2,
        "rows": 159
       }
      },
      "text/html": [
       "<div>\n",
       "<style scoped>\n",
       "    .dataframe tbody tr th:only-of-type {\n",
       "        vertical-align: middle;\n",
       "    }\n",
       "\n",
       "    .dataframe tbody tr th {\n",
       "        vertical-align: top;\n",
       "    }\n",
       "\n",
       "    .dataframe thead th {\n",
       "        text-align: right;\n",
       "    }\n",
       "</style>\n",
       "<table border=\"1\" class=\"dataframe\">\n",
       "  <thead>\n",
       "    <tr style=\"text-align: right;\">\n",
       "      <th></th>\n",
       "      <th>name</th>\n",
       "      <th>kills</th>\n",
       "    </tr>\n",
       "  </thead>\n",
       "  <tbody>\n",
       "    <tr>\n",
       "      <th>0</th>\n",
       "      <td>polkomgyy44</td>\n",
       "      <td>60</td>\n",
       "    </tr>\n",
       "    <tr>\n",
       "      <th>1</th>\n",
       "      <td>Dawnftb</td>\n",
       "      <td>25</td>\n",
       "    </tr>\n",
       "    <tr>\n",
       "      <th>2</th>\n",
       "      <td>star_dustriver</td>\n",
       "      <td>61</td>\n",
       "    </tr>\n",
       "    <tr>\n",
       "      <th>3</th>\n",
       "      <td>spikey_001</td>\n",
       "      <td>53</td>\n",
       "    </tr>\n",
       "    <tr>\n",
       "      <th>4</th>\n",
       "      <td>Zweihvnders</td>\n",
       "      <td>88</td>\n",
       "    </tr>\n",
       "    <tr>\n",
       "      <th>...</th>\n",
       "      <td>...</td>\n",
       "      <td>...</td>\n",
       "    </tr>\n",
       "    <tr>\n",
       "      <th>154</th>\n",
       "      <td>Mrbombinleipzig</td>\n",
       "      <td>55</td>\n",
       "    </tr>\n",
       "    <tr>\n",
       "      <th>155</th>\n",
       "      <td>jellyy112345</td>\n",
       "      <td>53</td>\n",
       "    </tr>\n",
       "    <tr>\n",
       "      <th>156</th>\n",
       "      <td>Luqman_indo</td>\n",
       "      <td>29</td>\n",
       "    </tr>\n",
       "    <tr>\n",
       "      <th>157</th>\n",
       "      <td>anathaliakdc</td>\n",
       "      <td>37</td>\n",
       "    </tr>\n",
       "    <tr>\n",
       "      <th>158</th>\n",
       "      <td>ConesOdebrecht</td>\n",
       "      <td>65</td>\n",
       "    </tr>\n",
       "  </tbody>\n",
       "</table>\n",
       "<p>159 rows × 2 columns</p>\n",
       "</div>"
      ],
      "text/plain": [
       "                name  kills\n",
       "0        polkomgyy44     60\n",
       "1            Dawnftb     25\n",
       "2     star_dustriver     61\n",
       "3         spikey_001     53\n",
       "4        Zweihvnders     88\n",
       "..               ...    ...\n",
       "154  Mrbombinleipzig     55\n",
       "155     jellyy112345     53\n",
       "156      Luqman_indo     29\n",
       "157     anathaliakdc     37\n",
       "158   ConesOdebrecht     65\n",
       "\n",
       "[159 rows x 2 columns]"
      ]
     },
     "execution_count": 30,
     "metadata": {},
     "output_type": "execute_result"
    }
   ],
   "source": [
    "df"
   ]
  },
  {
   "cell_type": "code",
   "execution_count": null,
   "metadata": {},
   "outputs": [
    {
     "data": {
      "text/plain": [
       "kills\n",
       "41    1\n",
       "53    1\n",
       "Name: count, dtype: int64"
      ]
     },
     "execution_count": 31,
     "metadata": {},
     "output_type": "execute_result"
    }
   ],
   "source": [
    "x = df[df[\"name\"] == \"mrflipsflapz\"]\n",
    "x[\"kills\"].value_counts()"
   ]
  },
  {
   "cell_type": "code",
   "execution_count": null,
   "metadata": {},
   "outputs": [
    {
     "data": {
      "text/plain": [
       "Text(0.5, 1.0, 'Kills by Name')"
      ]
     },
     "execution_count": 32,
     "metadata": {},
     "output_type": "execute_result"
    },
    {
     "data": {
      "image/png": "[encoded data removed]",
      "text/plain": [
       "<Figure size 640x480 with 1 Axes>"
      ]
     },
     "metadata": {},
     "output_type": "display_data"
    }
   ],
   "source": [
    "plt.bar(x[\"name\"], x[\"kills\"])\n",
    "plt.title(\"Kills by Name\")"
   ]
  },
  {
   "cell_type": "markdown",
   "metadata": {},
   "source": [
    "# everyone avg"
   ]
  },
  {
   "cell_type": "code",
   "execution_count": null,
   "metadata": {},
   "outputs": [
    {
     "name": "stdout",
     "output_type": "stream",
     "text": [
      "polkomgyy44:🟢55.0\n",
      "Dawnftb:🟡35.2\n",
      "star_dustriver:🔵61.0\n",
      "spikey_001:🟢48.5\n",
      "Zweihvnders:🔵88.0\n",
      "lnconvenience1:🔴19.5\n",
      "pancake_w1:🟠31.2\n",
      "Luqman_indo:🟠31.0\n",
      "Liklyboos221:🔵65.0\n",
      "chickenkampong:🟡38.3\n",
      "Indonesia_ofMalaysia:🟢52.2\n",
      "Cogus_0828:🟡44.0\n",
      "Xernicus:🟢51.0\n",
      "Cx_vt:🟡44.0\n",
      "aryafariziii160:🟢50.2\n",
      "rttt_1234567:🟢46.8\n",
      "5xmars:🔵83.5\n",
      "nickthegodrider1289:🟢51.2\n",
      "jesterproandnoob:🔵57.5\n",
      "Oscarchoyzy24:🟢50.7\n",
      "raka6792:🟡38.8\n",
      "Scornful_X:🟢48.0\n",
      "commander_cookie1234:🟠33.6\n",
      "kite_167:🟡41.8\n",
      "David_Theusless:🟠32.0\n",
      "anathaliakdc:🟠29.5\n",
      "Kazuyuki_Owen:🔵57.8\n",
      "ViktorInvicta:🟢46.0\n",
      "jamesplayztv1:🔴20.0\n",
      "MarioUlici200702:🔵59.0\n",
      "Haloinqsss:🟢51.0\n",
      "TonnelTonkla:🔴5.0\n",
      "chanmeme1:🟢46.0\n",
      "PixelMangos:🟠28.7\n",
      "Gariksz:🔵77.5\n",
      "mahoney134:🔵85.0\n",
      "CommanderHikari:🟢50.0\n",
      "Sunfull1:🟡38.7\n",
      "camper8903:🟢48.5\n",
      "GGXDArusha:🟡44.0\n",
      "mikeysamsam:🟠27.0\n",
      "ConesOdebrecht:🔵73.5\n",
      "guyswanatem:🟠21.0\n",
      "pioluisconrado:🟠22.0\n",
      "HarArkhichen:🟡38.5\n",
      "pensmen:🟢53.0\n",
      "Justin_Beber17:🟢51.0\n",
      "SeaV1per1224:🔵68.5\n",
      "Iyuhaa:🟠24.0\n",
      "jgwen19:🟢54.0\n",
      "shield_4545:🟠30.5\n",
      "ckpoa20:🔴18.0\n",
      "mrflipsflapz:🟢47.0\n",
      "DiamondMarkDragon:🔴14.0\n",
      "GRADE4092:🟠30.0\n",
      "MrDerps124:🔵56.0\n",
      "1usyhd_good4:🔴16.0\n",
      "JEJU_0P3RAT0R:🟢55.0\n",
      "Ryiodelia:🟠26.0\n",
      "6974cillsa:🔴10.0\n",
      "100gnoo:🔴19.0\n",
      "diwdwoa:🔴11.0\n",
      "KOREASKRR0:🔴17.0\n",
      "Fight_Strategy:🔴18.0\n",
      "zoommine0423:🟡42.0\n",
      "1owo164:🟠26.0\n",
      "Chanseoni:🔴18.0\n",
      "darkenians:🔵62.0\n",
      "amazingdkfewi1024:🟡37.0\n",
      "korea_67453:🟡44.0\n",
      "HiddenAjin:🟢53.0\n",
      "kurtdylan1111:🟠31.0\n",
      "wninju:🟢50.0\n",
      "SHADOWARDEN:🟡37.0\n",
      "safe_tram:🟡37.0\n",
      "Mrbombinleipzig:🟢55.0\n",
      "jellyy112345:🟢53.0\n"
     ]
    }
   ],
   "source": [
    "names = df[\"name\"].unique()\n",
    "for i in names:\n",
    "    find_avg_everyone = df[df[\"name\"] == i]\n",
    "    if find_avg_everyone['kills'].mean() <= 20:\n",
    "        print(f\"{i}:🔴{round(find_avg_everyone['kills'].mean(),1)}\")\n",
    "    elif find_avg_everyone['kills'].mean() < 35:\n",
    "        print(f\"{i}:🟠{round(find_avg_everyone['kills'].mean(),1)}\")\n",
    "    elif find_avg_everyone['kills'].mean() >= 35 and find_avg_everyone['kills'].mean() < 45:\n",
    "        print(f\"{i}:🟡{round(find_avg_everyone['kills'].mean(),1)}\")\n",
    "    elif find_avg_everyone['kills'].mean() >= 45 and find_avg_everyone['kills'].mean() <= 55:\n",
    "        print(f\"{i}:🟢{round(find_avg_everyone['kills'].mean(),1)}\")\n",
    "    elif find_avg_everyone['kills'].mean() >= 55:\n",
    "            print(f\"{i}:🔵{round(find_avg_everyone['kills'].mean(),1)}\")\n",
    "    else:\n",
    "        print(f\"{i}:❤️{round(find_avg_everyone['kills'].mean(),1)}\")\n",
    "        \n",
    "        \n",
    "        \n",
    " # Create a new csv file with the average kills,attandance and color code\n",
    " # hi spikey      \n",
    "        \n",
    "    \n",
    "with open(\"avg.csv\",\"w\") as file:\n",
    "    file.write(\"color_code,name,avg,atd\\n\")\n",
    "    \n",
    "    for i in names:\n",
    "        attandace = df[df[\"name\"] == i].value_counts().sum()\n",
    "        find_avg_everyone = df[df[\"name\"] == i]\n",
    "        \n",
    "        if find_avg_everyone['kills'].mean() <= 20:\n",
    "            file.write(f\":red_circle:,{i},{round(find_avg_everyone['kills'].mean(),1)},{attandace}\\n\")\n",
    "            \n",
    "        elif find_avg_everyone['kills'].mean() < 35:\n",
    "            file.write(f\":orange_circle:,{i},{round(find_avg_everyone['kills'].mean(),1)},{attandace}\\n\")\n",
    "            \n",
    "        elif find_avg_everyone['kills'].mean() >= 35 and find_avg_everyone['kills'].mean() < 45:\n",
    "            file.write(f\":yellow_circle:,{i},{round(find_avg_everyone['kills'].mean(),1)},{attandace}\\n\")\n",
    "            \n",
    "        elif find_avg_everyone['kills'].mean() >= 45 and find_avg_everyone['kills'].mean() <= 55:\n",
    "            file.write(f\":green_circle:,{i},{round(find_avg_everyone['kills'].mean(),1)},{attandace}\\n\")\n",
    "        elif find_avg_everyone['kills'].mean() >= 55:\n",
    "            file.write(f\":blue_circle:,{i},{round(find_avg_everyone['kills'].mean(),1)},{attandace}\\n\")\n",
    "        else:\n",
    "            file.write(f\":pink_heart:,{i},{round(find_avg_everyone['kills'].mean(),1)},{attandace}\\n\")\n",
    "            \n",
    "    #file.write(\"The meaning of the colors are:\\n :red_circle: = 0-20\\n :orange_circle: = 20-34\\n :yellow_circle: = 35-44\\n :green_circle: = 45-55\\n :blue_circle: = 56-100\")\n",
    "    \n",
    "    "
   ]
  },
  {
   "cell_type": "code",
   "execution_count": null,
   "metadata": {},
   "outputs": [
    {
     "data": {
      "application/vnd.microsoft.datawrangler.viewer.v0+json": {
       "columns": [
        {
         "name": "index",
         "rawType": "int64",
         "type": "integer"
        },
        {
         "name": "color_code",
         "rawType": "object",
         "type": "string"
        },
        {
         "name": "name",
         "rawType": "object",
         "type": "string"
        },
        {
         "name": "avg",
         "rawType": "float64",
         "type": "float"
        },
        {
         "name": "atd",
         "rawType": "int64",
         "type": "integer"
        }
       ],
       "conversionMethod": "pd.DataFrame",
       "ref": "0822aebc-00ff-4044-9de4-d237c0a35aeb",
       "rows": [
        [
         "0",
         ":green_circle:",
         "polkomgyy44",
         "55.0",
         "5"
        ],
        [
         "1",
         ":yellow_circle:",
         "Dawnftb",
         "35.2",
         "5"
        ],
        [
         "2",
         ":blue_circle:",
         "star_dustriver",
         "61.0",
         "1"
        ],
        [
         "3",
         ":green_circle:",
         "spikey_001",
         "48.5",
         "4"
        ],
        [
         "4",
         ":blue_circle:",
         "Zweihvnders",
         "88.0",
         "1"
        ],
        [
         "5",
         ":red_circle:",
         "lnconvenience1",
         "19.5",
         "2"
        ],
        [
         "6",
         ":orange_circle:",
         "pancake_w1",
         "31.2",
         "4"
        ],
        [
         "7",
         ":orange_circle:",
         "Luqman_indo",
         "31.0",
         "2"
        ],
        [
         "8",
         ":blue_circle:",
         "Liklyboos221",
         "65.0",
         "2"
        ],
        [
         "9",
         ":yellow_circle:",
         "chickenkampong",
         "38.3",
         "3"
        ],
        [
         "10",
         ":green_circle:",
         "Indonesia_ofMalaysia",
         "52.2",
         "4"
        ],
        [
         "11",
         ":yellow_circle:",
         "Cogus_0828",
         "44.0",
         "4"
        ],
        [
         "12",
         ":green_circle:",
         "Xernicus",
         "51.0",
         "3"
        ],
        [
         "13",
         ":yellow_circle:",
         "Cx_vt",
         "44.0",
         "1"
        ],
        [
         "14",
         ":green_circle:",
         "aryafariziii160",
         "50.2",
         "4"
        ],
        [
         "15",
         ":green_circle:",
         "rttt_1234567",
         "46.8",
         "4"
        ],
        [
         "16",
         ":blue_circle:",
         "5xmars",
         "83.5",
         "2"
        ],
        [
         "17",
         ":green_circle:",
         "nickthegodrider1289",
         "51.2",
         "5"
        ],
        [
         "18",
         ":blue_circle:",
         "jesterproandnoob",
         "57.5",
         "4"
        ],
        [
         "19",
         ":green_circle:",
         "Oscarchoyzy24",
         "50.7",
         "3"
        ],
        [
         "20",
         ":yellow_circle:",
         "raka6792",
         "38.8",
         "4"
        ],
        [
         "21",
         ":green_circle:",
         "Scornful_X",
         "48.0",
         "1"
        ],
        [
         "22",
         ":orange_circle:",
         "commander_cookie1234",
         "33.6",
         "5"
        ],
        [
         "23",
         ":yellow_circle:",
         "kite_167",
         "41.8",
         "5"
        ],
        [
         "24",
         ":orange_circle:",
         "David_Theusless",
         "32.0",
         "4"
        ],
        [
         "25",
         ":orange_circle:",
         "anathaliakdc",
         "29.5",
         "4"
        ],
        [
         "26",
         ":blue_circle:",
         "Kazuyuki_Owen",
         "57.8",
         "4"
        ],
        [
         "27",
         ":green_circle:",
         "ViktorInvicta",
         "46.0",
         "2"
        ],
        [
         "28",
         ":red_circle:",
         "jamesplayztv1",
         "20.0",
         "2"
        ],
        [
         "29",
         ":blue_circle:",
         "MarioUlici200702",
         "59.0",
         "1"
        ],
        [
         "30",
         ":green_circle:",
         "Haloinqsss",
         "51.0",
         "1"
        ],
        [
         "31",
         ":red_circle:",
         "TonnelTonkla",
         "5.0",
         "1"
        ],
        [
         "32",
         ":green_circle:",
         "chanmeme1",
         "46.0",
         "2"
        ],
        [
         "33",
         ":orange_circle:",
         "PixelMangos",
         "28.7",
         "3"
        ],
        [
         "34",
         ":blue_circle:",
         "Gariksz",
         "77.5",
         "2"
        ],
        [
         "35",
         ":blue_circle:",
         "mahoney134",
         "85.0",
         "1"
        ],
        [
         "36",
         ":green_circle:",
         "CommanderHikari",
         "50.0",
         "3"
        ],
        [
         "37",
         ":yellow_circle:",
         "Sunfull1",
         "38.7",
         "3"
        ],
        [
         "38",
         ":green_circle:",
         "camper8903",
         "48.5",
         "2"
        ],
        [
         "39",
         ":yellow_circle:",
         "GGXDArusha",
         "44.0",
         "2"
        ],
        [
         "40",
         ":orange_circle:",
         "mikeysamsam",
         "27.0",
         "1"
        ],
        [
         "41",
         ":blue_circle:",
         "ConesOdebrecht",
         "73.5",
         "2"
        ],
        [
         "42",
         ":orange_circle:",
         "guyswanatem",
         "21.0",
         "1"
        ],
        [
         "43",
         ":orange_circle:",
         "pioluisconrado",
         "22.0",
         "2"
        ],
        [
         "44",
         ":yellow_circle:",
         "HarArkhichen",
         "38.5",
         "2"
        ],
        [
         "45",
         ":green_circle:",
         "pensmen",
         "53.0",
         "1"
        ],
        [
         "46",
         ":green_circle:",
         "Justin_Beber17",
         "51.0",
         "1"
        ],
        [
         "47",
         ":blue_circle:",
         "SeaV1per1224",
         "68.5",
         "2"
        ],
        [
         "48",
         ":orange_circle:",
         "Iyuhaa",
         "24.0",
         "1"
        ],
        [
         "49",
         ":green_circle:",
         "jgwen19",
         "54.0",
         "2"
        ]
       ],
       "shape": {
        "columns": 4,
        "rows": 77
       }
      },
      "text/html": [
       "<div>\n",
       "<style scoped>\n",
       "    .dataframe tbody tr th:only-of-type {\n",
       "        vertical-align: middle;\n",
       "    }\n",
       "\n",
       "    .dataframe tbody tr th {\n",
       "        vertical-align: top;\n",
       "    }\n",
       "\n",
       "    .dataframe thead th {\n",
       "        text-align: right;\n",
       "    }\n",
       "</style>\n",
       "<table border=\"1\" class=\"dataframe\">\n",
       "  <thead>\n",
       "    <tr style=\"text-align: right;\">\n",
       "      <th></th>\n",
       "      <th>color_code</th>\n",
       "      <th>name</th>\n",
       "      <th>avg</th>\n",
       "      <th>atd</th>\n",
       "    </tr>\n",
       "  </thead>\n",
       "  <tbody>\n",
       "    <tr>\n",
       "      <th>0</th>\n",
       "      <td>:green_circle:</td>\n",
       "      <td>polkomgyy44</td>\n",
       "      <td>55.0</td>\n",
       "      <td>5</td>\n",
       "    </tr>\n",
       "    <tr>\n",
       "      <th>1</th>\n",
       "      <td>:yellow_circle:</td>\n",
       "      <td>Dawnftb</td>\n",
       "      <td>35.2</td>\n",
       "      <td>5</td>\n",
       "    </tr>\n",
       "    <tr>\n",
       "      <th>2</th>\n",
       "      <td>:blue_circle:</td>\n",
       "      <td>star_dustriver</td>\n",
       "      <td>61.0</td>\n",
       "      <td>1</td>\n",
       "    </tr>\n",
       "    <tr>\n",
       "      <th>3</th>\n",
       "      <td>:green_circle:</td>\n",
       "      <td>spikey_001</td>\n",
       "      <td>48.5</td>\n",
       "      <td>4</td>\n",
       "    </tr>\n",
       "    <tr>\n",
       "      <th>4</th>\n",
       "      <td>:blue_circle:</td>\n",
       "      <td>Zweihvnders</td>\n",
       "      <td>88.0</td>\n",
       "      <td>1</td>\n",
       "    </tr>\n",
       "    <tr>\n",
       "      <th>...</th>\n",
       "      <td>...</td>\n",
       "      <td>...</td>\n",
       "      <td>...</td>\n",
       "      <td>...</td>\n",
       "    </tr>\n",
       "    <tr>\n",
       "      <th>72</th>\n",
       "      <td>:green_circle:</td>\n",
       "      <td>wninju</td>\n",
       "      <td>50.0</td>\n",
       "      <td>1</td>\n",
       "    </tr>\n",
       "    <tr>\n",
       "      <th>73</th>\n",
       "      <td>:yellow_circle:</td>\n",
       "      <td>SHADOWARDEN</td>\n",
       "      <td>37.0</td>\n",
       "      <td>1</td>\n",
       "    </tr>\n",
       "    <tr>\n",
       "      <th>74</th>\n",
       "      <td>:yellow_circle:</td>\n",
       "      <td>safe_tram</td>\n",
       "      <td>37.0</td>\n",
       "      <td>1</td>\n",
       "    </tr>\n",
       "    <tr>\n",
       "      <th>75</th>\n",
       "      <td>:green_circle:</td>\n",
       "      <td>Mrbombinleipzig</td>\n",
       "      <td>55.0</td>\n",
       "      <td>1</td>\n",
       "    </tr>\n",
       "    <tr>\n",
       "      <th>76</th>\n",
       "      <td>:green_circle:</td>\n",
       "      <td>jellyy112345</td>\n",
       "      <td>53.0</td>\n",
       "      <td>1</td>\n",
       "    </tr>\n",
       "  </tbody>\n",
       "</table>\n",
       "<p>77 rows × 4 columns</p>\n",
       "</div>"
      ],
      "text/plain": [
       "         color_code             name   avg  atd\n",
       "0    :green_circle:      polkomgyy44  55.0    5\n",
       "1   :yellow_circle:          Dawnftb  35.2    5\n",
       "2     :blue_circle:   star_dustriver  61.0    1\n",
       "3    :green_circle:       spikey_001  48.5    4\n",
       "4     :blue_circle:      Zweihvnders  88.0    1\n",
       "..              ...              ...   ...  ...\n",
       "72   :green_circle:           wninju  50.0    1\n",
       "73  :yellow_circle:      SHADOWARDEN  37.0    1\n",
       "74  :yellow_circle:        safe_tram  37.0    1\n",
       "75   :green_circle:  Mrbombinleipzig  55.0    1\n",
       "76   :green_circle:     jellyy112345  53.0    1\n",
       "\n",
       "[77 rows x 4 columns]"
      ]
     },
     "execution_count": 34,
     "metadata": {},
     "output_type": "execute_result"
    }
   ],
   "source": [
    "df2 = pd.read_csv('avg.csv')\n",
    "df2"
   ]
  },
  {
   "cell_type": "code",
   "execution_count": null,
   "metadata": {},
   "outputs": [],
   "source": [
    "df2.sort_values(ascending=False,by=\"avg\").to_csv(\"avg2.csv\",index=False)"
   ]
  },
  {
   "cell_type": "code",
   "execution_count": null,
   "metadata": {},
   "outputs": [],
   "source": [
    "with open(\"avg2.csv\",\"a+\") as file:\n",
    "    file.write(\"The meaning of the colors are:\\n :red_circle: = 0-20\\n :orange_circle: = 20-34\\n :yellow_circle: = 35-44\\n :green_circle: = 45-55\\n :blue_circle: = 56-100\")"
   ]
  }
 ],
 "metadata": {
  "kernelspec": {
   "display_name": "Python 3",
   "language": "python",
   "name": "python3"
  },
  "language_info": {
   "codemirror_mode": {
    "name": "ipython",
    "version": 3
   },
   "file_extension": ".py",
   "mimetype": "text/x-python",
   "name": "python",
   "nbconvert_exporter": "python",
   "pygments_lexer": "ipython3",
   "version": "3.11.9"
  }
 },
 "nbformat": 4,
 "nbformat_minor": 2
}
