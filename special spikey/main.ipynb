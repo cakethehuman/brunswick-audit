{
 "cells": [
  {
   "cell_type": "code",
   "execution_count": 13,
   "metadata": {},
   "outputs": [],
   "source": [
    "import pandas as pd\n",
    "import numpy as np\n",
    "import matplotlib.pyplot as plt\n",
    "import seaborn as sns\n",
    "import scipy.stats as stats"
   ]
  },
  {
   "cell_type": "markdown",
   "metadata": {},
   "source": [
    "# We read the data first"
   ]
  },
  {
   "cell_type": "code",
   "execution_count": 14,
   "metadata": {},
   "outputs": [],
   "source": [
    "df = pd.read_csv('spikey_Data.csv')"
   ]
  },
  {
   "cell_type": "code",
   "execution_count": 15,
   "metadata": {},
   "outputs": [
    {
     "data": {
      "text/html": [
       "<div>\n",
       "<style scoped>\n",
       "    .dataframe tbody tr th:only-of-type {\n",
       "        vertical-align: middle;\n",
       "    }\n",
       "\n",
       "    .dataframe tbody tr th {\n",
       "        vertical-align: top;\n",
       "    }\n",
       "\n",
       "    .dataframe thead th {\n",
       "        text-align: right;\n",
       "    }\n",
       "</style>\n",
       "<table border=\"1\" class=\"dataframe\">\n",
       "  <thead>\n",
       "    <tr style=\"text-align: right;\">\n",
       "      <th></th>\n",
       "      <th>name</th>\n",
       "      <th>kills</th>\n",
       "      <th>date</th>\n",
       "    </tr>\n",
       "  </thead>\n",
       "  <tbody>\n",
       "    <tr>\n",
       "      <th>0</th>\n",
       "      <td>Dawnftb</td>\n",
       "      <td>44</td>\n",
       "      <td>2-11-25</td>\n",
       "    </tr>\n",
       "    <tr>\n",
       "      <th>1</th>\n",
       "      <td>gst44444</td>\n",
       "      <td>15</td>\n",
       "      <td>2-11-25</td>\n",
       "    </tr>\n",
       "    <tr>\n",
       "      <th>2</th>\n",
       "      <td>zZRabbitsZz</td>\n",
       "      <td>30</td>\n",
       "      <td>2-11-25</td>\n",
       "    </tr>\n",
       "    <tr>\n",
       "      <th>3</th>\n",
       "      <td>mrflipsflapz</td>\n",
       "      <td>59</td>\n",
       "      <td>2-11-25</td>\n",
       "    </tr>\n",
       "    <tr>\n",
       "      <th>4</th>\n",
       "      <td>Kazuyuki_Owen</td>\n",
       "      <td>72</td>\n",
       "      <td>2-11-25</td>\n",
       "    </tr>\n",
       "    <tr>\n",
       "      <th>5</th>\n",
       "      <td>jgwen19</td>\n",
       "      <td>76</td>\n",
       "      <td>2-11-25</td>\n",
       "    </tr>\n",
       "    <tr>\n",
       "      <th>6</th>\n",
       "      <td>SeaV1per1224</td>\n",
       "      <td>66</td>\n",
       "      <td>2-11-25</td>\n",
       "    </tr>\n",
       "    <tr>\n",
       "      <th>7</th>\n",
       "      <td>chanmeme1</td>\n",
       "      <td>61</td>\n",
       "      <td>2-11-25</td>\n",
       "    </tr>\n",
       "    <tr>\n",
       "      <th>8</th>\n",
       "      <td>commander_cookie1234</td>\n",
       "      <td>42</td>\n",
       "      <td>2-11-25</td>\n",
       "    </tr>\n",
       "    <tr>\n",
       "      <th>9</th>\n",
       "      <td>kite_167</td>\n",
       "      <td>16</td>\n",
       "      <td>2-11-25</td>\n",
       "    </tr>\n",
       "    <tr>\n",
       "      <th>10</th>\n",
       "      <td>spikey_001</td>\n",
       "      <td>49</td>\n",
       "      <td>2-11-25</td>\n",
       "    </tr>\n",
       "    <tr>\n",
       "      <th>11</th>\n",
       "      <td>Xernicus</td>\n",
       "      <td>58</td>\n",
       "      <td>2-11-25</td>\n",
       "    </tr>\n",
       "    <tr>\n",
       "      <th>12</th>\n",
       "      <td>kf21rotc2</td>\n",
       "      <td>8</td>\n",
       "      <td>2-11-25</td>\n",
       "    </tr>\n",
       "    <tr>\n",
       "      <th>13</th>\n",
       "      <td>Oscarchoyzy24</td>\n",
       "      <td>18</td>\n",
       "      <td>2-11-25</td>\n",
       "    </tr>\n",
       "    <tr>\n",
       "      <th>14</th>\n",
       "      <td>pensmen</td>\n",
       "      <td>32</td>\n",
       "      <td>2-11-25</td>\n",
       "    </tr>\n",
       "    <tr>\n",
       "      <th>15</th>\n",
       "      <td>jayneeddollar</td>\n",
       "      <td>63</td>\n",
       "      <td>2-11-25</td>\n",
       "    </tr>\n",
       "    <tr>\n",
       "      <th>16</th>\n",
       "      <td>anathaliakdc</td>\n",
       "      <td>43</td>\n",
       "      <td>2-11-25</td>\n",
       "    </tr>\n",
       "    <tr>\n",
       "      <th>17</th>\n",
       "      <td>pancake_w1</td>\n",
       "      <td>32</td>\n",
       "      <td>2-11-25</td>\n",
       "    </tr>\n",
       "    <tr>\n",
       "      <th>18</th>\n",
       "      <td>Alekspheus</td>\n",
       "      <td>39</td>\n",
       "      <td>2-11-25</td>\n",
       "    </tr>\n",
       "    <tr>\n",
       "      <th>19</th>\n",
       "      <td>GGXDArusha</td>\n",
       "      <td>47</td>\n",
       "      <td>2-11-25</td>\n",
       "    </tr>\n",
       "    <tr>\n",
       "      <th>20</th>\n",
       "      <td>Kangcheon24</td>\n",
       "      <td>76</td>\n",
       "      <td>2-11-25</td>\n",
       "    </tr>\n",
       "    <tr>\n",
       "      <th>21</th>\n",
       "      <td>FrailBailen</td>\n",
       "      <td>70</td>\n",
       "      <td>2-11-25</td>\n",
       "    </tr>\n",
       "    <tr>\n",
       "      <th>22</th>\n",
       "      <td>jamesplayztv1</td>\n",
       "      <td>57</td>\n",
       "      <td>2-11-25</td>\n",
       "    </tr>\n",
       "    <tr>\n",
       "      <th>23</th>\n",
       "      <td>KisarakiTH</td>\n",
       "      <td>46</td>\n",
       "      <td>2-11-25</td>\n",
       "    </tr>\n",
       "    <tr>\n",
       "      <th>24</th>\n",
       "      <td>kylemanike</td>\n",
       "      <td>67</td>\n",
       "      <td>2-11-25</td>\n",
       "    </tr>\n",
       "    <tr>\n",
       "      <th>25</th>\n",
       "      <td>nickthegodrider1289</td>\n",
       "      <td>60</td>\n",
       "      <td>2-11-25</td>\n",
       "    </tr>\n",
       "  </tbody>\n",
       "</table>\n",
       "</div>"
      ],
      "text/plain": [
       "                    name  kills     date\n",
       "0                Dawnftb     44  2-11-25\n",
       "1               gst44444     15  2-11-25\n",
       "2            zZRabbitsZz     30  2-11-25\n",
       "3           mrflipsflapz     59  2-11-25\n",
       "4          Kazuyuki_Owen     72  2-11-25\n",
       "5                jgwen19     76  2-11-25\n",
       "6           SeaV1per1224     66  2-11-25\n",
       "7              chanmeme1     61  2-11-25\n",
       "8   commander_cookie1234     42  2-11-25\n",
       "9               kite_167     16  2-11-25\n",
       "10            spikey_001     49  2-11-25\n",
       "11              Xernicus     58  2-11-25\n",
       "12             kf21rotc2      8  2-11-25\n",
       "13         Oscarchoyzy24     18  2-11-25\n",
       "14               pensmen     32  2-11-25\n",
       "15         jayneeddollar     63  2-11-25\n",
       "16          anathaliakdc     43  2-11-25\n",
       "17            pancake_w1     32  2-11-25\n",
       "18            Alekspheus     39  2-11-25\n",
       "19            GGXDArusha     47  2-11-25\n",
       "20           Kangcheon24     76  2-11-25\n",
       "21           FrailBailen     70  2-11-25\n",
       "22         jamesplayztv1     57  2-11-25\n",
       "23            KisarakiTH     46  2-11-25\n",
       "24            kylemanike     67  2-11-25\n",
       "25   nickthegodrider1289     60  2-11-25"
      ]
     },
     "execution_count": 15,
     "metadata": {},
     "output_type": "execute_result"
    }
   ],
   "source": [
    "df"
   ]
  },
  {
   "cell_type": "markdown",
   "metadata": {},
   "source": [
    "# Top 10 attandence all time"
   ]
  },
  {
   "cell_type": "code",
   "execution_count": 16,
   "metadata": {},
   "outputs": [
    {
     "data": {
      "image/png": "[encoded data removed]",
      "text/plain": [
       "<Figure size 640x480 with 1 Axes>"
      ]
     },
     "metadata": {},
     "output_type": "display_data"
    }
   ],
   "source": [
    "df[\"name\"].value_counts().nlargest(10).plot(kind='bar',colormap='viridis')\n",
    "plt.title(\"Attendance by Name\")\n",
    "plt.xlabel(\"Name\")\n",
    "plt.ylabel(\"Attendance\")\n",
    "plt.show()"
   ]
  },
  {
   "cell_type": "markdown",
   "metadata": {},
   "source": [
    "# avg attadance"
   ]
  },
  {
   "cell_type": "code",
   "execution_count": 17,
   "metadata": {},
   "outputs": [
    {
     "data": {
      "text/plain": [
       "1"
      ]
     },
     "execution_count": 17,
     "metadata": {},
     "output_type": "execute_result"
    }
   ],
   "source": [
    "round(df[\"name\"].value_counts().mean())"
   ]
  },
  {
   "cell_type": "markdown",
   "metadata": {},
   "source": [
    "# attadance for 1 week\n"
   ]
  },
  {
   "cell_type": "markdown",
   "metadata": {},
   "source": [
    "# Historigram for kills "
   ]
  },
  {
   "cell_type": "code",
   "execution_count": 18,
   "metadata": {},
   "outputs": [
    {
     "data": {
      "image/png": "[encoded data removed]",
      "text/plain": [
       "<Figure size 640x480 with 1 Axes>"
      ]
     },
     "metadata": {},
     "output_type": "display_data"
    }
   ],
   "source": [
    "\n",
    "\n",
    "plt.hist(df[\"kills\"], bins=15, color='green', edgecolor='black')\n",
    "\n",
    "plt.title(\"finding the average kills\")\n",
    "plt.plot()\n",
    "plt.show()"
   ]
  },
  {
   "cell_type": "code",
   "execution_count": 19,
   "metadata": {},
   "outputs": [
    {
     "name": "stdout",
     "output_type": "stream",
     "text": [
      "The average kills for everyone is:  48\n"
     ]
    }
   ],
   "source": [
    "avg_kills_everyone = df[\"kills\"].mean()\n",
    "print(\"The average kills for everyone is: \", round(avg_kills_everyone))"
   ]
  },
  {
   "cell_type": "markdown",
   "metadata": {},
   "source": [
    "# There top 5 kills"
   ]
  },
  {
   "cell_type": "code",
   "execution_count": 21,
   "metadata": {},
   "outputs": [
    {
     "data": {
      "image/png": "[encoded data removed]",
      "text/plain": [
       "<Figure size 640x480 with 1 Axes>"
      ]
     },
     "metadata": {},
     "output_type": "display_data"
    }
   ],
   "source": [
    "find_avg = df[df[\"name\"] == \"spikey_001\"]\n",
    "#you can put anyname \n",
    "find_avg[\"kills\"].mean()\n",
    "\n",
    "number_sort = find_avg[\"kills\"].sort_values(ascending=False)\n",
    "\n",
    "plt.bar(find_avg.sort_values(ascending=False, by=\"kills\")[\"date\"], find_avg[\"kills\"].sort_values(ascending=False), color='black')\n",
    "\n",
    "\n",
    "        \n",
    "plt.title(f\"Kills by Date by {find_avg['name'].iloc[0]}\")\n",
    "plt.xticks(rotation=90)\n",
    "plt.xlabel(\"Date\")\n",
    "plt.ylabel(\"Kills\")\n",
    "plt.show()"
   ]
  },
  {
   "cell_type": "markdown",
   "metadata": {},
   "source": [
    "# There performance for the last 5 days"
   ]
  },
  {
   "cell_type": "code",
   "execution_count": null,
   "metadata": {},
   "outputs": [],
   "source": []
  }
 ],
 "metadata": {
  "kernelspec": {
   "display_name": "Python 3",
   "language": "python",
   "name": "python3"
  },
  "language_info": {
   "codemirror_mode": {
    "name": "ipython",
    "version": 3
   },
   "file_extension": ".py",
   "mimetype": "text/x-python",
   "name": "python",
   "nbconvert_exporter": "python",
   "pygments_lexer": "ipython3",
   "version": "3.11.9"
  }
 },
 "nbformat": 4,
 "nbformat_minor": 2
}
