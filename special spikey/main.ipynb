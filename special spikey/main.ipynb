{
 "cells": [
  {
   "cell_type": "code",
   "execution_count": 21,
   "metadata": {},
   "outputs": [],
   "source": [
    "import pandas as pd\n",
    "import numpy as np\n",
    "import matplotlib.pyplot as plt\n",
    "import seaborn as sns\n",
    "import scipy.stats as stats"
   ]
  },
  {
   "cell_type": "markdown",
   "metadata": {},
   "source": [
    "# We read the data first"
   ]
  },
  {
   "cell_type": "code",
   "execution_count": 22,
   "metadata": {},
   "outputs": [],
   "source": [
    "df = pd.read_csv('data.csv')"
   ]
  },
  {
   "cell_type": "code",
   "execution_count": 23,
   "metadata": {},
   "outputs": [
    {
     "data": {
      "application/vnd.microsoft.datawrangler.viewer.v0+json": {
       "columns": [
        {
         "name": "index",
         "rawType": "int64",
         "type": "integer"
        },
        {
         "name": "name",
         "rawType": "object",
         "type": "string"
        },
        {
         "name": "kills",
         "rawType": "int64",
         "type": "integer"
        },
        {
         "name": "date",
         "rawType": "object",
         "type": "string"
        }
       ],
       "conversionMethod": "pd.DataFrame",
       "ref": "ab731023-8fd4-4d07-8cfa-e6b0749a26a4",
       "rows": [
        [
         "0",
         "Dawnftb",
         "51",
         "2025-02-18."
        ],
        [
         "1",
         "Oscarchoyzy24",
         "72",
         "2025-02-18."
        ],
        [
         "2",
         "spikey_001",
         "46",
         "2025-02-18."
        ],
        [
         "3",
         "jamesplayztv1",
         "0",
         "2025-02-18."
        ],
        [
         "4",
         "Mitsubira_Aratoshi",
         "67",
         "2025-02-18."
        ],
        [
         "5",
         "anathaliakdc",
         "45",
         "2025-02-18."
        ],
        [
         "6",
         "jgwen19",
         "56",
         "2025-02-18."
        ],
        [
         "7",
         "FrailBailen",
         "52",
         "2025-02-18."
        ],
        [
         "8",
         "mrflipsflapz",
         "52",
         "2025-02-18."
        ],
        [
         "9",
         "HarArkhichen",
         "30",
         "2025-02-18."
        ],
        [
         "10",
         "SeaV1per1224",
         "52",
         "2025-02-18."
        ],
        [
         "11",
         "O56IsHere",
         "29",
         "2025-02-18."
        ],
        [
         "12",
         "jiajun129",
         "47",
         "2025-02-18."
        ],
        [
         "13",
         "zoommine0423",
         "22",
         "2025-02-18."
        ],
        [
         "14",
         "polkomgyy44",
         "44",
         "2025-02-18."
        ],
        [
         "15",
         "kite_167",
         "22",
         "2025-02-18."
        ],
        [
         "16",
         "nickthegodrider1289",
         "42",
         "2025-02-18."
        ],
        [
         "17",
         "commander_cookie1234",
         "29",
         "2025-02-18."
        ],
        [
         "18",
         "HAPPY27259",
         "73",
         "2025-02-18."
        ],
        [
         "19",
         "AERBUTE1",
         "41",
         "2025-02-18."
        ],
        [
         "20",
         "Gariksz",
         "53",
         "2025-02-18."
        ],
        [
         "21",
         "chanmeme1",
         "53",
         "2025-02-18."
        ],
        [
         "22",
         "spikey_001",
         "53",
         "2025-02-20"
        ],
        [
         "23",
         "jamesplayztv1",
         "46",
         "2025-02-20"
        ],
        [
         "24",
         "Kazuyuki_Owen",
         "61",
         "2025-02-20"
        ],
        [
         "25",
         "SireHalo",
         "23",
         "2025-02-20"
        ],
        [
         "26",
         "polkomgyy44",
         "48",
         "2025-02-20"
        ],
        [
         "27",
         "raka6792",
         "20",
         "2025-02-20"
        ],
        [
         "28",
         "mrflipsflapz",
         "49",
         "2025-02-20"
        ],
        [
         "29",
         "anathaliakdc",
         "27",
         "2025-02-20"
        ],
        [
         "30",
         "jgwen19",
         "54",
         "2025-02-20"
        ],
        [
         "31",
         "pancake_w1",
         "40",
         "2025-02-20"
        ],
        [
         "32",
         "dsastetmfvm",
         "71",
         "2025-02-20"
        ],
        [
         "33",
         "Mitsubira_Aratoshi",
         "80",
         "2025-02-20"
        ],
        [
         "34",
         "eiltene123",
         "49",
         "2025-02-20"
        ],
        [
         "35",
         "jiajun129",
         "44",
         "2025-02-20"
        ],
        [
         "36",
         "Oscarchoyzy24",
         "81",
         "2025-02-20"
        ],
        [
         "37",
         "NovaGlyp",
         "52",
         "2025-02-20"
        ],
        [
         "38",
         "Liklyboos221",
         "57",
         "2025-02-20"
        ],
        [
         "39",
         "jesterproandnoob",
         "39",
         "2025-02-20"
        ],
        [
         "40",
         "HAPPY27259",
         "65",
         "2025-02-20"
        ],
        [
         "41",
         "Gariksz",
         "53",
         "2025-02-20"
        ],
        [
         "42",
         "Xernicus",
         "38",
         "2025-02-20"
        ],
        [
         "43",
         "Not_short5151",
         "5",
         "2025-02-20"
        ],
        [
         "44",
         "nickthegodrider1289",
         "44",
         "2025-02-20"
        ],
        [
         "45",
         "commander_cookie1234",
         "41",
         "2025-02-20"
        ],
        [
         "46",
         "kite_167",
         "25",
         "2025-02-20"
        ],
        [
         "47",
         "Dawnftb",
         "34",
         "2025-02-20"
        ],
        [
         "48",
         "chanmeme1",
         "43",
         "2025-02-20"
        ]
       ],
       "shape": {
        "columns": 3,
        "rows": 49
       }
      },
      "text/html": [
       "<div>\n",
       "<style scoped>\n",
       "    .dataframe tbody tr th:only-of-type {\n",
       "        vertical-align: middle;\n",
       "    }\n",
       "\n",
       "    .dataframe tbody tr th {\n",
       "        vertical-align: top;\n",
       "    }\n",
       "\n",
       "    .dataframe thead th {\n",
       "        text-align: right;\n",
       "    }\n",
       "</style>\n",
       "<table border=\"1\" class=\"dataframe\">\n",
       "  <thead>\n",
       "    <tr style=\"text-align: right;\">\n",
       "      <th></th>\n",
       "      <th>name</th>\n",
       "      <th>kills</th>\n",
       "      <th>date</th>\n",
       "    </tr>\n",
       "  </thead>\n",
       "  <tbody>\n",
       "    <tr>\n",
       "      <th>0</th>\n",
       "      <td>Dawnftb</td>\n",
       "      <td>51</td>\n",
       "      <td>2025-02-18.</td>\n",
       "    </tr>\n",
       "    <tr>\n",
       "      <th>1</th>\n",
       "      <td>Oscarchoyzy24</td>\n",
       "      <td>72</td>\n",
       "      <td>2025-02-18.</td>\n",
       "    </tr>\n",
       "    <tr>\n",
       "      <th>2</th>\n",
       "      <td>spikey_001</td>\n",
       "      <td>46</td>\n",
       "      <td>2025-02-18.</td>\n",
       "    </tr>\n",
       "    <tr>\n",
       "      <th>3</th>\n",
       "      <td>jamesplayztv1</td>\n",
       "      <td>0</td>\n",
       "      <td>2025-02-18.</td>\n",
       "    </tr>\n",
       "    <tr>\n",
       "      <th>4</th>\n",
       "      <td>Mitsubira_Aratoshi</td>\n",
       "      <td>67</td>\n",
       "      <td>2025-02-18.</td>\n",
       "    </tr>\n",
       "    <tr>\n",
       "      <th>5</th>\n",
       "      <td>anathaliakdc</td>\n",
       "      <td>45</td>\n",
       "      <td>2025-02-18.</td>\n",
       "    </tr>\n",
       "    <tr>\n",
       "      <th>6</th>\n",
       "      <td>jgwen19</td>\n",
       "      <td>56</td>\n",
       "      <td>2025-02-18.</td>\n",
       "    </tr>\n",
       "    <tr>\n",
       "      <th>7</th>\n",
       "      <td>FrailBailen</td>\n",
       "      <td>52</td>\n",
       "      <td>2025-02-18.</td>\n",
       "    </tr>\n",
       "    <tr>\n",
       "      <th>8</th>\n",
       "      <td>mrflipsflapz</td>\n",
       "      <td>52</td>\n",
       "      <td>2025-02-18.</td>\n",
       "    </tr>\n",
       "    <tr>\n",
       "      <th>9</th>\n",
       "      <td>HarArkhichen</td>\n",
       "      <td>30</td>\n",
       "      <td>2025-02-18.</td>\n",
       "    </tr>\n",
       "    <tr>\n",
       "      <th>10</th>\n",
       "      <td>SeaV1per1224</td>\n",
       "      <td>52</td>\n",
       "      <td>2025-02-18.</td>\n",
       "    </tr>\n",
       "    <tr>\n",
       "      <th>11</th>\n",
       "      <td>O56IsHere</td>\n",
       "      <td>29</td>\n",
       "      <td>2025-02-18.</td>\n",
       "    </tr>\n",
       "    <tr>\n",
       "      <th>12</th>\n",
       "      <td>jiajun129</td>\n",
       "      <td>47</td>\n",
       "      <td>2025-02-18.</td>\n",
       "    </tr>\n",
       "    <tr>\n",
       "      <th>13</th>\n",
       "      <td>zoommine0423</td>\n",
       "      <td>22</td>\n",
       "      <td>2025-02-18.</td>\n",
       "    </tr>\n",
       "    <tr>\n",
       "      <th>14</th>\n",
       "      <td>polkomgyy44</td>\n",
       "      <td>44</td>\n",
       "      <td>2025-02-18.</td>\n",
       "    </tr>\n",
       "    <tr>\n",
       "      <th>15</th>\n",
       "      <td>kite_167</td>\n",
       "      <td>22</td>\n",
       "      <td>2025-02-18.</td>\n",
       "    </tr>\n",
       "    <tr>\n",
       "      <th>16</th>\n",
       "      <td>nickthegodrider1289</td>\n",
       "      <td>42</td>\n",
       "      <td>2025-02-18.</td>\n",
       "    </tr>\n",
       "    <tr>\n",
       "      <th>17</th>\n",
       "      <td>commander_cookie1234</td>\n",
       "      <td>29</td>\n",
       "      <td>2025-02-18.</td>\n",
       "    </tr>\n",
       "    <tr>\n",
       "      <th>18</th>\n",
       "      <td>HAPPY27259</td>\n",
       "      <td>73</td>\n",
       "      <td>2025-02-18.</td>\n",
       "    </tr>\n",
       "    <tr>\n",
       "      <th>19</th>\n",
       "      <td>AERBUTE1</td>\n",
       "      <td>41</td>\n",
       "      <td>2025-02-18.</td>\n",
       "    </tr>\n",
       "    <tr>\n",
       "      <th>20</th>\n",
       "      <td>Gariksz</td>\n",
       "      <td>53</td>\n",
       "      <td>2025-02-18.</td>\n",
       "    </tr>\n",
       "    <tr>\n",
       "      <th>21</th>\n",
       "      <td>chanmeme1</td>\n",
       "      <td>53</td>\n",
       "      <td>2025-02-18.</td>\n",
       "    </tr>\n",
       "    <tr>\n",
       "      <th>22</th>\n",
       "      <td>spikey_001</td>\n",
       "      <td>53</td>\n",
       "      <td>2025-02-20</td>\n",
       "    </tr>\n",
       "    <tr>\n",
       "      <th>23</th>\n",
       "      <td>jamesplayztv1</td>\n",
       "      <td>46</td>\n",
       "      <td>2025-02-20</td>\n",
       "    </tr>\n",
       "    <tr>\n",
       "      <th>24</th>\n",
       "      <td>Kazuyuki_Owen</td>\n",
       "      <td>61</td>\n",
       "      <td>2025-02-20</td>\n",
       "    </tr>\n",
       "    <tr>\n",
       "      <th>25</th>\n",
       "      <td>SireHalo</td>\n",
       "      <td>23</td>\n",
       "      <td>2025-02-20</td>\n",
       "    </tr>\n",
       "    <tr>\n",
       "      <th>26</th>\n",
       "      <td>polkomgyy44</td>\n",
       "      <td>48</td>\n",
       "      <td>2025-02-20</td>\n",
       "    </tr>\n",
       "    <tr>\n",
       "      <th>27</th>\n",
       "      <td>raka6792</td>\n",
       "      <td>20</td>\n",
       "      <td>2025-02-20</td>\n",
       "    </tr>\n",
       "    <tr>\n",
       "      <th>28</th>\n",
       "      <td>mrflipsflapz</td>\n",
       "      <td>49</td>\n",
       "      <td>2025-02-20</td>\n",
       "    </tr>\n",
       "    <tr>\n",
       "      <th>29</th>\n",
       "      <td>anathaliakdc</td>\n",
       "      <td>27</td>\n",
       "      <td>2025-02-20</td>\n",
       "    </tr>\n",
       "    <tr>\n",
       "      <th>30</th>\n",
       "      <td>jgwen19</td>\n",
       "      <td>54</td>\n",
       "      <td>2025-02-20</td>\n",
       "    </tr>\n",
       "    <tr>\n",
       "      <th>31</th>\n",
       "      <td>pancake_w1</td>\n",
       "      <td>40</td>\n",
       "      <td>2025-02-20</td>\n",
       "    </tr>\n",
       "    <tr>\n",
       "      <th>32</th>\n",
       "      <td>dsastetmfvm</td>\n",
       "      <td>71</td>\n",
       "      <td>2025-02-20</td>\n",
       "    </tr>\n",
       "    <tr>\n",
       "      <th>33</th>\n",
       "      <td>Mitsubira_Aratoshi</td>\n",
       "      <td>80</td>\n",
       "      <td>2025-02-20</td>\n",
       "    </tr>\n",
       "    <tr>\n",
       "      <th>34</th>\n",
       "      <td>eiltene123</td>\n",
       "      <td>49</td>\n",
       "      <td>2025-02-20</td>\n",
       "    </tr>\n",
       "    <tr>\n",
       "      <th>35</th>\n",
       "      <td>jiajun129</td>\n",
       "      <td>44</td>\n",
       "      <td>2025-02-20</td>\n",
       "    </tr>\n",
       "    <tr>\n",
       "      <th>36</th>\n",
       "      <td>Oscarchoyzy24</td>\n",
       "      <td>81</td>\n",
       "      <td>2025-02-20</td>\n",
       "    </tr>\n",
       "    <tr>\n",
       "      <th>37</th>\n",
       "      <td>NovaGlyp</td>\n",
       "      <td>52</td>\n",
       "      <td>2025-02-20</td>\n",
       "    </tr>\n",
       "    <tr>\n",
       "      <th>38</th>\n",
       "      <td>Liklyboos221</td>\n",
       "      <td>57</td>\n",
       "      <td>2025-02-20</td>\n",
       "    </tr>\n",
       "    <tr>\n",
       "      <th>39</th>\n",
       "      <td>jesterproandnoob</td>\n",
       "      <td>39</td>\n",
       "      <td>2025-02-20</td>\n",
       "    </tr>\n",
       "    <tr>\n",
       "      <th>40</th>\n",
       "      <td>HAPPY27259</td>\n",
       "      <td>65</td>\n",
       "      <td>2025-02-20</td>\n",
       "    </tr>\n",
       "    <tr>\n",
       "      <th>41</th>\n",
       "      <td>Gariksz</td>\n",
       "      <td>53</td>\n",
       "      <td>2025-02-20</td>\n",
       "    </tr>\n",
       "    <tr>\n",
       "      <th>42</th>\n",
       "      <td>Xernicus</td>\n",
       "      <td>38</td>\n",
       "      <td>2025-02-20</td>\n",
       "    </tr>\n",
       "    <tr>\n",
       "      <th>43</th>\n",
       "      <td>Not_short5151</td>\n",
       "      <td>5</td>\n",
       "      <td>2025-02-20</td>\n",
       "    </tr>\n",
       "    <tr>\n",
       "      <th>44</th>\n",
       "      <td>nickthegodrider1289</td>\n",
       "      <td>44</td>\n",
       "      <td>2025-02-20</td>\n",
       "    </tr>\n",
       "    <tr>\n",
       "      <th>45</th>\n",
       "      <td>commander_cookie1234</td>\n",
       "      <td>41</td>\n",
       "      <td>2025-02-20</td>\n",
       "    </tr>\n",
       "    <tr>\n",
       "      <th>46</th>\n",
       "      <td>kite_167</td>\n",
       "      <td>25</td>\n",
       "      <td>2025-02-20</td>\n",
       "    </tr>\n",
       "    <tr>\n",
       "      <th>47</th>\n",
       "      <td>Dawnftb</td>\n",
       "      <td>34</td>\n",
       "      <td>2025-02-20</td>\n",
       "    </tr>\n",
       "    <tr>\n",
       "      <th>48</th>\n",
       "      <td>chanmeme1</td>\n",
       "      <td>43</td>\n",
       "      <td>2025-02-20</td>\n",
       "    </tr>\n",
       "  </tbody>\n",
       "</table>\n",
       "</div>"
      ],
      "text/plain": [
       "                    name  kills         date\n",
       "0                Dawnftb     51  2025-02-18.\n",
       "1          Oscarchoyzy24     72  2025-02-18.\n",
       "2             spikey_001     46  2025-02-18.\n",
       "3          jamesplayztv1      0  2025-02-18.\n",
       "4     Mitsubira_Aratoshi     67  2025-02-18.\n",
       "5           anathaliakdc     45  2025-02-18.\n",
       "6                jgwen19     56  2025-02-18.\n",
       "7            FrailBailen     52  2025-02-18.\n",
       "8           mrflipsflapz     52  2025-02-18.\n",
       "9           HarArkhichen     30  2025-02-18.\n",
       "10          SeaV1per1224     52  2025-02-18.\n",
       "11             O56IsHere     29  2025-02-18.\n",
       "12             jiajun129     47  2025-02-18.\n",
       "13          zoommine0423     22  2025-02-18.\n",
       "14           polkomgyy44     44  2025-02-18.\n",
       "15              kite_167     22  2025-02-18.\n",
       "16   nickthegodrider1289     42  2025-02-18.\n",
       "17  commander_cookie1234     29  2025-02-18.\n",
       "18            HAPPY27259     73  2025-02-18.\n",
       "19              AERBUTE1     41  2025-02-18.\n",
       "20               Gariksz     53  2025-02-18.\n",
       "21             chanmeme1     53  2025-02-18.\n",
       "22            spikey_001     53   2025-02-20\n",
       "23         jamesplayztv1     46   2025-02-20\n",
       "24         Kazuyuki_Owen     61   2025-02-20\n",
       "25              SireHalo     23   2025-02-20\n",
       "26           polkomgyy44     48   2025-02-20\n",
       "27              raka6792     20   2025-02-20\n",
       "28          mrflipsflapz     49   2025-02-20\n",
       "29          anathaliakdc     27   2025-02-20\n",
       "30               jgwen19     54   2025-02-20\n",
       "31            pancake_w1     40   2025-02-20\n",
       "32           dsastetmfvm     71   2025-02-20\n",
       "33    Mitsubira_Aratoshi     80   2025-02-20\n",
       "34            eiltene123     49   2025-02-20\n",
       "35             jiajun129     44   2025-02-20\n",
       "36         Oscarchoyzy24     81   2025-02-20\n",
       "37              NovaGlyp     52   2025-02-20\n",
       "38          Liklyboos221     57   2025-02-20\n",
       "39      jesterproandnoob     39   2025-02-20\n",
       "40            HAPPY27259     65   2025-02-20\n",
       "41               Gariksz     53   2025-02-20\n",
       "42              Xernicus     38   2025-02-20\n",
       "43         Not_short5151      5   2025-02-20\n",
       "44   nickthegodrider1289     44   2025-02-20\n",
       "45  commander_cookie1234     41   2025-02-20\n",
       "46              kite_167     25   2025-02-20\n",
       "47               Dawnftb     34   2025-02-20\n",
       "48             chanmeme1     43   2025-02-20"
      ]
     },
     "execution_count": 23,
     "metadata": {},
     "output_type": "execute_result"
    }
   ],
   "source": [
    "df"
   ]
  },
  {
   "cell_type": "markdown",
   "metadata": {},
   "source": [
    "# Top 10 attandence all time"
   ]
  },
  {
   "cell_type": "code",
   "execution_count": 24,
   "metadata": {},
   "outputs": [
    {
     "data": {
      "image/png": "[encoded data removed]",
      "text/plain": [
       "<Figure size 640x480 with 1 Axes>"
      ]
     },
     "metadata": {},
     "output_type": "display_data"
    }
   ],
   "source": [
    "df[\"name\"].value_counts().nlargest(10).plot(kind='bar',colormap='viridis')\n",
    "plt.title(\"Attendance by Name\")\n",
    "plt.xlabel(\"Name\")\n",
    "plt.ylabel(\"Attendance\")\n",
    "plt.show()"
   ]
  },
  {
   "cell_type": "markdown",
   "metadata": {},
   "source": [
    "# avg attadance"
   ]
  },
  {
   "cell_type": "code",
   "execution_count": 25,
   "metadata": {},
   "outputs": [
    {
     "data": {
      "text/plain": [
       "1"
      ]
     },
     "execution_count": 25,
     "metadata": {},
     "output_type": "execute_result"
    }
   ],
   "source": [
    "round(df[\"name\"].value_counts().mean())"
   ]
  },
  {
   "cell_type": "markdown",
   "metadata": {},
   "source": [
    "# find there attadance"
   ]
  },
  {
   "cell_type": "code",
   "execution_count": 26,
   "metadata": {},
   "outputs": [
    {
     "data": {
      "application/vnd.microsoft.datawrangler.viewer.v0+json": {
       "columns": [
        {
         "name": "index",
         "rawType": "int64",
         "type": "integer"
        },
        {
         "name": "name",
         "rawType": "object",
         "type": "string"
        },
        {
         "name": "kills",
         "rawType": "int64",
         "type": "integer"
        },
        {
         "name": "date",
         "rawType": "object",
         "type": "string"
        }
       ],
       "conversionMethod": "pd.DataFrame",
       "ref": "a9d5fd52-3492-4f97-98ab-588532513b45",
       "rows": [
        [
         "8",
         "mrflipsflapz",
         "52",
         "2025-02-18."
        ],
        [
         "28",
         "mrflipsflapz",
         "49",
         "2025-02-20"
        ]
       ],
       "shape": {
        "columns": 3,
        "rows": 2
       }
      },
      "text/html": [
       "<div>\n",
       "<style scoped>\n",
       "    .dataframe tbody tr th:only-of-type {\n",
       "        vertical-align: middle;\n",
       "    }\n",
       "\n",
       "    .dataframe tbody tr th {\n",
       "        vertical-align: top;\n",
       "    }\n",
       "\n",
       "    .dataframe thead th {\n",
       "        text-align: right;\n",
       "    }\n",
       "</style>\n",
       "<table border=\"1\" class=\"dataframe\">\n",
       "  <thead>\n",
       "    <tr style=\"text-align: right;\">\n",
       "      <th></th>\n",
       "      <th>name</th>\n",
       "      <th>kills</th>\n",
       "      <th>date</th>\n",
       "    </tr>\n",
       "  </thead>\n",
       "  <tbody>\n",
       "    <tr>\n",
       "      <th>8</th>\n",
       "      <td>mrflipsflapz</td>\n",
       "      <td>52</td>\n",
       "      <td>2025-02-18.</td>\n",
       "    </tr>\n",
       "    <tr>\n",
       "      <th>28</th>\n",
       "      <td>mrflipsflapz</td>\n",
       "      <td>49</td>\n",
       "      <td>2025-02-20</td>\n",
       "    </tr>\n",
       "  </tbody>\n",
       "</table>\n",
       "</div>"
      ],
      "text/plain": [
       "            name  kills         date\n",
       "8   mrflipsflapz     52  2025-02-18.\n",
       "28  mrflipsflapz     49   2025-02-20"
      ]
     },
     "execution_count": 26,
     "metadata": {},
     "output_type": "execute_result"
    }
   ],
   "source": [
    "df[df['name'] == \"mrflipsflapz\"]\n"
   ]
  },
  {
   "cell_type": "markdown",
   "metadata": {},
   "source": [
    "# attadance for 1 week that is x >= 3\n",
    "\n"
   ]
  },
  {
   "cell_type": "code",
   "execution_count": 27,
   "metadata": {},
   "outputs": [
    {
     "data": {
      "text/plain": [
       "Series([], Name: count, dtype: bool)"
      ]
     },
     "execution_count": 27,
     "metadata": {},
     "output_type": "execute_result"
    }
   ],
   "source": [
    "check_attadance = df[\"name\"].value_counts() >= 3\n",
    "check_attadance.map({True: 1, False: 0})\n",
    "check_attadance[check_attadance == 1]\n"
   ]
  },
  {
   "cell_type": "markdown",
   "metadata": {},
   "source": [
    "# Historigram for kills "
   ]
  },
  {
   "cell_type": "code",
   "execution_count": 28,
   "metadata": {},
   "outputs": [
    {
     "data": {
      "image/png": "[encoded data removed]",
      "text/plain": [
       "<Figure size 640x480 with 1 Axes>"
      ]
     },
     "metadata": {},
     "output_type": "display_data"
    }
   ],
   "source": [
    "\n",
    "\n",
    "plt.hist(df[\"kills\"], bins=15, color='green', edgecolor='black')\n",
    "\n",
    "plt.title(\"finding the average kills\")\n",
    "plt.plot()\n",
    "plt.show()"
   ]
  },
  {
   "cell_type": "code",
   "execution_count": 29,
   "metadata": {},
   "outputs": [
    {
     "name": "stdout",
     "output_type": "stream",
     "text": [
      "The average kills for everyone is:  45\n"
     ]
    }
   ],
   "source": [
    "avg_kills_everyone = df[\"kills\"].mean()\n",
    "print(\"The average kills for everyone is: \", round(avg_kills_everyone))"
   ]
  },
  {
   "cell_type": "markdown",
   "metadata": {},
   "source": [
    "# There top 5 kills each person"
   ]
  },
  {
   "cell_type": "code",
   "execution_count": 30,
   "metadata": {},
   "outputs": [
    {
     "name": "stdout",
     "output_type": "stream",
     "text": [
      "nan\n"
     ]
    },
    {
     "ename": "IndexError",
     "evalue": "single positional indexer is out-of-bounds",
     "output_type": "error",
     "traceback": [
      "\u001b[1;31m---------------------------------------------------------------------------\u001b[0m",
      "\u001b[1;31mIndexError\u001b[0m                                Traceback (most recent call last)",
      "Cell \u001b[1;32mIn[30], line 11\u001b[0m\n\u001b[0;32m      5\u001b[0m number_sort \u001b[38;5;241m=\u001b[39m find_avg[\u001b[38;5;124m\"\u001b[39m\u001b[38;5;124mkills\u001b[39m\u001b[38;5;124m\"\u001b[39m]\u001b[38;5;241m.\u001b[39msort_values(ascending\u001b[38;5;241m=\u001b[39m\u001b[38;5;28;01mFalse\u001b[39;00m)\n\u001b[0;32m      7\u001b[0m plt\u001b[38;5;241m.\u001b[39mbar(find_avg\u001b[38;5;241m.\u001b[39msort_values(ascending\u001b[38;5;241m=\u001b[39m\u001b[38;5;28;01mFalse\u001b[39;00m, by\u001b[38;5;241m=\u001b[39m\u001b[38;5;124m\"\u001b[39m\u001b[38;5;124mkills\u001b[39m\u001b[38;5;124m\"\u001b[39m)[\u001b[38;5;124m\"\u001b[39m\u001b[38;5;124mdate\u001b[39m\u001b[38;5;124m\"\u001b[39m], find_avg[\u001b[38;5;124m\"\u001b[39m\u001b[38;5;124mkills\u001b[39m\u001b[38;5;124m\"\u001b[39m]\u001b[38;5;241m.\u001b[39msort_values(ascending\u001b[38;5;241m=\u001b[39m\u001b[38;5;28;01mFalse\u001b[39;00m), color\u001b[38;5;241m=\u001b[39m\u001b[38;5;124m'\u001b[39m\u001b[38;5;124mblack\u001b[39m\u001b[38;5;124m'\u001b[39m)\n\u001b[1;32m---> 11\u001b[0m plt\u001b[38;5;241m.\u001b[39mtitle(\u001b[38;5;124mf\u001b[39m\u001b[38;5;124m\"\u001b[39m\u001b[38;5;124mKills by Date by \u001b[39m\u001b[38;5;132;01m{\u001b[39;00m\u001b[43mfind_avg\u001b[49m\u001b[43m[\u001b[49m\u001b[38;5;124;43m'\u001b[39;49m\u001b[38;5;124;43mname\u001b[39;49m\u001b[38;5;124;43m'\u001b[39;49m\u001b[43m]\u001b[49m\u001b[38;5;241;43m.\u001b[39;49m\u001b[43miloc\u001b[49m\u001b[43m[\u001b[49m\u001b[38;5;241;43m0\u001b[39;49m\u001b[43m]\u001b[49m\u001b[38;5;132;01m}\u001b[39;00m\u001b[38;5;124m\"\u001b[39m)\n\u001b[0;32m     12\u001b[0m plt\u001b[38;5;241m.\u001b[39mxticks(rotation\u001b[38;5;241m=\u001b[39m\u001b[38;5;241m90\u001b[39m)\n\u001b[0;32m     13\u001b[0m plt\u001b[38;5;241m.\u001b[39mxlabel(\u001b[38;5;124m\"\u001b[39m\u001b[38;5;124mDate\u001b[39m\u001b[38;5;124m\"\u001b[39m)\n",
      "File \u001b[1;32m~\\AppData\\Local\\Packages\\PythonSoftwareFoundation.Python.3.11_qbz5n2kfra8p0\\LocalCache\\local-packages\\Python311\\site-packages\\pandas\\core\\indexing.py:1191\u001b[0m, in \u001b[0;36m_LocationIndexer.__getitem__\u001b[1;34m(self, key)\u001b[0m\n\u001b[0;32m   1189\u001b[0m maybe_callable \u001b[38;5;241m=\u001b[39m com\u001b[38;5;241m.\u001b[39mapply_if_callable(key, \u001b[38;5;28mself\u001b[39m\u001b[38;5;241m.\u001b[39mobj)\n\u001b[0;32m   1190\u001b[0m maybe_callable \u001b[38;5;241m=\u001b[39m \u001b[38;5;28mself\u001b[39m\u001b[38;5;241m.\u001b[39m_check_deprecated_callable_usage(key, maybe_callable)\n\u001b[1;32m-> 1191\u001b[0m \u001b[38;5;28;01mreturn\u001b[39;00m \u001b[38;5;28;43mself\u001b[39;49m\u001b[38;5;241;43m.\u001b[39;49m\u001b[43m_getitem_axis\u001b[49m\u001b[43m(\u001b[49m\u001b[43mmaybe_callable\u001b[49m\u001b[43m,\u001b[49m\u001b[43m \u001b[49m\u001b[43maxis\u001b[49m\u001b[38;5;241;43m=\u001b[39;49m\u001b[43maxis\u001b[49m\u001b[43m)\u001b[49m\n",
      "File \u001b[1;32m~\\AppData\\Local\\Packages\\PythonSoftwareFoundation.Python.3.11_qbz5n2kfra8p0\\LocalCache\\local-packages\\Python311\\site-packages\\pandas\\core\\indexing.py:1752\u001b[0m, in \u001b[0;36m_iLocIndexer._getitem_axis\u001b[1;34m(self, key, axis)\u001b[0m\n\u001b[0;32m   1749\u001b[0m     \u001b[38;5;28;01mraise\u001b[39;00m \u001b[38;5;167;01mTypeError\u001b[39;00m(\u001b[38;5;124m\"\u001b[39m\u001b[38;5;124mCannot index by location index with a non-integer key\u001b[39m\u001b[38;5;124m\"\u001b[39m)\n\u001b[0;32m   1751\u001b[0m \u001b[38;5;66;03m# validate the location\u001b[39;00m\n\u001b[1;32m-> 1752\u001b[0m \u001b[38;5;28;43mself\u001b[39;49m\u001b[38;5;241;43m.\u001b[39;49m\u001b[43m_validate_integer\u001b[49m\u001b[43m(\u001b[49m\u001b[43mkey\u001b[49m\u001b[43m,\u001b[49m\u001b[43m \u001b[49m\u001b[43maxis\u001b[49m\u001b[43m)\u001b[49m\n\u001b[0;32m   1754\u001b[0m \u001b[38;5;28;01mreturn\u001b[39;00m \u001b[38;5;28mself\u001b[39m\u001b[38;5;241m.\u001b[39mobj\u001b[38;5;241m.\u001b[39m_ixs(key, axis\u001b[38;5;241m=\u001b[39maxis)\n",
      "File \u001b[1;32m~\\AppData\\Local\\Packages\\PythonSoftwareFoundation.Python.3.11_qbz5n2kfra8p0\\LocalCache\\local-packages\\Python311\\site-packages\\pandas\\core\\indexing.py:1685\u001b[0m, in \u001b[0;36m_iLocIndexer._validate_integer\u001b[1;34m(self, key, axis)\u001b[0m\n\u001b[0;32m   1683\u001b[0m len_axis \u001b[38;5;241m=\u001b[39m \u001b[38;5;28mlen\u001b[39m(\u001b[38;5;28mself\u001b[39m\u001b[38;5;241m.\u001b[39mobj\u001b[38;5;241m.\u001b[39m_get_axis(axis))\n\u001b[0;32m   1684\u001b[0m \u001b[38;5;28;01mif\u001b[39;00m key \u001b[38;5;241m>\u001b[39m\u001b[38;5;241m=\u001b[39m len_axis \u001b[38;5;129;01mor\u001b[39;00m key \u001b[38;5;241m<\u001b[39m \u001b[38;5;241m-\u001b[39mlen_axis:\n\u001b[1;32m-> 1685\u001b[0m     \u001b[38;5;28;01mraise\u001b[39;00m \u001b[38;5;167;01mIndexError\u001b[39;00m(\u001b[38;5;124m\"\u001b[39m\u001b[38;5;124msingle positional indexer is out-of-bounds\u001b[39m\u001b[38;5;124m\"\u001b[39m)\n",
      "\u001b[1;31mIndexError\u001b[0m: single positional indexer is out-of-bounds"
     ]
    },
    {
     "data": {
      "image/png": "[encoded data removed]",
      "text/plain": [
       "<Figure size 640x480 with 1 Axes>"
      ]
     },
     "metadata": {},
     "output_type": "display_data"
    }
   ],
   "source": [
    "find_avg = df[df[\"name\"] == \"jellyy112345\"]\n",
    "#you can put anyname \n",
    "print(find_avg[\"kills\"].mean())\n",
    "\n",
    "number_sort = find_avg[\"kills\"].sort_values(ascending=False)\n",
    "\n",
    "plt.bar(find_avg.sort_values(ascending=False, by=\"kills\")[\"date\"], find_avg[\"kills\"].sort_values(ascending=False), color='black')\n",
    "\n",
    "\n",
    "        \n",
    "plt.title(f\"Kills by Date by {find_avg['name'].iloc[0]}\")\n",
    "plt.xticks(rotation=90)\n",
    "plt.xlabel(\"Date\")\n",
    "plt.ylabel(\"Kills\")\n",
    "plt.show()"
   ]
  },
  {
   "cell_type": "code",
   "execution_count": null,
   "metadata": {},
   "outputs": [
    {
     "data": {
      "application/vnd.microsoft.datawrangler.viewer.v0+json": {
       "columns": [
        {
         "name": "index",
         "rawType": "int64",
         "type": "integer"
        },
        {
         "name": "name",
         "rawType": "object",
         "type": "string"
        },
        {
         "name": "kills",
         "rawType": "int64",
         "type": "integer"
        },
        {
         "name": "date",
         "rawType": "object",
         "type": "string"
        }
       ],
       "conversionMethod": "pd.DataFrame",
       "ref": "e315d032-ff97-416a-b976-34d0b93e1688",
       "rows": [
        [
         "13",
         "jellyy112345",
         "35",
         "20205-02-16"
        ],
        [
         "38",
         "jellyy112345",
         "55",
         "2025-02-15"
        ],
        [
         "84",
         "jellyy112345",
         "48",
         "2025-02-14"
        ]
       ],
       "shape": {
        "columns": 3,
        "rows": 3
       }
      },
      "text/html": [
       "<div>\n",
       "<style scoped>\n",
       "    .dataframe tbody tr th:only-of-type {\n",
       "        vertical-align: middle;\n",
       "    }\n",
       "\n",
       "    .dataframe tbody tr th {\n",
       "        vertical-align: top;\n",
       "    }\n",
       "\n",
       "    .dataframe thead th {\n",
       "        text-align: right;\n",
       "    }\n",
       "</style>\n",
       "<table border=\"1\" class=\"dataframe\">\n",
       "  <thead>\n",
       "    <tr style=\"text-align: right;\">\n",
       "      <th></th>\n",
       "      <th>name</th>\n",
       "      <th>kills</th>\n",
       "      <th>date</th>\n",
       "    </tr>\n",
       "  </thead>\n",
       "  <tbody>\n",
       "    <tr>\n",
       "      <th>13</th>\n",
       "      <td>jellyy112345</td>\n",
       "      <td>35</td>\n",
       "      <td>20205-02-16</td>\n",
       "    </tr>\n",
       "    <tr>\n",
       "      <th>38</th>\n",
       "      <td>jellyy112345</td>\n",
       "      <td>55</td>\n",
       "      <td>2025-02-15</td>\n",
       "    </tr>\n",
       "    <tr>\n",
       "      <th>84</th>\n",
       "      <td>jellyy112345</td>\n",
       "      <td>48</td>\n",
       "      <td>2025-02-14</td>\n",
       "    </tr>\n",
       "  </tbody>\n",
       "</table>\n",
       "</div>"
      ],
      "text/plain": [
       "            name  kills         date\n",
       "13  jellyy112345     35  20205-02-16\n",
       "38  jellyy112345     55   2025-02-15\n",
       "84  jellyy112345     48   2025-02-14"
      ]
     },
     "execution_count": 44,
     "metadata": {},
     "output_type": "execute_result"
    }
   ],
   "source": [
    "df[df[\"name\"] == \"jellyy112345\"]"
   ]
  },
  {
   "cell_type": "markdown",
   "metadata": {},
   "source": [
    "# everyone avg"
   ]
  },
  {
   "cell_type": "code",
   "execution_count": null,
   "metadata": {},
   "outputs": [
    {
     "name": "stdout",
     "output_type": "stream",
     "text": [
      "SeaV1per1224 have avg 68 kills\n",
      "pancake_w1 have avg 33 kills\n",
      "Kangcheon24 have avg 58 kills\n",
      "spikey_001 have avg 38 kills\n",
      "chickenkampong have avg 48 kills\n",
      "anathaliakdc have avg 31 kills\n",
      "Indonesia_ofMalaysia have avg 46 kills\n",
      "nickthegodrider1289 have avg 50 kills\n",
      "Dawnftb have avg 30 kills\n",
      "Mitsubira_Aratoshi have avg 72 kills\n",
      "jgwen19 have avg 63 kills\n",
      "SireHalo have avg 48 kills\n",
      "ConesOdebrecht have avg 77 kills\n",
      "jellyy112345 have avg 46 kills\n",
      "jesterproandnoob have avg 35 kills\n",
      "eiltene123 have avg 43 kills\n",
      "mrflipsflapz have avg 53 kills\n",
      "HarArkhichen have avg 51 kills\n",
      "jiajun129 have avg 39 kills\n",
      "diwdwoa have avg 72 kills\n",
      "GGXDArusha have avg 42 kills\n",
      "KusakabeMisaoMyWaifu have avg 43 kills\n",
      "Oscarchoyzy24 have avg 58 kills\n",
      "FrailBailen have avg 49 kills\n",
      "polkomgyy44 have avg 53 kills\n",
      "Kazuyuki_Owen have avg 58 kills\n",
      "studio_JD have avg 24 kills\n",
      "Xernicus have avg 50 kills\n",
      "PixelMangos have avg 32 kills\n",
      "zoommine0423 have avg 48 kills\n",
      "TonnelTonkla have avg 4 kills\n",
      "100gnoo have avg 29 kills\n",
      "chanmeme1 have avg 47 kills\n",
      "5xmars have avg 78 kills\n",
      "Luqman_indo have avg 23 kills\n",
      "TomMiaorblx have avg 33 kills\n",
      "polskathebestkraj have avg 62 kills\n",
      "cn191981 have avg 28 kills\n",
      "ckpoa20 have avg 30 kills\n",
      "pensmen have avg 46 kills\n",
      "jamesplayztv1 have avg 42 kills\n",
      "Gariksz have avg 61 kills\n",
      "HoundVonSurrey have avg 50 kills\n",
      "ViktorInvicta have avg 65 kills\n",
      "SupremeDom5162 have avg 30 kills\n",
      "Proxy_x5 have avg 44 kills\n",
      "CommanderHikari have avg 41 kills\n",
      "MrDerps124 have avg 68 kills\n",
      "MarioUlici200702 have avg 66 kills\n",
      "kf21rotc2 have avg 12 kills\n",
      "kylemanike have avg 39 kills\n",
      "commander_cookie1234 have avg 37 kills\n",
      "kite_167 have avg 38 kills\n",
      "CIAUSA2 have avg 22 kills\n",
      "plm922sown have avg 40 kills\n",
      "Croezg have avg 36 kills\n",
      "MarionnJames2307 have avg 43 kills\n",
      "Madgaming2010 have avg 0 kills\n",
      "AERBUTE1 have avg 45 kills\n",
      "potatoringsninja4 have avg 60 kills\n",
      "jayneeddollar have avg 59 kills\n",
      "Sumardisam have avg 61 kills\n",
      "bigshockwave99 have avg 57 kills\n",
      "OblivionSectis have avg 97 kills\n",
      "masterjanjan19 have avg 35 kills\n",
      "intxerunit have avg 41 kills\n",
      "ideacentre have avg 52 kills\n",
      "Sunfull1 have avg 26 kills\n",
      "dyj2233 have avg 9 kills\n",
      "gst44444 have avg 15 kills\n",
      "zZRabbitsZz have avg 30 kills\n",
      "Alekspheus have avg 39 kills\n",
      "KisarakiTH have avg 46 kills\n"
     ]
    }
   ],
   "source": [
    "names = df[\"name\"].unique()\n",
    "for i in names:\n",
    "    find_avg_everyone = df[df[\"name\"] == i]\n",
    "    print(f\"{i} have avg {round(find_avg_everyone['kills'].mean())} kills\")\n",
    "    "
   ]
  },
  {
   "cell_type": "markdown",
   "metadata": {},
   "source": [
    "# check the second csv btw this is for this week\n",
    "we read the data"
   ]
  },
  {
   "cell_type": "code",
   "execution_count": null,
   "metadata": {},
   "outputs": [],
   "source": [
    "df2 = pd.read_csv('avg.csv')"
   ]
  },
  {
   "cell_type": "code",
   "execution_count": null,
   "metadata": {},
   "outputs": [
    {
     "data": {
      "application/vnd.microsoft.datawrangler.viewer.v0+json": {
       "columns": [
        {
         "name": "index",
         "rawType": "int64",
         "type": "integer"
        },
        {
         "name": "name",
         "rawType": "object",
         "type": "string"
        },
        {
         "name": "avg",
         "rawType": "int64",
         "type": "integer"
        }
       ],
       "conversionMethod": "pd.DataFrame",
       "ref": "a04dcbaa-8f0a-49d7-8660-188c84643b7d",
       "rows": [
        [
         "0",
         "SeaV1per1224",
         "68"
        ],
        [
         "1",
         "pancake_w1",
         "33"
        ],
        [
         "2",
         "Kangcheon24",
         "58"
        ],
        [
         "3",
         "spikey_001",
         "38"
        ],
        [
         "4",
         "chickenkampong",
         "48"
        ],
        [
         "5",
         "anathaliakdc",
         "31"
        ],
        [
         "6",
         "Indonesia_ofMalaysia",
         "46"
        ],
        [
         "7",
         "nickthegodrider1289",
         "50"
        ],
        [
         "8",
         "Dawnftb",
         "30"
        ],
        [
         "9",
         "Mitsubira_Aratoshi",
         "72"
        ],
        [
         "10",
         "jgwen19",
         "63"
        ],
        [
         "11",
         "SireHalo",
         "48"
        ],
        [
         "12",
         "ConesOdebrecht",
         "77"
        ],
        [
         "13",
         "jellyy112345",
         "46"
        ],
        [
         "14",
         "jesterproandnoob",
         "35"
        ],
        [
         "15",
         "eiltene123",
         "43"
        ],
        [
         "16",
         "mrflipsflapz",
         "53"
        ],
        [
         "17",
         "HarArkhichen",
         "51"
        ],
        [
         "18",
         "jiajun129",
         "39"
        ],
        [
         "19",
         "diwdwoa",
         "72"
        ],
        [
         "20",
         "GGXDArusha",
         "42"
        ],
        [
         "21",
         "KusakabeMisaoMyWaifu",
         "43"
        ],
        [
         "22",
         "Oscarchoyzy24",
         "58"
        ],
        [
         "23",
         "FrailBailen",
         "49"
        ],
        [
         "24",
         "polkomgyy44",
         "53"
        ],
        [
         "25",
         "Kazuyuki_Owen",
         "58"
        ],
        [
         "26",
         "studio_JD",
         "24"
        ],
        [
         "27",
         "Xernicus",
         "50"
        ],
        [
         "28",
         "PixelMangos",
         "32"
        ],
        [
         "29",
         "zoommine0423",
         "48"
        ],
        [
         "30",
         "TonnelTonkla",
         "4"
        ],
        [
         "31",
         "100gnoo",
         "29"
        ],
        [
         "32",
         "chanmeme1",
         "47"
        ],
        [
         "33",
         "5xmars",
         "78"
        ],
        [
         "34",
         "Luqman_indo",
         "23"
        ],
        [
         "35",
         "TomMiaorblx",
         "33"
        ],
        [
         "36",
         "polskathebestkraj",
         "62"
        ],
        [
         "37",
         "cn191981",
         "28"
        ],
        [
         "38",
         "ckpoa20",
         "30"
        ],
        [
         "39",
         "pensmen",
         "46"
        ],
        [
         "40",
         "jamesplayztv1",
         "42"
        ],
        [
         "41",
         "Gariksz",
         "61"
        ],
        [
         "42",
         "HoundVonSurrey",
         "50"
        ],
        [
         "43",
         "ViktorInvicta",
         "65"
        ],
        [
         "44",
         "SupremeDom5162",
         "30"
        ],
        [
         "45",
         "Proxy_x5",
         "44"
        ],
        [
         "46",
         "CommanderHikari",
         "41"
        ],
        [
         "47",
         "MrDerps124",
         "68"
        ],
        [
         "48",
         "MarioUlici200702",
         "66"
        ],
        [
         "49",
         "kf21rotc2",
         "12"
        ]
       ],
       "shape": {
        "columns": 2,
        "rows": 73
       }
      },
      "text/html": [
       "<div>\n",
       "<style scoped>\n",
       "    .dataframe tbody tr th:only-of-type {\n",
       "        vertical-align: middle;\n",
       "    }\n",
       "\n",
       "    .dataframe tbody tr th {\n",
       "        vertical-align: top;\n",
       "    }\n",
       "\n",
       "    .dataframe thead th {\n",
       "        text-align: right;\n",
       "    }\n",
       "</style>\n",
       "<table border=\"1\" class=\"dataframe\">\n",
       "  <thead>\n",
       "    <tr style=\"text-align: right;\">\n",
       "      <th></th>\n",
       "      <th>name</th>\n",
       "      <th>avg</th>\n",
       "    </tr>\n",
       "  </thead>\n",
       "  <tbody>\n",
       "    <tr>\n",
       "      <th>0</th>\n",
       "      <td>SeaV1per1224</td>\n",
       "      <td>68</td>\n",
       "    </tr>\n",
       "    <tr>\n",
       "      <th>1</th>\n",
       "      <td>pancake_w1</td>\n",
       "      <td>33</td>\n",
       "    </tr>\n",
       "    <tr>\n",
       "      <th>2</th>\n",
       "      <td>Kangcheon24</td>\n",
       "      <td>58</td>\n",
       "    </tr>\n",
       "    <tr>\n",
       "      <th>3</th>\n",
       "      <td>spikey_001</td>\n",
       "      <td>38</td>\n",
       "    </tr>\n",
       "    <tr>\n",
       "      <th>4</th>\n",
       "      <td>chickenkampong</td>\n",
       "      <td>48</td>\n",
       "    </tr>\n",
       "    <tr>\n",
       "      <th>...</th>\n",
       "      <td>...</td>\n",
       "      <td>...</td>\n",
       "    </tr>\n",
       "    <tr>\n",
       "      <th>68</th>\n",
       "      <td>dyj2233</td>\n",
       "      <td>9</td>\n",
       "    </tr>\n",
       "    <tr>\n",
       "      <th>69</th>\n",
       "      <td>gst44444</td>\n",
       "      <td>15</td>\n",
       "    </tr>\n",
       "    <tr>\n",
       "      <th>70</th>\n",
       "      <td>zZRabbitsZz</td>\n",
       "      <td>30</td>\n",
       "    </tr>\n",
       "    <tr>\n",
       "      <th>71</th>\n",
       "      <td>Alekspheus</td>\n",
       "      <td>39</td>\n",
       "    </tr>\n",
       "    <tr>\n",
       "      <th>72</th>\n",
       "      <td>KisarakiTH</td>\n",
       "      <td>46</td>\n",
       "    </tr>\n",
       "  </tbody>\n",
       "</table>\n",
       "<p>73 rows × 2 columns</p>\n",
       "</div>"
      ],
      "text/plain": [
       "              name  avg\n",
       "0     SeaV1per1224   68\n",
       "1       pancake_w1   33\n",
       "2      Kangcheon24   58\n",
       "3       spikey_001   38\n",
       "4   chickenkampong   48\n",
       "..             ...  ...\n",
       "68         dyj2233    9\n",
       "69        gst44444   15\n",
       "70     zZRabbitsZz   30\n",
       "71      Alekspheus   39\n",
       "72      KisarakiTH   46\n",
       "\n",
       "[73 rows x 2 columns]"
      ]
     },
     "execution_count": 47,
     "metadata": {},
     "output_type": "execute_result"
    }
   ],
   "source": [
    "df2"
   ]
  },
  {
   "cell_type": "markdown",
   "metadata": {},
   "source": [
    "# Top avg"
   ]
  },
  {
   "cell_type": "code",
   "execution_count": null,
   "metadata": {},
   "outputs": [
    {
     "data": {
      "application/vnd.microsoft.datawrangler.viewer.v0+json": {
       "columns": [
        {
         "name": "index",
         "rawType": "int64",
         "type": "integer"
        },
        {
         "name": "name",
         "rawType": "object",
         "type": "string"
        },
        {
         "name": "avg",
         "rawType": "int64",
         "type": "integer"
        }
       ],
       "conversionMethod": "pd.DataFrame",
       "ref": "f96e68dc-fbbd-4e93-ac5a-48a754d106aa",
       "rows": [
        [
         "63",
         "OblivionSectis",
         "97"
        ],
        [
         "33",
         "5xmars",
         "78"
        ],
        [
         "12",
         "ConesOdebrecht",
         "77"
        ],
        [
         "19",
         "diwdwoa",
         "72"
        ],
        [
         "9",
         "Mitsubira_Aratoshi",
         "72"
        ],
        [
         "47",
         "MrDerps124",
         "68"
        ],
        [
         "0",
         "SeaV1per1224",
         "68"
        ],
        [
         "48",
         "MarioUlici200702",
         "66"
        ],
        [
         "43",
         "ViktorInvicta",
         "65"
        ],
        [
         "10",
         "jgwen19",
         "63"
        ],
        [
         "36",
         "polskathebestkraj",
         "62"
        ],
        [
         "41",
         "Gariksz",
         "61"
        ],
        [
         "61",
         "Sumardisam",
         "61"
        ],
        [
         "59",
         "potatoringsninja4",
         "60"
        ],
        [
         "60",
         "jayneeddollar",
         "59"
        ],
        [
         "22",
         "Oscarchoyzy24",
         "58"
        ],
        [
         "2",
         "Kangcheon24",
         "58"
        ],
        [
         "25",
         "Kazuyuki_Owen",
         "58"
        ],
        [
         "62",
         "bigshockwave99",
         "57"
        ],
        [
         "24",
         "polkomgyy44",
         "53"
        ],
        [
         "16",
         "mrflipsflapz",
         "53"
        ],
        [
         "66",
         "ideacentre",
         "52"
        ],
        [
         "17",
         "HarArkhichen",
         "51"
        ],
        [
         "7",
         "nickthegodrider1289",
         "50"
        ],
        [
         "42",
         "HoundVonSurrey",
         "50"
        ],
        [
         "27",
         "Xernicus",
         "50"
        ],
        [
         "23",
         "FrailBailen",
         "49"
        ],
        [
         "29",
         "zoommine0423",
         "48"
        ],
        [
         "11",
         "SireHalo",
         "48"
        ],
        [
         "4",
         "chickenkampong",
         "48"
        ],
        [
         "32",
         "chanmeme1",
         "47"
        ],
        [
         "6",
         "Indonesia_ofMalaysia",
         "46"
        ],
        [
         "39",
         "pensmen",
         "46"
        ],
        [
         "72",
         "KisarakiTH",
         "46"
        ],
        [
         "13",
         "jellyy112345",
         "46"
        ],
        [
         "58",
         "AERBUTE1",
         "45"
        ],
        [
         "45",
         "Proxy_x5",
         "44"
        ],
        [
         "21",
         "KusakabeMisaoMyWaifu",
         "43"
        ],
        [
         "15",
         "eiltene123",
         "43"
        ],
        [
         "56",
         "MarionnJames2307",
         "43"
        ],
        [
         "20",
         "GGXDArusha",
         "42"
        ],
        [
         "40",
         "jamesplayztv1",
         "42"
        ],
        [
         "46",
         "CommanderHikari",
         "41"
        ],
        [
         "65",
         "intxerunit",
         "41"
        ],
        [
         "54",
         "plm922sown",
         "40"
        ],
        [
         "50",
         "kylemanike",
         "39"
        ],
        [
         "18",
         "jiajun129",
         "39"
        ],
        [
         "71",
         "Alekspheus",
         "39"
        ],
        [
         "3",
         "spikey_001",
         "38"
        ],
        [
         "52",
         "kite_167",
         "38"
        ]
       ],
       "shape": {
        "columns": 2,
        "rows": 73
       }
      },
      "text/html": [
       "<div>\n",
       "<style scoped>\n",
       "    .dataframe tbody tr th:only-of-type {\n",
       "        vertical-align: middle;\n",
       "    }\n",
       "\n",
       "    .dataframe tbody tr th {\n",
       "        vertical-align: top;\n",
       "    }\n",
       "\n",
       "    .dataframe thead th {\n",
       "        text-align: right;\n",
       "    }\n",
       "</style>\n",
       "<table border=\"1\" class=\"dataframe\">\n",
       "  <thead>\n",
       "    <tr style=\"text-align: right;\">\n",
       "      <th></th>\n",
       "      <th>name</th>\n",
       "      <th>avg</th>\n",
       "    </tr>\n",
       "  </thead>\n",
       "  <tbody>\n",
       "    <tr>\n",
       "      <th>63</th>\n",
       "      <td>OblivionSectis</td>\n",
       "      <td>97</td>\n",
       "    </tr>\n",
       "    <tr>\n",
       "      <th>33</th>\n",
       "      <td>5xmars</td>\n",
       "      <td>78</td>\n",
       "    </tr>\n",
       "    <tr>\n",
       "      <th>12</th>\n",
       "      <td>ConesOdebrecht</td>\n",
       "      <td>77</td>\n",
       "    </tr>\n",
       "    <tr>\n",
       "      <th>19</th>\n",
       "      <td>diwdwoa</td>\n",
       "      <td>72</td>\n",
       "    </tr>\n",
       "    <tr>\n",
       "      <th>9</th>\n",
       "      <td>Mitsubira_Aratoshi</td>\n",
       "      <td>72</td>\n",
       "    </tr>\n",
       "    <tr>\n",
       "      <th>...</th>\n",
       "      <td>...</td>\n",
       "      <td>...</td>\n",
       "    </tr>\n",
       "    <tr>\n",
       "      <th>69</th>\n",
       "      <td>gst44444</td>\n",
       "      <td>15</td>\n",
       "    </tr>\n",
       "    <tr>\n",
       "      <th>49</th>\n",
       "      <td>kf21rotc2</td>\n",
       "      <td>12</td>\n",
       "    </tr>\n",
       "    <tr>\n",
       "      <th>68</th>\n",
       "      <td>dyj2233</td>\n",
       "      <td>9</td>\n",
       "    </tr>\n",
       "    <tr>\n",
       "      <th>30</th>\n",
       "      <td>TonnelTonkla</td>\n",
       "      <td>4</td>\n",
       "    </tr>\n",
       "    <tr>\n",
       "      <th>57</th>\n",
       "      <td>Madgaming2010</td>\n",
       "      <td>0</td>\n",
       "    </tr>\n",
       "  </tbody>\n",
       "</table>\n",
       "<p>73 rows × 2 columns</p>\n",
       "</div>"
      ],
      "text/plain": [
       "                  name  avg\n",
       "63      OblivionSectis   97\n",
       "33              5xmars   78\n",
       "12      ConesOdebrecht   77\n",
       "19             diwdwoa   72\n",
       "9   Mitsubira_Aratoshi   72\n",
       "..                 ...  ...\n",
       "69            gst44444   15\n",
       "49           kf21rotc2   12\n",
       "68             dyj2233    9\n",
       "30        TonnelTonkla    4\n",
       "57       Madgaming2010    0\n",
       "\n",
       "[73 rows x 2 columns]"
      ]
     },
     "execution_count": 48,
     "metadata": {},
     "output_type": "execute_result"
    }
   ],
   "source": [
    "df2.sort_values(by=\"avg\", ascending=False)"
   ]
  },
  {
   "cell_type": "markdown",
   "metadata": {},
   "source": [
    "# more or = 45"
   ]
  },
  {
   "cell_type": "code",
   "execution_count": null,
   "metadata": {},
   "outputs": [
    {
     "data": {
      "application/vnd.microsoft.datawrangler.viewer.v0+json": {
       "columns": [
        {
         "name": "index",
         "rawType": "int64",
         "type": "integer"
        },
        {
         "name": "name",
         "rawType": "object",
         "type": "string"
        },
        {
         "name": "avg",
         "rawType": "int64",
         "type": "integer"
        }
       ],
       "conversionMethod": "pd.DataFrame",
       "ref": "e37288b0-dcc5-4587-a9bf-b1c5a572e838",
       "rows": [
        [
         "0",
         "SeaV1per1224",
         "68"
        ],
        [
         "2",
         "Kangcheon24",
         "58"
        ],
        [
         "4",
         "chickenkampong",
         "48"
        ],
        [
         "6",
         "Indonesia_ofMalaysia",
         "46"
        ],
        [
         "7",
         "nickthegodrider1289",
         "50"
        ],
        [
         "9",
         "Mitsubira_Aratoshi",
         "72"
        ],
        [
         "10",
         "jgwen19",
         "63"
        ],
        [
         "11",
         "SireHalo",
         "48"
        ],
        [
         "12",
         "ConesOdebrecht",
         "77"
        ],
        [
         "13",
         "jellyy112345",
         "46"
        ],
        [
         "16",
         "mrflipsflapz",
         "53"
        ],
        [
         "17",
         "HarArkhichen",
         "51"
        ],
        [
         "19",
         "diwdwoa",
         "72"
        ],
        [
         "22",
         "Oscarchoyzy24",
         "58"
        ],
        [
         "23",
         "FrailBailen",
         "49"
        ],
        [
         "24",
         "polkomgyy44",
         "53"
        ],
        [
         "25",
         "Kazuyuki_Owen",
         "58"
        ],
        [
         "27",
         "Xernicus",
         "50"
        ],
        [
         "29",
         "zoommine0423",
         "48"
        ],
        [
         "32",
         "chanmeme1",
         "47"
        ],
        [
         "33",
         "5xmars",
         "78"
        ],
        [
         "36",
         "polskathebestkraj",
         "62"
        ],
        [
         "39",
         "pensmen",
         "46"
        ],
        [
         "41",
         "Gariksz",
         "61"
        ],
        [
         "42",
         "HoundVonSurrey",
         "50"
        ],
        [
         "43",
         "ViktorInvicta",
         "65"
        ],
        [
         "47",
         "MrDerps124",
         "68"
        ],
        [
         "48",
         "MarioUlici200702",
         "66"
        ],
        [
         "58",
         "AERBUTE1",
         "45"
        ],
        [
         "59",
         "potatoringsninja4",
         "60"
        ],
        [
         "60",
         "jayneeddollar",
         "59"
        ],
        [
         "61",
         "Sumardisam",
         "61"
        ],
        [
         "62",
         "bigshockwave99",
         "57"
        ],
        [
         "63",
         "OblivionSectis",
         "97"
        ],
        [
         "66",
         "ideacentre",
         "52"
        ],
        [
         "72",
         "KisarakiTH",
         "46"
        ]
       ],
       "shape": {
        "columns": 2,
        "rows": 36
       }
      },
      "text/html": [
       "<div>\n",
       "<style scoped>\n",
       "    .dataframe tbody tr th:only-of-type {\n",
       "        vertical-align: middle;\n",
       "    }\n",
       "\n",
       "    .dataframe tbody tr th {\n",
       "        vertical-align: top;\n",
       "    }\n",
       "\n",
       "    .dataframe thead th {\n",
       "        text-align: right;\n",
       "    }\n",
       "</style>\n",
       "<table border=\"1\" class=\"dataframe\">\n",
       "  <thead>\n",
       "    <tr style=\"text-align: right;\">\n",
       "      <th></th>\n",
       "      <th>name</th>\n",
       "      <th>avg</th>\n",
       "    </tr>\n",
       "  </thead>\n",
       "  <tbody>\n",
       "    <tr>\n",
       "      <th>0</th>\n",
       "      <td>SeaV1per1224</td>\n",
       "      <td>68</td>\n",
       "    </tr>\n",
       "    <tr>\n",
       "      <th>2</th>\n",
       "      <td>Kangcheon24</td>\n",
       "      <td>58</td>\n",
       "    </tr>\n",
       "    <tr>\n",
       "      <th>4</th>\n",
       "      <td>chickenkampong</td>\n",
       "      <td>48</td>\n",
       "    </tr>\n",
       "    <tr>\n",
       "      <th>6</th>\n",
       "      <td>Indonesia_ofMalaysia</td>\n",
       "      <td>46</td>\n",
       "    </tr>\n",
       "    <tr>\n",
       "      <th>7</th>\n",
       "      <td>nickthegodrider1289</td>\n",
       "      <td>50</td>\n",
       "    </tr>\n",
       "    <tr>\n",
       "      <th>9</th>\n",
       "      <td>Mitsubira_Aratoshi</td>\n",
       "      <td>72</td>\n",
       "    </tr>\n",
       "    <tr>\n",
       "      <th>10</th>\n",
       "      <td>jgwen19</td>\n",
       "      <td>63</td>\n",
       "    </tr>\n",
       "    <tr>\n",
       "      <th>11</th>\n",
       "      <td>SireHalo</td>\n",
       "      <td>48</td>\n",
       "    </tr>\n",
       "    <tr>\n",
       "      <th>12</th>\n",
       "      <td>ConesOdebrecht</td>\n",
       "      <td>77</td>\n",
       "    </tr>\n",
       "    <tr>\n",
       "      <th>13</th>\n",
       "      <td>jellyy112345</td>\n",
       "      <td>46</td>\n",
       "    </tr>\n",
       "    <tr>\n",
       "      <th>16</th>\n",
       "      <td>mrflipsflapz</td>\n",
       "      <td>53</td>\n",
       "    </tr>\n",
       "    <tr>\n",
       "      <th>17</th>\n",
       "      <td>HarArkhichen</td>\n",
       "      <td>51</td>\n",
       "    </tr>\n",
       "    <tr>\n",
       "      <th>19</th>\n",
       "      <td>diwdwoa</td>\n",
       "      <td>72</td>\n",
       "    </tr>\n",
       "    <tr>\n",
       "      <th>22</th>\n",
       "      <td>Oscarchoyzy24</td>\n",
       "      <td>58</td>\n",
       "    </tr>\n",
       "    <tr>\n",
       "      <th>23</th>\n",
       "      <td>FrailBailen</td>\n",
       "      <td>49</td>\n",
       "    </tr>\n",
       "    <tr>\n",
       "      <th>24</th>\n",
       "      <td>polkomgyy44</td>\n",
       "      <td>53</td>\n",
       "    </tr>\n",
       "    <tr>\n",
       "      <th>25</th>\n",
       "      <td>Kazuyuki_Owen</td>\n",
       "      <td>58</td>\n",
       "    </tr>\n",
       "    <tr>\n",
       "      <th>27</th>\n",
       "      <td>Xernicus</td>\n",
       "      <td>50</td>\n",
       "    </tr>\n",
       "    <tr>\n",
       "      <th>29</th>\n",
       "      <td>zoommine0423</td>\n",
       "      <td>48</td>\n",
       "    </tr>\n",
       "    <tr>\n",
       "      <th>32</th>\n",
       "      <td>chanmeme1</td>\n",
       "      <td>47</td>\n",
       "    </tr>\n",
       "    <tr>\n",
       "      <th>33</th>\n",
       "      <td>5xmars</td>\n",
       "      <td>78</td>\n",
       "    </tr>\n",
       "    <tr>\n",
       "      <th>36</th>\n",
       "      <td>polskathebestkraj</td>\n",
       "      <td>62</td>\n",
       "    </tr>\n",
       "    <tr>\n",
       "      <th>39</th>\n",
       "      <td>pensmen</td>\n",
       "      <td>46</td>\n",
       "    </tr>\n",
       "    <tr>\n",
       "      <th>41</th>\n",
       "      <td>Gariksz</td>\n",
       "      <td>61</td>\n",
       "    </tr>\n",
       "    <tr>\n",
       "      <th>42</th>\n",
       "      <td>HoundVonSurrey</td>\n",
       "      <td>50</td>\n",
       "    </tr>\n",
       "    <tr>\n",
       "      <th>43</th>\n",
       "      <td>ViktorInvicta</td>\n",
       "      <td>65</td>\n",
       "    </tr>\n",
       "    <tr>\n",
       "      <th>47</th>\n",
       "      <td>MrDerps124</td>\n",
       "      <td>68</td>\n",
       "    </tr>\n",
       "    <tr>\n",
       "      <th>48</th>\n",
       "      <td>MarioUlici200702</td>\n",
       "      <td>66</td>\n",
       "    </tr>\n",
       "    <tr>\n",
       "      <th>58</th>\n",
       "      <td>AERBUTE1</td>\n",
       "      <td>45</td>\n",
       "    </tr>\n",
       "    <tr>\n",
       "      <th>59</th>\n",
       "      <td>potatoringsninja4</td>\n",
       "      <td>60</td>\n",
       "    </tr>\n",
       "    <tr>\n",
       "      <th>60</th>\n",
       "      <td>jayneeddollar</td>\n",
       "      <td>59</td>\n",
       "    </tr>\n",
       "    <tr>\n",
       "      <th>61</th>\n",
       "      <td>Sumardisam</td>\n",
       "      <td>61</td>\n",
       "    </tr>\n",
       "    <tr>\n",
       "      <th>62</th>\n",
       "      <td>bigshockwave99</td>\n",
       "      <td>57</td>\n",
       "    </tr>\n",
       "    <tr>\n",
       "      <th>63</th>\n",
       "      <td>OblivionSectis</td>\n",
       "      <td>97</td>\n",
       "    </tr>\n",
       "    <tr>\n",
       "      <th>66</th>\n",
       "      <td>ideacentre</td>\n",
       "      <td>52</td>\n",
       "    </tr>\n",
       "    <tr>\n",
       "      <th>72</th>\n",
       "      <td>KisarakiTH</td>\n",
       "      <td>46</td>\n",
       "    </tr>\n",
       "  </tbody>\n",
       "</table>\n",
       "</div>"
      ],
      "text/plain": [
       "                    name  avg\n",
       "0           SeaV1per1224   68\n",
       "2            Kangcheon24   58\n",
       "4         chickenkampong   48\n",
       "6   Indonesia_ofMalaysia   46\n",
       "7    nickthegodrider1289   50\n",
       "9     Mitsubira_Aratoshi   72\n",
       "10               jgwen19   63\n",
       "11              SireHalo   48\n",
       "12        ConesOdebrecht   77\n",
       "13          jellyy112345   46\n",
       "16          mrflipsflapz   53\n",
       "17          HarArkhichen   51\n",
       "19               diwdwoa   72\n",
       "22         Oscarchoyzy24   58\n",
       "23           FrailBailen   49\n",
       "24           polkomgyy44   53\n",
       "25         Kazuyuki_Owen   58\n",
       "27              Xernicus   50\n",
       "29          zoommine0423   48\n",
       "32             chanmeme1   47\n",
       "33                5xmars   78\n",
       "36     polskathebestkraj   62\n",
       "39               pensmen   46\n",
       "41               Gariksz   61\n",
       "42        HoundVonSurrey   50\n",
       "43         ViktorInvicta   65\n",
       "47            MrDerps124   68\n",
       "48      MarioUlici200702   66\n",
       "58              AERBUTE1   45\n",
       "59     potatoringsninja4   60\n",
       "60         jayneeddollar   59\n",
       "61            Sumardisam   61\n",
       "62        bigshockwave99   57\n",
       "63        OblivionSectis   97\n",
       "66            ideacentre   52\n",
       "72            KisarakiTH   46"
      ]
     },
     "execution_count": 49,
     "metadata": {},
     "output_type": "execute_result"
    }
   ],
   "source": [
    "df2[df2[\"avg\"] >= 45]"
   ]
  },
  {
   "cell_type": "markdown",
   "metadata": {},
   "source": [
    "# more than 55 or = 55"
   ]
  },
  {
   "cell_type": "code",
   "execution_count": null,
   "metadata": {},
   "outputs": [
    {
     "data": {
      "application/vnd.microsoft.datawrangler.viewer.v0+json": {
       "columns": [
        {
         "name": "index",
         "rawType": "int64",
         "type": "integer"
        },
        {
         "name": "name",
         "rawType": "object",
         "type": "string"
        },
        {
         "name": "avg",
         "rawType": "int64",
         "type": "integer"
        }
       ],
       "conversionMethod": "pd.DataFrame",
       "ref": "6d2bc6b6-754d-41d2-bbb3-739b463363bf",
       "rows": [
        [
         "0",
         "SeaV1per1224",
         "68"
        ],
        [
         "2",
         "Kangcheon24",
         "58"
        ],
        [
         "9",
         "Mitsubira_Aratoshi",
         "72"
        ],
        [
         "10",
         "jgwen19",
         "63"
        ],
        [
         "12",
         "ConesOdebrecht",
         "77"
        ],
        [
         "19",
         "diwdwoa",
         "72"
        ],
        [
         "22",
         "Oscarchoyzy24",
         "58"
        ],
        [
         "25",
         "Kazuyuki_Owen",
         "58"
        ],
        [
         "33",
         "5xmars",
         "78"
        ],
        [
         "36",
         "polskathebestkraj",
         "62"
        ],
        [
         "41",
         "Gariksz",
         "61"
        ],
        [
         "43",
         "ViktorInvicta",
         "65"
        ],
        [
         "47",
         "MrDerps124",
         "68"
        ],
        [
         "48",
         "MarioUlici200702",
         "66"
        ],
        [
         "59",
         "potatoringsninja4",
         "60"
        ],
        [
         "60",
         "jayneeddollar",
         "59"
        ],
        [
         "61",
         "Sumardisam",
         "61"
        ],
        [
         "62",
         "bigshockwave99",
         "57"
        ],
        [
         "63",
         "OblivionSectis",
         "97"
        ]
       ],
       "shape": {
        "columns": 2,
        "rows": 19
       }
      },
      "text/html": [
       "<div>\n",
       "<style scoped>\n",
       "    .dataframe tbody tr th:only-of-type {\n",
       "        vertical-align: middle;\n",
       "    }\n",
       "\n",
       "    .dataframe tbody tr th {\n",
       "        vertical-align: top;\n",
       "    }\n",
       "\n",
       "    .dataframe thead th {\n",
       "        text-align: right;\n",
       "    }\n",
       "</style>\n",
       "<table border=\"1\" class=\"dataframe\">\n",
       "  <thead>\n",
       "    <tr style=\"text-align: right;\">\n",
       "      <th></th>\n",
       "      <th>name</th>\n",
       "      <th>avg</th>\n",
       "    </tr>\n",
       "  </thead>\n",
       "  <tbody>\n",
       "    <tr>\n",
       "      <th>0</th>\n",
       "      <td>SeaV1per1224</td>\n",
       "      <td>68</td>\n",
       "    </tr>\n",
       "    <tr>\n",
       "      <th>2</th>\n",
       "      <td>Kangcheon24</td>\n",
       "      <td>58</td>\n",
       "    </tr>\n",
       "    <tr>\n",
       "      <th>9</th>\n",
       "      <td>Mitsubira_Aratoshi</td>\n",
       "      <td>72</td>\n",
       "    </tr>\n",
       "    <tr>\n",
       "      <th>10</th>\n",
       "      <td>jgwen19</td>\n",
       "      <td>63</td>\n",
       "    </tr>\n",
       "    <tr>\n",
       "      <th>12</th>\n",
       "      <td>ConesOdebrecht</td>\n",
       "      <td>77</td>\n",
       "    </tr>\n",
       "    <tr>\n",
       "      <th>19</th>\n",
       "      <td>diwdwoa</td>\n",
       "      <td>72</td>\n",
       "    </tr>\n",
       "    <tr>\n",
       "      <th>22</th>\n",
       "      <td>Oscarchoyzy24</td>\n",
       "      <td>58</td>\n",
       "    </tr>\n",
       "    <tr>\n",
       "      <th>25</th>\n",
       "      <td>Kazuyuki_Owen</td>\n",
       "      <td>58</td>\n",
       "    </tr>\n",
       "    <tr>\n",
       "      <th>33</th>\n",
       "      <td>5xmars</td>\n",
       "      <td>78</td>\n",
       "    </tr>\n",
       "    <tr>\n",
       "      <th>36</th>\n",
       "      <td>polskathebestkraj</td>\n",
       "      <td>62</td>\n",
       "    </tr>\n",
       "    <tr>\n",
       "      <th>41</th>\n",
       "      <td>Gariksz</td>\n",
       "      <td>61</td>\n",
       "    </tr>\n",
       "    <tr>\n",
       "      <th>43</th>\n",
       "      <td>ViktorInvicta</td>\n",
       "      <td>65</td>\n",
       "    </tr>\n",
       "    <tr>\n",
       "      <th>47</th>\n",
       "      <td>MrDerps124</td>\n",
       "      <td>68</td>\n",
       "    </tr>\n",
       "    <tr>\n",
       "      <th>48</th>\n",
       "      <td>MarioUlici200702</td>\n",
       "      <td>66</td>\n",
       "    </tr>\n",
       "    <tr>\n",
       "      <th>59</th>\n",
       "      <td>potatoringsninja4</td>\n",
       "      <td>60</td>\n",
       "    </tr>\n",
       "    <tr>\n",
       "      <th>60</th>\n",
       "      <td>jayneeddollar</td>\n",
       "      <td>59</td>\n",
       "    </tr>\n",
       "    <tr>\n",
       "      <th>61</th>\n",
       "      <td>Sumardisam</td>\n",
       "      <td>61</td>\n",
       "    </tr>\n",
       "    <tr>\n",
       "      <th>62</th>\n",
       "      <td>bigshockwave99</td>\n",
       "      <td>57</td>\n",
       "    </tr>\n",
       "    <tr>\n",
       "      <th>63</th>\n",
       "      <td>OblivionSectis</td>\n",
       "      <td>97</td>\n",
       "    </tr>\n",
       "  </tbody>\n",
       "</table>\n",
       "</div>"
      ],
      "text/plain": [
       "                  name  avg\n",
       "0         SeaV1per1224   68\n",
       "2          Kangcheon24   58\n",
       "9   Mitsubira_Aratoshi   72\n",
       "10             jgwen19   63\n",
       "12      ConesOdebrecht   77\n",
       "19             diwdwoa   72\n",
       "22       Oscarchoyzy24   58\n",
       "25       Kazuyuki_Owen   58\n",
       "33              5xmars   78\n",
       "36   polskathebestkraj   62\n",
       "41             Gariksz   61\n",
       "43       ViktorInvicta   65\n",
       "47          MrDerps124   68\n",
       "48    MarioUlici200702   66\n",
       "59   potatoringsninja4   60\n",
       "60       jayneeddollar   59\n",
       "61          Sumardisam   61\n",
       "62      bigshockwave99   57\n",
       "63      OblivionSectis   97"
      ]
     },
     "execution_count": 50,
     "metadata": {},
     "output_type": "execute_result"
    }
   ],
   "source": [
    "df2[df2[\"avg\"] >= 55]"
   ]
  }
 ],
 "metadata": {
  "kernelspec": {
   "display_name": "Python 3",
   "language": "python",
   "name": "python3"
  },
  "language_info": {
   "codemirror_mode": {
    "name": "ipython",
    "version": 3
   },
   "file_extension": ".py",
   "mimetype": "text/x-python",
   "name": "python",
   "nbconvert_exporter": "python",
   "pygments_lexer": "ipython3",
   "version": "3.11.9"
  }
 },
 "nbformat": 4,
 "nbformat_minor": 2
}
