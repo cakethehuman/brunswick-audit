{
 "cells": [
  {
   "cell_type": "code",
   "execution_count": 1,
   "metadata": {},
   "outputs": [],
   "source": [
    "import pandas as pd\n",
    "import numpy as np\n",
    "import matplotlib.pyplot as plt\n",
    "import seaborn as sns\n",
    "import scipy.stats as stats"
   ]
  },
  {
   "cell_type": "markdown",
   "metadata": {},
   "source": [
    "# reading the data"
   ]
  },
  {
   "cell_type": "code",
   "execution_count": 2,
   "metadata": {},
   "outputs": [],
   "source": [
    "df = pd.read_csv('data.csv')"
   ]
  },
  {
   "cell_type": "code",
   "execution_count": 3,
   "metadata": {},
   "outputs": [
    {
     "data": {
      "application/vnd.microsoft.datawrangler.viewer.v0+json": {
       "columns": [
        {
         "name": "index",
         "rawType": "int64",
         "type": "integer"
        },
        {
         "name": "name",
         "rawType": "object",
         "type": "string"
        },
        {
         "name": "kills",
         "rawType": "float64",
         "type": "float"
        }
       ],
       "conversionMethod": "pd.DataFrame",
       "ref": "d59bc1fe-be5c-42a4-b97d-6b02631b8cd8",
       "rows": [
        [
         "0",
         "anathaliakdc",
         "31.0"
        ],
        [
         "1",
         "pancake_w1",
         "31.0"
        ],
        [
         "2",
         "KisarakiTH",
         "25.0"
        ],
        [
         "3",
         "GGXDArusha",
         "33.0"
        ],
        [
         "4",
         "ckpoa20",
         "42.0"
        ],
        [
         "5",
         "Morristte",
         "26.0"
        ],
        [
         "6",
         "jiajun129",
         "23.0"
        ],
        [
         "7",
         "GRADE4092",
         "17.0"
        ],
        [
         "8",
         "pensmen",
         "62.0"
        ],
        [
         "9",
         "burnfield1k22",
         "53.0"
        ],
        [
         "10",
         "FrailBailen",
         "28.0"
        ],
        [
         "11",
         "SeaV1per1224",
         "51.0"
        ],
        [
         "12",
         "spikey_001",
         "47.0"
        ],
        [
         "13",
         "chickenkampong",
         "32.0"
        ],
        [
         "14",
         "Zweihvnders",
         "64.0"
        ],
        [
         "15",
         "MarionnJames2307",
         "15.0"
        ],
        [
         "16",
         "Dawnftb",
         "27.0"
        ],
        [
         "17",
         "aphexic",
         "76.0"
        ],
        [
         "18",
         "polkomgyy44",
         "58.0"
        ],
        [
         "19",
         "gyftfdko",
         "48.0"
        ],
        [
         "20",
         "Bababooooooeydude",
         "32.0"
        ],
        [
         "21",
         "Zombisho",
         "7.0"
        ],
        [
         "22",
         "encik_Faris",
         "37.0"
        ],
        [
         "23",
         "kylemanike",
         "44.0"
        ],
        [
         "24",
         "Dawnftb",
         "27.0"
        ],
        [
         "25",
         "chickenkampong",
         "32.0"
        ],
        [
         "26",
         "jiajun129",
         "23.0"
        ],
        [
         "27",
         "GGXDArusha",
         "33.0"
        ],
        [
         "28",
         "pensmen",
         "62.0"
        ],
        [
         "29",
         "spikey_001",
         "47.0"
        ],
        [
         "30",
         "pancake_w1",
         "31.0"
        ],
        [
         "31",
         "Zweihvnders",
         "64.0"
        ],
        [
         "32",
         "KisarakiTH",
         "25.0"
        ],
        [
         "33",
         "aphexic",
         "76.0"
        ],
        [
         "34",
         "MarionnJames2307",
         "15.0"
        ],
        [
         "35",
         "GRADE4092",
         "17.0"
        ],
        [
         "36",
         "anathaliakdc",
         "31.0"
        ],
        [
         "37",
         "ckpoa20",
         "42.0"
        ],
        [
         "38",
         "Morristte",
         "26.0"
        ],
        [
         "39",
         "SeaV1per1224",
         "51.0"
        ],
        [
         "40",
         "FrailBailen",
         "28.0"
        ],
        [
         "41",
         "burnfield1k22",
         "53.0"
        ],
        [
         "42",
         "polkomgyy44",
         "58.0"
        ],
        [
         "43",
         "gyftfdko",
         "48.0"
        ],
        [
         "44",
         "Bababooooooeydude",
         "32.0"
        ],
        [
         "45",
         "Zombisho",
         "7.0"
        ],
        [
         "46",
         "encik_Faris",
         "37.0"
        ],
        [
         "47",
         "kylemanike",
         "44.0"
        ],
        [
         "48",
         "TheHeirToZimbabwe",
         "103.0"
        ],
        [
         "49",
         "mahanprogamer3",
         "24.0"
        ]
       ],
       "shape": {
        "columns": 2,
        "rows": 1466
       }
      },
      "text/html": [
       "<div>\n",
       "<style scoped>\n",
       "    .dataframe tbody tr th:only-of-type {\n",
       "        vertical-align: middle;\n",
       "    }\n",
       "\n",
       "    .dataframe tbody tr th {\n",
       "        vertical-align: top;\n",
       "    }\n",
       "\n",
       "    .dataframe thead th {\n",
       "        text-align: right;\n",
       "    }\n",
       "</style>\n",
       "<table border=\"1\" class=\"dataframe\">\n",
       "  <thead>\n",
       "    <tr style=\"text-align: right;\">\n",
       "      <th></th>\n",
       "      <th>name</th>\n",
       "      <th>kills</th>\n",
       "    </tr>\n",
       "  </thead>\n",
       "  <tbody>\n",
       "    <tr>\n",
       "      <th>0</th>\n",
       "      <td>anathaliakdc</td>\n",
       "      <td>31.0</td>\n",
       "    </tr>\n",
       "    <tr>\n",
       "      <th>1</th>\n",
       "      <td>pancake_w1</td>\n",
       "      <td>31.0</td>\n",
       "    </tr>\n",
       "    <tr>\n",
       "      <th>2</th>\n",
       "      <td>KisarakiTH</td>\n",
       "      <td>25.0</td>\n",
       "    </tr>\n",
       "    <tr>\n",
       "      <th>3</th>\n",
       "      <td>GGXDArusha</td>\n",
       "      <td>33.0</td>\n",
       "    </tr>\n",
       "    <tr>\n",
       "      <th>4</th>\n",
       "      <td>ckpoa20</td>\n",
       "      <td>42.0</td>\n",
       "    </tr>\n",
       "    <tr>\n",
       "      <th>...</th>\n",
       "      <td>...</td>\n",
       "      <td>...</td>\n",
       "    </tr>\n",
       "    <tr>\n",
       "      <th>1461</th>\n",
       "      <td>pensmen</td>\n",
       "      <td>59.0</td>\n",
       "    </tr>\n",
       "    <tr>\n",
       "      <th>1462</th>\n",
       "      <td>kite_167</td>\n",
       "      <td>46.0</td>\n",
       "    </tr>\n",
       "    <tr>\n",
       "      <th>1463</th>\n",
       "      <td>memeisgod1234567</td>\n",
       "      <td>23.0</td>\n",
       "    </tr>\n",
       "    <tr>\n",
       "      <th>1464</th>\n",
       "      <td>Luqman_indo</td>\n",
       "      <td>21.0</td>\n",
       "    </tr>\n",
       "    <tr>\n",
       "      <th>1465</th>\n",
       "      <td>raka6792</td>\n",
       "      <td>27.0</td>\n",
       "    </tr>\n",
       "  </tbody>\n",
       "</table>\n",
       "<p>1466 rows × 2 columns</p>\n",
       "</div>"
      ],
      "text/plain": [
       "                  name  kills\n",
       "0         anathaliakdc   31.0\n",
       "1           pancake_w1   31.0\n",
       "2           KisarakiTH   25.0\n",
       "3           GGXDArusha   33.0\n",
       "4              ckpoa20   42.0\n",
       "...                ...    ...\n",
       "1461           pensmen   59.0\n",
       "1462          kite_167   46.0\n",
       "1463  memeisgod1234567   23.0\n",
       "1464       Luqman_indo   21.0\n",
       "1465          raka6792   27.0\n",
       "\n",
       "[1466 rows x 2 columns]"
      ]
     },
     "execution_count": 3,
     "metadata": {},
     "output_type": "execute_result"
    }
   ],
   "source": [
    "df"
   ]
  },
  {
   "cell_type": "markdown",
   "metadata": {},
   "source": [
    "# Top 10 attandence in the week"
   ]
  },
  {
   "cell_type": "code",
   "execution_count": 4,
   "metadata": {},
   "outputs": [
    {
     "data": {
      "image/png": "[encoded data removed]",
      "text/plain": [
       "<Figure size 1000x500 with 1 Axes>"
      ]
     },
     "metadata": {},
     "output_type": "display_data"
    }
   ],
   "source": [
    "plt.figure(figsize=(10, 5)) \n",
    "df[\"name\"].value_counts().nlargest(10).plot(kind='bar',colormap='viridis')\n",
    "plt.title(\"Attendance by Name\")\n",
    "plt.xlabel(\"Name\")\n",
    "plt.ylabel(\"Attendance\")\n",
    "plt.savefig('attadance_by_name.png',dpi=200,bbox_inches='tight')\n",
    "\n"
   ]
  },
  {
   "cell_type": "markdown",
   "metadata": {},
   "source": [
    "# avg attadance for the week"
   ]
  },
  {
   "cell_type": "code",
   "execution_count": 5,
   "metadata": {},
   "outputs": [
    {
     "data": {
      "text/plain": [
       "5"
      ]
     },
     "execution_count": 5,
     "metadata": {},
     "output_type": "execute_result"
    }
   ],
   "source": [
    "round(df[\"name\"].value_counts().mean())"
   ]
  },
  {
   "cell_type": "markdown",
   "metadata": {},
   "source": [
    "# find a {user} there attadance"
   ]
  },
  {
   "cell_type": "code",
   "execution_count": 6,
   "metadata": {},
   "outputs": [
    {
     "data": {
      "application/vnd.microsoft.datawrangler.viewer.v0+json": {
       "columns": [
        {
         "name": "index",
         "rawType": "int64",
         "type": "integer"
        },
        {
         "name": "name",
         "rawType": "object",
         "type": "string"
        },
        {
         "name": "kills",
         "rawType": "float64",
         "type": "float"
        }
       ],
       "conversionMethod": "pd.DataFrame",
       "ref": "39393d17-e54b-44b7-94bd-7580cab54d2e",
       "rows": [
        [
         "180",
         "mrflipsflapz",
         "50.0"
        ],
        [
         "222",
         "mrflipsflapz",
         "43.0"
        ],
        [
         "277",
         "mrflipsflapz",
         "59.0"
        ],
        [
         "344",
         "mrflipsflapz",
         "46.0"
        ],
        [
         "368",
         "mrflipsflapz",
         "49.0"
        ],
        [
         "384",
         "mrflipsflapz",
         "56.0"
        ],
        [
         "500",
         "mrflipsflapz",
         "55.0"
        ],
        [
         "586",
         "mrflipsflapz",
         "52.0"
        ],
        [
         "678",
         "mrflipsflapz",
         "59.0"
        ],
        [
         "712",
         "mrflipsflapz",
         "50.0"
        ],
        [
         "820",
         "mrflipsflapz",
         "53.0"
        ],
        [
         "847",
         "mrflipsflapz",
         "52.0"
        ],
        [
         "867",
         "mrflipsflapz",
         "49.0"
        ],
        [
         "894",
         "mrflipsflapz",
         "49.0"
        ],
        [
         "996",
         "mrflipsflapz",
         "49.0"
        ],
        [
         "1020",
         "mrflipsflapz",
         "53.0"
        ],
        [
         "1098",
         "mrflipsflapz",
         "61.0"
        ],
        [
         "1129",
         "mrflipsflapz",
         "48.0"
        ],
        [
         "1147",
         "mrflipsflapz",
         "51.0"
        ],
        [
         "1263",
         "mrflipsflapz",
         "41.0"
        ],
        [
         "1285",
         "mrflipsflapz",
         "53.0"
        ],
        [
         "1322",
         "mrflipsflapz",
         "61.0"
        ],
        [
         "1333",
         "mrflipsflapz",
         "50.0"
        ],
        [
         "1375",
         "mrflipsflapz",
         "52.0"
        ],
        [
         "1390",
         "mrflipsflapz",
         "74.0"
        ],
        [
         "1427",
         "mrflipsflapz",
         "51.0"
        ],
        [
         "1456",
         "mrflipsflapz",
         "58.0"
        ]
       ],
       "shape": {
        "columns": 2,
        "rows": 27
       }
      },
      "text/html": [
       "<div>\n",
       "<style scoped>\n",
       "    .dataframe tbody tr th:only-of-type {\n",
       "        vertical-align: middle;\n",
       "    }\n",
       "\n",
       "    .dataframe tbody tr th {\n",
       "        vertical-align: top;\n",
       "    }\n",
       "\n",
       "    .dataframe thead th {\n",
       "        text-align: right;\n",
       "    }\n",
       "</style>\n",
       "<table border=\"1\" class=\"dataframe\">\n",
       "  <thead>\n",
       "    <tr style=\"text-align: right;\">\n",
       "      <th></th>\n",
       "      <th>name</th>\n",
       "      <th>kills</th>\n",
       "    </tr>\n",
       "  </thead>\n",
       "  <tbody>\n",
       "    <tr>\n",
       "      <th>180</th>\n",
       "      <td>mrflipsflapz</td>\n",
       "      <td>50.0</td>\n",
       "    </tr>\n",
       "    <tr>\n",
       "      <th>222</th>\n",
       "      <td>mrflipsflapz</td>\n",
       "      <td>43.0</td>\n",
       "    </tr>\n",
       "    <tr>\n",
       "      <th>277</th>\n",
       "      <td>mrflipsflapz</td>\n",
       "      <td>59.0</td>\n",
       "    </tr>\n",
       "    <tr>\n",
       "      <th>344</th>\n",
       "      <td>mrflipsflapz</td>\n",
       "      <td>46.0</td>\n",
       "    </tr>\n",
       "    <tr>\n",
       "      <th>368</th>\n",
       "      <td>mrflipsflapz</td>\n",
       "      <td>49.0</td>\n",
       "    </tr>\n",
       "    <tr>\n",
       "      <th>384</th>\n",
       "      <td>mrflipsflapz</td>\n",
       "      <td>56.0</td>\n",
       "    </tr>\n",
       "    <tr>\n",
       "      <th>500</th>\n",
       "      <td>mrflipsflapz</td>\n",
       "      <td>55.0</td>\n",
       "    </tr>\n",
       "    <tr>\n",
       "      <th>586</th>\n",
       "      <td>mrflipsflapz</td>\n",
       "      <td>52.0</td>\n",
       "    </tr>\n",
       "    <tr>\n",
       "      <th>678</th>\n",
       "      <td>mrflipsflapz</td>\n",
       "      <td>59.0</td>\n",
       "    </tr>\n",
       "    <tr>\n",
       "      <th>712</th>\n",
       "      <td>mrflipsflapz</td>\n",
       "      <td>50.0</td>\n",
       "    </tr>\n",
       "    <tr>\n",
       "      <th>820</th>\n",
       "      <td>mrflipsflapz</td>\n",
       "      <td>53.0</td>\n",
       "    </tr>\n",
       "    <tr>\n",
       "      <th>847</th>\n",
       "      <td>mrflipsflapz</td>\n",
       "      <td>52.0</td>\n",
       "    </tr>\n",
       "    <tr>\n",
       "      <th>867</th>\n",
       "      <td>mrflipsflapz</td>\n",
       "      <td>49.0</td>\n",
       "    </tr>\n",
       "    <tr>\n",
       "      <th>894</th>\n",
       "      <td>mrflipsflapz</td>\n",
       "      <td>49.0</td>\n",
       "    </tr>\n",
       "    <tr>\n",
       "      <th>996</th>\n",
       "      <td>mrflipsflapz</td>\n",
       "      <td>49.0</td>\n",
       "    </tr>\n",
       "    <tr>\n",
       "      <th>1020</th>\n",
       "      <td>mrflipsflapz</td>\n",
       "      <td>53.0</td>\n",
       "    </tr>\n",
       "    <tr>\n",
       "      <th>1098</th>\n",
       "      <td>mrflipsflapz</td>\n",
       "      <td>61.0</td>\n",
       "    </tr>\n",
       "    <tr>\n",
       "      <th>1129</th>\n",
       "      <td>mrflipsflapz</td>\n",
       "      <td>48.0</td>\n",
       "    </tr>\n",
       "    <tr>\n",
       "      <th>1147</th>\n",
       "      <td>mrflipsflapz</td>\n",
       "      <td>51.0</td>\n",
       "    </tr>\n",
       "    <tr>\n",
       "      <th>1263</th>\n",
       "      <td>mrflipsflapz</td>\n",
       "      <td>41.0</td>\n",
       "    </tr>\n",
       "    <tr>\n",
       "      <th>1285</th>\n",
       "      <td>mrflipsflapz</td>\n",
       "      <td>53.0</td>\n",
       "    </tr>\n",
       "    <tr>\n",
       "      <th>1322</th>\n",
       "      <td>mrflipsflapz</td>\n",
       "      <td>61.0</td>\n",
       "    </tr>\n",
       "    <tr>\n",
       "      <th>1333</th>\n",
       "      <td>mrflipsflapz</td>\n",
       "      <td>50.0</td>\n",
       "    </tr>\n",
       "    <tr>\n",
       "      <th>1375</th>\n",
       "      <td>mrflipsflapz</td>\n",
       "      <td>52.0</td>\n",
       "    </tr>\n",
       "    <tr>\n",
       "      <th>1390</th>\n",
       "      <td>mrflipsflapz</td>\n",
       "      <td>74.0</td>\n",
       "    </tr>\n",
       "    <tr>\n",
       "      <th>1427</th>\n",
       "      <td>mrflipsflapz</td>\n",
       "      <td>51.0</td>\n",
       "    </tr>\n",
       "    <tr>\n",
       "      <th>1456</th>\n",
       "      <td>mrflipsflapz</td>\n",
       "      <td>58.0</td>\n",
       "    </tr>\n",
       "  </tbody>\n",
       "</table>\n",
       "</div>"
      ],
      "text/plain": [
       "              name  kills\n",
       "180   mrflipsflapz   50.0\n",
       "222   mrflipsflapz   43.0\n",
       "277   mrflipsflapz   59.0\n",
       "344   mrflipsflapz   46.0\n",
       "368   mrflipsflapz   49.0\n",
       "384   mrflipsflapz   56.0\n",
       "500   mrflipsflapz   55.0\n",
       "586   mrflipsflapz   52.0\n",
       "678   mrflipsflapz   59.0\n",
       "712   mrflipsflapz   50.0\n",
       "820   mrflipsflapz   53.0\n",
       "847   mrflipsflapz   52.0\n",
       "867   mrflipsflapz   49.0\n",
       "894   mrflipsflapz   49.0\n",
       "996   mrflipsflapz   49.0\n",
       "1020  mrflipsflapz   53.0\n",
       "1098  mrflipsflapz   61.0\n",
       "1129  mrflipsflapz   48.0\n",
       "1147  mrflipsflapz   51.0\n",
       "1263  mrflipsflapz   41.0\n",
       "1285  mrflipsflapz   53.0\n",
       "1322  mrflipsflapz   61.0\n",
       "1333  mrflipsflapz   50.0\n",
       "1375  mrflipsflapz   52.0\n",
       "1390  mrflipsflapz   74.0\n",
       "1427  mrflipsflapz   51.0\n",
       "1456  mrflipsflapz   58.0"
      ]
     },
     "execution_count": 6,
     "metadata": {},
     "output_type": "execute_result"
    }
   ],
   "source": [
    "df[df['name'] == \"mrflipsflapz\"]\n"
   ]
  },
  {
   "cell_type": "markdown",
   "metadata": {},
   "source": [
    "# attadance for 1 week that is x >= 3\n",
    "\n"
   ]
  },
  {
   "cell_type": "code",
   "execution_count": 7,
   "metadata": {},
   "outputs": [
    {
     "data": {
      "text/plain": [
       "np.int64(27)"
      ]
     },
     "execution_count": 7,
     "metadata": {},
     "output_type": "execute_result"
    }
   ],
   "source": [
    "df[df[\"name\"] == \"mrflipsflapz\"].value_counts().sum()"
   ]
  },
  {
   "cell_type": "code",
   "execution_count": 8,
   "metadata": {},
   "outputs": [],
   "source": [
    "attandace = df[df[\"name\"] == \"mrflipsflapz\"].value_counts().sum()"
   ]
  },
  {
   "cell_type": "code",
   "execution_count": 9,
   "metadata": {},
   "outputs": [
    {
     "data": {
      "text/plain": [
       "name\n",
       "Dawnftb                True\n",
       "nickthegodrider1289    True\n",
       "Oscarchoyzy24          True\n",
       "anathaliakdc           True\n",
       "spikey_001             True\n",
       "                       ... \n",
       "tris_thestudent        True\n",
       "star_dustriver         True\n",
       "Nero_Kauko             True\n",
       "Lord_Emerald1          True\n",
       "pioluisconrado         True\n",
       "Name: count, Length: 105, dtype: bool"
      ]
     },
     "execution_count": 9,
     "metadata": {},
     "output_type": "execute_result"
    }
   ],
   "source": [
    "check_attadance = df[\"name\"].value_counts() >= 3\n",
    "check_attadance.map({True: 1, False: 0})\n",
    "check_attadance[check_attadance == 1]\n"
   ]
  },
  {
   "cell_type": "markdown",
   "metadata": {},
   "source": [
    "# kills info"
   ]
  },
  {
   "cell_type": "code",
   "execution_count": 10,
   "metadata": {},
   "outputs": [
    {
     "name": "stdout",
     "output_type": "stream",
     "text": [
      "The average kills for everyone is:  44.8\n"
     ]
    }
   ],
   "source": [
    "avg_kills_everyone = df[\"kills\"].mean()\n",
    "print(\"The average kills for everyone is: \", round(avg_kills_everyone,1))"
   ]
  },
  {
   "cell_type": "code",
   "execution_count": 11,
   "metadata": {},
   "outputs": [
    {
     "data": {
      "application/vnd.microsoft.datawrangler.viewer.v0+json": {
       "columns": [
        {
         "name": "index",
         "rawType": "int64",
         "type": "integer"
        },
        {
         "name": "name",
         "rawType": "object",
         "type": "string"
        },
        {
         "name": "kills",
         "rawType": "float64",
         "type": "float"
        }
       ],
       "conversionMethod": "pd.DataFrame",
       "ref": "92340cf4-3de0-44fe-ae70-f47ba3b7083f",
       "rows": [
        [
         "18",
         "polkomgyy44",
         "58.0"
        ],
        [
         "42",
         "polkomgyy44",
         "58.0"
        ],
        [
         "68",
         "polkomgyy44",
         "55.0"
        ],
        [
         "144",
         "polkomgyy44",
         "59.0"
        ],
        [
         "194",
         "polkomgyy44",
         "55.0"
        ],
        [
         "266",
         "polkomgyy44",
         "60.0"
        ],
        [
         "288",
         "polkomgyy44",
         "56.0"
        ],
        [
         "317",
         "polkomgyy44",
         "77.0"
        ],
        [
         "400",
         "polkomgyy44",
         "54.0"
        ],
        [
         "497",
         "polkomgyy44",
         "43.0"
        ],
        [
         "516",
         "polkomgyy44",
         "64.0"
        ],
        [
         "571",
         "polkomgyy44",
         "44.0"
        ],
        [
         "581",
         "polkomgyy44",
         "65.0"
        ],
        [
         "704",
         "polkomgyy44",
         "58.0"
        ],
        [
         "759",
         "polkomgyy44",
         "50.0"
        ],
        [
         "828",
         "polkomgyy44",
         "52.0"
        ],
        [
         "853",
         "polkomgyy44",
         "44.0"
        ],
        [
         "865",
         "polkomgyy44",
         "48.0"
        ],
        [
         "892",
         "polkomgyy44",
         "48.0"
        ],
        [
         "924",
         "polkomgyy44",
         "50.0"
        ],
        [
         "983",
         "polkomgyy44",
         "57.0"
        ],
        [
         "1088",
         "polkomgyy44",
         "71.0"
        ],
        [
         "1114",
         "polkomgyy44",
         "64.0"
        ],
        [
         "1151",
         "polkomgyy44",
         "67.0"
        ],
        [
         "1167",
         "polkomgyy44",
         "60.0"
        ],
        [
         "1199",
         "polkomgyy44",
         "53.0"
        ],
        [
         "1243",
         "polkomgyy44",
         "65.0"
        ],
        [
         "1264",
         "polkomgyy44",
         "28.0"
        ],
        [
         "1288",
         "polkomgyy44",
         "69.0"
        ],
        [
         "1309",
         "polkomgyy44",
         "58.0"
        ],
        [
         "1344",
         "polkomgyy44",
         "62.0"
        ],
        [
         "1353",
         "polkomgyy44",
         "60.0"
        ],
        [
         "1426",
         "polkomgyy44",
         "51.0"
        ],
        [
         "1458",
         "polkomgyy44",
         "57.0"
        ]
       ],
       "shape": {
        "columns": 2,
        "rows": 34
       }
      },
      "text/html": [
       "<div>\n",
       "<style scoped>\n",
       "    .dataframe tbody tr th:only-of-type {\n",
       "        vertical-align: middle;\n",
       "    }\n",
       "\n",
       "    .dataframe tbody tr th {\n",
       "        vertical-align: top;\n",
       "    }\n",
       "\n",
       "    .dataframe thead th {\n",
       "        text-align: right;\n",
       "    }\n",
       "</style>\n",
       "<table border=\"1\" class=\"dataframe\">\n",
       "  <thead>\n",
       "    <tr style=\"text-align: right;\">\n",
       "      <th></th>\n",
       "      <th>name</th>\n",
       "      <th>kills</th>\n",
       "    </tr>\n",
       "  </thead>\n",
       "  <tbody>\n",
       "    <tr>\n",
       "      <th>18</th>\n",
       "      <td>polkomgyy44</td>\n",
       "      <td>58.0</td>\n",
       "    </tr>\n",
       "    <tr>\n",
       "      <th>42</th>\n",
       "      <td>polkomgyy44</td>\n",
       "      <td>58.0</td>\n",
       "    </tr>\n",
       "    <tr>\n",
       "      <th>68</th>\n",
       "      <td>polkomgyy44</td>\n",
       "      <td>55.0</td>\n",
       "    </tr>\n",
       "    <tr>\n",
       "      <th>144</th>\n",
       "      <td>polkomgyy44</td>\n",
       "      <td>59.0</td>\n",
       "    </tr>\n",
       "    <tr>\n",
       "      <th>194</th>\n",
       "      <td>polkomgyy44</td>\n",
       "      <td>55.0</td>\n",
       "    </tr>\n",
       "    <tr>\n",
       "      <th>266</th>\n",
       "      <td>polkomgyy44</td>\n",
       "      <td>60.0</td>\n",
       "    </tr>\n",
       "    <tr>\n",
       "      <th>288</th>\n",
       "      <td>polkomgyy44</td>\n",
       "      <td>56.0</td>\n",
       "    </tr>\n",
       "    <tr>\n",
       "      <th>317</th>\n",
       "      <td>polkomgyy44</td>\n",
       "      <td>77.0</td>\n",
       "    </tr>\n",
       "    <tr>\n",
       "      <th>400</th>\n",
       "      <td>polkomgyy44</td>\n",
       "      <td>54.0</td>\n",
       "    </tr>\n",
       "    <tr>\n",
       "      <th>497</th>\n",
       "      <td>polkomgyy44</td>\n",
       "      <td>43.0</td>\n",
       "    </tr>\n",
       "    <tr>\n",
       "      <th>516</th>\n",
       "      <td>polkomgyy44</td>\n",
       "      <td>64.0</td>\n",
       "    </tr>\n",
       "    <tr>\n",
       "      <th>571</th>\n",
       "      <td>polkomgyy44</td>\n",
       "      <td>44.0</td>\n",
       "    </tr>\n",
       "    <tr>\n",
       "      <th>581</th>\n",
       "      <td>polkomgyy44</td>\n",
       "      <td>65.0</td>\n",
       "    </tr>\n",
       "    <tr>\n",
       "      <th>704</th>\n",
       "      <td>polkomgyy44</td>\n",
       "      <td>58.0</td>\n",
       "    </tr>\n",
       "    <tr>\n",
       "      <th>759</th>\n",
       "      <td>polkomgyy44</td>\n",
       "      <td>50.0</td>\n",
       "    </tr>\n",
       "    <tr>\n",
       "      <th>828</th>\n",
       "      <td>polkomgyy44</td>\n",
       "      <td>52.0</td>\n",
       "    </tr>\n",
       "    <tr>\n",
       "      <th>853</th>\n",
       "      <td>polkomgyy44</td>\n",
       "      <td>44.0</td>\n",
       "    </tr>\n",
       "    <tr>\n",
       "      <th>865</th>\n",
       "      <td>polkomgyy44</td>\n",
       "      <td>48.0</td>\n",
       "    </tr>\n",
       "    <tr>\n",
       "      <th>892</th>\n",
       "      <td>polkomgyy44</td>\n",
       "      <td>48.0</td>\n",
       "    </tr>\n",
       "    <tr>\n",
       "      <th>924</th>\n",
       "      <td>polkomgyy44</td>\n",
       "      <td>50.0</td>\n",
       "    </tr>\n",
       "    <tr>\n",
       "      <th>983</th>\n",
       "      <td>polkomgyy44</td>\n",
       "      <td>57.0</td>\n",
       "    </tr>\n",
       "    <tr>\n",
       "      <th>1088</th>\n",
       "      <td>polkomgyy44</td>\n",
       "      <td>71.0</td>\n",
       "    </tr>\n",
       "    <tr>\n",
       "      <th>1114</th>\n",
       "      <td>polkomgyy44</td>\n",
       "      <td>64.0</td>\n",
       "    </tr>\n",
       "    <tr>\n",
       "      <th>1151</th>\n",
       "      <td>polkomgyy44</td>\n",
       "      <td>67.0</td>\n",
       "    </tr>\n",
       "    <tr>\n",
       "      <th>1167</th>\n",
       "      <td>polkomgyy44</td>\n",
       "      <td>60.0</td>\n",
       "    </tr>\n",
       "    <tr>\n",
       "      <th>1199</th>\n",
       "      <td>polkomgyy44</td>\n",
       "      <td>53.0</td>\n",
       "    </tr>\n",
       "    <tr>\n",
       "      <th>1243</th>\n",
       "      <td>polkomgyy44</td>\n",
       "      <td>65.0</td>\n",
       "    </tr>\n",
       "    <tr>\n",
       "      <th>1264</th>\n",
       "      <td>polkomgyy44</td>\n",
       "      <td>28.0</td>\n",
       "    </tr>\n",
       "    <tr>\n",
       "      <th>1288</th>\n",
       "      <td>polkomgyy44</td>\n",
       "      <td>69.0</td>\n",
       "    </tr>\n",
       "    <tr>\n",
       "      <th>1309</th>\n",
       "      <td>polkomgyy44</td>\n",
       "      <td>58.0</td>\n",
       "    </tr>\n",
       "    <tr>\n",
       "      <th>1344</th>\n",
       "      <td>polkomgyy44</td>\n",
       "      <td>62.0</td>\n",
       "    </tr>\n",
       "    <tr>\n",
       "      <th>1353</th>\n",
       "      <td>polkomgyy44</td>\n",
       "      <td>60.0</td>\n",
       "    </tr>\n",
       "    <tr>\n",
       "      <th>1426</th>\n",
       "      <td>polkomgyy44</td>\n",
       "      <td>51.0</td>\n",
       "    </tr>\n",
       "    <tr>\n",
       "      <th>1458</th>\n",
       "      <td>polkomgyy44</td>\n",
       "      <td>57.0</td>\n",
       "    </tr>\n",
       "  </tbody>\n",
       "</table>\n",
       "</div>"
      ],
      "text/plain": [
       "             name  kills\n",
       "18    polkomgyy44   58.0\n",
       "42    polkomgyy44   58.0\n",
       "68    polkomgyy44   55.0\n",
       "144   polkomgyy44   59.0\n",
       "194   polkomgyy44   55.0\n",
       "266   polkomgyy44   60.0\n",
       "288   polkomgyy44   56.0\n",
       "317   polkomgyy44   77.0\n",
       "400   polkomgyy44   54.0\n",
       "497   polkomgyy44   43.0\n",
       "516   polkomgyy44   64.0\n",
       "571   polkomgyy44   44.0\n",
       "581   polkomgyy44   65.0\n",
       "704   polkomgyy44   58.0\n",
       "759   polkomgyy44   50.0\n",
       "828   polkomgyy44   52.0\n",
       "853   polkomgyy44   44.0\n",
       "865   polkomgyy44   48.0\n",
       "892   polkomgyy44   48.0\n",
       "924   polkomgyy44   50.0\n",
       "983   polkomgyy44   57.0\n",
       "1088  polkomgyy44   71.0\n",
       "1114  polkomgyy44   64.0\n",
       "1151  polkomgyy44   67.0\n",
       "1167  polkomgyy44   60.0\n",
       "1199  polkomgyy44   53.0\n",
       "1243  polkomgyy44   65.0\n",
       "1264  polkomgyy44   28.0\n",
       "1288  polkomgyy44   69.0\n",
       "1309  polkomgyy44   58.0\n",
       "1344  polkomgyy44   62.0\n",
       "1353  polkomgyy44   60.0\n",
       "1426  polkomgyy44   51.0\n",
       "1458  polkomgyy44   57.0"
      ]
     },
     "execution_count": 11,
     "metadata": {},
     "output_type": "execute_result"
    }
   ],
   "source": [
    "df[df[\"name\"] == \"polkomgyy44\"]"
   ]
  },
  {
   "cell_type": "code",
   "execution_count": 12,
   "metadata": {},
   "outputs": [
    {
     "data": {
      "application/vnd.microsoft.datawrangler.viewer.v0+json": {
       "columns": [
        {
         "name": "index",
         "rawType": "int64",
         "type": "integer"
        },
        {
         "name": "name",
         "rawType": "object",
         "type": "string"
        },
        {
         "name": "kills",
         "rawType": "float64",
         "type": "float"
        }
       ],
       "conversionMethod": "pd.DataFrame",
       "ref": "d4082da6-7476-4ccf-a455-5b0603fd5190",
       "rows": [
        [
         "0",
         "anathaliakdc",
         "31.0"
        ],
        [
         "1",
         "pancake_w1",
         "31.0"
        ],
        [
         "2",
         "KisarakiTH",
         "25.0"
        ],
        [
         "3",
         "GGXDArusha",
         "33.0"
        ],
        [
         "4",
         "ckpoa20",
         "42.0"
        ],
        [
         "5",
         "Morristte",
         "26.0"
        ],
        [
         "6",
         "jiajun129",
         "23.0"
        ],
        [
         "7",
         "GRADE4092",
         "17.0"
        ],
        [
         "8",
         "pensmen",
         "62.0"
        ],
        [
         "9",
         "burnfield1k22",
         "53.0"
        ],
        [
         "10",
         "FrailBailen",
         "28.0"
        ],
        [
         "11",
         "SeaV1per1224",
         "51.0"
        ],
        [
         "12",
         "spikey_001",
         "47.0"
        ],
        [
         "13",
         "chickenkampong",
         "32.0"
        ],
        [
         "14",
         "Zweihvnders",
         "64.0"
        ],
        [
         "15",
         "MarionnJames2307",
         "15.0"
        ],
        [
         "16",
         "Dawnftb",
         "27.0"
        ],
        [
         "17",
         "aphexic",
         "76.0"
        ],
        [
         "18",
         "polkomgyy44",
         "58.0"
        ],
        [
         "19",
         "gyftfdko",
         "48.0"
        ],
        [
         "20",
         "Bababooooooeydude",
         "32.0"
        ],
        [
         "21",
         "Zombisho",
         "7.0"
        ],
        [
         "22",
         "encik_Faris",
         "37.0"
        ],
        [
         "23",
         "kylemanike",
         "44.0"
        ],
        [
         "24",
         "Dawnftb",
         "27.0"
        ],
        [
         "25",
         "chickenkampong",
         "32.0"
        ],
        [
         "26",
         "jiajun129",
         "23.0"
        ],
        [
         "27",
         "GGXDArusha",
         "33.0"
        ],
        [
         "28",
         "pensmen",
         "62.0"
        ],
        [
         "29",
         "spikey_001",
         "47.0"
        ],
        [
         "30",
         "pancake_w1",
         "31.0"
        ],
        [
         "31",
         "Zweihvnders",
         "64.0"
        ],
        [
         "32",
         "KisarakiTH",
         "25.0"
        ],
        [
         "33",
         "aphexic",
         "76.0"
        ],
        [
         "34",
         "MarionnJames2307",
         "15.0"
        ],
        [
         "35",
         "GRADE4092",
         "17.0"
        ],
        [
         "36",
         "anathaliakdc",
         "31.0"
        ],
        [
         "37",
         "ckpoa20",
         "42.0"
        ],
        [
         "38",
         "Morristte",
         "26.0"
        ],
        [
         "39",
         "SeaV1per1224",
         "51.0"
        ],
        [
         "40",
         "FrailBailen",
         "28.0"
        ],
        [
         "41",
         "burnfield1k22",
         "53.0"
        ],
        [
         "42",
         "polkomgyy44",
         "58.0"
        ],
        [
         "43",
         "gyftfdko",
         "48.0"
        ],
        [
         "44",
         "Bababooooooeydude",
         "32.0"
        ],
        [
         "45",
         "Zombisho",
         "7.0"
        ],
        [
         "46",
         "encik_Faris",
         "37.0"
        ],
        [
         "47",
         "kylemanike",
         "44.0"
        ],
        [
         "48",
         "TheHeirToZimbabwe",
         "103.0"
        ],
        [
         "49",
         "mahanprogamer3",
         "24.0"
        ]
       ],
       "shape": {
        "columns": 2,
        "rows": 1466
       }
      },
      "text/html": [
       "<div>\n",
       "<style scoped>\n",
       "    .dataframe tbody tr th:only-of-type {\n",
       "        vertical-align: middle;\n",
       "    }\n",
       "\n",
       "    .dataframe tbody tr th {\n",
       "        vertical-align: top;\n",
       "    }\n",
       "\n",
       "    .dataframe thead th {\n",
       "        text-align: right;\n",
       "    }\n",
       "</style>\n",
       "<table border=\"1\" class=\"dataframe\">\n",
       "  <thead>\n",
       "    <tr style=\"text-align: right;\">\n",
       "      <th></th>\n",
       "      <th>name</th>\n",
       "      <th>kills</th>\n",
       "    </tr>\n",
       "  </thead>\n",
       "  <tbody>\n",
       "    <tr>\n",
       "      <th>0</th>\n",
       "      <td>anathaliakdc</td>\n",
       "      <td>31.0</td>\n",
       "    </tr>\n",
       "    <tr>\n",
       "      <th>1</th>\n",
       "      <td>pancake_w1</td>\n",
       "      <td>31.0</td>\n",
       "    </tr>\n",
       "    <tr>\n",
       "      <th>2</th>\n",
       "      <td>KisarakiTH</td>\n",
       "      <td>25.0</td>\n",
       "    </tr>\n",
       "    <tr>\n",
       "      <th>3</th>\n",
       "      <td>GGXDArusha</td>\n",
       "      <td>33.0</td>\n",
       "    </tr>\n",
       "    <tr>\n",
       "      <th>4</th>\n",
       "      <td>ckpoa20</td>\n",
       "      <td>42.0</td>\n",
       "    </tr>\n",
       "    <tr>\n",
       "      <th>...</th>\n",
       "      <td>...</td>\n",
       "      <td>...</td>\n",
       "    </tr>\n",
       "    <tr>\n",
       "      <th>1461</th>\n",
       "      <td>pensmen</td>\n",
       "      <td>59.0</td>\n",
       "    </tr>\n",
       "    <tr>\n",
       "      <th>1462</th>\n",
       "      <td>kite_167</td>\n",
       "      <td>46.0</td>\n",
       "    </tr>\n",
       "    <tr>\n",
       "      <th>1463</th>\n",
       "      <td>memeisgod1234567</td>\n",
       "      <td>23.0</td>\n",
       "    </tr>\n",
       "    <tr>\n",
       "      <th>1464</th>\n",
       "      <td>Luqman_indo</td>\n",
       "      <td>21.0</td>\n",
       "    </tr>\n",
       "    <tr>\n",
       "      <th>1465</th>\n",
       "      <td>raka6792</td>\n",
       "      <td>27.0</td>\n",
       "    </tr>\n",
       "  </tbody>\n",
       "</table>\n",
       "<p>1466 rows × 2 columns</p>\n",
       "</div>"
      ],
      "text/plain": [
       "                  name  kills\n",
       "0         anathaliakdc   31.0\n",
       "1           pancake_w1   31.0\n",
       "2           KisarakiTH   25.0\n",
       "3           GGXDArusha   33.0\n",
       "4              ckpoa20   42.0\n",
       "...                ...    ...\n",
       "1461           pensmen   59.0\n",
       "1462          kite_167   46.0\n",
       "1463  memeisgod1234567   23.0\n",
       "1464       Luqman_indo   21.0\n",
       "1465          raka6792   27.0\n",
       "\n",
       "[1466 rows x 2 columns]"
      ]
     },
     "execution_count": 12,
     "metadata": {},
     "output_type": "execute_result"
    }
   ],
   "source": [
    "df"
   ]
  },
  {
   "cell_type": "code",
   "execution_count": 13,
   "metadata": {},
   "outputs": [
    {
     "data": {
      "text/plain": [
       "kills\n",
       "49.0    4\n",
       "50.0    3\n",
       "52.0    3\n",
       "53.0    3\n",
       "61.0    2\n",
       "51.0    2\n",
       "59.0    2\n",
       "55.0    1\n",
       "56.0    1\n",
       "46.0    1\n",
       "43.0    1\n",
       "48.0    1\n",
       "41.0    1\n",
       "74.0    1\n",
       "58.0    1\n",
       "Name: count, dtype: int64"
      ]
     },
     "execution_count": 13,
     "metadata": {},
     "output_type": "execute_result"
    }
   ],
   "source": [
    "x = df[df[\"name\"] == \"mrflipsflapz\"]\n",
    "x[\"kills\"].value_counts()"
   ]
  },
  {
   "cell_type": "code",
   "execution_count": 14,
   "metadata": {},
   "outputs": [
    {
     "data": {
      "text/plain": [
       "Text(0.5, 1.0, 'Kills by Name')"
      ]
     },
     "execution_count": 14,
     "metadata": {},
     "output_type": "execute_result"
    },
    {
     "data": {
      "image/png": "[encoded data removed]",
      "text/plain": [
       "<Figure size 640x480 with 1 Axes>"
      ]
     },
     "metadata": {},
     "output_type": "display_data"
    }
   ],
   "source": [
    "plt.bar(x[\"name\"], x[\"kills\"])\n",
    "plt.title(\"Kills by Name\")"
   ]
  },
  {
   "cell_type": "markdown",
   "metadata": {},
   "source": [
    "# everyone avg"
   ]
  },
  {
   "cell_type": "code",
   "execution_count": 15,
   "metadata": {},
   "outputs": [
    {
     "name": "stdout",
     "output_type": "stream",
     "text": [
      "anathaliakdc:🟠31.7\n",
      "pancake_w1:🟠33.7\n",
      "KisarakiTH:🟡36.2\n",
      "GGXDArusha:🟡39.7\n",
      "ckpoa20:🟡36.9\n",
      "Morristte:🟠30.0\n",
      "jiajun129:🟡37.2\n",
      "GRADE4092:🟠27.0\n",
      "pensmen:🔵56.8\n",
      "burnfield1k22:🔵64.0\n",
      "FrailBailen:🟡40.0\n",
      "SeaV1per1224:🔵65.7\n",
      "spikey_001:🟢45.3\n",
      "chickenkampong:🟡41.9\n",
      "Zweihvnders:🔵80.1\n",
      "MarionnJames2307:🟡39.2\n",
      "Dawnftb:🟠33.1\n",
      "aphexic:🔵77.0\n",
      "polkomgyy44:🔵56.5\n",
      "gyftfdko:🟡44.4\n",
      "Bababooooooeydude:🟠32.0\n",
      "Zombisho:🔴7.0\n",
      "encik_Faris:🟡37.1\n",
      "kylemanike:🟡44.8\n",
      "TheHeirToZimbabwe:🔵103.0\n",
      "mahanprogamer3:🟠24.0\n",
      "J4oxXD:🔴13.0\n",
      "Luqman_indo:🟠30.1\n",
      "Mitzuki525:🟠21.5\n",
      "aarondanish2015:🟠25.2\n",
      "Jok_jok1234:🟡38.0\n",
      "spartansudais14:🟠24.5\n",
      "KJ:🔴2.0\n",
      "Vreckthiq:🔵97.0\n",
      "jamesplayztv1:🟡44.7\n",
      "Mitsubira_Aratoshi:🔵70.1\n",
      "bubmlpants:🟠28.0\n",
      "theDogeboiiz:🟡44.2\n",
      "Indonesia_ofMalaysia:🟢48.0\n",
      "Zedifix:🟠28.0\n",
      "SireHalo:🟠31.7\n",
      "gerardanthony22:🟠28.2\n",
      "Ikaraduck:🟡44.0\n",
      "nickthegodrider1289:🟡44.8\n",
      "Oscarchoyzy24:🔵65.4\n",
      "FreSlothK:🟠30.5\n",
      "rukaminop:🟠24.0\n",
      "mralex111012:🟢51.0\n",
      "jgwen19:🔵55.1\n",
      "Chiofries:🟡41.0\n",
      "roger2126:🟠29.0\n",
      "Gariksz:🔵64.4\n",
      "ChickenDonkeyDog:🔵70.0\n",
      "GOODMIEL11:🔵60.0\n",
      "buddyboil1:🔵65.5\n",
      "Akari_4757:🟠28.0\n",
      "1ma_m:🔵79.0\n",
      "ConesOdebrecht:🔵74.5\n",
      "diwdwoa:🔵55.5\n",
      "jellyy112345:🟡41.2\n",
      "Elementalmoron:🟡41.5\n",
      "UnknownWarrior144:🟠26.2\n",
      "zigglerstuff:🟢55.0\n",
      "Liklyboos221:🔵60.1\n",
      "Tractionexistenexont:🟠21.0\n",
      "WazibaXD:🟢53.0\n",
      "AceVonSurrey:🟡41.0\n",
      "Madgaming2010:🟠26.4\n",
      "tsogoo125:🔵55.5\n",
      "gtmsgamerG:🟡36.8\n",
      "Kazuyuki_Owen:🔵55.3\n",
      "IrishWar4Ever:🟠34.0\n",
      "ViktorInvicta:🟢48.3\n",
      "morgzking123:🔴19.0\n",
      "rarerdiymond727:🟡40.5\n",
      "Amatek40:🟢46.0\n",
      "hehes_alt:🔴15.0\n",
      "kea44448:🔴11.0\n",
      "bad2shroud:🔴0.0\n",
      "mrflipsflapz:🟢52.7\n",
      "Blaine0330:🟠31.5\n",
      "bigshockwave99:🔵60.4\n",
      "DivineMates:🟡44.0\n",
      "NicholasGXY:🟡35.0\n",
      "Croezg:🟡38.3\n",
      "jacck04856:🟡37.0\n",
      "Windo_Dev:🔴19.0\n",
      "Vortex_x6:🟠31.0\n",
      "swordy_with:🔵63.0\n",
      "thelazysong200:🔴11.0\n",
      "PaintVictores:🟡35.0\n",
      "danial1492:🟢47.0\n",
      "SomeRandomBucketName:🔵61.6\n",
      "user30012345:🟡41.5\n",
      "ROBLOXMASTER31121:🔵70.0\n",
      "officerngelo:🔴14.8\n",
      "spiderjuan091948:🟡44.0\n",
      "AvWhippin:🟡39.0\n",
      "EzzyyPhobic:🔵77.0\n",
      "TheGameTie:🔵67.0\n",
      "Blue16001:🟡44.0\n",
      "DRDanger46:🟢47.0\n",
      "lichfireiceking:🔵67.5\n",
      "Lord_NathanVI:🟢55.0\n",
      "5xmars:🔵80.2\n",
      "MrDerps124:🔵64.4\n",
      "dyj2233:🔵63.0\n",
      "CommanderHikari:🟡42.0\n",
      "Airsight21:🟢53.0\n",
      "Napoleon_bonapartes3:🔴15.0\n",
      "tris_thestudent:🟡40.0\n",
      "L1MEO1:🔵55.4\n",
      "joeyeljuan:🟡38.0\n",
      "XxYusuf100xX:🟡40.0\n",
      "TW_Marginal:🔵60.0\n",
      "VICTOR3E:🔴20.0\n",
      "mehwsd:🔵60.0\n",
      "kerry111222111:🟡35.0\n",
      "OblivionSectis:🔵105.8\n",
      "imnotharingyou:🔴9.8\n",
      "AKMALBACONPRO:🟡37.0\n",
      "camper8903:🟢52.6\n",
      "KusakabeMisaoMyWaifu:🟢46.2\n",
      "shanniquecloud:🟠30.0\n",
      "Scornful_X:🟢50.0\n",
      "BasedArtyom:🔴18.5\n",
      "braydengames77:🟠23.0\n",
      "Daptopeu123:🔴17.5\n",
      "Logiclist:🟠33.0\n",
      "fliqpy82929:🟠30.5\n",
      "3ckr12:🟡37.0\n",
      "Sumardisam:🔵57.2\n",
      "kaaalpii:🔴18.0\n",
      "WHATINTHEWORLD5672:🔴7.0\n",
      "coffeekhung36:❤️nan\n",
      "SZYMON090901:🟡41.0\n",
      "snowsoldier_9775:🔴17.0\n",
      "takutoa02:🟠33.4\n",
      "Awesomegunner778:🟢54.0\n",
      "elementhknight123:🔵60.5\n",
      "Wepingbell2:🟠34.0\n",
      "rg66666666:🟡42.0\n",
      "star_dustriver:🟢52.3\n",
      "TYT012017:🟠21.0\n",
      "infantry154111:🔴14.0\n",
      "intxerunit:🟢47.0\n",
      "Itme_NEWBIE:🔴18.0\n",
      "jssinsnsm:🔴17.0\n",
      "KingPandapandapanda:🔴18.0\n",
      "Tutel_54371:🟠26.0\n",
      "BejzMunro:🔴15.0\n",
      "chanmeme1:🟢48.4\n",
      "acid_w:🔵103.0\n",
      "korvegi:🔵58.0\n",
      "STrockingUrDjcxK_4Ks:🟢55.0\n",
      "xQc0wxHasan:🟠23.0\n",
      "kite_167:🟡36.3\n",
      "supermanakmeeee_twin:🟡38.7\n",
      "zZRabbitsZz:🟠28.5\n",
      "commander_cookie1234:🟡37.0\n",
      "TAMKOLEMK23:🟡41.0\n",
      "Cheeky_Grub:🟡35.0\n",
      "DabbustBailen:🟢52.0\n",
      "robuihoan:🟠27.0\n",
      "999j444:🔴8.0\n",
      "bench3:🔵57.0\n",
      "Mrbombinleipzig:🟠32.5\n",
      "GildedMikado:🟡42.5\n",
      "jayneeddollar:🔵56.5\n",
      "pancakehateruwu:🟡43.0\n",
      "gst44444:🟠29.0\n",
      "TheArcheryOfWisdom:🟡38.0\n",
      "mgim123:🔵64.0\n",
      "Hparso1524:🟡42.5\n",
      "MarioUlici200702:🟢51.8\n",
      "mekeyroberto:🟡40.0\n",
      "SupremeDom5162:🟠21.5\n",
      "kurtdylan1111:🟠30.0\n",
      "DcypL_Sky:🔵81.0\n",
      "cn191981:🟠28.7\n",
      "midnight_karsonwolf:🔴5.0\n",
      "ideacentre:🟡38.0\n",
      "Xernicus:🟢46.7\n",
      "kf21rotc2:🔴12.3\n",
      "Alekspheus:🟡39.0\n",
      "Kangcheon24:🔵59.0\n",
      "AERBUTE1:🟢51.2\n",
      "HarArkhichen:🟢53.2\n",
      "Proxy_x5:🟡43.5\n",
      "potatoringsninja4:🔵60.0\n",
      "HoundVonSurrey:🔵56.2\n",
      "ndonesia_ofMalaysia:🟢52.0\n",
      "eiltene123:🟢45.9\n",
      "jesterproandnoob:🟢52.4\n",
      "CIAUSA2:🟠22.0\n",
      "plm922sown:🟡40.0\n",
      "TomMiaorblx:🟠29.3\n",
      "polskathebestkraj:🔵62.0\n",
      "zoommine0423:🟡39.3\n",
      "studio_JD:🟠24.0\n",
      "PixelMangos:🟠30.2\n",
      "TonnelTonkla:🔴4.5\n",
      "100gnoo:🟠29.0\n",
      "O56IsHere:🔴15.0\n",
      "HAPPY27259:🔵67.7\n",
      "raka6792:🟠31.8\n",
      "dsastetmfvm:🔵71.0\n",
      "NovaGlyp:🟢52.0\n",
      "Not_short5151:🔴5.0\n",
      "GeorgeDroidMaxngFent:🔵82.0\n",
      "Nero_Kauko:🟠22.3\n",
      "wninju:🟢48.0\n",
      "CharIotteReis:🔵89.0\n",
      "hanker583:🔴1.0\n",
      "XxGusiolxX:🟢49.0\n",
      "aryafariziii160:🟢47.6\n",
      "ManfaceGod_q:🔴10.0\n",
      "keyfirealt:🔴15.0\n",
      "Lord_Emerald1:🟠20.7\n",
      "farishmueid:🟠31.0\n",
      "AMIRSPARSALAR:🔴13.0\n",
      "Cogus_0828:🟡40.8\n",
      "Idea:🔴14.0\n",
      "phangkaijiun:🟠31.0\n",
      "darkenians:🟢52.0\n",
      "Haloinqsss:🟡44.3\n",
      "hotdoges142:🟠28.0\n",
      "Shadow_bringer200:🟠27.0\n",
      "IceBlox_Officical:🟠21.5\n",
      "Cx_vt:🟡42.2\n",
      "ER_CHANGED:🟡36.0\n",
      "Sunfull1:🟡42.0\n",
      "Ferrum26_8:🔴11.0\n",
      "Chanseoni:🟢55.0\n",
      "PeterPlayZYoutube:🔴20.0\n",
      "Chloemay2930:🔴18.0\n",
      "BigBoiTrades96:🔵81.0\n",
      "poopoo19396:🟠30.0\n",
      "NothenInvicta:🔵73.0\n",
      "shield_4545:🟠25.5\n",
      "Skyler_Sentinal:🟢53.0\n",
      "David_Theusless:🟠30.9\n",
      "SANS00_SIXX:🔵57.0\n",
      "lnconvenience1:🟠21.0\n",
      "rttt_1234567:🟡42.0\n",
      "mahoney134:🔵66.0\n",
      "mikeysamsam:🟠27.0\n",
      "guyswanatem:🟠21.0\n",
      "pioluisconrado:🔴17.3\n",
      "Justin_Beber17:🟢51.0\n",
      "Iyuhaa:🟠24.0\n",
      "DiamondMarkDragon:🔴14.0\n",
      "1usyhd_good4:🔴16.0\n",
      "HiddenAjin:🟢53.0\n",
      "SHADOWARDEN:🟡37.0\n",
      "safe_tram:🟡37.0\n",
      "PekaRockRuff:🟢45.0\n",
      "Kunfah2012:🔴18.0\n",
      "JEJU_0P3RAT0R:🟢49.7\n",
      "Fight_Strategy:🟠32.0\n",
      "SGTjmtzy:🔴13.0\n",
      "Tejshun_gaming12:🟢50.0\n",
      "DaReal_Shradicle:🟡39.5\n",
      "Wancare:🟢49.0\n",
      "farooq7242:🟠21.0\n",
      "DecayingArmor:🟢46.0\n",
      "JimmyHenadezJunior:🔴4.0\n",
      "ToothlessXD123:🔵64.5\n",
      "haya201215:🔴6.0\n",
      "XD_zaTH:🔵57.0\n",
      "FellSawp:🟡38.0\n",
      "ICKATA2008:🔵78.0\n",
      "MAMAD_ALI8393:🔴11.0\n",
      "Governah5:🟠33.0\n",
      "igichchcj:🔴20.0\n",
      "Donnban_me:🟠32.0\n",
      "r4_bt:🟢48.0\n",
      "PhuyerThroned000:🔵71.0\n",
      "114514adlingyang:🟠32.0\n",
      "abigbadxmas3:🔵57.0\n",
      "CMDKMOMM:🟢47.0\n",
      "memeisgod1234567:🟠23.0\n"
     ]
    }
   ],
   "source": [
    "names = df[\"name\"].unique()\n",
    "for i in names:\n",
    "    find_avg_everyone = df[df[\"name\"] == i]\n",
    "    if find_avg_everyone['kills'].mean() <= 20:\n",
    "        print(f\"{i}:🔴{round(find_avg_everyone['kills'].mean(),1)}\")\n",
    "    elif find_avg_everyone['kills'].mean() < 35:\n",
    "        print(f\"{i}:🟠{round(find_avg_everyone['kills'].mean(),1)}\")\n",
    "    elif find_avg_everyone['kills'].mean() >= 35 and find_avg_everyone['kills'].mean() < 45:\n",
    "        print(f\"{i}:🟡{round(find_avg_everyone['kills'].mean(),1)}\")\n",
    "    elif find_avg_everyone['kills'].mean() >= 45 and find_avg_everyone['kills'].mean() <= 55:\n",
    "        print(f\"{i}:🟢{round(find_avg_everyone['kills'].mean(),1)}\")\n",
    "    elif find_avg_everyone['kills'].mean() >= 55:\n",
    "            print(f\"{i}:🔵{round(find_avg_everyone['kills'].mean(),1)}\")\n",
    "    else:\n",
    "        print(f\"{i}:❤️{round(find_avg_everyone['kills'].mean(),1)}\")\n",
    "        \n",
    "        \n",
    "        \n",
    " # Create a new csv file with the average kills,attandance and color code\n",
    " # hi spikey      \n",
    "        \n",
    "    \n",
    "with open(\"avg.csv\",\"w\",encoding='utf-8') as file:\n",
    "    file.write(\"color_code,name,avg,atd\\n\")\n",
    "    \n",
    "    for i in names:\n",
    "        attandace = df[df[\"name\"] == i].value_counts().sum()\n",
    "        find_avg_everyone = df[df[\"name\"] == i]\n",
    "        \n",
    "        if find_avg_everyone['kills'].mean() <= 20:\n",
    "            file.write(f\"🔴,{i},{round(find_avg_everyone['kills'].mean(),1)},{attandace}\\n\")\n",
    "            \n",
    "        elif find_avg_everyone['kills'].mean() < 35:\n",
    "            file.write(f\"🟠,{i},{round(find_avg_everyone['kills'].mean(),1)},{attandace}\\n\")\n",
    "            \n",
    "        elif find_avg_everyone['kills'].mean() >= 35 and find_avg_everyone['kills'].mean() < 45:\n",
    "            file.write(f\"🟡,{i},{round(find_avg_everyone['kills'].mean(),1)},{attandace}\\n\")\n",
    "            \n",
    "        elif find_avg_everyone['kills'].mean() >= 45 and find_avg_everyone['kills'].mean() <= 55:\n",
    "            file.write(f\"🟢,{i},{round(find_avg_everyone['kills'].mean(),1)},{attandace}\\n\")\n",
    "        elif find_avg_everyone['kills'].mean() >= 55:\n",
    "            file.write(f\"🔵,{i},{round(find_avg_everyone['kills'].mean(),1)},{attandace}\\n\")\n",
    "        else:\n",
    "            file.write(f\"🩷,{i},{round(find_avg_everyone['kills'].mean(),1)},{attandace}\\n\")\n",
    "            \n",
    "    #file.write(\"The meaning of the colors are:\\n :red_circle: = 0-20\\n :orange_circle: = 20-34\\n :yellow_circle: = 35-44\\n :green_circle: = 45-55\\n :blue_circle: = 56-100\")\n",
    "    \n",
    "    "
   ]
  },
  {
   "cell_type": "code",
   "execution_count": 16,
   "metadata": {},
   "outputs": [
    {
     "data": {
      "application/vnd.microsoft.datawrangler.viewer.v0+json": {
       "columns": [
        {
         "name": "index",
         "rawType": "int64",
         "type": "integer"
        },
        {
         "name": "color_code",
         "rawType": "object",
         "type": "string"
        },
        {
         "name": "name",
         "rawType": "object",
         "type": "string"
        },
        {
         "name": "avg",
         "rawType": "float64",
         "type": "float"
        },
        {
         "name": "atd",
         "rawType": "int64",
         "type": "integer"
        }
       ],
       "conversionMethod": "pd.DataFrame",
       "ref": "72cf6734-87b5-43ce-b1ae-6c721313c91b",
       "rows": [
        [
         "0",
         "🟠",
         "anathaliakdc",
         "31.7",
         "37"
        ],
        [
         "1",
         "🟠",
         "pancake_w1",
         "33.7",
         "31"
        ],
        [
         "2",
         "🟡",
         "KisarakiTH",
         "36.2",
         "6"
        ],
        [
         "3",
         "🟡",
         "GGXDArusha",
         "39.7",
         "25"
        ],
        [
         "4",
         "🟡",
         "ckpoa20",
         "36.9",
         "19"
        ],
        [
         "5",
         "🟠",
         "Morristte",
         "30.0",
         "4"
        ],
        [
         "6",
         "🟡",
         "jiajun129",
         "37.2",
         "20"
        ],
        [
         "7",
         "🟠",
         "GRADE4092",
         "27.0",
         "5"
        ],
        [
         "8",
         "🔵",
         "pensmen",
         "56.8",
         "23"
        ],
        [
         "9",
         "🔵",
         "burnfield1k22",
         "64.0",
         "16"
        ],
        [
         "10",
         "🟡",
         "FrailBailen",
         "40.0",
         "22"
        ],
        [
         "11",
         "🔵",
         "SeaV1per1224",
         "65.7",
         "21"
        ],
        [
         "12",
         "🟢",
         "spikey_001",
         "45.3",
         "36"
        ],
        [
         "13",
         "🟡",
         "chickenkampong",
         "41.9",
         "28"
        ],
        [
         "14",
         "🔵",
         "Zweihvnders",
         "80.1",
         "7"
        ],
        [
         "15",
         "🟡",
         "MarionnJames2307",
         "39.2",
         "6"
        ],
        [
         "16",
         "🟠",
         "Dawnftb",
         "33.1",
         "52"
        ],
        [
         "17",
         "🔵",
         "aphexic",
         "77.0",
         "4"
        ],
        [
         "18",
         "🔵",
         "polkomgyy44",
         "56.5",
         "34"
        ],
        [
         "19",
         "🟡",
         "gyftfdko",
         "44.4",
         "10"
        ],
        [
         "20",
         "🟠",
         "Bababooooooeydude",
         "32.0",
         "2"
        ],
        [
         "21",
         "🔴",
         "Zombisho",
         "7.0",
         "2"
        ],
        [
         "22",
         "🟡",
         "encik_Faris",
         "37.1",
         "7"
        ],
        [
         "23",
         "🟡",
         "kylemanike",
         "44.8",
         "14"
        ],
        [
         "24",
         "🔵",
         "TheHeirToZimbabwe",
         "103.0",
         "1"
        ],
        [
         "25",
         "🟠",
         "mahanprogamer3",
         "24.0",
         "1"
        ],
        [
         "26",
         "🔴",
         "J4oxXD",
         "13.0",
         "1"
        ],
        [
         "27",
         "🟠",
         "Luqman_indo",
         "30.1",
         "27"
        ],
        [
         "28",
         "🟠",
         "Mitzuki525",
         "21.5",
         "4"
        ],
        [
         "29",
         "🟠",
         "aarondanish2015",
         "25.2",
         "4"
        ],
        [
         "30",
         "🟡",
         "Jok_jok1234",
         "38.0",
         "6"
        ],
        [
         "31",
         "🟠",
         "spartansudais14",
         "24.5",
         "2"
        ],
        [
         "32",
         "🔴",
         "KJ",
         "2.0",
         "1"
        ],
        [
         "33",
         "🔵",
         "Vreckthiq",
         "97.0",
         "1"
        ],
        [
         "34",
         "🟡",
         "jamesplayztv1",
         "44.7",
         "32"
        ],
        [
         "35",
         "🔵",
         "Mitsubira_Aratoshi",
         "70.1",
         "23"
        ],
        [
         "36",
         "🟠",
         "bubmlpants",
         "28.0",
         "1"
        ],
        [
         "37",
         "🟡",
         "theDogeboiiz",
         "44.2",
         "10"
        ],
        [
         "38",
         "🟢",
         "Indonesia_ofMalaysia",
         "48.0",
         "21"
        ],
        [
         "39",
         "🟠",
         "Zedifix",
         "28.0",
         "2"
        ],
        [
         "40",
         "🟠",
         "SireHalo",
         "31.7",
         "10"
        ],
        [
         "41",
         "🟠",
         "gerardanthony22",
         "28.2",
         "6"
        ],
        [
         "42",
         "🟡",
         "Ikaraduck",
         "44.0",
         "1"
        ],
        [
         "43",
         "🟡",
         "nickthegodrider1289",
         "44.8",
         "42"
        ],
        [
         "44",
         "🔵",
         "Oscarchoyzy24",
         "65.4",
         "38"
        ],
        [
         "45",
         "🟠",
         "FreSlothK",
         "30.5",
         "2"
        ],
        [
         "46",
         "🟠",
         "rukaminop",
         "24.0",
         "1"
        ],
        [
         "47",
         "🟢",
         "mralex111012",
         "51.0",
         "1"
        ],
        [
         "48",
         "🔵",
         "jgwen19",
         "55.1",
         "30"
        ],
        [
         "49",
         "🟡",
         "Chiofries",
         "41.0",
         "1"
        ]
       ],
       "shape": {
        "columns": 4,
        "rows": 282
       }
      },
      "text/html": [
       "<div>\n",
       "<style scoped>\n",
       "    .dataframe tbody tr th:only-of-type {\n",
       "        vertical-align: middle;\n",
       "    }\n",
       "\n",
       "    .dataframe tbody tr th {\n",
       "        vertical-align: top;\n",
       "    }\n",
       "\n",
       "    .dataframe thead th {\n",
       "        text-align: right;\n",
       "    }\n",
       "</style>\n",
       "<table border=\"1\" class=\"dataframe\">\n",
       "  <thead>\n",
       "    <tr style=\"text-align: right;\">\n",
       "      <th></th>\n",
       "      <th>color_code</th>\n",
       "      <th>name</th>\n",
       "      <th>avg</th>\n",
       "      <th>atd</th>\n",
       "    </tr>\n",
       "  </thead>\n",
       "  <tbody>\n",
       "    <tr>\n",
       "      <th>0</th>\n",
       "      <td>🟠</td>\n",
       "      <td>anathaliakdc</td>\n",
       "      <td>31.7</td>\n",
       "      <td>37</td>\n",
       "    </tr>\n",
       "    <tr>\n",
       "      <th>1</th>\n",
       "      <td>🟠</td>\n",
       "      <td>pancake_w1</td>\n",
       "      <td>33.7</td>\n",
       "      <td>31</td>\n",
       "    </tr>\n",
       "    <tr>\n",
       "      <th>2</th>\n",
       "      <td>🟡</td>\n",
       "      <td>KisarakiTH</td>\n",
       "      <td>36.2</td>\n",
       "      <td>6</td>\n",
       "    </tr>\n",
       "    <tr>\n",
       "      <th>3</th>\n",
       "      <td>🟡</td>\n",
       "      <td>GGXDArusha</td>\n",
       "      <td>39.7</td>\n",
       "      <td>25</td>\n",
       "    </tr>\n",
       "    <tr>\n",
       "      <th>4</th>\n",
       "      <td>🟡</td>\n",
       "      <td>ckpoa20</td>\n",
       "      <td>36.9</td>\n",
       "      <td>19</td>\n",
       "    </tr>\n",
       "    <tr>\n",
       "      <th>...</th>\n",
       "      <td>...</td>\n",
       "      <td>...</td>\n",
       "      <td>...</td>\n",
       "      <td>...</td>\n",
       "    </tr>\n",
       "    <tr>\n",
       "      <th>277</th>\n",
       "      <td>🔵</td>\n",
       "      <td>PhuyerThroned000</td>\n",
       "      <td>71.0</td>\n",
       "      <td>1</td>\n",
       "    </tr>\n",
       "    <tr>\n",
       "      <th>278</th>\n",
       "      <td>🟠</td>\n",
       "      <td>114514adlingyang</td>\n",
       "      <td>32.0</td>\n",
       "      <td>1</td>\n",
       "    </tr>\n",
       "    <tr>\n",
       "      <th>279</th>\n",
       "      <td>🔵</td>\n",
       "      <td>abigbadxmas3</td>\n",
       "      <td>57.0</td>\n",
       "      <td>1</td>\n",
       "    </tr>\n",
       "    <tr>\n",
       "      <th>280</th>\n",
       "      <td>🟢</td>\n",
       "      <td>CMDKMOMM</td>\n",
       "      <td>47.0</td>\n",
       "      <td>1</td>\n",
       "    </tr>\n",
       "    <tr>\n",
       "      <th>281</th>\n",
       "      <td>🟠</td>\n",
       "      <td>memeisgod1234567</td>\n",
       "      <td>23.0</td>\n",
       "      <td>1</td>\n",
       "    </tr>\n",
       "  </tbody>\n",
       "</table>\n",
       "<p>282 rows × 4 columns</p>\n",
       "</div>"
      ],
      "text/plain": [
       "    color_code              name   avg  atd\n",
       "0            🟠      anathaliakdc  31.7   37\n",
       "1            🟠        pancake_w1  33.7   31\n",
       "2            🟡        KisarakiTH  36.2    6\n",
       "3            🟡        GGXDArusha  39.7   25\n",
       "4            🟡           ckpoa20  36.9   19\n",
       "..         ...               ...   ...  ...\n",
       "277          🔵  PhuyerThroned000  71.0    1\n",
       "278          🟠  114514adlingyang  32.0    1\n",
       "279          🔵      abigbadxmas3  57.0    1\n",
       "280          🟢          CMDKMOMM  47.0    1\n",
       "281          🟠  memeisgod1234567  23.0    1\n",
       "\n",
       "[282 rows x 4 columns]"
      ]
     },
     "execution_count": 16,
     "metadata": {},
     "output_type": "execute_result"
    }
   ],
   "source": [
    "df2 = pd.read_csv('avg.csv')\n",
    "df2"
   ]
  },
  {
   "cell_type": "code",
   "execution_count": 17,
   "metadata": {},
   "outputs": [],
   "source": [
    "df2.sort_values(ascending=False,by=\"avg\").to_csv(\"avg2.csv\",index=False)"
   ]
  },
  {
   "cell_type": "code",
   "execution_count": 18,
   "metadata": {},
   "outputs": [],
   "source": [
    "with open(\"avg2.csv\",\"a+\",encoding=\"utf-8\") as file:\n",
    "    file.write(\"The meaning of the colors are:\\n 🔴 = 0-20\\n 🟠 = 20-34\\n 🟡 = 35-44\\n 🟢 = 45-55\\n 🔵 = 56-100\")"
   ]
  },
  {
   "cell_type": "code",
   "execution_count": 20,
   "metadata": {},
   "outputs": [],
   "source": [
    "df2[\"color_code\"].value_counts()\n",
    "with open(\"kda_info.csv\",\"w+\",encoding=\"utf-8\") as file:\n",
    "    file.write(df2[\"color_code\"].value_counts().to_string())"
   ]
  },
  {
   "cell_type": "code",
   "execution_count": null,
   "metadata": {},
   "outputs": [],
   "source": [
    "test = df2[df2[\"atd\"] >= 10]\n",
    "test.sort_values(ascending=False,by=\"avg\").to_csv(\"full.csv\",index=False)"
   ]
  }
 ],
 "metadata": {
  "kernelspec": {
   "display_name": "Python 3",
   "language": "python",
   "name": "python3"
  },
  "language_info": {
   "codemirror_mode": {
    "name": "ipython",
    "version": 3
   },
   "file_extension": ".py",
   "mimetype": "text/x-python",
   "name": "python",
   "nbconvert_exporter": "python",
   "pygments_lexer": "ipython3",
   "version": "3.11.9"
  }
 },
 "nbformat": 4,
 "nbformat_minor": 2
}
