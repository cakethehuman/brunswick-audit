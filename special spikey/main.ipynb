{
 "cells": [
  {
   "cell_type": "code",
   "execution_count": 34,
   "metadata": {},
   "outputs": [],
   "source": [
    "import pandas as pd\n",
    "import numpy as np\n",
    "import matplotlib.pyplot as plt\n",
    "import seaborn as sns\n",
    "import scipy.stats as stats"
   ]
  },
  {
   "cell_type": "markdown",
   "metadata": {},
   "source": [
    "# We read the data first"
   ]
  },
  {
   "cell_type": "code",
   "execution_count": 35,
   "metadata": {},
   "outputs": [],
   "source": [
    "df = pd.read_csv('spikey_Data.csv')"
   ]
  },
  {
   "cell_type": "code",
   "execution_count": 36,
   "metadata": {},
   "outputs": [
    {
     "data": {
      "application/vnd.microsoft.datawrangler.viewer.v0+json": {
       "columns": [
        {
         "name": "index",
         "rawType": "int64",
         "type": "integer"
        },
        {
         "name": "name",
         "rawType": "object",
         "type": "string"
        },
        {
         "name": "kills",
         "rawType": "int64",
         "type": "integer"
        },
        {
         "name": "date",
         "rawType": "object",
         "type": "string"
        }
       ],
       "conversionMethod": "pd.DataFrame",
       "ref": "d1f09c08-dc6c-487d-80b7-684fafe1cc71",
       "rows": [
        [
         "0",
         "SeaV1per1224",
         "83",
         "20205-02-16"
        ],
        [
         "1",
         "pancake_w1",
         "33",
         "20205-02-16"
        ],
        [
         "2",
         "Kangcheon24",
         "30",
         "20205-02-16"
        ],
        [
         "3",
         "spikey_001",
         "47",
         "20205-02-16"
        ],
        [
         "4",
         "chickenkampong",
         "57",
         "20205-02-16"
        ],
        [
         "5",
         "anathaliakdc",
         "32",
         "20205-02-16"
        ],
        [
         "6",
         "Indonesia_ofMalaysia",
         "40",
         "20205-02-16"
        ],
        [
         "7",
         "nickthegodrider1289",
         "53",
         "20205-02-16"
        ],
        [
         "8",
         "Dawnftb",
         "26",
         "20205-02-16"
        ],
        [
         "9",
         "Mitsubira_Aratoshi",
         "78",
         "20205-02-16"
        ],
        [
         "10",
         "jgwen19",
         "64",
         "20205-02-16"
        ],
        [
         "11",
         "SireHalo",
         "53",
         "20205-02-16"
        ],
        [
         "12",
         "ConesOdebrecht",
         "89",
         "20205-02-16"
        ],
        [
         "13",
         "jellyy112345",
         "35",
         "20205-02-16"
        ],
        [
         "14",
         "jesterproandnoob",
         "34",
         "20205-02-16"
        ],
        [
         "15",
         "eiltene123",
         "52",
         "20205-02-16"
        ],
        [
         "16",
         "mrflipsflapz",
         "53",
         "20205-02-16"
        ],
        [
         "17",
         "HarArkhichen",
         "31",
         "20205-02-16"
        ],
        [
         "18",
         "jiajun129",
         "56",
         "20205-02-16"
        ],
        [
         "19",
         "diwdwoa",
         "72",
         "20205-02-16"
        ],
        [
         "20",
         "GGXDArusha",
         "46",
         "20205-02-16"
        ],
        [
         "21",
         "KusakabeMisaoMyWaifu",
         "53",
         "20205-02-16"
        ],
        [
         "22",
         "Oscarchoyzy24",
         "83",
         "20205-02-16"
        ],
        [
         "23",
         "FrailBailen",
         "31",
         "20205-02-16"
        ],
        [
         "24",
         "polkomgyy44",
         "52",
         "20205-02-16"
        ],
        [
         "25",
         "Kazuyuki_Owen",
         "64",
         "20205-02-16"
        ],
        [
         "26",
         "studio_JD",
         "24",
         "20205-02-16"
        ],
        [
         "27",
         "Xernicus",
         "32",
         "20205-02-16"
        ],
        [
         "28",
         "PixelMangos",
         "32",
         "20205-02-16"
        ],
        [
         "29",
         "zoommine0423",
         "49",
         "20205-02-16"
        ],
        [
         "30",
         "TonnelTonkla",
         "4",
         "20205-02-16"
        ],
        [
         "31",
         "100gnoo",
         "29",
         "20205-02-16"
        ],
        [
         "32",
         "chanmeme1",
         "47",
         "20205-02-16"
        ],
        [
         "33",
         "5xmars",
         "89",
         "20205-02-16"
        ],
        [
         "34",
         "Luqman_indo",
         "32",
         "20205-02-16"
        ],
        [
         "35",
         "TomMiaorblx",
         "33",
         "2025-02-15"
        ],
        [
         "36",
         "polskathebestkraj",
         "62",
         "2025-02-15"
        ],
        [
         "37",
         "SeaV1per1224",
         "62",
         "2025-02-15"
        ],
        [
         "38",
         "jellyy112345",
         "55",
         "2025-02-15"
        ],
        [
         "39",
         "jesterproandnoob",
         "45",
         "2025-02-15"
        ],
        [
         "40",
         "Dawnftb",
         "16",
         "2025-02-15"
        ],
        [
         "41",
         "Oscarchoyzy24",
         "79",
         "2025-02-15"
        ],
        [
         "42",
         "cn191981",
         "39",
         "2025-02-15"
        ],
        [
         "43",
         "spikey_001",
         "41",
         "2025-02-15"
        ],
        [
         "44",
         "nickthegodrider1289",
         "55",
         "2025-02-15"
        ],
        [
         "45",
         "jiajun129",
         "46",
         "2025-02-15"
        ],
        [
         "46",
         "Xernicus",
         "64",
         "2025-02-15"
        ],
        [
         "47",
         "ckpoa20",
         "37",
         "2025-02-15"
        ],
        [
         "48",
         "chanmeme1",
         "42",
         "2025-02-15"
        ],
        [
         "49",
         "pensmen",
         "44",
         "2025-02-15"
        ]
       ],
       "shape": {
        "columns": 3,
        "rows": 199
       }
      },
      "text/html": [
       "<div>\n",
       "<style scoped>\n",
       "    .dataframe tbody tr th:only-of-type {\n",
       "        vertical-align: middle;\n",
       "    }\n",
       "\n",
       "    .dataframe tbody tr th {\n",
       "        vertical-align: top;\n",
       "    }\n",
       "\n",
       "    .dataframe thead th {\n",
       "        text-align: right;\n",
       "    }\n",
       "</style>\n",
       "<table border=\"1\" class=\"dataframe\">\n",
       "  <thead>\n",
       "    <tr style=\"text-align: right;\">\n",
       "      <th></th>\n",
       "      <th>name</th>\n",
       "      <th>kills</th>\n",
       "      <th>date</th>\n",
       "    </tr>\n",
       "  </thead>\n",
       "  <tbody>\n",
       "    <tr>\n",
       "      <th>0</th>\n",
       "      <td>SeaV1per1224</td>\n",
       "      <td>83</td>\n",
       "      <td>20205-02-16</td>\n",
       "    </tr>\n",
       "    <tr>\n",
       "      <th>1</th>\n",
       "      <td>pancake_w1</td>\n",
       "      <td>33</td>\n",
       "      <td>20205-02-16</td>\n",
       "    </tr>\n",
       "    <tr>\n",
       "      <th>2</th>\n",
       "      <td>Kangcheon24</td>\n",
       "      <td>30</td>\n",
       "      <td>20205-02-16</td>\n",
       "    </tr>\n",
       "    <tr>\n",
       "      <th>3</th>\n",
       "      <td>spikey_001</td>\n",
       "      <td>47</td>\n",
       "      <td>20205-02-16</td>\n",
       "    </tr>\n",
       "    <tr>\n",
       "      <th>4</th>\n",
       "      <td>chickenkampong</td>\n",
       "      <td>57</td>\n",
       "      <td>20205-02-16</td>\n",
       "    </tr>\n",
       "    <tr>\n",
       "      <th>...</th>\n",
       "      <td>...</td>\n",
       "      <td>...</td>\n",
       "      <td>...</td>\n",
       "    </tr>\n",
       "    <tr>\n",
       "      <th>194</th>\n",
       "      <td>FrailBailen</td>\n",
       "      <td>70</td>\n",
       "      <td>2025-02-11</td>\n",
       "    </tr>\n",
       "    <tr>\n",
       "      <th>195</th>\n",
       "      <td>jamesplayztv1</td>\n",
       "      <td>57</td>\n",
       "      <td>2025-02-11</td>\n",
       "    </tr>\n",
       "    <tr>\n",
       "      <th>196</th>\n",
       "      <td>KisarakiTH</td>\n",
       "      <td>46</td>\n",
       "      <td>2025-02-11</td>\n",
       "    </tr>\n",
       "    <tr>\n",
       "      <th>197</th>\n",
       "      <td>kylemanike</td>\n",
       "      <td>67</td>\n",
       "      <td>2025-02-11</td>\n",
       "    </tr>\n",
       "    <tr>\n",
       "      <th>198</th>\n",
       "      <td>nickthegodrider1289</td>\n",
       "      <td>60</td>\n",
       "      <td>2025-02-11</td>\n",
       "    </tr>\n",
       "  </tbody>\n",
       "</table>\n",
       "<p>199 rows × 3 columns</p>\n",
       "</div>"
      ],
      "text/plain": [
       "                    name  kills         date\n",
       "0           SeaV1per1224     83  20205-02-16\n",
       "1             pancake_w1     33  20205-02-16\n",
       "2            Kangcheon24     30  20205-02-16\n",
       "3             spikey_001     47  20205-02-16\n",
       "4         chickenkampong     57  20205-02-16\n",
       "..                   ...    ...          ...\n",
       "194          FrailBailen     70   2025-02-11\n",
       "195        jamesplayztv1     57   2025-02-11\n",
       "196           KisarakiTH     46   2025-02-11\n",
       "197           kylemanike     67   2025-02-11\n",
       "198  nickthegodrider1289     60   2025-02-11\n",
       "\n",
       "[199 rows x 3 columns]"
      ]
     },
     "execution_count": 36,
     "metadata": {},
     "output_type": "execute_result"
    }
   ],
   "source": [
    "df"
   ]
  },
  {
   "cell_type": "markdown",
   "metadata": {},
   "source": [
    "# Top 10 attandence all time"
   ]
  },
  {
   "cell_type": "code",
   "execution_count": 37,
   "metadata": {},
   "outputs": [
    {
     "data": {
      "image/png": "[encoded data removed]",
      "text/plain": [
       "<Figure size 640x480 with 1 Axes>"
      ]
     },
     "metadata": {},
     "output_type": "display_data"
    }
   ],
   "source": [
    "df[\"name\"].value_counts().nlargest(10).plot(kind='bar',colormap='viridis')\n",
    "plt.title(\"Attendance by Name\")\n",
    "plt.xlabel(\"Name\")\n",
    "plt.ylabel(\"Attendance\")\n",
    "plt.show()"
   ]
  },
  {
   "cell_type": "markdown",
   "metadata": {},
   "source": [
    "# avg attadance"
   ]
  },
  {
   "cell_type": "code",
   "execution_count": 38,
   "metadata": {},
   "outputs": [
    {
     "data": {
      "text/plain": [
       "3"
      ]
     },
     "execution_count": 38,
     "metadata": {},
     "output_type": "execute_result"
    }
   ],
   "source": [
    "round(df[\"name\"].value_counts().mean())"
   ]
  },
  {
   "cell_type": "markdown",
   "metadata": {},
   "source": [
    "# find there attadance"
   ]
  },
  {
   "cell_type": "code",
   "execution_count": 39,
   "metadata": {},
   "outputs": [
    {
     "data": {
      "application/vnd.microsoft.datawrangler.viewer.v0+json": {
       "columns": [
        {
         "name": "index",
         "rawType": "int64",
         "type": "integer"
        },
        {
         "name": "name",
         "rawType": "object",
         "type": "string"
        },
        {
         "name": "kills",
         "rawType": "int64",
         "type": "integer"
        },
        {
         "name": "date",
         "rawType": "object",
         "type": "string"
        }
       ],
       "conversionMethod": "pd.DataFrame",
       "ref": "e323563c-b7b1-46bd-9325-b2bdd8993051",
       "rows": [
        [
         "16",
         "mrflipsflapz",
         "53",
         "20205-02-16"
        ],
        [
         "123",
         "mrflipsflapz",
         "50",
         "2025-02-13"
        ],
        [
         "142",
         "mrflipsflapz",
         "49",
         "2025-02-12"
        ],
        [
         "176",
         "mrflipsflapz",
         "59",
         "2025-02-11"
        ]
       ],
       "shape": {
        "columns": 3,
        "rows": 4
       }
      },
      "text/html": [
       "<div>\n",
       "<style scoped>\n",
       "    .dataframe tbody tr th:only-of-type {\n",
       "        vertical-align: middle;\n",
       "    }\n",
       "\n",
       "    .dataframe tbody tr th {\n",
       "        vertical-align: top;\n",
       "    }\n",
       "\n",
       "    .dataframe thead th {\n",
       "        text-align: right;\n",
       "    }\n",
       "</style>\n",
       "<table border=\"1\" class=\"dataframe\">\n",
       "  <thead>\n",
       "    <tr style=\"text-align: right;\">\n",
       "      <th></th>\n",
       "      <th>name</th>\n",
       "      <th>kills</th>\n",
       "      <th>date</th>\n",
       "    </tr>\n",
       "  </thead>\n",
       "  <tbody>\n",
       "    <tr>\n",
       "      <th>16</th>\n",
       "      <td>mrflipsflapz</td>\n",
       "      <td>53</td>\n",
       "      <td>20205-02-16</td>\n",
       "    </tr>\n",
       "    <tr>\n",
       "      <th>123</th>\n",
       "      <td>mrflipsflapz</td>\n",
       "      <td>50</td>\n",
       "      <td>2025-02-13</td>\n",
       "    </tr>\n",
       "    <tr>\n",
       "      <th>142</th>\n",
       "      <td>mrflipsflapz</td>\n",
       "      <td>49</td>\n",
       "      <td>2025-02-12</td>\n",
       "    </tr>\n",
       "    <tr>\n",
       "      <th>176</th>\n",
       "      <td>mrflipsflapz</td>\n",
       "      <td>59</td>\n",
       "      <td>2025-02-11</td>\n",
       "    </tr>\n",
       "  </tbody>\n",
       "</table>\n",
       "</div>"
      ],
      "text/plain": [
       "             name  kills         date\n",
       "16   mrflipsflapz     53  20205-02-16\n",
       "123  mrflipsflapz     50   2025-02-13\n",
       "142  mrflipsflapz     49   2025-02-12\n",
       "176  mrflipsflapz     59   2025-02-11"
      ]
     },
     "execution_count": 39,
     "metadata": {},
     "output_type": "execute_result"
    }
   ],
   "source": [
    "df[df['name'] == \"mrflipsflapz\"]\n"
   ]
  },
  {
   "cell_type": "markdown",
   "metadata": {},
   "source": [
    "# attadance for 1 week that is x >= 3\n",
    "\n"
   ]
  },
  {
   "cell_type": "code",
   "execution_count": 40,
   "metadata": {},
   "outputs": [
    {
     "data": {
      "text/plain": [
       "name\n",
       "nickthegodrider1289     True\n",
       "anathaliakdc            True\n",
       "Dawnftb                 True\n",
       "FrailBailen             True\n",
       "Oscarchoyzy24           True\n",
       "Xernicus                True\n",
       "GGXDArusha              True\n",
       "spikey_001              True\n",
       "jiajun129               True\n",
       "Kazuyuki_Owen           True\n",
       "chanmeme1               True\n",
       "jgwen19                 True\n",
       "Luqman_indo             True\n",
       "SeaV1per1224            True\n",
       "Indonesia_ofMalaysia    True\n",
       "chickenkampong          True\n",
       "Kangcheon24             True\n",
       "kite_167                True\n",
       "mrflipsflapz            True\n",
       "pensmen                 True\n",
       "jamesplayztv1           True\n",
       "commander_cookie1234    True\n",
       "kylemanike              True\n",
       "pancake_w1              True\n",
       "KusakabeMisaoMyWaifu    True\n",
       "jesterproandnoob        True\n",
       "jellyy112345            True\n",
       "HarArkhichen            True\n",
       "polkomgyy44             True\n",
       "ckpoa20                 True\n",
       "cn191981                True\n",
       "ConesOdebrecht          True\n",
       "Mitsubira_Aratoshi      True\n",
       "Gariksz                 True\n",
       "eiltene123              True\n",
       "jayneeddollar           True\n",
       "kf21rotc2               True\n",
       "Name: count, dtype: bool"
      ]
     },
     "execution_count": 40,
     "metadata": {},
     "output_type": "execute_result"
    }
   ],
   "source": [
    "check_attadance = df[\"name\"].value_counts() >= 3\n",
    "check_attadance.map({True: 1, False: 0})\n",
    "check_attadance[check_attadance == 1]\n"
   ]
  },
  {
   "cell_type": "markdown",
   "metadata": {},
   "source": [
    "# Historigram for kills "
   ]
  },
  {
   "cell_type": "code",
   "execution_count": 41,
   "metadata": {},
   "outputs": [
    {
     "data": {
      "image/png": "[encoded data removed]",
      "text/plain": [
       "<Figure size 640x480 with 1 Axes>"
      ]
     },
     "metadata": {},
     "output_type": "display_data"
    }
   ],
   "source": [
    "\n",
    "\n",
    "plt.hist(df[\"kills\"], bins=15, color='green', edgecolor='black')\n",
    "\n",
    "plt.title(\"finding the average kills\")\n",
    "plt.plot()\n",
    "plt.show()"
   ]
  },
  {
   "cell_type": "code",
   "execution_count": 42,
   "metadata": {},
   "outputs": [
    {
     "name": "stdout",
     "output_type": "stream",
     "text": [
      "The average kills for everyone is:  45\n"
     ]
    }
   ],
   "source": [
    "avg_kills_everyone = df[\"kills\"].mean()\n",
    "print(\"The average kills for everyone is: \", round(avg_kills_everyone))"
   ]
  },
  {
   "cell_type": "markdown",
   "metadata": {},
   "source": [
    "# There top 5 kills each person"
   ]
  },
  {
   "cell_type": "code",
   "execution_count": 43,
   "metadata": {},
   "outputs": [
    {
     "name": "stdout",
     "output_type": "stream",
     "text": [
      "46.0\n"
     ]
    },
    {
     "data": {
      "image/png": "[encoded data removed]",
      "text/plain": [
       "<Figure size 640x480 with 1 Axes>"
      ]
     },
     "metadata": {},
     "output_type": "display_data"
    }
   ],
   "source": [
    "find_avg = df[df[\"name\"] == \"jellyy112345\"]\n",
    "#you can put anyname \n",
    "print(find_avg[\"kills\"].mean())\n",
    "\n",
    "number_sort = find_avg[\"kills\"].sort_values(ascending=False)\n",
    "\n",
    "plt.bar(find_avg.sort_values(ascending=False, by=\"kills\")[\"date\"], find_avg[\"kills\"].sort_values(ascending=False), color='black')\n",
    "\n",
    "\n",
    "        \n",
    "plt.title(f\"Kills by Date by {find_avg['name'].iloc[0]}\")\n",
    "plt.xticks(rotation=90)\n",
    "plt.xlabel(\"Date\")\n",
    "plt.ylabel(\"Kills\")\n",
    "plt.show()"
   ]
  },
  {
   "cell_type": "code",
   "execution_count": 44,
   "metadata": {},
   "outputs": [
    {
     "data": {
      "application/vnd.microsoft.datawrangler.viewer.v0+json": {
       "columns": [
        {
         "name": "index",
         "rawType": "int64",
         "type": "integer"
        },
        {
         "name": "name",
         "rawType": "object",
         "type": "string"
        },
        {
         "name": "kills",
         "rawType": "int64",
         "type": "integer"
        },
        {
         "name": "date",
         "rawType": "object",
         "type": "string"
        }
       ],
       "conversionMethod": "pd.DataFrame",
       "ref": "e315d032-ff97-416a-b976-34d0b93e1688",
       "rows": [
        [
         "13",
         "jellyy112345",
         "35",
         "20205-02-16"
        ],
        [
         "38",
         "jellyy112345",
         "55",
         "2025-02-15"
        ],
        [
         "84",
         "jellyy112345",
         "48",
         "2025-02-14"
        ]
       ],
       "shape": {
        "columns": 3,
        "rows": 3
       }
      },
      "text/html": [
       "<div>\n",
       "<style scoped>\n",
       "    .dataframe tbody tr th:only-of-type {\n",
       "        vertical-align: middle;\n",
       "    }\n",
       "\n",
       "    .dataframe tbody tr th {\n",
       "        vertical-align: top;\n",
       "    }\n",
       "\n",
       "    .dataframe thead th {\n",
       "        text-align: right;\n",
       "    }\n",
       "</style>\n",
       "<table border=\"1\" class=\"dataframe\">\n",
       "  <thead>\n",
       "    <tr style=\"text-align: right;\">\n",
       "      <th></th>\n",
       "      <th>name</th>\n",
       "      <th>kills</th>\n",
       "      <th>date</th>\n",
       "    </tr>\n",
       "  </thead>\n",
       "  <tbody>\n",
       "    <tr>\n",
       "      <th>13</th>\n",
       "      <td>jellyy112345</td>\n",
       "      <td>35</td>\n",
       "      <td>20205-02-16</td>\n",
       "    </tr>\n",
       "    <tr>\n",
       "      <th>38</th>\n",
       "      <td>jellyy112345</td>\n",
       "      <td>55</td>\n",
       "      <td>2025-02-15</td>\n",
       "    </tr>\n",
       "    <tr>\n",
       "      <th>84</th>\n",
       "      <td>jellyy112345</td>\n",
       "      <td>48</td>\n",
       "      <td>2025-02-14</td>\n",
       "    </tr>\n",
       "  </tbody>\n",
       "</table>\n",
       "</div>"
      ],
      "text/plain": [
       "            name  kills         date\n",
       "13  jellyy112345     35  20205-02-16\n",
       "38  jellyy112345     55   2025-02-15\n",
       "84  jellyy112345     48   2025-02-14"
      ]
     },
     "execution_count": 44,
     "metadata": {},
     "output_type": "execute_result"
    }
   ],
   "source": [
    "df[df[\"name\"] == \"jellyy112345\"]"
   ]
  },
  {
   "cell_type": "markdown",
   "metadata": {},
   "source": [
    "# everyone avg"
   ]
  },
  {
   "cell_type": "code",
   "execution_count": 45,
   "metadata": {},
   "outputs": [
    {
     "name": "stdout",
     "output_type": "stream",
     "text": [
      "SeaV1per1224 have avg 68 kills\n",
      "pancake_w1 have avg 33 kills\n",
      "Kangcheon24 have avg 58 kills\n",
      "spikey_001 have avg 38 kills\n",
      "chickenkampong have avg 48 kills\n",
      "anathaliakdc have avg 31 kills\n",
      "Indonesia_ofMalaysia have avg 46 kills\n",
      "nickthegodrider1289 have avg 50 kills\n",
      "Dawnftb have avg 30 kills\n",
      "Mitsubira_Aratoshi have avg 72 kills\n",
      "jgwen19 have avg 63 kills\n",
      "SireHalo have avg 48 kills\n",
      "ConesOdebrecht have avg 77 kills\n",
      "jellyy112345 have avg 46 kills\n",
      "jesterproandnoob have avg 35 kills\n",
      "eiltene123 have avg 43 kills\n",
      "mrflipsflapz have avg 53 kills\n",
      "HarArkhichen have avg 51 kills\n",
      "jiajun129 have avg 39 kills\n",
      "diwdwoa have avg 72 kills\n",
      "GGXDArusha have avg 42 kills\n",
      "KusakabeMisaoMyWaifu have avg 43 kills\n",
      "Oscarchoyzy24 have avg 58 kills\n",
      "FrailBailen have avg 49 kills\n",
      "polkomgyy44 have avg 53 kills\n",
      "Kazuyuki_Owen have avg 58 kills\n",
      "studio_JD have avg 24 kills\n",
      "Xernicus have avg 50 kills\n",
      "PixelMangos have avg 32 kills\n",
      "zoommine0423 have avg 48 kills\n",
      "TonnelTonkla have avg 4 kills\n",
      "100gnoo have avg 29 kills\n",
      "chanmeme1 have avg 47 kills\n",
      "5xmars have avg 78 kills\n",
      "Luqman_indo have avg 23 kills\n",
      "TomMiaorblx have avg 33 kills\n",
      "polskathebestkraj have avg 62 kills\n",
      "cn191981 have avg 28 kills\n",
      "ckpoa20 have avg 30 kills\n",
      "pensmen have avg 46 kills\n",
      "jamesplayztv1 have avg 42 kills\n",
      "Gariksz have avg 61 kills\n",
      "HoundVonSurrey have avg 50 kills\n",
      "ViktorInvicta have avg 65 kills\n",
      "SupremeDom5162 have avg 30 kills\n",
      "Proxy_x5 have avg 44 kills\n",
      "CommanderHikari have avg 41 kills\n",
      "MrDerps124 have avg 68 kills\n",
      "MarioUlici200702 have avg 66 kills\n",
      "kf21rotc2 have avg 12 kills\n",
      "kylemanike have avg 39 kills\n",
      "commander_cookie1234 have avg 37 kills\n",
      "kite_167 have avg 38 kills\n",
      "CIAUSA2 have avg 22 kills\n",
      "plm922sown have avg 40 kills\n",
      "Croezg have avg 36 kills\n",
      "MarionnJames2307 have avg 43 kills\n",
      "Madgaming2010 have avg 0 kills\n",
      "AERBUTE1 have avg 45 kills\n",
      "potatoringsninja4 have avg 60 kills\n",
      "jayneeddollar have avg 59 kills\n",
      "Sumardisam have avg 61 kills\n",
      "bigshockwave99 have avg 57 kills\n",
      "OblivionSectis have avg 97 kills\n",
      "masterjanjan19 have avg 35 kills\n",
      "intxerunit have avg 41 kills\n",
      "ideacentre have avg 52 kills\n",
      "Sunfull1 have avg 26 kills\n",
      "dyj2233 have avg 9 kills\n",
      "gst44444 have avg 15 kills\n",
      "zZRabbitsZz have avg 30 kills\n",
      "Alekspheus have avg 39 kills\n",
      "KisarakiTH have avg 46 kills\n"
     ]
    }
   ],
   "source": [
    "names = df[\"name\"].unique()\n",
    "for i in names:\n",
    "    find_avg_everyone = df[df[\"name\"] == i]\n",
    "    print(f\"{i} have avg {round(find_avg_everyone['kills'].mean())} kills\")\n",
    "    "
   ]
  },
  {
   "cell_type": "markdown",
   "metadata": {},
   "source": [
    "# check the second csv btw this is for this week\n",
    "we read the data"
   ]
  },
  {
   "cell_type": "code",
   "execution_count": 46,
   "metadata": {},
   "outputs": [],
   "source": [
    "df2 = pd.read_csv('avg.csv')"
   ]
  },
  {
   "cell_type": "code",
   "execution_count": 47,
   "metadata": {},
   "outputs": [
    {
     "data": {
      "application/vnd.microsoft.datawrangler.viewer.v0+json": {
       "columns": [
        {
         "name": "index",
         "rawType": "int64",
         "type": "integer"
        },
        {
         "name": "name",
         "rawType": "object",
         "type": "string"
        },
        {
         "name": "avg",
         "rawType": "int64",
         "type": "integer"
        }
       ],
       "conversionMethod": "pd.DataFrame",
       "ref": "a04dcbaa-8f0a-49d7-8660-188c84643b7d",
       "rows": [
        [
         "0",
         "SeaV1per1224",
         "68"
        ],
        [
         "1",
         "pancake_w1",
         "33"
        ],
        [
         "2",
         "Kangcheon24",
         "58"
        ],
        [
         "3",
         "spikey_001",
         "38"
        ],
        [
         "4",
         "chickenkampong",
         "48"
        ],
        [
         "5",
         "anathaliakdc",
         "31"
        ],
        [
         "6",
         "Indonesia_ofMalaysia",
         "46"
        ],
        [
         "7",
         "nickthegodrider1289",
         "50"
        ],
        [
         "8",
         "Dawnftb",
         "30"
        ],
        [
         "9",
         "Mitsubira_Aratoshi",
         "72"
        ],
        [
         "10",
         "jgwen19",
         "63"
        ],
        [
         "11",
         "SireHalo",
         "48"
        ],
        [
         "12",
         "ConesOdebrecht",
         "77"
        ],
        [
         "13",
         "jellyy112345",
         "46"
        ],
        [
         "14",
         "jesterproandnoob",
         "35"
        ],
        [
         "15",
         "eiltene123",
         "43"
        ],
        [
         "16",
         "mrflipsflapz",
         "53"
        ],
        [
         "17",
         "HarArkhichen",
         "51"
        ],
        [
         "18",
         "jiajun129",
         "39"
        ],
        [
         "19",
         "diwdwoa",
         "72"
        ],
        [
         "20",
         "GGXDArusha",
         "42"
        ],
        [
         "21",
         "KusakabeMisaoMyWaifu",
         "43"
        ],
        [
         "22",
         "Oscarchoyzy24",
         "58"
        ],
        [
         "23",
         "FrailBailen",
         "49"
        ],
        [
         "24",
         "polkomgyy44",
         "53"
        ],
        [
         "25",
         "Kazuyuki_Owen",
         "58"
        ],
        [
         "26",
         "studio_JD",
         "24"
        ],
        [
         "27",
         "Xernicus",
         "50"
        ],
        [
         "28",
         "PixelMangos",
         "32"
        ],
        [
         "29",
         "zoommine0423",
         "48"
        ],
        [
         "30",
         "TonnelTonkla",
         "4"
        ],
        [
         "31",
         "100gnoo",
         "29"
        ],
        [
         "32",
         "chanmeme1",
         "47"
        ],
        [
         "33",
         "5xmars",
         "78"
        ],
        [
         "34",
         "Luqman_indo",
         "23"
        ],
        [
         "35",
         "TomMiaorblx",
         "33"
        ],
        [
         "36",
         "polskathebestkraj",
         "62"
        ],
        [
         "37",
         "cn191981",
         "28"
        ],
        [
         "38",
         "ckpoa20",
         "30"
        ],
        [
         "39",
         "pensmen",
         "46"
        ],
        [
         "40",
         "jamesplayztv1",
         "42"
        ],
        [
         "41",
         "Gariksz",
         "61"
        ],
        [
         "42",
         "HoundVonSurrey",
         "50"
        ],
        [
         "43",
         "ViktorInvicta",
         "65"
        ],
        [
         "44",
         "SupremeDom5162",
         "30"
        ],
        [
         "45",
         "Proxy_x5",
         "44"
        ],
        [
         "46",
         "CommanderHikari",
         "41"
        ],
        [
         "47",
         "MrDerps124",
         "68"
        ],
        [
         "48",
         "MarioUlici200702",
         "66"
        ],
        [
         "49",
         "kf21rotc2",
         "12"
        ]
       ],
       "shape": {
        "columns": 2,
        "rows": 73
       }
      },
      "text/html": [
       "<div>\n",
       "<style scoped>\n",
       "    .dataframe tbody tr th:only-of-type {\n",
       "        vertical-align: middle;\n",
       "    }\n",
       "\n",
       "    .dataframe tbody tr th {\n",
       "        vertical-align: top;\n",
       "    }\n",
       "\n",
       "    .dataframe thead th {\n",
       "        text-align: right;\n",
       "    }\n",
       "</style>\n",
       "<table border=\"1\" class=\"dataframe\">\n",
       "  <thead>\n",
       "    <tr style=\"text-align: right;\">\n",
       "      <th></th>\n",
       "      <th>name</th>\n",
       "      <th>avg</th>\n",
       "    </tr>\n",
       "  </thead>\n",
       "  <tbody>\n",
       "    <tr>\n",
       "      <th>0</th>\n",
       "      <td>SeaV1per1224</td>\n",
       "      <td>68</td>\n",
       "    </tr>\n",
       "    <tr>\n",
       "      <th>1</th>\n",
       "      <td>pancake_w1</td>\n",
       "      <td>33</td>\n",
       "    </tr>\n",
       "    <tr>\n",
       "      <th>2</th>\n",
       "      <td>Kangcheon24</td>\n",
       "      <td>58</td>\n",
       "    </tr>\n",
       "    <tr>\n",
       "      <th>3</th>\n",
       "      <td>spikey_001</td>\n",
       "      <td>38</td>\n",
       "    </tr>\n",
       "    <tr>\n",
       "      <th>4</th>\n",
       "      <td>chickenkampong</td>\n",
       "      <td>48</td>\n",
       "    </tr>\n",
       "    <tr>\n",
       "      <th>...</th>\n",
       "      <td>...</td>\n",
       "      <td>...</td>\n",
       "    </tr>\n",
       "    <tr>\n",
       "      <th>68</th>\n",
       "      <td>dyj2233</td>\n",
       "      <td>9</td>\n",
       "    </tr>\n",
       "    <tr>\n",
       "      <th>69</th>\n",
       "      <td>gst44444</td>\n",
       "      <td>15</td>\n",
       "    </tr>\n",
       "    <tr>\n",
       "      <th>70</th>\n",
       "      <td>zZRabbitsZz</td>\n",
       "      <td>30</td>\n",
       "    </tr>\n",
       "    <tr>\n",
       "      <th>71</th>\n",
       "      <td>Alekspheus</td>\n",
       "      <td>39</td>\n",
       "    </tr>\n",
       "    <tr>\n",
       "      <th>72</th>\n",
       "      <td>KisarakiTH</td>\n",
       "      <td>46</td>\n",
       "    </tr>\n",
       "  </tbody>\n",
       "</table>\n",
       "<p>73 rows × 2 columns</p>\n",
       "</div>"
      ],
      "text/plain": [
       "              name  avg\n",
       "0     SeaV1per1224   68\n",
       "1       pancake_w1   33\n",
       "2      Kangcheon24   58\n",
       "3       spikey_001   38\n",
       "4   chickenkampong   48\n",
       "..             ...  ...\n",
       "68         dyj2233    9\n",
       "69        gst44444   15\n",
       "70     zZRabbitsZz   30\n",
       "71      Alekspheus   39\n",
       "72      KisarakiTH   46\n",
       "\n",
       "[73 rows x 2 columns]"
      ]
     },
     "execution_count": 47,
     "metadata": {},
     "output_type": "execute_result"
    }
   ],
   "source": [
    "df2"
   ]
  },
  {
   "cell_type": "markdown",
   "metadata": {},
   "source": [
    "# Top avg"
   ]
  },
  {
   "cell_type": "code",
   "execution_count": 48,
   "metadata": {},
   "outputs": [
    {
     "data": {
      "application/vnd.microsoft.datawrangler.viewer.v0+json": {
       "columns": [
        {
         "name": "index",
         "rawType": "int64",
         "type": "integer"
        },
        {
         "name": "name",
         "rawType": "object",
         "type": "string"
        },
        {
         "name": "avg",
         "rawType": "int64",
         "type": "integer"
        }
       ],
       "conversionMethod": "pd.DataFrame",
       "ref": "f96e68dc-fbbd-4e93-ac5a-48a754d106aa",
       "rows": [
        [
         "63",
         "OblivionSectis",
         "97"
        ],
        [
         "33",
         "5xmars",
         "78"
        ],
        [
         "12",
         "ConesOdebrecht",
         "77"
        ],
        [
         "19",
         "diwdwoa",
         "72"
        ],
        [
         "9",
         "Mitsubira_Aratoshi",
         "72"
        ],
        [
         "47",
         "MrDerps124",
         "68"
        ],
        [
         "0",
         "SeaV1per1224",
         "68"
        ],
        [
         "48",
         "MarioUlici200702",
         "66"
        ],
        [
         "43",
         "ViktorInvicta",
         "65"
        ],
        [
         "10",
         "jgwen19",
         "63"
        ],
        [
         "36",
         "polskathebestkraj",
         "62"
        ],
        [
         "41",
         "Gariksz",
         "61"
        ],
        [
         "61",
         "Sumardisam",
         "61"
        ],
        [
         "59",
         "potatoringsninja4",
         "60"
        ],
        [
         "60",
         "jayneeddollar",
         "59"
        ],
        [
         "22",
         "Oscarchoyzy24",
         "58"
        ],
        [
         "2",
         "Kangcheon24",
         "58"
        ],
        [
         "25",
         "Kazuyuki_Owen",
         "58"
        ],
        [
         "62",
         "bigshockwave99",
         "57"
        ],
        [
         "24",
         "polkomgyy44",
         "53"
        ],
        [
         "16",
         "mrflipsflapz",
         "53"
        ],
        [
         "66",
         "ideacentre",
         "52"
        ],
        [
         "17",
         "HarArkhichen",
         "51"
        ],
        [
         "7",
         "nickthegodrider1289",
         "50"
        ],
        [
         "42",
         "HoundVonSurrey",
         "50"
        ],
        [
         "27",
         "Xernicus",
         "50"
        ],
        [
         "23",
         "FrailBailen",
         "49"
        ],
        [
         "29",
         "zoommine0423",
         "48"
        ],
        [
         "11",
         "SireHalo",
         "48"
        ],
        [
         "4",
         "chickenkampong",
         "48"
        ],
        [
         "32",
         "chanmeme1",
         "47"
        ],
        [
         "6",
         "Indonesia_ofMalaysia",
         "46"
        ],
        [
         "39",
         "pensmen",
         "46"
        ],
        [
         "72",
         "KisarakiTH",
         "46"
        ],
        [
         "13",
         "jellyy112345",
         "46"
        ],
        [
         "58",
         "AERBUTE1",
         "45"
        ],
        [
         "45",
         "Proxy_x5",
         "44"
        ],
        [
         "21",
         "KusakabeMisaoMyWaifu",
         "43"
        ],
        [
         "15",
         "eiltene123",
         "43"
        ],
        [
         "56",
         "MarionnJames2307",
         "43"
        ],
        [
         "20",
         "GGXDArusha",
         "42"
        ],
        [
         "40",
         "jamesplayztv1",
         "42"
        ],
        [
         "46",
         "CommanderHikari",
         "41"
        ],
        [
         "65",
         "intxerunit",
         "41"
        ],
        [
         "54",
         "plm922sown",
         "40"
        ],
        [
         "50",
         "kylemanike",
         "39"
        ],
        [
         "18",
         "jiajun129",
         "39"
        ],
        [
         "71",
         "Alekspheus",
         "39"
        ],
        [
         "3",
         "spikey_001",
         "38"
        ],
        [
         "52",
         "kite_167",
         "38"
        ]
       ],
       "shape": {
        "columns": 2,
        "rows": 73
       }
      },
      "text/html": [
       "<div>\n",
       "<style scoped>\n",
       "    .dataframe tbody tr th:only-of-type {\n",
       "        vertical-align: middle;\n",
       "    }\n",
       "\n",
       "    .dataframe tbody tr th {\n",
       "        vertical-align: top;\n",
       "    }\n",
       "\n",
       "    .dataframe thead th {\n",
       "        text-align: right;\n",
       "    }\n",
       "</style>\n",
       "<table border=\"1\" class=\"dataframe\">\n",
       "  <thead>\n",
       "    <tr style=\"text-align: right;\">\n",
       "      <th></th>\n",
       "      <th>name</th>\n",
       "      <th>avg</th>\n",
       "    </tr>\n",
       "  </thead>\n",
       "  <tbody>\n",
       "    <tr>\n",
       "      <th>63</th>\n",
       "      <td>OblivionSectis</td>\n",
       "      <td>97</td>\n",
       "    </tr>\n",
       "    <tr>\n",
       "      <th>33</th>\n",
       "      <td>5xmars</td>\n",
       "      <td>78</td>\n",
       "    </tr>\n",
       "    <tr>\n",
       "      <th>12</th>\n",
       "      <td>ConesOdebrecht</td>\n",
       "      <td>77</td>\n",
       "    </tr>\n",
       "    <tr>\n",
       "      <th>19</th>\n",
       "      <td>diwdwoa</td>\n",
       "      <td>72</td>\n",
       "    </tr>\n",
       "    <tr>\n",
       "      <th>9</th>\n",
       "      <td>Mitsubira_Aratoshi</td>\n",
       "      <td>72</td>\n",
       "    </tr>\n",
       "    <tr>\n",
       "      <th>...</th>\n",
       "      <td>...</td>\n",
       "      <td>...</td>\n",
       "    </tr>\n",
       "    <tr>\n",
       "      <th>69</th>\n",
       "      <td>gst44444</td>\n",
       "      <td>15</td>\n",
       "    </tr>\n",
       "    <tr>\n",
       "      <th>49</th>\n",
       "      <td>kf21rotc2</td>\n",
       "      <td>12</td>\n",
       "    </tr>\n",
       "    <tr>\n",
       "      <th>68</th>\n",
       "      <td>dyj2233</td>\n",
       "      <td>9</td>\n",
       "    </tr>\n",
       "    <tr>\n",
       "      <th>30</th>\n",
       "      <td>TonnelTonkla</td>\n",
       "      <td>4</td>\n",
       "    </tr>\n",
       "    <tr>\n",
       "      <th>57</th>\n",
       "      <td>Madgaming2010</td>\n",
       "      <td>0</td>\n",
       "    </tr>\n",
       "  </tbody>\n",
       "</table>\n",
       "<p>73 rows × 2 columns</p>\n",
       "</div>"
      ],
      "text/plain": [
       "                  name  avg\n",
       "63      OblivionSectis   97\n",
       "33              5xmars   78\n",
       "12      ConesOdebrecht   77\n",
       "19             diwdwoa   72\n",
       "9   Mitsubira_Aratoshi   72\n",
       "..                 ...  ...\n",
       "69            gst44444   15\n",
       "49           kf21rotc2   12\n",
       "68             dyj2233    9\n",
       "30        TonnelTonkla    4\n",
       "57       Madgaming2010    0\n",
       "\n",
       "[73 rows x 2 columns]"
      ]
     },
     "execution_count": 48,
     "metadata": {},
     "output_type": "execute_result"
    }
   ],
   "source": [
    "df2.sort_values(by=\"avg\", ascending=False)"
   ]
  },
  {
   "cell_type": "markdown",
   "metadata": {},
   "source": [
    "# more or = 45"
   ]
  },
  {
   "cell_type": "code",
   "execution_count": 49,
   "metadata": {},
   "outputs": [
    {
     "data": {
      "application/vnd.microsoft.datawrangler.viewer.v0+json": {
       "columns": [
        {
         "name": "index",
         "rawType": "int64",
         "type": "integer"
        },
        {
         "name": "name",
         "rawType": "object",
         "type": "string"
        },
        {
         "name": "avg",
         "rawType": "int64",
         "type": "integer"
        }
       ],
       "conversionMethod": "pd.DataFrame",
       "ref": "e37288b0-dcc5-4587-a9bf-b1c5a572e838",
       "rows": [
        [
         "0",
         "SeaV1per1224",
         "68"
        ],
        [
         "2",
         "Kangcheon24",
         "58"
        ],
        [
         "4",
         "chickenkampong",
         "48"
        ],
        [
         "6",
         "Indonesia_ofMalaysia",
         "46"
        ],
        [
         "7",
         "nickthegodrider1289",
         "50"
        ],
        [
         "9",
         "Mitsubira_Aratoshi",
         "72"
        ],
        [
         "10",
         "jgwen19",
         "63"
        ],
        [
         "11",
         "SireHalo",
         "48"
        ],
        [
         "12",
         "ConesOdebrecht",
         "77"
        ],
        [
         "13",
         "jellyy112345",
         "46"
        ],
        [
         "16",
         "mrflipsflapz",
         "53"
        ],
        [
         "17",
         "HarArkhichen",
         "51"
        ],
        [
         "19",
         "diwdwoa",
         "72"
        ],
        [
         "22",
         "Oscarchoyzy24",
         "58"
        ],
        [
         "23",
         "FrailBailen",
         "49"
        ],
        [
         "24",
         "polkomgyy44",
         "53"
        ],
        [
         "25",
         "Kazuyuki_Owen",
         "58"
        ],
        [
         "27",
         "Xernicus",
         "50"
        ],
        [
         "29",
         "zoommine0423",
         "48"
        ],
        [
         "32",
         "chanmeme1",
         "47"
        ],
        [
         "33",
         "5xmars",
         "78"
        ],
        [
         "36",
         "polskathebestkraj",
         "62"
        ],
        [
         "39",
         "pensmen",
         "46"
        ],
        [
         "41",
         "Gariksz",
         "61"
        ],
        [
         "42",
         "HoundVonSurrey",
         "50"
        ],
        [
         "43",
         "ViktorInvicta",
         "65"
        ],
        [
         "47",
         "MrDerps124",
         "68"
        ],
        [
         "48",
         "MarioUlici200702",
         "66"
        ],
        [
         "58",
         "AERBUTE1",
         "45"
        ],
        [
         "59",
         "potatoringsninja4",
         "60"
        ],
        [
         "60",
         "jayneeddollar",
         "59"
        ],
        [
         "61",
         "Sumardisam",
         "61"
        ],
        [
         "62",
         "bigshockwave99",
         "57"
        ],
        [
         "63",
         "OblivionSectis",
         "97"
        ],
        [
         "66",
         "ideacentre",
         "52"
        ],
        [
         "72",
         "KisarakiTH",
         "46"
        ]
       ],
       "shape": {
        "columns": 2,
        "rows": 36
       }
      },
      "text/html": [
       "<div>\n",
       "<style scoped>\n",
       "    .dataframe tbody tr th:only-of-type {\n",
       "        vertical-align: middle;\n",
       "    }\n",
       "\n",
       "    .dataframe tbody tr th {\n",
       "        vertical-align: top;\n",
       "    }\n",
       "\n",
       "    .dataframe thead th {\n",
       "        text-align: right;\n",
       "    }\n",
       "</style>\n",
       "<table border=\"1\" class=\"dataframe\">\n",
       "  <thead>\n",
       "    <tr style=\"text-align: right;\">\n",
       "      <th></th>\n",
       "      <th>name</th>\n",
       "      <th>avg</th>\n",
       "    </tr>\n",
       "  </thead>\n",
       "  <tbody>\n",
       "    <tr>\n",
       "      <th>0</th>\n",
       "      <td>SeaV1per1224</td>\n",
       "      <td>68</td>\n",
       "    </tr>\n",
       "    <tr>\n",
       "      <th>2</th>\n",
       "      <td>Kangcheon24</td>\n",
       "      <td>58</td>\n",
       "    </tr>\n",
       "    <tr>\n",
       "      <th>4</th>\n",
       "      <td>chickenkampong</td>\n",
       "      <td>48</td>\n",
       "    </tr>\n",
       "    <tr>\n",
       "      <th>6</th>\n",
       "      <td>Indonesia_ofMalaysia</td>\n",
       "      <td>46</td>\n",
       "    </tr>\n",
       "    <tr>\n",
       "      <th>7</th>\n",
       "      <td>nickthegodrider1289</td>\n",
       "      <td>50</td>\n",
       "    </tr>\n",
       "    <tr>\n",
       "      <th>9</th>\n",
       "      <td>Mitsubira_Aratoshi</td>\n",
       "      <td>72</td>\n",
       "    </tr>\n",
       "    <tr>\n",
       "      <th>10</th>\n",
       "      <td>jgwen19</td>\n",
       "      <td>63</td>\n",
       "    </tr>\n",
       "    <tr>\n",
       "      <th>11</th>\n",
       "      <td>SireHalo</td>\n",
       "      <td>48</td>\n",
       "    </tr>\n",
       "    <tr>\n",
       "      <th>12</th>\n",
       "      <td>ConesOdebrecht</td>\n",
       "      <td>77</td>\n",
       "    </tr>\n",
       "    <tr>\n",
       "      <th>13</th>\n",
       "      <td>jellyy112345</td>\n",
       "      <td>46</td>\n",
       "    </tr>\n",
       "    <tr>\n",
       "      <th>16</th>\n",
       "      <td>mrflipsflapz</td>\n",
       "      <td>53</td>\n",
       "    </tr>\n",
       "    <tr>\n",
       "      <th>17</th>\n",
       "      <td>HarArkhichen</td>\n",
       "      <td>51</td>\n",
       "    </tr>\n",
       "    <tr>\n",
       "      <th>19</th>\n",
       "      <td>diwdwoa</td>\n",
       "      <td>72</td>\n",
       "    </tr>\n",
       "    <tr>\n",
       "      <th>22</th>\n",
       "      <td>Oscarchoyzy24</td>\n",
       "      <td>58</td>\n",
       "    </tr>\n",
       "    <tr>\n",
       "      <th>23</th>\n",
       "      <td>FrailBailen</td>\n",
       "      <td>49</td>\n",
       "    </tr>\n",
       "    <tr>\n",
       "      <th>24</th>\n",
       "      <td>polkomgyy44</td>\n",
       "      <td>53</td>\n",
       "    </tr>\n",
       "    <tr>\n",
       "      <th>25</th>\n",
       "      <td>Kazuyuki_Owen</td>\n",
       "      <td>58</td>\n",
       "    </tr>\n",
       "    <tr>\n",
       "      <th>27</th>\n",
       "      <td>Xernicus</td>\n",
       "      <td>50</td>\n",
       "    </tr>\n",
       "    <tr>\n",
       "      <th>29</th>\n",
       "      <td>zoommine0423</td>\n",
       "      <td>48</td>\n",
       "    </tr>\n",
       "    <tr>\n",
       "      <th>32</th>\n",
       "      <td>chanmeme1</td>\n",
       "      <td>47</td>\n",
       "    </tr>\n",
       "    <tr>\n",
       "      <th>33</th>\n",
       "      <td>5xmars</td>\n",
       "      <td>78</td>\n",
       "    </tr>\n",
       "    <tr>\n",
       "      <th>36</th>\n",
       "      <td>polskathebestkraj</td>\n",
       "      <td>62</td>\n",
       "    </tr>\n",
       "    <tr>\n",
       "      <th>39</th>\n",
       "      <td>pensmen</td>\n",
       "      <td>46</td>\n",
       "    </tr>\n",
       "    <tr>\n",
       "      <th>41</th>\n",
       "      <td>Gariksz</td>\n",
       "      <td>61</td>\n",
       "    </tr>\n",
       "    <tr>\n",
       "      <th>42</th>\n",
       "      <td>HoundVonSurrey</td>\n",
       "      <td>50</td>\n",
       "    </tr>\n",
       "    <tr>\n",
       "      <th>43</th>\n",
       "      <td>ViktorInvicta</td>\n",
       "      <td>65</td>\n",
       "    </tr>\n",
       "    <tr>\n",
       "      <th>47</th>\n",
       "      <td>MrDerps124</td>\n",
       "      <td>68</td>\n",
       "    </tr>\n",
       "    <tr>\n",
       "      <th>48</th>\n",
       "      <td>MarioUlici200702</td>\n",
       "      <td>66</td>\n",
       "    </tr>\n",
       "    <tr>\n",
       "      <th>58</th>\n",
       "      <td>AERBUTE1</td>\n",
       "      <td>45</td>\n",
       "    </tr>\n",
       "    <tr>\n",
       "      <th>59</th>\n",
       "      <td>potatoringsninja4</td>\n",
       "      <td>60</td>\n",
       "    </tr>\n",
       "    <tr>\n",
       "      <th>60</th>\n",
       "      <td>jayneeddollar</td>\n",
       "      <td>59</td>\n",
       "    </tr>\n",
       "    <tr>\n",
       "      <th>61</th>\n",
       "      <td>Sumardisam</td>\n",
       "      <td>61</td>\n",
       "    </tr>\n",
       "    <tr>\n",
       "      <th>62</th>\n",
       "      <td>bigshockwave99</td>\n",
       "      <td>57</td>\n",
       "    </tr>\n",
       "    <tr>\n",
       "      <th>63</th>\n",
       "      <td>OblivionSectis</td>\n",
       "      <td>97</td>\n",
       "    </tr>\n",
       "    <tr>\n",
       "      <th>66</th>\n",
       "      <td>ideacentre</td>\n",
       "      <td>52</td>\n",
       "    </tr>\n",
       "    <tr>\n",
       "      <th>72</th>\n",
       "      <td>KisarakiTH</td>\n",
       "      <td>46</td>\n",
       "    </tr>\n",
       "  </tbody>\n",
       "</table>\n",
       "</div>"
      ],
      "text/plain": [
       "                    name  avg\n",
       "0           SeaV1per1224   68\n",
       "2            Kangcheon24   58\n",
       "4         chickenkampong   48\n",
       "6   Indonesia_ofMalaysia   46\n",
       "7    nickthegodrider1289   50\n",
       "9     Mitsubira_Aratoshi   72\n",
       "10               jgwen19   63\n",
       "11              SireHalo   48\n",
       "12        ConesOdebrecht   77\n",
       "13          jellyy112345   46\n",
       "16          mrflipsflapz   53\n",
       "17          HarArkhichen   51\n",
       "19               diwdwoa   72\n",
       "22         Oscarchoyzy24   58\n",
       "23           FrailBailen   49\n",
       "24           polkomgyy44   53\n",
       "25         Kazuyuki_Owen   58\n",
       "27              Xernicus   50\n",
       "29          zoommine0423   48\n",
       "32             chanmeme1   47\n",
       "33                5xmars   78\n",
       "36     polskathebestkraj   62\n",
       "39               pensmen   46\n",
       "41               Gariksz   61\n",
       "42        HoundVonSurrey   50\n",
       "43         ViktorInvicta   65\n",
       "47            MrDerps124   68\n",
       "48      MarioUlici200702   66\n",
       "58              AERBUTE1   45\n",
       "59     potatoringsninja4   60\n",
       "60         jayneeddollar   59\n",
       "61            Sumardisam   61\n",
       "62        bigshockwave99   57\n",
       "63        OblivionSectis   97\n",
       "66            ideacentre   52\n",
       "72            KisarakiTH   46"
      ]
     },
     "execution_count": 49,
     "metadata": {},
     "output_type": "execute_result"
    }
   ],
   "source": [
    "df2[df2[\"avg\"] >= 45]"
   ]
  },
  {
   "cell_type": "markdown",
   "metadata": {},
   "source": [
    "# more than 55 or = 55"
   ]
  },
  {
   "cell_type": "code",
   "execution_count": 50,
   "metadata": {},
   "outputs": [
    {
     "data": {
      "application/vnd.microsoft.datawrangler.viewer.v0+json": {
       "columns": [
        {
         "name": "index",
         "rawType": "int64",
         "type": "integer"
        },
        {
         "name": "name",
         "rawType": "object",
         "type": "string"
        },
        {
         "name": "avg",
         "rawType": "int64",
         "type": "integer"
        }
       ],
       "conversionMethod": "pd.DataFrame",
       "ref": "6d2bc6b6-754d-41d2-bbb3-739b463363bf",
       "rows": [
        [
         "0",
         "SeaV1per1224",
         "68"
        ],
        [
         "2",
         "Kangcheon24",
         "58"
        ],
        [
         "9",
         "Mitsubira_Aratoshi",
         "72"
        ],
        [
         "10",
         "jgwen19",
         "63"
        ],
        [
         "12",
         "ConesOdebrecht",
         "77"
        ],
        [
         "19",
         "diwdwoa",
         "72"
        ],
        [
         "22",
         "Oscarchoyzy24",
         "58"
        ],
        [
         "25",
         "Kazuyuki_Owen",
         "58"
        ],
        [
         "33",
         "5xmars",
         "78"
        ],
        [
         "36",
         "polskathebestkraj",
         "62"
        ],
        [
         "41",
         "Gariksz",
         "61"
        ],
        [
         "43",
         "ViktorInvicta",
         "65"
        ],
        [
         "47",
         "MrDerps124",
         "68"
        ],
        [
         "48",
         "MarioUlici200702",
         "66"
        ],
        [
         "59",
         "potatoringsninja4",
         "60"
        ],
        [
         "60",
         "jayneeddollar",
         "59"
        ],
        [
         "61",
         "Sumardisam",
         "61"
        ],
        [
         "62",
         "bigshockwave99",
         "57"
        ],
        [
         "63",
         "OblivionSectis",
         "97"
        ]
       ],
       "shape": {
        "columns": 2,
        "rows": 19
       }
      },
      "text/html": [
       "<div>\n",
       "<style scoped>\n",
       "    .dataframe tbody tr th:only-of-type {\n",
       "        vertical-align: middle;\n",
       "    }\n",
       "\n",
       "    .dataframe tbody tr th {\n",
       "        vertical-align: top;\n",
       "    }\n",
       "\n",
       "    .dataframe thead th {\n",
       "        text-align: right;\n",
       "    }\n",
       "</style>\n",
       "<table border=\"1\" class=\"dataframe\">\n",
       "  <thead>\n",
       "    <tr style=\"text-align: right;\">\n",
       "      <th></th>\n",
       "      <th>name</th>\n",
       "      <th>avg</th>\n",
       "    </tr>\n",
       "  </thead>\n",
       "  <tbody>\n",
       "    <tr>\n",
       "      <th>0</th>\n",
       "      <td>SeaV1per1224</td>\n",
       "      <td>68</td>\n",
       "    </tr>\n",
       "    <tr>\n",
       "      <th>2</th>\n",
       "      <td>Kangcheon24</td>\n",
       "      <td>58</td>\n",
       "    </tr>\n",
       "    <tr>\n",
       "      <th>9</th>\n",
       "      <td>Mitsubira_Aratoshi</td>\n",
       "      <td>72</td>\n",
       "    </tr>\n",
       "    <tr>\n",
       "      <th>10</th>\n",
       "      <td>jgwen19</td>\n",
       "      <td>63</td>\n",
       "    </tr>\n",
       "    <tr>\n",
       "      <th>12</th>\n",
       "      <td>ConesOdebrecht</td>\n",
       "      <td>77</td>\n",
       "    </tr>\n",
       "    <tr>\n",
       "      <th>19</th>\n",
       "      <td>diwdwoa</td>\n",
       "      <td>72</td>\n",
       "    </tr>\n",
       "    <tr>\n",
       "      <th>22</th>\n",
       "      <td>Oscarchoyzy24</td>\n",
       "      <td>58</td>\n",
       "    </tr>\n",
       "    <tr>\n",
       "      <th>25</th>\n",
       "      <td>Kazuyuki_Owen</td>\n",
       "      <td>58</td>\n",
       "    </tr>\n",
       "    <tr>\n",
       "      <th>33</th>\n",
       "      <td>5xmars</td>\n",
       "      <td>78</td>\n",
       "    </tr>\n",
       "    <tr>\n",
       "      <th>36</th>\n",
       "      <td>polskathebestkraj</td>\n",
       "      <td>62</td>\n",
       "    </tr>\n",
       "    <tr>\n",
       "      <th>41</th>\n",
       "      <td>Gariksz</td>\n",
       "      <td>61</td>\n",
       "    </tr>\n",
       "    <tr>\n",
       "      <th>43</th>\n",
       "      <td>ViktorInvicta</td>\n",
       "      <td>65</td>\n",
       "    </tr>\n",
       "    <tr>\n",
       "      <th>47</th>\n",
       "      <td>MrDerps124</td>\n",
       "      <td>68</td>\n",
       "    </tr>\n",
       "    <tr>\n",
       "      <th>48</th>\n",
       "      <td>MarioUlici200702</td>\n",
       "      <td>66</td>\n",
       "    </tr>\n",
       "    <tr>\n",
       "      <th>59</th>\n",
       "      <td>potatoringsninja4</td>\n",
       "      <td>60</td>\n",
       "    </tr>\n",
       "    <tr>\n",
       "      <th>60</th>\n",
       "      <td>jayneeddollar</td>\n",
       "      <td>59</td>\n",
       "    </tr>\n",
       "    <tr>\n",
       "      <th>61</th>\n",
       "      <td>Sumardisam</td>\n",
       "      <td>61</td>\n",
       "    </tr>\n",
       "    <tr>\n",
       "      <th>62</th>\n",
       "      <td>bigshockwave99</td>\n",
       "      <td>57</td>\n",
       "    </tr>\n",
       "    <tr>\n",
       "      <th>63</th>\n",
       "      <td>OblivionSectis</td>\n",
       "      <td>97</td>\n",
       "    </tr>\n",
       "  </tbody>\n",
       "</table>\n",
       "</div>"
      ],
      "text/plain": [
       "                  name  avg\n",
       "0         SeaV1per1224   68\n",
       "2          Kangcheon24   58\n",
       "9   Mitsubira_Aratoshi   72\n",
       "10             jgwen19   63\n",
       "12      ConesOdebrecht   77\n",
       "19             diwdwoa   72\n",
       "22       Oscarchoyzy24   58\n",
       "25       Kazuyuki_Owen   58\n",
       "33              5xmars   78\n",
       "36   polskathebestkraj   62\n",
       "41             Gariksz   61\n",
       "43       ViktorInvicta   65\n",
       "47          MrDerps124   68\n",
       "48    MarioUlici200702   66\n",
       "59   potatoringsninja4   60\n",
       "60       jayneeddollar   59\n",
       "61          Sumardisam   61\n",
       "62      bigshockwave99   57\n",
       "63      OblivionSectis   97"
      ]
     },
     "execution_count": 50,
     "metadata": {},
     "output_type": "execute_result"
    }
   ],
   "source": [
    "df2[df2[\"avg\"] >= 55]"
   ]
  }
 ],
 "metadata": {
  "kernelspec": {
   "display_name": "Python 3",
   "language": "python",
   "name": "python3"
  },
  "language_info": {
   "codemirror_mode": {
    "name": "ipython",
    "version": 3
   },
   "file_extension": ".py",
   "mimetype": "text/x-python",
   "name": "python",
   "nbconvert_exporter": "python",
   "pygments_lexer": "ipython3",
   "version": "3.11.9"
  }
 },
 "nbformat": 4,
 "nbformat_minor": 2
}
