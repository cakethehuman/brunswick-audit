{
 "cells": [
  {
   "cell_type": "code",
   "execution_count": 37,
   "metadata": {},
   "outputs": [],
   "source": [
    "import pandas as pd\n",
    "import numpy as np\n",
    "import matplotlib.pyplot as plt\n",
    "import seaborn as sns\n",
    "import scipy.stats as stats"
   ]
  },
  {
   "cell_type": "markdown",
   "metadata": {},
   "source": [
    "# reading the data"
   ]
  },
  {
   "cell_type": "code",
   "execution_count": 38,
   "metadata": {},
   "outputs": [],
   "source": [
    "df = pd.read_csv('data.csv')"
   ]
  },
  {
   "cell_type": "code",
   "execution_count": 39,
   "metadata": {},
   "outputs": [
    {
     "data": {
      "application/vnd.microsoft.datawrangler.viewer.v0+json": {
       "columns": [
        {
         "name": "index",
         "rawType": "int64",
         "type": "integer"
        },
        {
         "name": "name",
         "rawType": "object",
         "type": "string"
        },
        {
         "name": "kills",
         "rawType": "int64",
         "type": "integer"
        }
       ],
       "conversionMethod": "pd.DataFrame",
       "ref": "32a3f05c-b92a-4e06-8277-f42454447b83",
       "rows": [
        [
         "0",
         "Dawnftb",
         "37"
        ],
        [
         "1",
         "Oscarchoyzy24",
         "24"
        ],
        [
         "2",
         "shield_4545",
         "36"
        ],
        [
         "3",
         "polkomgyy44",
         "58"
        ],
        [
         "4",
         "Kazuyuki_Owen",
         "67"
        ],
        [
         "5",
         "Cogus_0828",
         "51"
        ],
        [
         "6",
         "jamesplayztv1",
         "48"
        ],
        [
         "7",
         "aryafariziii160",
         "60"
        ],
        [
         "8",
         "rttt_1234567",
         "44"
        ],
        [
         "9",
         "WazibaXD",
         "50"
        ],
        [
         "10",
         "anathaliakdc",
         "43"
        ],
        [
         "11",
         "David_Theusless",
         "33"
        ],
        [
         "12",
         "kylemanike",
         "69"
        ],
        [
         "13",
         "Sunfull1",
         "47"
        ],
        [
         "14",
         "PekaRockRuff",
         "45"
        ],
        [
         "15",
         "jesterproandnoob",
         "60"
        ],
        [
         "16",
         "mrflipsflapz",
         "61"
        ],
        [
         "17",
         "Kunfah2012",
         "18"
        ],
        [
         "18",
         "pensmen",
         "61"
        ],
        [
         "19",
         "Xernicus",
         "23"
        ],
        [
         "20",
         "encik_Faris",
         "47"
        ],
        [
         "21",
         "hotdoges142",
         "31"
        ]
       ],
       "shape": {
        "columns": 2,
        "rows": 22
       }
      },
      "text/html": [
       "<div>\n",
       "<style scoped>\n",
       "    .dataframe tbody tr th:only-of-type {\n",
       "        vertical-align: middle;\n",
       "    }\n",
       "\n",
       "    .dataframe tbody tr th {\n",
       "        vertical-align: top;\n",
       "    }\n",
       "\n",
       "    .dataframe thead th {\n",
       "        text-align: right;\n",
       "    }\n",
       "</style>\n",
       "<table border=\"1\" class=\"dataframe\">\n",
       "  <thead>\n",
       "    <tr style=\"text-align: right;\">\n",
       "      <th></th>\n",
       "      <th>name</th>\n",
       "      <th>kills</th>\n",
       "    </tr>\n",
       "  </thead>\n",
       "  <tbody>\n",
       "    <tr>\n",
       "      <th>0</th>\n",
       "      <td>Dawnftb</td>\n",
       "      <td>37</td>\n",
       "    </tr>\n",
       "    <tr>\n",
       "      <th>1</th>\n",
       "      <td>Oscarchoyzy24</td>\n",
       "      <td>24</td>\n",
       "    </tr>\n",
       "    <tr>\n",
       "      <th>2</th>\n",
       "      <td>shield_4545</td>\n",
       "      <td>36</td>\n",
       "    </tr>\n",
       "    <tr>\n",
       "      <th>3</th>\n",
       "      <td>polkomgyy44</td>\n",
       "      <td>58</td>\n",
       "    </tr>\n",
       "    <tr>\n",
       "      <th>4</th>\n",
       "      <td>Kazuyuki_Owen</td>\n",
       "      <td>67</td>\n",
       "    </tr>\n",
       "    <tr>\n",
       "      <th>5</th>\n",
       "      <td>Cogus_0828</td>\n",
       "      <td>51</td>\n",
       "    </tr>\n",
       "    <tr>\n",
       "      <th>6</th>\n",
       "      <td>jamesplayztv1</td>\n",
       "      <td>48</td>\n",
       "    </tr>\n",
       "    <tr>\n",
       "      <th>7</th>\n",
       "      <td>aryafariziii160</td>\n",
       "      <td>60</td>\n",
       "    </tr>\n",
       "    <tr>\n",
       "      <th>8</th>\n",
       "      <td>rttt_1234567</td>\n",
       "      <td>44</td>\n",
       "    </tr>\n",
       "    <tr>\n",
       "      <th>9</th>\n",
       "      <td>WazibaXD</td>\n",
       "      <td>50</td>\n",
       "    </tr>\n",
       "    <tr>\n",
       "      <th>10</th>\n",
       "      <td>anathaliakdc</td>\n",
       "      <td>43</td>\n",
       "    </tr>\n",
       "    <tr>\n",
       "      <th>11</th>\n",
       "      <td>David_Theusless</td>\n",
       "      <td>33</td>\n",
       "    </tr>\n",
       "    <tr>\n",
       "      <th>12</th>\n",
       "      <td>kylemanike</td>\n",
       "      <td>69</td>\n",
       "    </tr>\n",
       "    <tr>\n",
       "      <th>13</th>\n",
       "      <td>Sunfull1</td>\n",
       "      <td>47</td>\n",
       "    </tr>\n",
       "    <tr>\n",
       "      <th>14</th>\n",
       "      <td>PekaRockRuff</td>\n",
       "      <td>45</td>\n",
       "    </tr>\n",
       "    <tr>\n",
       "      <th>15</th>\n",
       "      <td>jesterproandnoob</td>\n",
       "      <td>60</td>\n",
       "    </tr>\n",
       "    <tr>\n",
       "      <th>16</th>\n",
       "      <td>mrflipsflapz</td>\n",
       "      <td>61</td>\n",
       "    </tr>\n",
       "    <tr>\n",
       "      <th>17</th>\n",
       "      <td>Kunfah2012</td>\n",
       "      <td>18</td>\n",
       "    </tr>\n",
       "    <tr>\n",
       "      <th>18</th>\n",
       "      <td>pensmen</td>\n",
       "      <td>61</td>\n",
       "    </tr>\n",
       "    <tr>\n",
       "      <th>19</th>\n",
       "      <td>Xernicus</td>\n",
       "      <td>23</td>\n",
       "    </tr>\n",
       "    <tr>\n",
       "      <th>20</th>\n",
       "      <td>encik_Faris</td>\n",
       "      <td>47</td>\n",
       "    </tr>\n",
       "    <tr>\n",
       "      <th>21</th>\n",
       "      <td>hotdoges142</td>\n",
       "      <td>31</td>\n",
       "    </tr>\n",
       "  </tbody>\n",
       "</table>\n",
       "</div>"
      ],
      "text/plain": [
       "                name  kills\n",
       "0            Dawnftb     37\n",
       "1      Oscarchoyzy24     24\n",
       "2        shield_4545     36\n",
       "3        polkomgyy44     58\n",
       "4      Kazuyuki_Owen     67\n",
       "5         Cogus_0828     51\n",
       "6      jamesplayztv1     48\n",
       "7    aryafariziii160     60\n",
       "8       rttt_1234567     44\n",
       "9           WazibaXD     50\n",
       "10      anathaliakdc     43\n",
       "11   David_Theusless     33\n",
       "12        kylemanike     69\n",
       "13          Sunfull1     47\n",
       "14      PekaRockRuff     45\n",
       "15  jesterproandnoob     60\n",
       "16      mrflipsflapz     61\n",
       "17        Kunfah2012     18\n",
       "18           pensmen     61\n",
       "19          Xernicus     23\n",
       "20       encik_Faris     47\n",
       "21       hotdoges142     31"
      ]
     },
     "execution_count": 39,
     "metadata": {},
     "output_type": "execute_result"
    }
   ],
   "source": [
    "df"
   ]
  },
  {
   "cell_type": "markdown",
   "metadata": {},
   "source": [
    "# Top 10 attandence in the week"
   ]
  },
  {
   "cell_type": "code",
   "execution_count": 40,
   "metadata": {},
   "outputs": [
    {
     "data": {
      "image/png": "[encoded data removed]",
      "text/plain": [
       "<Figure size 1000x500 with 1 Axes>"
      ]
     },
     "metadata": {},
     "output_type": "display_data"
    }
   ],
   "source": [
    "plt.figure(figsize=(10, 5)) \n",
    "df[\"name\"].value_counts().nlargest(10).plot(kind='bar',colormap='viridis')\n",
    "plt.title(\"Attendance by Name\")\n",
    "plt.xlabel(\"Name\")\n",
    "plt.ylabel(\"Attendance\")\n",
    "plt.savefig('attadance_by_name.png',dpi=200,bbox_inches='tight')\n",
    "\n"
   ]
  },
  {
   "cell_type": "markdown",
   "metadata": {},
   "source": [
    "# avg attadance for the week"
   ]
  },
  {
   "cell_type": "code",
   "execution_count": 41,
   "metadata": {},
   "outputs": [
    {
     "data": {
      "text/plain": [
       "1"
      ]
     },
     "execution_count": 41,
     "metadata": {},
     "output_type": "execute_result"
    }
   ],
   "source": [
    "round(df[\"name\"].value_counts().mean())"
   ]
  },
  {
   "cell_type": "markdown",
   "metadata": {},
   "source": [
    "# find a {user} there attadance"
   ]
  },
  {
   "cell_type": "code",
   "execution_count": 42,
   "metadata": {},
   "outputs": [
    {
     "data": {
      "application/vnd.microsoft.datawrangler.viewer.v0+json": {
       "columns": [
        {
         "name": "index",
         "rawType": "int64",
         "type": "integer"
        },
        {
         "name": "name",
         "rawType": "object",
         "type": "string"
        },
        {
         "name": "kills",
         "rawType": "int64",
         "type": "integer"
        }
       ],
       "conversionMethod": "pd.DataFrame",
       "ref": "16ac5559-226f-4d7a-af2f-737b76c54688",
       "rows": [
        [
         "16",
         "mrflipsflapz",
         "61"
        ]
       ],
       "shape": {
        "columns": 2,
        "rows": 1
       }
      },
      "text/html": [
       "<div>\n",
       "<style scoped>\n",
       "    .dataframe tbody tr th:only-of-type {\n",
       "        vertical-align: middle;\n",
       "    }\n",
       "\n",
       "    .dataframe tbody tr th {\n",
       "        vertical-align: top;\n",
       "    }\n",
       "\n",
       "    .dataframe thead th {\n",
       "        text-align: right;\n",
       "    }\n",
       "</style>\n",
       "<table border=\"1\" class=\"dataframe\">\n",
       "  <thead>\n",
       "    <tr style=\"text-align: right;\">\n",
       "      <th></th>\n",
       "      <th>name</th>\n",
       "      <th>kills</th>\n",
       "    </tr>\n",
       "  </thead>\n",
       "  <tbody>\n",
       "    <tr>\n",
       "      <th>16</th>\n",
       "      <td>mrflipsflapz</td>\n",
       "      <td>61</td>\n",
       "    </tr>\n",
       "  </tbody>\n",
       "</table>\n",
       "</div>"
      ],
      "text/plain": [
       "            name  kills\n",
       "16  mrflipsflapz     61"
      ]
     },
     "execution_count": 42,
     "metadata": {},
     "output_type": "execute_result"
    }
   ],
   "source": [
    "df[df['name'] == \"mrflipsflapz\"]\n"
   ]
  },
  {
   "cell_type": "markdown",
   "metadata": {},
   "source": [
    "# attadance for 1 week that is x >= 3\n",
    "\n"
   ]
  },
  {
   "cell_type": "code",
   "execution_count": 43,
   "metadata": {},
   "outputs": [
    {
     "data": {
      "text/plain": [
       "np.int64(1)"
      ]
     },
     "execution_count": 43,
     "metadata": {},
     "output_type": "execute_result"
    }
   ],
   "source": [
    "df[df[\"name\"] == \"mrflipsflapz\"].value_counts().sum()"
   ]
  },
  {
   "cell_type": "code",
   "execution_count": 44,
   "metadata": {},
   "outputs": [],
   "source": [
    "attandace = df[df[\"name\"] == \"mrflipsflapz\"].value_counts().sum()"
   ]
  },
  {
   "cell_type": "code",
   "execution_count": 45,
   "metadata": {},
   "outputs": [
    {
     "data": {
      "text/plain": [
       "Series([], Name: count, dtype: bool)"
      ]
     },
     "execution_count": 45,
     "metadata": {},
     "output_type": "execute_result"
    }
   ],
   "source": [
    "check_attadance = df[\"name\"].value_counts() >= 3\n",
    "check_attadance.map({True: 1, False: 0})\n",
    "check_attadance[check_attadance == 1]\n"
   ]
  },
  {
   "cell_type": "markdown",
   "metadata": {},
   "source": [
    "# kills info"
   ]
  },
  {
   "cell_type": "code",
   "execution_count": 46,
   "metadata": {},
   "outputs": [
    {
     "name": "stdout",
     "output_type": "stream",
     "text": [
      "The average kills for everyone is:  46.0\n"
     ]
    }
   ],
   "source": [
    "avg_kills_everyone = df[\"kills\"].mean()\n",
    "print(\"The average kills for everyone is: \", round(avg_kills_everyone,1))"
   ]
  },
  {
   "cell_type": "code",
   "execution_count": 47,
   "metadata": {},
   "outputs": [
    {
     "data": {
      "application/vnd.microsoft.datawrangler.viewer.v0+json": {
       "columns": [
        {
         "name": "index",
         "rawType": "int64",
         "type": "integer"
        },
        {
         "name": "name",
         "rawType": "object",
         "type": "string"
        },
        {
         "name": "kills",
         "rawType": "int64",
         "type": "integer"
        }
       ],
       "conversionMethod": "pd.DataFrame",
       "ref": "992e3171-3d2d-4010-ac49-03084babaa71",
       "rows": [
        [
         "3",
         "polkomgyy44",
         "58"
        ]
       ],
       "shape": {
        "columns": 2,
        "rows": 1
       }
      },
      "text/html": [
       "<div>\n",
       "<style scoped>\n",
       "    .dataframe tbody tr th:only-of-type {\n",
       "        vertical-align: middle;\n",
       "    }\n",
       "\n",
       "    .dataframe tbody tr th {\n",
       "        vertical-align: top;\n",
       "    }\n",
       "\n",
       "    .dataframe thead th {\n",
       "        text-align: right;\n",
       "    }\n",
       "</style>\n",
       "<table border=\"1\" class=\"dataframe\">\n",
       "  <thead>\n",
       "    <tr style=\"text-align: right;\">\n",
       "      <th></th>\n",
       "      <th>name</th>\n",
       "      <th>kills</th>\n",
       "    </tr>\n",
       "  </thead>\n",
       "  <tbody>\n",
       "    <tr>\n",
       "      <th>3</th>\n",
       "      <td>polkomgyy44</td>\n",
       "      <td>58</td>\n",
       "    </tr>\n",
       "  </tbody>\n",
       "</table>\n",
       "</div>"
      ],
      "text/plain": [
       "          name  kills\n",
       "3  polkomgyy44     58"
      ]
     },
     "execution_count": 47,
     "metadata": {},
     "output_type": "execute_result"
    }
   ],
   "source": [
    "df[df[\"name\"] == \"polkomgyy44\"]"
   ]
  },
  {
   "cell_type": "code",
   "execution_count": 48,
   "metadata": {},
   "outputs": [
    {
     "data": {
      "application/vnd.microsoft.datawrangler.viewer.v0+json": {
       "columns": [
        {
         "name": "index",
         "rawType": "int64",
         "type": "integer"
        },
        {
         "name": "name",
         "rawType": "object",
         "type": "string"
        },
        {
         "name": "kills",
         "rawType": "int64",
         "type": "integer"
        }
       ],
       "conversionMethod": "pd.DataFrame",
       "ref": "d8e59142-c085-4b2f-8ca3-98b651a7c42f",
       "rows": [
        [
         "0",
         "Dawnftb",
         "37"
        ],
        [
         "1",
         "Oscarchoyzy24",
         "24"
        ],
        [
         "2",
         "shield_4545",
         "36"
        ],
        [
         "3",
         "polkomgyy44",
         "58"
        ],
        [
         "4",
         "Kazuyuki_Owen",
         "67"
        ],
        [
         "5",
         "Cogus_0828",
         "51"
        ],
        [
         "6",
         "jamesplayztv1",
         "48"
        ],
        [
         "7",
         "aryafariziii160",
         "60"
        ],
        [
         "8",
         "rttt_1234567",
         "44"
        ],
        [
         "9",
         "WazibaXD",
         "50"
        ],
        [
         "10",
         "anathaliakdc",
         "43"
        ],
        [
         "11",
         "David_Theusless",
         "33"
        ],
        [
         "12",
         "kylemanike",
         "69"
        ],
        [
         "13",
         "Sunfull1",
         "47"
        ],
        [
         "14",
         "PekaRockRuff",
         "45"
        ],
        [
         "15",
         "jesterproandnoob",
         "60"
        ],
        [
         "16",
         "mrflipsflapz",
         "61"
        ],
        [
         "17",
         "Kunfah2012",
         "18"
        ],
        [
         "18",
         "pensmen",
         "61"
        ],
        [
         "19",
         "Xernicus",
         "23"
        ],
        [
         "20",
         "encik_Faris",
         "47"
        ],
        [
         "21",
         "hotdoges142",
         "31"
        ]
       ],
       "shape": {
        "columns": 2,
        "rows": 22
       }
      },
      "text/html": [
       "<div>\n",
       "<style scoped>\n",
       "    .dataframe tbody tr th:only-of-type {\n",
       "        vertical-align: middle;\n",
       "    }\n",
       "\n",
       "    .dataframe tbody tr th {\n",
       "        vertical-align: top;\n",
       "    }\n",
       "\n",
       "    .dataframe thead th {\n",
       "        text-align: right;\n",
       "    }\n",
       "</style>\n",
       "<table border=\"1\" class=\"dataframe\">\n",
       "  <thead>\n",
       "    <tr style=\"text-align: right;\">\n",
       "      <th></th>\n",
       "      <th>name</th>\n",
       "      <th>kills</th>\n",
       "    </tr>\n",
       "  </thead>\n",
       "  <tbody>\n",
       "    <tr>\n",
       "      <th>0</th>\n",
       "      <td>Dawnftb</td>\n",
       "      <td>37</td>\n",
       "    </tr>\n",
       "    <tr>\n",
       "      <th>1</th>\n",
       "      <td>Oscarchoyzy24</td>\n",
       "      <td>24</td>\n",
       "    </tr>\n",
       "    <tr>\n",
       "      <th>2</th>\n",
       "      <td>shield_4545</td>\n",
       "      <td>36</td>\n",
       "    </tr>\n",
       "    <tr>\n",
       "      <th>3</th>\n",
       "      <td>polkomgyy44</td>\n",
       "      <td>58</td>\n",
       "    </tr>\n",
       "    <tr>\n",
       "      <th>4</th>\n",
       "      <td>Kazuyuki_Owen</td>\n",
       "      <td>67</td>\n",
       "    </tr>\n",
       "    <tr>\n",
       "      <th>5</th>\n",
       "      <td>Cogus_0828</td>\n",
       "      <td>51</td>\n",
       "    </tr>\n",
       "    <tr>\n",
       "      <th>6</th>\n",
       "      <td>jamesplayztv1</td>\n",
       "      <td>48</td>\n",
       "    </tr>\n",
       "    <tr>\n",
       "      <th>7</th>\n",
       "      <td>aryafariziii160</td>\n",
       "      <td>60</td>\n",
       "    </tr>\n",
       "    <tr>\n",
       "      <th>8</th>\n",
       "      <td>rttt_1234567</td>\n",
       "      <td>44</td>\n",
       "    </tr>\n",
       "    <tr>\n",
       "      <th>9</th>\n",
       "      <td>WazibaXD</td>\n",
       "      <td>50</td>\n",
       "    </tr>\n",
       "    <tr>\n",
       "      <th>10</th>\n",
       "      <td>anathaliakdc</td>\n",
       "      <td>43</td>\n",
       "    </tr>\n",
       "    <tr>\n",
       "      <th>11</th>\n",
       "      <td>David_Theusless</td>\n",
       "      <td>33</td>\n",
       "    </tr>\n",
       "    <tr>\n",
       "      <th>12</th>\n",
       "      <td>kylemanike</td>\n",
       "      <td>69</td>\n",
       "    </tr>\n",
       "    <tr>\n",
       "      <th>13</th>\n",
       "      <td>Sunfull1</td>\n",
       "      <td>47</td>\n",
       "    </tr>\n",
       "    <tr>\n",
       "      <th>14</th>\n",
       "      <td>PekaRockRuff</td>\n",
       "      <td>45</td>\n",
       "    </tr>\n",
       "    <tr>\n",
       "      <th>15</th>\n",
       "      <td>jesterproandnoob</td>\n",
       "      <td>60</td>\n",
       "    </tr>\n",
       "    <tr>\n",
       "      <th>16</th>\n",
       "      <td>mrflipsflapz</td>\n",
       "      <td>61</td>\n",
       "    </tr>\n",
       "    <tr>\n",
       "      <th>17</th>\n",
       "      <td>Kunfah2012</td>\n",
       "      <td>18</td>\n",
       "    </tr>\n",
       "    <tr>\n",
       "      <th>18</th>\n",
       "      <td>pensmen</td>\n",
       "      <td>61</td>\n",
       "    </tr>\n",
       "    <tr>\n",
       "      <th>19</th>\n",
       "      <td>Xernicus</td>\n",
       "      <td>23</td>\n",
       "    </tr>\n",
       "    <tr>\n",
       "      <th>20</th>\n",
       "      <td>encik_Faris</td>\n",
       "      <td>47</td>\n",
       "    </tr>\n",
       "    <tr>\n",
       "      <th>21</th>\n",
       "      <td>hotdoges142</td>\n",
       "      <td>31</td>\n",
       "    </tr>\n",
       "  </tbody>\n",
       "</table>\n",
       "</div>"
      ],
      "text/plain": [
       "                name  kills\n",
       "0            Dawnftb     37\n",
       "1      Oscarchoyzy24     24\n",
       "2        shield_4545     36\n",
       "3        polkomgyy44     58\n",
       "4      Kazuyuki_Owen     67\n",
       "5         Cogus_0828     51\n",
       "6      jamesplayztv1     48\n",
       "7    aryafariziii160     60\n",
       "8       rttt_1234567     44\n",
       "9           WazibaXD     50\n",
       "10      anathaliakdc     43\n",
       "11   David_Theusless     33\n",
       "12        kylemanike     69\n",
       "13          Sunfull1     47\n",
       "14      PekaRockRuff     45\n",
       "15  jesterproandnoob     60\n",
       "16      mrflipsflapz     61\n",
       "17        Kunfah2012     18\n",
       "18           pensmen     61\n",
       "19          Xernicus     23\n",
       "20       encik_Faris     47\n",
       "21       hotdoges142     31"
      ]
     },
     "execution_count": 48,
     "metadata": {},
     "output_type": "execute_result"
    }
   ],
   "source": [
    "df"
   ]
  },
  {
   "cell_type": "code",
   "execution_count": 49,
   "metadata": {},
   "outputs": [
    {
     "data": {
      "text/plain": [
       "kills\n",
       "61    1\n",
       "Name: count, dtype: int64"
      ]
     },
     "execution_count": 49,
     "metadata": {},
     "output_type": "execute_result"
    }
   ],
   "source": [
    "x = df[df[\"name\"] == \"mrflipsflapz\"]\n",
    "x[\"kills\"].value_counts()"
   ]
  },
  {
   "cell_type": "code",
   "execution_count": 50,
   "metadata": {},
   "outputs": [
    {
     "data": {
      "text/plain": [
       "Text(0.5, 1.0, 'Kills by Name')"
      ]
     },
     "execution_count": 50,
     "metadata": {},
     "output_type": "execute_result"
    },
    {
     "data": {
      "image/png": "[encoded data removed]",
      "text/plain": [
       "<Figure size 640x480 with 1 Axes>"
      ]
     },
     "metadata": {},
     "output_type": "display_data"
    }
   ],
   "source": [
    "plt.bar(x[\"name\"], x[\"kills\"])\n",
    "plt.title(\"Kills by Name\")"
   ]
  },
  {
   "cell_type": "markdown",
   "metadata": {},
   "source": [
    "# everyone avg"
   ]
  },
  {
   "cell_type": "code",
   "execution_count": 51,
   "metadata": {},
   "outputs": [
    {
     "name": "stdout",
     "output_type": "stream",
     "text": [
      "Dawnftb:🟡37.0\n",
      "Oscarchoyzy24:🟠24.0\n",
      "shield_4545:🟡36.0\n",
      "polkomgyy44:🔵58.0\n",
      "Kazuyuki_Owen:🔵67.0\n",
      "Cogus_0828:🟢51.0\n",
      "jamesplayztv1:🟢48.0\n",
      "aryafariziii160:🔵60.0\n",
      "rttt_1234567:🟡44.0\n",
      "WazibaXD:🟢50.0\n",
      "anathaliakdc:🟡43.0\n",
      "David_Theusless:🟠33.0\n",
      "kylemanike:🔵69.0\n",
      "Sunfull1:🟢47.0\n",
      "PekaRockRuff:🟢45.0\n",
      "jesterproandnoob:🔵60.0\n",
      "mrflipsflapz:🔵61.0\n",
      "Kunfah2012:🔴18.0\n",
      "pensmen:🔵61.0\n",
      "Xernicus:🟠23.0\n",
      "encik_Faris:🟢47.0\n",
      "hotdoges142:🟠31.0\n"
     ]
    }
   ],
   "source": [
    "names = df[\"name\"].unique()\n",
    "for i in names:\n",
    "    find_avg_everyone = df[df[\"name\"] == i]\n",
    "    if find_avg_everyone['kills'].mean() <= 20:\n",
    "        print(f\"{i}:🔴{round(find_avg_everyone['kills'].mean(),1)}\")\n",
    "    elif find_avg_everyone['kills'].mean() < 35:\n",
    "        print(f\"{i}:🟠{round(find_avg_everyone['kills'].mean(),1)}\")\n",
    "    elif find_avg_everyone['kills'].mean() >= 35 and find_avg_everyone['kills'].mean() < 45:\n",
    "        print(f\"{i}:🟡{round(find_avg_everyone['kills'].mean(),1)}\")\n",
    "    elif find_avg_everyone['kills'].mean() >= 45 and find_avg_everyone['kills'].mean() <= 55:\n",
    "        print(f\"{i}:🟢{round(find_avg_everyone['kills'].mean(),1)}\")\n",
    "    elif find_avg_everyone['kills'].mean() >= 55:\n",
    "            print(f\"{i}:🔵{round(find_avg_everyone['kills'].mean(),1)}\")\n",
    "    else:\n",
    "        print(f\"{i}:❤️{round(find_avg_everyone['kills'].mean(),1)}\")\n",
    "        \n",
    "        \n",
    "        \n",
    " # Create a new csv file with the average kills,attandance and color code\n",
    " # hi spikey      \n",
    "        \n",
    "    \n",
    "with open(\"avg.csv\",\"w\",encoding='utf-8') as file:\n",
    "    file.write(\"color_code,name,avg,atd\\n\")\n",
    "    \n",
    "    for i in names:\n",
    "        attandace = df[df[\"name\"] == i].value_counts().sum()\n",
    "        find_avg_everyone = df[df[\"name\"] == i]\n",
    "        \n",
    "        if find_avg_everyone['kills'].mean() <= 20:\n",
    "            file.write(f\"🔴,{i},{round(find_avg_everyone['kills'].mean(),1)},{attandace}\\n\")\n",
    "            \n",
    "        elif find_avg_everyone['kills'].mean() < 35:\n",
    "            file.write(f\"🟠,{i},{round(find_avg_everyone['kills'].mean(),1)},{attandace}\\n\")\n",
    "            \n",
    "        elif find_avg_everyone['kills'].mean() >= 35 and find_avg_everyone['kills'].mean() < 45:\n",
    "            file.write(f\"🟡,{i},{round(find_avg_everyone['kills'].mean(),1)},{attandace}\\n\")\n",
    "            \n",
    "        elif find_avg_everyone['kills'].mean() >= 45 and find_avg_everyone['kills'].mean() <= 55:\n",
    "            file.write(f\"🟢,{i},{round(find_avg_everyone['kills'].mean(),1)},{attandace}\\n\")\n",
    "        elif find_avg_everyone['kills'].mean() >= 55:\n",
    "            file.write(f\"🔵,{i},{round(find_avg_everyone['kills'].mean(),1)},{attandace}\\n\")\n",
    "        else:\n",
    "            file.write(f\"🩷,{i},{round(find_avg_everyone['kills'].mean(),1)},{attandace}\\n\")\n",
    "            \n",
    "    #file.write(\"The meaning of the colors are:\\n :red_circle: = 0-20\\n :orange_circle: = 20-34\\n :yellow_circle: = 35-44\\n :green_circle: = 45-55\\n :blue_circle: = 56-100\")\n",
    "    \n",
    "    "
   ]
  },
  {
   "cell_type": "code",
   "execution_count": 52,
   "metadata": {},
   "outputs": [
    {
     "data": {
      "application/vnd.microsoft.datawrangler.viewer.v0+json": {
       "columns": [
        {
         "name": "index",
         "rawType": "int64",
         "type": "integer"
        },
        {
         "name": "color_code",
         "rawType": "object",
         "type": "string"
        },
        {
         "name": "name",
         "rawType": "object",
         "type": "string"
        },
        {
         "name": "avg",
         "rawType": "float64",
         "type": "float"
        },
        {
         "name": "atd",
         "rawType": "int64",
         "type": "integer"
        }
       ],
       "conversionMethod": "pd.DataFrame",
       "ref": "7c1d615e-823e-47e5-827c-de97fcafa76c",
       "rows": [
        [
         "0",
         "🟡",
         "Dawnftb",
         "37.0",
         "1"
        ],
        [
         "1",
         "🟠",
         "Oscarchoyzy24",
         "24.0",
         "1"
        ],
        [
         "2",
         "🟡",
         "shield_4545",
         "36.0",
         "1"
        ],
        [
         "3",
         "🔵",
         "polkomgyy44",
         "58.0",
         "1"
        ],
        [
         "4",
         "🔵",
         "Kazuyuki_Owen",
         "67.0",
         "1"
        ],
        [
         "5",
         "🟢",
         "Cogus_0828",
         "51.0",
         "1"
        ],
        [
         "6",
         "🟢",
         "jamesplayztv1",
         "48.0",
         "1"
        ],
        [
         "7",
         "🔵",
         "aryafariziii160",
         "60.0",
         "1"
        ],
        [
         "8",
         "🟡",
         "rttt_1234567",
         "44.0",
         "1"
        ],
        [
         "9",
         "🟢",
         "WazibaXD",
         "50.0",
         "1"
        ],
        [
         "10",
         "🟡",
         "anathaliakdc",
         "43.0",
         "1"
        ],
        [
         "11",
         "🟠",
         "David_Theusless",
         "33.0",
         "1"
        ],
        [
         "12",
         "🔵",
         "kylemanike",
         "69.0",
         "1"
        ],
        [
         "13",
         "🟢",
         "Sunfull1",
         "47.0",
         "1"
        ],
        [
         "14",
         "🟢",
         "PekaRockRuff",
         "45.0",
         "1"
        ],
        [
         "15",
         "🔵",
         "jesterproandnoob",
         "60.0",
         "1"
        ],
        [
         "16",
         "🔵",
         "mrflipsflapz",
         "61.0",
         "1"
        ],
        [
         "17",
         "🔴",
         "Kunfah2012",
         "18.0",
         "1"
        ],
        [
         "18",
         "🔵",
         "pensmen",
         "61.0",
         "1"
        ],
        [
         "19",
         "🟠",
         "Xernicus",
         "23.0",
         "1"
        ],
        [
         "20",
         "🟢",
         "encik_Faris",
         "47.0",
         "1"
        ],
        [
         "21",
         "🟠",
         "hotdoges142",
         "31.0",
         "1"
        ]
       ],
       "shape": {
        "columns": 4,
        "rows": 22
       }
      },
      "text/html": [
       "<div>\n",
       "<style scoped>\n",
       "    .dataframe tbody tr th:only-of-type {\n",
       "        vertical-align: middle;\n",
       "    }\n",
       "\n",
       "    .dataframe tbody tr th {\n",
       "        vertical-align: top;\n",
       "    }\n",
       "\n",
       "    .dataframe thead th {\n",
       "        text-align: right;\n",
       "    }\n",
       "</style>\n",
       "<table border=\"1\" class=\"dataframe\">\n",
       "  <thead>\n",
       "    <tr style=\"text-align: right;\">\n",
       "      <th></th>\n",
       "      <th>color_code</th>\n",
       "      <th>name</th>\n",
       "      <th>avg</th>\n",
       "      <th>atd</th>\n",
       "    </tr>\n",
       "  </thead>\n",
       "  <tbody>\n",
       "    <tr>\n",
       "      <th>0</th>\n",
       "      <td>🟡</td>\n",
       "      <td>Dawnftb</td>\n",
       "      <td>37.0</td>\n",
       "      <td>1</td>\n",
       "    </tr>\n",
       "    <tr>\n",
       "      <th>1</th>\n",
       "      <td>🟠</td>\n",
       "      <td>Oscarchoyzy24</td>\n",
       "      <td>24.0</td>\n",
       "      <td>1</td>\n",
       "    </tr>\n",
       "    <tr>\n",
       "      <th>2</th>\n",
       "      <td>🟡</td>\n",
       "      <td>shield_4545</td>\n",
       "      <td>36.0</td>\n",
       "      <td>1</td>\n",
       "    </tr>\n",
       "    <tr>\n",
       "      <th>3</th>\n",
       "      <td>🔵</td>\n",
       "      <td>polkomgyy44</td>\n",
       "      <td>58.0</td>\n",
       "      <td>1</td>\n",
       "    </tr>\n",
       "    <tr>\n",
       "      <th>4</th>\n",
       "      <td>🔵</td>\n",
       "      <td>Kazuyuki_Owen</td>\n",
       "      <td>67.0</td>\n",
       "      <td>1</td>\n",
       "    </tr>\n",
       "    <tr>\n",
       "      <th>5</th>\n",
       "      <td>🟢</td>\n",
       "      <td>Cogus_0828</td>\n",
       "      <td>51.0</td>\n",
       "      <td>1</td>\n",
       "    </tr>\n",
       "    <tr>\n",
       "      <th>6</th>\n",
       "      <td>🟢</td>\n",
       "      <td>jamesplayztv1</td>\n",
       "      <td>48.0</td>\n",
       "      <td>1</td>\n",
       "    </tr>\n",
       "    <tr>\n",
       "      <th>7</th>\n",
       "      <td>🔵</td>\n",
       "      <td>aryafariziii160</td>\n",
       "      <td>60.0</td>\n",
       "      <td>1</td>\n",
       "    </tr>\n",
       "    <tr>\n",
       "      <th>8</th>\n",
       "      <td>🟡</td>\n",
       "      <td>rttt_1234567</td>\n",
       "      <td>44.0</td>\n",
       "      <td>1</td>\n",
       "    </tr>\n",
       "    <tr>\n",
       "      <th>9</th>\n",
       "      <td>🟢</td>\n",
       "      <td>WazibaXD</td>\n",
       "      <td>50.0</td>\n",
       "      <td>1</td>\n",
       "    </tr>\n",
       "    <tr>\n",
       "      <th>10</th>\n",
       "      <td>🟡</td>\n",
       "      <td>anathaliakdc</td>\n",
       "      <td>43.0</td>\n",
       "      <td>1</td>\n",
       "    </tr>\n",
       "    <tr>\n",
       "      <th>11</th>\n",
       "      <td>🟠</td>\n",
       "      <td>David_Theusless</td>\n",
       "      <td>33.0</td>\n",
       "      <td>1</td>\n",
       "    </tr>\n",
       "    <tr>\n",
       "      <th>12</th>\n",
       "      <td>🔵</td>\n",
       "      <td>kylemanike</td>\n",
       "      <td>69.0</td>\n",
       "      <td>1</td>\n",
       "    </tr>\n",
       "    <tr>\n",
       "      <th>13</th>\n",
       "      <td>🟢</td>\n",
       "      <td>Sunfull1</td>\n",
       "      <td>47.0</td>\n",
       "      <td>1</td>\n",
       "    </tr>\n",
       "    <tr>\n",
       "      <th>14</th>\n",
       "      <td>🟢</td>\n",
       "      <td>PekaRockRuff</td>\n",
       "      <td>45.0</td>\n",
       "      <td>1</td>\n",
       "    </tr>\n",
       "    <tr>\n",
       "      <th>15</th>\n",
       "      <td>🔵</td>\n",
       "      <td>jesterproandnoob</td>\n",
       "      <td>60.0</td>\n",
       "      <td>1</td>\n",
       "    </tr>\n",
       "    <tr>\n",
       "      <th>16</th>\n",
       "      <td>🔵</td>\n",
       "      <td>mrflipsflapz</td>\n",
       "      <td>61.0</td>\n",
       "      <td>1</td>\n",
       "    </tr>\n",
       "    <tr>\n",
       "      <th>17</th>\n",
       "      <td>🔴</td>\n",
       "      <td>Kunfah2012</td>\n",
       "      <td>18.0</td>\n",
       "      <td>1</td>\n",
       "    </tr>\n",
       "    <tr>\n",
       "      <th>18</th>\n",
       "      <td>🔵</td>\n",
       "      <td>pensmen</td>\n",
       "      <td>61.0</td>\n",
       "      <td>1</td>\n",
       "    </tr>\n",
       "    <tr>\n",
       "      <th>19</th>\n",
       "      <td>🟠</td>\n",
       "      <td>Xernicus</td>\n",
       "      <td>23.0</td>\n",
       "      <td>1</td>\n",
       "    </tr>\n",
       "    <tr>\n",
       "      <th>20</th>\n",
       "      <td>🟢</td>\n",
       "      <td>encik_Faris</td>\n",
       "      <td>47.0</td>\n",
       "      <td>1</td>\n",
       "    </tr>\n",
       "    <tr>\n",
       "      <th>21</th>\n",
       "      <td>🟠</td>\n",
       "      <td>hotdoges142</td>\n",
       "      <td>31.0</td>\n",
       "      <td>1</td>\n",
       "    </tr>\n",
       "  </tbody>\n",
       "</table>\n",
       "</div>"
      ],
      "text/plain": [
       "   color_code              name   avg  atd\n",
       "0           🟡           Dawnftb  37.0    1\n",
       "1           🟠     Oscarchoyzy24  24.0    1\n",
       "2           🟡       shield_4545  36.0    1\n",
       "3           🔵       polkomgyy44  58.0    1\n",
       "4           🔵     Kazuyuki_Owen  67.0    1\n",
       "5           🟢        Cogus_0828  51.0    1\n",
       "6           🟢     jamesplayztv1  48.0    1\n",
       "7           🔵   aryafariziii160  60.0    1\n",
       "8           🟡      rttt_1234567  44.0    1\n",
       "9           🟢          WazibaXD  50.0    1\n",
       "10          🟡      anathaliakdc  43.0    1\n",
       "11          🟠   David_Theusless  33.0    1\n",
       "12          🔵        kylemanike  69.0    1\n",
       "13          🟢          Sunfull1  47.0    1\n",
       "14          🟢      PekaRockRuff  45.0    1\n",
       "15          🔵  jesterproandnoob  60.0    1\n",
       "16          🔵      mrflipsflapz  61.0    1\n",
       "17          🔴        Kunfah2012  18.0    1\n",
       "18          🔵           pensmen  61.0    1\n",
       "19          🟠          Xernicus  23.0    1\n",
       "20          🟢       encik_Faris  47.0    1\n",
       "21          🟠       hotdoges142  31.0    1"
      ]
     },
     "execution_count": 52,
     "metadata": {},
     "output_type": "execute_result"
    }
   ],
   "source": [
    "df2 = pd.read_csv('avg.csv')\n",
    "df2"
   ]
  },
  {
   "cell_type": "code",
   "execution_count": 53,
   "metadata": {},
   "outputs": [],
   "source": [
    "df2.sort_values(ascending=False,by=\"avg\").to_csv(\"avg2.csv\",index=False)"
   ]
  },
  {
   "cell_type": "code",
   "execution_count": 54,
   "metadata": {},
   "outputs": [],
   "source": [
    "with open(\"avg2.csv\",\"a+\",encoding=\"utf-8\") as file:\n",
    "    file.write(\"The meaning of the colors are:\\n 🔴 = 0-20\\n 🟠 = 20-34\\n 🟡 = 35-44\\n 🟢 = 45-55\\n 🔵 = 56-100\")"
   ]
  }
 ],
 "metadata": {
  "kernelspec": {
   "display_name": "Python 3",
   "language": "python",
   "name": "python3"
  },
  "language_info": {
   "codemirror_mode": {
    "name": "ipython",
    "version": 3
   },
   "file_extension": ".py",
   "mimetype": "text/x-python",
   "name": "python",
   "nbconvert_exporter": "python",
   "pygments_lexer": "ipython3",
   "version": "3.11.9"
  }
 },
 "nbformat": 4,
 "nbformat_minor": 2
}
