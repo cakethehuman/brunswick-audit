{
 "cells": [
  {
   "cell_type": "code",
   "execution_count": 39,
   "metadata": {},
   "outputs": [],
   "source": [
    "import pandas as pd\n",
    "import numpy as np\n",
    "import matplotlib.pyplot as plt\n",
    "import seaborn as sns\n",
    "import scipy.stats as stats"
   ]
  },
  {
   "cell_type": "markdown",
   "metadata": {},
   "source": [
    "# We read the data first"
   ]
  },
  {
   "cell_type": "code",
   "execution_count": 40,
   "metadata": {},
   "outputs": [],
   "source": [
    "df = pd.read_csv('data.csv')"
   ]
  },
  {
   "cell_type": "code",
   "execution_count": 41,
   "metadata": {},
   "outputs": [
    {
     "data": {
      "application/vnd.microsoft.datawrangler.viewer.v0+json": {
       "columns": [
        {
         "name": "index",
         "rawType": "int64",
         "type": "integer"
        },
        {
         "name": "name",
         "rawType": "object",
         "type": "string"
        },
        {
         "name": "kills",
         "rawType": "int64",
         "type": "integer"
        },
        {
         "name": "date",
         "rawType": "object",
         "type": "string"
        }
       ],
       "conversionMethod": "pd.DataFrame",
       "ref": "a9859308-e15e-43e6-92fc-4d85c134c18c",
       "rows": [
        [
         "0",
         "Dawnftb",
         "51",
         "2025-02-18."
        ],
        [
         "1",
         "Oscarchoyzy24",
         "72",
         "2025-02-18."
        ],
        [
         "2",
         "spikey_001",
         "46",
         "2025-02-18."
        ],
        [
         "3",
         "jamesplayztv1",
         "0",
         "2025-02-18."
        ],
        [
         "4",
         "Mitsubira_Aratoshi",
         "67",
         "2025-02-18."
        ],
        [
         "5",
         "anathaliakdc",
         "45",
         "2025-02-18."
        ],
        [
         "6",
         "jgwen19",
         "56",
         "2025-02-18."
        ],
        [
         "7",
         "FrailBailen",
         "52",
         "2025-02-18."
        ],
        [
         "8",
         "mrflipsflapz",
         "52",
         "2025-02-18."
        ],
        [
         "9",
         "HarArkhichen",
         "30",
         "2025-02-18."
        ],
        [
         "10",
         "SeaV1per1224",
         "52",
         "2025-02-18."
        ],
        [
         "11",
         "O56IsHere",
         "29",
         "2025-02-18."
        ],
        [
         "12",
         "jiajun129",
         "47",
         "2025-02-18."
        ],
        [
         "13",
         "zoommine0423",
         "22",
         "2025-02-18."
        ],
        [
         "14",
         "polkomgyy44",
         "44",
         "2025-02-18."
        ],
        [
         "15",
         "kite_167",
         "22",
         "2025-02-18."
        ],
        [
         "16",
         "nickthegodrider1289",
         "42",
         "2025-02-18."
        ],
        [
         "17",
         "commander_cookie1234",
         "29",
         "2025-02-18."
        ],
        [
         "18",
         "HAPPY27259",
         "73",
         "2025-02-18."
        ],
        [
         "19",
         "AERBUTE1",
         "41",
         "2025-02-18."
        ],
        [
         "20",
         "Gariksz",
         "53",
         "2025-02-18."
        ],
        [
         "21",
         "chanmeme1",
         "53",
         "2025-02-18."
        ],
        [
         "22",
         "spikey_001",
         "53",
         "2025-02-20"
        ],
        [
         "23",
         "jamesplayztv1",
         "46",
         "2025-02-20"
        ],
        [
         "24",
         "Kazuyuki_Owen",
         "61",
         "2025-02-20"
        ],
        [
         "25",
         "SireHalo",
         "23",
         "2025-02-20"
        ],
        [
         "26",
         "polkomgyy44",
         "48",
         "2025-02-20"
        ],
        [
         "27",
         "raka6792",
         "20",
         "2025-02-20"
        ],
        [
         "28",
         "mrflipsflapz",
         "49",
         "2025-02-20"
        ],
        [
         "29",
         "anathaliakdc",
         "27",
         "2025-02-20"
        ],
        [
         "30",
         "jgwen19",
         "54",
         "2025-02-20"
        ],
        [
         "31",
         "pancake_w1",
         "40",
         "2025-02-20"
        ],
        [
         "32",
         "dsastetmfvm",
         "71",
         "2025-02-20"
        ],
        [
         "33",
         "Mitsubira_Aratoshi",
         "80",
         "2025-02-20"
        ],
        [
         "34",
         "eiltene123",
         "49",
         "2025-02-20"
        ],
        [
         "35",
         "jiajun129",
         "44",
         "2025-02-20"
        ],
        [
         "36",
         "Oscarchoyzy24",
         "81",
         "2025-02-20"
        ],
        [
         "37",
         "NovaGlyp",
         "52",
         "2025-02-20"
        ],
        [
         "38",
         "Liklyboos221",
         "57",
         "2025-02-20"
        ],
        [
         "39",
         "jesterproandnoob",
         "39",
         "2025-02-20"
        ],
        [
         "40",
         "HAPPY27259",
         "65",
         "2025-02-20"
        ],
        [
         "41",
         "Gariksz",
         "53",
         "2025-02-20"
        ],
        [
         "42",
         "Xernicus",
         "38",
         "2025-02-20"
        ],
        [
         "43",
         "Not_short5151",
         "5",
         "2025-02-20"
        ],
        [
         "44",
         "nickthegodrider1289",
         "44",
         "2025-02-20"
        ],
        [
         "45",
         "commander_cookie1234",
         "41",
         "2025-02-20"
        ],
        [
         "46",
         "kite_167",
         "25",
         "2025-02-20"
        ],
        [
         "47",
         "Dawnftb",
         "34",
         "2025-02-20"
        ],
        [
         "48",
         "chanmeme1",
         "43",
         "2025-02-20"
        ],
        [
         "49",
         "SeaV1per1224",
         "67",
         "2025-02-21"
        ]
       ],
       "shape": {
        "columns": 3,
        "rows": 75
       }
      },
      "text/html": [
       "<div>\n",
       "<style scoped>\n",
       "    .dataframe tbody tr th:only-of-type {\n",
       "        vertical-align: middle;\n",
       "    }\n",
       "\n",
       "    .dataframe tbody tr th {\n",
       "        vertical-align: top;\n",
       "    }\n",
       "\n",
       "    .dataframe thead th {\n",
       "        text-align: right;\n",
       "    }\n",
       "</style>\n",
       "<table border=\"1\" class=\"dataframe\">\n",
       "  <thead>\n",
       "    <tr style=\"text-align: right;\">\n",
       "      <th></th>\n",
       "      <th>name</th>\n",
       "      <th>kills</th>\n",
       "      <th>date</th>\n",
       "    </tr>\n",
       "  </thead>\n",
       "  <tbody>\n",
       "    <tr>\n",
       "      <th>0</th>\n",
       "      <td>Dawnftb</td>\n",
       "      <td>51</td>\n",
       "      <td>2025-02-18.</td>\n",
       "    </tr>\n",
       "    <tr>\n",
       "      <th>1</th>\n",
       "      <td>Oscarchoyzy24</td>\n",
       "      <td>72</td>\n",
       "      <td>2025-02-18.</td>\n",
       "    </tr>\n",
       "    <tr>\n",
       "      <th>2</th>\n",
       "      <td>spikey_001</td>\n",
       "      <td>46</td>\n",
       "      <td>2025-02-18.</td>\n",
       "    </tr>\n",
       "    <tr>\n",
       "      <th>3</th>\n",
       "      <td>jamesplayztv1</td>\n",
       "      <td>0</td>\n",
       "      <td>2025-02-18.</td>\n",
       "    </tr>\n",
       "    <tr>\n",
       "      <th>4</th>\n",
       "      <td>Mitsubira_Aratoshi</td>\n",
       "      <td>67</td>\n",
       "      <td>2025-02-18.</td>\n",
       "    </tr>\n",
       "    <tr>\n",
       "      <th>...</th>\n",
       "      <td>...</td>\n",
       "      <td>...</td>\n",
       "      <td>...</td>\n",
       "    </tr>\n",
       "    <tr>\n",
       "      <th>70</th>\n",
       "      <td>Oscarchoyzy24</td>\n",
       "      <td>89</td>\n",
       "      <td>2025-02-21</td>\n",
       "    </tr>\n",
       "    <tr>\n",
       "      <th>71</th>\n",
       "      <td>Liklyboos221</td>\n",
       "      <td>71</td>\n",
       "      <td>2025-02-21</td>\n",
       "    </tr>\n",
       "    <tr>\n",
       "      <th>72</th>\n",
       "      <td>chanmeme1</td>\n",
       "      <td>47</td>\n",
       "      <td>2025-02-21</td>\n",
       "    </tr>\n",
       "    <tr>\n",
       "      <th>73</th>\n",
       "      <td>TomMiaorblx</td>\n",
       "      <td>16</td>\n",
       "      <td>2025-02-21</td>\n",
       "    </tr>\n",
       "    <tr>\n",
       "      <th>74</th>\n",
       "      <td>CharIotteReis</td>\n",
       "      <td>89</td>\n",
       "      <td>2025-02-21</td>\n",
       "    </tr>\n",
       "  </tbody>\n",
       "</table>\n",
       "<p>75 rows × 3 columns</p>\n",
       "</div>"
      ],
      "text/plain": [
       "                  name  kills         date\n",
       "0              Dawnftb     51  2025-02-18.\n",
       "1        Oscarchoyzy24     72  2025-02-18.\n",
       "2           spikey_001     46  2025-02-18.\n",
       "3        jamesplayztv1      0  2025-02-18.\n",
       "4   Mitsubira_Aratoshi     67  2025-02-18.\n",
       "..                 ...    ...          ...\n",
       "70       Oscarchoyzy24     89   2025-02-21\n",
       "71        Liklyboos221     71   2025-02-21\n",
       "72           chanmeme1     47   2025-02-21\n",
       "73         TomMiaorblx     16   2025-02-21\n",
       "74       CharIotteReis     89   2025-02-21\n",
       "\n",
       "[75 rows x 3 columns]"
      ]
     },
     "execution_count": 41,
     "metadata": {},
     "output_type": "execute_result"
    }
   ],
   "source": [
    "df"
   ]
  },
  {
   "cell_type": "markdown",
   "metadata": {},
   "source": [
    "# Top 10 attandence all time"
   ]
  },
  {
   "cell_type": "code",
   "execution_count": 42,
   "metadata": {},
   "outputs": [
    {
     "data": {
      "image/png": "[encoded data removed]",
      "text/plain": [
       "<Figure size 640x480 with 1 Axes>"
      ]
     },
     "metadata": {},
     "output_type": "display_data"
    }
   ],
   "source": [
    "df[\"name\"].value_counts().nlargest(10).plot(kind='bar',colormap='viridis')\n",
    "plt.title(\"Attendance by Name\")\n",
    "plt.xlabel(\"Name\")\n",
    "plt.ylabel(\"Attendance\")\n",
    "plt.show()"
   ]
  },
  {
   "cell_type": "markdown",
   "metadata": {},
   "source": [
    "# avg attadance"
   ]
  },
  {
   "cell_type": "code",
   "execution_count": 43,
   "metadata": {},
   "outputs": [
    {
     "data": {
      "text/plain": [
       "2"
      ]
     },
     "execution_count": 43,
     "metadata": {},
     "output_type": "execute_result"
    }
   ],
   "source": [
    "round(df[\"name\"].value_counts().mean())"
   ]
  },
  {
   "cell_type": "markdown",
   "metadata": {},
   "source": [
    "# find there attadance"
   ]
  },
  {
   "cell_type": "code",
   "execution_count": 44,
   "metadata": {},
   "outputs": [
    {
     "data": {
      "application/vnd.microsoft.datawrangler.viewer.v0+json": {
       "columns": [
        {
         "name": "index",
         "rawType": "int64",
         "type": "integer"
        },
        {
         "name": "name",
         "rawType": "object",
         "type": "string"
        },
        {
         "name": "kills",
         "rawType": "int64",
         "type": "integer"
        },
        {
         "name": "date",
         "rawType": "object",
         "type": "string"
        }
       ],
       "conversionMethod": "pd.DataFrame",
       "ref": "799a435b-1f23-4ff0-b0e5-f0d96f6ddac3",
       "rows": [
        [
         "8",
         "mrflipsflapz",
         "52",
         "2025-02-18."
        ],
        [
         "28",
         "mrflipsflapz",
         "49",
         "2025-02-20"
        ]
       ],
       "shape": {
        "columns": 3,
        "rows": 2
       }
      },
      "text/html": [
       "<div>\n",
       "<style scoped>\n",
       "    .dataframe tbody tr th:only-of-type {\n",
       "        vertical-align: middle;\n",
       "    }\n",
       "\n",
       "    .dataframe tbody tr th {\n",
       "        vertical-align: top;\n",
       "    }\n",
       "\n",
       "    .dataframe thead th {\n",
       "        text-align: right;\n",
       "    }\n",
       "</style>\n",
       "<table border=\"1\" class=\"dataframe\">\n",
       "  <thead>\n",
       "    <tr style=\"text-align: right;\">\n",
       "      <th></th>\n",
       "      <th>name</th>\n",
       "      <th>kills</th>\n",
       "      <th>date</th>\n",
       "    </tr>\n",
       "  </thead>\n",
       "  <tbody>\n",
       "    <tr>\n",
       "      <th>8</th>\n",
       "      <td>mrflipsflapz</td>\n",
       "      <td>52</td>\n",
       "      <td>2025-02-18.</td>\n",
       "    </tr>\n",
       "    <tr>\n",
       "      <th>28</th>\n",
       "      <td>mrflipsflapz</td>\n",
       "      <td>49</td>\n",
       "      <td>2025-02-20</td>\n",
       "    </tr>\n",
       "  </tbody>\n",
       "</table>\n",
       "</div>"
      ],
      "text/plain": [
       "            name  kills         date\n",
       "8   mrflipsflapz     52  2025-02-18.\n",
       "28  mrflipsflapz     49   2025-02-20"
      ]
     },
     "execution_count": 44,
     "metadata": {},
     "output_type": "execute_result"
    }
   ],
   "source": [
    "df[df['name'] == \"mrflipsflapz\"]\n"
   ]
  },
  {
   "cell_type": "markdown",
   "metadata": {},
   "source": [
    "# attadance for 1 week that is x >= 3\n",
    "\n"
   ]
  },
  {
   "cell_type": "code",
   "execution_count": 45,
   "metadata": {},
   "outputs": [
    {
     "data": {
      "text/plain": [
       "name\n",
       "Dawnftb                 True\n",
       "Oscarchoyzy24           True\n",
       "jamesplayztv1           True\n",
       "Mitsubira_Aratoshi      True\n",
       "anathaliakdc            True\n",
       "commander_cookie1234    True\n",
       "polkomgyy44             True\n",
       "kite_167                True\n",
       "nickthegodrider1289     True\n",
       "jiajun129               True\n",
       "Gariksz                 True\n",
       "chanmeme1               True\n",
       "Name: count, dtype: bool"
      ]
     },
     "execution_count": 45,
     "metadata": {},
     "output_type": "execute_result"
    }
   ],
   "source": [
    "check_attadance = df[\"name\"].value_counts() >= 3\n",
    "check_attadance.map({True: 1, False: 0})\n",
    "check_attadance[check_attadance == 1]\n"
   ]
  },
  {
   "cell_type": "markdown",
   "metadata": {},
   "source": [
    "# Historigram for kills "
   ]
  },
  {
   "cell_type": "code",
   "execution_count": 46,
   "metadata": {},
   "outputs": [
    {
     "data": {
      "image/png": "[encoded data removed]",
      "text/plain": [
       "<Figure size 640x480 with 1 Axes>"
      ]
     },
     "metadata": {},
     "output_type": "display_data"
    }
   ],
   "source": [
    "\n",
    "\n",
    "plt.hist(df[\"kills\"], bins=15, color='green', edgecolor='black')\n",
    "\n",
    "plt.title(\"finding the average kills\")\n",
    "plt.plot()\n",
    "plt.show()"
   ]
  },
  {
   "cell_type": "code",
   "execution_count": 47,
   "metadata": {},
   "outputs": [
    {
     "name": "stdout",
     "output_type": "stream",
     "text": [
      "The average kills for everyone is:  47\n"
     ]
    }
   ],
   "source": [
    "avg_kills_everyone = df[\"kills\"].mean()\n",
    "print(\"The average kills for everyone is: \", round(avg_kills_everyone))"
   ]
  },
  {
   "cell_type": "markdown",
   "metadata": {},
   "source": [
    "# There top 5 kills each person"
   ]
  },
  {
   "cell_type": "code",
   "execution_count": 48,
   "metadata": {},
   "outputs": [
    {
     "name": "stdout",
     "output_type": "stream",
     "text": [
      "50.5\n"
     ]
    },
    {
     "data": {
      "image/png": "[encoded data removed]",
      "text/plain": [
       "<Figure size 640x480 with 1 Axes>"
      ]
     },
     "metadata": {},
     "output_type": "display_data"
    }
   ],
   "source": [
    "find_avg = df[df[\"name\"] == \"mrflipsflapz\"]\n",
    "#you can put anyname \n",
    "print(find_avg[\"kills\"].mean())\n",
    "\n",
    "number_sort = find_avg[\"kills\"].sort_values(ascending=False)\n",
    "\n",
    "plt.bar(find_avg.sort_values(ascending=False, by=\"kills\")[\"date\"], find_avg[\"kills\"].sort_values(ascending=False), color='black')\n",
    "\n",
    "\n",
    "        \n",
    "plt.title(f\"Kills by Date by {find_avg['name'].iloc[0]}\")\n",
    "plt.xticks(rotation=90)\n",
    "plt.xlabel(\"Date\")\n",
    "plt.ylabel(\"Kills\")\n",
    "plt.show()"
   ]
  },
  {
   "cell_type": "code",
   "execution_count": 49,
   "metadata": {},
   "outputs": [
    {
     "data": {
      "application/vnd.microsoft.datawrangler.viewer.v0+json": {
       "columns": [
        {
         "name": "index",
         "rawType": "int64",
         "type": "integer"
        },
        {
         "name": "name",
         "rawType": "object",
         "type": "string"
        },
        {
         "name": "kills",
         "rawType": "int64",
         "type": "integer"
        },
        {
         "name": "date",
         "rawType": "object",
         "type": "string"
        }
       ],
       "conversionMethod": "pd.DataFrame",
       "ref": "872360f5-08ef-41b7-bdbf-a31c4cbd58ea",
       "rows": [],
       "shape": {
        "columns": 3,
        "rows": 0
       }
      },
      "text/html": [
       "<div>\n",
       "<style scoped>\n",
       "    .dataframe tbody tr th:only-of-type {\n",
       "        vertical-align: middle;\n",
       "    }\n",
       "\n",
       "    .dataframe tbody tr th {\n",
       "        vertical-align: top;\n",
       "    }\n",
       "\n",
       "    .dataframe thead th {\n",
       "        text-align: right;\n",
       "    }\n",
       "</style>\n",
       "<table border=\"1\" class=\"dataframe\">\n",
       "  <thead>\n",
       "    <tr style=\"text-align: right;\">\n",
       "      <th></th>\n",
       "      <th>name</th>\n",
       "      <th>kills</th>\n",
       "      <th>date</th>\n",
       "    </tr>\n",
       "  </thead>\n",
       "  <tbody>\n",
       "  </tbody>\n",
       "</table>\n",
       "</div>"
      ],
      "text/plain": [
       "Empty DataFrame\n",
       "Columns: [name, kills, date]\n",
       "Index: []"
      ]
     },
     "execution_count": 49,
     "metadata": {},
     "output_type": "execute_result"
    }
   ],
   "source": [
    "df[df[\"name\"] == \"jellyy112345\"]"
   ]
  },
  {
   "cell_type": "markdown",
   "metadata": {},
   "source": [
    "# everyone avg"
   ]
  },
  {
   "cell_type": "code",
   "execution_count": 50,
   "metadata": {},
   "outputs": [
    {
     "name": "stdout",
     "output_type": "stream",
     "text": [
      "Dawnftb:36\n",
      "Oscarchoyzy24:81\n",
      "spikey_001:50\n",
      "jamesplayztv1:33\n",
      "Mitsubira_Aratoshi:75\n",
      "anathaliakdc:34\n",
      "jgwen19:55\n",
      "FrailBailen:54\n",
      "mrflipsflapz:50\n",
      "HarArkhichen:30\n",
      "SeaV1per1224:60\n",
      "O56IsHere:29\n",
      "jiajun129:47\n",
      "zoommine0423:22\n",
      "polkomgyy44:47\n",
      "kite_167:27\n",
      "nickthegodrider1289:43\n",
      "commander_cookie1234:38\n",
      "HAPPY27259:69\n",
      "AERBUTE1:56\n",
      "Gariksz:59\n",
      "chanmeme1:48\n",
      "Kazuyuki_Owen:61\n",
      "SireHalo:23\n",
      "raka6792:20\n",
      "pancake_w1:40\n",
      "dsastetmfvm:71\n",
      "eiltene123:49\n",
      "NovaGlyp:52\n",
      "Liklyboos221:64\n",
      "jesterproandnoob:44\n",
      "Xernicus:38\n",
      "Not_short5151:5\n",
      "GeorgeDroidMaxngFent:82\n",
      "gtmsgamerG:28\n",
      "Croezg:37\n",
      "Nero_Kauko:12\n",
      "wninju:30\n",
      "Indonesia_ofMalaysia:47\n",
      "kurtdylan1111:37\n",
      "TomMiaorblx:16\n",
      "CharIotteReis:89\n"
     ]
    }
   ],
   "source": [
    "names = df[\"name\"].unique()\n",
    "for i in names:\n",
    "    find_avg_everyone = df[df[\"name\"] == i]\n",
    "    print(f\"{i}:{round(find_avg_everyone['kills'].mean())}\")\n",
    "    \n",
    "with open(\"avg.csv\",\"w\") as file:\n",
    "    file.write(\"name,avg\\n\")\n",
    "    for i in names:\n",
    "        find_avg_everyone = df[df[\"name\"] == i]\n",
    "        file.write(f\"{i},{round(find_avg_everyone['kills'].mean())}\\n\")\n",
    "    "
   ]
  },
  {
   "cell_type": "markdown",
   "metadata": {},
   "source": [
    "# check the second csv btw this is for this week\n",
    "we read the data"
   ]
  },
  {
   "cell_type": "code",
   "execution_count": 51,
   "metadata": {},
   "outputs": [],
   "source": [
    "df2 = pd.read_csv('avg.csv')"
   ]
  },
  {
   "cell_type": "code",
   "execution_count": 52,
   "metadata": {},
   "outputs": [
    {
     "data": {
      "application/vnd.microsoft.datawrangler.viewer.v0+json": {
       "columns": [
        {
         "name": "index",
         "rawType": "int64",
         "type": "integer"
        },
        {
         "name": "name",
         "rawType": "object",
         "type": "string"
        },
        {
         "name": "avg",
         "rawType": "int64",
         "type": "integer"
        }
       ],
       "conversionMethod": "pd.DataFrame",
       "ref": "bd006a38-3432-41aa-987e-bc397164c995",
       "rows": [
        [
         "0",
         "Dawnftb",
         "36"
        ],
        [
         "1",
         "Oscarchoyzy24",
         "81"
        ],
        [
         "2",
         "spikey_001",
         "50"
        ],
        [
         "3",
         "jamesplayztv1",
         "33"
        ],
        [
         "4",
         "Mitsubira_Aratoshi",
         "75"
        ],
        [
         "5",
         "anathaliakdc",
         "34"
        ],
        [
         "6",
         "jgwen19",
         "55"
        ],
        [
         "7",
         "FrailBailen",
         "54"
        ],
        [
         "8",
         "mrflipsflapz",
         "50"
        ],
        [
         "9",
         "HarArkhichen",
         "30"
        ],
        [
         "10",
         "SeaV1per1224",
         "60"
        ],
        [
         "11",
         "O56IsHere",
         "29"
        ],
        [
         "12",
         "jiajun129",
         "47"
        ],
        [
         "13",
         "zoommine0423",
         "22"
        ],
        [
         "14",
         "polkomgyy44",
         "47"
        ],
        [
         "15",
         "kite_167",
         "27"
        ],
        [
         "16",
         "nickthegodrider1289",
         "43"
        ],
        [
         "17",
         "commander_cookie1234",
         "38"
        ],
        [
         "18",
         "HAPPY27259",
         "69"
        ],
        [
         "19",
         "AERBUTE1",
         "56"
        ],
        [
         "20",
         "Gariksz",
         "59"
        ],
        [
         "21",
         "chanmeme1",
         "48"
        ],
        [
         "22",
         "Kazuyuki_Owen",
         "61"
        ],
        [
         "23",
         "SireHalo",
         "23"
        ],
        [
         "24",
         "raka6792",
         "20"
        ],
        [
         "25",
         "pancake_w1",
         "40"
        ],
        [
         "26",
         "dsastetmfvm",
         "71"
        ],
        [
         "27",
         "eiltene123",
         "49"
        ],
        [
         "28",
         "NovaGlyp",
         "52"
        ],
        [
         "29",
         "Liklyboos221",
         "64"
        ],
        [
         "30",
         "jesterproandnoob",
         "44"
        ],
        [
         "31",
         "Xernicus",
         "38"
        ],
        [
         "32",
         "Not_short5151",
         "5"
        ],
        [
         "33",
         "GeorgeDroidMaxngFent",
         "82"
        ],
        [
         "34",
         "gtmsgamerG",
         "28"
        ],
        [
         "35",
         "Croezg",
         "37"
        ],
        [
         "36",
         "Nero_Kauko",
         "12"
        ],
        [
         "37",
         "wninju",
         "30"
        ],
        [
         "38",
         "Indonesia_ofMalaysia",
         "47"
        ],
        [
         "39",
         "kurtdylan1111",
         "37"
        ],
        [
         "40",
         "TomMiaorblx",
         "16"
        ],
        [
         "41",
         "CharIotteReis",
         "89"
        ]
       ],
       "shape": {
        "columns": 2,
        "rows": 42
       }
      },
      "text/html": [
       "<div>\n",
       "<style scoped>\n",
       "    .dataframe tbody tr th:only-of-type {\n",
       "        vertical-align: middle;\n",
       "    }\n",
       "\n",
       "    .dataframe tbody tr th {\n",
       "        vertical-align: top;\n",
       "    }\n",
       "\n",
       "    .dataframe thead th {\n",
       "        text-align: right;\n",
       "    }\n",
       "</style>\n",
       "<table border=\"1\" class=\"dataframe\">\n",
       "  <thead>\n",
       "    <tr style=\"text-align: right;\">\n",
       "      <th></th>\n",
       "      <th>name</th>\n",
       "      <th>avg</th>\n",
       "    </tr>\n",
       "  </thead>\n",
       "  <tbody>\n",
       "    <tr>\n",
       "      <th>0</th>\n",
       "      <td>Dawnftb</td>\n",
       "      <td>36</td>\n",
       "    </tr>\n",
       "    <tr>\n",
       "      <th>1</th>\n",
       "      <td>Oscarchoyzy24</td>\n",
       "      <td>81</td>\n",
       "    </tr>\n",
       "    <tr>\n",
       "      <th>2</th>\n",
       "      <td>spikey_001</td>\n",
       "      <td>50</td>\n",
       "    </tr>\n",
       "    <tr>\n",
       "      <th>3</th>\n",
       "      <td>jamesplayztv1</td>\n",
       "      <td>33</td>\n",
       "    </tr>\n",
       "    <tr>\n",
       "      <th>4</th>\n",
       "      <td>Mitsubira_Aratoshi</td>\n",
       "      <td>75</td>\n",
       "    </tr>\n",
       "    <tr>\n",
       "      <th>5</th>\n",
       "      <td>anathaliakdc</td>\n",
       "      <td>34</td>\n",
       "    </tr>\n",
       "    <tr>\n",
       "      <th>6</th>\n",
       "      <td>jgwen19</td>\n",
       "      <td>55</td>\n",
       "    </tr>\n",
       "    <tr>\n",
       "      <th>7</th>\n",
       "      <td>FrailBailen</td>\n",
       "      <td>54</td>\n",
       "    </tr>\n",
       "    <tr>\n",
       "      <th>8</th>\n",
       "      <td>mrflipsflapz</td>\n",
       "      <td>50</td>\n",
       "    </tr>\n",
       "    <tr>\n",
       "      <th>9</th>\n",
       "      <td>HarArkhichen</td>\n",
       "      <td>30</td>\n",
       "    </tr>\n",
       "    <tr>\n",
       "      <th>10</th>\n",
       "      <td>SeaV1per1224</td>\n",
       "      <td>60</td>\n",
       "    </tr>\n",
       "    <tr>\n",
       "      <th>11</th>\n",
       "      <td>O56IsHere</td>\n",
       "      <td>29</td>\n",
       "    </tr>\n",
       "    <tr>\n",
       "      <th>12</th>\n",
       "      <td>jiajun129</td>\n",
       "      <td>47</td>\n",
       "    </tr>\n",
       "    <tr>\n",
       "      <th>13</th>\n",
       "      <td>zoommine0423</td>\n",
       "      <td>22</td>\n",
       "    </tr>\n",
       "    <tr>\n",
       "      <th>14</th>\n",
       "      <td>polkomgyy44</td>\n",
       "      <td>47</td>\n",
       "    </tr>\n",
       "    <tr>\n",
       "      <th>15</th>\n",
       "      <td>kite_167</td>\n",
       "      <td>27</td>\n",
       "    </tr>\n",
       "    <tr>\n",
       "      <th>16</th>\n",
       "      <td>nickthegodrider1289</td>\n",
       "      <td>43</td>\n",
       "    </tr>\n",
       "    <tr>\n",
       "      <th>17</th>\n",
       "      <td>commander_cookie1234</td>\n",
       "      <td>38</td>\n",
       "    </tr>\n",
       "    <tr>\n",
       "      <th>18</th>\n",
       "      <td>HAPPY27259</td>\n",
       "      <td>69</td>\n",
       "    </tr>\n",
       "    <tr>\n",
       "      <th>19</th>\n",
       "      <td>AERBUTE1</td>\n",
       "      <td>56</td>\n",
       "    </tr>\n",
       "    <tr>\n",
       "      <th>20</th>\n",
       "      <td>Gariksz</td>\n",
       "      <td>59</td>\n",
       "    </tr>\n",
       "    <tr>\n",
       "      <th>21</th>\n",
       "      <td>chanmeme1</td>\n",
       "      <td>48</td>\n",
       "    </tr>\n",
       "    <tr>\n",
       "      <th>22</th>\n",
       "      <td>Kazuyuki_Owen</td>\n",
       "      <td>61</td>\n",
       "    </tr>\n",
       "    <tr>\n",
       "      <th>23</th>\n",
       "      <td>SireHalo</td>\n",
       "      <td>23</td>\n",
       "    </tr>\n",
       "    <tr>\n",
       "      <th>24</th>\n",
       "      <td>raka6792</td>\n",
       "      <td>20</td>\n",
       "    </tr>\n",
       "    <tr>\n",
       "      <th>25</th>\n",
       "      <td>pancake_w1</td>\n",
       "      <td>40</td>\n",
       "    </tr>\n",
       "    <tr>\n",
       "      <th>26</th>\n",
       "      <td>dsastetmfvm</td>\n",
       "      <td>71</td>\n",
       "    </tr>\n",
       "    <tr>\n",
       "      <th>27</th>\n",
       "      <td>eiltene123</td>\n",
       "      <td>49</td>\n",
       "    </tr>\n",
       "    <tr>\n",
       "      <th>28</th>\n",
       "      <td>NovaGlyp</td>\n",
       "      <td>52</td>\n",
       "    </tr>\n",
       "    <tr>\n",
       "      <th>29</th>\n",
       "      <td>Liklyboos221</td>\n",
       "      <td>64</td>\n",
       "    </tr>\n",
       "    <tr>\n",
       "      <th>30</th>\n",
       "      <td>jesterproandnoob</td>\n",
       "      <td>44</td>\n",
       "    </tr>\n",
       "    <tr>\n",
       "      <th>31</th>\n",
       "      <td>Xernicus</td>\n",
       "      <td>38</td>\n",
       "    </tr>\n",
       "    <tr>\n",
       "      <th>32</th>\n",
       "      <td>Not_short5151</td>\n",
       "      <td>5</td>\n",
       "    </tr>\n",
       "    <tr>\n",
       "      <th>33</th>\n",
       "      <td>GeorgeDroidMaxngFent</td>\n",
       "      <td>82</td>\n",
       "    </tr>\n",
       "    <tr>\n",
       "      <th>34</th>\n",
       "      <td>gtmsgamerG</td>\n",
       "      <td>28</td>\n",
       "    </tr>\n",
       "    <tr>\n",
       "      <th>35</th>\n",
       "      <td>Croezg</td>\n",
       "      <td>37</td>\n",
       "    </tr>\n",
       "    <tr>\n",
       "      <th>36</th>\n",
       "      <td>Nero_Kauko</td>\n",
       "      <td>12</td>\n",
       "    </tr>\n",
       "    <tr>\n",
       "      <th>37</th>\n",
       "      <td>wninju</td>\n",
       "      <td>30</td>\n",
       "    </tr>\n",
       "    <tr>\n",
       "      <th>38</th>\n",
       "      <td>Indonesia_ofMalaysia</td>\n",
       "      <td>47</td>\n",
       "    </tr>\n",
       "    <tr>\n",
       "      <th>39</th>\n",
       "      <td>kurtdylan1111</td>\n",
       "      <td>37</td>\n",
       "    </tr>\n",
       "    <tr>\n",
       "      <th>40</th>\n",
       "      <td>TomMiaorblx</td>\n",
       "      <td>16</td>\n",
       "    </tr>\n",
       "    <tr>\n",
       "      <th>41</th>\n",
       "      <td>CharIotteReis</td>\n",
       "      <td>89</td>\n",
       "    </tr>\n",
       "  </tbody>\n",
       "</table>\n",
       "</div>"
      ],
      "text/plain": [
       "                    name  avg\n",
       "0                Dawnftb   36\n",
       "1          Oscarchoyzy24   81\n",
       "2             spikey_001   50\n",
       "3          jamesplayztv1   33\n",
       "4     Mitsubira_Aratoshi   75\n",
       "5           anathaliakdc   34\n",
       "6                jgwen19   55\n",
       "7            FrailBailen   54\n",
       "8           mrflipsflapz   50\n",
       "9           HarArkhichen   30\n",
       "10          SeaV1per1224   60\n",
       "11             O56IsHere   29\n",
       "12             jiajun129   47\n",
       "13          zoommine0423   22\n",
       "14           polkomgyy44   47\n",
       "15              kite_167   27\n",
       "16   nickthegodrider1289   43\n",
       "17  commander_cookie1234   38\n",
       "18            HAPPY27259   69\n",
       "19              AERBUTE1   56\n",
       "20               Gariksz   59\n",
       "21             chanmeme1   48\n",
       "22         Kazuyuki_Owen   61\n",
       "23              SireHalo   23\n",
       "24              raka6792   20\n",
       "25            pancake_w1   40\n",
       "26           dsastetmfvm   71\n",
       "27            eiltene123   49\n",
       "28              NovaGlyp   52\n",
       "29          Liklyboos221   64\n",
       "30      jesterproandnoob   44\n",
       "31              Xernicus   38\n",
       "32         Not_short5151    5\n",
       "33  GeorgeDroidMaxngFent   82\n",
       "34            gtmsgamerG   28\n",
       "35                Croezg   37\n",
       "36            Nero_Kauko   12\n",
       "37                wninju   30\n",
       "38  Indonesia_ofMalaysia   47\n",
       "39         kurtdylan1111   37\n",
       "40           TomMiaorblx   16\n",
       "41         CharIotteReis   89"
      ]
     },
     "execution_count": 52,
     "metadata": {},
     "output_type": "execute_result"
    }
   ],
   "source": [
    "df2"
   ]
  },
  {
   "cell_type": "markdown",
   "metadata": {},
   "source": [
    "# Top avg"
   ]
  },
  {
   "cell_type": "code",
   "execution_count": 53,
   "metadata": {},
   "outputs": [
    {
     "data": {
      "application/vnd.microsoft.datawrangler.viewer.v0+json": {
       "columns": [
        {
         "name": "index",
         "rawType": "int64",
         "type": "integer"
        },
        {
         "name": "name",
         "rawType": "object",
         "type": "string"
        },
        {
         "name": "avg",
         "rawType": "int64",
         "type": "integer"
        }
       ],
       "conversionMethod": "pd.DataFrame",
       "ref": "c9d2574f-b36d-4704-b793-176af1118e10",
       "rows": [
        [
         "41",
         "CharIotteReis",
         "89"
        ],
        [
         "33",
         "GeorgeDroidMaxngFent",
         "82"
        ],
        [
         "1",
         "Oscarchoyzy24",
         "81"
        ],
        [
         "4",
         "Mitsubira_Aratoshi",
         "75"
        ],
        [
         "26",
         "dsastetmfvm",
         "71"
        ],
        [
         "18",
         "HAPPY27259",
         "69"
        ],
        [
         "29",
         "Liklyboos221",
         "64"
        ],
        [
         "22",
         "Kazuyuki_Owen",
         "61"
        ],
        [
         "10",
         "SeaV1per1224",
         "60"
        ],
        [
         "20",
         "Gariksz",
         "59"
        ],
        [
         "19",
         "AERBUTE1",
         "56"
        ],
        [
         "6",
         "jgwen19",
         "55"
        ],
        [
         "7",
         "FrailBailen",
         "54"
        ],
        [
         "28",
         "NovaGlyp",
         "52"
        ],
        [
         "2",
         "spikey_001",
         "50"
        ],
        [
         "8",
         "mrflipsflapz",
         "50"
        ],
        [
         "27",
         "eiltene123",
         "49"
        ],
        [
         "21",
         "chanmeme1",
         "48"
        ],
        [
         "14",
         "polkomgyy44",
         "47"
        ],
        [
         "38",
         "Indonesia_ofMalaysia",
         "47"
        ],
        [
         "12",
         "jiajun129",
         "47"
        ],
        [
         "30",
         "jesterproandnoob",
         "44"
        ],
        [
         "16",
         "nickthegodrider1289",
         "43"
        ],
        [
         "25",
         "pancake_w1",
         "40"
        ],
        [
         "31",
         "Xernicus",
         "38"
        ],
        [
         "17",
         "commander_cookie1234",
         "38"
        ],
        [
         "39",
         "kurtdylan1111",
         "37"
        ],
        [
         "35",
         "Croezg",
         "37"
        ],
        [
         "0",
         "Dawnftb",
         "36"
        ],
        [
         "5",
         "anathaliakdc",
         "34"
        ],
        [
         "3",
         "jamesplayztv1",
         "33"
        ],
        [
         "9",
         "HarArkhichen",
         "30"
        ],
        [
         "37",
         "wninju",
         "30"
        ],
        [
         "11",
         "O56IsHere",
         "29"
        ],
        [
         "34",
         "gtmsgamerG",
         "28"
        ],
        [
         "15",
         "kite_167",
         "27"
        ],
        [
         "23",
         "SireHalo",
         "23"
        ],
        [
         "13",
         "zoommine0423",
         "22"
        ],
        [
         "24",
         "raka6792",
         "20"
        ],
        [
         "40",
         "TomMiaorblx",
         "16"
        ],
        [
         "36",
         "Nero_Kauko",
         "12"
        ],
        [
         "32",
         "Not_short5151",
         "5"
        ]
       ],
       "shape": {
        "columns": 2,
        "rows": 42
       }
      },
      "text/html": [
       "<div>\n",
       "<style scoped>\n",
       "    .dataframe tbody tr th:only-of-type {\n",
       "        vertical-align: middle;\n",
       "    }\n",
       "\n",
       "    .dataframe tbody tr th {\n",
       "        vertical-align: top;\n",
       "    }\n",
       "\n",
       "    .dataframe thead th {\n",
       "        text-align: right;\n",
       "    }\n",
       "</style>\n",
       "<table border=\"1\" class=\"dataframe\">\n",
       "  <thead>\n",
       "    <tr style=\"text-align: right;\">\n",
       "      <th></th>\n",
       "      <th>name</th>\n",
       "      <th>avg</th>\n",
       "    </tr>\n",
       "  </thead>\n",
       "  <tbody>\n",
       "    <tr>\n",
       "      <th>41</th>\n",
       "      <td>CharIotteReis</td>\n",
       "      <td>89</td>\n",
       "    </tr>\n",
       "    <tr>\n",
       "      <th>33</th>\n",
       "      <td>GeorgeDroidMaxngFent</td>\n",
       "      <td>82</td>\n",
       "    </tr>\n",
       "    <tr>\n",
       "      <th>1</th>\n",
       "      <td>Oscarchoyzy24</td>\n",
       "      <td>81</td>\n",
       "    </tr>\n",
       "    <tr>\n",
       "      <th>4</th>\n",
       "      <td>Mitsubira_Aratoshi</td>\n",
       "      <td>75</td>\n",
       "    </tr>\n",
       "    <tr>\n",
       "      <th>26</th>\n",
       "      <td>dsastetmfvm</td>\n",
       "      <td>71</td>\n",
       "    </tr>\n",
       "    <tr>\n",
       "      <th>18</th>\n",
       "      <td>HAPPY27259</td>\n",
       "      <td>69</td>\n",
       "    </tr>\n",
       "    <tr>\n",
       "      <th>29</th>\n",
       "      <td>Liklyboos221</td>\n",
       "      <td>64</td>\n",
       "    </tr>\n",
       "    <tr>\n",
       "      <th>22</th>\n",
       "      <td>Kazuyuki_Owen</td>\n",
       "      <td>61</td>\n",
       "    </tr>\n",
       "    <tr>\n",
       "      <th>10</th>\n",
       "      <td>SeaV1per1224</td>\n",
       "      <td>60</td>\n",
       "    </tr>\n",
       "    <tr>\n",
       "      <th>20</th>\n",
       "      <td>Gariksz</td>\n",
       "      <td>59</td>\n",
       "    </tr>\n",
       "    <tr>\n",
       "      <th>19</th>\n",
       "      <td>AERBUTE1</td>\n",
       "      <td>56</td>\n",
       "    </tr>\n",
       "    <tr>\n",
       "      <th>6</th>\n",
       "      <td>jgwen19</td>\n",
       "      <td>55</td>\n",
       "    </tr>\n",
       "    <tr>\n",
       "      <th>7</th>\n",
       "      <td>FrailBailen</td>\n",
       "      <td>54</td>\n",
       "    </tr>\n",
       "    <tr>\n",
       "      <th>28</th>\n",
       "      <td>NovaGlyp</td>\n",
       "      <td>52</td>\n",
       "    </tr>\n",
       "    <tr>\n",
       "      <th>2</th>\n",
       "      <td>spikey_001</td>\n",
       "      <td>50</td>\n",
       "    </tr>\n",
       "    <tr>\n",
       "      <th>8</th>\n",
       "      <td>mrflipsflapz</td>\n",
       "      <td>50</td>\n",
       "    </tr>\n",
       "    <tr>\n",
       "      <th>27</th>\n",
       "      <td>eiltene123</td>\n",
       "      <td>49</td>\n",
       "    </tr>\n",
       "    <tr>\n",
       "      <th>21</th>\n",
       "      <td>chanmeme1</td>\n",
       "      <td>48</td>\n",
       "    </tr>\n",
       "    <tr>\n",
       "      <th>14</th>\n",
       "      <td>polkomgyy44</td>\n",
       "      <td>47</td>\n",
       "    </tr>\n",
       "    <tr>\n",
       "      <th>38</th>\n",
       "      <td>Indonesia_ofMalaysia</td>\n",
       "      <td>47</td>\n",
       "    </tr>\n",
       "    <tr>\n",
       "      <th>12</th>\n",
       "      <td>jiajun129</td>\n",
       "      <td>47</td>\n",
       "    </tr>\n",
       "    <tr>\n",
       "      <th>30</th>\n",
       "      <td>jesterproandnoob</td>\n",
       "      <td>44</td>\n",
       "    </tr>\n",
       "    <tr>\n",
       "      <th>16</th>\n",
       "      <td>nickthegodrider1289</td>\n",
       "      <td>43</td>\n",
       "    </tr>\n",
       "    <tr>\n",
       "      <th>25</th>\n",
       "      <td>pancake_w1</td>\n",
       "      <td>40</td>\n",
       "    </tr>\n",
       "    <tr>\n",
       "      <th>31</th>\n",
       "      <td>Xernicus</td>\n",
       "      <td>38</td>\n",
       "    </tr>\n",
       "    <tr>\n",
       "      <th>17</th>\n",
       "      <td>commander_cookie1234</td>\n",
       "      <td>38</td>\n",
       "    </tr>\n",
       "    <tr>\n",
       "      <th>39</th>\n",
       "      <td>kurtdylan1111</td>\n",
       "      <td>37</td>\n",
       "    </tr>\n",
       "    <tr>\n",
       "      <th>35</th>\n",
       "      <td>Croezg</td>\n",
       "      <td>37</td>\n",
       "    </tr>\n",
       "    <tr>\n",
       "      <th>0</th>\n",
       "      <td>Dawnftb</td>\n",
       "      <td>36</td>\n",
       "    </tr>\n",
       "    <tr>\n",
       "      <th>5</th>\n",
       "      <td>anathaliakdc</td>\n",
       "      <td>34</td>\n",
       "    </tr>\n",
       "    <tr>\n",
       "      <th>3</th>\n",
       "      <td>jamesplayztv1</td>\n",
       "      <td>33</td>\n",
       "    </tr>\n",
       "    <tr>\n",
       "      <th>9</th>\n",
       "      <td>HarArkhichen</td>\n",
       "      <td>30</td>\n",
       "    </tr>\n",
       "    <tr>\n",
       "      <th>37</th>\n",
       "      <td>wninju</td>\n",
       "      <td>30</td>\n",
       "    </tr>\n",
       "    <tr>\n",
       "      <th>11</th>\n",
       "      <td>O56IsHere</td>\n",
       "      <td>29</td>\n",
       "    </tr>\n",
       "    <tr>\n",
       "      <th>34</th>\n",
       "      <td>gtmsgamerG</td>\n",
       "      <td>28</td>\n",
       "    </tr>\n",
       "    <tr>\n",
       "      <th>15</th>\n",
       "      <td>kite_167</td>\n",
       "      <td>27</td>\n",
       "    </tr>\n",
       "    <tr>\n",
       "      <th>23</th>\n",
       "      <td>SireHalo</td>\n",
       "      <td>23</td>\n",
       "    </tr>\n",
       "    <tr>\n",
       "      <th>13</th>\n",
       "      <td>zoommine0423</td>\n",
       "      <td>22</td>\n",
       "    </tr>\n",
       "    <tr>\n",
       "      <th>24</th>\n",
       "      <td>raka6792</td>\n",
       "      <td>20</td>\n",
       "    </tr>\n",
       "    <tr>\n",
       "      <th>40</th>\n",
       "      <td>TomMiaorblx</td>\n",
       "      <td>16</td>\n",
       "    </tr>\n",
       "    <tr>\n",
       "      <th>36</th>\n",
       "      <td>Nero_Kauko</td>\n",
       "      <td>12</td>\n",
       "    </tr>\n",
       "    <tr>\n",
       "      <th>32</th>\n",
       "      <td>Not_short5151</td>\n",
       "      <td>5</td>\n",
       "    </tr>\n",
       "  </tbody>\n",
       "</table>\n",
       "</div>"
      ],
      "text/plain": [
       "                    name  avg\n",
       "41         CharIotteReis   89\n",
       "33  GeorgeDroidMaxngFent   82\n",
       "1          Oscarchoyzy24   81\n",
       "4     Mitsubira_Aratoshi   75\n",
       "26           dsastetmfvm   71\n",
       "18            HAPPY27259   69\n",
       "29          Liklyboos221   64\n",
       "22         Kazuyuki_Owen   61\n",
       "10          SeaV1per1224   60\n",
       "20               Gariksz   59\n",
       "19              AERBUTE1   56\n",
       "6                jgwen19   55\n",
       "7            FrailBailen   54\n",
       "28              NovaGlyp   52\n",
       "2             spikey_001   50\n",
       "8           mrflipsflapz   50\n",
       "27            eiltene123   49\n",
       "21             chanmeme1   48\n",
       "14           polkomgyy44   47\n",
       "38  Indonesia_ofMalaysia   47\n",
       "12             jiajun129   47\n",
       "30      jesterproandnoob   44\n",
       "16   nickthegodrider1289   43\n",
       "25            pancake_w1   40\n",
       "31              Xernicus   38\n",
       "17  commander_cookie1234   38\n",
       "39         kurtdylan1111   37\n",
       "35                Croezg   37\n",
       "0                Dawnftb   36\n",
       "5           anathaliakdc   34\n",
       "3          jamesplayztv1   33\n",
       "9           HarArkhichen   30\n",
       "37                wninju   30\n",
       "11             O56IsHere   29\n",
       "34            gtmsgamerG   28\n",
       "15              kite_167   27\n",
       "23              SireHalo   23\n",
       "13          zoommine0423   22\n",
       "24              raka6792   20\n",
       "40           TomMiaorblx   16\n",
       "36            Nero_Kauko   12\n",
       "32         Not_short5151    5"
      ]
     },
     "execution_count": 53,
     "metadata": {},
     "output_type": "execute_result"
    }
   ],
   "source": [
    "df2.sort_values(by=\"avg\", ascending=False)"
   ]
  },
  {
   "cell_type": "markdown",
   "metadata": {},
   "source": [
    "# more or = 45"
   ]
  },
  {
   "cell_type": "code",
   "execution_count": 54,
   "metadata": {},
   "outputs": [
    {
     "data": {
      "application/vnd.microsoft.datawrangler.viewer.v0+json": {
       "columns": [
        {
         "name": "index",
         "rawType": "int64",
         "type": "integer"
        },
        {
         "name": "name",
         "rawType": "object",
         "type": "string"
        },
        {
         "name": "avg",
         "rawType": "int64",
         "type": "integer"
        }
       ],
       "conversionMethod": "pd.DataFrame",
       "ref": "bdc8c7e1-cbf5-453d-bdef-e29823b106f7",
       "rows": [
        [
         "1",
         "Oscarchoyzy24",
         "81"
        ],
        [
         "2",
         "spikey_001",
         "50"
        ],
        [
         "4",
         "Mitsubira_Aratoshi",
         "75"
        ],
        [
         "6",
         "jgwen19",
         "55"
        ],
        [
         "7",
         "FrailBailen",
         "54"
        ],
        [
         "8",
         "mrflipsflapz",
         "50"
        ],
        [
         "10",
         "SeaV1per1224",
         "60"
        ],
        [
         "12",
         "jiajun129",
         "47"
        ],
        [
         "14",
         "polkomgyy44",
         "47"
        ],
        [
         "18",
         "HAPPY27259",
         "69"
        ],
        [
         "19",
         "AERBUTE1",
         "56"
        ],
        [
         "20",
         "Gariksz",
         "59"
        ],
        [
         "21",
         "chanmeme1",
         "48"
        ],
        [
         "22",
         "Kazuyuki_Owen",
         "61"
        ],
        [
         "26",
         "dsastetmfvm",
         "71"
        ],
        [
         "27",
         "eiltene123",
         "49"
        ],
        [
         "28",
         "NovaGlyp",
         "52"
        ],
        [
         "29",
         "Liklyboos221",
         "64"
        ],
        [
         "33",
         "GeorgeDroidMaxngFent",
         "82"
        ],
        [
         "38",
         "Indonesia_ofMalaysia",
         "47"
        ],
        [
         "41",
         "CharIotteReis",
         "89"
        ]
       ],
       "shape": {
        "columns": 2,
        "rows": 21
       }
      },
      "text/html": [
       "<div>\n",
       "<style scoped>\n",
       "    .dataframe tbody tr th:only-of-type {\n",
       "        vertical-align: middle;\n",
       "    }\n",
       "\n",
       "    .dataframe tbody tr th {\n",
       "        vertical-align: top;\n",
       "    }\n",
       "\n",
       "    .dataframe thead th {\n",
       "        text-align: right;\n",
       "    }\n",
       "</style>\n",
       "<table border=\"1\" class=\"dataframe\">\n",
       "  <thead>\n",
       "    <tr style=\"text-align: right;\">\n",
       "      <th></th>\n",
       "      <th>name</th>\n",
       "      <th>avg</th>\n",
       "    </tr>\n",
       "  </thead>\n",
       "  <tbody>\n",
       "    <tr>\n",
       "      <th>1</th>\n",
       "      <td>Oscarchoyzy24</td>\n",
       "      <td>81</td>\n",
       "    </tr>\n",
       "    <tr>\n",
       "      <th>2</th>\n",
       "      <td>spikey_001</td>\n",
       "      <td>50</td>\n",
       "    </tr>\n",
       "    <tr>\n",
       "      <th>4</th>\n",
       "      <td>Mitsubira_Aratoshi</td>\n",
       "      <td>75</td>\n",
       "    </tr>\n",
       "    <tr>\n",
       "      <th>6</th>\n",
       "      <td>jgwen19</td>\n",
       "      <td>55</td>\n",
       "    </tr>\n",
       "    <tr>\n",
       "      <th>7</th>\n",
       "      <td>FrailBailen</td>\n",
       "      <td>54</td>\n",
       "    </tr>\n",
       "    <tr>\n",
       "      <th>8</th>\n",
       "      <td>mrflipsflapz</td>\n",
       "      <td>50</td>\n",
       "    </tr>\n",
       "    <tr>\n",
       "      <th>10</th>\n",
       "      <td>SeaV1per1224</td>\n",
       "      <td>60</td>\n",
       "    </tr>\n",
       "    <tr>\n",
       "      <th>12</th>\n",
       "      <td>jiajun129</td>\n",
       "      <td>47</td>\n",
       "    </tr>\n",
       "    <tr>\n",
       "      <th>14</th>\n",
       "      <td>polkomgyy44</td>\n",
       "      <td>47</td>\n",
       "    </tr>\n",
       "    <tr>\n",
       "      <th>18</th>\n",
       "      <td>HAPPY27259</td>\n",
       "      <td>69</td>\n",
       "    </tr>\n",
       "    <tr>\n",
       "      <th>19</th>\n",
       "      <td>AERBUTE1</td>\n",
       "      <td>56</td>\n",
       "    </tr>\n",
       "    <tr>\n",
       "      <th>20</th>\n",
       "      <td>Gariksz</td>\n",
       "      <td>59</td>\n",
       "    </tr>\n",
       "    <tr>\n",
       "      <th>21</th>\n",
       "      <td>chanmeme1</td>\n",
       "      <td>48</td>\n",
       "    </tr>\n",
       "    <tr>\n",
       "      <th>22</th>\n",
       "      <td>Kazuyuki_Owen</td>\n",
       "      <td>61</td>\n",
       "    </tr>\n",
       "    <tr>\n",
       "      <th>26</th>\n",
       "      <td>dsastetmfvm</td>\n",
       "      <td>71</td>\n",
       "    </tr>\n",
       "    <tr>\n",
       "      <th>27</th>\n",
       "      <td>eiltene123</td>\n",
       "      <td>49</td>\n",
       "    </tr>\n",
       "    <tr>\n",
       "      <th>28</th>\n",
       "      <td>NovaGlyp</td>\n",
       "      <td>52</td>\n",
       "    </tr>\n",
       "    <tr>\n",
       "      <th>29</th>\n",
       "      <td>Liklyboos221</td>\n",
       "      <td>64</td>\n",
       "    </tr>\n",
       "    <tr>\n",
       "      <th>33</th>\n",
       "      <td>GeorgeDroidMaxngFent</td>\n",
       "      <td>82</td>\n",
       "    </tr>\n",
       "    <tr>\n",
       "      <th>38</th>\n",
       "      <td>Indonesia_ofMalaysia</td>\n",
       "      <td>47</td>\n",
       "    </tr>\n",
       "    <tr>\n",
       "      <th>41</th>\n",
       "      <td>CharIotteReis</td>\n",
       "      <td>89</td>\n",
       "    </tr>\n",
       "  </tbody>\n",
       "</table>\n",
       "</div>"
      ],
      "text/plain": [
       "                    name  avg\n",
       "1          Oscarchoyzy24   81\n",
       "2             spikey_001   50\n",
       "4     Mitsubira_Aratoshi   75\n",
       "6                jgwen19   55\n",
       "7            FrailBailen   54\n",
       "8           mrflipsflapz   50\n",
       "10          SeaV1per1224   60\n",
       "12             jiajun129   47\n",
       "14           polkomgyy44   47\n",
       "18            HAPPY27259   69\n",
       "19              AERBUTE1   56\n",
       "20               Gariksz   59\n",
       "21             chanmeme1   48\n",
       "22         Kazuyuki_Owen   61\n",
       "26           dsastetmfvm   71\n",
       "27            eiltene123   49\n",
       "28              NovaGlyp   52\n",
       "29          Liklyboos221   64\n",
       "33  GeorgeDroidMaxngFent   82\n",
       "38  Indonesia_ofMalaysia   47\n",
       "41         CharIotteReis   89"
      ]
     },
     "execution_count": 54,
     "metadata": {},
     "output_type": "execute_result"
    }
   ],
   "source": [
    "df2[df2[\"avg\"] >= 45]"
   ]
  },
  {
   "cell_type": "markdown",
   "metadata": {},
   "source": [
    "# more than 55 or = 55"
   ]
  },
  {
   "cell_type": "code",
   "execution_count": 55,
   "metadata": {},
   "outputs": [
    {
     "data": {
      "application/vnd.microsoft.datawrangler.viewer.v0+json": {
       "columns": [
        {
         "name": "index",
         "rawType": "int64",
         "type": "integer"
        },
        {
         "name": "name",
         "rawType": "object",
         "type": "string"
        },
        {
         "name": "avg",
         "rawType": "int64",
         "type": "integer"
        }
       ],
       "conversionMethod": "pd.DataFrame",
       "ref": "79a1b587-eca9-48a1-9bff-9455c5aa129e",
       "rows": [
        [
         "1",
         "Oscarchoyzy24",
         "81"
        ],
        [
         "4",
         "Mitsubira_Aratoshi",
         "75"
        ],
        [
         "6",
         "jgwen19",
         "55"
        ],
        [
         "10",
         "SeaV1per1224",
         "60"
        ],
        [
         "18",
         "HAPPY27259",
         "69"
        ],
        [
         "19",
         "AERBUTE1",
         "56"
        ],
        [
         "20",
         "Gariksz",
         "59"
        ],
        [
         "22",
         "Kazuyuki_Owen",
         "61"
        ],
        [
         "26",
         "dsastetmfvm",
         "71"
        ],
        [
         "29",
         "Liklyboos221",
         "64"
        ],
        [
         "33",
         "GeorgeDroidMaxngFent",
         "82"
        ],
        [
         "41",
         "CharIotteReis",
         "89"
        ]
       ],
       "shape": {
        "columns": 2,
        "rows": 12
       }
      },
      "text/html": [
       "<div>\n",
       "<style scoped>\n",
       "    .dataframe tbody tr th:only-of-type {\n",
       "        vertical-align: middle;\n",
       "    }\n",
       "\n",
       "    .dataframe tbody tr th {\n",
       "        vertical-align: top;\n",
       "    }\n",
       "\n",
       "    .dataframe thead th {\n",
       "        text-align: right;\n",
       "    }\n",
       "</style>\n",
       "<table border=\"1\" class=\"dataframe\">\n",
       "  <thead>\n",
       "    <tr style=\"text-align: right;\">\n",
       "      <th></th>\n",
       "      <th>name</th>\n",
       "      <th>avg</th>\n",
       "    </tr>\n",
       "  </thead>\n",
       "  <tbody>\n",
       "    <tr>\n",
       "      <th>1</th>\n",
       "      <td>Oscarchoyzy24</td>\n",
       "      <td>81</td>\n",
       "    </tr>\n",
       "    <tr>\n",
       "      <th>4</th>\n",
       "      <td>Mitsubira_Aratoshi</td>\n",
       "      <td>75</td>\n",
       "    </tr>\n",
       "    <tr>\n",
       "      <th>6</th>\n",
       "      <td>jgwen19</td>\n",
       "      <td>55</td>\n",
       "    </tr>\n",
       "    <tr>\n",
       "      <th>10</th>\n",
       "      <td>SeaV1per1224</td>\n",
       "      <td>60</td>\n",
       "    </tr>\n",
       "    <tr>\n",
       "      <th>18</th>\n",
       "      <td>HAPPY27259</td>\n",
       "      <td>69</td>\n",
       "    </tr>\n",
       "    <tr>\n",
       "      <th>19</th>\n",
       "      <td>AERBUTE1</td>\n",
       "      <td>56</td>\n",
       "    </tr>\n",
       "    <tr>\n",
       "      <th>20</th>\n",
       "      <td>Gariksz</td>\n",
       "      <td>59</td>\n",
       "    </tr>\n",
       "    <tr>\n",
       "      <th>22</th>\n",
       "      <td>Kazuyuki_Owen</td>\n",
       "      <td>61</td>\n",
       "    </tr>\n",
       "    <tr>\n",
       "      <th>26</th>\n",
       "      <td>dsastetmfvm</td>\n",
       "      <td>71</td>\n",
       "    </tr>\n",
       "    <tr>\n",
       "      <th>29</th>\n",
       "      <td>Liklyboos221</td>\n",
       "      <td>64</td>\n",
       "    </tr>\n",
       "    <tr>\n",
       "      <th>33</th>\n",
       "      <td>GeorgeDroidMaxngFent</td>\n",
       "      <td>82</td>\n",
       "    </tr>\n",
       "    <tr>\n",
       "      <th>41</th>\n",
       "      <td>CharIotteReis</td>\n",
       "      <td>89</td>\n",
       "    </tr>\n",
       "  </tbody>\n",
       "</table>\n",
       "</div>"
      ],
      "text/plain": [
       "                    name  avg\n",
       "1          Oscarchoyzy24   81\n",
       "4     Mitsubira_Aratoshi   75\n",
       "6                jgwen19   55\n",
       "10          SeaV1per1224   60\n",
       "18            HAPPY27259   69\n",
       "19              AERBUTE1   56\n",
       "20               Gariksz   59\n",
       "22         Kazuyuki_Owen   61\n",
       "26           dsastetmfvm   71\n",
       "29          Liklyboos221   64\n",
       "33  GeorgeDroidMaxngFent   82\n",
       "41         CharIotteReis   89"
      ]
     },
     "execution_count": 55,
     "metadata": {},
     "output_type": "execute_result"
    }
   ],
   "source": [
    "df2[df2[\"avg\"] >= 55]"
   ]
  }
 ],
 "metadata": {
  "kernelspec": {
   "display_name": "Python 3",
   "language": "python",
   "name": "python3"
  },
  "language_info": {
   "codemirror_mode": {
    "name": "ipython",
    "version": 3
   },
   "file_extension": ".py",
   "mimetype": "text/x-python",
   "name": "python",
   "nbconvert_exporter": "python",
   "pygments_lexer": "ipython3",
   "version": "3.11.9"
  }
 },
 "nbformat": 4,
 "nbformat_minor": 2
}
