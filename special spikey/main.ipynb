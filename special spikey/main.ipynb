{
 "cells": [
  {
   "cell_type": "code",
   "execution_count": 49,
   "metadata": {},
   "outputs": [],
   "source": [
    "import pandas as pd\n",
    "import numpy as np\n",
    "import matplotlib.pyplot as plt\n"
   ]
  },
  {
   "cell_type": "code",
   "execution_count": 50,
   "metadata": {},
   "outputs": [],
   "source": [
    "df = pd.read_csv('data.csv')"
   ]
  },
  {
   "cell_type": "code",
   "execution_count": 51,
   "metadata": {},
   "outputs": [
    {
     "data": {
      "application/vnd.microsoft.datawrangler.viewer.v0+json": {
       "columns": [
        {
         "name": "index",
         "rawType": "int64",
         "type": "integer"
        },
        {
         "name": "name",
         "rawType": "object",
         "type": "string"
        },
        {
         "name": "kills",
         "rawType": "int64",
         "type": "integer"
        }
       ],
       "conversionMethod": "pd.DataFrame",
       "ref": "3749e384-43a8-4967-8447-fe87a985ad05",
       "rows": [
        [
         "0",
         "aryafariziii160",
         "42"
        ],
        [
         "1",
         "Cogus_0828",
         "32"
        ],
        [
         "2",
         "Oscarchoyzy24",
         "11"
        ],
        [
         "3",
         "MAMAD_ALI8393",
         "11"
        ],
        [
         "4",
         "jgwen19",
         "48"
        ],
        [
         "5",
         "raka6792",
         "29"
        ],
        [
         "6",
         "rttt_1234567",
         "15"
        ],
        [
         "7",
         "Kazuyuki_Owen",
         "45"
        ],
        [
         "8",
         "GRADE4092",
         "17"
        ],
        [
         "9",
         "Governah5",
         "33"
        ],
        [
         "10",
         "polkomgyy44",
         "51"
        ],
        [
         "11",
         "mrflipsflapz",
         "51"
        ],
        [
         "12",
         "supermanakmeeee_twin",
         "39"
        ],
        [
         "13",
         "igichchcj",
         "20"
        ],
        [
         "14",
         "imnotharingyou",
         "15"
        ],
        [
         "15",
         "spikey_001",
         "47"
        ],
        [
         "16",
         "Donnban_me",
         "32"
        ],
        [
         "17",
         "HarArkhichen",
         "32"
        ],
        [
         "18",
         "Xernicus",
         "45"
        ],
        [
         "19",
         "nickthegodrider1289",
         "50"
        ],
        [
         "20",
         "r4_bt",
         "48"
        ],
        [
         "21",
         "pensmen",
         "53"
        ],
        [
         "22",
         "PhuyerThroned000",
         "71"
        ],
        [
         "23",
         "Gariksz",
         "60"
        ],
        [
         "24",
         "Dawnftb",
         "46"
        ],
        [
         "25",
         "jesterproandnoob",
         "49"
        ],
        [
         "26",
         "ToothlessXD123",
         "56"
        ],
        [
         "27",
         "JEJU_0P3RAT0R",
         "43"
        ],
        [
         "28",
         "Indonesia_ofMalaysia",
         "39"
        ],
        [
         "29",
         "David_Theusless",
         "35"
        ],
        [
         "30",
         "spikey_001",
         "39"
        ],
        [
         "31",
         "Haloinqsss",
         "33"
        ],
        [
         "32",
         "Dawnftb",
         "40"
        ],
        [
         "33",
         "jesterproandnoob",
         "47"
        ],
        [
         "34",
         "Cogus_0828",
         "36"
        ],
        [
         "35",
         "rttt_1234567",
         "21"
        ],
        [
         "36",
         "encik_Faris",
         "45"
        ],
        [
         "37",
         "camper8903",
         "56"
        ],
        [
         "38",
         "anathaliakdc",
         "40"
        ],
        [
         "39",
         "wninju",
         "39"
        ],
        [
         "40",
         "ToothlessXD123",
         "61"
        ],
        [
         "41",
         "DISCO7266",
         "18"
        ],
        [
         "42",
         "bigshockwave99",
         "68"
        ],
        [
         "43",
         "JEJU_0P3RAT0R",
         "37"
        ],
        [
         "44",
         "ConesOdebrecht",
         "77"
        ],
        [
         "45",
         "pensmen",
         "74"
        ],
        [
         "46",
         "Chalkecc",
         "33"
        ],
        [
         "47",
         "David_Theusless",
         "26"
        ],
        [
         "48",
         "jgwen19",
         "50"
        ],
        [
         "49",
         "commander_cookie1234",
         "31"
        ]
       ],
       "shape": {
        "columns": 2,
        "rows": 180
       }
      },
      "text/html": [
       "<div>\n",
       "<style scoped>\n",
       "    .dataframe tbody tr th:only-of-type {\n",
       "        vertical-align: middle;\n",
       "    }\n",
       "\n",
       "    .dataframe tbody tr th {\n",
       "        vertical-align: top;\n",
       "    }\n",
       "\n",
       "    .dataframe thead th {\n",
       "        text-align: right;\n",
       "    }\n",
       "</style>\n",
       "<table border=\"1\" class=\"dataframe\">\n",
       "  <thead>\n",
       "    <tr style=\"text-align: right;\">\n",
       "      <th></th>\n",
       "      <th>name</th>\n",
       "      <th>kills</th>\n",
       "    </tr>\n",
       "  </thead>\n",
       "  <tbody>\n",
       "    <tr>\n",
       "      <th>0</th>\n",
       "      <td>aryafariziii160</td>\n",
       "      <td>42</td>\n",
       "    </tr>\n",
       "    <tr>\n",
       "      <th>1</th>\n",
       "      <td>Cogus_0828</td>\n",
       "      <td>32</td>\n",
       "    </tr>\n",
       "    <tr>\n",
       "      <th>2</th>\n",
       "      <td>Oscarchoyzy24</td>\n",
       "      <td>11</td>\n",
       "    </tr>\n",
       "    <tr>\n",
       "      <th>3</th>\n",
       "      <td>MAMAD_ALI8393</td>\n",
       "      <td>11</td>\n",
       "    </tr>\n",
       "    <tr>\n",
       "      <th>4</th>\n",
       "      <td>jgwen19</td>\n",
       "      <td>48</td>\n",
       "    </tr>\n",
       "    <tr>\n",
       "      <th>...</th>\n",
       "      <td>...</td>\n",
       "      <td>...</td>\n",
       "    </tr>\n",
       "    <tr>\n",
       "      <th>175</th>\n",
       "      <td>Kazuyuki_Owen</td>\n",
       "      <td>68</td>\n",
       "    </tr>\n",
       "    <tr>\n",
       "      <th>176</th>\n",
       "      <td>camper8903</td>\n",
       "      <td>62</td>\n",
       "    </tr>\n",
       "    <tr>\n",
       "      <th>177</th>\n",
       "      <td>spikey_001</td>\n",
       "      <td>48</td>\n",
       "    </tr>\n",
       "    <tr>\n",
       "      <th>178</th>\n",
       "      <td>jesterproandnoob</td>\n",
       "      <td>69</td>\n",
       "    </tr>\n",
       "    <tr>\n",
       "      <th>179</th>\n",
       "      <td>KJ</td>\n",
       "      <td>34</td>\n",
       "    </tr>\n",
       "  </tbody>\n",
       "</table>\n",
       "<p>180 rows × 2 columns</p>\n",
       "</div>"
      ],
      "text/plain": [
       "                 name  kills\n",
       "0     aryafariziii160     42\n",
       "1          Cogus_0828     32\n",
       "2       Oscarchoyzy24     11\n",
       "3       MAMAD_ALI8393     11\n",
       "4             jgwen19     48\n",
       "..                ...    ...\n",
       "175     Kazuyuki_Owen     68\n",
       "176        camper8903     62\n",
       "177        spikey_001     48\n",
       "178  jesterproandnoob     69\n",
       "179                KJ     34\n",
       "\n",
       "[180 rows x 2 columns]"
      ]
     },
     "execution_count": 51,
     "metadata": {},
     "output_type": "execute_result"
    }
   ],
   "source": [
    "df"
   ]
  },
  {
   "cell_type": "markdown",
   "metadata": {},
   "source": [
    "# Top 10 attandence in the week"
   ]
  },
  {
   "cell_type": "code",
   "execution_count": 52,
   "metadata": {},
   "outputs": [
    {
     "data": {
      "image/png": "[encoded data removed]",
      "text/plain": [
       "<Figure size 1000x500 with 1 Axes>"
      ]
     },
     "metadata": {},
     "output_type": "display_data"
    }
   ],
   "source": [
    "plt.figure(figsize=(10, 5)) \n",
    "df[\"name\"].value_counts().nlargest(10).plot(kind='bar',colormap='viridis')\n",
    "plt.title(\"Attendance by Name\")\n",
    "plt.xlabel(\"Name\")\n",
    "plt.ylabel(\"Attendance\")\n",
    "plt.savefig('attadance_by_name.png',dpi=200,bbox_inches='tight')\n",
    "\n"
   ]
  },
  {
   "cell_type": "markdown",
   "metadata": {},
   "source": [
    "# kills info"
   ]
  },
  {
   "cell_type": "code",
   "execution_count": 53,
   "metadata": {},
   "outputs": [
    {
     "name": "stdout",
     "output_type": "stream",
     "text": [
      "The average kills for everyone is:  43.2\n"
     ]
    }
   ],
   "source": [
    "avg_kills_everyone = df[\"kills\"].mean()\n",
    "print(\"The average kills for everyone is: \", round(avg_kills_everyone,1))"
   ]
  },
  {
   "cell_type": "markdown",
   "metadata": {},
   "source": [
    "# everyone avg"
   ]
  },
  {
   "cell_type": "code",
   "execution_count": 54,
   "metadata": {},
   "outputs": [],
   "source": [
    "def text_format(color_circle):\n",
    "    file.write(f\"{color_circle},{i},{round(find_avg_everyone['kills'].mean(),1)},{attandace}\\n\")\n",
    "\n",
    "\n",
    "\n",
    "names = df[\"name\"].unique()\n",
    "\n",
    "with open(\"avg.csv\",\"w\",encoding='utf-8') as file:\n",
    "    file.write(\"color_code,name,avg,atd\\n\")\n",
    "    \n",
    "    for i in names:\n",
    "        attandace = df[df[\"name\"] == i].value_counts().sum()\n",
    "        find_avg_everyone = df[df[\"name\"] == i]\n",
    "        \n",
    "        if find_avg_everyone['kills'].mean() <= 20:\n",
    "            text_format(\"🔴\")\n",
    "        elif find_avg_everyone['kills'].mean() < 35:\n",
    "            text_format(\"🟠\")\n",
    "        elif find_avg_everyone['kills'].mean() >= 35 and find_avg_everyone['kills'].mean() < 45:\n",
    "            text_format(\"🟡\")\n",
    "        elif find_avg_everyone['kills'].mean() >= 45 and find_avg_everyone['kills'].mean() <= 55:\n",
    "            text_format(\"🟢\")\n",
    "        elif find_avg_everyone['kills'].mean() >= 55:\n",
    "            text_format(\"🔵\")\n",
    "        else:\n",
    "            text_format(\"🩷\")\n",
    "\n",
    "            \n",
    "    #file.write(\"The meaning of the colors are:\\n :red_circle: = 0-20\\n :orange_circle: = 20-34\\n :yellow_circle: = 35-44\\n :green_circle: = 45-55\\n :blue_circle: = 56-100\")\n",
    "with open(\"avg.csv\",\"a+\",encoding=\"utf-8\") as file:\n",
    "    file.write(\"The meaning of the colors are:\\n 🔴 = 0-20\\n 🟠 = 20-34\\n 🟡 = 35-44\\n 🟢 = 45-55\\n 🔵 = 56-100\")\n",
    "    "
   ]
  },
  {
   "cell_type": "code",
   "execution_count": 55,
   "metadata": {},
   "outputs": [
    {
     "data": {
      "application/vnd.microsoft.datawrangler.viewer.v0+json": {
       "columns": [
        {
         "name": "index",
         "rawType": "int64",
         "type": "integer"
        },
        {
         "name": "color_code",
         "rawType": "object",
         "type": "string"
        },
        {
         "name": "name",
         "rawType": "object",
         "type": "unknown"
        },
        {
         "name": "avg",
         "rawType": "float64",
         "type": "float"
        },
        {
         "name": "atd",
         "rawType": "float64",
         "type": "float"
        }
       ],
       "conversionMethod": "pd.DataFrame",
       "ref": "b9bd8f92-5f98-4a86-b245-300fa9eff242",
       "rows": [
        [
         "0",
         "🟢",
         "aryafariziii160",
         "52.0",
         "5.0"
        ],
        [
         "1",
         "🟡",
         "Cogus_0828",
         "44.6",
         "5.0"
        ],
        [
         "2",
         "🔴",
         "Oscarchoyzy24",
         "16.0",
         "2.0"
        ],
        [
         "3",
         "🔴",
         "MAMAD_ALI8393",
         "19.5",
         "2.0"
        ],
        [
         "4",
         "🔵",
         "jgwen19",
         "56.2",
         "5.0"
        ],
        [
         "5",
         "🟡",
         "raka6792",
         "40.0",
         "4.0"
        ],
        [
         "6",
         "🟠",
         "rttt_1234567",
         "23.6",
         "5.0"
        ],
        [
         "7",
         "🔵",
         "Kazuyuki_Owen",
         "56.5",
         "2.0"
        ],
        [
         "8",
         "🟡",
         "GRADE4092",
         "35.0",
         "2.0"
        ],
        [
         "9",
         "🟡",
         "Governah5",
         "43.3",
         "3.0"
        ],
        [
         "10",
         "🟢",
         "polkomgyy44",
         "50.2",
         "4.0"
        ],
        [
         "11",
         "🟢",
         "mrflipsflapz",
         "49.5",
         "2.0"
        ],
        [
         "12",
         "🟡",
         "supermanakmeeee_twin",
         "39.0",
         "1.0"
        ],
        [
         "13",
         "🔴",
         "igichchcj",
         "20.0",
         "1.0"
        ],
        [
         "14",
         "🔴",
         "imnotharingyou",
         "15.0",
         "1.0"
        ],
        [
         "15",
         "🟢",
         "spikey_001",
         "48.2",
         "5.0"
        ],
        [
         "16",
         "🟠",
         "Donnban_me",
         "32.0",
         "1.0"
        ],
        [
         "17",
         "🟢",
         "HarArkhichen",
         "46.7",
         "3.0"
        ],
        [
         "18",
         "🟢",
         "Xernicus",
         "49.4",
         "5.0"
        ],
        [
         "19",
         "🔵",
         "nickthegodrider1289",
         "63.6",
         "5.0"
        ],
        [
         "20",
         "🟢",
         "r4_bt",
         "48.0",
         "1.0"
        ],
        [
         "21",
         "🟢",
         "pensmen",
         "52.0",
         "5.0"
        ],
        [
         "22",
         "🔵",
         "PhuyerThroned000",
         "71.0",
         "1.0"
        ],
        [
         "23",
         "🔵",
         "Gariksz",
         "73.5",
         "2.0"
        ],
        [
         "24",
         "🟠",
         "Dawnftb",
         "33.0",
         "4.0"
        ],
        [
         "25",
         "🔵",
         "jesterproandnoob",
         "61.0",
         "5.0"
        ],
        [
         "26",
         "🔵",
         "ToothlessXD123",
         "62.7",
         "3.0"
        ],
        [
         "27",
         "🟡",
         "JEJU_0P3RAT0R",
         "40.0",
         "2.0"
        ],
        [
         "28",
         "🟢",
         "Indonesia_ofMalaysia",
         "50.0",
         "4.0"
        ],
        [
         "29",
         "🟠",
         "David_Theusless",
         "30.5",
         "4.0"
        ],
        [
         "30",
         "🟠",
         "Haloinqsss",
         "33.0",
         "1.0"
        ],
        [
         "31",
         "🟡",
         "encik_Faris",
         "41.5",
         "2.0"
        ],
        [
         "32",
         "🔵",
         "camper8903",
         "59.0",
         "2.0"
        ],
        [
         "33",
         "🟠",
         "anathaliakdc",
         "34.7",
         "3.0"
        ],
        [
         "34",
         "🟡",
         "wninju",
         "43.5",
         "2.0"
        ],
        [
         "35",
         "🔴",
         "DISCO7266",
         "16.7",
         "3.0"
        ],
        [
         "36",
         "🟢",
         "bigshockwave99",
         "51.5",
         "2.0"
        ],
        [
         "37",
         "🔵",
         "ConesOdebrecht",
         "77.0",
         "1.0"
        ],
        [
         "38",
         "🟠",
         "Chalkecc",
         "33.0",
         "1.0"
        ],
        [
         "39",
         "🟡",
         "commander_cookie1234",
         "37.0",
         "2.0"
        ],
        [
         "40",
         "🟡",
         "kite_167",
         "40.0",
         "2.0"
        ],
        [
         "41",
         "🔴",
         "uD0N4",
         "20.0",
         "1.0"
        ],
        [
         "42",
         "🔵",
         "Naser049",
         "66.0",
         "1.0"
        ],
        [
         "43",
         "🟠",
         "mikeysamsam",
         "28.0",
         "1.0"
        ],
        [
         "44",
         "🔵",
         "SeaV1per1224",
         "68.5",
         "2.0"
        ],
        [
         "45",
         "🟠",
         "114514adlingyang",
         "24.0",
         "2.0"
        ],
        [
         "46",
         "🟠",
         "AERBUTE1",
         "26.0",
         "2.0"
        ],
        [
         "47",
         "🔵",
         "darkenians",
         "60.0",
         "1.0"
        ],
        [
         "48",
         "🟡",
         "ckpoa20",
         "38.0",
         "2.0"
        ],
        [
         "49",
         "🔵",
         "dyj2233",
         "66.0",
         "1.0"
        ]
       ],
       "shape": {
        "columns": 4,
        "rows": 97
       }
      },
      "text/html": [
       "<div>\n",
       "<style scoped>\n",
       "    .dataframe tbody tr th:only-of-type {\n",
       "        vertical-align: middle;\n",
       "    }\n",
       "\n",
       "    .dataframe tbody tr th {\n",
       "        vertical-align: top;\n",
       "    }\n",
       "\n",
       "    .dataframe thead th {\n",
       "        text-align: right;\n",
       "    }\n",
       "</style>\n",
       "<table border=\"1\" class=\"dataframe\">\n",
       "  <thead>\n",
       "    <tr style=\"text-align: right;\">\n",
       "      <th></th>\n",
       "      <th>color_code</th>\n",
       "      <th>name</th>\n",
       "      <th>avg</th>\n",
       "      <th>atd</th>\n",
       "    </tr>\n",
       "  </thead>\n",
       "  <tbody>\n",
       "    <tr>\n",
       "      <th>0</th>\n",
       "      <td>🟢</td>\n",
       "      <td>aryafariziii160</td>\n",
       "      <td>52.0</td>\n",
       "      <td>5.0</td>\n",
       "    </tr>\n",
       "    <tr>\n",
       "      <th>1</th>\n",
       "      <td>🟡</td>\n",
       "      <td>Cogus_0828</td>\n",
       "      <td>44.6</td>\n",
       "      <td>5.0</td>\n",
       "    </tr>\n",
       "    <tr>\n",
       "      <th>2</th>\n",
       "      <td>🔴</td>\n",
       "      <td>Oscarchoyzy24</td>\n",
       "      <td>16.0</td>\n",
       "      <td>2.0</td>\n",
       "    </tr>\n",
       "    <tr>\n",
       "      <th>3</th>\n",
       "      <td>🔴</td>\n",
       "      <td>MAMAD_ALI8393</td>\n",
       "      <td>19.5</td>\n",
       "      <td>2.0</td>\n",
       "    </tr>\n",
       "    <tr>\n",
       "      <th>4</th>\n",
       "      <td>🔵</td>\n",
       "      <td>jgwen19</td>\n",
       "      <td>56.2</td>\n",
       "      <td>5.0</td>\n",
       "    </tr>\n",
       "    <tr>\n",
       "      <th>...</th>\n",
       "      <td>...</td>\n",
       "      <td>...</td>\n",
       "      <td>...</td>\n",
       "      <td>...</td>\n",
       "    </tr>\n",
       "    <tr>\n",
       "      <th>92</th>\n",
       "      <td>🔴 = 0-20</td>\n",
       "      <td>NaN</td>\n",
       "      <td>NaN</td>\n",
       "      <td>NaN</td>\n",
       "    </tr>\n",
       "    <tr>\n",
       "      <th>93</th>\n",
       "      <td>🟠 = 20-34</td>\n",
       "      <td>NaN</td>\n",
       "      <td>NaN</td>\n",
       "      <td>NaN</td>\n",
       "    </tr>\n",
       "    <tr>\n",
       "      <th>94</th>\n",
       "      <td>🟡 = 35-44</td>\n",
       "      <td>NaN</td>\n",
       "      <td>NaN</td>\n",
       "      <td>NaN</td>\n",
       "    </tr>\n",
       "    <tr>\n",
       "      <th>95</th>\n",
       "      <td>🟢 = 45-55</td>\n",
       "      <td>NaN</td>\n",
       "      <td>NaN</td>\n",
       "      <td>NaN</td>\n",
       "    </tr>\n",
       "    <tr>\n",
       "      <th>96</th>\n",
       "      <td>🔵 = 56-100</td>\n",
       "      <td>NaN</td>\n",
       "      <td>NaN</td>\n",
       "      <td>NaN</td>\n",
       "    </tr>\n",
       "  </tbody>\n",
       "</table>\n",
       "<p>97 rows × 4 columns</p>\n",
       "</div>"
      ],
      "text/plain": [
       "     color_code             name   avg  atd\n",
       "0             🟢  aryafariziii160  52.0  5.0\n",
       "1             🟡       Cogus_0828  44.6  5.0\n",
       "2             🔴    Oscarchoyzy24  16.0  2.0\n",
       "3             🔴    MAMAD_ALI8393  19.5  2.0\n",
       "4             🔵          jgwen19  56.2  5.0\n",
       "..          ...              ...   ...  ...\n",
       "92     🔴 = 0-20              NaN   NaN  NaN\n",
       "93    🟠 = 20-34              NaN   NaN  NaN\n",
       "94    🟡 = 35-44              NaN   NaN  NaN\n",
       "95    🟢 = 45-55              NaN   NaN  NaN\n",
       "96   🔵 = 56-100              NaN   NaN  NaN\n",
       "\n",
       "[97 rows x 4 columns]"
      ]
     },
     "execution_count": 55,
     "metadata": {},
     "output_type": "execute_result"
    }
   ],
   "source": [
    "df2 = pd.read_csv('avg.csv')\n",
    "df2"
   ]
  },
  {
   "cell_type": "code",
   "execution_count": 56,
   "metadata": {},
   "outputs": [],
   "source": [
    "\n",
    "df2_sorted = df2.sort_values(ascending=False,by=\"avg\")\n",
    "df2_sorted.to_csv(\"avg.csv\",index=False)"
   ]
  },
  {
   "cell_type": "code",
   "execution_count": 57,
   "metadata": {},
   "outputs": [],
   "source": [
    "test = df2_sorted[df2_sorted[\"atd\"] >= 3]\n",
    "test.sort_values(ascending=False,by=\"avg\").to_csv(\"real_data.csv\",index=False)"
   ]
  },
  {
   "cell_type": "code",
   "execution_count": 58,
   "metadata": {},
   "outputs": [],
   "source": [
    "test = df2_sorted[df2_sorted[\"atd\"] >= 10]\n",
    "test.sort_values(ascending=False,by=\"avg\").to_csv(\"full.csv\",index=False)"
   ]
  },
  {
   "cell_type": "code",
   "execution_count": 59,
   "metadata": {},
   "outputs": [
    {
     "data": {
      "application/vnd.microsoft.datawrangler.viewer.v0+json": {
       "columns": [
        {
         "name": "index",
         "rawType": "int64",
         "type": "integer"
        },
        {
         "name": "color_code",
         "rawType": "object",
         "type": "string"
        },
        {
         "name": "name",
         "rawType": "object",
         "type": "string"
        },
        {
         "name": "avg",
         "rawType": "object",
         "type": "string"
        },
        {
         "name": "atd",
         "rawType": "object",
         "type": "string"
        }
       ],
       "conversionMethod": "pd.DataFrame",
       "ref": "3450bd11-db6a-47a7-a155-86d68f071ad3",
       "rows": [],
       "shape": {
        "columns": 4,
        "rows": 0
       }
      },
      "text/html": [
       "<div>\n",
       "<style scoped>\n",
       "    .dataframe tbody tr th:only-of-type {\n",
       "        vertical-align: middle;\n",
       "    }\n",
       "\n",
       "    .dataframe tbody tr th {\n",
       "        vertical-align: top;\n",
       "    }\n",
       "\n",
       "    .dataframe thead th {\n",
       "        text-align: right;\n",
       "    }\n",
       "</style>\n",
       "<table border=\"1\" class=\"dataframe\">\n",
       "  <thead>\n",
       "    <tr style=\"text-align: right;\">\n",
       "      <th></th>\n",
       "      <th>color_code</th>\n",
       "      <th>name</th>\n",
       "      <th>avg</th>\n",
       "      <th>atd</th>\n",
       "    </tr>\n",
       "  </thead>\n",
       "  <tbody>\n",
       "  </tbody>\n",
       "</table>\n",
       "</div>"
      ],
      "text/plain": [
       "Empty DataFrame\n",
       "Columns: [color_code, name, avg, atd]\n",
       "Index: []"
      ]
     },
     "execution_count": 59,
     "metadata": {},
     "output_type": "execute_result"
    }
   ],
   "source": [
    "df3 = pd.read_csv(\"full.csv\")\n",
    "df3"
   ]
  },
  {
   "cell_type": "code",
   "execution_count": 60,
   "metadata": {},
   "outputs": [
    {
     "data": {
      "application/vnd.microsoft.datawrangler.viewer.v0+json": {
       "columns": [
        {
         "name": "index",
         "rawType": "int64",
         "type": "integer"
        },
        {
         "name": "color_code",
         "rawType": "object",
         "type": "string"
        },
        {
         "name": "name",
         "rawType": "object",
         "type": "string"
        },
        {
         "name": "avg",
         "rawType": "object",
         "type": "string"
        },
        {
         "name": "atd",
         "rawType": "object",
         "type": "string"
        }
       ],
       "conversionMethod": "pd.DataFrame",
       "ref": "949e8087-d6a8-4981-bae2-c3ad9ea2d459",
       "rows": [],
       "shape": {
        "columns": 4,
        "rows": 0
       }
      },
      "text/html": [
       "<div>\n",
       "<style scoped>\n",
       "    .dataframe tbody tr th:only-of-type {\n",
       "        vertical-align: middle;\n",
       "    }\n",
       "\n",
       "    .dataframe tbody tr th {\n",
       "        vertical-align: top;\n",
       "    }\n",
       "\n",
       "    .dataframe thead th {\n",
       "        text-align: right;\n",
       "    }\n",
       "</style>\n",
       "<table border=\"1\" class=\"dataframe\">\n",
       "  <thead>\n",
       "    <tr style=\"text-align: right;\">\n",
       "      <th></th>\n",
       "      <th>color_code</th>\n",
       "      <th>name</th>\n",
       "      <th>avg</th>\n",
       "      <th>atd</th>\n",
       "    </tr>\n",
       "  </thead>\n",
       "  <tbody>\n",
       "  </tbody>\n",
       "</table>\n",
       "</div>"
      ],
      "text/plain": [
       "Empty DataFrame\n",
       "Columns: [color_code, name, avg, atd]\n",
       "Index: []"
      ]
     },
     "execution_count": 60,
     "metadata": {},
     "output_type": "execute_result"
    }
   ],
   "source": [
    "df3.sort_values(ascending=False,by=\"atd\")"
   ]
  },
  {
   "cell_type": "code",
   "execution_count": 61,
   "metadata": {},
   "outputs": [
    {
     "data": {
      "text/plain": [
       "Text(0.5, 1.0, 'most kills')"
      ]
     },
     "execution_count": 61,
     "metadata": {},
     "output_type": "execute_result"
    },
    {
     "data": {
      "image/png": "[encoded data removed]",
      "text/plain": [
       "<Figure size 1500x500 with 1 Axes>"
      ]
     },
     "metadata": {},
     "output_type": "display_data"
    }
   ],
   "source": [
    "def number_format(dframe,x1,finder):\n",
    "    for i in range(len(x1)):\n",
    "        plt.text(i,(dframe[finder].iloc[i]).astype(int),(dframe[finder].iloc[i]).astype(int), ha =\"center\")\n",
    "\n",
    "\n",
    "plt.figure(figsize=(15,5))\n",
    "plt.bar(df3[\"name\"],df3[\"avg\"],color = \"lightblue\")\n",
    "number_format(df3,df3,\"avg\")\n",
    "plt.xticks(rotation = 90)\n",
    "plt.title(\"most kills\")\n",
    "\n"
   ]
  },
  {
   "cell_type": "code",
   "execution_count": 62,
   "metadata": {},
   "outputs": [
    {
     "data": {
      "image/png": "[encoded data removed]",
      "text/plain": [
       "<Figure size 1500x500 with 1 Axes>"
      ]
     },
     "metadata": {},
     "output_type": "display_data"
    }
   ],
   "source": [
    "\n",
    "names = df3.sort_values(ascending=False,by=\"atd\")\n",
    "plt.figure(figsize=(15,5))\n",
    "number_format(names,names,\"atd\")\n",
    "plt.bar(names[\"name\"],names[\"atd\"])\n",
    "plt.xticks(rotation = 90)\n",
    "plt.show()"
   ]
  },
  {
   "cell_type": "code",
   "execution_count": 63,
   "metadata": {},
   "outputs": [
    {
     "data": {
      "application/vnd.microsoft.datawrangler.viewer.v0+json": {
       "columns": [
        {
         "name": "index",
         "rawType": "int64",
         "type": "integer"
        },
        {
         "name": "name",
         "rawType": "object",
         "type": "string"
        },
        {
         "name": "kills",
         "rawType": "int64",
         "type": "integer"
        }
       ],
       "conversionMethod": "pd.DataFrame",
       "ref": "384bd49d-4577-469b-9a1c-24ae46cc07f6",
       "rows": [
        [
         "0",
         "aryafariziii160",
         "42"
        ],
        [
         "1",
         "Cogus_0828",
         "32"
        ],
        [
         "2",
         "Oscarchoyzy24",
         "11"
        ],
        [
         "3",
         "MAMAD_ALI8393",
         "11"
        ],
        [
         "4",
         "jgwen19",
         "48"
        ],
        [
         "5",
         "raka6792",
         "29"
        ],
        [
         "6",
         "rttt_1234567",
         "15"
        ],
        [
         "7",
         "Kazuyuki_Owen",
         "45"
        ],
        [
         "8",
         "GRADE4092",
         "17"
        ],
        [
         "9",
         "Governah5",
         "33"
        ],
        [
         "10",
         "polkomgyy44",
         "51"
        ],
        [
         "11",
         "mrflipsflapz",
         "51"
        ],
        [
         "12",
         "supermanakmeeee_twin",
         "39"
        ],
        [
         "13",
         "igichchcj",
         "20"
        ],
        [
         "14",
         "imnotharingyou",
         "15"
        ],
        [
         "15",
         "spikey_001",
         "47"
        ],
        [
         "16",
         "Donnban_me",
         "32"
        ],
        [
         "17",
         "HarArkhichen",
         "32"
        ],
        [
         "18",
         "Xernicus",
         "45"
        ],
        [
         "19",
         "nickthegodrider1289",
         "50"
        ],
        [
         "20",
         "r4_bt",
         "48"
        ],
        [
         "21",
         "pensmen",
         "53"
        ],
        [
         "22",
         "PhuyerThroned000",
         "71"
        ],
        [
         "23",
         "Gariksz",
         "60"
        ],
        [
         "24",
         "Dawnftb",
         "46"
        ],
        [
         "25",
         "jesterproandnoob",
         "49"
        ],
        [
         "26",
         "ToothlessXD123",
         "56"
        ],
        [
         "27",
         "JEJU_0P3RAT0R",
         "43"
        ],
        [
         "28",
         "Indonesia_ofMalaysia",
         "39"
        ],
        [
         "29",
         "David_Theusless",
         "35"
        ],
        [
         "30",
         "spikey_001",
         "39"
        ],
        [
         "31",
         "Haloinqsss",
         "33"
        ],
        [
         "32",
         "Dawnftb",
         "40"
        ],
        [
         "33",
         "jesterproandnoob",
         "47"
        ],
        [
         "34",
         "Cogus_0828",
         "36"
        ],
        [
         "35",
         "rttt_1234567",
         "21"
        ],
        [
         "36",
         "encik_Faris",
         "45"
        ],
        [
         "37",
         "camper8903",
         "56"
        ],
        [
         "38",
         "anathaliakdc",
         "40"
        ],
        [
         "39",
         "wninju",
         "39"
        ],
        [
         "40",
         "ToothlessXD123",
         "61"
        ],
        [
         "41",
         "DISCO7266",
         "18"
        ],
        [
         "42",
         "bigshockwave99",
         "68"
        ],
        [
         "43",
         "JEJU_0P3RAT0R",
         "37"
        ],
        [
         "44",
         "ConesOdebrecht",
         "77"
        ],
        [
         "45",
         "pensmen",
         "74"
        ],
        [
         "46",
         "Chalkecc",
         "33"
        ],
        [
         "47",
         "David_Theusless",
         "26"
        ],
        [
         "48",
         "jgwen19",
         "50"
        ],
        [
         "49",
         "commander_cookie1234",
         "31"
        ]
       ],
       "shape": {
        "columns": 2,
        "rows": 180
       }
      },
      "text/html": [
       "<div>\n",
       "<style scoped>\n",
       "    .dataframe tbody tr th:only-of-type {\n",
       "        vertical-align: middle;\n",
       "    }\n",
       "\n",
       "    .dataframe tbody tr th {\n",
       "        vertical-align: top;\n",
       "    }\n",
       "\n",
       "    .dataframe thead th {\n",
       "        text-align: right;\n",
       "    }\n",
       "</style>\n",
       "<table border=\"1\" class=\"dataframe\">\n",
       "  <thead>\n",
       "    <tr style=\"text-align: right;\">\n",
       "      <th></th>\n",
       "      <th>name</th>\n",
       "      <th>kills</th>\n",
       "    </tr>\n",
       "  </thead>\n",
       "  <tbody>\n",
       "    <tr>\n",
       "      <th>0</th>\n",
       "      <td>aryafariziii160</td>\n",
       "      <td>42</td>\n",
       "    </tr>\n",
       "    <tr>\n",
       "      <th>1</th>\n",
       "      <td>Cogus_0828</td>\n",
       "      <td>32</td>\n",
       "    </tr>\n",
       "    <tr>\n",
       "      <th>2</th>\n",
       "      <td>Oscarchoyzy24</td>\n",
       "      <td>11</td>\n",
       "    </tr>\n",
       "    <tr>\n",
       "      <th>3</th>\n",
       "      <td>MAMAD_ALI8393</td>\n",
       "      <td>11</td>\n",
       "    </tr>\n",
       "    <tr>\n",
       "      <th>4</th>\n",
       "      <td>jgwen19</td>\n",
       "      <td>48</td>\n",
       "    </tr>\n",
       "    <tr>\n",
       "      <th>...</th>\n",
       "      <td>...</td>\n",
       "      <td>...</td>\n",
       "    </tr>\n",
       "    <tr>\n",
       "      <th>175</th>\n",
       "      <td>Kazuyuki_Owen</td>\n",
       "      <td>68</td>\n",
       "    </tr>\n",
       "    <tr>\n",
       "      <th>176</th>\n",
       "      <td>camper8903</td>\n",
       "      <td>62</td>\n",
       "    </tr>\n",
       "    <tr>\n",
       "      <th>177</th>\n",
       "      <td>spikey_001</td>\n",
       "      <td>48</td>\n",
       "    </tr>\n",
       "    <tr>\n",
       "      <th>178</th>\n",
       "      <td>jesterproandnoob</td>\n",
       "      <td>69</td>\n",
       "    </tr>\n",
       "    <tr>\n",
       "      <th>179</th>\n",
       "      <td>KJ</td>\n",
       "      <td>34</td>\n",
       "    </tr>\n",
       "  </tbody>\n",
       "</table>\n",
       "<p>180 rows × 2 columns</p>\n",
       "</div>"
      ],
      "text/plain": [
       "                 name  kills\n",
       "0     aryafariziii160     42\n",
       "1          Cogus_0828     32\n",
       "2       Oscarchoyzy24     11\n",
       "3       MAMAD_ALI8393     11\n",
       "4             jgwen19     48\n",
       "..                ...    ...\n",
       "175     Kazuyuki_Owen     68\n",
       "176        camper8903     62\n",
       "177        spikey_001     48\n",
       "178  jesterproandnoob     69\n",
       "179                KJ     34\n",
       "\n",
       "[180 rows x 2 columns]"
      ]
     },
     "execution_count": 63,
     "metadata": {},
     "output_type": "execute_result"
    }
   ],
   "source": [
    "df"
   ]
  },
  {
   "cell_type": "code",
   "execution_count": 65,
   "metadata": {},
   "outputs": [
    {
     "ename": "TypeError",
     "evalue": "'value' must be an instance of str or bytes, not a float",
     "output_type": "error",
     "traceback": [
      "\u001b[1;31m---------------------------------------------------------------------------\u001b[0m",
      "\u001b[1;31mTypeError\u001b[0m                                 Traceback (most recent call last)",
      "Cell \u001b[1;32mIn[65], line 2\u001b[0m\n\u001b[0;32m      1\u001b[0m plt\u001b[38;5;241m.\u001b[39mfigure(figsize\u001b[38;5;241m=\u001b[39m(\u001b[38;5;241m15\u001b[39m,\u001b[38;5;241m5\u001b[39m))\n\u001b[1;32m----> 2\u001b[0m \u001b[43mplt\u001b[49m\u001b[38;5;241;43m.\u001b[39;49m\u001b[43mbar\u001b[49m\u001b[43m(\u001b[49m\u001b[43mdf2_sorted\u001b[49m\u001b[43m[\u001b[49m\u001b[38;5;124;43m\"\u001b[39;49m\u001b[38;5;124;43mname\u001b[39;49m\u001b[38;5;124;43m\"\u001b[39;49m\u001b[43m]\u001b[49m\u001b[43m,\u001b[49m\u001b[43mdf2_sorted\u001b[49m\u001b[43m[\u001b[49m\u001b[38;5;124;43m\"\u001b[39;49m\u001b[38;5;124;43mavg\u001b[39;49m\u001b[38;5;124;43m\"\u001b[39;49m\u001b[43m]\u001b[49m\u001b[43m,\u001b[49m\u001b[43mcolor\u001b[49m\u001b[43m \u001b[49m\u001b[38;5;241;43m=\u001b[39;49m\u001b[43m \u001b[49m\u001b[38;5;124;43m\"\u001b[39;49m\u001b[38;5;124;43mlightblue\u001b[39;49m\u001b[38;5;124;43m\"\u001b[39;49m\u001b[43m)\u001b[49m\n\u001b[0;32m      3\u001b[0m number_format(df2_sorted,df2_sorted,\u001b[38;5;124m\"\u001b[39m\u001b[38;5;124mavg\u001b[39m\u001b[38;5;124m\"\u001b[39m)\n\u001b[0;32m      4\u001b[0m plt\u001b[38;5;241m.\u001b[39mxticks(rotation \u001b[38;5;241m=\u001b[39m \u001b[38;5;241m90\u001b[39m)\n",
      "File \u001b[1;32m~\\AppData\\Local\\Packages\\PythonSoftwareFoundation.Python.3.11_qbz5n2kfra8p0\\LocalCache\\local-packages\\Python311\\site-packages\\matplotlib\\pyplot.py:2981\u001b[0m, in \u001b[0;36mbar\u001b[1;34m(x, height, width, bottom, align, data, **kwargs)\u001b[0m\n\u001b[0;32m   2970\u001b[0m \u001b[38;5;129m@_copy_docstring_and_deprecators\u001b[39m(Axes\u001b[38;5;241m.\u001b[39mbar)\n\u001b[0;32m   2971\u001b[0m \u001b[38;5;28;01mdef\u001b[39;00m \u001b[38;5;21mbar\u001b[39m(\n\u001b[0;32m   2972\u001b[0m     x: \u001b[38;5;28mfloat\u001b[39m \u001b[38;5;241m|\u001b[39m ArrayLike,\n\u001b[1;32m   (...)\u001b[0m\n\u001b[0;32m   2979\u001b[0m     \u001b[38;5;241m*\u001b[39m\u001b[38;5;241m*\u001b[39mkwargs,\n\u001b[0;32m   2980\u001b[0m ) \u001b[38;5;241m-\u001b[39m\u001b[38;5;241m>\u001b[39m BarContainer:\n\u001b[1;32m-> 2981\u001b[0m     \u001b[38;5;28;01mreturn\u001b[39;00m \u001b[43mgca\u001b[49m\u001b[43m(\u001b[49m\u001b[43m)\u001b[49m\u001b[38;5;241;43m.\u001b[39;49m\u001b[43mbar\u001b[49m\u001b[43m(\u001b[49m\n\u001b[0;32m   2982\u001b[0m \u001b[43m        \u001b[49m\u001b[43mx\u001b[49m\u001b[43m,\u001b[49m\n\u001b[0;32m   2983\u001b[0m \u001b[43m        \u001b[49m\u001b[43mheight\u001b[49m\u001b[43m,\u001b[49m\n\u001b[0;32m   2984\u001b[0m \u001b[43m        \u001b[49m\u001b[43mwidth\u001b[49m\u001b[38;5;241;43m=\u001b[39;49m\u001b[43mwidth\u001b[49m\u001b[43m,\u001b[49m\n\u001b[0;32m   2985\u001b[0m \u001b[43m        \u001b[49m\u001b[43mbottom\u001b[49m\u001b[38;5;241;43m=\u001b[39;49m\u001b[43mbottom\u001b[49m\u001b[43m,\u001b[49m\n\u001b[0;32m   2986\u001b[0m \u001b[43m        \u001b[49m\u001b[43malign\u001b[49m\u001b[38;5;241;43m=\u001b[39;49m\u001b[43malign\u001b[49m\u001b[43m,\u001b[49m\n\u001b[0;32m   2987\u001b[0m \u001b[43m        \u001b[49m\u001b[38;5;241;43m*\u001b[39;49m\u001b[38;5;241;43m*\u001b[39;49m\u001b[43m(\u001b[49m\u001b[43m{\u001b[49m\u001b[38;5;124;43m\"\u001b[39;49m\u001b[38;5;124;43mdata\u001b[39;49m\u001b[38;5;124;43m\"\u001b[39;49m\u001b[43m:\u001b[49m\u001b[43m \u001b[49m\u001b[43mdata\u001b[49m\u001b[43m}\u001b[49m\u001b[43m \u001b[49m\u001b[38;5;28;43;01mif\u001b[39;49;00m\u001b[43m \u001b[49m\u001b[43mdata\u001b[49m\u001b[43m \u001b[49m\u001b[38;5;129;43;01mis\u001b[39;49;00m\u001b[43m \u001b[49m\u001b[38;5;129;43;01mnot\u001b[39;49;00m\u001b[43m \u001b[49m\u001b[38;5;28;43;01mNone\u001b[39;49;00m\u001b[43m \u001b[49m\u001b[38;5;28;43;01melse\u001b[39;49;00m\u001b[43m \u001b[49m\u001b[43m{\u001b[49m\u001b[43m}\u001b[49m\u001b[43m)\u001b[49m\u001b[43m,\u001b[49m\n\u001b[0;32m   2988\u001b[0m \u001b[43m        \u001b[49m\u001b[38;5;241;43m*\u001b[39;49m\u001b[38;5;241;43m*\u001b[39;49m\u001b[43mkwargs\u001b[49m\u001b[43m,\u001b[49m\n\u001b[0;32m   2989\u001b[0m \u001b[43m    \u001b[49m\u001b[43m)\u001b[49m\n",
      "File \u001b[1;32m~\\AppData\\Local\\Packages\\PythonSoftwareFoundation.Python.3.11_qbz5n2kfra8p0\\LocalCache\\local-packages\\Python311\\site-packages\\matplotlib\\__init__.py:1521\u001b[0m, in \u001b[0;36m_preprocess_data.<locals>.inner\u001b[1;34m(ax, data, *args, **kwargs)\u001b[0m\n\u001b[0;32m   1518\u001b[0m \u001b[38;5;129m@functools\u001b[39m\u001b[38;5;241m.\u001b[39mwraps(func)\n\u001b[0;32m   1519\u001b[0m \u001b[38;5;28;01mdef\u001b[39;00m \u001b[38;5;21minner\u001b[39m(ax, \u001b[38;5;241m*\u001b[39margs, data\u001b[38;5;241m=\u001b[39m\u001b[38;5;28;01mNone\u001b[39;00m, \u001b[38;5;241m*\u001b[39m\u001b[38;5;241m*\u001b[39mkwargs):\n\u001b[0;32m   1520\u001b[0m     \u001b[38;5;28;01mif\u001b[39;00m data \u001b[38;5;129;01mis\u001b[39;00m \u001b[38;5;28;01mNone\u001b[39;00m:\n\u001b[1;32m-> 1521\u001b[0m         \u001b[38;5;28;01mreturn\u001b[39;00m \u001b[43mfunc\u001b[49m\u001b[43m(\u001b[49m\n\u001b[0;32m   1522\u001b[0m \u001b[43m            \u001b[49m\u001b[43max\u001b[49m\u001b[43m,\u001b[49m\n\u001b[0;32m   1523\u001b[0m \u001b[43m            \u001b[49m\u001b[38;5;241;43m*\u001b[39;49m\u001b[38;5;28;43mmap\u001b[39;49m\u001b[43m(\u001b[49m\u001b[43mcbook\u001b[49m\u001b[38;5;241;43m.\u001b[39;49m\u001b[43msanitize_sequence\u001b[49m\u001b[43m,\u001b[49m\u001b[43m \u001b[49m\u001b[43margs\u001b[49m\u001b[43m)\u001b[49m\u001b[43m,\u001b[49m\n\u001b[0;32m   1524\u001b[0m \u001b[43m            \u001b[49m\u001b[38;5;241;43m*\u001b[39;49m\u001b[38;5;241;43m*\u001b[39;49m\u001b[43m{\u001b[49m\u001b[43mk\u001b[49m\u001b[43m:\u001b[49m\u001b[43m \u001b[49m\u001b[43mcbook\u001b[49m\u001b[38;5;241;43m.\u001b[39;49m\u001b[43msanitize_sequence\u001b[49m\u001b[43m(\u001b[49m\u001b[43mv\u001b[49m\u001b[43m)\u001b[49m\u001b[43m \u001b[49m\u001b[38;5;28;43;01mfor\u001b[39;49;00m\u001b[43m \u001b[49m\u001b[43mk\u001b[49m\u001b[43m,\u001b[49m\u001b[43m \u001b[49m\u001b[43mv\u001b[49m\u001b[43m \u001b[49m\u001b[38;5;129;43;01min\u001b[39;49;00m\u001b[43m \u001b[49m\u001b[43mkwargs\u001b[49m\u001b[38;5;241;43m.\u001b[39;49m\u001b[43mitems\u001b[49m\u001b[43m(\u001b[49m\u001b[43m)\u001b[49m\u001b[43m}\u001b[49m\u001b[43m)\u001b[49m\n\u001b[0;32m   1526\u001b[0m     bound \u001b[38;5;241m=\u001b[39m new_sig\u001b[38;5;241m.\u001b[39mbind(ax, \u001b[38;5;241m*\u001b[39margs, \u001b[38;5;241m*\u001b[39m\u001b[38;5;241m*\u001b[39mkwargs)\n\u001b[0;32m   1527\u001b[0m     auto_label \u001b[38;5;241m=\u001b[39m (bound\u001b[38;5;241m.\u001b[39marguments\u001b[38;5;241m.\u001b[39mget(label_namer)\n\u001b[0;32m   1528\u001b[0m                   \u001b[38;5;129;01mor\u001b[39;00m bound\u001b[38;5;241m.\u001b[39mkwargs\u001b[38;5;241m.\u001b[39mget(label_namer))\n",
      "File \u001b[1;32m~\\AppData\\Local\\Packages\\PythonSoftwareFoundation.Python.3.11_qbz5n2kfra8p0\\LocalCache\\local-packages\\Python311\\site-packages\\matplotlib\\axes\\_axes.py:2544\u001b[0m, in \u001b[0;36mAxes.bar\u001b[1;34m(self, x, height, width, bottom, align, **kwargs)\u001b[0m\n\u001b[0;32m   2538\u001b[0m         x \u001b[38;5;241m=\u001b[39m \u001b[38;5;241m0\u001b[39m\n\u001b[0;32m   2540\u001b[0m \u001b[38;5;28;01mif\u001b[39;00m orientation \u001b[38;5;241m==\u001b[39m \u001b[38;5;124m'\u001b[39m\u001b[38;5;124mvertical\u001b[39m\u001b[38;5;124m'\u001b[39m:\n\u001b[0;32m   2541\u001b[0m     \u001b[38;5;66;03m# It is possible for y (bottom) to contain unit information.\u001b[39;00m\n\u001b[0;32m   2542\u001b[0m     \u001b[38;5;66;03m# However, it is also possible for y=0 for the default and height\u001b[39;00m\n\u001b[0;32m   2543\u001b[0m     \u001b[38;5;66;03m# to contain unit information.  This will prioritize the units of y.\u001b[39;00m\n\u001b[1;32m-> 2544\u001b[0m     \u001b[38;5;28;43mself\u001b[39;49m\u001b[38;5;241;43m.\u001b[39;49m\u001b[43m_process_unit_info\u001b[49m\u001b[43m(\u001b[49m\n\u001b[0;32m   2545\u001b[0m \u001b[43m        \u001b[49m\u001b[43m[\u001b[49m\u001b[43m(\u001b[49m\u001b[38;5;124;43m\"\u001b[39;49m\u001b[38;5;124;43mx\u001b[39;49m\u001b[38;5;124;43m\"\u001b[39;49m\u001b[43m,\u001b[49m\u001b[43m \u001b[49m\u001b[43mx\u001b[49m\u001b[43m)\u001b[49m\u001b[43m,\u001b[49m\u001b[43m \u001b[49m\u001b[43m(\u001b[49m\u001b[38;5;124;43m\"\u001b[39;49m\u001b[38;5;124;43my\u001b[39;49m\u001b[38;5;124;43m\"\u001b[39;49m\u001b[43m,\u001b[49m\u001b[43m \u001b[49m\u001b[43my\u001b[49m\u001b[43m)\u001b[49m\u001b[43m,\u001b[49m\u001b[43m \u001b[49m\u001b[43m(\u001b[49m\u001b[38;5;124;43m\"\u001b[39;49m\u001b[38;5;124;43my\u001b[39;49m\u001b[38;5;124;43m\"\u001b[39;49m\u001b[43m,\u001b[49m\u001b[43m \u001b[49m\u001b[43mheight\u001b[49m\u001b[43m)\u001b[49m\u001b[43m]\u001b[49m\u001b[43m,\u001b[49m\u001b[43m \u001b[49m\u001b[43mkwargs\u001b[49m\u001b[43m,\u001b[49m\u001b[43m \u001b[49m\u001b[43mconvert\u001b[49m\u001b[38;5;241;43m=\u001b[39;49m\u001b[38;5;28;43;01mFalse\u001b[39;49;00m\u001b[43m)\u001b[49m\n\u001b[0;32m   2546\u001b[0m     \u001b[38;5;28;01mif\u001b[39;00m log:\n\u001b[0;32m   2547\u001b[0m         \u001b[38;5;28mself\u001b[39m\u001b[38;5;241m.\u001b[39mset_yscale(\u001b[38;5;124m'\u001b[39m\u001b[38;5;124mlog\u001b[39m\u001b[38;5;124m'\u001b[39m, nonpositive\u001b[38;5;241m=\u001b[39m\u001b[38;5;124m'\u001b[39m\u001b[38;5;124mclip\u001b[39m\u001b[38;5;124m'\u001b[39m)\n",
      "File \u001b[1;32m~\\AppData\\Local\\Packages\\PythonSoftwareFoundation.Python.3.11_qbz5n2kfra8p0\\LocalCache\\local-packages\\Python311\\site-packages\\matplotlib\\axes\\_base.py:2617\u001b[0m, in \u001b[0;36m_AxesBase._process_unit_info\u001b[1;34m(self, datasets, kwargs, convert)\u001b[0m\n\u001b[0;32m   2615\u001b[0m     \u001b[38;5;66;03m# Update from data if axis is already set but no unit is set yet.\u001b[39;00m\n\u001b[0;32m   2616\u001b[0m     \u001b[38;5;28;01mif\u001b[39;00m axis \u001b[38;5;129;01mis\u001b[39;00m \u001b[38;5;129;01mnot\u001b[39;00m \u001b[38;5;28;01mNone\u001b[39;00m \u001b[38;5;129;01mand\u001b[39;00m data \u001b[38;5;129;01mis\u001b[39;00m \u001b[38;5;129;01mnot\u001b[39;00m \u001b[38;5;28;01mNone\u001b[39;00m \u001b[38;5;129;01mand\u001b[39;00m \u001b[38;5;129;01mnot\u001b[39;00m axis\u001b[38;5;241m.\u001b[39mhave_units():\n\u001b[1;32m-> 2617\u001b[0m         \u001b[43maxis\u001b[49m\u001b[38;5;241;43m.\u001b[39;49m\u001b[43mupdate_units\u001b[49m\u001b[43m(\u001b[49m\u001b[43mdata\u001b[49m\u001b[43m)\u001b[49m\n\u001b[0;32m   2618\u001b[0m \u001b[38;5;28;01mfor\u001b[39;00m axis_name, axis \u001b[38;5;129;01min\u001b[39;00m axis_map\u001b[38;5;241m.\u001b[39mitems():\n\u001b[0;32m   2619\u001b[0m     \u001b[38;5;66;03m# Return if no axis is set.\u001b[39;00m\n\u001b[0;32m   2620\u001b[0m     \u001b[38;5;28;01mif\u001b[39;00m axis \u001b[38;5;129;01mis\u001b[39;00m \u001b[38;5;28;01mNone\u001b[39;00m:\n",
      "File \u001b[1;32m~\\AppData\\Local\\Packages\\PythonSoftwareFoundation.Python.3.11_qbz5n2kfra8p0\\LocalCache\\local-packages\\Python311\\site-packages\\matplotlib\\axis.py:1765\u001b[0m, in \u001b[0;36mAxis.update_units\u001b[1;34m(self, data)\u001b[0m\n\u001b[0;32m   1763\u001b[0m neednew \u001b[38;5;241m=\u001b[39m \u001b[38;5;28mself\u001b[39m\u001b[38;5;241m.\u001b[39m_converter \u001b[38;5;241m!=\u001b[39m converter\n\u001b[0;32m   1764\u001b[0m \u001b[38;5;28mself\u001b[39m\u001b[38;5;241m.\u001b[39m_set_converter(converter)\n\u001b[1;32m-> 1765\u001b[0m default \u001b[38;5;241m=\u001b[39m \u001b[38;5;28;43mself\u001b[39;49m\u001b[38;5;241;43m.\u001b[39;49m\u001b[43m_converter\u001b[49m\u001b[38;5;241;43m.\u001b[39;49m\u001b[43mdefault_units\u001b[49m\u001b[43m(\u001b[49m\u001b[43mdata\u001b[49m\u001b[43m,\u001b[49m\u001b[43m \u001b[49m\u001b[38;5;28;43mself\u001b[39;49m\u001b[43m)\u001b[49m\n\u001b[0;32m   1766\u001b[0m \u001b[38;5;28;01mif\u001b[39;00m default \u001b[38;5;129;01mis\u001b[39;00m \u001b[38;5;129;01mnot\u001b[39;00m \u001b[38;5;28;01mNone\u001b[39;00m \u001b[38;5;129;01mand\u001b[39;00m \u001b[38;5;28mself\u001b[39m\u001b[38;5;241m.\u001b[39munits \u001b[38;5;129;01mis\u001b[39;00m \u001b[38;5;28;01mNone\u001b[39;00m:\n\u001b[0;32m   1767\u001b[0m     \u001b[38;5;28mself\u001b[39m\u001b[38;5;241m.\u001b[39mset_units(default)\n",
      "File \u001b[1;32m~\\AppData\\Local\\Packages\\PythonSoftwareFoundation.Python.3.11_qbz5n2kfra8p0\\LocalCache\\local-packages\\Python311\\site-packages\\matplotlib\\category.py:106\u001b[0m, in \u001b[0;36mStrCategoryConverter.default_units\u001b[1;34m(data, axis)\u001b[0m\n\u001b[0;32m    104\u001b[0m \u001b[38;5;66;03m# the conversion call stack is default_units -> axis_info -> convert\u001b[39;00m\n\u001b[0;32m    105\u001b[0m \u001b[38;5;28;01mif\u001b[39;00m axis\u001b[38;5;241m.\u001b[39munits \u001b[38;5;129;01mis\u001b[39;00m \u001b[38;5;28;01mNone\u001b[39;00m:\n\u001b[1;32m--> 106\u001b[0m     axis\u001b[38;5;241m.\u001b[39mset_units(\u001b[43mUnitData\u001b[49m\u001b[43m(\u001b[49m\u001b[43mdata\u001b[49m\u001b[43m)\u001b[49m)\n\u001b[0;32m    107\u001b[0m \u001b[38;5;28;01melse\u001b[39;00m:\n\u001b[0;32m    108\u001b[0m     axis\u001b[38;5;241m.\u001b[39munits\u001b[38;5;241m.\u001b[39mupdate(data)\n",
      "File \u001b[1;32m~\\AppData\\Local\\Packages\\PythonSoftwareFoundation.Python.3.11_qbz5n2kfra8p0\\LocalCache\\local-packages\\Python311\\site-packages\\matplotlib\\category.py:182\u001b[0m, in \u001b[0;36mUnitData.__init__\u001b[1;34m(self, data)\u001b[0m\n\u001b[0;32m    180\u001b[0m \u001b[38;5;28mself\u001b[39m\u001b[38;5;241m.\u001b[39m_counter \u001b[38;5;241m=\u001b[39m itertools\u001b[38;5;241m.\u001b[39mcount()\n\u001b[0;32m    181\u001b[0m \u001b[38;5;28;01mif\u001b[39;00m data \u001b[38;5;129;01mis\u001b[39;00m \u001b[38;5;129;01mnot\u001b[39;00m \u001b[38;5;28;01mNone\u001b[39;00m:\n\u001b[1;32m--> 182\u001b[0m     \u001b[38;5;28;43mself\u001b[39;49m\u001b[38;5;241;43m.\u001b[39;49m\u001b[43mupdate\u001b[49m\u001b[43m(\u001b[49m\u001b[43mdata\u001b[49m\u001b[43m)\u001b[49m\n",
      "File \u001b[1;32m~\\AppData\\Local\\Packages\\PythonSoftwareFoundation.Python.3.11_qbz5n2kfra8p0\\LocalCache\\local-packages\\Python311\\site-packages\\matplotlib\\category.py:217\u001b[0m, in \u001b[0;36mUnitData.update\u001b[1;34m(self, data)\u001b[0m\n\u001b[0;32m    214\u001b[0m convertible \u001b[38;5;241m=\u001b[39m \u001b[38;5;28;01mTrue\u001b[39;00m\n\u001b[0;32m    215\u001b[0m \u001b[38;5;28;01mfor\u001b[39;00m val \u001b[38;5;129;01min\u001b[39;00m OrderedDict\u001b[38;5;241m.\u001b[39mfromkeys(data):\n\u001b[0;32m    216\u001b[0m     \u001b[38;5;66;03m# OrderedDict just iterates over unique values in data.\u001b[39;00m\n\u001b[1;32m--> 217\u001b[0m     \u001b[43m_api\u001b[49m\u001b[38;5;241;43m.\u001b[39;49m\u001b[43mcheck_isinstance\u001b[49m\u001b[43m(\u001b[49m\u001b[43m(\u001b[49m\u001b[38;5;28;43mstr\u001b[39;49m\u001b[43m,\u001b[49m\u001b[43m \u001b[49m\u001b[38;5;28;43mbytes\u001b[39;49m\u001b[43m)\u001b[49m\u001b[43m,\u001b[49m\u001b[43m \u001b[49m\u001b[43mvalue\u001b[49m\u001b[38;5;241;43m=\u001b[39;49m\u001b[43mval\u001b[49m\u001b[43m)\u001b[49m\n\u001b[0;32m    218\u001b[0m     \u001b[38;5;28;01mif\u001b[39;00m convertible:\n\u001b[0;32m    219\u001b[0m         \u001b[38;5;66;03m# this will only be called so long as convertible is True.\u001b[39;00m\n\u001b[0;32m    220\u001b[0m         convertible \u001b[38;5;241m=\u001b[39m \u001b[38;5;28mself\u001b[39m\u001b[38;5;241m.\u001b[39m_str_is_convertible(val)\n",
      "File \u001b[1;32m~\\AppData\\Local\\Packages\\PythonSoftwareFoundation.Python.3.11_qbz5n2kfra8p0\\LocalCache\\local-packages\\Python311\\site-packages\\matplotlib\\_api\\__init__.py:92\u001b[0m, in \u001b[0;36mcheck_isinstance\u001b[1;34m(types, **kwargs)\u001b[0m\n\u001b[0;32m     90\u001b[0m     names\u001b[38;5;241m.\u001b[39mremove(\u001b[38;5;124m\"\u001b[39m\u001b[38;5;124mNone\u001b[39m\u001b[38;5;124m\"\u001b[39m)\n\u001b[0;32m     91\u001b[0m     names\u001b[38;5;241m.\u001b[39mappend(\u001b[38;5;124m\"\u001b[39m\u001b[38;5;124mNone\u001b[39m\u001b[38;5;124m\"\u001b[39m)\n\u001b[1;32m---> 92\u001b[0m \u001b[38;5;28;01mraise\u001b[39;00m \u001b[38;5;167;01mTypeError\u001b[39;00m(\n\u001b[0;32m     93\u001b[0m     \u001b[38;5;124m\"\u001b[39m\u001b[38;5;132;01m{!r}\u001b[39;00m\u001b[38;5;124m must be an instance of \u001b[39m\u001b[38;5;132;01m{}\u001b[39;00m\u001b[38;5;124m, not a \u001b[39m\u001b[38;5;132;01m{}\u001b[39;00m\u001b[38;5;124m\"\u001b[39m\u001b[38;5;241m.\u001b[39mformat(\n\u001b[0;32m     94\u001b[0m         k,\n\u001b[0;32m     95\u001b[0m         \u001b[38;5;124m\"\u001b[39m\u001b[38;5;124m, \u001b[39m\u001b[38;5;124m\"\u001b[39m\u001b[38;5;241m.\u001b[39mjoin(names[:\u001b[38;5;241m-\u001b[39m\u001b[38;5;241m1\u001b[39m]) \u001b[38;5;241m+\u001b[39m \u001b[38;5;124m\"\u001b[39m\u001b[38;5;124m or \u001b[39m\u001b[38;5;124m\"\u001b[39m \u001b[38;5;241m+\u001b[39m names[\u001b[38;5;241m-\u001b[39m\u001b[38;5;241m1\u001b[39m]\n\u001b[0;32m     96\u001b[0m         \u001b[38;5;28;01mif\u001b[39;00m \u001b[38;5;28mlen\u001b[39m(names) \u001b[38;5;241m>\u001b[39m \u001b[38;5;241m1\u001b[39m \u001b[38;5;28;01melse\u001b[39;00m names[\u001b[38;5;241m0\u001b[39m],\n\u001b[0;32m     97\u001b[0m         type_name(\u001b[38;5;28mtype\u001b[39m(v))))\n",
      "\u001b[1;31mTypeError\u001b[0m: 'value' must be an instance of str or bytes, not a float"
     ]
    },
    {
     "data": {
      "image/png": "[encoded data removed]",
      "text/plain": [
       "<Figure size 1500x500 with 1 Axes>"
      ]
     },
     "metadata": {},
     "output_type": "display_data"
    }
   ],
   "source": [
    "\n",
    "plt.figure(figsize=(15,5))\n",
    "plt.bar(df2_sorted[\"name\"],df2_sorted[\"avg\"],color = \"lightblue\")\n",
    "number_format(df2_sorted,df2_sorted,\"avg\")\n",
    "plt.xticks(rotation = 90)\n",
    "plt.title(\"most kills\")\n"
   ]
  },
  {
   "cell_type": "code",
   "execution_count": null,
   "metadata": {},
   "outputs": [
    {
     "data": {
      "application/vnd.microsoft.datawrangler.viewer.v0+json": {
       "columns": [
        {
         "name": "index",
         "rawType": "int64",
         "type": "integer"
        },
        {
         "name": "color_code",
         "rawType": "object",
         "type": "string"
        },
        {
         "name": "name",
         "rawType": "object",
         "type": "string"
        },
        {
         "name": "avg",
         "rawType": "float64",
         "type": "float"
        },
        {
         "name": "atd",
         "rawType": "int64",
         "type": "integer"
        }
       ],
       "conversionMethod": "pd.DataFrame",
       "ref": "91ad5dee-b249-4e10-a656-b2185b38278f",
       "rows": [
        [
         "37",
         "🔵",
         "ConesOdebrecht",
         "77.0",
         "1"
        ],
        [
         "22",
         "🔵",
         "PhuyerThroned000",
         "71.0",
         "1"
        ],
        [
         "36",
         "🔵",
         "bigshockwave99",
         "68.0",
         "1"
        ],
        [
         "44",
         "🔵",
         "SeaV1per1224",
         "68.0",
         "1"
        ],
        [
         "42",
         "🔵",
         "Naser049",
         "66.0",
         "1"
        ],
        [
         "49",
         "🔵",
         "dyj2233",
         "66.0",
         "1"
        ],
        [
         "52",
         "🔵",
         "1usyhd_good4",
         "66.0",
         "1"
        ],
        [
         "21",
         "🔵",
         "pensmen",
         "60.3",
         "3"
        ],
        [
         "23",
         "🔵",
         "Gariksz",
         "60.0",
         "1"
        ],
        [
         "47",
         "🔵",
         "darkenians",
         "60.0",
         "1"
        ],
        [
         "26",
         "🔵",
         "ToothlessXD123",
         "58.5",
         "2"
        ],
        [
         "19",
         "🔵",
         "nickthegodrider1289",
         "58.0",
         "3"
        ],
        [
         "25",
         "🔵",
         "jesterproandnoob",
         "57.0",
         "3"
        ],
        [
         "32",
         "🔵",
         "camper8903",
         "56.0",
         "1"
        ],
        [
         "4",
         "🟢",
         "jgwen19",
         "53.3",
         "3"
        ],
        [
         "57",
         "🟢",
         "PixelMangos",
         "52.0",
         "1"
        ],
        [
         "58",
         "🟢",
         "amazingdkfewi1024",
         "52.0",
         "1"
        ],
        [
         "10",
         "🟢",
         "polkomgyy44",
         "51.7",
         "3"
        ],
        [
         "54",
         "🟢",
         "Chanseoni",
         "51.0",
         "1"
        ],
        [
         "11",
         "🟢",
         "mrflipsflapz",
         "51.0",
         "1"
        ],
        [
         "28",
         "🟢",
         "Indonesia_ofMalaysia",
         "50.3",
         "3"
        ],
        [
         "0",
         "🟢",
         "aryafariziii160",
         "48.3",
         "3"
        ],
        [
         "20",
         "🟢",
         "r4_bt",
         "48.0",
         "1"
        ],
        [
         "15",
         "🟢",
         "spikey_001",
         "47.7",
         "3"
        ],
        [
         "63",
         "🟢",
         "lightie5252",
         "47.0",
         "1"
        ],
        [
         "53",
         "🟢",
         "Sunfull1",
         "47.0",
         "1"
        ],
        [
         "18",
         "🟢",
         "Xernicus",
         "47.0",
         "4"
        ],
        [
         "50",
         "🟢",
         "DaReal_Shradicle",
         "46.0",
         "1"
        ],
        [
         "7",
         "🟢",
         "Kazuyuki_Owen",
         "45.0",
         "1"
        ],
        [
         "31",
         "🟢",
         "encik_Faris",
         "45.0",
         "1"
        ],
        [
         "1",
         "🟡",
         "Cogus_0828",
         "44.0",
         "4"
        ],
        [
         "51",
         "🟡",
         "RowanowaZoro09",
         "44.0",
         "1"
        ],
        [
         "24",
         "🟡",
         "Dawnftb",
         "43.0",
         "2"
        ],
        [
         "5",
         "🟡",
         "raka6792",
         "40.7",
         "3"
        ],
        [
         "27",
         "🟡",
         "JEJU_0P3RAT0R",
         "40.0",
         "2"
        ],
        [
         "56",
         "🟡",
         "diwdwoa",
         "40.0",
         "1"
        ],
        [
         "40",
         "🟡",
         "kite_167",
         "40.0",
         "1"
        ],
        [
         "34",
         "🟡",
         "wninju",
         "39.0",
         "1"
        ],
        [
         "9",
         "🟡",
         "Governah5",
         "39.0",
         "2"
        ],
        [
         "12",
         "🟡",
         "supermanakmeeee_twin",
         "39.0",
         "1"
        ],
        [
         "62",
         "🟡",
         "100gnoo",
         "38.0",
         "1"
        ],
        [
         "33",
         "🟡",
         "anathaliakdc",
         "37.0",
         "2"
        ],
        [
         "55",
         "🟡",
         "muzman33",
         "35.0",
         "1"
        ],
        [
         "38",
         "🟠",
         "Chalkecc",
         "33.0",
         "1"
        ],
        [
         "30",
         "🟠",
         "Haloinqsss",
         "33.0",
         "1"
        ],
        [
         "16",
         "🟠",
         "Donnban_me",
         "32.0",
         "1"
        ],
        [
         "48",
         "🟠",
         "ckpoa20",
         "32.0",
         "1"
        ],
        [
         "29",
         "🟠",
         "David_Theusless",
         "32.0",
         "3"
        ],
        [
         "17",
         "🟠",
         "HarArkhichen",
         "32.0",
         "1"
        ],
        [
         "59",
         "🟠",
         "Ryiodelia",
         "31.0",
         "1"
        ]
       ],
       "shape": {
        "columns": 4,
        "rows": 65
       }
      },
      "text/html": [
       "<div>\n",
       "<style scoped>\n",
       "    .dataframe tbody tr th:only-of-type {\n",
       "        vertical-align: middle;\n",
       "    }\n",
       "\n",
       "    .dataframe tbody tr th {\n",
       "        vertical-align: top;\n",
       "    }\n",
       "\n",
       "    .dataframe thead th {\n",
       "        text-align: right;\n",
       "    }\n",
       "</style>\n",
       "<table border=\"1\" class=\"dataframe\">\n",
       "  <thead>\n",
       "    <tr style=\"text-align: right;\">\n",
       "      <th></th>\n",
       "      <th>color_code</th>\n",
       "      <th>name</th>\n",
       "      <th>avg</th>\n",
       "      <th>atd</th>\n",
       "    </tr>\n",
       "  </thead>\n",
       "  <tbody>\n",
       "    <tr>\n",
       "      <th>37</th>\n",
       "      <td>🔵</td>\n",
       "      <td>ConesOdebrecht</td>\n",
       "      <td>77.0</td>\n",
       "      <td>1</td>\n",
       "    </tr>\n",
       "    <tr>\n",
       "      <th>22</th>\n",
       "      <td>🔵</td>\n",
       "      <td>PhuyerThroned000</td>\n",
       "      <td>71.0</td>\n",
       "      <td>1</td>\n",
       "    </tr>\n",
       "    <tr>\n",
       "      <th>36</th>\n",
       "      <td>🔵</td>\n",
       "      <td>bigshockwave99</td>\n",
       "      <td>68.0</td>\n",
       "      <td>1</td>\n",
       "    </tr>\n",
       "    <tr>\n",
       "      <th>44</th>\n",
       "      <td>🔵</td>\n",
       "      <td>SeaV1per1224</td>\n",
       "      <td>68.0</td>\n",
       "      <td>1</td>\n",
       "    </tr>\n",
       "    <tr>\n",
       "      <th>42</th>\n",
       "      <td>🔵</td>\n",
       "      <td>Naser049</td>\n",
       "      <td>66.0</td>\n",
       "      <td>1</td>\n",
       "    </tr>\n",
       "    <tr>\n",
       "      <th>...</th>\n",
       "      <td>...</td>\n",
       "      <td>...</td>\n",
       "      <td>...</td>\n",
       "      <td>...</td>\n",
       "    </tr>\n",
       "    <tr>\n",
       "      <th>8</th>\n",
       "      <td>🔴</td>\n",
       "      <td>GRADE4092</td>\n",
       "      <td>17.0</td>\n",
       "      <td>1</td>\n",
       "    </tr>\n",
       "    <tr>\n",
       "      <th>2</th>\n",
       "      <td>🔴</td>\n",
       "      <td>Oscarchoyzy24</td>\n",
       "      <td>16.0</td>\n",
       "      <td>2</td>\n",
       "    </tr>\n",
       "    <tr>\n",
       "      <th>14</th>\n",
       "      <td>🔴</td>\n",
       "      <td>imnotharingyou</td>\n",
       "      <td>15.0</td>\n",
       "      <td>1</td>\n",
       "    </tr>\n",
       "    <tr>\n",
       "      <th>46</th>\n",
       "      <td>🔴</td>\n",
       "      <td>AERBUTE1</td>\n",
       "      <td>13.0</td>\n",
       "      <td>1</td>\n",
       "    </tr>\n",
       "    <tr>\n",
       "      <th>3</th>\n",
       "      <td>🔴</td>\n",
       "      <td>MAMAD_ALI8393</td>\n",
       "      <td>11.0</td>\n",
       "      <td>1</td>\n",
       "    </tr>\n",
       "  </tbody>\n",
       "</table>\n",
       "<p>65 rows × 4 columns</p>\n",
       "</div>"
      ],
      "text/plain": [
       "   color_code              name   avg  atd\n",
       "37          🔵    ConesOdebrecht  77.0    1\n",
       "22          🔵  PhuyerThroned000  71.0    1\n",
       "36          🔵    bigshockwave99  68.0    1\n",
       "44          🔵      SeaV1per1224  68.0    1\n",
       "42          🔵          Naser049  66.0    1\n",
       "..        ...               ...   ...  ...\n",
       "8           🔴         GRADE4092  17.0    1\n",
       "2           🔴     Oscarchoyzy24  16.0    2\n",
       "14          🔴    imnotharingyou  15.0    1\n",
       "46          🔴          AERBUTE1  13.0    1\n",
       "3           🔴     MAMAD_ALI8393  11.0    1\n",
       "\n",
       "[65 rows x 4 columns]"
      ]
     },
     "execution_count": 272,
     "metadata": {},
     "output_type": "execute_result"
    }
   ],
   "source": [
    "df2_sorted"
   ]
  }
 ],
 "metadata": {
  "kernelspec": {
   "display_name": "Python 3",
   "language": "python",
   "name": "python3"
  },
  "language_info": {
   "codemirror_mode": {
    "name": "ipython",
    "version": 3
   },
   "file_extension": ".py",
   "mimetype": "text/x-python",
   "name": "python",
   "nbconvert_exporter": "python",
   "pygments_lexer": "ipython3",
   "version": "3.11.9"
  }
 },
 "nbformat": 4,
 "nbformat_minor": 2
}
