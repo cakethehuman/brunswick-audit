{
 "cells": [
  {
   "cell_type": "code",
   "execution_count": 117,
   "metadata": {},
   "outputs": [],
   "source": [
    "import pandas as pd\n",
    "import numpy as np\n",
    "import matplotlib.pyplot as plt\n"
   ]
  },
  {
   "cell_type": "code",
   "execution_count": 118,
   "metadata": {},
   "outputs": [],
   "source": [
    "df = pd.read_csv('data.csv')"
   ]
  },
  {
   "cell_type": "code",
   "execution_count": 119,
   "metadata": {},
   "outputs": [
    {
     "data": {
      "application/vnd.microsoft.datawrangler.viewer.v0+json": {
       "columns": [
        {
         "name": "index",
         "rawType": "int64",
         "type": "integer"
        },
        {
         "name": "name",
         "rawType": "object",
         "type": "string"
        },
        {
         "name": "kills",
         "rawType": "int64",
         "type": "integer"
        }
       ],
       "conversionMethod": "pd.DataFrame",
       "ref": "3024d2fb-ddd1-45da-8262-c84ddc3bc57b",
       "rows": [
        [
         "0",
         "aryafariziii160",
         "42"
        ],
        [
         "1",
         "Cogus_0828",
         "32"
        ],
        [
         "2",
         "Oscarchoyzy24",
         "11"
        ],
        [
         "3",
         "MAMAD_ALI8393",
         "11"
        ],
        [
         "4",
         "jgwen19",
         "48"
        ],
        [
         "5",
         "raka6792",
         "29"
        ],
        [
         "6",
         "rttt_1234567",
         "15"
        ],
        [
         "7",
         "Kazuyuki_Owen",
         "45"
        ],
        [
         "8",
         "GRADE4092",
         "17"
        ],
        [
         "9",
         "Governah5",
         "33"
        ],
        [
         "10",
         "polkomgyy44",
         "51"
        ],
        [
         "11",
         "mrflipsflapz",
         "51"
        ],
        [
         "12",
         "supermanakmeeee_twin",
         "39"
        ],
        [
         "13",
         "igichchcj",
         "20"
        ],
        [
         "14",
         "imnotharingyou",
         "15"
        ],
        [
         "15",
         "spikey_001",
         "47"
        ],
        [
         "16",
         "Donnban_me",
         "32"
        ],
        [
         "17",
         "HarArkhichen",
         "32"
        ],
        [
         "18",
         "Xernicus",
         "45"
        ],
        [
         "19",
         "nickthegodrider1289",
         "50"
        ],
        [
         "20",
         "r4_bt",
         "48"
        ],
        [
         "21",
         "pensmen",
         "53"
        ],
        [
         "22",
         "PhuyerThroned000",
         "71"
        ],
        [
         "23",
         "Gariksz",
         "60"
        ],
        [
         "24",
         "Dawnftb",
         "46"
        ],
        [
         "25",
         "jesterproandnoob",
         "49"
        ],
        [
         "26",
         "ToothlessXD123",
         "56"
        ],
        [
         "27",
         "JEJU_0P3RAT0R",
         "43"
        ],
        [
         "28",
         "Indonesia_ofMalaysia",
         "39"
        ],
        [
         "29",
         "David_Theusless",
         "35"
        ],
        [
         "30",
         "spikey_001",
         "39"
        ],
        [
         "31",
         "Haloinqsss",
         "33"
        ],
        [
         "32",
         "Dawnftb",
         "40"
        ],
        [
         "33",
         "jesterproandnoob",
         "47"
        ],
        [
         "34",
         "Cogus_0828",
         "36"
        ],
        [
         "35",
         "rttt_1234567",
         "21"
        ],
        [
         "36",
         "encik_Faris",
         "45"
        ],
        [
         "37",
         "camper8903",
         "56"
        ],
        [
         "38",
         "anathaliakdc",
         "40"
        ],
        [
         "39",
         "wninju",
         "39"
        ],
        [
         "40",
         "ToothlessXD123",
         "61"
        ],
        [
         "41",
         "DISCO7266",
         "18"
        ],
        [
         "42",
         "bigshockwave99",
         "68"
        ],
        [
         "43",
         "JEJU_0P3RAT0R",
         "37"
        ],
        [
         "44",
         "ConesOdebrecht",
         "77"
        ],
        [
         "45",
         "pensmen",
         "74"
        ],
        [
         "46",
         "Chalkecc",
         "33"
        ],
        [
         "47",
         "David_Theusless",
         "26"
        ],
        [
         "48",
         "jgwen19",
         "50"
        ],
        [
         "49",
         "commander_cookie1234",
         "31"
        ]
       ],
       "shape": {
        "columns": 2,
        "rows": 180
       }
      },
      "text/html": [
       "<div>\n",
       "<style scoped>\n",
       "    .dataframe tbody tr th:only-of-type {\n",
       "        vertical-align: middle;\n",
       "    }\n",
       "\n",
       "    .dataframe tbody tr th {\n",
       "        vertical-align: top;\n",
       "    }\n",
       "\n",
       "    .dataframe thead th {\n",
       "        text-align: right;\n",
       "    }\n",
       "</style>\n",
       "<table border=\"1\" class=\"dataframe\">\n",
       "  <thead>\n",
       "    <tr style=\"text-align: right;\">\n",
       "      <th></th>\n",
       "      <th>name</th>\n",
       "      <th>kills</th>\n",
       "    </tr>\n",
       "  </thead>\n",
       "  <tbody>\n",
       "    <tr>\n",
       "      <th>0</th>\n",
       "      <td>aryafariziii160</td>\n",
       "      <td>42</td>\n",
       "    </tr>\n",
       "    <tr>\n",
       "      <th>1</th>\n",
       "      <td>Cogus_0828</td>\n",
       "      <td>32</td>\n",
       "    </tr>\n",
       "    <tr>\n",
       "      <th>2</th>\n",
       "      <td>Oscarchoyzy24</td>\n",
       "      <td>11</td>\n",
       "    </tr>\n",
       "    <tr>\n",
       "      <th>3</th>\n",
       "      <td>MAMAD_ALI8393</td>\n",
       "      <td>11</td>\n",
       "    </tr>\n",
       "    <tr>\n",
       "      <th>4</th>\n",
       "      <td>jgwen19</td>\n",
       "      <td>48</td>\n",
       "    </tr>\n",
       "    <tr>\n",
       "      <th>...</th>\n",
       "      <td>...</td>\n",
       "      <td>...</td>\n",
       "    </tr>\n",
       "    <tr>\n",
       "      <th>175</th>\n",
       "      <td>Kazuyuki_Owen</td>\n",
       "      <td>68</td>\n",
       "    </tr>\n",
       "    <tr>\n",
       "      <th>176</th>\n",
       "      <td>camper8903</td>\n",
       "      <td>62</td>\n",
       "    </tr>\n",
       "    <tr>\n",
       "      <th>177</th>\n",
       "      <td>spikey_001</td>\n",
       "      <td>48</td>\n",
       "    </tr>\n",
       "    <tr>\n",
       "      <th>178</th>\n",
       "      <td>jesterproandnoob</td>\n",
       "      <td>69</td>\n",
       "    </tr>\n",
       "    <tr>\n",
       "      <th>179</th>\n",
       "      <td>KJ</td>\n",
       "      <td>34</td>\n",
       "    </tr>\n",
       "  </tbody>\n",
       "</table>\n",
       "<p>180 rows × 2 columns</p>\n",
       "</div>"
      ],
      "text/plain": [
       "                 name  kills\n",
       "0     aryafariziii160     42\n",
       "1          Cogus_0828     32\n",
       "2       Oscarchoyzy24     11\n",
       "3       MAMAD_ALI8393     11\n",
       "4             jgwen19     48\n",
       "..                ...    ...\n",
       "175     Kazuyuki_Owen     68\n",
       "176        camper8903     62\n",
       "177        spikey_001     48\n",
       "178  jesterproandnoob     69\n",
       "179                KJ     34\n",
       "\n",
       "[180 rows x 2 columns]"
      ]
     },
     "execution_count": 119,
     "metadata": {},
     "output_type": "execute_result"
    }
   ],
   "source": [
    "df"
   ]
  },
  {
   "cell_type": "code",
   "execution_count": 120,
   "metadata": {},
   "outputs": [
    {
     "name": "stdout",
     "output_type": "stream",
     "text": [
      "The average kills for everyone is:  43.2\n"
     ]
    }
   ],
   "source": [
    "avg_kills_everyone = df[\"kills\"].mean()\n",
    "print(\"The average kills for everyone is: \", round(avg_kills_everyone,1))"
   ]
  },
  {
   "cell_type": "markdown",
   "metadata": {},
   "source": [
    "# everyone avg"
   ]
  },
  {
   "cell_type": "code",
   "execution_count": 121,
   "metadata": {},
   "outputs": [],
   "source": [
    "def text_format(color_circle):\n",
    "    file.write(f\"{color_circle},{i},{round(find_avg_everyone['kills'].mean(),1)},{int(attandace)}\\n\")\n",
    "\n",
    "\n",
    "\n",
    "names = df[\"name\"].unique()\n",
    "\n",
    "with open(\"avg.csv\",\"w\",encoding='utf-8') as file:\n",
    "    file.write(\"color_code,name,avg,atd\\n\")\n",
    "    \n",
    "    for i in names:\n",
    "        attandace = df[df[\"name\"] == i].value_counts().sum()\n",
    "        find_avg_everyone = df[df[\"name\"] == i]\n",
    "        \n",
    "        if find_avg_everyone['kills'].mean() <= 20:\n",
    "            text_format(\"🔴\")\n",
    "        elif find_avg_everyone['kills'].mean() < 35:\n",
    "            text_format(\"🟠\")\n",
    "        elif find_avg_everyone['kills'].mean() >= 35 and find_avg_everyone['kills'].mean() < 45:\n",
    "            text_format(\"🟡\")\n",
    "        elif find_avg_everyone['kills'].mean() >= 45 and find_avg_everyone['kills'].mean() <= 55:\n",
    "            text_format(\"🟢\")\n",
    "        elif find_avg_everyone['kills'].mean() >= 55:\n",
    "            text_format(\"🔵\")\n",
    "        else:\n",
    "            text_format(\"🩷\")\n",
    "\n",
    "            \n",
    "    #file.write(\"The meaning of the colors are:\\n :red_circle: = 0-20\\n :orange_circle: = 20-34\\n :yellow_circle: = 35-44\\n :green_circle: = 45-55\\n :blue_circle: = 56-100\")\n"
   ]
  },
  {
   "cell_type": "code",
   "execution_count": 122,
   "metadata": {},
   "outputs": [
    {
     "data": {
      "application/vnd.microsoft.datawrangler.viewer.v0+json": {
       "columns": [
        {
         "name": "index",
         "rawType": "int64",
         "type": "integer"
        },
        {
         "name": "color_code",
         "rawType": "object",
         "type": "string"
        },
        {
         "name": "name",
         "rawType": "object",
         "type": "string"
        },
        {
         "name": "avg",
         "rawType": "float64",
         "type": "float"
        },
        {
         "name": "atd",
         "rawType": "int64",
         "type": "integer"
        }
       ],
       "conversionMethod": "pd.DataFrame",
       "ref": "bc43452b-d392-43a6-bd20-b5db72e1663a",
       "rows": [
        [
         "0",
         "🟢",
         "aryafariziii160",
         "52.0",
         "5"
        ],
        [
         "1",
         "🟡",
         "Cogus_0828",
         "44.6",
         "5"
        ],
        [
         "2",
         "🔴",
         "Oscarchoyzy24",
         "16.0",
         "2"
        ],
        [
         "3",
         "🔴",
         "MAMAD_ALI8393",
         "19.5",
         "2"
        ],
        [
         "4",
         "🔵",
         "jgwen19",
         "56.2",
         "5"
        ],
        [
         "5",
         "🟡",
         "raka6792",
         "40.0",
         "4"
        ],
        [
         "6",
         "🟠",
         "rttt_1234567",
         "23.6",
         "5"
        ],
        [
         "7",
         "🔵",
         "Kazuyuki_Owen",
         "56.5",
         "2"
        ],
        [
         "8",
         "🟡",
         "GRADE4092",
         "35.0",
         "2"
        ],
        [
         "9",
         "🟡",
         "Governah5",
         "43.3",
         "3"
        ],
        [
         "10",
         "🟢",
         "polkomgyy44",
         "50.2",
         "4"
        ],
        [
         "11",
         "🟢",
         "mrflipsflapz",
         "49.5",
         "2"
        ],
        [
         "12",
         "🟡",
         "supermanakmeeee_twin",
         "39.0",
         "1"
        ],
        [
         "13",
         "🔴",
         "igichchcj",
         "20.0",
         "1"
        ],
        [
         "14",
         "🔴",
         "imnotharingyou",
         "15.0",
         "1"
        ],
        [
         "15",
         "🟢",
         "spikey_001",
         "48.2",
         "5"
        ],
        [
         "16",
         "🟠",
         "Donnban_me",
         "32.0",
         "1"
        ],
        [
         "17",
         "🟢",
         "HarArkhichen",
         "46.7",
         "3"
        ],
        [
         "18",
         "🟢",
         "Xernicus",
         "49.4",
         "5"
        ],
        [
         "19",
         "🔵",
         "nickthegodrider1289",
         "63.6",
         "5"
        ],
        [
         "20",
         "🟢",
         "r4_bt",
         "48.0",
         "1"
        ],
        [
         "21",
         "🟢",
         "pensmen",
         "52.0",
         "5"
        ],
        [
         "22",
         "🔵",
         "PhuyerThroned000",
         "71.0",
         "1"
        ],
        [
         "23",
         "🔵",
         "Gariksz",
         "73.5",
         "2"
        ],
        [
         "24",
         "🟠",
         "Dawnftb",
         "33.0",
         "4"
        ],
        [
         "25",
         "🔵",
         "jesterproandnoob",
         "61.0",
         "5"
        ],
        [
         "26",
         "🔵",
         "ToothlessXD123",
         "62.7",
         "3"
        ],
        [
         "27",
         "🟡",
         "JEJU_0P3RAT0R",
         "40.0",
         "2"
        ],
        [
         "28",
         "🟢",
         "Indonesia_ofMalaysia",
         "50.0",
         "4"
        ],
        [
         "29",
         "🟠",
         "David_Theusless",
         "30.5",
         "4"
        ],
        [
         "30",
         "🟠",
         "Haloinqsss",
         "33.0",
         "1"
        ],
        [
         "31",
         "🟡",
         "encik_Faris",
         "41.5",
         "2"
        ],
        [
         "32",
         "🔵",
         "camper8903",
         "59.0",
         "2"
        ],
        [
         "33",
         "🟠",
         "anathaliakdc",
         "34.7",
         "3"
        ],
        [
         "34",
         "🟡",
         "wninju",
         "43.5",
         "2"
        ],
        [
         "35",
         "🔴",
         "DISCO7266",
         "16.7",
         "3"
        ],
        [
         "36",
         "🟢",
         "bigshockwave99",
         "51.5",
         "2"
        ],
        [
         "37",
         "🔵",
         "ConesOdebrecht",
         "77.0",
         "1"
        ],
        [
         "38",
         "🟠",
         "Chalkecc",
         "33.0",
         "1"
        ],
        [
         "39",
         "🟡",
         "commander_cookie1234",
         "37.0",
         "2"
        ],
        [
         "40",
         "🟡",
         "kite_167",
         "40.0",
         "2"
        ],
        [
         "41",
         "🔴",
         "uD0N4",
         "20.0",
         "1"
        ],
        [
         "42",
         "🔵",
         "Naser049",
         "66.0",
         "1"
        ],
        [
         "43",
         "🟠",
         "mikeysamsam",
         "28.0",
         "1"
        ],
        [
         "44",
         "🔵",
         "SeaV1per1224",
         "68.5",
         "2"
        ],
        [
         "45",
         "🟠",
         "114514adlingyang",
         "24.0",
         "2"
        ],
        [
         "46",
         "🟠",
         "AERBUTE1",
         "26.0",
         "2"
        ],
        [
         "47",
         "🔵",
         "darkenians",
         "60.0",
         "1"
        ],
        [
         "48",
         "🟡",
         "ckpoa20",
         "38.0",
         "2"
        ],
        [
         "49",
         "🔵",
         "dyj2233",
         "66.0",
         "1"
        ]
       ],
       "shape": {
        "columns": 4,
        "rows": 91
       }
      },
      "text/html": [
       "<div>\n",
       "<style scoped>\n",
       "    .dataframe tbody tr th:only-of-type {\n",
       "        vertical-align: middle;\n",
       "    }\n",
       "\n",
       "    .dataframe tbody tr th {\n",
       "        vertical-align: top;\n",
       "    }\n",
       "\n",
       "    .dataframe thead th {\n",
       "        text-align: right;\n",
       "    }\n",
       "</style>\n",
       "<table border=\"1\" class=\"dataframe\">\n",
       "  <thead>\n",
       "    <tr style=\"text-align: right;\">\n",
       "      <th></th>\n",
       "      <th>color_code</th>\n",
       "      <th>name</th>\n",
       "      <th>avg</th>\n",
       "      <th>atd</th>\n",
       "    </tr>\n",
       "  </thead>\n",
       "  <tbody>\n",
       "    <tr>\n",
       "      <th>0</th>\n",
       "      <td>🟢</td>\n",
       "      <td>aryafariziii160</td>\n",
       "      <td>52.0</td>\n",
       "      <td>5</td>\n",
       "    </tr>\n",
       "    <tr>\n",
       "      <th>1</th>\n",
       "      <td>🟡</td>\n",
       "      <td>Cogus_0828</td>\n",
       "      <td>44.6</td>\n",
       "      <td>5</td>\n",
       "    </tr>\n",
       "    <tr>\n",
       "      <th>2</th>\n",
       "      <td>🔴</td>\n",
       "      <td>Oscarchoyzy24</td>\n",
       "      <td>16.0</td>\n",
       "      <td>2</td>\n",
       "    </tr>\n",
       "    <tr>\n",
       "      <th>3</th>\n",
       "      <td>🔴</td>\n",
       "      <td>MAMAD_ALI8393</td>\n",
       "      <td>19.5</td>\n",
       "      <td>2</td>\n",
       "    </tr>\n",
       "    <tr>\n",
       "      <th>4</th>\n",
       "      <td>🔵</td>\n",
       "      <td>jgwen19</td>\n",
       "      <td>56.2</td>\n",
       "      <td>5</td>\n",
       "    </tr>\n",
       "    <tr>\n",
       "      <th>...</th>\n",
       "      <td>...</td>\n",
       "      <td>...</td>\n",
       "      <td>...</td>\n",
       "      <td>...</td>\n",
       "    </tr>\n",
       "    <tr>\n",
       "      <th>86</th>\n",
       "      <td>🔵</td>\n",
       "      <td>gtmsgamerG</td>\n",
       "      <td>63.0</td>\n",
       "      <td>1</td>\n",
       "    </tr>\n",
       "    <tr>\n",
       "      <th>87</th>\n",
       "      <td>🔵</td>\n",
       "      <td>PekaRockRuff</td>\n",
       "      <td>56.0</td>\n",
       "      <td>1</td>\n",
       "    </tr>\n",
       "    <tr>\n",
       "      <th>88</th>\n",
       "      <td>🟡</td>\n",
       "      <td>TomMiaorblx</td>\n",
       "      <td>37.0</td>\n",
       "      <td>1</td>\n",
       "    </tr>\n",
       "    <tr>\n",
       "      <th>89</th>\n",
       "      <td>🟠</td>\n",
       "      <td>Luqman_indo</td>\n",
       "      <td>21.0</td>\n",
       "      <td>1</td>\n",
       "    </tr>\n",
       "    <tr>\n",
       "      <th>90</th>\n",
       "      <td>🟠</td>\n",
       "      <td>KJ</td>\n",
       "      <td>34.0</td>\n",
       "      <td>1</td>\n",
       "    </tr>\n",
       "  </tbody>\n",
       "</table>\n",
       "<p>91 rows × 4 columns</p>\n",
       "</div>"
      ],
      "text/plain": [
       "   color_code             name   avg  atd\n",
       "0           🟢  aryafariziii160  52.0    5\n",
       "1           🟡       Cogus_0828  44.6    5\n",
       "2           🔴    Oscarchoyzy24  16.0    2\n",
       "3           🔴    MAMAD_ALI8393  19.5    2\n",
       "4           🔵          jgwen19  56.2    5\n",
       "..        ...              ...   ...  ...\n",
       "86          🔵       gtmsgamerG  63.0    1\n",
       "87          🔵     PekaRockRuff  56.0    1\n",
       "88          🟡      TomMiaorblx  37.0    1\n",
       "89          🟠      Luqman_indo  21.0    1\n",
       "90          🟠               KJ  34.0    1\n",
       "\n",
       "[91 rows x 4 columns]"
      ]
     },
     "execution_count": 122,
     "metadata": {},
     "output_type": "execute_result"
    }
   ],
   "source": [
    "df2 = pd.read_csv('avg.csv')\n",
    "df2"
   ]
  },
  {
   "cell_type": "code",
   "execution_count": 123,
   "metadata": {},
   "outputs": [
    {
     "data": {
      "image/png": "[encoded data removed]",
      "text/plain": [
       "<Figure size 1100x500 with 1 Axes>"
      ]
     },
     "metadata": {},
     "output_type": "display_data"
    }
   ],
   "source": [
    "def number_format(dframe,finder):\n",
    "    for i in range(len(dframe)):\n",
    "        plt.text(i,(dframe[finder].iloc[i]).astype(int),(dframe[finder].iloc[i]).astype(int), ha =\"center\")\n",
    "        \n",
    "        \n",
    "df2_name = df2.sort_values(ascending=False,by=\"atd\")\n",
    "\n",
    "\n",
    "plt.figure(figsize=(11, 5)) \n",
    "plt.bar(df2_name[\"name\"][df2_name[\"atd\"] >= 3],df2_name[\"atd\"][df2_name[\"atd\"] >= 3])\n",
    "number_format(df2_name[df2_name[\"atd\"] >= 3],\"atd\")\n",
    "plt.xticks(rotation = 90)\n",
    "plt.title(\"Attendance by Name\")\n",
    "plt.xlabel(\"Name\")\n",
    "plt.ylabel(\"Attendance\")\n",
    "plt.savefig('attadance_by_name.png',dpi=200,bbox_inches='tight')\n",
    "\n"
   ]
  },
  {
   "cell_type": "code",
   "execution_count": 124,
   "metadata": {},
   "outputs": [],
   "source": [
    "\n",
    "df2_sorted = df2.sort_values(ascending=False,by=\"avg\")\n",
    "df2_sorted.to_csv(\"avg.csv\",index=False)"
   ]
  },
  {
   "cell_type": "code",
   "execution_count": 125,
   "metadata": {},
   "outputs": [],
   "source": [
    "test = df2_sorted[df2_sorted[\"atd\"] >= 3]\n",
    "test.sort_values(ascending=False,by=\"avg\").to_csv(\"real_data.csv\",index=False)"
   ]
  },
  {
   "cell_type": "code",
   "execution_count": 126,
   "metadata": {},
   "outputs": [],
   "source": [
    "test = df2_sorted[df2_sorted[\"atd\"] >= 10]\n",
    "test.sort_values(ascending=False,by=\"avg\").to_csv(\"full.csv\",index=False)"
   ]
  },
  {
   "cell_type": "code",
   "execution_count": 127,
   "metadata": {},
   "outputs": [
    {
     "data": {
      "application/vnd.microsoft.datawrangler.viewer.v0+json": {
       "columns": [
        {
         "name": "index",
         "rawType": "int64",
         "type": "integer"
        },
        {
         "name": "color_code",
         "rawType": "object",
         "type": "string"
        },
        {
         "name": "name",
         "rawType": "object",
         "type": "string"
        },
        {
         "name": "avg",
         "rawType": "object",
         "type": "string"
        },
        {
         "name": "atd",
         "rawType": "object",
         "type": "string"
        }
       ],
       "conversionMethod": "pd.DataFrame",
       "ref": "3acef0f3-c38b-41a8-98a9-85a95175e0ac",
       "rows": [],
       "shape": {
        "columns": 4,
        "rows": 0
       }
      },
      "text/html": [
       "<div>\n",
       "<style scoped>\n",
       "    .dataframe tbody tr th:only-of-type {\n",
       "        vertical-align: middle;\n",
       "    }\n",
       "\n",
       "    .dataframe tbody tr th {\n",
       "        vertical-align: top;\n",
       "    }\n",
       "\n",
       "    .dataframe thead th {\n",
       "        text-align: right;\n",
       "    }\n",
       "</style>\n",
       "<table border=\"1\" class=\"dataframe\">\n",
       "  <thead>\n",
       "    <tr style=\"text-align: right;\">\n",
       "      <th></th>\n",
       "      <th>color_code</th>\n",
       "      <th>name</th>\n",
       "      <th>avg</th>\n",
       "      <th>atd</th>\n",
       "    </tr>\n",
       "  </thead>\n",
       "  <tbody>\n",
       "  </tbody>\n",
       "</table>\n",
       "</div>"
      ],
      "text/plain": [
       "Empty DataFrame\n",
       "Columns: [color_code, name, avg, atd]\n",
       "Index: []"
      ]
     },
     "execution_count": 127,
     "metadata": {},
     "output_type": "execute_result"
    }
   ],
   "source": [
    "df3 = pd.read_csv(\"full.csv\")\n",
    "df3"
   ]
  },
  {
   "cell_type": "code",
   "execution_count": 128,
   "metadata": {},
   "outputs": [
    {
     "data": {
      "application/vnd.microsoft.datawrangler.viewer.v0+json": {
       "columns": [
        {
         "name": "index",
         "rawType": "int64",
         "type": "integer"
        },
        {
         "name": "color_code",
         "rawType": "object",
         "type": "string"
        },
        {
         "name": "name",
         "rawType": "object",
         "type": "string"
        },
        {
         "name": "avg",
         "rawType": "object",
         "type": "string"
        },
        {
         "name": "atd",
         "rawType": "object",
         "type": "string"
        }
       ],
       "conversionMethod": "pd.DataFrame",
       "ref": "fa49a574-acd2-4a4e-9099-57b1ad242ce5",
       "rows": [],
       "shape": {
        "columns": 4,
        "rows": 0
       }
      },
      "text/html": [
       "<div>\n",
       "<style scoped>\n",
       "    .dataframe tbody tr th:only-of-type {\n",
       "        vertical-align: middle;\n",
       "    }\n",
       "\n",
       "    .dataframe tbody tr th {\n",
       "        vertical-align: top;\n",
       "    }\n",
       "\n",
       "    .dataframe thead th {\n",
       "        text-align: right;\n",
       "    }\n",
       "</style>\n",
       "<table border=\"1\" class=\"dataframe\">\n",
       "  <thead>\n",
       "    <tr style=\"text-align: right;\">\n",
       "      <th></th>\n",
       "      <th>color_code</th>\n",
       "      <th>name</th>\n",
       "      <th>avg</th>\n",
       "      <th>atd</th>\n",
       "    </tr>\n",
       "  </thead>\n",
       "  <tbody>\n",
       "  </tbody>\n",
       "</table>\n",
       "</div>"
      ],
      "text/plain": [
       "Empty DataFrame\n",
       "Columns: [color_code, name, avg, atd]\n",
       "Index: []"
      ]
     },
     "execution_count": 128,
     "metadata": {},
     "output_type": "execute_result"
    }
   ],
   "source": [
    "df3.sort_values(ascending=False,by=\"atd\")"
   ]
  },
  {
   "cell_type": "code",
   "execution_count": 129,
   "metadata": {},
   "outputs": [
    {
     "data": {
      "text/plain": [
       "Text(0.5, 1.0, 'most kills')"
      ]
     },
     "execution_count": 129,
     "metadata": {},
     "output_type": "execute_result"
    },
    {
     "data": {
      "image/png": "[encoded data removed]",
      "text/plain": [
       "<Figure size 1500x500 with 1 Axes>"
      ]
     },
     "metadata": {},
     "output_type": "display_data"
    }
   ],
   "source": [
    "\n",
    "\n",
    "\n",
    "plt.figure(figsize=(15,5))\n",
    "plt.bar(df3[\"name\"],df3[\"avg\"],color = \"lightblue\")\n",
    "plt.xticks(rotation = 90)\n",
    "number_format(df3,\"avg\")\n",
    "plt.title(\"most kills\")\n",
    "\n"
   ]
  },
  {
   "cell_type": "code",
   "execution_count": 130,
   "metadata": {},
   "outputs": [
    {
     "data": {
      "image/png": "[encoded data removed]",
      "text/plain": [
       "<Figure size 1500x500 with 1 Axes>"
      ]
     },
     "metadata": {},
     "output_type": "display_data"
    }
   ],
   "source": [
    "\n",
    "names = df3.sort_values(ascending=False,by=\"atd\")\n",
    "plt.figure(figsize=(15,5))\n",
    "number_format(names,\"atd\")\n",
    "plt.bar(names[\"name\"],names[\"atd\"])\n",
    "plt.xticks(rotation = 90)\n",
    "plt.show()"
   ]
  },
  {
   "cell_type": "code",
   "execution_count": 131,
   "metadata": {},
   "outputs": [
    {
     "data": {
      "application/vnd.microsoft.datawrangler.viewer.v0+json": {
       "columns": [
        {
         "name": "index",
         "rawType": "int64",
         "type": "integer"
        },
        {
         "name": "name",
         "rawType": "object",
         "type": "string"
        },
        {
         "name": "kills",
         "rawType": "int64",
         "type": "integer"
        }
       ],
       "conversionMethod": "pd.DataFrame",
       "ref": "e8e885c6-d4fa-429a-8747-1df3bc298886",
       "rows": [
        [
         "0",
         "aryafariziii160",
         "42"
        ],
        [
         "1",
         "Cogus_0828",
         "32"
        ],
        [
         "2",
         "Oscarchoyzy24",
         "11"
        ],
        [
         "3",
         "MAMAD_ALI8393",
         "11"
        ],
        [
         "4",
         "jgwen19",
         "48"
        ],
        [
         "5",
         "raka6792",
         "29"
        ],
        [
         "6",
         "rttt_1234567",
         "15"
        ],
        [
         "7",
         "Kazuyuki_Owen",
         "45"
        ],
        [
         "8",
         "GRADE4092",
         "17"
        ],
        [
         "9",
         "Governah5",
         "33"
        ],
        [
         "10",
         "polkomgyy44",
         "51"
        ],
        [
         "11",
         "mrflipsflapz",
         "51"
        ],
        [
         "12",
         "supermanakmeeee_twin",
         "39"
        ],
        [
         "13",
         "igichchcj",
         "20"
        ],
        [
         "14",
         "imnotharingyou",
         "15"
        ],
        [
         "15",
         "spikey_001",
         "47"
        ],
        [
         "16",
         "Donnban_me",
         "32"
        ],
        [
         "17",
         "HarArkhichen",
         "32"
        ],
        [
         "18",
         "Xernicus",
         "45"
        ],
        [
         "19",
         "nickthegodrider1289",
         "50"
        ],
        [
         "20",
         "r4_bt",
         "48"
        ],
        [
         "21",
         "pensmen",
         "53"
        ],
        [
         "22",
         "PhuyerThroned000",
         "71"
        ],
        [
         "23",
         "Gariksz",
         "60"
        ],
        [
         "24",
         "Dawnftb",
         "46"
        ],
        [
         "25",
         "jesterproandnoob",
         "49"
        ],
        [
         "26",
         "ToothlessXD123",
         "56"
        ],
        [
         "27",
         "JEJU_0P3RAT0R",
         "43"
        ],
        [
         "28",
         "Indonesia_ofMalaysia",
         "39"
        ],
        [
         "29",
         "David_Theusless",
         "35"
        ],
        [
         "30",
         "spikey_001",
         "39"
        ],
        [
         "31",
         "Haloinqsss",
         "33"
        ],
        [
         "32",
         "Dawnftb",
         "40"
        ],
        [
         "33",
         "jesterproandnoob",
         "47"
        ],
        [
         "34",
         "Cogus_0828",
         "36"
        ],
        [
         "35",
         "rttt_1234567",
         "21"
        ],
        [
         "36",
         "encik_Faris",
         "45"
        ],
        [
         "37",
         "camper8903",
         "56"
        ],
        [
         "38",
         "anathaliakdc",
         "40"
        ],
        [
         "39",
         "wninju",
         "39"
        ],
        [
         "40",
         "ToothlessXD123",
         "61"
        ],
        [
         "41",
         "DISCO7266",
         "18"
        ],
        [
         "42",
         "bigshockwave99",
         "68"
        ],
        [
         "43",
         "JEJU_0P3RAT0R",
         "37"
        ],
        [
         "44",
         "ConesOdebrecht",
         "77"
        ],
        [
         "45",
         "pensmen",
         "74"
        ],
        [
         "46",
         "Chalkecc",
         "33"
        ],
        [
         "47",
         "David_Theusless",
         "26"
        ],
        [
         "48",
         "jgwen19",
         "50"
        ],
        [
         "49",
         "commander_cookie1234",
         "31"
        ]
       ],
       "shape": {
        "columns": 2,
        "rows": 180
       }
      },
      "text/html": [
       "<div>\n",
       "<style scoped>\n",
       "    .dataframe tbody tr th:only-of-type {\n",
       "        vertical-align: middle;\n",
       "    }\n",
       "\n",
       "    .dataframe tbody tr th {\n",
       "        vertical-align: top;\n",
       "    }\n",
       "\n",
       "    .dataframe thead th {\n",
       "        text-align: right;\n",
       "    }\n",
       "</style>\n",
       "<table border=\"1\" class=\"dataframe\">\n",
       "  <thead>\n",
       "    <tr style=\"text-align: right;\">\n",
       "      <th></th>\n",
       "      <th>name</th>\n",
       "      <th>kills</th>\n",
       "    </tr>\n",
       "  </thead>\n",
       "  <tbody>\n",
       "    <tr>\n",
       "      <th>0</th>\n",
       "      <td>aryafariziii160</td>\n",
       "      <td>42</td>\n",
       "    </tr>\n",
       "    <tr>\n",
       "      <th>1</th>\n",
       "      <td>Cogus_0828</td>\n",
       "      <td>32</td>\n",
       "    </tr>\n",
       "    <tr>\n",
       "      <th>2</th>\n",
       "      <td>Oscarchoyzy24</td>\n",
       "      <td>11</td>\n",
       "    </tr>\n",
       "    <tr>\n",
       "      <th>3</th>\n",
       "      <td>MAMAD_ALI8393</td>\n",
       "      <td>11</td>\n",
       "    </tr>\n",
       "    <tr>\n",
       "      <th>4</th>\n",
       "      <td>jgwen19</td>\n",
       "      <td>48</td>\n",
       "    </tr>\n",
       "    <tr>\n",
       "      <th>...</th>\n",
       "      <td>...</td>\n",
       "      <td>...</td>\n",
       "    </tr>\n",
       "    <tr>\n",
       "      <th>175</th>\n",
       "      <td>Kazuyuki_Owen</td>\n",
       "      <td>68</td>\n",
       "    </tr>\n",
       "    <tr>\n",
       "      <th>176</th>\n",
       "      <td>camper8903</td>\n",
       "      <td>62</td>\n",
       "    </tr>\n",
       "    <tr>\n",
       "      <th>177</th>\n",
       "      <td>spikey_001</td>\n",
       "      <td>48</td>\n",
       "    </tr>\n",
       "    <tr>\n",
       "      <th>178</th>\n",
       "      <td>jesterproandnoob</td>\n",
       "      <td>69</td>\n",
       "    </tr>\n",
       "    <tr>\n",
       "      <th>179</th>\n",
       "      <td>KJ</td>\n",
       "      <td>34</td>\n",
       "    </tr>\n",
       "  </tbody>\n",
       "</table>\n",
       "<p>180 rows × 2 columns</p>\n",
       "</div>"
      ],
      "text/plain": [
       "                 name  kills\n",
       "0     aryafariziii160     42\n",
       "1          Cogus_0828     32\n",
       "2       Oscarchoyzy24     11\n",
       "3       MAMAD_ALI8393     11\n",
       "4             jgwen19     48\n",
       "..                ...    ...\n",
       "175     Kazuyuki_Owen     68\n",
       "176        camper8903     62\n",
       "177        spikey_001     48\n",
       "178  jesterproandnoob     69\n",
       "179                KJ     34\n",
       "\n",
       "[180 rows x 2 columns]"
      ]
     },
     "execution_count": 131,
     "metadata": {},
     "output_type": "execute_result"
    }
   ],
   "source": [
    "df"
   ]
  },
  {
   "cell_type": "code",
   "execution_count": 132,
   "metadata": {},
   "outputs": [
    {
     "data": {
      "text/plain": [
       "Text(0.5, 1.0, 'most kills')"
      ]
     },
     "execution_count": 132,
     "metadata": {},
     "output_type": "execute_result"
    },
    {
     "data": {
      "image/png": "[encoded data removed]",
      "text/plain": [
       "<Figure size 1500x500 with 1 Axes>"
      ]
     },
     "metadata": {},
     "output_type": "display_data"
    }
   ],
   "source": [
    "\n",
    "plt.figure(figsize=(15,5))\n",
    "plt.bar(df2_sorted[\"name\"],df2_sorted[\"avg\"],color = \"lightblue\")\n",
    "number_format(df2_sorted,\"avg\")\n",
    "plt.xticks(rotation = 90)\n",
    "plt.title(\"most kills\")\n"
   ]
  },
  {
   "cell_type": "code",
   "execution_count": 133,
   "metadata": {},
   "outputs": [
    {
     "data": {
      "application/vnd.microsoft.datawrangler.viewer.v0+json": {
       "columns": [
        {
         "name": "index",
         "rawType": "int64",
         "type": "integer"
        },
        {
         "name": "color_code",
         "rawType": "object",
         "type": "string"
        },
        {
         "name": "name",
         "rawType": "object",
         "type": "string"
        },
        {
         "name": "avg",
         "rawType": "float64",
         "type": "float"
        },
        {
         "name": "atd",
         "rawType": "int64",
         "type": "integer"
        }
       ],
       "conversionMethod": "pd.DataFrame",
       "ref": "cb0dfd4c-28f8-4f39-ac50-74a544d8ae23",
       "rows": [
        [
         "76",
         "🔵",
         "swearimnoob",
         "83.0",
         "1"
        ],
        [
         "37",
         "🔵",
         "ConesOdebrecht",
         "77.0",
         "1"
        ],
        [
         "23",
         "🔵",
         "Gariksz",
         "73.5",
         "2"
        ],
        [
         "22",
         "🔵",
         "PhuyerThroned000",
         "71.0",
         "1"
        ],
        [
         "44",
         "🔵",
         "SeaV1per1224",
         "68.5",
         "2"
        ],
        [
         "69",
         "🔵",
         "elementhknight123",
         "67.0",
         "1"
        ],
        [
         "52",
         "🔵",
         "1usyhd_good4",
         "66.0",
         "1"
        ],
        [
         "42",
         "🔵",
         "Naser049",
         "66.0",
         "1"
        ],
        [
         "49",
         "🔵",
         "dyj2233",
         "66.0",
         "1"
        ],
        [
         "19",
         "🔵",
         "nickthegodrider1289",
         "63.6",
         "5"
        ],
        [
         "86",
         "🔵",
         "gtmsgamerG",
         "63.0",
         "1"
        ],
        [
         "26",
         "🔵",
         "ToothlessXD123",
         "62.7",
         "3"
        ],
        [
         "25",
         "🔵",
         "jesterproandnoob",
         "61.0",
         "5"
        ],
        [
         "47",
         "🔵",
         "darkenians",
         "60.0",
         "1"
        ],
        [
         "70",
         "🔵",
         "Alvongado",
         "59.0",
         "1"
        ],
        [
         "32",
         "🔵",
         "camper8903",
         "59.0",
         "2"
        ],
        [
         "82",
         "🔵",
         "korea199019",
         "57.0",
         "1"
        ],
        [
         "7",
         "🔵",
         "Kazuyuki_Owen",
         "56.5",
         "2"
        ],
        [
         "4",
         "🔵",
         "jgwen19",
         "56.2",
         "5"
        ],
        [
         "87",
         "🔵",
         "PekaRockRuff",
         "56.0",
         "1"
        ],
        [
         "54",
         "🟢",
         "Chanseoni",
         "54.0",
         "2"
        ],
        [
         "58",
         "🟢",
         "amazingdkfewi1024",
         "52.5",
         "2"
        ],
        [
         "21",
         "🟢",
         "pensmen",
         "52.0",
         "5"
        ],
        [
         "0",
         "🟢",
         "aryafariziii160",
         "52.0",
         "5"
        ],
        [
         "36",
         "🟢",
         "bigshockwave99",
         "51.5",
         "2"
        ],
        [
         "10",
         "🟢",
         "polkomgyy44",
         "50.2",
         "4"
        ],
        [
         "28",
         "🟢",
         "Indonesia_ofMalaysia",
         "50.0",
         "4"
        ],
        [
         "11",
         "🟢",
         "mrflipsflapz",
         "49.5",
         "2"
        ],
        [
         "18",
         "🟢",
         "Xernicus",
         "49.4",
         "5"
        ],
        [
         "15",
         "🟢",
         "spikey_001",
         "48.2",
         "5"
        ],
        [
         "85",
         "🟢",
         "SomeRandomBucketName",
         "48.0",
         "1"
        ],
        [
         "83",
         "🟢",
         "wkre12",
         "48.0",
         "1"
        ],
        [
         "20",
         "🟢",
         "r4_bt",
         "48.0",
         "1"
        ],
        [
         "72",
         "🟢",
         "cigiwx",
         "47.0",
         "1"
        ],
        [
         "63",
         "🟢",
         "lightie5252",
         "47.0",
         "1"
        ],
        [
         "17",
         "🟢",
         "HarArkhichen",
         "46.7",
         "3"
        ],
        [
         "50",
         "🟢",
         "DaReal_Shradicle",
         "46.0",
         "1"
        ],
        [
         "78",
         "🟢",
         "jamesplayztv1",
         "45.0",
         "2"
        ],
        [
         "1",
         "🟡",
         "Cogus_0828",
         "44.6",
         "5"
        ],
        [
         "51",
         "🟡",
         "RowanowaZoro09",
         "44.0",
         "1"
        ],
        [
         "34",
         "🟡",
         "wninju",
         "43.5",
         "2"
        ],
        [
         "9",
         "🟡",
         "Governah5",
         "43.3",
         "3"
        ],
        [
         "65",
         "🟡",
         "xeno_wing",
         "43.0",
         "1"
        ],
        [
         "53",
         "🟡",
         "Sunfull1",
         "42.0",
         "2"
        ],
        [
         "31",
         "🟡",
         "encik_Faris",
         "41.5",
         "2"
        ],
        [
         "27",
         "🟡",
         "JEJU_0P3RAT0R",
         "40.0",
         "2"
        ],
        [
         "5",
         "🟡",
         "raka6792",
         "40.0",
         "4"
        ],
        [
         "73",
         "🟡",
         "shield_4545",
         "40.0",
         "1"
        ],
        [
         "40",
         "🟡",
         "kite_167",
         "40.0",
         "2"
        ],
        [
         "66",
         "🟡",
         "0zy111",
         "40.0",
         "1"
        ]
       ],
       "shape": {
        "columns": 4,
        "rows": 91
       }
      },
      "text/html": [
       "<div>\n",
       "<style scoped>\n",
       "    .dataframe tbody tr th:only-of-type {\n",
       "        vertical-align: middle;\n",
       "    }\n",
       "\n",
       "    .dataframe tbody tr th {\n",
       "        vertical-align: top;\n",
       "    }\n",
       "\n",
       "    .dataframe thead th {\n",
       "        text-align: right;\n",
       "    }\n",
       "</style>\n",
       "<table border=\"1\" class=\"dataframe\">\n",
       "  <thead>\n",
       "    <tr style=\"text-align: right;\">\n",
       "      <th></th>\n",
       "      <th>color_code</th>\n",
       "      <th>name</th>\n",
       "      <th>avg</th>\n",
       "      <th>atd</th>\n",
       "    </tr>\n",
       "  </thead>\n",
       "  <tbody>\n",
       "    <tr>\n",
       "      <th>76</th>\n",
       "      <td>🔵</td>\n",
       "      <td>swearimnoob</td>\n",
       "      <td>83.0</td>\n",
       "      <td>1</td>\n",
       "    </tr>\n",
       "    <tr>\n",
       "      <th>37</th>\n",
       "      <td>🔵</td>\n",
       "      <td>ConesOdebrecht</td>\n",
       "      <td>77.0</td>\n",
       "      <td>1</td>\n",
       "    </tr>\n",
       "    <tr>\n",
       "      <th>23</th>\n",
       "      <td>🔵</td>\n",
       "      <td>Gariksz</td>\n",
       "      <td>73.5</td>\n",
       "      <td>2</td>\n",
       "    </tr>\n",
       "    <tr>\n",
       "      <th>22</th>\n",
       "      <td>🔵</td>\n",
       "      <td>PhuyerThroned000</td>\n",
       "      <td>71.0</td>\n",
       "      <td>1</td>\n",
       "    </tr>\n",
       "    <tr>\n",
       "      <th>44</th>\n",
       "      <td>🔵</td>\n",
       "      <td>SeaV1per1224</td>\n",
       "      <td>68.5</td>\n",
       "      <td>2</td>\n",
       "    </tr>\n",
       "    <tr>\n",
       "      <th>...</th>\n",
       "      <td>...</td>\n",
       "      <td>...</td>\n",
       "      <td>...</td>\n",
       "      <td>...</td>\n",
       "    </tr>\n",
       "    <tr>\n",
       "      <th>3</th>\n",
       "      <td>🔴</td>\n",
       "      <td>MAMAD_ALI8393</td>\n",
       "      <td>19.5</td>\n",
       "      <td>2</td>\n",
       "    </tr>\n",
       "    <tr>\n",
       "      <th>35</th>\n",
       "      <td>🔴</td>\n",
       "      <td>DISCO7266</td>\n",
       "      <td>16.7</td>\n",
       "      <td>3</td>\n",
       "    </tr>\n",
       "    <tr>\n",
       "      <th>2</th>\n",
       "      <td>🔴</td>\n",
       "      <td>Oscarchoyzy24</td>\n",
       "      <td>16.0</td>\n",
       "      <td>2</td>\n",
       "    </tr>\n",
       "    <tr>\n",
       "      <th>14</th>\n",
       "      <td>🔴</td>\n",
       "      <td>imnotharingyou</td>\n",
       "      <td>15.0</td>\n",
       "      <td>1</td>\n",
       "    </tr>\n",
       "    <tr>\n",
       "      <th>68</th>\n",
       "      <td>🔴</td>\n",
       "      <td>officerngelo</td>\n",
       "      <td>9.0</td>\n",
       "      <td>1</td>\n",
       "    </tr>\n",
       "  </tbody>\n",
       "</table>\n",
       "<p>91 rows × 4 columns</p>\n",
       "</div>"
      ],
      "text/plain": [
       "   color_code              name   avg  atd\n",
       "76          🔵       swearimnoob  83.0    1\n",
       "37          🔵    ConesOdebrecht  77.0    1\n",
       "23          🔵           Gariksz  73.5    2\n",
       "22          🔵  PhuyerThroned000  71.0    1\n",
       "44          🔵      SeaV1per1224  68.5    2\n",
       "..        ...               ...   ...  ...\n",
       "3           🔴     MAMAD_ALI8393  19.5    2\n",
       "35          🔴         DISCO7266  16.7    3\n",
       "2           🔴     Oscarchoyzy24  16.0    2\n",
       "14          🔴    imnotharingyou  15.0    1\n",
       "68          🔴      officerngelo   9.0    1\n",
       "\n",
       "[91 rows x 4 columns]"
      ]
     },
     "execution_count": 133,
     "metadata": {},
     "output_type": "execute_result"
    }
   ],
   "source": [
    "df2_sorted"
   ]
  }
 ],
 "metadata": {
  "kernelspec": {
   "display_name": "Python 3",
   "language": "python",
   "name": "python3"
  },
  "language_info": {
   "codemirror_mode": {
    "name": "ipython",
    "version": 3
   },
   "file_extension": ".py",
   "mimetype": "text/x-python",
   "name": "python",
   "nbconvert_exporter": "python",
   "pygments_lexer": "ipython3",
   "version": "3.11.9"
  }
 },
 "nbformat": 4,
 "nbformat_minor": 2
}
