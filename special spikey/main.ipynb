{
 "cells": [
  {
   "cell_type": "code",
   "execution_count": 58,
   "metadata": {},
   "outputs": [],
   "source": [
    "import pandas as pd\n",
    "import numpy as np\n",
    "import matplotlib.pyplot as plt\n",
    "import seaborn as sns\n",
    "import scipy.stats as stats"
   ]
  },
  {
   "cell_type": "markdown",
   "metadata": {},
   "source": [
    "# reading the data"
   ]
  },
  {
   "cell_type": "code",
   "execution_count": 59,
   "metadata": {},
   "outputs": [],
   "source": [
    "df = pd.read_csv('data.csv')"
   ]
  },
  {
   "cell_type": "code",
   "execution_count": 60,
   "metadata": {},
   "outputs": [
    {
     "data": {
      "application/vnd.microsoft.datawrangler.viewer.v0+json": {
       "columns": [
        {
         "name": "index",
         "rawType": "int64",
         "type": "integer"
        },
        {
         "name": "name",
         "rawType": "object",
         "type": "string"
        },
        {
         "name": "kills",
         "rawType": "float64",
         "type": "float"
        }
       ],
       "conversionMethod": "pd.DataFrame",
       "ref": "45c159bf-9f88-42b3-83b5-518b8ee79ecb",
       "rows": [
        [
         "0",
         "anathaliakdc",
         "31.0"
        ],
        [
         "1",
         "pancake_w1",
         "31.0"
        ],
        [
         "2",
         "KisarakiTH",
         "25.0"
        ],
        [
         "3",
         "GGXDArusha",
         "33.0"
        ],
        [
         "4",
         "ckpoa20",
         "42.0"
        ],
        [
         "5",
         "Morristte",
         "26.0"
        ],
        [
         "6",
         "jiajun129",
         "23.0"
        ],
        [
         "7",
         "GRADE4092",
         "17.0"
        ],
        [
         "8",
         "pensmen",
         "62.0"
        ],
        [
         "9",
         "burnfield1k22",
         "53.0"
        ],
        [
         "10",
         "FrailBailen",
         "28.0"
        ],
        [
         "11",
         "SeaV1per1224",
         "51.0"
        ],
        [
         "12",
         "spikey_001",
         "47.0"
        ],
        [
         "13",
         "chickenkampong",
         "32.0"
        ],
        [
         "14",
         "Zweihvnders",
         "64.0"
        ],
        [
         "15",
         "MarionnJames2307",
         "15.0"
        ],
        [
         "16",
         "Dawnftb",
         "27.0"
        ],
        [
         "17",
         "aphexic",
         "76.0"
        ],
        [
         "18",
         "polkomgyy44",
         "58.0"
        ],
        [
         "19",
         "gyftfdko",
         "48.0"
        ],
        [
         "20",
         "Bababooooooeydude",
         "32.0"
        ],
        [
         "21",
         "Zombisho",
         "7.0"
        ],
        [
         "22",
         "encik_Faris",
         "37.0"
        ],
        [
         "23",
         "kylemanike",
         "44.0"
        ],
        [
         "24",
         "Dawnftb",
         "27.0"
        ],
        [
         "25",
         "chickenkampong",
         "32.0"
        ],
        [
         "26",
         "jiajun129",
         "23.0"
        ],
        [
         "27",
         "GGXDArusha",
         "33.0"
        ],
        [
         "28",
         "pensmen",
         "62.0"
        ],
        [
         "29",
         "spikey_001",
         "47.0"
        ],
        [
         "30",
         "pancake_w1",
         "31.0"
        ],
        [
         "31",
         "Zweihvnders",
         "64.0"
        ],
        [
         "32",
         "KisarakiTH",
         "25.0"
        ],
        [
         "33",
         "aphexic",
         "76.0"
        ],
        [
         "34",
         "MarionnJames2307",
         "15.0"
        ],
        [
         "35",
         "GRADE4092",
         "17.0"
        ],
        [
         "36",
         "anathaliakdc",
         "31.0"
        ],
        [
         "37",
         "ckpoa20",
         "42.0"
        ],
        [
         "38",
         "Morristte",
         "26.0"
        ],
        [
         "39",
         "SeaV1per1224",
         "51.0"
        ],
        [
         "40",
         "FrailBailen",
         "28.0"
        ],
        [
         "41",
         "burnfield1k22",
         "53.0"
        ],
        [
         "42",
         "polkomgyy44",
         "58.0"
        ],
        [
         "43",
         "gyftfdko",
         "48.0"
        ],
        [
         "44",
         "Bababooooooeydude",
         "32.0"
        ],
        [
         "45",
         "Zombisho",
         "7.0"
        ],
        [
         "46",
         "encik_Faris",
         "37.0"
        ],
        [
         "47",
         "kylemanike",
         "44.0"
        ],
        [
         "48",
         "TheHeirToZimbabwe",
         "103.0"
        ],
        [
         "49",
         "mahanprogamer3",
         "24.0"
        ]
       ],
       "shape": {
        "columns": 2,
        "rows": 1466
       }
      },
      "text/html": [
       "<div>\n",
       "<style scoped>\n",
       "    .dataframe tbody tr th:only-of-type {\n",
       "        vertical-align: middle;\n",
       "    }\n",
       "\n",
       "    .dataframe tbody tr th {\n",
       "        vertical-align: top;\n",
       "    }\n",
       "\n",
       "    .dataframe thead th {\n",
       "        text-align: right;\n",
       "    }\n",
       "</style>\n",
       "<table border=\"1\" class=\"dataframe\">\n",
       "  <thead>\n",
       "    <tr style=\"text-align: right;\">\n",
       "      <th></th>\n",
       "      <th>name</th>\n",
       "      <th>kills</th>\n",
       "    </tr>\n",
       "  </thead>\n",
       "  <tbody>\n",
       "    <tr>\n",
       "      <th>0</th>\n",
       "      <td>anathaliakdc</td>\n",
       "      <td>31.0</td>\n",
       "    </tr>\n",
       "    <tr>\n",
       "      <th>1</th>\n",
       "      <td>pancake_w1</td>\n",
       "      <td>31.0</td>\n",
       "    </tr>\n",
       "    <tr>\n",
       "      <th>2</th>\n",
       "      <td>KisarakiTH</td>\n",
       "      <td>25.0</td>\n",
       "    </tr>\n",
       "    <tr>\n",
       "      <th>3</th>\n",
       "      <td>GGXDArusha</td>\n",
       "      <td>33.0</td>\n",
       "    </tr>\n",
       "    <tr>\n",
       "      <th>4</th>\n",
       "      <td>ckpoa20</td>\n",
       "      <td>42.0</td>\n",
       "    </tr>\n",
       "    <tr>\n",
       "      <th>...</th>\n",
       "      <td>...</td>\n",
       "      <td>...</td>\n",
       "    </tr>\n",
       "    <tr>\n",
       "      <th>1461</th>\n",
       "      <td>pensmen</td>\n",
       "      <td>59.0</td>\n",
       "    </tr>\n",
       "    <tr>\n",
       "      <th>1462</th>\n",
       "      <td>kite_167</td>\n",
       "      <td>46.0</td>\n",
       "    </tr>\n",
       "    <tr>\n",
       "      <th>1463</th>\n",
       "      <td>memeisgod1234567</td>\n",
       "      <td>23.0</td>\n",
       "    </tr>\n",
       "    <tr>\n",
       "      <th>1464</th>\n",
       "      <td>Luqman_indo</td>\n",
       "      <td>21.0</td>\n",
       "    </tr>\n",
       "    <tr>\n",
       "      <th>1465</th>\n",
       "      <td>raka6792</td>\n",
       "      <td>27.0</td>\n",
       "    </tr>\n",
       "  </tbody>\n",
       "</table>\n",
       "<p>1466 rows × 2 columns</p>\n",
       "</div>"
      ],
      "text/plain": [
       "                  name  kills\n",
       "0         anathaliakdc   31.0\n",
       "1           pancake_w1   31.0\n",
       "2           KisarakiTH   25.0\n",
       "3           GGXDArusha   33.0\n",
       "4              ckpoa20   42.0\n",
       "...                ...    ...\n",
       "1461           pensmen   59.0\n",
       "1462          kite_167   46.0\n",
       "1463  memeisgod1234567   23.0\n",
       "1464       Luqman_indo   21.0\n",
       "1465          raka6792   27.0\n",
       "\n",
       "[1466 rows x 2 columns]"
      ]
     },
     "execution_count": 60,
     "metadata": {},
     "output_type": "execute_result"
    }
   ],
   "source": [
    "df"
   ]
  },
  {
   "cell_type": "markdown",
   "metadata": {},
   "source": [
    "# Top 10 attandence in the week"
   ]
  },
  {
   "cell_type": "code",
   "execution_count": 61,
   "metadata": {},
   "outputs": [
    {
     "data": {
      "image/png": "[encoded data removed]",
      "text/plain": [
       "<Figure size 1000x500 with 1 Axes>"
      ]
     },
     "metadata": {},
     "output_type": "display_data"
    }
   ],
   "source": [
    "plt.figure(figsize=(10, 5)) \n",
    "df[\"name\"].value_counts().nlargest(10).plot(kind='bar',colormap='viridis')\n",
    "plt.title(\"Attendance by Name\")\n",
    "plt.xlabel(\"Name\")\n",
    "plt.ylabel(\"Attendance\")\n",
    "plt.savefig('attadance_by_name.png',dpi=200,bbox_inches='tight')\n",
    "\n"
   ]
  },
  {
   "cell_type": "markdown",
   "metadata": {},
   "source": [
    "# attadance for 1 week that is x >= 3\n",
    "\n"
   ]
  },
  {
   "cell_type": "code",
   "execution_count": 64,
   "metadata": {},
   "outputs": [
    {
     "data": {
      "text/plain": [
       "np.int64(27)"
      ]
     },
     "execution_count": 64,
     "metadata": {},
     "output_type": "execute_result"
    }
   ],
   "source": [
    "df[df[\"name\"] == \"mrflipsflapz\"].value_counts().sum()"
   ]
  },
  {
   "cell_type": "code",
   "execution_count": 65,
   "metadata": {},
   "outputs": [],
   "source": [
    "attandace = df[df[\"name\"] == \"mrflipsflapz\"].value_counts().sum()"
   ]
  },
  {
   "cell_type": "code",
   "execution_count": 66,
   "metadata": {},
   "outputs": [
    {
     "data": {
      "text/plain": [
       "name\n",
       "Dawnftb                True\n",
       "nickthegodrider1289    True\n",
       "Oscarchoyzy24          True\n",
       "anathaliakdc           True\n",
       "spikey_001             True\n",
       "                       ... \n",
       "tris_thestudent        True\n",
       "star_dustriver         True\n",
       "Nero_Kauko             True\n",
       "Lord_Emerald1          True\n",
       "pioluisconrado         True\n",
       "Name: count, Length: 105, dtype: bool"
      ]
     },
     "execution_count": 66,
     "metadata": {},
     "output_type": "execute_result"
    }
   ],
   "source": [
    "check_attadance = df[\"name\"].value_counts() >= 3\n",
    "check_attadance.map({True: 1, False: 0})\n",
    "check_attadance[check_attadance == 1]\n"
   ]
  },
  {
   "cell_type": "markdown",
   "metadata": {},
   "source": [
    "# kills info"
   ]
  },
  {
   "cell_type": "code",
   "execution_count": 67,
   "metadata": {},
   "outputs": [
    {
     "name": "stdout",
     "output_type": "stream",
     "text": [
      "The average kills for everyone is:  44.8\n"
     ]
    }
   ],
   "source": [
    "avg_kills_everyone = df[\"kills\"].mean()\n",
    "print(\"The average kills for everyone is: \", round(avg_kills_everyone,1))"
   ]
  },
  {
   "cell_type": "code",
   "execution_count": 68,
   "metadata": {},
   "outputs": [
    {
     "data": {
      "application/vnd.microsoft.datawrangler.viewer.v0+json": {
       "columns": [
        {
         "name": "index",
         "rawType": "int64",
         "type": "integer"
        },
        {
         "name": "name",
         "rawType": "object",
         "type": "string"
        },
        {
         "name": "kills",
         "rawType": "float64",
         "type": "float"
        }
       ],
       "conversionMethod": "pd.DataFrame",
       "ref": "a23ceabc-0a8b-47ea-a966-187ac39c2d07",
       "rows": [
        [
         "18",
         "polkomgyy44",
         "58.0"
        ],
        [
         "42",
         "polkomgyy44",
         "58.0"
        ],
        [
         "68",
         "polkomgyy44",
         "55.0"
        ],
        [
         "144",
         "polkomgyy44",
         "59.0"
        ],
        [
         "194",
         "polkomgyy44",
         "55.0"
        ],
        [
         "266",
         "polkomgyy44",
         "60.0"
        ],
        [
         "288",
         "polkomgyy44",
         "56.0"
        ],
        [
         "317",
         "polkomgyy44",
         "77.0"
        ],
        [
         "400",
         "polkomgyy44",
         "54.0"
        ],
        [
         "497",
         "polkomgyy44",
         "43.0"
        ],
        [
         "516",
         "polkomgyy44",
         "64.0"
        ],
        [
         "571",
         "polkomgyy44",
         "44.0"
        ],
        [
         "581",
         "polkomgyy44",
         "65.0"
        ],
        [
         "704",
         "polkomgyy44",
         "58.0"
        ],
        [
         "759",
         "polkomgyy44",
         "50.0"
        ],
        [
         "828",
         "polkomgyy44",
         "52.0"
        ],
        [
         "853",
         "polkomgyy44",
         "44.0"
        ],
        [
         "865",
         "polkomgyy44",
         "48.0"
        ],
        [
         "892",
         "polkomgyy44",
         "48.0"
        ],
        [
         "924",
         "polkomgyy44",
         "50.0"
        ],
        [
         "983",
         "polkomgyy44",
         "57.0"
        ],
        [
         "1088",
         "polkomgyy44",
         "71.0"
        ],
        [
         "1114",
         "polkomgyy44",
         "64.0"
        ],
        [
         "1151",
         "polkomgyy44",
         "67.0"
        ],
        [
         "1167",
         "polkomgyy44",
         "60.0"
        ],
        [
         "1199",
         "polkomgyy44",
         "53.0"
        ],
        [
         "1243",
         "polkomgyy44",
         "65.0"
        ],
        [
         "1264",
         "polkomgyy44",
         "28.0"
        ],
        [
         "1288",
         "polkomgyy44",
         "69.0"
        ],
        [
         "1309",
         "polkomgyy44",
         "58.0"
        ],
        [
         "1344",
         "polkomgyy44",
         "62.0"
        ],
        [
         "1353",
         "polkomgyy44",
         "60.0"
        ],
        [
         "1426",
         "polkomgyy44",
         "51.0"
        ],
        [
         "1458",
         "polkomgyy44",
         "57.0"
        ]
       ],
       "shape": {
        "columns": 2,
        "rows": 34
       }
      },
      "text/html": [
       "<div>\n",
       "<style scoped>\n",
       "    .dataframe tbody tr th:only-of-type {\n",
       "        vertical-align: middle;\n",
       "    }\n",
       "\n",
       "    .dataframe tbody tr th {\n",
       "        vertical-align: top;\n",
       "    }\n",
       "\n",
       "    .dataframe thead th {\n",
       "        text-align: right;\n",
       "    }\n",
       "</style>\n",
       "<table border=\"1\" class=\"dataframe\">\n",
       "  <thead>\n",
       "    <tr style=\"text-align: right;\">\n",
       "      <th></th>\n",
       "      <th>name</th>\n",
       "      <th>kills</th>\n",
       "    </tr>\n",
       "  </thead>\n",
       "  <tbody>\n",
       "    <tr>\n",
       "      <th>18</th>\n",
       "      <td>polkomgyy44</td>\n",
       "      <td>58.0</td>\n",
       "    </tr>\n",
       "    <tr>\n",
       "      <th>42</th>\n",
       "      <td>polkomgyy44</td>\n",
       "      <td>58.0</td>\n",
       "    </tr>\n",
       "    <tr>\n",
       "      <th>68</th>\n",
       "      <td>polkomgyy44</td>\n",
       "      <td>55.0</td>\n",
       "    </tr>\n",
       "    <tr>\n",
       "      <th>144</th>\n",
       "      <td>polkomgyy44</td>\n",
       "      <td>59.0</td>\n",
       "    </tr>\n",
       "    <tr>\n",
       "      <th>194</th>\n",
       "      <td>polkomgyy44</td>\n",
       "      <td>55.0</td>\n",
       "    </tr>\n",
       "    <tr>\n",
       "      <th>266</th>\n",
       "      <td>polkomgyy44</td>\n",
       "      <td>60.0</td>\n",
       "    </tr>\n",
       "    <tr>\n",
       "      <th>288</th>\n",
       "      <td>polkomgyy44</td>\n",
       "      <td>56.0</td>\n",
       "    </tr>\n",
       "    <tr>\n",
       "      <th>317</th>\n",
       "      <td>polkomgyy44</td>\n",
       "      <td>77.0</td>\n",
       "    </tr>\n",
       "    <tr>\n",
       "      <th>400</th>\n",
       "      <td>polkomgyy44</td>\n",
       "      <td>54.0</td>\n",
       "    </tr>\n",
       "    <tr>\n",
       "      <th>497</th>\n",
       "      <td>polkomgyy44</td>\n",
       "      <td>43.0</td>\n",
       "    </tr>\n",
       "    <tr>\n",
       "      <th>516</th>\n",
       "      <td>polkomgyy44</td>\n",
       "      <td>64.0</td>\n",
       "    </tr>\n",
       "    <tr>\n",
       "      <th>571</th>\n",
       "      <td>polkomgyy44</td>\n",
       "      <td>44.0</td>\n",
       "    </tr>\n",
       "    <tr>\n",
       "      <th>581</th>\n",
       "      <td>polkomgyy44</td>\n",
       "      <td>65.0</td>\n",
       "    </tr>\n",
       "    <tr>\n",
       "      <th>704</th>\n",
       "      <td>polkomgyy44</td>\n",
       "      <td>58.0</td>\n",
       "    </tr>\n",
       "    <tr>\n",
       "      <th>759</th>\n",
       "      <td>polkomgyy44</td>\n",
       "      <td>50.0</td>\n",
       "    </tr>\n",
       "    <tr>\n",
       "      <th>828</th>\n",
       "      <td>polkomgyy44</td>\n",
       "      <td>52.0</td>\n",
       "    </tr>\n",
       "    <tr>\n",
       "      <th>853</th>\n",
       "      <td>polkomgyy44</td>\n",
       "      <td>44.0</td>\n",
       "    </tr>\n",
       "    <tr>\n",
       "      <th>865</th>\n",
       "      <td>polkomgyy44</td>\n",
       "      <td>48.0</td>\n",
       "    </tr>\n",
       "    <tr>\n",
       "      <th>892</th>\n",
       "      <td>polkomgyy44</td>\n",
       "      <td>48.0</td>\n",
       "    </tr>\n",
       "    <tr>\n",
       "      <th>924</th>\n",
       "      <td>polkomgyy44</td>\n",
       "      <td>50.0</td>\n",
       "    </tr>\n",
       "    <tr>\n",
       "      <th>983</th>\n",
       "      <td>polkomgyy44</td>\n",
       "      <td>57.0</td>\n",
       "    </tr>\n",
       "    <tr>\n",
       "      <th>1088</th>\n",
       "      <td>polkomgyy44</td>\n",
       "      <td>71.0</td>\n",
       "    </tr>\n",
       "    <tr>\n",
       "      <th>1114</th>\n",
       "      <td>polkomgyy44</td>\n",
       "      <td>64.0</td>\n",
       "    </tr>\n",
       "    <tr>\n",
       "      <th>1151</th>\n",
       "      <td>polkomgyy44</td>\n",
       "      <td>67.0</td>\n",
       "    </tr>\n",
       "    <tr>\n",
       "      <th>1167</th>\n",
       "      <td>polkomgyy44</td>\n",
       "      <td>60.0</td>\n",
       "    </tr>\n",
       "    <tr>\n",
       "      <th>1199</th>\n",
       "      <td>polkomgyy44</td>\n",
       "      <td>53.0</td>\n",
       "    </tr>\n",
       "    <tr>\n",
       "      <th>1243</th>\n",
       "      <td>polkomgyy44</td>\n",
       "      <td>65.0</td>\n",
       "    </tr>\n",
       "    <tr>\n",
       "      <th>1264</th>\n",
       "      <td>polkomgyy44</td>\n",
       "      <td>28.0</td>\n",
       "    </tr>\n",
       "    <tr>\n",
       "      <th>1288</th>\n",
       "      <td>polkomgyy44</td>\n",
       "      <td>69.0</td>\n",
       "    </tr>\n",
       "    <tr>\n",
       "      <th>1309</th>\n",
       "      <td>polkomgyy44</td>\n",
       "      <td>58.0</td>\n",
       "    </tr>\n",
       "    <tr>\n",
       "      <th>1344</th>\n",
       "      <td>polkomgyy44</td>\n",
       "      <td>62.0</td>\n",
       "    </tr>\n",
       "    <tr>\n",
       "      <th>1353</th>\n",
       "      <td>polkomgyy44</td>\n",
       "      <td>60.0</td>\n",
       "    </tr>\n",
       "    <tr>\n",
       "      <th>1426</th>\n",
       "      <td>polkomgyy44</td>\n",
       "      <td>51.0</td>\n",
       "    </tr>\n",
       "    <tr>\n",
       "      <th>1458</th>\n",
       "      <td>polkomgyy44</td>\n",
       "      <td>57.0</td>\n",
       "    </tr>\n",
       "  </tbody>\n",
       "</table>\n",
       "</div>"
      ],
      "text/plain": [
       "             name  kills\n",
       "18    polkomgyy44   58.0\n",
       "42    polkomgyy44   58.0\n",
       "68    polkomgyy44   55.0\n",
       "144   polkomgyy44   59.0\n",
       "194   polkomgyy44   55.0\n",
       "266   polkomgyy44   60.0\n",
       "288   polkomgyy44   56.0\n",
       "317   polkomgyy44   77.0\n",
       "400   polkomgyy44   54.0\n",
       "497   polkomgyy44   43.0\n",
       "516   polkomgyy44   64.0\n",
       "571   polkomgyy44   44.0\n",
       "581   polkomgyy44   65.0\n",
       "704   polkomgyy44   58.0\n",
       "759   polkomgyy44   50.0\n",
       "828   polkomgyy44   52.0\n",
       "853   polkomgyy44   44.0\n",
       "865   polkomgyy44   48.0\n",
       "892   polkomgyy44   48.0\n",
       "924   polkomgyy44   50.0\n",
       "983   polkomgyy44   57.0\n",
       "1088  polkomgyy44   71.0\n",
       "1114  polkomgyy44   64.0\n",
       "1151  polkomgyy44   67.0\n",
       "1167  polkomgyy44   60.0\n",
       "1199  polkomgyy44   53.0\n",
       "1243  polkomgyy44   65.0\n",
       "1264  polkomgyy44   28.0\n",
       "1288  polkomgyy44   69.0\n",
       "1309  polkomgyy44   58.0\n",
       "1344  polkomgyy44   62.0\n",
       "1353  polkomgyy44   60.0\n",
       "1426  polkomgyy44   51.0\n",
       "1458  polkomgyy44   57.0"
      ]
     },
     "execution_count": 68,
     "metadata": {},
     "output_type": "execute_result"
    }
   ],
   "source": [
    "df[df[\"name\"] == \"polkomgyy44\"]"
   ]
  },
  {
   "cell_type": "code",
   "execution_count": 69,
   "metadata": {},
   "outputs": [
    {
     "data": {
      "application/vnd.microsoft.datawrangler.viewer.v0+json": {
       "columns": [
        {
         "name": "index",
         "rawType": "int64",
         "type": "integer"
        },
        {
         "name": "name",
         "rawType": "object",
         "type": "string"
        },
        {
         "name": "kills",
         "rawType": "float64",
         "type": "float"
        }
       ],
       "conversionMethod": "pd.DataFrame",
       "ref": "57c6e725-1709-4940-8da2-1b63da129fcc",
       "rows": [
        [
         "0",
         "anathaliakdc",
         "31.0"
        ],
        [
         "1",
         "pancake_w1",
         "31.0"
        ],
        [
         "2",
         "KisarakiTH",
         "25.0"
        ],
        [
         "3",
         "GGXDArusha",
         "33.0"
        ],
        [
         "4",
         "ckpoa20",
         "42.0"
        ],
        [
         "5",
         "Morristte",
         "26.0"
        ],
        [
         "6",
         "jiajun129",
         "23.0"
        ],
        [
         "7",
         "GRADE4092",
         "17.0"
        ],
        [
         "8",
         "pensmen",
         "62.0"
        ],
        [
         "9",
         "burnfield1k22",
         "53.0"
        ],
        [
         "10",
         "FrailBailen",
         "28.0"
        ],
        [
         "11",
         "SeaV1per1224",
         "51.0"
        ],
        [
         "12",
         "spikey_001",
         "47.0"
        ],
        [
         "13",
         "chickenkampong",
         "32.0"
        ],
        [
         "14",
         "Zweihvnders",
         "64.0"
        ],
        [
         "15",
         "MarionnJames2307",
         "15.0"
        ],
        [
         "16",
         "Dawnftb",
         "27.0"
        ],
        [
         "17",
         "aphexic",
         "76.0"
        ],
        [
         "18",
         "polkomgyy44",
         "58.0"
        ],
        [
         "19",
         "gyftfdko",
         "48.0"
        ],
        [
         "20",
         "Bababooooooeydude",
         "32.0"
        ],
        [
         "21",
         "Zombisho",
         "7.0"
        ],
        [
         "22",
         "encik_Faris",
         "37.0"
        ],
        [
         "23",
         "kylemanike",
         "44.0"
        ],
        [
         "24",
         "Dawnftb",
         "27.0"
        ],
        [
         "25",
         "chickenkampong",
         "32.0"
        ],
        [
         "26",
         "jiajun129",
         "23.0"
        ],
        [
         "27",
         "GGXDArusha",
         "33.0"
        ],
        [
         "28",
         "pensmen",
         "62.0"
        ],
        [
         "29",
         "spikey_001",
         "47.0"
        ],
        [
         "30",
         "pancake_w1",
         "31.0"
        ],
        [
         "31",
         "Zweihvnders",
         "64.0"
        ],
        [
         "32",
         "KisarakiTH",
         "25.0"
        ],
        [
         "33",
         "aphexic",
         "76.0"
        ],
        [
         "34",
         "MarionnJames2307",
         "15.0"
        ],
        [
         "35",
         "GRADE4092",
         "17.0"
        ],
        [
         "36",
         "anathaliakdc",
         "31.0"
        ],
        [
         "37",
         "ckpoa20",
         "42.0"
        ],
        [
         "38",
         "Morristte",
         "26.0"
        ],
        [
         "39",
         "SeaV1per1224",
         "51.0"
        ],
        [
         "40",
         "FrailBailen",
         "28.0"
        ],
        [
         "41",
         "burnfield1k22",
         "53.0"
        ],
        [
         "42",
         "polkomgyy44",
         "58.0"
        ],
        [
         "43",
         "gyftfdko",
         "48.0"
        ],
        [
         "44",
         "Bababooooooeydude",
         "32.0"
        ],
        [
         "45",
         "Zombisho",
         "7.0"
        ],
        [
         "46",
         "encik_Faris",
         "37.0"
        ],
        [
         "47",
         "kylemanike",
         "44.0"
        ],
        [
         "48",
         "TheHeirToZimbabwe",
         "103.0"
        ],
        [
         "49",
         "mahanprogamer3",
         "24.0"
        ]
       ],
       "shape": {
        "columns": 2,
        "rows": 1466
       }
      },
      "text/html": [
       "<div>\n",
       "<style scoped>\n",
       "    .dataframe tbody tr th:only-of-type {\n",
       "        vertical-align: middle;\n",
       "    }\n",
       "\n",
       "    .dataframe tbody tr th {\n",
       "        vertical-align: top;\n",
       "    }\n",
       "\n",
       "    .dataframe thead th {\n",
       "        text-align: right;\n",
       "    }\n",
       "</style>\n",
       "<table border=\"1\" class=\"dataframe\">\n",
       "  <thead>\n",
       "    <tr style=\"text-align: right;\">\n",
       "      <th></th>\n",
       "      <th>name</th>\n",
       "      <th>kills</th>\n",
       "    </tr>\n",
       "  </thead>\n",
       "  <tbody>\n",
       "    <tr>\n",
       "      <th>0</th>\n",
       "      <td>anathaliakdc</td>\n",
       "      <td>31.0</td>\n",
       "    </tr>\n",
       "    <tr>\n",
       "      <th>1</th>\n",
       "      <td>pancake_w1</td>\n",
       "      <td>31.0</td>\n",
       "    </tr>\n",
       "    <tr>\n",
       "      <th>2</th>\n",
       "      <td>KisarakiTH</td>\n",
       "      <td>25.0</td>\n",
       "    </tr>\n",
       "    <tr>\n",
       "      <th>3</th>\n",
       "      <td>GGXDArusha</td>\n",
       "      <td>33.0</td>\n",
       "    </tr>\n",
       "    <tr>\n",
       "      <th>4</th>\n",
       "      <td>ckpoa20</td>\n",
       "      <td>42.0</td>\n",
       "    </tr>\n",
       "    <tr>\n",
       "      <th>...</th>\n",
       "      <td>...</td>\n",
       "      <td>...</td>\n",
       "    </tr>\n",
       "    <tr>\n",
       "      <th>1461</th>\n",
       "      <td>pensmen</td>\n",
       "      <td>59.0</td>\n",
       "    </tr>\n",
       "    <tr>\n",
       "      <th>1462</th>\n",
       "      <td>kite_167</td>\n",
       "      <td>46.0</td>\n",
       "    </tr>\n",
       "    <tr>\n",
       "      <th>1463</th>\n",
       "      <td>memeisgod1234567</td>\n",
       "      <td>23.0</td>\n",
       "    </tr>\n",
       "    <tr>\n",
       "      <th>1464</th>\n",
       "      <td>Luqman_indo</td>\n",
       "      <td>21.0</td>\n",
       "    </tr>\n",
       "    <tr>\n",
       "      <th>1465</th>\n",
       "      <td>raka6792</td>\n",
       "      <td>27.0</td>\n",
       "    </tr>\n",
       "  </tbody>\n",
       "</table>\n",
       "<p>1466 rows × 2 columns</p>\n",
       "</div>"
      ],
      "text/plain": [
       "                  name  kills\n",
       "0         anathaliakdc   31.0\n",
       "1           pancake_w1   31.0\n",
       "2           KisarakiTH   25.0\n",
       "3           GGXDArusha   33.0\n",
       "4              ckpoa20   42.0\n",
       "...                ...    ...\n",
       "1461           pensmen   59.0\n",
       "1462          kite_167   46.0\n",
       "1463  memeisgod1234567   23.0\n",
       "1464       Luqman_indo   21.0\n",
       "1465          raka6792   27.0\n",
       "\n",
       "[1466 rows x 2 columns]"
      ]
     },
     "execution_count": 69,
     "metadata": {},
     "output_type": "execute_result"
    }
   ],
   "source": [
    "df"
   ]
  },
  {
   "cell_type": "code",
   "execution_count": 70,
   "metadata": {},
   "outputs": [
    {
     "data": {
      "text/plain": [
       "kills\n",
       "49.0    4\n",
       "50.0    3\n",
       "52.0    3\n",
       "53.0    3\n",
       "61.0    2\n",
       "51.0    2\n",
       "59.0    2\n",
       "55.0    1\n",
       "56.0    1\n",
       "46.0    1\n",
       "43.0    1\n",
       "48.0    1\n",
       "41.0    1\n",
       "74.0    1\n",
       "58.0    1\n",
       "Name: count, dtype: int64"
      ]
     },
     "execution_count": 70,
     "metadata": {},
     "output_type": "execute_result"
    }
   ],
   "source": [
    "x = df[df[\"name\"] == \"mrflipsflapz\"]\n",
    "x[\"kills\"].value_counts()"
   ]
  },
  {
   "cell_type": "code",
   "execution_count": 71,
   "metadata": {},
   "outputs": [
    {
     "data": {
      "text/plain": [
       "Text(0.5, 1.0, 'Kills by Name')"
      ]
     },
     "execution_count": 71,
     "metadata": {},
     "output_type": "execute_result"
    },
    {
     "data": {
      "image/png": "[encoded data removed]",
      "text/plain": [
       "<Figure size 640x480 with 1 Axes>"
      ]
     },
     "metadata": {},
     "output_type": "display_data"
    }
   ],
   "source": [
    "plt.bar(x[\"name\"], x[\"kills\"])\n",
    "plt.title(\"Kills by Name\")"
   ]
  },
  {
   "cell_type": "markdown",
   "metadata": {},
   "source": [
    "# everyone avg"
   ]
  },
  {
   "cell_type": "code",
   "execution_count": 72,
   "metadata": {},
   "outputs": [],
   "source": [
    "def text_format(color_circle):\n",
    "    file.write(f\"{color_circle},{i},{round(find_avg_everyone['kills'].mean(),1)},{attandace}\\n\")\n",
    "\n",
    "\n",
    "\n",
    "names = df[\"name\"].unique()\n",
    "\n",
    "with open(\"avg.csv\",\"w\",encoding='utf-8') as file:\n",
    "    file.write(\"color_code,name,avg,atd\\n\")\n",
    "    \n",
    "    for i in names:\n",
    "        attandace = df[df[\"name\"] == i].value_counts().sum()\n",
    "        find_avg_everyone = df[df[\"name\"] == i]\n",
    "        \n",
    "        if find_avg_everyone['kills'].mean() <= 20:\n",
    "            text_format(\"🔴\")\n",
    "        elif find_avg_everyone['kills'].mean() < 35:\n",
    "            text_format(\"🟠\")\n",
    "        elif find_avg_everyone['kills'].mean() >= 35 and find_avg_everyone['kills'].mean() < 45:\n",
    "            text_format(\"🟡\")\n",
    "        elif find_avg_everyone['kills'].mean() >= 45 and find_avg_everyone['kills'].mean() <= 55:\n",
    "            text_format(\"🟢\")\n",
    "        elif find_avg_everyone['kills'].mean() >= 55:\n",
    "            text_format(\"🔵\")\n",
    "        else:\n",
    "            text_format(\"🩷\")\n",
    "\n",
    "            \n",
    "    #file.write(\"The meaning of the colors are:\\n :red_circle: = 0-20\\n :orange_circle: = 20-34\\n :yellow_circle: = 35-44\\n :green_circle: = 45-55\\n :blue_circle: = 56-100\")\n",
    "    \n",
    "    "
   ]
  },
  {
   "cell_type": "code",
   "execution_count": 73,
   "metadata": {},
   "outputs": [
    {
     "data": {
      "application/vnd.microsoft.datawrangler.viewer.v0+json": {
       "columns": [
        {
         "name": "index",
         "rawType": "int64",
         "type": "integer"
        },
        {
         "name": "color_code",
         "rawType": "object",
         "type": "string"
        },
        {
         "name": "name",
         "rawType": "object",
         "type": "string"
        },
        {
         "name": "avg",
         "rawType": "float64",
         "type": "float"
        },
        {
         "name": "atd",
         "rawType": "int64",
         "type": "integer"
        }
       ],
       "conversionMethod": "pd.DataFrame",
       "ref": "2790f7a1-a57e-4153-9a26-c720c9a334d0",
       "rows": [
        [
         "0",
         "🟠",
         "anathaliakdc",
         "31.7",
         "37"
        ],
        [
         "1",
         "🟠",
         "pancake_w1",
         "33.7",
         "31"
        ],
        [
         "2",
         "🟡",
         "KisarakiTH",
         "36.2",
         "6"
        ],
        [
         "3",
         "🟡",
         "GGXDArusha",
         "39.7",
         "25"
        ],
        [
         "4",
         "🟡",
         "ckpoa20",
         "36.9",
         "19"
        ],
        [
         "5",
         "🟠",
         "Morristte",
         "30.0",
         "4"
        ],
        [
         "6",
         "🟡",
         "jiajun129",
         "37.2",
         "20"
        ],
        [
         "7",
         "🟠",
         "GRADE4092",
         "27.0",
         "5"
        ],
        [
         "8",
         "🔵",
         "pensmen",
         "56.8",
         "23"
        ],
        [
         "9",
         "🔵",
         "burnfield1k22",
         "64.0",
         "16"
        ],
        [
         "10",
         "🟡",
         "FrailBailen",
         "40.0",
         "22"
        ],
        [
         "11",
         "🔵",
         "SeaV1per1224",
         "65.7",
         "21"
        ],
        [
         "12",
         "🟢",
         "spikey_001",
         "45.3",
         "36"
        ],
        [
         "13",
         "🟡",
         "chickenkampong",
         "41.9",
         "28"
        ],
        [
         "14",
         "🔵",
         "Zweihvnders",
         "80.1",
         "7"
        ],
        [
         "15",
         "🟡",
         "MarionnJames2307",
         "39.2",
         "6"
        ],
        [
         "16",
         "🟠",
         "Dawnftb",
         "33.1",
         "52"
        ],
        [
         "17",
         "🔵",
         "aphexic",
         "77.0",
         "4"
        ],
        [
         "18",
         "🔵",
         "polkomgyy44",
         "56.5",
         "34"
        ],
        [
         "19",
         "🟡",
         "gyftfdko",
         "44.4",
         "10"
        ],
        [
         "20",
         "🟠",
         "Bababooooooeydude",
         "32.0",
         "2"
        ],
        [
         "21",
         "🔴",
         "Zombisho",
         "7.0",
         "2"
        ],
        [
         "22",
         "🟡",
         "encik_Faris",
         "37.1",
         "7"
        ],
        [
         "23",
         "🟡",
         "kylemanike",
         "44.8",
         "14"
        ],
        [
         "24",
         "🔵",
         "TheHeirToZimbabwe",
         "103.0",
         "1"
        ],
        [
         "25",
         "🟠",
         "mahanprogamer3",
         "24.0",
         "1"
        ],
        [
         "26",
         "🔴",
         "J4oxXD",
         "13.0",
         "1"
        ],
        [
         "27",
         "🟠",
         "Luqman_indo",
         "30.1",
         "27"
        ],
        [
         "28",
         "🟠",
         "Mitzuki525",
         "21.5",
         "4"
        ],
        [
         "29",
         "🟠",
         "aarondanish2015",
         "25.2",
         "4"
        ],
        [
         "30",
         "🟡",
         "Jok_jok1234",
         "38.0",
         "6"
        ],
        [
         "31",
         "🟠",
         "spartansudais14",
         "24.5",
         "2"
        ],
        [
         "32",
         "🔴",
         "KJ",
         "2.0",
         "1"
        ],
        [
         "33",
         "🔵",
         "Vreckthiq",
         "97.0",
         "1"
        ],
        [
         "34",
         "🟡",
         "jamesplayztv1",
         "44.7",
         "32"
        ],
        [
         "35",
         "🔵",
         "Mitsubira_Aratoshi",
         "70.1",
         "23"
        ],
        [
         "36",
         "🟠",
         "bubmlpants",
         "28.0",
         "1"
        ],
        [
         "37",
         "🟡",
         "theDogeboiiz",
         "44.2",
         "10"
        ],
        [
         "38",
         "🟢",
         "Indonesia_ofMalaysia",
         "48.0",
         "21"
        ],
        [
         "39",
         "🟠",
         "Zedifix",
         "28.0",
         "2"
        ],
        [
         "40",
         "🟠",
         "SireHalo",
         "31.7",
         "10"
        ],
        [
         "41",
         "🟠",
         "gerardanthony22",
         "28.2",
         "6"
        ],
        [
         "42",
         "🟡",
         "Ikaraduck",
         "44.0",
         "1"
        ],
        [
         "43",
         "🟡",
         "nickthegodrider1289",
         "44.8",
         "42"
        ],
        [
         "44",
         "🔵",
         "Oscarchoyzy24",
         "65.4",
         "38"
        ],
        [
         "45",
         "🟠",
         "FreSlothK",
         "30.5",
         "2"
        ],
        [
         "46",
         "🟠",
         "rukaminop",
         "24.0",
         "1"
        ],
        [
         "47",
         "🟢",
         "mralex111012",
         "51.0",
         "1"
        ],
        [
         "48",
         "🔵",
         "jgwen19",
         "55.1",
         "30"
        ],
        [
         "49",
         "🟡",
         "Chiofries",
         "41.0",
         "1"
        ]
       ],
       "shape": {
        "columns": 4,
        "rows": 282
       }
      },
      "text/html": [
       "<div>\n",
       "<style scoped>\n",
       "    .dataframe tbody tr th:only-of-type {\n",
       "        vertical-align: middle;\n",
       "    }\n",
       "\n",
       "    .dataframe tbody tr th {\n",
       "        vertical-align: top;\n",
       "    }\n",
       "\n",
       "    .dataframe thead th {\n",
       "        text-align: right;\n",
       "    }\n",
       "</style>\n",
       "<table border=\"1\" class=\"dataframe\">\n",
       "  <thead>\n",
       "    <tr style=\"text-align: right;\">\n",
       "      <th></th>\n",
       "      <th>color_code</th>\n",
       "      <th>name</th>\n",
       "      <th>avg</th>\n",
       "      <th>atd</th>\n",
       "    </tr>\n",
       "  </thead>\n",
       "  <tbody>\n",
       "    <tr>\n",
       "      <th>0</th>\n",
       "      <td>🟠</td>\n",
       "      <td>anathaliakdc</td>\n",
       "      <td>31.7</td>\n",
       "      <td>37</td>\n",
       "    </tr>\n",
       "    <tr>\n",
       "      <th>1</th>\n",
       "      <td>🟠</td>\n",
       "      <td>pancake_w1</td>\n",
       "      <td>33.7</td>\n",
       "      <td>31</td>\n",
       "    </tr>\n",
       "    <tr>\n",
       "      <th>2</th>\n",
       "      <td>🟡</td>\n",
       "      <td>KisarakiTH</td>\n",
       "      <td>36.2</td>\n",
       "      <td>6</td>\n",
       "    </tr>\n",
       "    <tr>\n",
       "      <th>3</th>\n",
       "      <td>🟡</td>\n",
       "      <td>GGXDArusha</td>\n",
       "      <td>39.7</td>\n",
       "      <td>25</td>\n",
       "    </tr>\n",
       "    <tr>\n",
       "      <th>4</th>\n",
       "      <td>🟡</td>\n",
       "      <td>ckpoa20</td>\n",
       "      <td>36.9</td>\n",
       "      <td>19</td>\n",
       "    </tr>\n",
       "    <tr>\n",
       "      <th>...</th>\n",
       "      <td>...</td>\n",
       "      <td>...</td>\n",
       "      <td>...</td>\n",
       "      <td>...</td>\n",
       "    </tr>\n",
       "    <tr>\n",
       "      <th>277</th>\n",
       "      <td>🔵</td>\n",
       "      <td>PhuyerThroned000</td>\n",
       "      <td>71.0</td>\n",
       "      <td>1</td>\n",
       "    </tr>\n",
       "    <tr>\n",
       "      <th>278</th>\n",
       "      <td>🟠</td>\n",
       "      <td>114514adlingyang</td>\n",
       "      <td>32.0</td>\n",
       "      <td>1</td>\n",
       "    </tr>\n",
       "    <tr>\n",
       "      <th>279</th>\n",
       "      <td>🔵</td>\n",
       "      <td>abigbadxmas3</td>\n",
       "      <td>57.0</td>\n",
       "      <td>1</td>\n",
       "    </tr>\n",
       "    <tr>\n",
       "      <th>280</th>\n",
       "      <td>🟢</td>\n",
       "      <td>CMDKMOMM</td>\n",
       "      <td>47.0</td>\n",
       "      <td>1</td>\n",
       "    </tr>\n",
       "    <tr>\n",
       "      <th>281</th>\n",
       "      <td>🟠</td>\n",
       "      <td>memeisgod1234567</td>\n",
       "      <td>23.0</td>\n",
       "      <td>1</td>\n",
       "    </tr>\n",
       "  </tbody>\n",
       "</table>\n",
       "<p>282 rows × 4 columns</p>\n",
       "</div>"
      ],
      "text/plain": [
       "    color_code              name   avg  atd\n",
       "0            🟠      anathaliakdc  31.7   37\n",
       "1            🟠        pancake_w1  33.7   31\n",
       "2            🟡        KisarakiTH  36.2    6\n",
       "3            🟡        GGXDArusha  39.7   25\n",
       "4            🟡           ckpoa20  36.9   19\n",
       "..         ...               ...   ...  ...\n",
       "277          🔵  PhuyerThroned000  71.0    1\n",
       "278          🟠  114514adlingyang  32.0    1\n",
       "279          🔵      abigbadxmas3  57.0    1\n",
       "280          🟢          CMDKMOMM  47.0    1\n",
       "281          🟠  memeisgod1234567  23.0    1\n",
       "\n",
       "[282 rows x 4 columns]"
      ]
     },
     "execution_count": 73,
     "metadata": {},
     "output_type": "execute_result"
    }
   ],
   "source": [
    "df2 = pd.read_csv('avg.csv')\n",
    "df2"
   ]
  },
  {
   "cell_type": "code",
   "execution_count": 74,
   "metadata": {},
   "outputs": [],
   "source": [
    "df2.sort_values(ascending=False,by=\"avg\").to_csv(\"avg2.csv\",index=False)"
   ]
  },
  {
   "cell_type": "code",
   "execution_count": 75,
   "metadata": {},
   "outputs": [],
   "source": [
    "with open(\"avg2.csv\",\"a+\",encoding=\"utf-8\") as file:\n",
    "    file.write(\"The meaning of the colors are:\\n 🔴 = 0-20\\n 🟠 = 20-34\\n 🟡 = 35-44\\n 🟢 = 45-55\\n 🔵 = 56-100\")"
   ]
  },
  {
   "cell_type": "code",
   "execution_count": 76,
   "metadata": {},
   "outputs": [],
   "source": [
    "df2[\"color_code\"].value_counts()\n",
    "with open(\"kda_info.csv\",\"w+\",encoding=\"utf-8\") as file:\n",
    "    file.write(df2[\"color_code\"].value_counts().to_string())"
   ]
  },
  {
   "cell_type": "code",
   "execution_count": 84,
   "metadata": {},
   "outputs": [],
   "source": [
    "test = df2[df2[\"atd\"] >= 3]\n",
    "test.sort_values(ascending=False,by=\"avg\").to_csv(\"spikey.csv\",index=False)"
   ]
  },
  {
   "cell_type": "code",
   "execution_count": 77,
   "metadata": {},
   "outputs": [],
   "source": [
    "test = df2[df2[\"atd\"] >= 10]\n",
    "test.sort_values(ascending=False,by=\"avg\").to_csv(\"full.csv\",index=False)"
   ]
  },
  {
   "cell_type": "code",
   "execution_count": 78,
   "metadata": {},
   "outputs": [
    {
     "data": {
      "application/vnd.microsoft.datawrangler.viewer.v0+json": {
       "columns": [
        {
         "name": "index",
         "rawType": "int64",
         "type": "integer"
        },
        {
         "name": "color_code",
         "rawType": "object",
         "type": "string"
        },
        {
         "name": "name",
         "rawType": "object",
         "type": "string"
        },
        {
         "name": "avg",
         "rawType": "float64",
         "type": "float"
        },
        {
         "name": "atd",
         "rawType": "int64",
         "type": "integer"
        }
       ],
       "conversionMethod": "pd.DataFrame",
       "ref": "37d5791f-bfe6-47e8-9143-f6e16817b841",
       "rows": [
        [
         "0",
         "🔵",
         "ConesOdebrecht",
         "74.5",
         "16"
        ],
        [
         "1",
         "🔵",
         "Mitsubira_Aratoshi",
         "70.1",
         "23"
        ],
        [
         "2",
         "🔵",
         "SeaV1per1224",
         "65.7",
         "21"
        ],
        [
         "3",
         "🔵",
         "Oscarchoyzy24",
         "65.4",
         "38"
        ],
        [
         "4",
         "🔵",
         "Gariksz",
         "64.4",
         "16"
        ],
        [
         "5",
         "🔵",
         "burnfield1k22",
         "64.0",
         "16"
        ],
        [
         "6",
         "🔵",
         "Liklyboos221",
         "60.1",
         "13"
        ],
        [
         "7",
         "🔵",
         "pensmen",
         "56.8",
         "23"
        ],
        [
         "8",
         "🔵",
         "polkomgyy44",
         "56.5",
         "34"
        ],
        [
         "9",
         "🔵",
         "diwdwoa",
         "55.5",
         "11"
        ],
        [
         "10",
         "🔵",
         "tsogoo125",
         "55.5",
         "13"
        ],
        [
         "11",
         "🔵",
         "Kazuyuki_Owen",
         "55.3",
         "30"
        ],
        [
         "12",
         "🔵",
         "jgwen19",
         "55.1",
         "30"
        ],
        [
         "13",
         "🟢",
         "HarArkhichen",
         "53.2",
         "11"
        ],
        [
         "14",
         "🟢",
         "mrflipsflapz",
         "52.7",
         "27"
        ],
        [
         "15",
         "🟢",
         "camper8903",
         "52.6",
         "13"
        ],
        [
         "16",
         "🟢",
         "jesterproandnoob",
         "52.4",
         "20"
        ],
        [
         "17",
         "🟢",
         "chanmeme1",
         "48.4",
         "19"
        ],
        [
         "18",
         "🟢",
         "Indonesia_ofMalaysia",
         "48.0",
         "21"
        ],
        [
         "19",
         "🟢",
         "aryafariziii160",
         "47.6",
         "14"
        ],
        [
         "20",
         "🟢",
         "Xernicus",
         "46.7",
         "13"
        ],
        [
         "21",
         "🟢",
         "spikey_001",
         "45.3",
         "36"
        ],
        [
         "22",
         "🟡",
         "kylemanike",
         "44.8",
         "14"
        ],
        [
         "23",
         "🟡",
         "nickthegodrider1289",
         "44.8",
         "42"
        ],
        [
         "24",
         "🟡",
         "jamesplayztv1",
         "44.7",
         "32"
        ],
        [
         "25",
         "🟡",
         "gyftfdko",
         "44.4",
         "10"
        ],
        [
         "26",
         "🟡",
         "theDogeboiiz",
         "44.2",
         "10"
        ],
        [
         "27",
         "🟡",
         "CommanderHikari",
         "42.0",
         "15"
        ],
        [
         "28",
         "🟡",
         "chickenkampong",
         "41.9",
         "28"
        ],
        [
         "29",
         "🟡",
         "jellyy112345",
         "41.2",
         "17"
        ],
        [
         "30",
         "🟡",
         "FrailBailen",
         "40.0",
         "22"
        ],
        [
         "31",
         "🟡",
         "GGXDArusha",
         "39.7",
         "25"
        ],
        [
         "32",
         "🟡",
         "Croezg",
         "38.3",
         "14"
        ],
        [
         "33",
         "🟡",
         "jiajun129",
         "37.2",
         "20"
        ],
        [
         "34",
         "🟡",
         "commander_cookie1234",
         "37.0",
         "24"
        ],
        [
         "35",
         "🟡",
         "ckpoa20",
         "36.9",
         "19"
        ],
        [
         "36",
         "🟡",
         "kite_167",
         "36.3",
         "24"
        ],
        [
         "37",
         "🟠",
         "pancake_w1",
         "33.7",
         "31"
        ],
        [
         "38",
         "🟠",
         "Dawnftb",
         "33.1",
         "52"
        ],
        [
         "39",
         "🟠",
         "raka6792",
         "31.8",
         "13"
        ],
        [
         "40",
         "🟠",
         "anathaliakdc",
         "31.7",
         "37"
        ],
        [
         "41",
         "🟠",
         "SireHalo",
         "31.7",
         "10"
        ],
        [
         "42",
         "🟠",
         "Luqman_indo",
         "30.1",
         "27"
        ]
       ],
       "shape": {
        "columns": 4,
        "rows": 43
       }
      },
      "text/html": [
       "<div>\n",
       "<style scoped>\n",
       "    .dataframe tbody tr th:only-of-type {\n",
       "        vertical-align: middle;\n",
       "    }\n",
       "\n",
       "    .dataframe tbody tr th {\n",
       "        vertical-align: top;\n",
       "    }\n",
       "\n",
       "    .dataframe thead th {\n",
       "        text-align: right;\n",
       "    }\n",
       "</style>\n",
       "<table border=\"1\" class=\"dataframe\">\n",
       "  <thead>\n",
       "    <tr style=\"text-align: right;\">\n",
       "      <th></th>\n",
       "      <th>color_code</th>\n",
       "      <th>name</th>\n",
       "      <th>avg</th>\n",
       "      <th>atd</th>\n",
       "    </tr>\n",
       "  </thead>\n",
       "  <tbody>\n",
       "    <tr>\n",
       "      <th>0</th>\n",
       "      <td>🔵</td>\n",
       "      <td>ConesOdebrecht</td>\n",
       "      <td>74.5</td>\n",
       "      <td>16</td>\n",
       "    </tr>\n",
       "    <tr>\n",
       "      <th>1</th>\n",
       "      <td>🔵</td>\n",
       "      <td>Mitsubira_Aratoshi</td>\n",
       "      <td>70.1</td>\n",
       "      <td>23</td>\n",
       "    </tr>\n",
       "    <tr>\n",
       "      <th>2</th>\n",
       "      <td>🔵</td>\n",
       "      <td>SeaV1per1224</td>\n",
       "      <td>65.7</td>\n",
       "      <td>21</td>\n",
       "    </tr>\n",
       "    <tr>\n",
       "      <th>3</th>\n",
       "      <td>🔵</td>\n",
       "      <td>Oscarchoyzy24</td>\n",
       "      <td>65.4</td>\n",
       "      <td>38</td>\n",
       "    </tr>\n",
       "    <tr>\n",
       "      <th>4</th>\n",
       "      <td>🔵</td>\n",
       "      <td>Gariksz</td>\n",
       "      <td>64.4</td>\n",
       "      <td>16</td>\n",
       "    </tr>\n",
       "    <tr>\n",
       "      <th>5</th>\n",
       "      <td>🔵</td>\n",
       "      <td>burnfield1k22</td>\n",
       "      <td>64.0</td>\n",
       "      <td>16</td>\n",
       "    </tr>\n",
       "    <tr>\n",
       "      <th>6</th>\n",
       "      <td>🔵</td>\n",
       "      <td>Liklyboos221</td>\n",
       "      <td>60.1</td>\n",
       "      <td>13</td>\n",
       "    </tr>\n",
       "    <tr>\n",
       "      <th>7</th>\n",
       "      <td>🔵</td>\n",
       "      <td>pensmen</td>\n",
       "      <td>56.8</td>\n",
       "      <td>23</td>\n",
       "    </tr>\n",
       "    <tr>\n",
       "      <th>8</th>\n",
       "      <td>🔵</td>\n",
       "      <td>polkomgyy44</td>\n",
       "      <td>56.5</td>\n",
       "      <td>34</td>\n",
       "    </tr>\n",
       "    <tr>\n",
       "      <th>9</th>\n",
       "      <td>🔵</td>\n",
       "      <td>diwdwoa</td>\n",
       "      <td>55.5</td>\n",
       "      <td>11</td>\n",
       "    </tr>\n",
       "    <tr>\n",
       "      <th>10</th>\n",
       "      <td>🔵</td>\n",
       "      <td>tsogoo125</td>\n",
       "      <td>55.5</td>\n",
       "      <td>13</td>\n",
       "    </tr>\n",
       "    <tr>\n",
       "      <th>11</th>\n",
       "      <td>🔵</td>\n",
       "      <td>Kazuyuki_Owen</td>\n",
       "      <td>55.3</td>\n",
       "      <td>30</td>\n",
       "    </tr>\n",
       "    <tr>\n",
       "      <th>12</th>\n",
       "      <td>🔵</td>\n",
       "      <td>jgwen19</td>\n",
       "      <td>55.1</td>\n",
       "      <td>30</td>\n",
       "    </tr>\n",
       "    <tr>\n",
       "      <th>13</th>\n",
       "      <td>🟢</td>\n",
       "      <td>HarArkhichen</td>\n",
       "      <td>53.2</td>\n",
       "      <td>11</td>\n",
       "    </tr>\n",
       "    <tr>\n",
       "      <th>14</th>\n",
       "      <td>🟢</td>\n",
       "      <td>mrflipsflapz</td>\n",
       "      <td>52.7</td>\n",
       "      <td>27</td>\n",
       "    </tr>\n",
       "    <tr>\n",
       "      <th>15</th>\n",
       "      <td>🟢</td>\n",
       "      <td>camper8903</td>\n",
       "      <td>52.6</td>\n",
       "      <td>13</td>\n",
       "    </tr>\n",
       "    <tr>\n",
       "      <th>16</th>\n",
       "      <td>🟢</td>\n",
       "      <td>jesterproandnoob</td>\n",
       "      <td>52.4</td>\n",
       "      <td>20</td>\n",
       "    </tr>\n",
       "    <tr>\n",
       "      <th>17</th>\n",
       "      <td>🟢</td>\n",
       "      <td>chanmeme1</td>\n",
       "      <td>48.4</td>\n",
       "      <td>19</td>\n",
       "    </tr>\n",
       "    <tr>\n",
       "      <th>18</th>\n",
       "      <td>🟢</td>\n",
       "      <td>Indonesia_ofMalaysia</td>\n",
       "      <td>48.0</td>\n",
       "      <td>21</td>\n",
       "    </tr>\n",
       "    <tr>\n",
       "      <th>19</th>\n",
       "      <td>🟢</td>\n",
       "      <td>aryafariziii160</td>\n",
       "      <td>47.6</td>\n",
       "      <td>14</td>\n",
       "    </tr>\n",
       "    <tr>\n",
       "      <th>20</th>\n",
       "      <td>🟢</td>\n",
       "      <td>Xernicus</td>\n",
       "      <td>46.7</td>\n",
       "      <td>13</td>\n",
       "    </tr>\n",
       "    <tr>\n",
       "      <th>21</th>\n",
       "      <td>🟢</td>\n",
       "      <td>spikey_001</td>\n",
       "      <td>45.3</td>\n",
       "      <td>36</td>\n",
       "    </tr>\n",
       "    <tr>\n",
       "      <th>22</th>\n",
       "      <td>🟡</td>\n",
       "      <td>kylemanike</td>\n",
       "      <td>44.8</td>\n",
       "      <td>14</td>\n",
       "    </tr>\n",
       "    <tr>\n",
       "      <th>23</th>\n",
       "      <td>🟡</td>\n",
       "      <td>nickthegodrider1289</td>\n",
       "      <td>44.8</td>\n",
       "      <td>42</td>\n",
       "    </tr>\n",
       "    <tr>\n",
       "      <th>24</th>\n",
       "      <td>🟡</td>\n",
       "      <td>jamesplayztv1</td>\n",
       "      <td>44.7</td>\n",
       "      <td>32</td>\n",
       "    </tr>\n",
       "    <tr>\n",
       "      <th>25</th>\n",
       "      <td>🟡</td>\n",
       "      <td>gyftfdko</td>\n",
       "      <td>44.4</td>\n",
       "      <td>10</td>\n",
       "    </tr>\n",
       "    <tr>\n",
       "      <th>26</th>\n",
       "      <td>🟡</td>\n",
       "      <td>theDogeboiiz</td>\n",
       "      <td>44.2</td>\n",
       "      <td>10</td>\n",
       "    </tr>\n",
       "    <tr>\n",
       "      <th>27</th>\n",
       "      <td>🟡</td>\n",
       "      <td>CommanderHikari</td>\n",
       "      <td>42.0</td>\n",
       "      <td>15</td>\n",
       "    </tr>\n",
       "    <tr>\n",
       "      <th>28</th>\n",
       "      <td>🟡</td>\n",
       "      <td>chickenkampong</td>\n",
       "      <td>41.9</td>\n",
       "      <td>28</td>\n",
       "    </tr>\n",
       "    <tr>\n",
       "      <th>29</th>\n",
       "      <td>🟡</td>\n",
       "      <td>jellyy112345</td>\n",
       "      <td>41.2</td>\n",
       "      <td>17</td>\n",
       "    </tr>\n",
       "    <tr>\n",
       "      <th>30</th>\n",
       "      <td>🟡</td>\n",
       "      <td>FrailBailen</td>\n",
       "      <td>40.0</td>\n",
       "      <td>22</td>\n",
       "    </tr>\n",
       "    <tr>\n",
       "      <th>31</th>\n",
       "      <td>🟡</td>\n",
       "      <td>GGXDArusha</td>\n",
       "      <td>39.7</td>\n",
       "      <td>25</td>\n",
       "    </tr>\n",
       "    <tr>\n",
       "      <th>32</th>\n",
       "      <td>🟡</td>\n",
       "      <td>Croezg</td>\n",
       "      <td>38.3</td>\n",
       "      <td>14</td>\n",
       "    </tr>\n",
       "    <tr>\n",
       "      <th>33</th>\n",
       "      <td>🟡</td>\n",
       "      <td>jiajun129</td>\n",
       "      <td>37.2</td>\n",
       "      <td>20</td>\n",
       "    </tr>\n",
       "    <tr>\n",
       "      <th>34</th>\n",
       "      <td>🟡</td>\n",
       "      <td>commander_cookie1234</td>\n",
       "      <td>37.0</td>\n",
       "      <td>24</td>\n",
       "    </tr>\n",
       "    <tr>\n",
       "      <th>35</th>\n",
       "      <td>🟡</td>\n",
       "      <td>ckpoa20</td>\n",
       "      <td>36.9</td>\n",
       "      <td>19</td>\n",
       "    </tr>\n",
       "    <tr>\n",
       "      <th>36</th>\n",
       "      <td>🟡</td>\n",
       "      <td>kite_167</td>\n",
       "      <td>36.3</td>\n",
       "      <td>24</td>\n",
       "    </tr>\n",
       "    <tr>\n",
       "      <th>37</th>\n",
       "      <td>🟠</td>\n",
       "      <td>pancake_w1</td>\n",
       "      <td>33.7</td>\n",
       "      <td>31</td>\n",
       "    </tr>\n",
       "    <tr>\n",
       "      <th>38</th>\n",
       "      <td>🟠</td>\n",
       "      <td>Dawnftb</td>\n",
       "      <td>33.1</td>\n",
       "      <td>52</td>\n",
       "    </tr>\n",
       "    <tr>\n",
       "      <th>39</th>\n",
       "      <td>🟠</td>\n",
       "      <td>raka6792</td>\n",
       "      <td>31.8</td>\n",
       "      <td>13</td>\n",
       "    </tr>\n",
       "    <tr>\n",
       "      <th>40</th>\n",
       "      <td>🟠</td>\n",
       "      <td>anathaliakdc</td>\n",
       "      <td>31.7</td>\n",
       "      <td>37</td>\n",
       "    </tr>\n",
       "    <tr>\n",
       "      <th>41</th>\n",
       "      <td>🟠</td>\n",
       "      <td>SireHalo</td>\n",
       "      <td>31.7</td>\n",
       "      <td>10</td>\n",
       "    </tr>\n",
       "    <tr>\n",
       "      <th>42</th>\n",
       "      <td>🟠</td>\n",
       "      <td>Luqman_indo</td>\n",
       "      <td>30.1</td>\n",
       "      <td>27</td>\n",
       "    </tr>\n",
       "  </tbody>\n",
       "</table>\n",
       "</div>"
      ],
      "text/plain": [
       "   color_code                  name   avg  atd\n",
       "0           🔵        ConesOdebrecht  74.5   16\n",
       "1           🔵    Mitsubira_Aratoshi  70.1   23\n",
       "2           🔵          SeaV1per1224  65.7   21\n",
       "3           🔵         Oscarchoyzy24  65.4   38\n",
       "4           🔵               Gariksz  64.4   16\n",
       "5           🔵         burnfield1k22  64.0   16\n",
       "6           🔵          Liklyboos221  60.1   13\n",
       "7           🔵               pensmen  56.8   23\n",
       "8           🔵           polkomgyy44  56.5   34\n",
       "9           🔵               diwdwoa  55.5   11\n",
       "10          🔵             tsogoo125  55.5   13\n",
       "11          🔵         Kazuyuki_Owen  55.3   30\n",
       "12          🔵               jgwen19  55.1   30\n",
       "13          🟢          HarArkhichen  53.2   11\n",
       "14          🟢          mrflipsflapz  52.7   27\n",
       "15          🟢            camper8903  52.6   13\n",
       "16          🟢      jesterproandnoob  52.4   20\n",
       "17          🟢             chanmeme1  48.4   19\n",
       "18          🟢  Indonesia_ofMalaysia  48.0   21\n",
       "19          🟢       aryafariziii160  47.6   14\n",
       "20          🟢              Xernicus  46.7   13\n",
       "21          🟢            spikey_001  45.3   36\n",
       "22          🟡            kylemanike  44.8   14\n",
       "23          🟡   nickthegodrider1289  44.8   42\n",
       "24          🟡         jamesplayztv1  44.7   32\n",
       "25          🟡              gyftfdko  44.4   10\n",
       "26          🟡          theDogeboiiz  44.2   10\n",
       "27          🟡       CommanderHikari  42.0   15\n",
       "28          🟡        chickenkampong  41.9   28\n",
       "29          🟡          jellyy112345  41.2   17\n",
       "30          🟡           FrailBailen  40.0   22\n",
       "31          🟡            GGXDArusha  39.7   25\n",
       "32          🟡                Croezg  38.3   14\n",
       "33          🟡             jiajun129  37.2   20\n",
       "34          🟡  commander_cookie1234  37.0   24\n",
       "35          🟡               ckpoa20  36.9   19\n",
       "36          🟡              kite_167  36.3   24\n",
       "37          🟠            pancake_w1  33.7   31\n",
       "38          🟠               Dawnftb  33.1   52\n",
       "39          🟠              raka6792  31.8   13\n",
       "40          🟠          anathaliakdc  31.7   37\n",
       "41          🟠              SireHalo  31.7   10\n",
       "42          🟠           Luqman_indo  30.1   27"
      ]
     },
     "execution_count": 78,
     "metadata": {},
     "output_type": "execute_result"
    }
   ],
   "source": [
    "df3 = pd.read_csv(\"full.csv\")\n",
    "df3"
   ]
  },
  {
   "cell_type": "code",
   "execution_count": 79,
   "metadata": {},
   "outputs": [
    {
     "data": {
      "application/vnd.microsoft.datawrangler.viewer.v0+json": {
       "columns": [
        {
         "name": "index",
         "rawType": "int64",
         "type": "integer"
        },
        {
         "name": "color_code",
         "rawType": "object",
         "type": "string"
        },
        {
         "name": "name",
         "rawType": "object",
         "type": "string"
        },
        {
         "name": "avg",
         "rawType": "float64",
         "type": "float"
        },
        {
         "name": "atd",
         "rawType": "int64",
         "type": "integer"
        }
       ],
       "conversionMethod": "pd.DataFrame",
       "ref": "0251669d-0644-40ea-a4b1-cd77c268e24d",
       "rows": [
        [
         "38",
         "🟠",
         "Dawnftb",
         "33.1",
         "52"
        ],
        [
         "23",
         "🟡",
         "nickthegodrider1289",
         "44.8",
         "42"
        ],
        [
         "3",
         "🔵",
         "Oscarchoyzy24",
         "65.4",
         "38"
        ],
        [
         "40",
         "🟠",
         "anathaliakdc",
         "31.7",
         "37"
        ],
        [
         "21",
         "🟢",
         "spikey_001",
         "45.3",
         "36"
        ],
        [
         "8",
         "🔵",
         "polkomgyy44",
         "56.5",
         "34"
        ],
        [
         "24",
         "🟡",
         "jamesplayztv1",
         "44.7",
         "32"
        ],
        [
         "37",
         "🟠",
         "pancake_w1",
         "33.7",
         "31"
        ],
        [
         "12",
         "🔵",
         "jgwen19",
         "55.1",
         "30"
        ],
        [
         "11",
         "🔵",
         "Kazuyuki_Owen",
         "55.3",
         "30"
        ],
        [
         "28",
         "🟡",
         "chickenkampong",
         "41.9",
         "28"
        ],
        [
         "42",
         "🟠",
         "Luqman_indo",
         "30.1",
         "27"
        ],
        [
         "14",
         "🟢",
         "mrflipsflapz",
         "52.7",
         "27"
        ],
        [
         "31",
         "🟡",
         "GGXDArusha",
         "39.7",
         "25"
        ],
        [
         "36",
         "🟡",
         "kite_167",
         "36.3",
         "24"
        ],
        [
         "34",
         "🟡",
         "commander_cookie1234",
         "37.0",
         "24"
        ],
        [
         "1",
         "🔵",
         "Mitsubira_Aratoshi",
         "70.1",
         "23"
        ],
        [
         "7",
         "🔵",
         "pensmen",
         "56.8",
         "23"
        ],
        [
         "30",
         "🟡",
         "FrailBailen",
         "40.0",
         "22"
        ],
        [
         "2",
         "🔵",
         "SeaV1per1224",
         "65.7",
         "21"
        ],
        [
         "18",
         "🟢",
         "Indonesia_ofMalaysia",
         "48.0",
         "21"
        ],
        [
         "16",
         "🟢",
         "jesterproandnoob",
         "52.4",
         "20"
        ],
        [
         "33",
         "🟡",
         "jiajun129",
         "37.2",
         "20"
        ],
        [
         "35",
         "🟡",
         "ckpoa20",
         "36.9",
         "19"
        ],
        [
         "17",
         "🟢",
         "chanmeme1",
         "48.4",
         "19"
        ],
        [
         "29",
         "🟡",
         "jellyy112345",
         "41.2",
         "17"
        ],
        [
         "0",
         "🔵",
         "ConesOdebrecht",
         "74.5",
         "16"
        ],
        [
         "4",
         "🔵",
         "Gariksz",
         "64.4",
         "16"
        ],
        [
         "5",
         "🔵",
         "burnfield1k22",
         "64.0",
         "16"
        ],
        [
         "27",
         "🟡",
         "CommanderHikari",
         "42.0",
         "15"
        ],
        [
         "19",
         "🟢",
         "aryafariziii160",
         "47.6",
         "14"
        ],
        [
         "32",
         "🟡",
         "Croezg",
         "38.3",
         "14"
        ],
        [
         "22",
         "🟡",
         "kylemanike",
         "44.8",
         "14"
        ],
        [
         "6",
         "🔵",
         "Liklyboos221",
         "60.1",
         "13"
        ],
        [
         "10",
         "🔵",
         "tsogoo125",
         "55.5",
         "13"
        ],
        [
         "39",
         "🟠",
         "raka6792",
         "31.8",
         "13"
        ],
        [
         "15",
         "🟢",
         "camper8903",
         "52.6",
         "13"
        ],
        [
         "20",
         "🟢",
         "Xernicus",
         "46.7",
         "13"
        ],
        [
         "9",
         "🔵",
         "diwdwoa",
         "55.5",
         "11"
        ],
        [
         "13",
         "🟢",
         "HarArkhichen",
         "53.2",
         "11"
        ],
        [
         "25",
         "🟡",
         "gyftfdko",
         "44.4",
         "10"
        ],
        [
         "26",
         "🟡",
         "theDogeboiiz",
         "44.2",
         "10"
        ],
        [
         "41",
         "🟠",
         "SireHalo",
         "31.7",
         "10"
        ]
       ],
       "shape": {
        "columns": 4,
        "rows": 43
       }
      },
      "text/html": [
       "<div>\n",
       "<style scoped>\n",
       "    .dataframe tbody tr th:only-of-type {\n",
       "        vertical-align: middle;\n",
       "    }\n",
       "\n",
       "    .dataframe tbody tr th {\n",
       "        vertical-align: top;\n",
       "    }\n",
       "\n",
       "    .dataframe thead th {\n",
       "        text-align: right;\n",
       "    }\n",
       "</style>\n",
       "<table border=\"1\" class=\"dataframe\">\n",
       "  <thead>\n",
       "    <tr style=\"text-align: right;\">\n",
       "      <th></th>\n",
       "      <th>color_code</th>\n",
       "      <th>name</th>\n",
       "      <th>avg</th>\n",
       "      <th>atd</th>\n",
       "    </tr>\n",
       "  </thead>\n",
       "  <tbody>\n",
       "    <tr>\n",
       "      <th>38</th>\n",
       "      <td>🟠</td>\n",
       "      <td>Dawnftb</td>\n",
       "      <td>33.1</td>\n",
       "      <td>52</td>\n",
       "    </tr>\n",
       "    <tr>\n",
       "      <th>23</th>\n",
       "      <td>🟡</td>\n",
       "      <td>nickthegodrider1289</td>\n",
       "      <td>44.8</td>\n",
       "      <td>42</td>\n",
       "    </tr>\n",
       "    <tr>\n",
       "      <th>3</th>\n",
       "      <td>🔵</td>\n",
       "      <td>Oscarchoyzy24</td>\n",
       "      <td>65.4</td>\n",
       "      <td>38</td>\n",
       "    </tr>\n",
       "    <tr>\n",
       "      <th>40</th>\n",
       "      <td>🟠</td>\n",
       "      <td>anathaliakdc</td>\n",
       "      <td>31.7</td>\n",
       "      <td>37</td>\n",
       "    </tr>\n",
       "    <tr>\n",
       "      <th>21</th>\n",
       "      <td>🟢</td>\n",
       "      <td>spikey_001</td>\n",
       "      <td>45.3</td>\n",
       "      <td>36</td>\n",
       "    </tr>\n",
       "    <tr>\n",
       "      <th>8</th>\n",
       "      <td>🔵</td>\n",
       "      <td>polkomgyy44</td>\n",
       "      <td>56.5</td>\n",
       "      <td>34</td>\n",
       "    </tr>\n",
       "    <tr>\n",
       "      <th>24</th>\n",
       "      <td>🟡</td>\n",
       "      <td>jamesplayztv1</td>\n",
       "      <td>44.7</td>\n",
       "      <td>32</td>\n",
       "    </tr>\n",
       "    <tr>\n",
       "      <th>37</th>\n",
       "      <td>🟠</td>\n",
       "      <td>pancake_w1</td>\n",
       "      <td>33.7</td>\n",
       "      <td>31</td>\n",
       "    </tr>\n",
       "    <tr>\n",
       "      <th>12</th>\n",
       "      <td>🔵</td>\n",
       "      <td>jgwen19</td>\n",
       "      <td>55.1</td>\n",
       "      <td>30</td>\n",
       "    </tr>\n",
       "    <tr>\n",
       "      <th>11</th>\n",
       "      <td>🔵</td>\n",
       "      <td>Kazuyuki_Owen</td>\n",
       "      <td>55.3</td>\n",
       "      <td>30</td>\n",
       "    </tr>\n",
       "    <tr>\n",
       "      <th>28</th>\n",
       "      <td>🟡</td>\n",
       "      <td>chickenkampong</td>\n",
       "      <td>41.9</td>\n",
       "      <td>28</td>\n",
       "    </tr>\n",
       "    <tr>\n",
       "      <th>42</th>\n",
       "      <td>🟠</td>\n",
       "      <td>Luqman_indo</td>\n",
       "      <td>30.1</td>\n",
       "      <td>27</td>\n",
       "    </tr>\n",
       "    <tr>\n",
       "      <th>14</th>\n",
       "      <td>🟢</td>\n",
       "      <td>mrflipsflapz</td>\n",
       "      <td>52.7</td>\n",
       "      <td>27</td>\n",
       "    </tr>\n",
       "    <tr>\n",
       "      <th>31</th>\n",
       "      <td>🟡</td>\n",
       "      <td>GGXDArusha</td>\n",
       "      <td>39.7</td>\n",
       "      <td>25</td>\n",
       "    </tr>\n",
       "    <tr>\n",
       "      <th>36</th>\n",
       "      <td>🟡</td>\n",
       "      <td>kite_167</td>\n",
       "      <td>36.3</td>\n",
       "      <td>24</td>\n",
       "    </tr>\n",
       "    <tr>\n",
       "      <th>34</th>\n",
       "      <td>🟡</td>\n",
       "      <td>commander_cookie1234</td>\n",
       "      <td>37.0</td>\n",
       "      <td>24</td>\n",
       "    </tr>\n",
       "    <tr>\n",
       "      <th>1</th>\n",
       "      <td>🔵</td>\n",
       "      <td>Mitsubira_Aratoshi</td>\n",
       "      <td>70.1</td>\n",
       "      <td>23</td>\n",
       "    </tr>\n",
       "    <tr>\n",
       "      <th>7</th>\n",
       "      <td>🔵</td>\n",
       "      <td>pensmen</td>\n",
       "      <td>56.8</td>\n",
       "      <td>23</td>\n",
       "    </tr>\n",
       "    <tr>\n",
       "      <th>30</th>\n",
       "      <td>🟡</td>\n",
       "      <td>FrailBailen</td>\n",
       "      <td>40.0</td>\n",
       "      <td>22</td>\n",
       "    </tr>\n",
       "    <tr>\n",
       "      <th>2</th>\n",
       "      <td>🔵</td>\n",
       "      <td>SeaV1per1224</td>\n",
       "      <td>65.7</td>\n",
       "      <td>21</td>\n",
       "    </tr>\n",
       "    <tr>\n",
       "      <th>18</th>\n",
       "      <td>🟢</td>\n",
       "      <td>Indonesia_ofMalaysia</td>\n",
       "      <td>48.0</td>\n",
       "      <td>21</td>\n",
       "    </tr>\n",
       "    <tr>\n",
       "      <th>16</th>\n",
       "      <td>🟢</td>\n",
       "      <td>jesterproandnoob</td>\n",
       "      <td>52.4</td>\n",
       "      <td>20</td>\n",
       "    </tr>\n",
       "    <tr>\n",
       "      <th>33</th>\n",
       "      <td>🟡</td>\n",
       "      <td>jiajun129</td>\n",
       "      <td>37.2</td>\n",
       "      <td>20</td>\n",
       "    </tr>\n",
       "    <tr>\n",
       "      <th>35</th>\n",
       "      <td>🟡</td>\n",
       "      <td>ckpoa20</td>\n",
       "      <td>36.9</td>\n",
       "      <td>19</td>\n",
       "    </tr>\n",
       "    <tr>\n",
       "      <th>17</th>\n",
       "      <td>🟢</td>\n",
       "      <td>chanmeme1</td>\n",
       "      <td>48.4</td>\n",
       "      <td>19</td>\n",
       "    </tr>\n",
       "    <tr>\n",
       "      <th>29</th>\n",
       "      <td>🟡</td>\n",
       "      <td>jellyy112345</td>\n",
       "      <td>41.2</td>\n",
       "      <td>17</td>\n",
       "    </tr>\n",
       "    <tr>\n",
       "      <th>0</th>\n",
       "      <td>🔵</td>\n",
       "      <td>ConesOdebrecht</td>\n",
       "      <td>74.5</td>\n",
       "      <td>16</td>\n",
       "    </tr>\n",
       "    <tr>\n",
       "      <th>4</th>\n",
       "      <td>🔵</td>\n",
       "      <td>Gariksz</td>\n",
       "      <td>64.4</td>\n",
       "      <td>16</td>\n",
       "    </tr>\n",
       "    <tr>\n",
       "      <th>5</th>\n",
       "      <td>🔵</td>\n",
       "      <td>burnfield1k22</td>\n",
       "      <td>64.0</td>\n",
       "      <td>16</td>\n",
       "    </tr>\n",
       "    <tr>\n",
       "      <th>27</th>\n",
       "      <td>🟡</td>\n",
       "      <td>CommanderHikari</td>\n",
       "      <td>42.0</td>\n",
       "      <td>15</td>\n",
       "    </tr>\n",
       "    <tr>\n",
       "      <th>19</th>\n",
       "      <td>🟢</td>\n",
       "      <td>aryafariziii160</td>\n",
       "      <td>47.6</td>\n",
       "      <td>14</td>\n",
       "    </tr>\n",
       "    <tr>\n",
       "      <th>32</th>\n",
       "      <td>🟡</td>\n",
       "      <td>Croezg</td>\n",
       "      <td>38.3</td>\n",
       "      <td>14</td>\n",
       "    </tr>\n",
       "    <tr>\n",
       "      <th>22</th>\n",
       "      <td>🟡</td>\n",
       "      <td>kylemanike</td>\n",
       "      <td>44.8</td>\n",
       "      <td>14</td>\n",
       "    </tr>\n",
       "    <tr>\n",
       "      <th>6</th>\n",
       "      <td>🔵</td>\n",
       "      <td>Liklyboos221</td>\n",
       "      <td>60.1</td>\n",
       "      <td>13</td>\n",
       "    </tr>\n",
       "    <tr>\n",
       "      <th>10</th>\n",
       "      <td>🔵</td>\n",
       "      <td>tsogoo125</td>\n",
       "      <td>55.5</td>\n",
       "      <td>13</td>\n",
       "    </tr>\n",
       "    <tr>\n",
       "      <th>39</th>\n",
       "      <td>🟠</td>\n",
       "      <td>raka6792</td>\n",
       "      <td>31.8</td>\n",
       "      <td>13</td>\n",
       "    </tr>\n",
       "    <tr>\n",
       "      <th>15</th>\n",
       "      <td>🟢</td>\n",
       "      <td>camper8903</td>\n",
       "      <td>52.6</td>\n",
       "      <td>13</td>\n",
       "    </tr>\n",
       "    <tr>\n",
       "      <th>20</th>\n",
       "      <td>🟢</td>\n",
       "      <td>Xernicus</td>\n",
       "      <td>46.7</td>\n",
       "      <td>13</td>\n",
       "    </tr>\n",
       "    <tr>\n",
       "      <th>9</th>\n",
       "      <td>🔵</td>\n",
       "      <td>diwdwoa</td>\n",
       "      <td>55.5</td>\n",
       "      <td>11</td>\n",
       "    </tr>\n",
       "    <tr>\n",
       "      <th>13</th>\n",
       "      <td>🟢</td>\n",
       "      <td>HarArkhichen</td>\n",
       "      <td>53.2</td>\n",
       "      <td>11</td>\n",
       "    </tr>\n",
       "    <tr>\n",
       "      <th>25</th>\n",
       "      <td>🟡</td>\n",
       "      <td>gyftfdko</td>\n",
       "      <td>44.4</td>\n",
       "      <td>10</td>\n",
       "    </tr>\n",
       "    <tr>\n",
       "      <th>26</th>\n",
       "      <td>🟡</td>\n",
       "      <td>theDogeboiiz</td>\n",
       "      <td>44.2</td>\n",
       "      <td>10</td>\n",
       "    </tr>\n",
       "    <tr>\n",
       "      <th>41</th>\n",
       "      <td>🟠</td>\n",
       "      <td>SireHalo</td>\n",
       "      <td>31.7</td>\n",
       "      <td>10</td>\n",
       "    </tr>\n",
       "  </tbody>\n",
       "</table>\n",
       "</div>"
      ],
      "text/plain": [
       "   color_code                  name   avg  atd\n",
       "38          🟠               Dawnftb  33.1   52\n",
       "23          🟡   nickthegodrider1289  44.8   42\n",
       "3           🔵         Oscarchoyzy24  65.4   38\n",
       "40          🟠          anathaliakdc  31.7   37\n",
       "21          🟢            spikey_001  45.3   36\n",
       "8           🔵           polkomgyy44  56.5   34\n",
       "24          🟡         jamesplayztv1  44.7   32\n",
       "37          🟠            pancake_w1  33.7   31\n",
       "12          🔵               jgwen19  55.1   30\n",
       "11          🔵         Kazuyuki_Owen  55.3   30\n",
       "28          🟡        chickenkampong  41.9   28\n",
       "42          🟠           Luqman_indo  30.1   27\n",
       "14          🟢          mrflipsflapz  52.7   27\n",
       "31          🟡            GGXDArusha  39.7   25\n",
       "36          🟡              kite_167  36.3   24\n",
       "34          🟡  commander_cookie1234  37.0   24\n",
       "1           🔵    Mitsubira_Aratoshi  70.1   23\n",
       "7           🔵               pensmen  56.8   23\n",
       "30          🟡           FrailBailen  40.0   22\n",
       "2           🔵          SeaV1per1224  65.7   21\n",
       "18          🟢  Indonesia_ofMalaysia  48.0   21\n",
       "16          🟢      jesterproandnoob  52.4   20\n",
       "33          🟡             jiajun129  37.2   20\n",
       "35          🟡               ckpoa20  36.9   19\n",
       "17          🟢             chanmeme1  48.4   19\n",
       "29          🟡          jellyy112345  41.2   17\n",
       "0           🔵        ConesOdebrecht  74.5   16\n",
       "4           🔵               Gariksz  64.4   16\n",
       "5           🔵         burnfield1k22  64.0   16\n",
       "27          🟡       CommanderHikari  42.0   15\n",
       "19          🟢       aryafariziii160  47.6   14\n",
       "32          🟡                Croezg  38.3   14\n",
       "22          🟡            kylemanike  44.8   14\n",
       "6           🔵          Liklyboos221  60.1   13\n",
       "10          🔵             tsogoo125  55.5   13\n",
       "39          🟠              raka6792  31.8   13\n",
       "15          🟢            camper8903  52.6   13\n",
       "20          🟢              Xernicus  46.7   13\n",
       "9           🔵               diwdwoa  55.5   11\n",
       "13          🟢          HarArkhichen  53.2   11\n",
       "25          🟡              gyftfdko  44.4   10\n",
       "26          🟡          theDogeboiiz  44.2   10\n",
       "41          🟠              SireHalo  31.7   10"
      ]
     },
     "execution_count": 79,
     "metadata": {},
     "output_type": "execute_result"
    }
   ],
   "source": [
    "df3.sort_values(ascending=False,by=\"atd\")"
   ]
  },
  {
   "cell_type": "code",
   "execution_count": 92,
   "metadata": {},
   "outputs": [
    {
     "data": {
      "text/plain": [
       "Text(0.5, 1.0, 'most kills')"
      ]
     },
     "execution_count": 92,
     "metadata": {},
     "output_type": "execute_result"
    },
    {
     "data": {
      "image/png": "[encoded data removed]",
      "text/plain": [
       "<Figure size 1500x500 with 1 Axes>"
      ]
     },
     "metadata": {},
     "output_type": "display_data"
    }
   ],
   "source": [
    "def number_format(dframe,x1,finder):\n",
    "    for i in range(len(x1)):\n",
    "        plt.text(i,(dframe[finder].iloc[i]).astype(int),(dframe[finder].iloc[i]).astype(int), ha =\"center\")\n",
    "\n",
    "\n",
    "plt.figure(figsize=(15,5))\n",
    "plt.bar(df3[\"name\"],df3[\"avg\"],color = \"lightblue\")\n",
    "number_format(df3,df3,\"avg\")\n",
    "plt.xticks(rotation = 90)\n",
    "plt.title(\"most kills\")\n",
    "\n"
   ]
  },
  {
   "cell_type": "code",
   "execution_count": 93,
   "metadata": {},
   "outputs": [
    {
     "data": {
      "image/png": "[encoded data removed]",
      "text/plain": [
       "<Figure size 1500x500 with 1 Axes>"
      ]
     },
     "metadata": {},
     "output_type": "display_data"
    }
   ],
   "source": [
    "\n",
    "names = df3.sort_values(ascending=False,by=\"atd\")\n",
    "plt.figure(figsize=(15,5))\n",
    "number_format(names,names,\"atd\")\n",
    "plt.bar(names[\"name\"],names[\"atd\"])\n",
    "plt.xticks(rotation = 90)\n",
    "plt.show()"
   ]
  },
  {
   "cell_type": "code",
   "execution_count": 82,
   "metadata": {},
   "outputs": [
    {
     "data": {
      "application/vnd.microsoft.datawrangler.viewer.v0+json": {
       "columns": [
        {
         "name": "index",
         "rawType": "int64",
         "type": "integer"
        },
        {
         "name": "name",
         "rawType": "object",
         "type": "string"
        },
        {
         "name": "kills",
         "rawType": "float64",
         "type": "float"
        }
       ],
       "conversionMethod": "pd.DataFrame",
       "ref": "a2585eb5-0f4d-49a4-b2c6-0b7e8d3a6761",
       "rows": [
        [
         "0",
         "anathaliakdc",
         "31.0"
        ],
        [
         "1",
         "pancake_w1",
         "31.0"
        ],
        [
         "2",
         "KisarakiTH",
         "25.0"
        ],
        [
         "3",
         "GGXDArusha",
         "33.0"
        ],
        [
         "4",
         "ckpoa20",
         "42.0"
        ],
        [
         "5",
         "Morristte",
         "26.0"
        ],
        [
         "6",
         "jiajun129",
         "23.0"
        ],
        [
         "7",
         "GRADE4092",
         "17.0"
        ],
        [
         "8",
         "pensmen",
         "62.0"
        ],
        [
         "9",
         "burnfield1k22",
         "53.0"
        ],
        [
         "10",
         "FrailBailen",
         "28.0"
        ],
        [
         "11",
         "SeaV1per1224",
         "51.0"
        ],
        [
         "12",
         "spikey_001",
         "47.0"
        ],
        [
         "13",
         "chickenkampong",
         "32.0"
        ],
        [
         "14",
         "Zweihvnders",
         "64.0"
        ],
        [
         "15",
         "MarionnJames2307",
         "15.0"
        ],
        [
         "16",
         "Dawnftb",
         "27.0"
        ],
        [
         "17",
         "aphexic",
         "76.0"
        ],
        [
         "18",
         "polkomgyy44",
         "58.0"
        ],
        [
         "19",
         "gyftfdko",
         "48.0"
        ],
        [
         "20",
         "Bababooooooeydude",
         "32.0"
        ],
        [
         "21",
         "Zombisho",
         "7.0"
        ],
        [
         "22",
         "encik_Faris",
         "37.0"
        ],
        [
         "23",
         "kylemanike",
         "44.0"
        ],
        [
         "24",
         "Dawnftb",
         "27.0"
        ],
        [
         "25",
         "chickenkampong",
         "32.0"
        ],
        [
         "26",
         "jiajun129",
         "23.0"
        ],
        [
         "27",
         "GGXDArusha",
         "33.0"
        ],
        [
         "28",
         "pensmen",
         "62.0"
        ],
        [
         "29",
         "spikey_001",
         "47.0"
        ],
        [
         "30",
         "pancake_w1",
         "31.0"
        ],
        [
         "31",
         "Zweihvnders",
         "64.0"
        ],
        [
         "32",
         "KisarakiTH",
         "25.0"
        ],
        [
         "33",
         "aphexic",
         "76.0"
        ],
        [
         "34",
         "MarionnJames2307",
         "15.0"
        ],
        [
         "35",
         "GRADE4092",
         "17.0"
        ],
        [
         "36",
         "anathaliakdc",
         "31.0"
        ],
        [
         "37",
         "ckpoa20",
         "42.0"
        ],
        [
         "38",
         "Morristte",
         "26.0"
        ],
        [
         "39",
         "SeaV1per1224",
         "51.0"
        ],
        [
         "40",
         "FrailBailen",
         "28.0"
        ],
        [
         "41",
         "burnfield1k22",
         "53.0"
        ],
        [
         "42",
         "polkomgyy44",
         "58.0"
        ],
        [
         "43",
         "gyftfdko",
         "48.0"
        ],
        [
         "44",
         "Bababooooooeydude",
         "32.0"
        ],
        [
         "45",
         "Zombisho",
         "7.0"
        ],
        [
         "46",
         "encik_Faris",
         "37.0"
        ],
        [
         "47",
         "kylemanike",
         "44.0"
        ],
        [
         "48",
         "TheHeirToZimbabwe",
         "103.0"
        ],
        [
         "49",
         "mahanprogamer3",
         "24.0"
        ]
       ],
       "shape": {
        "columns": 2,
        "rows": 1466
       }
      },
      "text/html": [
       "<div>\n",
       "<style scoped>\n",
       "    .dataframe tbody tr th:only-of-type {\n",
       "        vertical-align: middle;\n",
       "    }\n",
       "\n",
       "    .dataframe tbody tr th {\n",
       "        vertical-align: top;\n",
       "    }\n",
       "\n",
       "    .dataframe thead th {\n",
       "        text-align: right;\n",
       "    }\n",
       "</style>\n",
       "<table border=\"1\" class=\"dataframe\">\n",
       "  <thead>\n",
       "    <tr style=\"text-align: right;\">\n",
       "      <th></th>\n",
       "      <th>name</th>\n",
       "      <th>kills</th>\n",
       "    </tr>\n",
       "  </thead>\n",
       "  <tbody>\n",
       "    <tr>\n",
       "      <th>0</th>\n",
       "      <td>anathaliakdc</td>\n",
       "      <td>31.0</td>\n",
       "    </tr>\n",
       "    <tr>\n",
       "      <th>1</th>\n",
       "      <td>pancake_w1</td>\n",
       "      <td>31.0</td>\n",
       "    </tr>\n",
       "    <tr>\n",
       "      <th>2</th>\n",
       "      <td>KisarakiTH</td>\n",
       "      <td>25.0</td>\n",
       "    </tr>\n",
       "    <tr>\n",
       "      <th>3</th>\n",
       "      <td>GGXDArusha</td>\n",
       "      <td>33.0</td>\n",
       "    </tr>\n",
       "    <tr>\n",
       "      <th>4</th>\n",
       "      <td>ckpoa20</td>\n",
       "      <td>42.0</td>\n",
       "    </tr>\n",
       "    <tr>\n",
       "      <th>...</th>\n",
       "      <td>...</td>\n",
       "      <td>...</td>\n",
       "    </tr>\n",
       "    <tr>\n",
       "      <th>1461</th>\n",
       "      <td>pensmen</td>\n",
       "      <td>59.0</td>\n",
       "    </tr>\n",
       "    <tr>\n",
       "      <th>1462</th>\n",
       "      <td>kite_167</td>\n",
       "      <td>46.0</td>\n",
       "    </tr>\n",
       "    <tr>\n",
       "      <th>1463</th>\n",
       "      <td>memeisgod1234567</td>\n",
       "      <td>23.0</td>\n",
       "    </tr>\n",
       "    <tr>\n",
       "      <th>1464</th>\n",
       "      <td>Luqman_indo</td>\n",
       "      <td>21.0</td>\n",
       "    </tr>\n",
       "    <tr>\n",
       "      <th>1465</th>\n",
       "      <td>raka6792</td>\n",
       "      <td>27.0</td>\n",
       "    </tr>\n",
       "  </tbody>\n",
       "</table>\n",
       "<p>1466 rows × 2 columns</p>\n",
       "</div>"
      ],
      "text/plain": [
       "                  name  kills\n",
       "0         anathaliakdc   31.0\n",
       "1           pancake_w1   31.0\n",
       "2           KisarakiTH   25.0\n",
       "3           GGXDArusha   33.0\n",
       "4              ckpoa20   42.0\n",
       "...                ...    ...\n",
       "1461           pensmen   59.0\n",
       "1462          kite_167   46.0\n",
       "1463  memeisgod1234567   23.0\n",
       "1464       Luqman_indo   21.0\n",
       "1465          raka6792   27.0\n",
       "\n",
       "[1466 rows x 2 columns]"
      ]
     },
     "execution_count": 82,
     "metadata": {},
     "output_type": "execute_result"
    }
   ],
   "source": [
    "df"
   ]
  },
  {
   "cell_type": "code",
   "execution_count": 83,
   "metadata": {},
   "outputs": [
    {
     "data": {
      "text/plain": [
       "Text(0.5, 1.0, 'top')"
      ]
     },
     "execution_count": 83,
     "metadata": {},
     "output_type": "execute_result"
    },
    {
     "data": {
      "image/png": "[encoded data removed]",
      "text/plain": [
       "<Figure size 640x480 with 1 Axes>"
      ]
     },
     "metadata": {},
     "output_type": "display_data"
    }
   ],
   "source": [
    "plt.hist(df[\"kills\"], bins=30)\n",
    "plt.title(\"top\")"
   ]
  }
 ],
 "metadata": {
  "kernelspec": {
   "display_name": "Python 3",
   "language": "python",
   "name": "python3"
  },
  "language_info": {
   "codemirror_mode": {
    "name": "ipython",
    "version": 3
   },
   "file_extension": ".py",
   "mimetype": "text/x-python",
   "name": "python",
   "nbconvert_exporter": "python",
   "pygments_lexer": "ipython3",
   "version": "3.11.9"
  }
 },
 "nbformat": 4,
 "nbformat_minor": 2
}
