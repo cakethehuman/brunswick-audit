{
 "cells": [
  {
   "cell_type": "code",
   "execution_count": 9,
   "metadata": {},
   "outputs": [],
   "source": [
    "import pandas as pd\n",
    "import numpy as np\n",
    "import matplotlib.pyplot as plt\n",
    "import seaborn as sns\n",
    "import scipy.stats as stats"
   ]
  },
  {
   "cell_type": "markdown",
   "metadata": {},
   "source": [
    "# We read the data first"
   ]
  },
  {
   "cell_type": "code",
   "execution_count": 10,
   "metadata": {},
   "outputs": [],
   "source": [
    "df = pd.read_csv('spikey_Data.csv')"
   ]
  },
  {
   "cell_type": "code",
   "execution_count": 11,
   "metadata": {},
   "outputs": [
    {
     "data": {
      "application/vnd.microsoft.datawrangler.viewer.v0+json": {
       "columns": [
        {
         "name": "index",
         "rawType": "int64",
         "type": "integer"
        },
        {
         "name": "name",
         "rawType": "object",
         "type": "string"
        },
        {
         "name": "kills",
         "rawType": "int64",
         "type": "integer"
        },
        {
         "name": "date",
         "rawType": "object",
         "type": "string"
        }
       ],
       "conversionMethod": "pd.DataFrame",
       "ref": "a4a9bb42-6053-4dd3-a801-5cc758d36f34",
       "rows": [
        [
         "0",
         "commander_cookie1234",
         "33",
         "2025-02-13"
        ],
        [
         "1",
         "Croezg",
         "35",
         "2025-02-13"
        ],
        [
         "2",
         "jgwen19",
         "72",
         "2025-02-13"
        ],
        [
         "3",
         "polkomgyy44",
         "58",
         "2025-02-13"
        ],
        [
         "4",
         "anathaliakdc",
         "25",
         "2025-02-13"
        ],
        [
         "5",
         "jiajun129",
         "30",
         "2025-02-13"
        ],
        [
         "6",
         "AERBUTE1",
         "45",
         "2025-02-13"
        ],
        [
         "7",
         "Oscarchoyzy24",
         "82",
         "2025-02-13"
        ],
        [
         "8",
         "kylemanike",
         "12",
         "2025-02-13"
        ],
        [
         "9",
         "HarArkhichen",
         "61",
         "2025-02-13"
        ],
        [
         "10",
         "Xernicus",
         "47",
         "2025-02-13"
        ],
        [
         "11",
         "mrflipsflapz",
         "50",
         "2025-02-13"
        ],
        [
         "12",
         "Proxy_x5",
         "53",
         "2025-02-13"
        ],
        [
         "13",
         "chickenkampong",
         "52",
         "2025-02-13"
        ],
        [
         "14",
         "potatoringsninja4",
         "60",
         "2025-02-13"
        ],
        [
         "15",
         "jamesplayztv1",
         "55",
         "2025-02-13"
        ],
        [
         "16",
         "jayneeddollar",
         "59",
         "2025-02-13"
        ],
        [
         "17",
         "Dawnftb",
         "36",
         "2025-02-13"
        ],
        [
         "18",
         "kf21rotc2",
         "12",
         "2025-02-13"
        ],
        [
         "19",
         "SireHalo",
         "44",
         "2025-02-13"
        ],
        [
         "20",
         "Sumardisam",
         "61",
         "2025-02-13"
        ],
        [
         "21",
         "Kangcheon24",
         "71",
         "2025-02-13"
        ],
        [
         "22",
         "kite_167",
         "46",
         "2025-02-13"
        ],
        [
         "23",
         "nickthegodrider1289",
         "46",
         "2025-02-13"
        ],
        [
         "24",
         "bigshockwave99",
         "57",
         "2025-02-13"
        ],
        [
         "25",
         "Indonesia_ofMalaysia",
         "47",
         "2025-02-13"
        ],
        [
         "26",
         "GGXDArusha",
         "50",
         "2025-02-12"
        ],
        [
         "27",
         "Kangcheon24",
         "54",
         "2025-02-12"
        ],
        [
         "28",
         "Indonesia_ofMalaysia",
         "43",
         "2025-02-12"
        ],
        [
         "29",
         "jgwen19",
         "56",
         "2025-02-12"
        ],
        [
         "30",
         "mrflipsflapz",
         "49",
         "2025-02-12"
        ],
        [
         "31",
         "jamesplayztv1",
         "1",
         "2025-02-12"
        ],
        [
         "32",
         "OblivionSectis",
         "97",
         "2025-02-12"
        ],
        [
         "33",
         "Kazuyuki_Owen",
         "49",
         "2025-02-12"
        ],
        [
         "34",
         "chanmeme1",
         "35",
         "2025-02-12"
        ],
        [
         "35",
         "kite_167",
         "46",
         "2025-02-12"
        ],
        [
         "36",
         "ConesOdebrecht",
         "75",
         "2025-02-12"
        ],
        [
         "37",
         "masterjanjan19",
         "35",
         "2025-02-12"
        ],
        [
         "38",
         "pancake_w1",
         "34",
         "2025-02-12"
        ],
        [
         "39",
         "jayneeddollar",
         "55",
         "2025-02-12"
        ],
        [
         "40",
         "pensmen",
         "52",
         "2025-02-12"
        ],
        [
         "41",
         "SeaV1per1224",
         "62",
         "2025-02-12"
        ],
        [
         "42",
         "FrailBailen",
         "26",
         "2025-02-12"
        ],
        [
         "43",
         "KusakabeMisaoMyWaifu",
         "48",
         "2025-02-12"
        ],
        [
         "44",
         "Xernicus",
         "52",
         "2025-02-12"
        ],
        [
         "45",
         "anathaliakdc",
         "32",
         "2025-02-12"
        ],
        [
         "46",
         "jiajun129",
         "34",
         "2025-02-12"
        ],
        [
         "47",
         "Luqman_indo",
         "30",
         "2025-02-12"
        ],
        [
         "48",
         "Gariksz",
         "59",
         "2025-02-12"
        ],
        [
         "49",
         "Oscarchoyzy24",
         "61",
         "2025-02-12"
        ]
       ],
       "shape": {
        "columns": 3,
        "rows": 87
       }
      },
      "text/html": [
       "<div>\n",
       "<style scoped>\n",
       "    .dataframe tbody tr th:only-of-type {\n",
       "        vertical-align: middle;\n",
       "    }\n",
       "\n",
       "    .dataframe tbody tr th {\n",
       "        vertical-align: top;\n",
       "    }\n",
       "\n",
       "    .dataframe thead th {\n",
       "        text-align: right;\n",
       "    }\n",
       "</style>\n",
       "<table border=\"1\" class=\"dataframe\">\n",
       "  <thead>\n",
       "    <tr style=\"text-align: right;\">\n",
       "      <th></th>\n",
       "      <th>name</th>\n",
       "      <th>kills</th>\n",
       "      <th>date</th>\n",
       "    </tr>\n",
       "  </thead>\n",
       "  <tbody>\n",
       "    <tr>\n",
       "      <th>0</th>\n",
       "      <td>commander_cookie1234</td>\n",
       "      <td>33</td>\n",
       "      <td>2025-02-13</td>\n",
       "    </tr>\n",
       "    <tr>\n",
       "      <th>1</th>\n",
       "      <td>Croezg</td>\n",
       "      <td>35</td>\n",
       "      <td>2025-02-13</td>\n",
       "    </tr>\n",
       "    <tr>\n",
       "      <th>2</th>\n",
       "      <td>jgwen19</td>\n",
       "      <td>72</td>\n",
       "      <td>2025-02-13</td>\n",
       "    </tr>\n",
       "    <tr>\n",
       "      <th>3</th>\n",
       "      <td>polkomgyy44</td>\n",
       "      <td>58</td>\n",
       "      <td>2025-02-13</td>\n",
       "    </tr>\n",
       "    <tr>\n",
       "      <th>4</th>\n",
       "      <td>anathaliakdc</td>\n",
       "      <td>25</td>\n",
       "      <td>2025-02-13</td>\n",
       "    </tr>\n",
       "    <tr>\n",
       "      <th>...</th>\n",
       "      <td>...</td>\n",
       "      <td>...</td>\n",
       "      <td>...</td>\n",
       "    </tr>\n",
       "    <tr>\n",
       "      <th>82</th>\n",
       "      <td>FrailBailen</td>\n",
       "      <td>70</td>\n",
       "      <td>2025-02-11</td>\n",
       "    </tr>\n",
       "    <tr>\n",
       "      <th>83</th>\n",
       "      <td>jamesplayztv1</td>\n",
       "      <td>57</td>\n",
       "      <td>2025-02-11</td>\n",
       "    </tr>\n",
       "    <tr>\n",
       "      <th>84</th>\n",
       "      <td>KisarakiTH</td>\n",
       "      <td>46</td>\n",
       "      <td>2025-02-11</td>\n",
       "    </tr>\n",
       "    <tr>\n",
       "      <th>85</th>\n",
       "      <td>kylemanike</td>\n",
       "      <td>67</td>\n",
       "      <td>2025-02-11</td>\n",
       "    </tr>\n",
       "    <tr>\n",
       "      <th>86</th>\n",
       "      <td>nickthegodrider1289</td>\n",
       "      <td>60</td>\n",
       "      <td>2025-02-11</td>\n",
       "    </tr>\n",
       "  </tbody>\n",
       "</table>\n",
       "<p>87 rows × 3 columns</p>\n",
       "</div>"
      ],
      "text/plain": [
       "                    name  kills        date\n",
       "0   commander_cookie1234     33  2025-02-13\n",
       "1                 Croezg     35  2025-02-13\n",
       "2                jgwen19     72  2025-02-13\n",
       "3            polkomgyy44     58  2025-02-13\n",
       "4           anathaliakdc     25  2025-02-13\n",
       "..                   ...    ...         ...\n",
       "82           FrailBailen     70  2025-02-11\n",
       "83         jamesplayztv1     57  2025-02-11\n",
       "84            KisarakiTH     46  2025-02-11\n",
       "85            kylemanike     67  2025-02-11\n",
       "86   nickthegodrider1289     60  2025-02-11\n",
       "\n",
       "[87 rows x 3 columns]"
      ]
     },
     "execution_count": 11,
     "metadata": {},
     "output_type": "execute_result"
    }
   ],
   "source": [
    "df"
   ]
  },
  {
   "cell_type": "markdown",
   "metadata": {},
   "source": [
    "# Top 10 attandence all time"
   ]
  },
  {
   "cell_type": "code",
   "execution_count": 12,
   "metadata": {},
   "outputs": [
    {
     "data": {
      "image/png": "[encoded data removed]",
      "text/plain": [
       "<Figure size 640x480 with 1 Axes>"
      ]
     },
     "metadata": {},
     "output_type": "display_data"
    }
   ],
   "source": [
    "df[\"name\"].value_counts().nlargest(10).plot(kind='bar',colormap='viridis')\n",
    "plt.title(\"Attendance by Name\")\n",
    "plt.xlabel(\"Name\")\n",
    "plt.ylabel(\"Attendance\")\n",
    "plt.show()"
   ]
  },
  {
   "cell_type": "markdown",
   "metadata": {},
   "source": [
    "# avg attadance"
   ]
  },
  {
   "cell_type": "code",
   "execution_count": 13,
   "metadata": {},
   "outputs": [
    {
     "data": {
      "text/plain": [
       "2"
      ]
     },
     "execution_count": 13,
     "metadata": {},
     "output_type": "execute_result"
    }
   ],
   "source": [
    "round(df[\"name\"].value_counts().mean())"
   ]
  },
  {
   "cell_type": "markdown",
   "metadata": {},
   "source": [
    "# attadance for 1 week\n"
   ]
  },
  {
   "cell_type": "markdown",
   "metadata": {},
   "source": [
    "# Historigram for kills "
   ]
  },
  {
   "cell_type": "code",
   "execution_count": 14,
   "metadata": {},
   "outputs": [
    {
     "data": {
      "image/png": "[encoded data removed]",
      "text/plain": [
       "<Figure size 640x480 with 1 Axes>"
      ]
     },
     "metadata": {},
     "output_type": "display_data"
    }
   ],
   "source": [
    "\n",
    "\n",
    "plt.hist(df[\"kills\"], bins=15, color='green', edgecolor='black')\n",
    "\n",
    "plt.title(\"finding the average kills\")\n",
    "plt.plot()\n",
    "plt.show()"
   ]
  },
  {
   "cell_type": "code",
   "execution_count": 15,
   "metadata": {},
   "outputs": [
    {
     "name": "stdout",
     "output_type": "stream",
     "text": [
      "The average kills for everyone is:  46\n"
     ]
    }
   ],
   "source": [
    "avg_kills_everyone = df[\"kills\"].mean()\n",
    "print(\"The average kills for everyone is: \", round(avg_kills_everyone))"
   ]
  },
  {
   "cell_type": "markdown",
   "metadata": {},
   "source": [
    "# There top 5 kills"
   ]
  },
  {
   "cell_type": "code",
   "execution_count": 16,
   "metadata": {},
   "outputs": [
    {
     "data": {
      "image/png": "[encoded data removed]",
      "text/plain": [
       "<Figure size 640x480 with 1 Axes>"
      ]
     },
     "metadata": {},
     "output_type": "display_data"
    }
   ],
   "source": [
    "find_avg = df[df[\"name\"] == \"spikey_001\"]\n",
    "#you can put anyname \n",
    "find_avg[\"kills\"].mean()\n",
    "\n",
    "number_sort = find_avg[\"kills\"].sort_values(ascending=False)\n",
    "\n",
    "plt.bar(find_avg.sort_values(ascending=False, by=\"kills\")[\"date\"], find_avg[\"kills\"].sort_values(ascending=False), color='black')\n",
    "\n",
    "\n",
    "        \n",
    "plt.title(f\"Kills by Date by {find_avg['name'].iloc[0]}\")\n",
    "plt.xticks(rotation=90)\n",
    "plt.xlabel(\"Date\")\n",
    "plt.ylabel(\"Kills\")\n",
    "plt.show()"
   ]
  },
  {
   "cell_type": "markdown",
   "metadata": {},
   "source": [
    "# There performance for the last 5 days"
   ]
  },
  {
   "cell_type": "code",
   "execution_count": null,
   "metadata": {},
   "outputs": [],
   "source": []
  }
 ],
 "metadata": {
  "kernelspec": {
   "display_name": "Python 3",
   "language": "python",
   "name": "python3"
  },
  "language_info": {
   "codemirror_mode": {
    "name": "ipython",
    "version": 3
   },
   "file_extension": ".py",
   "mimetype": "text/x-python",
   "name": "python",
   "nbconvert_exporter": "python",
   "pygments_lexer": "ipython3",
   "version": "3.11.9"
  }
 },
 "nbformat": 4,
 "nbformat_minor": 2
}
