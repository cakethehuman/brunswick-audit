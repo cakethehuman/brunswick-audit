{
 "cells": [
  {
   "cell_type": "code",
   "execution_count": 72,
   "metadata": {},
   "outputs": [],
   "source": [
    "import pandas as pd\n",
    "import numpy as np\n",
    "import matplotlib.pyplot as plt\n",
    "import seaborn as sns\n",
    "import scipy.stats as stats"
   ]
  },
  {
   "cell_type": "markdown",
   "metadata": {},
   "source": [
    "# We read the data first"
   ]
  },
  {
   "cell_type": "code",
   "execution_count": 73,
   "metadata": {},
   "outputs": [],
   "source": [
    "df = pd.read_csv('spikey_Data.csv')"
   ]
  },
  {
   "cell_type": "code",
   "execution_count": 74,
   "metadata": {},
   "outputs": [
    {
     "data": {
      "application/vnd.microsoft.datawrangler.viewer.v0+json": {
       "columns": [
        {
         "name": "index",
         "rawType": "int64",
         "type": "integer"
        },
        {
         "name": "name",
         "rawType": "object",
         "type": "string"
        },
        {
         "name": "kills",
         "rawType": "int64",
         "type": "integer"
        },
        {
         "name": "date",
         "rawType": "object",
         "type": "string"
        }
       ],
       "conversionMethod": "pd.DataFrame",
       "ref": "5a9684f8-ee5d-49e0-b40a-bcf1e3641d33",
       "rows": [
        [
         "0",
         "TomMiaorblx",
         "33",
         "2025-02-15"
        ],
        [
         "1",
         "polskathebestkraj",
         "62",
         "2025-02-15"
        ],
        [
         "2",
         "SeaV1per1224",
         "62",
         "2025-02-15"
        ],
        [
         "3",
         "jellyy112345",
         "55",
         "2025-02-15"
        ],
        [
         "4",
         "jesterproandnoob",
         "45",
         "2025-02-15"
        ],
        [
         "5",
         "Dawnftb",
         "16",
         "2025-02-15"
        ],
        [
         "6",
         "Oscarchoyzy24",
         "79",
         "2025-02-15"
        ],
        [
         "7",
         "cn191981",
         "39",
         "2025-02-15"
        ],
        [
         "8",
         "spikey_001",
         "41",
         "2025-02-15"
        ],
        [
         "9",
         "nickthegodrider1289",
         "55",
         "2025-02-15"
        ],
        [
         "10",
         "jiajun129",
         "46",
         "2025-02-15"
        ],
        [
         "11",
         "Xernicus",
         "64",
         "2025-02-15"
        ],
        [
         "12",
         "ckpoa20",
         "37",
         "2025-02-15"
        ],
        [
         "13",
         "chanmeme1",
         "42",
         "2025-02-15"
        ],
        [
         "14",
         "pensmen",
         "44",
         "2025-02-15"
        ],
        [
         "15",
         "Mitsubira_Aratoshi",
         "59",
         "2025-02-15"
        ],
        [
         "16",
         "GGXDArusha",
         "33",
         "2025-02-15"
        ],
        [
         "17",
         "jamesplayztv1",
         "55",
         "2025-02-15"
        ],
        [
         "18",
         "Gariksz",
         "62",
         "2025-02-15"
        ],
        [
         "19",
         "zoommine0423",
         "47",
         "2025-02-15"
        ],
        [
         "20",
         "eiltene123",
         "43",
         "2025-02-15"
        ],
        [
         "21",
         "chickenkampong",
         "45",
         "2025-02-15"
        ],
        [
         "22",
         "FrailBailen",
         "55",
         "2025-02-15"
        ],
        [
         "23",
         "HoundVonSurrey",
         "45",
         "2025-02-15"
        ],
        [
         "24",
         "ViktorInvicta",
         "65",
         "2025-02-15"
        ],
        [
         "25",
         "SupremeDom5162",
         "41",
         "2025-02-15"
        ],
        [
         "26",
         "Kazuyuki_Owen",
         "55",
         "2025-02-15"
        ],
        [
         "27",
         "Luqman_indo",
         "24",
         "2025-02-15"
        ],
        [
         "28",
         "Dawnftb",
         "28",
         "2025-02-14"
        ],
        [
         "29",
         "Proxy_x5",
         "34",
         "2025-02-14"
        ],
        [
         "30",
         "Kazuyuki_Owen",
         "49",
         "2025-02-14"
        ],
        [
         "31",
         "anathaliakdc",
         "26",
         "2025-02-14"
        ],
        [
         "32",
         "FrailBailen",
         "57",
         "2025-02-14"
        ],
        [
         "33",
         "ckpoa20",
         "27",
         "2025-02-14"
        ],
        [
         "34",
         "CommanderHikari",
         "41",
         "2025-02-14"
        ],
        [
         "35",
         "pensmen",
         "56",
         "2025-02-14"
        ],
        [
         "36",
         "MrDerps124",
         "68",
         "2025-02-14"
        ],
        [
         "37",
         "Gariksz",
         "63",
         "2025-02-14"
        ],
        [
         "38",
         "GGXDArusha",
         "39",
         "2025-02-14"
        ],
        [
         "39",
         "HoundVonSurrey",
         "54",
         "2025-02-14"
        ],
        [
         "40",
         "5xmars",
         "67",
         "2025-02-14"
        ],
        [
         "41",
         "MarioUlici200702",
         "66",
         "2025-02-14"
        ],
        [
         "42",
         "Indonesia_ofMalaysia",
         "52",
         "2025-02-14"
        ],
        [
         "43",
         "kf21rotc2",
         "17",
         "2025-02-14"
        ],
        [
         "44",
         "Xernicus",
         "45",
         "2025-02-14"
        ],
        [
         "45",
         "Mitsubira_Aratoshi",
         "78",
         "2025-02-14"
        ],
        [
         "46",
         "eiltene123",
         "33",
         "2025-02-14"
        ],
        [
         "47",
         "kylemanike",
         "32",
         "2025-02-14"
        ],
        [
         "48",
         "commander_cookie1234",
         "34",
         "2025-02-14"
        ],
        [
         "49",
         "jellyy112345",
         "48",
         "2025-02-14"
        ]
       ],
       "shape": {
        "columns": 3,
        "rows": 164
       }
      },
      "text/html": [
       "<div>\n",
       "<style scoped>\n",
       "    .dataframe tbody tr th:only-of-type {\n",
       "        vertical-align: middle;\n",
       "    }\n",
       "\n",
       "    .dataframe tbody tr th {\n",
       "        vertical-align: top;\n",
       "    }\n",
       "\n",
       "    .dataframe thead th {\n",
       "        text-align: right;\n",
       "    }\n",
       "</style>\n",
       "<table border=\"1\" class=\"dataframe\">\n",
       "  <thead>\n",
       "    <tr style=\"text-align: right;\">\n",
       "      <th></th>\n",
       "      <th>name</th>\n",
       "      <th>kills</th>\n",
       "      <th>date</th>\n",
       "    </tr>\n",
       "  </thead>\n",
       "  <tbody>\n",
       "    <tr>\n",
       "      <th>0</th>\n",
       "      <td>TomMiaorblx</td>\n",
       "      <td>33</td>\n",
       "      <td>2025-02-15</td>\n",
       "    </tr>\n",
       "    <tr>\n",
       "      <th>1</th>\n",
       "      <td>polskathebestkraj</td>\n",
       "      <td>62</td>\n",
       "      <td>2025-02-15</td>\n",
       "    </tr>\n",
       "    <tr>\n",
       "      <th>2</th>\n",
       "      <td>SeaV1per1224</td>\n",
       "      <td>62</td>\n",
       "      <td>2025-02-15</td>\n",
       "    </tr>\n",
       "    <tr>\n",
       "      <th>3</th>\n",
       "      <td>jellyy112345</td>\n",
       "      <td>55</td>\n",
       "      <td>2025-02-15</td>\n",
       "    </tr>\n",
       "    <tr>\n",
       "      <th>4</th>\n",
       "      <td>jesterproandnoob</td>\n",
       "      <td>45</td>\n",
       "      <td>2025-02-15</td>\n",
       "    </tr>\n",
       "    <tr>\n",
       "      <th>...</th>\n",
       "      <td>...</td>\n",
       "      <td>...</td>\n",
       "      <td>...</td>\n",
       "    </tr>\n",
       "    <tr>\n",
       "      <th>159</th>\n",
       "      <td>FrailBailen</td>\n",
       "      <td>70</td>\n",
       "      <td>2025-02-11</td>\n",
       "    </tr>\n",
       "    <tr>\n",
       "      <th>160</th>\n",
       "      <td>jamesplayztv1</td>\n",
       "      <td>57</td>\n",
       "      <td>2025-02-11</td>\n",
       "    </tr>\n",
       "    <tr>\n",
       "      <th>161</th>\n",
       "      <td>KisarakiTH</td>\n",
       "      <td>46</td>\n",
       "      <td>2025-02-11</td>\n",
       "    </tr>\n",
       "    <tr>\n",
       "      <th>162</th>\n",
       "      <td>kylemanike</td>\n",
       "      <td>67</td>\n",
       "      <td>2025-02-11</td>\n",
       "    </tr>\n",
       "    <tr>\n",
       "      <th>163</th>\n",
       "      <td>nickthegodrider1289</td>\n",
       "      <td>60</td>\n",
       "      <td>2025-02-11</td>\n",
       "    </tr>\n",
       "  </tbody>\n",
       "</table>\n",
       "<p>164 rows × 3 columns</p>\n",
       "</div>"
      ],
      "text/plain": [
       "                    name  kills        date\n",
       "0            TomMiaorblx     33  2025-02-15\n",
       "1      polskathebestkraj     62  2025-02-15\n",
       "2           SeaV1per1224     62  2025-02-15\n",
       "3           jellyy112345     55  2025-02-15\n",
       "4       jesterproandnoob     45  2025-02-15\n",
       "..                   ...    ...         ...\n",
       "159          FrailBailen     70  2025-02-11\n",
       "160        jamesplayztv1     57  2025-02-11\n",
       "161           KisarakiTH     46  2025-02-11\n",
       "162           kylemanike     67  2025-02-11\n",
       "163  nickthegodrider1289     60  2025-02-11\n",
       "\n",
       "[164 rows x 3 columns]"
      ]
     },
     "execution_count": 74,
     "metadata": {},
     "output_type": "execute_result"
    }
   ],
   "source": [
    "df"
   ]
  },
  {
   "cell_type": "markdown",
   "metadata": {},
   "source": [
    "# Top 10 attandence all time"
   ]
  },
  {
   "cell_type": "code",
   "execution_count": 75,
   "metadata": {},
   "outputs": [
    {
     "data": {
      "image/png": "[encoded data removed]",
      "text/plain": [
       "<Figure size 640x480 with 1 Axes>"
      ]
     },
     "metadata": {},
     "output_type": "display_data"
    }
   ],
   "source": [
    "df[\"name\"].value_counts().nlargest(10).plot(kind='bar',colormap='viridis')\n",
    "plt.title(\"Attendance by Name\")\n",
    "plt.xlabel(\"Name\")\n",
    "plt.ylabel(\"Attendance\")\n",
    "plt.show()"
   ]
  },
  {
   "cell_type": "markdown",
   "metadata": {},
   "source": [
    "# avg attadance"
   ]
  },
  {
   "cell_type": "code",
   "execution_count": 76,
   "metadata": {},
   "outputs": [
    {
     "data": {
      "text/plain": [
       "2"
      ]
     },
     "execution_count": 76,
     "metadata": {},
     "output_type": "execute_result"
    }
   ],
   "source": [
    "round(df[\"name\"].value_counts().mean())"
   ]
  },
  {
   "cell_type": "code",
   "execution_count": 90,
   "metadata": {},
   "outputs": [
    {
     "data": {
      "application/vnd.microsoft.datawrangler.viewer.v0+json": {
       "columns": [
        {
         "name": "index",
         "rawType": "int64",
         "type": "integer"
        },
        {
         "name": "name",
         "rawType": "object",
         "type": "string"
        },
        {
         "name": "kills",
         "rawType": "int64",
         "type": "integer"
        },
        {
         "name": "date",
         "rawType": "object",
         "type": "string"
        }
       ],
       "conversionMethod": "pd.DataFrame",
       "ref": "b5bd712f-c72f-41a2-8bfb-859812aa43d8",
       "rows": [
        [
         "88",
         "mrflipsflapz",
         "50",
         "2025-02-13"
        ],
        [
         "107",
         "mrflipsflapz",
         "49",
         "2025-02-12"
        ],
        [
         "141",
         "mrflipsflapz",
         "59",
         "2025-02-11"
        ]
       ],
       "shape": {
        "columns": 3,
        "rows": 3
       }
      },
      "text/html": [
       "<div>\n",
       "<style scoped>\n",
       "    .dataframe tbody tr th:only-of-type {\n",
       "        vertical-align: middle;\n",
       "    }\n",
       "\n",
       "    .dataframe tbody tr th {\n",
       "        vertical-align: top;\n",
       "    }\n",
       "\n",
       "    .dataframe thead th {\n",
       "        text-align: right;\n",
       "    }\n",
       "</style>\n",
       "<table border=\"1\" class=\"dataframe\">\n",
       "  <thead>\n",
       "    <tr style=\"text-align: right;\">\n",
       "      <th></th>\n",
       "      <th>name</th>\n",
       "      <th>kills</th>\n",
       "      <th>date</th>\n",
       "    </tr>\n",
       "  </thead>\n",
       "  <tbody>\n",
       "    <tr>\n",
       "      <th>88</th>\n",
       "      <td>mrflipsflapz</td>\n",
       "      <td>50</td>\n",
       "      <td>2025-02-13</td>\n",
       "    </tr>\n",
       "    <tr>\n",
       "      <th>107</th>\n",
       "      <td>mrflipsflapz</td>\n",
       "      <td>49</td>\n",
       "      <td>2025-02-12</td>\n",
       "    </tr>\n",
       "    <tr>\n",
       "      <th>141</th>\n",
       "      <td>mrflipsflapz</td>\n",
       "      <td>59</td>\n",
       "      <td>2025-02-11</td>\n",
       "    </tr>\n",
       "  </tbody>\n",
       "</table>\n",
       "</div>"
      ],
      "text/plain": [
       "             name  kills        date\n",
       "88   mrflipsflapz     50  2025-02-13\n",
       "107  mrflipsflapz     49  2025-02-12\n",
       "141  mrflipsflapz     59  2025-02-11"
      ]
     },
     "execution_count": 90,
     "metadata": {},
     "output_type": "execute_result"
    }
   ],
   "source": [
    "df[df['name'] == \"mrflipsflapz\"]\n"
   ]
  },
  {
   "cell_type": "markdown",
   "metadata": {},
   "source": [
    "# attadance for 1 week\n"
   ]
  },
  {
   "cell_type": "code",
   "execution_count": 88,
   "metadata": {},
   "outputs": [
    {
     "data": {
      "text/plain": [
       "name\n",
       "nickthegodrider1289     True\n",
       "Xernicus                True\n",
       "Oscarchoyzy24           True\n",
       "Dawnftb                 True\n",
       "GGXDArusha              True\n",
       "FrailBailen             True\n",
       "anathaliakdc            True\n",
       "jiajun129               True\n",
       "kite_167                True\n",
       "pensmen                 True\n",
       "chanmeme1               True\n",
       "spikey_001              True\n",
       "jamesplayztv1           True\n",
       "jgwen19                 True\n",
       "commander_cookie1234    True\n",
       "kylemanike              True\n",
       "Kazuyuki_Owen           True\n",
       "Indonesia_ofMalaysia    True\n",
       "chickenkampong          True\n",
       "SeaV1per1224            True\n",
       "jayneeddollar           True\n",
       "Kangcheon24             True\n",
       "mrflipsflapz            True\n",
       "Luqman_indo             True\n",
       "kf21rotc2               True\n",
       "ckpoa20                 True\n",
       "Gariksz                 True\n",
       "cn191981                True\n",
       "Name: count, dtype: bool"
      ]
     },
     "execution_count": 88,
     "metadata": {},
     "output_type": "execute_result"
    }
   ],
   "source": [
    "check_attadance = df[\"name\"].value_counts() >= 3\n",
    "check_attadance.map({True: 1, False: 0})\n",
    "check_attadance[check_attadance == 1]\n"
   ]
  },
  {
   "cell_type": "markdown",
   "metadata": {},
   "source": [
    "# Historigram for kills "
   ]
  },
  {
   "cell_type": "code",
   "execution_count": 79,
   "metadata": {},
   "outputs": [
    {
     "data": {
      "image/png": "[encoded data removed]",
      "text/plain": [
       "<Figure size 640x480 with 1 Axes>"
      ]
     },
     "metadata": {},
     "output_type": "display_data"
    }
   ],
   "source": [
    "\n",
    "\n",
    "plt.hist(df[\"kills\"], bins=15, color='green', edgecolor='black')\n",
    "\n",
    "plt.title(\"finding the average kills\")\n",
    "plt.plot()\n",
    "plt.show()"
   ]
  },
  {
   "cell_type": "code",
   "execution_count": 80,
   "metadata": {},
   "outputs": [
    {
     "name": "stdout",
     "output_type": "stream",
     "text": [
      "The average kills for everyone is:  45\n"
     ]
    }
   ],
   "source": [
    "avg_kills_everyone = df[\"kills\"].mean()\n",
    "print(\"The average kills for everyone is: \", round(avg_kills_everyone))"
   ]
  },
  {
   "cell_type": "markdown",
   "metadata": {},
   "source": [
    "# There top 5 kills"
   ]
  },
  {
   "cell_type": "code",
   "execution_count": 81,
   "metadata": {},
   "outputs": [
    {
     "name": "stdout",
     "output_type": "stream",
     "text": [
      "51.5\n"
     ]
    },
    {
     "data": {
      "image/png": "[encoded data removed]",
      "text/plain": [
       "<Figure size 640x480 with 1 Axes>"
      ]
     },
     "metadata": {},
     "output_type": "display_data"
    }
   ],
   "source": [
    "find_avg = df[df[\"name\"] == \"jellyy112345\"]\n",
    "#you can put anyname \n",
    "print(find_avg[\"kills\"].mean())\n",
    "\n",
    "number_sort = find_avg[\"kills\"].sort_values(ascending=False)\n",
    "\n",
    "plt.bar(find_avg.sort_values(ascending=False, by=\"kills\")[\"date\"], find_avg[\"kills\"].sort_values(ascending=False), color='black')\n",
    "\n",
    "\n",
    "        \n",
    "plt.title(f\"Kills by Date by {find_avg['name'].iloc[0]}\")\n",
    "plt.xticks(rotation=90)\n",
    "plt.xlabel(\"Date\")\n",
    "plt.ylabel(\"Kills\")\n",
    "plt.show()"
   ]
  },
  {
   "cell_type": "code",
   "execution_count": 82,
   "metadata": {},
   "outputs": [
    {
     "data": {
      "application/vnd.microsoft.datawrangler.viewer.v0+json": {
       "columns": [
        {
         "name": "index",
         "rawType": "int64",
         "type": "integer"
        },
        {
         "name": "name",
         "rawType": "object",
         "type": "string"
        },
        {
         "name": "kills",
         "rawType": "int64",
         "type": "integer"
        },
        {
         "name": "date",
         "rawType": "object",
         "type": "string"
        }
       ],
       "conversionMethod": "pd.DataFrame",
       "ref": "efa8a583-7947-430f-8ffa-0e4fd05bc348",
       "rows": [
        [
         "3",
         "jellyy112345",
         "55",
         "2025-02-15"
        ],
        [
         "49",
         "jellyy112345",
         "48",
         "2025-02-14"
        ]
       ],
       "shape": {
        "columns": 3,
        "rows": 2
       }
      },
      "text/html": [
       "<div>\n",
       "<style scoped>\n",
       "    .dataframe tbody tr th:only-of-type {\n",
       "        vertical-align: middle;\n",
       "    }\n",
       "\n",
       "    .dataframe tbody tr th {\n",
       "        vertical-align: top;\n",
       "    }\n",
       "\n",
       "    .dataframe thead th {\n",
       "        text-align: right;\n",
       "    }\n",
       "</style>\n",
       "<table border=\"1\" class=\"dataframe\">\n",
       "  <thead>\n",
       "    <tr style=\"text-align: right;\">\n",
       "      <th></th>\n",
       "      <th>name</th>\n",
       "      <th>kills</th>\n",
       "      <th>date</th>\n",
       "    </tr>\n",
       "  </thead>\n",
       "  <tbody>\n",
       "    <tr>\n",
       "      <th>3</th>\n",
       "      <td>jellyy112345</td>\n",
       "      <td>55</td>\n",
       "      <td>2025-02-15</td>\n",
       "    </tr>\n",
       "    <tr>\n",
       "      <th>49</th>\n",
       "      <td>jellyy112345</td>\n",
       "      <td>48</td>\n",
       "      <td>2025-02-14</td>\n",
       "    </tr>\n",
       "  </tbody>\n",
       "</table>\n",
       "</div>"
      ],
      "text/plain": [
       "            name  kills        date\n",
       "3   jellyy112345     55  2025-02-15\n",
       "49  jellyy112345     48  2025-02-14"
      ]
     },
     "execution_count": 82,
     "metadata": {},
     "output_type": "execute_result"
    }
   ],
   "source": [
    "df[df[\"name\"] == \"jellyy112345\"]"
   ]
  },
  {
   "cell_type": "markdown",
   "metadata": {},
   "source": [
    "# more than 45 avg"
   ]
  },
  {
   "cell_type": "code",
   "execution_count": 83,
   "metadata": {},
   "outputs": [
    {
     "name": "stdout",
     "output_type": "stream",
     "text": [
      "TomMiaorblx have avg 33.0 kills\n",
      "polskathebestkraj have avg 62.0 kills\n",
      "SeaV1per1224 have avg 63.333333333333336 kills\n",
      "jellyy112345 have avg 51.5 kills\n",
      "jesterproandnoob have avg 35.5 kills\n",
      "Dawnftb have avg 30.4 kills\n",
      "Oscarchoyzy24 have avg 52.4 kills\n",
      "cn191981 have avg 28.0 kills\n",
      "spikey_001 have avg 35.5 kills\n",
      "nickthegodrider1289 have avg 50.0 kills\n",
      "jiajun129 have avg 35.0 kills\n",
      "Xernicus have avg 53.2 kills\n",
      "ckpoa20 have avg 30.333333333333332 kills\n",
      "chanmeme1 have avg 47.5 kills\n",
      "pensmen have avg 46.0 kills\n",
      "Mitsubira_Aratoshi have avg 68.5 kills\n",
      "GGXDArusha have avg 41.6 kills\n",
      "jamesplayztv1 have avg 42.0 kills\n",
      "Gariksz have avg 61.333333333333336 kills\n",
      "zoommine0423 have avg 47.0 kills\n",
      "eiltene123 have avg 38.0 kills\n",
      "chickenkampong have avg 45.0 kills\n",
      "FrailBailen have avg 53.0 kills\n",
      "HoundVonSurrey have avg 49.5 kills\n",
      "ViktorInvicta have avg 65.0 kills\n",
      "SupremeDom5162 have avg 30.5 kills\n",
      "Kazuyuki_Owen have avg 56.25 kills\n",
      "Luqman_indo have avg 20.0 kills\n",
      "Proxy_x5 have avg 43.5 kills\n",
      "anathaliakdc have avg 30.4 kills\n",
      "CommanderHikari have avg 41.0 kills\n",
      "MrDerps124 have avg 68.0 kills\n",
      "5xmars have avg 67.0 kills\n",
      "MarioUlici200702 have avg 66.0 kills\n",
      "Indonesia_ofMalaysia have avg 47.333333333333336 kills\n",
      "kf21rotc2 have avg 12.333333333333334 kills\n",
      "kylemanike have avg 39.0 kills\n",
      "commander_cookie1234 have avg 36.75 kills\n",
      "jgwen19 have avg 62.75 kills\n",
      "kite_167 have avg 37.5 kills\n",
      "CIAUSA2 have avg 21.5 kills\n",
      "plm922sown have avg 40.0 kills\n",
      "ConesOdebrecht have avg 71.0 kills\n",
      "KusakabeMisaoMyWaifu have avg 38.0 kills\n",
      "polkomgyy44 have avg 54.0 kills\n",
      "Croezg have avg 36.0 kills\n",
      "HarArkhichen have avg 60.5 kills\n",
      "MarionnJames2307 have avg 43.0 kills\n",
      "Madgaming2010 have avg 0.0 kills\n",
      "AERBUTE1 have avg 45.0 kills\n",
      "mrflipsflapz have avg 52.666666666666664 kills\n",
      "potatoringsninja4 have avg 60.0 kills\n",
      "jayneeddollar have avg 59.0 kills\n",
      "SireHalo have avg 44.0 kills\n",
      "Sumardisam have avg 61.0 kills\n",
      "Kangcheon24 have avg 67.0 kills\n",
      "bigshockwave99 have avg 57.0 kills\n",
      "OblivionSectis have avg 97.0 kills\n",
      "masterjanjan19 have avg 35.0 kills\n",
      "pancake_w1 have avg 33.0 kills\n",
      "intxerunit have avg 41.0 kills\n",
      "ideacentre have avg 52.0 kills\n",
      "Sunfull1 have avg 26.0 kills\n",
      "dyj2233 have avg 9.0 kills\n",
      "gst44444 have avg 15.0 kills\n",
      "zZRabbitsZz have avg 30.0 kills\n",
      "Alekspheus have avg 39.0 kills\n",
      "KisarakiTH have avg 46.0 kills\n"
     ]
    }
   ],
   "source": [
    "names = df[\"name\"].unique()\n",
    "for i in names:\n",
    "    find_avg_everyone = df[df[\"name\"] == i]\n",
    "    print(f\"{i} have avg {find_avg_everyone['kills'].mean()} kills\")\n",
    "    "
   ]
  },
  {
   "cell_type": "code",
   "execution_count": 84,
   "metadata": {},
   "outputs": [],
   "source": [
    "df2 = pd.read_csv('avg.csv')"
   ]
  },
  {
   "cell_type": "code",
   "execution_count": 85,
   "metadata": {},
   "outputs": [
    {
     "data": {
      "application/vnd.microsoft.datawrangler.viewer.v0+json": {
       "columns": [
        {
         "name": "index",
         "rawType": "int64",
         "type": "integer"
        },
        {
         "name": "name",
         "rawType": "object",
         "type": "string"
        },
        {
         "name": "avg",
         "rawType": "float64",
         "type": "float"
        }
       ],
       "conversionMethod": "pd.DataFrame",
       "ref": "bb98a10d-e626-4b70-89e3-d021df918ff2",
       "rows": [
        [
         "0",
         "TomMiaorblx",
         "33.0"
        ],
        [
         "1",
         "polskathebestkraj",
         "62.0"
        ],
        [
         "2",
         "SeaV1per1224",
         "63.333333333333336"
        ],
        [
         "3",
         "jellyy112345",
         "51.5"
        ],
        [
         "4",
         "jesterproandnoob",
         "35.5"
        ],
        [
         "5",
         "Dawnftb",
         "30.4"
        ],
        [
         "6",
         "Oscarchoyzy24",
         "52.4"
        ],
        [
         "7",
         "cn191981",
         "28.0"
        ],
        [
         "8",
         "spikey_001",
         "35.5"
        ],
        [
         "9",
         "nickthegodrider1289",
         "50.0"
        ],
        [
         "10",
         "jiajun129",
         "35.0"
        ],
        [
         "11",
         "Xernicus",
         "53.2"
        ],
        [
         "12",
         "ckpoa20",
         "30.33333333333333"
        ],
        [
         "13",
         "chanmeme1",
         "47.5"
        ],
        [
         "14",
         "pensmen",
         "46.0"
        ],
        [
         "15",
         "Mitsubira_Aratoshi",
         "68.5"
        ],
        [
         "16",
         "GGXDArusha",
         "41.6"
        ],
        [
         "17",
         "jamesplayztv1",
         "42.0"
        ],
        [
         "18",
         "Gariksz",
         "61.333333333333336"
        ],
        [
         "19",
         "zoommine0423",
         "47.0"
        ],
        [
         "20",
         "eiltene123",
         "38.0"
        ],
        [
         "21",
         "chickenkampong",
         "45.0"
        ],
        [
         "22",
         "FrailBailen",
         "53.0"
        ],
        [
         "23",
         "HoundVonSurrey",
         "49.5"
        ],
        [
         "24",
         "ViktorInvicta",
         "65.0"
        ],
        [
         "25",
         "SupremeDom5162",
         "30.5"
        ],
        [
         "26",
         "Kazuyuki_Owen",
         "56.25"
        ],
        [
         "27",
         "Luqman_indo",
         "20.0"
        ],
        [
         "28",
         "Proxy_x5",
         "43.5"
        ],
        [
         "29",
         "anathaliakdc",
         "30.4"
        ],
        [
         "30",
         "CommanderHikari",
         "41.0"
        ],
        [
         "31",
         "MrDerps124",
         "68.0"
        ],
        [
         "32",
         "5xmars",
         "67.0"
        ],
        [
         "33",
         "MarioUlici200702",
         "66.0"
        ],
        [
         "34",
         "Indonesia_ofMalaysia",
         "47.333333333333336"
        ],
        [
         "35",
         "kf21rotc2",
         "12.333333333333334"
        ],
        [
         "36",
         "kylemanike",
         "39.0"
        ],
        [
         "37",
         "commander_cookie1234",
         "36.75"
        ],
        [
         "38",
         "jgwen19",
         "62.75"
        ],
        [
         "39",
         "kite_167",
         "37.5"
        ],
        [
         "40",
         "CIAUSA2",
         "21.5"
        ],
        [
         "41",
         "plm922sown",
         "40.0"
        ],
        [
         "42",
         "ConesOdebrecht",
         "71.0"
        ],
        [
         "43",
         "KusakabeMisaoMyWaifu",
         "38.0"
        ],
        [
         "44",
         "polkomgyy44",
         "54.0"
        ],
        [
         "45",
         "Croezg",
         "36.0"
        ],
        [
         "46",
         "HarArkhichen",
         "60.5"
        ],
        [
         "47",
         "MarionnJames2307",
         "43.0"
        ],
        [
         "48",
         "Madgaming2010",
         "0.0"
        ],
        [
         "49",
         "AERBUTE1",
         "45.0"
        ]
       ],
       "shape": {
        "columns": 2,
        "rows": 68
       }
      },
      "text/html": [
       "<div>\n",
       "<style scoped>\n",
       "    .dataframe tbody tr th:only-of-type {\n",
       "        vertical-align: middle;\n",
       "    }\n",
       "\n",
       "    .dataframe tbody tr th {\n",
       "        vertical-align: top;\n",
       "    }\n",
       "\n",
       "    .dataframe thead th {\n",
       "        text-align: right;\n",
       "    }\n",
       "</style>\n",
       "<table border=\"1\" class=\"dataframe\">\n",
       "  <thead>\n",
       "    <tr style=\"text-align: right;\">\n",
       "      <th></th>\n",
       "      <th>name</th>\n",
       "      <th>avg</th>\n",
       "    </tr>\n",
       "  </thead>\n",
       "  <tbody>\n",
       "    <tr>\n",
       "      <th>0</th>\n",
       "      <td>TomMiaorblx</td>\n",
       "      <td>33.000000</td>\n",
       "    </tr>\n",
       "    <tr>\n",
       "      <th>1</th>\n",
       "      <td>polskathebestkraj</td>\n",
       "      <td>62.000000</td>\n",
       "    </tr>\n",
       "    <tr>\n",
       "      <th>2</th>\n",
       "      <td>SeaV1per1224</td>\n",
       "      <td>63.333333</td>\n",
       "    </tr>\n",
       "    <tr>\n",
       "      <th>3</th>\n",
       "      <td>jellyy112345</td>\n",
       "      <td>51.500000</td>\n",
       "    </tr>\n",
       "    <tr>\n",
       "      <th>4</th>\n",
       "      <td>jesterproandnoob</td>\n",
       "      <td>35.500000</td>\n",
       "    </tr>\n",
       "    <tr>\n",
       "      <th>...</th>\n",
       "      <td>...</td>\n",
       "      <td>...</td>\n",
       "    </tr>\n",
       "    <tr>\n",
       "      <th>63</th>\n",
       "      <td>dyj2233</td>\n",
       "      <td>9.000000</td>\n",
       "    </tr>\n",
       "    <tr>\n",
       "      <th>64</th>\n",
       "      <td>gst44444</td>\n",
       "      <td>15.000000</td>\n",
       "    </tr>\n",
       "    <tr>\n",
       "      <th>65</th>\n",
       "      <td>zZRabbitsZz</td>\n",
       "      <td>30.000000</td>\n",
       "    </tr>\n",
       "    <tr>\n",
       "      <th>66</th>\n",
       "      <td>Alekspheus</td>\n",
       "      <td>39.000000</td>\n",
       "    </tr>\n",
       "    <tr>\n",
       "      <th>67</th>\n",
       "      <td>KisarakiTH</td>\n",
       "      <td>46.000000</td>\n",
       "    </tr>\n",
       "  </tbody>\n",
       "</table>\n",
       "<p>68 rows × 2 columns</p>\n",
       "</div>"
      ],
      "text/plain": [
       "                 name        avg\n",
       "0         TomMiaorblx  33.000000\n",
       "1   polskathebestkraj  62.000000\n",
       "2        SeaV1per1224  63.333333\n",
       "3        jellyy112345  51.500000\n",
       "4    jesterproandnoob  35.500000\n",
       "..                ...        ...\n",
       "63            dyj2233   9.000000\n",
       "64           gst44444  15.000000\n",
       "65        zZRabbitsZz  30.000000\n",
       "66         Alekspheus  39.000000\n",
       "67         KisarakiTH  46.000000\n",
       "\n",
       "[68 rows x 2 columns]"
      ]
     },
     "execution_count": 85,
     "metadata": {},
     "output_type": "execute_result"
    }
   ],
   "source": [
    "df2"
   ]
  },
  {
   "cell_type": "code",
   "execution_count": 86,
   "metadata": {},
   "outputs": [
    {
     "data": {
      "application/vnd.microsoft.datawrangler.viewer.v0+json": {
       "columns": [
        {
         "name": "index",
         "rawType": "int64",
         "type": "integer"
        },
        {
         "name": "name",
         "rawType": "object",
         "type": "string"
        },
        {
         "name": "avg",
         "rawType": "float64",
         "type": "float"
        }
       ],
       "conversionMethod": "pd.DataFrame",
       "ref": "a3aa5219-8a81-4705-9ba8-f432a875cf52",
       "rows": [
        [
         "57",
         "OblivionSectis",
         "97.0"
        ],
        [
         "42",
         "ConesOdebrecht",
         "71.0"
        ],
        [
         "15",
         "Mitsubira_Aratoshi",
         "68.5"
        ],
        [
         "31",
         "MrDerps124",
         "68.0"
        ],
        [
         "32",
         "5xmars",
         "67.0"
        ],
        [
         "55",
         "Kangcheon24",
         "67.0"
        ],
        [
         "33",
         "MarioUlici200702",
         "66.0"
        ],
        [
         "24",
         "ViktorInvicta",
         "65.0"
        ],
        [
         "2",
         "SeaV1per1224",
         "63.333333333333336"
        ],
        [
         "38",
         "jgwen19",
         "62.75"
        ],
        [
         "1",
         "polskathebestkraj",
         "62.0"
        ],
        [
         "18",
         "Gariksz",
         "61.333333333333336"
        ],
        [
         "54",
         "Sumardisam",
         "61.0"
        ],
        [
         "46",
         "HarArkhichen",
         "60.5"
        ],
        [
         "51",
         "potatoringsninja4",
         "60.0"
        ],
        [
         "52",
         "jayneeddollar",
         "59.0"
        ],
        [
         "56",
         "bigshockwave99",
         "57.0"
        ],
        [
         "26",
         "Kazuyuki_Owen",
         "56.25"
        ],
        [
         "44",
         "polkomgyy44",
         "54.0"
        ],
        [
         "11",
         "Xernicus",
         "53.2"
        ],
        [
         "22",
         "FrailBailen",
         "53.0"
        ],
        [
         "50",
         "mrflipsflapz",
         "52.66666666666666"
        ],
        [
         "6",
         "Oscarchoyzy24",
         "52.4"
        ],
        [
         "61",
         "ideacentre",
         "52.0"
        ],
        [
         "3",
         "jellyy112345",
         "51.5"
        ],
        [
         "9",
         "nickthegodrider1289",
         "50.0"
        ],
        [
         "23",
         "HoundVonSurrey",
         "49.5"
        ],
        [
         "13",
         "chanmeme1",
         "47.5"
        ],
        [
         "34",
         "Indonesia_ofMalaysia",
         "47.333333333333336"
        ],
        [
         "19",
         "zoommine0423",
         "47.0"
        ],
        [
         "14",
         "pensmen",
         "46.0"
        ],
        [
         "67",
         "KisarakiTH",
         "46.0"
        ],
        [
         "49",
         "AERBUTE1",
         "45.0"
        ],
        [
         "21",
         "chickenkampong",
         "45.0"
        ],
        [
         "53",
         "SireHalo",
         "44.0"
        ],
        [
         "28",
         "Proxy_x5",
         "43.5"
        ],
        [
         "47",
         "MarionnJames2307",
         "43.0"
        ],
        [
         "17",
         "jamesplayztv1",
         "42.0"
        ],
        [
         "16",
         "GGXDArusha",
         "41.6"
        ],
        [
         "60",
         "intxerunit",
         "41.0"
        ],
        [
         "30",
         "CommanderHikari",
         "41.0"
        ],
        [
         "41",
         "plm922sown",
         "40.0"
        ],
        [
         "66",
         "Alekspheus",
         "39.0"
        ],
        [
         "36",
         "kylemanike",
         "39.0"
        ],
        [
         "20",
         "eiltene123",
         "38.0"
        ],
        [
         "43",
         "KusakabeMisaoMyWaifu",
         "38.0"
        ],
        [
         "39",
         "kite_167",
         "37.5"
        ],
        [
         "37",
         "commander_cookie1234",
         "36.75"
        ],
        [
         "45",
         "Croezg",
         "36.0"
        ],
        [
         "4",
         "jesterproandnoob",
         "35.5"
        ]
       ],
       "shape": {
        "columns": 2,
        "rows": 68
       }
      },
      "text/html": [
       "<div>\n",
       "<style scoped>\n",
       "    .dataframe tbody tr th:only-of-type {\n",
       "        vertical-align: middle;\n",
       "    }\n",
       "\n",
       "    .dataframe tbody tr th {\n",
       "        vertical-align: top;\n",
       "    }\n",
       "\n",
       "    .dataframe thead th {\n",
       "        text-align: right;\n",
       "    }\n",
       "</style>\n",
       "<table border=\"1\" class=\"dataframe\">\n",
       "  <thead>\n",
       "    <tr style=\"text-align: right;\">\n",
       "      <th></th>\n",
       "      <th>name</th>\n",
       "      <th>avg</th>\n",
       "    </tr>\n",
       "  </thead>\n",
       "  <tbody>\n",
       "    <tr>\n",
       "      <th>57</th>\n",
       "      <td>OblivionSectis</td>\n",
       "      <td>97.000000</td>\n",
       "    </tr>\n",
       "    <tr>\n",
       "      <th>42</th>\n",
       "      <td>ConesOdebrecht</td>\n",
       "      <td>71.000000</td>\n",
       "    </tr>\n",
       "    <tr>\n",
       "      <th>15</th>\n",
       "      <td>Mitsubira_Aratoshi</td>\n",
       "      <td>68.500000</td>\n",
       "    </tr>\n",
       "    <tr>\n",
       "      <th>31</th>\n",
       "      <td>MrDerps124</td>\n",
       "      <td>68.000000</td>\n",
       "    </tr>\n",
       "    <tr>\n",
       "      <th>32</th>\n",
       "      <td>5xmars</td>\n",
       "      <td>67.000000</td>\n",
       "    </tr>\n",
       "    <tr>\n",
       "      <th>...</th>\n",
       "      <td>...</td>\n",
       "      <td>...</td>\n",
       "    </tr>\n",
       "    <tr>\n",
       "      <th>27</th>\n",
       "      <td>Luqman_indo</td>\n",
       "      <td>20.000000</td>\n",
       "    </tr>\n",
       "    <tr>\n",
       "      <th>64</th>\n",
       "      <td>gst44444</td>\n",
       "      <td>15.000000</td>\n",
       "    </tr>\n",
       "    <tr>\n",
       "      <th>35</th>\n",
       "      <td>kf21rotc2</td>\n",
       "      <td>12.333333</td>\n",
       "    </tr>\n",
       "    <tr>\n",
       "      <th>63</th>\n",
       "      <td>dyj2233</td>\n",
       "      <td>9.000000</td>\n",
       "    </tr>\n",
       "    <tr>\n",
       "      <th>48</th>\n",
       "      <td>Madgaming2010</td>\n",
       "      <td>0.000000</td>\n",
       "    </tr>\n",
       "  </tbody>\n",
       "</table>\n",
       "<p>68 rows × 2 columns</p>\n",
       "</div>"
      ],
      "text/plain": [
       "                  name        avg\n",
       "57      OblivionSectis  97.000000\n",
       "42      ConesOdebrecht  71.000000\n",
       "15  Mitsubira_Aratoshi  68.500000\n",
       "31          MrDerps124  68.000000\n",
       "32              5xmars  67.000000\n",
       "..                 ...        ...\n",
       "27         Luqman_indo  20.000000\n",
       "64            gst44444  15.000000\n",
       "35           kf21rotc2  12.333333\n",
       "63             dyj2233   9.000000\n",
       "48       Madgaming2010   0.000000\n",
       "\n",
       "[68 rows x 2 columns]"
      ]
     },
     "execution_count": 86,
     "metadata": {},
     "output_type": "execute_result"
    }
   ],
   "source": [
    "df2.sort_values(by=\"avg\", ascending=False)"
   ]
  },
  {
   "cell_type": "code",
   "execution_count": 87,
   "metadata": {},
   "outputs": [
    {
     "data": {
      "application/vnd.microsoft.datawrangler.viewer.v0+json": {
       "columns": [
        {
         "name": "index",
         "rawType": "int64",
         "type": "integer"
        },
        {
         "name": "name",
         "rawType": "object",
         "type": "string"
        },
        {
         "name": "avg",
         "rawType": "float64",
         "type": "float"
        }
       ],
       "conversionMethod": "pd.DataFrame",
       "ref": "71ead736-205c-4ba9-82d6-1209c50041e1",
       "rows": [
        [
         "1",
         "polskathebestkraj",
         "62.0"
        ],
        [
         "2",
         "SeaV1per1224",
         "63.333333333333336"
        ],
        [
         "3",
         "jellyy112345",
         "51.5"
        ],
        [
         "6",
         "Oscarchoyzy24",
         "52.4"
        ],
        [
         "9",
         "nickthegodrider1289",
         "50.0"
        ],
        [
         "11",
         "Xernicus",
         "53.2"
        ],
        [
         "13",
         "chanmeme1",
         "47.5"
        ],
        [
         "14",
         "pensmen",
         "46.0"
        ],
        [
         "15",
         "Mitsubira_Aratoshi",
         "68.5"
        ],
        [
         "18",
         "Gariksz",
         "61.333333333333336"
        ],
        [
         "19",
         "zoommine0423",
         "47.0"
        ],
        [
         "21",
         "chickenkampong",
         "45.0"
        ],
        [
         "22",
         "FrailBailen",
         "53.0"
        ],
        [
         "23",
         "HoundVonSurrey",
         "49.5"
        ],
        [
         "24",
         "ViktorInvicta",
         "65.0"
        ],
        [
         "26",
         "Kazuyuki_Owen",
         "56.25"
        ],
        [
         "31",
         "MrDerps124",
         "68.0"
        ],
        [
         "32",
         "5xmars",
         "67.0"
        ],
        [
         "33",
         "MarioUlici200702",
         "66.0"
        ],
        [
         "34",
         "Indonesia_ofMalaysia",
         "47.333333333333336"
        ],
        [
         "38",
         "jgwen19",
         "62.75"
        ],
        [
         "42",
         "ConesOdebrecht",
         "71.0"
        ],
        [
         "44",
         "polkomgyy44",
         "54.0"
        ],
        [
         "46",
         "HarArkhichen",
         "60.5"
        ],
        [
         "49",
         "AERBUTE1",
         "45.0"
        ],
        [
         "50",
         "mrflipsflapz",
         "52.66666666666666"
        ],
        [
         "51",
         "potatoringsninja4",
         "60.0"
        ],
        [
         "52",
         "jayneeddollar",
         "59.0"
        ],
        [
         "54",
         "Sumardisam",
         "61.0"
        ],
        [
         "55",
         "Kangcheon24",
         "67.0"
        ],
        [
         "56",
         "bigshockwave99",
         "57.0"
        ],
        [
         "57",
         "OblivionSectis",
         "97.0"
        ],
        [
         "61",
         "ideacentre",
         "52.0"
        ],
        [
         "67",
         "KisarakiTH",
         "46.0"
        ]
       ],
       "shape": {
        "columns": 2,
        "rows": 34
       }
      },
      "text/html": [
       "<div>\n",
       "<style scoped>\n",
       "    .dataframe tbody tr th:only-of-type {\n",
       "        vertical-align: middle;\n",
       "    }\n",
       "\n",
       "    .dataframe tbody tr th {\n",
       "        vertical-align: top;\n",
       "    }\n",
       "\n",
       "    .dataframe thead th {\n",
       "        text-align: right;\n",
       "    }\n",
       "</style>\n",
       "<table border=\"1\" class=\"dataframe\">\n",
       "  <thead>\n",
       "    <tr style=\"text-align: right;\">\n",
       "      <th></th>\n",
       "      <th>name</th>\n",
       "      <th>avg</th>\n",
       "    </tr>\n",
       "  </thead>\n",
       "  <tbody>\n",
       "    <tr>\n",
       "      <th>1</th>\n",
       "      <td>polskathebestkraj</td>\n",
       "      <td>62.000000</td>\n",
       "    </tr>\n",
       "    <tr>\n",
       "      <th>2</th>\n",
       "      <td>SeaV1per1224</td>\n",
       "      <td>63.333333</td>\n",
       "    </tr>\n",
       "    <tr>\n",
       "      <th>3</th>\n",
       "      <td>jellyy112345</td>\n",
       "      <td>51.500000</td>\n",
       "    </tr>\n",
       "    <tr>\n",
       "      <th>6</th>\n",
       "      <td>Oscarchoyzy24</td>\n",
       "      <td>52.400000</td>\n",
       "    </tr>\n",
       "    <tr>\n",
       "      <th>9</th>\n",
       "      <td>nickthegodrider1289</td>\n",
       "      <td>50.000000</td>\n",
       "    </tr>\n",
       "    <tr>\n",
       "      <th>11</th>\n",
       "      <td>Xernicus</td>\n",
       "      <td>53.200000</td>\n",
       "    </tr>\n",
       "    <tr>\n",
       "      <th>13</th>\n",
       "      <td>chanmeme1</td>\n",
       "      <td>47.500000</td>\n",
       "    </tr>\n",
       "    <tr>\n",
       "      <th>14</th>\n",
       "      <td>pensmen</td>\n",
       "      <td>46.000000</td>\n",
       "    </tr>\n",
       "    <tr>\n",
       "      <th>15</th>\n",
       "      <td>Mitsubira_Aratoshi</td>\n",
       "      <td>68.500000</td>\n",
       "    </tr>\n",
       "    <tr>\n",
       "      <th>18</th>\n",
       "      <td>Gariksz</td>\n",
       "      <td>61.333333</td>\n",
       "    </tr>\n",
       "    <tr>\n",
       "      <th>19</th>\n",
       "      <td>zoommine0423</td>\n",
       "      <td>47.000000</td>\n",
       "    </tr>\n",
       "    <tr>\n",
       "      <th>21</th>\n",
       "      <td>chickenkampong</td>\n",
       "      <td>45.000000</td>\n",
       "    </tr>\n",
       "    <tr>\n",
       "      <th>22</th>\n",
       "      <td>FrailBailen</td>\n",
       "      <td>53.000000</td>\n",
       "    </tr>\n",
       "    <tr>\n",
       "      <th>23</th>\n",
       "      <td>HoundVonSurrey</td>\n",
       "      <td>49.500000</td>\n",
       "    </tr>\n",
       "    <tr>\n",
       "      <th>24</th>\n",
       "      <td>ViktorInvicta</td>\n",
       "      <td>65.000000</td>\n",
       "    </tr>\n",
       "    <tr>\n",
       "      <th>26</th>\n",
       "      <td>Kazuyuki_Owen</td>\n",
       "      <td>56.250000</td>\n",
       "    </tr>\n",
       "    <tr>\n",
       "      <th>31</th>\n",
       "      <td>MrDerps124</td>\n",
       "      <td>68.000000</td>\n",
       "    </tr>\n",
       "    <tr>\n",
       "      <th>32</th>\n",
       "      <td>5xmars</td>\n",
       "      <td>67.000000</td>\n",
       "    </tr>\n",
       "    <tr>\n",
       "      <th>33</th>\n",
       "      <td>MarioUlici200702</td>\n",
       "      <td>66.000000</td>\n",
       "    </tr>\n",
       "    <tr>\n",
       "      <th>34</th>\n",
       "      <td>Indonesia_ofMalaysia</td>\n",
       "      <td>47.333333</td>\n",
       "    </tr>\n",
       "    <tr>\n",
       "      <th>38</th>\n",
       "      <td>jgwen19</td>\n",
       "      <td>62.750000</td>\n",
       "    </tr>\n",
       "    <tr>\n",
       "      <th>42</th>\n",
       "      <td>ConesOdebrecht</td>\n",
       "      <td>71.000000</td>\n",
       "    </tr>\n",
       "    <tr>\n",
       "      <th>44</th>\n",
       "      <td>polkomgyy44</td>\n",
       "      <td>54.000000</td>\n",
       "    </tr>\n",
       "    <tr>\n",
       "      <th>46</th>\n",
       "      <td>HarArkhichen</td>\n",
       "      <td>60.500000</td>\n",
       "    </tr>\n",
       "    <tr>\n",
       "      <th>49</th>\n",
       "      <td>AERBUTE1</td>\n",
       "      <td>45.000000</td>\n",
       "    </tr>\n",
       "    <tr>\n",
       "      <th>50</th>\n",
       "      <td>mrflipsflapz</td>\n",
       "      <td>52.666667</td>\n",
       "    </tr>\n",
       "    <tr>\n",
       "      <th>51</th>\n",
       "      <td>potatoringsninja4</td>\n",
       "      <td>60.000000</td>\n",
       "    </tr>\n",
       "    <tr>\n",
       "      <th>52</th>\n",
       "      <td>jayneeddollar</td>\n",
       "      <td>59.000000</td>\n",
       "    </tr>\n",
       "    <tr>\n",
       "      <th>54</th>\n",
       "      <td>Sumardisam</td>\n",
       "      <td>61.000000</td>\n",
       "    </tr>\n",
       "    <tr>\n",
       "      <th>55</th>\n",
       "      <td>Kangcheon24</td>\n",
       "      <td>67.000000</td>\n",
       "    </tr>\n",
       "    <tr>\n",
       "      <th>56</th>\n",
       "      <td>bigshockwave99</td>\n",
       "      <td>57.000000</td>\n",
       "    </tr>\n",
       "    <tr>\n",
       "      <th>57</th>\n",
       "      <td>OblivionSectis</td>\n",
       "      <td>97.000000</td>\n",
       "    </tr>\n",
       "    <tr>\n",
       "      <th>61</th>\n",
       "      <td>ideacentre</td>\n",
       "      <td>52.000000</td>\n",
       "    </tr>\n",
       "    <tr>\n",
       "      <th>67</th>\n",
       "      <td>KisarakiTH</td>\n",
       "      <td>46.000000</td>\n",
       "    </tr>\n",
       "  </tbody>\n",
       "</table>\n",
       "</div>"
      ],
      "text/plain": [
       "                    name        avg\n",
       "1      polskathebestkraj  62.000000\n",
       "2           SeaV1per1224  63.333333\n",
       "3           jellyy112345  51.500000\n",
       "6          Oscarchoyzy24  52.400000\n",
       "9    nickthegodrider1289  50.000000\n",
       "11              Xernicus  53.200000\n",
       "13             chanmeme1  47.500000\n",
       "14               pensmen  46.000000\n",
       "15    Mitsubira_Aratoshi  68.500000\n",
       "18               Gariksz  61.333333\n",
       "19          zoommine0423  47.000000\n",
       "21        chickenkampong  45.000000\n",
       "22           FrailBailen  53.000000\n",
       "23        HoundVonSurrey  49.500000\n",
       "24         ViktorInvicta  65.000000\n",
       "26         Kazuyuki_Owen  56.250000\n",
       "31            MrDerps124  68.000000\n",
       "32                5xmars  67.000000\n",
       "33      MarioUlici200702  66.000000\n",
       "34  Indonesia_ofMalaysia  47.333333\n",
       "38               jgwen19  62.750000\n",
       "42        ConesOdebrecht  71.000000\n",
       "44           polkomgyy44  54.000000\n",
       "46          HarArkhichen  60.500000\n",
       "49              AERBUTE1  45.000000\n",
       "50          mrflipsflapz  52.666667\n",
       "51     potatoringsninja4  60.000000\n",
       "52         jayneeddollar  59.000000\n",
       "54            Sumardisam  61.000000\n",
       "55           Kangcheon24  67.000000\n",
       "56        bigshockwave99  57.000000\n",
       "57        OblivionSectis  97.000000\n",
       "61            ideacentre  52.000000\n",
       "67            KisarakiTH  46.000000"
      ]
     },
     "execution_count": 87,
     "metadata": {},
     "output_type": "execute_result"
    }
   ],
   "source": [
    "df2[df2[\"avg\"] >= 45]"
   ]
  }
 ],
 "metadata": {
  "kernelspec": {
   "display_name": "Python 3",
   "language": "python",
   "name": "python3"
  },
  "language_info": {
   "codemirror_mode": {
    "name": "ipython",
    "version": 3
   },
   "file_extension": ".py",
   "mimetype": "text/x-python",
   "name": "python",
   "nbconvert_exporter": "python",
   "pygments_lexer": "ipython3",
   "version": "3.11.9"
  }
 },
 "nbformat": 4,
 "nbformat_minor": 2
}
