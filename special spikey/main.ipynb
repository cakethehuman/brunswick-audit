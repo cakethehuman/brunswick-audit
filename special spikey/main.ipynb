{
 "cells": [
  {
   "cell_type": "code",
   "execution_count": 2,
   "metadata": {},
   "outputs": [],
   "source": [
    "import pandas as pd\n",
    "import numpy as np\n",
    "import matplotlib.pyplot as plt\n",
    "import seaborn as sns\n",
    "import scipy.stats as stats"
   ]
  },
  {
   "cell_type": "markdown",
   "metadata": {},
   "source": [
    "# reading the data"
   ]
  },
  {
   "cell_type": "code",
   "execution_count": 3,
   "metadata": {},
   "outputs": [],
   "source": [
    "df = pd.read_csv('data.csv')"
   ]
  },
  {
   "cell_type": "code",
   "execution_count": 4,
   "metadata": {},
   "outputs": [
    {
     "data": {
      "application/vnd.microsoft.datawrangler.viewer.v0+json": {
       "columns": [
        {
         "name": "index",
         "rawType": "int64",
         "type": "integer"
        },
        {
         "name": "name",
         "rawType": "object",
         "type": "string"
        },
        {
         "name": "kills",
         "rawType": "int64",
         "type": "integer"
        }
       ],
       "conversionMethod": "pd.DataFrame",
       "ref": "d524749a-a349-4bbe-b9de-212c2d1211d8",
       "rows": [
        [
         "0",
         "Dawnftb",
         "37"
        ],
        [
         "1",
         "Oscarchoyzy24",
         "24"
        ],
        [
         "2",
         "shield_4545",
         "36"
        ],
        [
         "3",
         "polkomgyy44",
         "58"
        ],
        [
         "4",
         "Kazuyuki_Owen",
         "67"
        ],
        [
         "5",
         "Cogus_0828",
         "51"
        ],
        [
         "6",
         "jamesplayztv1",
         "48"
        ],
        [
         "7",
         "aryafariziii160",
         "60"
        ],
        [
         "8",
         "rttt_1234567",
         "44"
        ],
        [
         "9",
         "WazibaXD",
         "50"
        ],
        [
         "10",
         "anathaliakdc",
         "43"
        ],
        [
         "11",
         "David_Theusless",
         "33"
        ],
        [
         "12",
         "kylemanike",
         "69"
        ],
        [
         "13",
         "Sunfull1",
         "47"
        ],
        [
         "14",
         "PekaRockRuff",
         "45"
        ],
        [
         "15",
         "jesterproandnoob",
         "60"
        ],
        [
         "16",
         "mrflipsflapz",
         "61"
        ],
        [
         "17",
         "Kunfah2012",
         "18"
        ],
        [
         "18",
         "pensmen",
         "61"
        ],
        [
         "19",
         "Xernicus",
         "23"
        ],
        [
         "20",
         "encik_Faris",
         "47"
        ],
        [
         "21",
         "hotdoges142",
         "31"
        ],
        [
         "22",
         "JEJU_0P3RAT0R",
         "50"
        ],
        [
         "23",
         "shield_4545",
         "18"
        ],
        [
         "24",
         "kite_167",
         "36"
        ],
        [
         "25",
         "Cogus_0828",
         "50"
        ],
        [
         "26",
         "Xernicus",
         "65"
        ],
        [
         "27",
         "mrflipsflapz",
         "50"
        ],
        [
         "28",
         "aryafariziii160",
         "59"
        ],
        [
         "29",
         "David_Theusless",
         "32"
        ],
        [
         "30",
         "jesterproandnoob",
         "63"
        ],
        [
         "31",
         "Kazuyuki_Owen",
         "36"
        ],
        [
         "32",
         "Fight_Strategy",
         "32"
        ],
        [
         "33",
         "anathaliakdc",
         "29"
        ],
        [
         "34",
         "Haloinqsss",
         "27"
        ],
        [
         "35",
         "PixelMangos",
         "30"
        ],
        [
         "36",
         "raka6792",
         "34"
        ],
        [
         "37",
         "Sunfull1",
         "46"
        ],
        [
         "38",
         "polkomgyy44",
         "62"
        ],
        [
         "39",
         "rttt_1234567",
         "51"
        ],
        [
         "40",
         "jamesplayztv1",
         "52"
        ],
        [
         "41",
         "pensmen",
         "70"
        ],
        [
         "42",
         "commander_cookie1234",
         "35"
        ],
        [
         "43",
         "nickthegodrider1289",
         "43"
        ],
        [
         "44",
         "Oscarchoyzy24",
         "77"
        ],
        [
         "45",
         "pioluisconrado",
         "8"
        ],
        [
         "46",
         "Dawnftb",
         "50"
        ],
        [
         "47",
         "polkomgyy44",
         "60"
        ],
        [
         "48",
         "jiajun129",
         "42"
        ],
        [
         "49",
         "jesterproandnoob",
         "72"
        ]
       ],
       "shape": {
        "columns": 2,
        "rows": 167
       }
      },
      "text/html": [
       "<div>\n",
       "<style scoped>\n",
       "    .dataframe tbody tr th:only-of-type {\n",
       "        vertical-align: middle;\n",
       "    }\n",
       "\n",
       "    .dataframe tbody tr th {\n",
       "        vertical-align: top;\n",
       "    }\n",
       "\n",
       "    .dataframe thead th {\n",
       "        text-align: right;\n",
       "    }\n",
       "</style>\n",
       "<table border=\"1\" class=\"dataframe\">\n",
       "  <thead>\n",
       "    <tr style=\"text-align: right;\">\n",
       "      <th></th>\n",
       "      <th>name</th>\n",
       "      <th>kills</th>\n",
       "    </tr>\n",
       "  </thead>\n",
       "  <tbody>\n",
       "    <tr>\n",
       "      <th>0</th>\n",
       "      <td>Dawnftb</td>\n",
       "      <td>37</td>\n",
       "    </tr>\n",
       "    <tr>\n",
       "      <th>1</th>\n",
       "      <td>Oscarchoyzy24</td>\n",
       "      <td>24</td>\n",
       "    </tr>\n",
       "    <tr>\n",
       "      <th>2</th>\n",
       "      <td>shield_4545</td>\n",
       "      <td>36</td>\n",
       "    </tr>\n",
       "    <tr>\n",
       "      <th>3</th>\n",
       "      <td>polkomgyy44</td>\n",
       "      <td>58</td>\n",
       "    </tr>\n",
       "    <tr>\n",
       "      <th>4</th>\n",
       "      <td>Kazuyuki_Owen</td>\n",
       "      <td>67</td>\n",
       "    </tr>\n",
       "    <tr>\n",
       "      <th>...</th>\n",
       "      <td>...</td>\n",
       "      <td>...</td>\n",
       "    </tr>\n",
       "    <tr>\n",
       "      <th>162</th>\n",
       "      <td>AERBUTE1</td>\n",
       "      <td>11</td>\n",
       "    </tr>\n",
       "    <tr>\n",
       "      <th>163</th>\n",
       "      <td>siwoo130212</td>\n",
       "      <td>24</td>\n",
       "    </tr>\n",
       "    <tr>\n",
       "      <th>164</th>\n",
       "      <td>100gnoo</td>\n",
       "      <td>7</td>\n",
       "    </tr>\n",
       "    <tr>\n",
       "      <th>165</th>\n",
       "      <td>Idea</td>\n",
       "      <td>37</td>\n",
       "    </tr>\n",
       "    <tr>\n",
       "      <th>166</th>\n",
       "      <td>mralex111012</td>\n",
       "      <td>60</td>\n",
       "    </tr>\n",
       "  </tbody>\n",
       "</table>\n",
       "<p>167 rows × 2 columns</p>\n",
       "</div>"
      ],
      "text/plain": [
       "              name  kills\n",
       "0          Dawnftb     37\n",
       "1    Oscarchoyzy24     24\n",
       "2      shield_4545     36\n",
       "3      polkomgyy44     58\n",
       "4    Kazuyuki_Owen     67\n",
       "..             ...    ...\n",
       "162       AERBUTE1     11\n",
       "163    siwoo130212     24\n",
       "164        100gnoo      7\n",
       "165           Idea     37\n",
       "166   mralex111012     60\n",
       "\n",
       "[167 rows x 2 columns]"
      ]
     },
     "execution_count": 4,
     "metadata": {},
     "output_type": "execute_result"
    }
   ],
   "source": [
    "df"
   ]
  },
  {
   "cell_type": "markdown",
   "metadata": {},
   "source": [
    "# Top 10 attandence in the week"
   ]
  },
  {
   "cell_type": "code",
   "execution_count": 5,
   "metadata": {},
   "outputs": [
    {
     "data": {
      "image/png": "[encoded data removed]",
      "text/plain": [
       "<Figure size 1000x500 with 1 Axes>"
      ]
     },
     "metadata": {},
     "output_type": "display_data"
    }
   ],
   "source": [
    "plt.figure(figsize=(10, 5)) \n",
    "df[\"name\"].value_counts().nlargest(10).plot(kind='bar',colormap='viridis')\n",
    "plt.title(\"Attendance by Name\")\n",
    "plt.xlabel(\"Name\")\n",
    "plt.ylabel(\"Attendance\")\n",
    "plt.savefig('attadance_by_name.png',dpi=200,bbox_inches='tight')\n",
    "\n"
   ]
  },
  {
   "cell_type": "markdown",
   "metadata": {},
   "source": [
    "# avg attadance for the week"
   ]
  },
  {
   "cell_type": "code",
   "execution_count": 6,
   "metadata": {},
   "outputs": [
    {
     "data": {
      "text/plain": [
       "2"
      ]
     },
     "execution_count": 6,
     "metadata": {},
     "output_type": "execute_result"
    }
   ],
   "source": [
    "round(df[\"name\"].value_counts().mean())"
   ]
  },
  {
   "cell_type": "markdown",
   "metadata": {},
   "source": [
    "# find a {user} there attadance"
   ]
  },
  {
   "cell_type": "code",
   "execution_count": 7,
   "metadata": {},
   "outputs": [
    {
     "data": {
      "application/vnd.microsoft.datawrangler.viewer.v0+json": {
       "columns": [
        {
         "name": "index",
         "rawType": "int64",
         "type": "integer"
        },
        {
         "name": "name",
         "rawType": "object",
         "type": "string"
        },
        {
         "name": "kills",
         "rawType": "int64",
         "type": "integer"
        }
       ],
       "conversionMethod": "pd.DataFrame",
       "ref": "eb2c02cd-3c0d-4fd2-9dcf-2d1e595195c3",
       "rows": [
        [
         "16",
         "mrflipsflapz",
         "61"
        ],
        [
         "27",
         "mrflipsflapz",
         "50"
        ],
        [
         "69",
         "mrflipsflapz",
         "52"
        ],
        [
         "115",
         "mrflipsflapz",
         "58"
        ],
        [
         "124",
         "mrflipsflapz",
         "74"
        ]
       ],
       "shape": {
        "columns": 2,
        "rows": 5
       }
      },
      "text/html": [
       "<div>\n",
       "<style scoped>\n",
       "    .dataframe tbody tr th:only-of-type {\n",
       "        vertical-align: middle;\n",
       "    }\n",
       "\n",
       "    .dataframe tbody tr th {\n",
       "        vertical-align: top;\n",
       "    }\n",
       "\n",
       "    .dataframe thead th {\n",
       "        text-align: right;\n",
       "    }\n",
       "</style>\n",
       "<table border=\"1\" class=\"dataframe\">\n",
       "  <thead>\n",
       "    <tr style=\"text-align: right;\">\n",
       "      <th></th>\n",
       "      <th>name</th>\n",
       "      <th>kills</th>\n",
       "    </tr>\n",
       "  </thead>\n",
       "  <tbody>\n",
       "    <tr>\n",
       "      <th>16</th>\n",
       "      <td>mrflipsflapz</td>\n",
       "      <td>61</td>\n",
       "    </tr>\n",
       "    <tr>\n",
       "      <th>27</th>\n",
       "      <td>mrflipsflapz</td>\n",
       "      <td>50</td>\n",
       "    </tr>\n",
       "    <tr>\n",
       "      <th>69</th>\n",
       "      <td>mrflipsflapz</td>\n",
       "      <td>52</td>\n",
       "    </tr>\n",
       "    <tr>\n",
       "      <th>115</th>\n",
       "      <td>mrflipsflapz</td>\n",
       "      <td>58</td>\n",
       "    </tr>\n",
       "    <tr>\n",
       "      <th>124</th>\n",
       "      <td>mrflipsflapz</td>\n",
       "      <td>74</td>\n",
       "    </tr>\n",
       "  </tbody>\n",
       "</table>\n",
       "</div>"
      ],
      "text/plain": [
       "             name  kills\n",
       "16   mrflipsflapz     61\n",
       "27   mrflipsflapz     50\n",
       "69   mrflipsflapz     52\n",
       "115  mrflipsflapz     58\n",
       "124  mrflipsflapz     74"
      ]
     },
     "execution_count": 7,
     "metadata": {},
     "output_type": "execute_result"
    }
   ],
   "source": [
    "df[df['name'] == \"mrflipsflapz\"]\n"
   ]
  },
  {
   "cell_type": "markdown",
   "metadata": {},
   "source": [
    "# attadance for 1 week that is x >= 3\n",
    "\n"
   ]
  },
  {
   "cell_type": "code",
   "execution_count": 8,
   "metadata": {},
   "outputs": [
    {
     "data": {
      "text/plain": [
       "np.int64(5)"
      ]
     },
     "execution_count": 8,
     "metadata": {},
     "output_type": "execute_result"
    }
   ],
   "source": [
    "df[df[\"name\"] == \"mrflipsflapz\"].value_counts().sum()"
   ]
  },
  {
   "cell_type": "code",
   "execution_count": 9,
   "metadata": {},
   "outputs": [],
   "source": [
    "attandace = df[df[\"name\"] == \"mrflipsflapz\"].value_counts().sum()"
   ]
  },
  {
   "cell_type": "code",
   "execution_count": 10,
   "metadata": {},
   "outputs": [
    {
     "data": {
      "text/plain": [
       "name\n",
       "Kazuyuki_Owen           True\n",
       "rttt_1234567            True\n",
       "Cogus_0828              True\n",
       "mrflipsflapz            True\n",
       "jesterproandnoob        True\n",
       "Xernicus                True\n",
       "Sunfull1                True\n",
       "Dawnftb                 True\n",
       "Oscarchoyzy24           True\n",
       "pensmen                 True\n",
       "anathaliakdc            True\n",
       "polkomgyy44             True\n",
       "jamesplayztv1           True\n",
       "nickthegodrider1289     True\n",
       "aryafariziii160         True\n",
       "David_Theusless         True\n",
       "shield_4545             True\n",
       "Fight_Strategy          True\n",
       "JEJU_0P3RAT0R           True\n",
       "PixelMangos             True\n",
       "HarArkhichen            True\n",
       "pancake_w1              True\n",
       "commander_cookie1234    True\n",
       "kite_167                True\n",
       "Name: count, dtype: bool"
      ]
     },
     "execution_count": 10,
     "metadata": {},
     "output_type": "execute_result"
    }
   ],
   "source": [
    "check_attadance = df[\"name\"].value_counts() >= 3\n",
    "check_attadance.map({True: 1, False: 0})\n",
    "check_attadance[check_attadance == 1]\n"
   ]
  },
  {
   "cell_type": "markdown",
   "metadata": {},
   "source": [
    "# kills info"
   ]
  },
  {
   "cell_type": "code",
   "execution_count": 11,
   "metadata": {},
   "outputs": [
    {
     "name": "stdout",
     "output_type": "stream",
     "text": [
      "The average kills for everyone is:  43.5\n"
     ]
    }
   ],
   "source": [
    "avg_kills_everyone = df[\"kills\"].mean()\n",
    "print(\"The average kills for everyone is: \", round(avg_kills_everyone,1))"
   ]
  },
  {
   "cell_type": "code",
   "execution_count": 12,
   "metadata": {},
   "outputs": [
    {
     "data": {
      "application/vnd.microsoft.datawrangler.viewer.v0+json": {
       "columns": [
        {
         "name": "index",
         "rawType": "int64",
         "type": "integer"
        },
        {
         "name": "name",
         "rawType": "object",
         "type": "string"
        },
        {
         "name": "kills",
         "rawType": "int64",
         "type": "integer"
        }
       ],
       "conversionMethod": "pd.DataFrame",
       "ref": "3ccaf422-1c65-4bd9-bf07-313c1013a3e9",
       "rows": [
        [
         "3",
         "polkomgyy44",
         "58"
        ],
        [
         "38",
         "polkomgyy44",
         "62"
        ],
        [
         "47",
         "polkomgyy44",
         "60"
        ],
        [
         "117",
         "polkomgyy44",
         "57"
        ]
       ],
       "shape": {
        "columns": 2,
        "rows": 4
       }
      },
      "text/html": [
       "<div>\n",
       "<style scoped>\n",
       "    .dataframe tbody tr th:only-of-type {\n",
       "        vertical-align: middle;\n",
       "    }\n",
       "\n",
       "    .dataframe tbody tr th {\n",
       "        vertical-align: top;\n",
       "    }\n",
       "\n",
       "    .dataframe thead th {\n",
       "        text-align: right;\n",
       "    }\n",
       "</style>\n",
       "<table border=\"1\" class=\"dataframe\">\n",
       "  <thead>\n",
       "    <tr style=\"text-align: right;\">\n",
       "      <th></th>\n",
       "      <th>name</th>\n",
       "      <th>kills</th>\n",
       "    </tr>\n",
       "  </thead>\n",
       "  <tbody>\n",
       "    <tr>\n",
       "      <th>3</th>\n",
       "      <td>polkomgyy44</td>\n",
       "      <td>58</td>\n",
       "    </tr>\n",
       "    <tr>\n",
       "      <th>38</th>\n",
       "      <td>polkomgyy44</td>\n",
       "      <td>62</td>\n",
       "    </tr>\n",
       "    <tr>\n",
       "      <th>47</th>\n",
       "      <td>polkomgyy44</td>\n",
       "      <td>60</td>\n",
       "    </tr>\n",
       "    <tr>\n",
       "      <th>117</th>\n",
       "      <td>polkomgyy44</td>\n",
       "      <td>57</td>\n",
       "    </tr>\n",
       "  </tbody>\n",
       "</table>\n",
       "</div>"
      ],
      "text/plain": [
       "            name  kills\n",
       "3    polkomgyy44     58\n",
       "38   polkomgyy44     62\n",
       "47   polkomgyy44     60\n",
       "117  polkomgyy44     57"
      ]
     },
     "execution_count": 12,
     "metadata": {},
     "output_type": "execute_result"
    }
   ],
   "source": [
    "df[df[\"name\"] == \"polkomgyy44\"]"
   ]
  },
  {
   "cell_type": "code",
   "execution_count": 13,
   "metadata": {},
   "outputs": [
    {
     "data": {
      "application/vnd.microsoft.datawrangler.viewer.v0+json": {
       "columns": [
        {
         "name": "index",
         "rawType": "int64",
         "type": "integer"
        },
        {
         "name": "name",
         "rawType": "object",
         "type": "string"
        },
        {
         "name": "kills",
         "rawType": "int64",
         "type": "integer"
        }
       ],
       "conversionMethod": "pd.DataFrame",
       "ref": "4d820595-d328-4058-b170-e4907023700f",
       "rows": [
        [
         "0",
         "Dawnftb",
         "37"
        ],
        [
         "1",
         "Oscarchoyzy24",
         "24"
        ],
        [
         "2",
         "shield_4545",
         "36"
        ],
        [
         "3",
         "polkomgyy44",
         "58"
        ],
        [
         "4",
         "Kazuyuki_Owen",
         "67"
        ],
        [
         "5",
         "Cogus_0828",
         "51"
        ],
        [
         "6",
         "jamesplayztv1",
         "48"
        ],
        [
         "7",
         "aryafariziii160",
         "60"
        ],
        [
         "8",
         "rttt_1234567",
         "44"
        ],
        [
         "9",
         "WazibaXD",
         "50"
        ],
        [
         "10",
         "anathaliakdc",
         "43"
        ],
        [
         "11",
         "David_Theusless",
         "33"
        ],
        [
         "12",
         "kylemanike",
         "69"
        ],
        [
         "13",
         "Sunfull1",
         "47"
        ],
        [
         "14",
         "PekaRockRuff",
         "45"
        ],
        [
         "15",
         "jesterproandnoob",
         "60"
        ],
        [
         "16",
         "mrflipsflapz",
         "61"
        ],
        [
         "17",
         "Kunfah2012",
         "18"
        ],
        [
         "18",
         "pensmen",
         "61"
        ],
        [
         "19",
         "Xernicus",
         "23"
        ],
        [
         "20",
         "encik_Faris",
         "47"
        ],
        [
         "21",
         "hotdoges142",
         "31"
        ],
        [
         "22",
         "JEJU_0P3RAT0R",
         "50"
        ],
        [
         "23",
         "shield_4545",
         "18"
        ],
        [
         "24",
         "kite_167",
         "36"
        ],
        [
         "25",
         "Cogus_0828",
         "50"
        ],
        [
         "26",
         "Xernicus",
         "65"
        ],
        [
         "27",
         "mrflipsflapz",
         "50"
        ],
        [
         "28",
         "aryafariziii160",
         "59"
        ],
        [
         "29",
         "David_Theusless",
         "32"
        ],
        [
         "30",
         "jesterproandnoob",
         "63"
        ],
        [
         "31",
         "Kazuyuki_Owen",
         "36"
        ],
        [
         "32",
         "Fight_Strategy",
         "32"
        ],
        [
         "33",
         "anathaliakdc",
         "29"
        ],
        [
         "34",
         "Haloinqsss",
         "27"
        ],
        [
         "35",
         "PixelMangos",
         "30"
        ],
        [
         "36",
         "raka6792",
         "34"
        ],
        [
         "37",
         "Sunfull1",
         "46"
        ],
        [
         "38",
         "polkomgyy44",
         "62"
        ],
        [
         "39",
         "rttt_1234567",
         "51"
        ],
        [
         "40",
         "jamesplayztv1",
         "52"
        ],
        [
         "41",
         "pensmen",
         "70"
        ],
        [
         "42",
         "commander_cookie1234",
         "35"
        ],
        [
         "43",
         "nickthegodrider1289",
         "43"
        ],
        [
         "44",
         "Oscarchoyzy24",
         "77"
        ],
        [
         "45",
         "pioluisconrado",
         "8"
        ],
        [
         "46",
         "Dawnftb",
         "50"
        ],
        [
         "47",
         "polkomgyy44",
         "60"
        ],
        [
         "48",
         "jiajun129",
         "42"
        ],
        [
         "49",
         "jesterproandnoob",
         "72"
        ]
       ],
       "shape": {
        "columns": 2,
        "rows": 167
       }
      },
      "text/html": [
       "<div>\n",
       "<style scoped>\n",
       "    .dataframe tbody tr th:only-of-type {\n",
       "        vertical-align: middle;\n",
       "    }\n",
       "\n",
       "    .dataframe tbody tr th {\n",
       "        vertical-align: top;\n",
       "    }\n",
       "\n",
       "    .dataframe thead th {\n",
       "        text-align: right;\n",
       "    }\n",
       "</style>\n",
       "<table border=\"1\" class=\"dataframe\">\n",
       "  <thead>\n",
       "    <tr style=\"text-align: right;\">\n",
       "      <th></th>\n",
       "      <th>name</th>\n",
       "      <th>kills</th>\n",
       "    </tr>\n",
       "  </thead>\n",
       "  <tbody>\n",
       "    <tr>\n",
       "      <th>0</th>\n",
       "      <td>Dawnftb</td>\n",
       "      <td>37</td>\n",
       "    </tr>\n",
       "    <tr>\n",
       "      <th>1</th>\n",
       "      <td>Oscarchoyzy24</td>\n",
       "      <td>24</td>\n",
       "    </tr>\n",
       "    <tr>\n",
       "      <th>2</th>\n",
       "      <td>shield_4545</td>\n",
       "      <td>36</td>\n",
       "    </tr>\n",
       "    <tr>\n",
       "      <th>3</th>\n",
       "      <td>polkomgyy44</td>\n",
       "      <td>58</td>\n",
       "    </tr>\n",
       "    <tr>\n",
       "      <th>4</th>\n",
       "      <td>Kazuyuki_Owen</td>\n",
       "      <td>67</td>\n",
       "    </tr>\n",
       "    <tr>\n",
       "      <th>...</th>\n",
       "      <td>...</td>\n",
       "      <td>...</td>\n",
       "    </tr>\n",
       "    <tr>\n",
       "      <th>162</th>\n",
       "      <td>AERBUTE1</td>\n",
       "      <td>11</td>\n",
       "    </tr>\n",
       "    <tr>\n",
       "      <th>163</th>\n",
       "      <td>siwoo130212</td>\n",
       "      <td>24</td>\n",
       "    </tr>\n",
       "    <tr>\n",
       "      <th>164</th>\n",
       "      <td>100gnoo</td>\n",
       "      <td>7</td>\n",
       "    </tr>\n",
       "    <tr>\n",
       "      <th>165</th>\n",
       "      <td>Idea</td>\n",
       "      <td>37</td>\n",
       "    </tr>\n",
       "    <tr>\n",
       "      <th>166</th>\n",
       "      <td>mralex111012</td>\n",
       "      <td>60</td>\n",
       "    </tr>\n",
       "  </tbody>\n",
       "</table>\n",
       "<p>167 rows × 2 columns</p>\n",
       "</div>"
      ],
      "text/plain": [
       "              name  kills\n",
       "0          Dawnftb     37\n",
       "1    Oscarchoyzy24     24\n",
       "2      shield_4545     36\n",
       "3      polkomgyy44     58\n",
       "4    Kazuyuki_Owen     67\n",
       "..             ...    ...\n",
       "162       AERBUTE1     11\n",
       "163    siwoo130212     24\n",
       "164        100gnoo      7\n",
       "165           Idea     37\n",
       "166   mralex111012     60\n",
       "\n",
       "[167 rows x 2 columns]"
      ]
     },
     "execution_count": 13,
     "metadata": {},
     "output_type": "execute_result"
    }
   ],
   "source": [
    "df"
   ]
  },
  {
   "cell_type": "code",
   "execution_count": 14,
   "metadata": {},
   "outputs": [
    {
     "data": {
      "text/plain": [
       "kills\n",
       "61    1\n",
       "50    1\n",
       "52    1\n",
       "58    1\n",
       "74    1\n",
       "Name: count, dtype: int64"
      ]
     },
     "execution_count": 14,
     "metadata": {},
     "output_type": "execute_result"
    }
   ],
   "source": [
    "x = df[df[\"name\"] == \"mrflipsflapz\"]\n",
    "x[\"kills\"].value_counts()"
   ]
  },
  {
   "cell_type": "code",
   "execution_count": 15,
   "metadata": {},
   "outputs": [
    {
     "data": {
      "text/plain": [
       "Text(0.5, 1.0, 'Kills by Name')"
      ]
     },
     "execution_count": 15,
     "metadata": {},
     "output_type": "execute_result"
    },
    {
     "data": {
      "image/png": "[encoded data removed]",
      "text/plain": [
       "<Figure size 640x480 with 1 Axes>"
      ]
     },
     "metadata": {},
     "output_type": "display_data"
    }
   ],
   "source": [
    "plt.bar(x[\"name\"], x[\"kills\"])\n",
    "plt.title(\"Kills by Name\")"
   ]
  },
  {
   "cell_type": "markdown",
   "metadata": {},
   "source": [
    "# everyone avg"
   ]
  },
  {
   "cell_type": "code",
   "execution_count": 16,
   "metadata": {},
   "outputs": [
    {
     "name": "stdout",
     "output_type": "stream",
     "text": [
      "Dawnftb:🟠32.5\n",
      "Oscarchoyzy24:🟢51.8\n",
      "shield_4545:🟠24.3\n",
      "polkomgyy44:🔵59.2\n",
      "Kazuyuki_Owen:🟢50.6\n",
      "Cogus_0828:🟡42.0\n",
      "jamesplayztv1:🟢50.2\n",
      "aryafariziii160:🔵56.3\n",
      "rttt_1234567:🟡35.4\n",
      "WazibaXD:🟢50.0\n",
      "anathaliakdc:🟠33.8\n",
      "David_Theusless:🟠31.0\n",
      "kylemanike:🔵69.0\n",
      "Sunfull1:🟡39.4\n",
      "PekaRockRuff:🟢45.0\n",
      "jesterproandnoob:🔵62.8\n",
      "mrflipsflapz:🔵59.0\n",
      "Kunfah2012:🔴18.0\n",
      "pensmen:🔵65.8\n",
      "Xernicus:🟡38.2\n",
      "encik_Faris:🟢47.0\n",
      "hotdoges142:🟠31.0\n",
      "JEJU_0P3RAT0R:🔵56.0\n",
      "kite_167:🟡38.3\n",
      "Fight_Strategy:🟠27.3\n",
      "Haloinqsss:🟡43.0\n",
      "PixelMangos:🟠24.0\n",
      "raka6792:🟠30.5\n",
      "commander_cookie1234:🟢45.3\n",
      "nickthegodrider1289:🟢54.2\n",
      "pioluisconrado:🔴8.0\n",
      "jiajun129:🟡42.0\n",
      "SGTjmtzy:🔴13.0\n",
      "bigshockwave99:🔵59.0\n",
      "Tejshun_gaming12:🟢50.0\n",
      "SeaV1per1224:🔵71.0\n",
      "pancake_w1:🟡38.0\n",
      "mahoney134:🟢47.0\n",
      "CommanderHikari:🟡44.0\n",
      "DaReal_Shradicle:🟡39.5\n",
      "HarArkhichen:🔵77.0\n",
      "chanmeme1:🔵65.0\n",
      "Wancare:🟢49.0\n",
      "kurtdylan1111:🟠25.0\n",
      "farooq7242:🟠21.0\n",
      "diwdwoa:🔴19.5\n",
      "Ryiodelia:🟠26.0\n",
      "KOREASKRR0:🟠21.0\n",
      "dsastetmfvm:🔵71.0\n",
      "100gnoo:🔴14.0\n",
      "BLACK_Jade021:🟠24.0\n",
      "hambaby_X:🟡35.0\n",
      "HAPPY27259:🔵73.0\n",
      "1owo164:🟠29.0\n",
      "kf21rotc2:🔴13.0\n",
      "Chanseoni:🟡44.0\n",
      "korea199019:🟠31.5\n",
      "abigbadxmas3:🔵57.0\n",
      "CMDKMOMM:🟢47.0\n",
      "Luqman_indo:🟠21.0\n",
      "jellyy112345:🟡35.0\n",
      "114514adlingyang:🟠32.0\n",
      "memeisgod1234567:🟠23.0\n",
      "IceBlox_Officical:🟠26.0\n",
      "OblivionSectis:🔵103.0\n",
      "DecayingArmor:🟢46.0\n",
      "supermanakmeeee_twin:🟢52.0\n",
      "JimmyHenadezJunior:🔴4.0\n",
      "ToothlessXD123:🔵73.0\n",
      "jayneeddollar:🔵57.0\n",
      "wninju:🔵60.0\n",
      "Gariksz:🟢54.0\n",
      "farishmueid:🟡41.0\n",
      "GildedMikado:🔵61.0\n",
      "haya201215:🔴6.0\n",
      "XD_zaTH:🔵57.0\n",
      "FellSawp:🟡38.0\n",
      "officerngelo:🔴18.0\n",
      "ICKATA2008:🔵78.0\n",
      "takutoa02:🟢47.0\n",
      "Tutel_54371:🟠30.0\n",
      "elementhknight123:🔵67.0\n",
      "lnconvenience1:🟠25.0\n",
      "r4_bt:🔵65.0\n",
      "Reopang:🟠27.0\n",
      "AERBUTE1:🔴11.0\n",
      "siwoo130212:🟠24.0\n",
      "Idea:🟡37.0\n",
      "mralex111012:🔵60.0\n"
     ]
    }
   ],
   "source": [
    "names = df[\"name\"].unique()\n",
    "for i in names:\n",
    "    find_avg_everyone = df[df[\"name\"] == i]\n",
    "    if find_avg_everyone['kills'].mean() <= 20:\n",
    "        print(f\"{i}:🔴{round(find_avg_everyone['kills'].mean(),1)}\")\n",
    "    elif find_avg_everyone['kills'].mean() < 35:\n",
    "        print(f\"{i}:🟠{round(find_avg_everyone['kills'].mean(),1)}\")\n",
    "    elif find_avg_everyone['kills'].mean() >= 35 and find_avg_everyone['kills'].mean() < 45:\n",
    "        print(f\"{i}:🟡{round(find_avg_everyone['kills'].mean(),1)}\")\n",
    "    elif find_avg_everyone['kills'].mean() >= 45 and find_avg_everyone['kills'].mean() <= 55:\n",
    "        print(f\"{i}:🟢{round(find_avg_everyone['kills'].mean(),1)}\")\n",
    "    elif find_avg_everyone['kills'].mean() >= 55:\n",
    "            print(f\"{i}:🔵{round(find_avg_everyone['kills'].mean(),1)}\")\n",
    "    else:\n",
    "        print(f\"{i}:❤️{round(find_avg_everyone['kills'].mean(),1)}\")\n",
    "        \n",
    "        \n",
    "        \n",
    " # Create a new csv file with the average kills,attandance and color code\n",
    " # hi spikey      \n",
    "        \n",
    "    \n",
    "with open(\"avg.csv\",\"w\",encoding='utf-8') as file:\n",
    "    file.write(\"color_code,name,avg,atd\\n\")\n",
    "    \n",
    "    for i in names:\n",
    "        attandace = df[df[\"name\"] == i].value_counts().sum()\n",
    "        find_avg_everyone = df[df[\"name\"] == i]\n",
    "        \n",
    "        if find_avg_everyone['kills'].mean() <= 20:\n",
    "            file.write(f\"🔴,{i},{round(find_avg_everyone['kills'].mean(),1)},{attandace}\\n\")\n",
    "            \n",
    "        elif find_avg_everyone['kills'].mean() < 35:\n",
    "            file.write(f\"🟠,{i},{round(find_avg_everyone['kills'].mean(),1)},{attandace}\\n\")\n",
    "            \n",
    "        elif find_avg_everyone['kills'].mean() >= 35 and find_avg_everyone['kills'].mean() < 45:\n",
    "            file.write(f\"🟡,{i},{round(find_avg_everyone['kills'].mean(),1)},{attandace}\\n\")\n",
    "            \n",
    "        elif find_avg_everyone['kills'].mean() >= 45 and find_avg_everyone['kills'].mean() <= 55:\n",
    "            file.write(f\"🟢,{i},{round(find_avg_everyone['kills'].mean(),1)},{attandace}\\n\")\n",
    "        elif find_avg_everyone['kills'].mean() >= 55:\n",
    "            file.write(f\"🔵,{i},{round(find_avg_everyone['kills'].mean(),1)},{attandace}\\n\")\n",
    "        else:\n",
    "            file.write(f\"🩷,{i},{round(find_avg_everyone['kills'].mean(),1)},{attandace}\\n\")\n",
    "            \n",
    "    #file.write(\"The meaning of the colors are:\\n :red_circle: = 0-20\\n :orange_circle: = 20-34\\n :yellow_circle: = 35-44\\n :green_circle: = 45-55\\n :blue_circle: = 56-100\")\n",
    "    \n",
    "    "
   ]
  },
  {
   "cell_type": "code",
   "execution_count": 17,
   "metadata": {},
   "outputs": [
    {
     "data": {
      "application/vnd.microsoft.datawrangler.viewer.v0+json": {
       "columns": [
        {
         "name": "index",
         "rawType": "int64",
         "type": "integer"
        },
        {
         "name": "color_code",
         "rawType": "object",
         "type": "string"
        },
        {
         "name": "name",
         "rawType": "object",
         "type": "string"
        },
        {
         "name": "avg",
         "rawType": "float64",
         "type": "float"
        },
        {
         "name": "atd",
         "rawType": "int64",
         "type": "integer"
        }
       ],
       "conversionMethod": "pd.DataFrame",
       "ref": "ecf4a2f1-367c-42a3-a054-765c72563d01",
       "rows": [
        [
         "0",
         "🟠",
         "Dawnftb",
         "32.5",
         "4"
        ],
        [
         "1",
         "🟢",
         "Oscarchoyzy24",
         "51.8",
         "4"
        ],
        [
         "2",
         "🟠",
         "shield_4545",
         "24.3",
         "3"
        ],
        [
         "3",
         "🔵",
         "polkomgyy44",
         "59.2",
         "4"
        ],
        [
         "4",
         "🟢",
         "Kazuyuki_Owen",
         "50.6",
         "5"
        ],
        [
         "5",
         "🟡",
         "Cogus_0828",
         "42.0",
         "5"
        ],
        [
         "6",
         "🟢",
         "jamesplayztv1",
         "50.2",
         "4"
        ],
        [
         "7",
         "🔵",
         "aryafariziii160",
         "56.3",
         "3"
        ],
        [
         "8",
         "🟡",
         "rttt_1234567",
         "35.4",
         "5"
        ],
        [
         "9",
         "🟢",
         "WazibaXD",
         "50.0",
         "1"
        ],
        [
         "10",
         "🟠",
         "anathaliakdc",
         "33.8",
         "4"
        ],
        [
         "11",
         "🟠",
         "David_Theusless",
         "31.0",
         "3"
        ],
        [
         "12",
         "🔵",
         "kylemanike",
         "69.0",
         "1"
        ],
        [
         "13",
         "🟡",
         "Sunfull1",
         "39.4",
         "5"
        ],
        [
         "14",
         "🟢",
         "PekaRockRuff",
         "45.0",
         "1"
        ],
        [
         "15",
         "🔵",
         "jesterproandnoob",
         "62.8",
         "5"
        ],
        [
         "16",
         "🔵",
         "mrflipsflapz",
         "59.0",
         "5"
        ],
        [
         "17",
         "🔴",
         "Kunfah2012",
         "18.0",
         "1"
        ],
        [
         "18",
         "🔵",
         "pensmen",
         "65.8",
         "4"
        ],
        [
         "19",
         "🟡",
         "Xernicus",
         "38.2",
         "5"
        ],
        [
         "20",
         "🟢",
         "encik_Faris",
         "47.0",
         "1"
        ],
        [
         "21",
         "🟠",
         "hotdoges142",
         "31.0",
         "1"
        ],
        [
         "22",
         "🔵",
         "JEJU_0P3RAT0R",
         "56.0",
         "3"
        ],
        [
         "23",
         "🟡",
         "kite_167",
         "38.3",
         "3"
        ],
        [
         "24",
         "🟠",
         "Fight_Strategy",
         "27.3",
         "3"
        ],
        [
         "25",
         "🟡",
         "Haloinqsss",
         "43.0",
         "2"
        ],
        [
         "26",
         "🟠",
         "PixelMangos",
         "24.0",
         "3"
        ],
        [
         "27",
         "🟠",
         "raka6792",
         "30.5",
         "2"
        ],
        [
         "28",
         "🟢",
         "commander_cookie1234",
         "45.3",
         "3"
        ],
        [
         "29",
         "🟢",
         "nickthegodrider1289",
         "54.2",
         "4"
        ],
        [
         "30",
         "🔴",
         "pioluisconrado",
         "8.0",
         "1"
        ],
        [
         "31",
         "🟡",
         "jiajun129",
         "42.0",
         "1"
        ],
        [
         "32",
         "🔴",
         "SGTjmtzy",
         "13.0",
         "1"
        ],
        [
         "33",
         "🔵",
         "bigshockwave99",
         "59.0",
         "1"
        ],
        [
         "34",
         "🟢",
         "Tejshun_gaming12",
         "50.0",
         "1"
        ],
        [
         "35",
         "🔵",
         "SeaV1per1224",
         "71.0",
         "2"
        ],
        [
         "36",
         "🟡",
         "pancake_w1",
         "38.0",
         "3"
        ],
        [
         "37",
         "🟢",
         "mahoney134",
         "47.0",
         "1"
        ],
        [
         "38",
         "🟡",
         "CommanderHikari",
         "44.0",
         "1"
        ],
        [
         "39",
         "🟡",
         "DaReal_Shradicle",
         "39.5",
         "2"
        ],
        [
         "40",
         "🔵",
         "HarArkhichen",
         "77.0",
         "3"
        ],
        [
         "41",
         "🔵",
         "chanmeme1",
         "65.0",
         "1"
        ],
        [
         "42",
         "🟢",
         "Wancare",
         "49.0",
         "1"
        ],
        [
         "43",
         "🟠",
         "kurtdylan1111",
         "25.0",
         "1"
        ],
        [
         "44",
         "🟠",
         "farooq7242",
         "21.0",
         "1"
        ],
        [
         "45",
         "🔴",
         "diwdwoa",
         "19.5",
         "2"
        ],
        [
         "46",
         "🟠",
         "Ryiodelia",
         "26.0",
         "1"
        ],
        [
         "47",
         "🟠",
         "KOREASKRR0",
         "21.0",
         "1"
        ],
        [
         "48",
         "🔵",
         "dsastetmfvm",
         "71.0",
         "1"
        ],
        [
         "49",
         "🔴",
         "100gnoo",
         "14.0",
         "2"
        ]
       ],
       "shape": {
        "columns": 4,
        "rows": 89
       }
      },
      "text/html": [
       "<div>\n",
       "<style scoped>\n",
       "    .dataframe tbody tr th:only-of-type {\n",
       "        vertical-align: middle;\n",
       "    }\n",
       "\n",
       "    .dataframe tbody tr th {\n",
       "        vertical-align: top;\n",
       "    }\n",
       "\n",
       "    .dataframe thead th {\n",
       "        text-align: right;\n",
       "    }\n",
       "</style>\n",
       "<table border=\"1\" class=\"dataframe\">\n",
       "  <thead>\n",
       "    <tr style=\"text-align: right;\">\n",
       "      <th></th>\n",
       "      <th>color_code</th>\n",
       "      <th>name</th>\n",
       "      <th>avg</th>\n",
       "      <th>atd</th>\n",
       "    </tr>\n",
       "  </thead>\n",
       "  <tbody>\n",
       "    <tr>\n",
       "      <th>0</th>\n",
       "      <td>🟠</td>\n",
       "      <td>Dawnftb</td>\n",
       "      <td>32.5</td>\n",
       "      <td>4</td>\n",
       "    </tr>\n",
       "    <tr>\n",
       "      <th>1</th>\n",
       "      <td>🟢</td>\n",
       "      <td>Oscarchoyzy24</td>\n",
       "      <td>51.8</td>\n",
       "      <td>4</td>\n",
       "    </tr>\n",
       "    <tr>\n",
       "      <th>2</th>\n",
       "      <td>🟠</td>\n",
       "      <td>shield_4545</td>\n",
       "      <td>24.3</td>\n",
       "      <td>3</td>\n",
       "    </tr>\n",
       "    <tr>\n",
       "      <th>3</th>\n",
       "      <td>🔵</td>\n",
       "      <td>polkomgyy44</td>\n",
       "      <td>59.2</td>\n",
       "      <td>4</td>\n",
       "    </tr>\n",
       "    <tr>\n",
       "      <th>4</th>\n",
       "      <td>🟢</td>\n",
       "      <td>Kazuyuki_Owen</td>\n",
       "      <td>50.6</td>\n",
       "      <td>5</td>\n",
       "    </tr>\n",
       "    <tr>\n",
       "      <th>...</th>\n",
       "      <td>...</td>\n",
       "      <td>...</td>\n",
       "      <td>...</td>\n",
       "      <td>...</td>\n",
       "    </tr>\n",
       "    <tr>\n",
       "      <th>84</th>\n",
       "      <td>🟠</td>\n",
       "      <td>Reopang</td>\n",
       "      <td>27.0</td>\n",
       "      <td>1</td>\n",
       "    </tr>\n",
       "    <tr>\n",
       "      <th>85</th>\n",
       "      <td>🔴</td>\n",
       "      <td>AERBUTE1</td>\n",
       "      <td>11.0</td>\n",
       "      <td>1</td>\n",
       "    </tr>\n",
       "    <tr>\n",
       "      <th>86</th>\n",
       "      <td>🟠</td>\n",
       "      <td>siwoo130212</td>\n",
       "      <td>24.0</td>\n",
       "      <td>1</td>\n",
       "    </tr>\n",
       "    <tr>\n",
       "      <th>87</th>\n",
       "      <td>🟡</td>\n",
       "      <td>Idea</td>\n",
       "      <td>37.0</td>\n",
       "      <td>1</td>\n",
       "    </tr>\n",
       "    <tr>\n",
       "      <th>88</th>\n",
       "      <td>🔵</td>\n",
       "      <td>mralex111012</td>\n",
       "      <td>60.0</td>\n",
       "      <td>1</td>\n",
       "    </tr>\n",
       "  </tbody>\n",
       "</table>\n",
       "<p>89 rows × 4 columns</p>\n",
       "</div>"
      ],
      "text/plain": [
       "   color_code           name   avg  atd\n",
       "0           🟠        Dawnftb  32.5    4\n",
       "1           🟢  Oscarchoyzy24  51.8    4\n",
       "2           🟠    shield_4545  24.3    3\n",
       "3           🔵    polkomgyy44  59.2    4\n",
       "4           🟢  Kazuyuki_Owen  50.6    5\n",
       "..        ...            ...   ...  ...\n",
       "84          🟠        Reopang  27.0    1\n",
       "85          🔴       AERBUTE1  11.0    1\n",
       "86          🟠    siwoo130212  24.0    1\n",
       "87          🟡           Idea  37.0    1\n",
       "88          🔵   mralex111012  60.0    1\n",
       "\n",
       "[89 rows x 4 columns]"
      ]
     },
     "execution_count": 17,
     "metadata": {},
     "output_type": "execute_result"
    }
   ],
   "source": [
    "df2 = pd.read_csv('avg.csv')\n",
    "df2"
   ]
  },
  {
   "cell_type": "code",
   "execution_count": 18,
   "metadata": {},
   "outputs": [],
   "source": [
    "df2.sort_values(ascending=False,by=\"avg\").to_csv(\"avg2.csv\",index=False)"
   ]
  },
  {
   "cell_type": "code",
   "execution_count": 19,
   "metadata": {},
   "outputs": [],
   "source": [
    "with open(\"avg2.csv\",\"a+\",encoding=\"utf-8\") as file:\n",
    "    file.write(\"The meaning of the colors are:\\n 🔴 = 0-20\\n 🟠 = 20-34\\n 🟡 = 35-44\\n 🟢 = 45-55\\n 🔵 = 56-100\")"
   ]
  },
  {
   "cell_type": "code",
   "execution_count": null,
   "metadata": {},
   "outputs": [],
   "source": [
    "df2[\"color_code\"].value_counts()\n",
    "with open(\"kda_info.csv\",\"w+\",encoding=\"utf-8\") as file:\n",
    "    file.write(df2[\"color_code\"].value_counts().to_string())"
   ]
  }
 ],
 "metadata": {
  "kernelspec": {
   "display_name": "Python 3",
   "language": "python",
   "name": "python3"
  },
  "language_info": {
   "codemirror_mode": {
    "name": "ipython",
    "version": 3
   },
   "file_extension": ".py",
   "mimetype": "text/x-python",
   "name": "python",
   "nbconvert_exporter": "python",
   "pygments_lexer": "ipython3",
   "version": "3.11.9"
  }
 },
 "nbformat": 4,
 "nbformat_minor": 2
}
